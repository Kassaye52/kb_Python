{
 "cells": [
  {
   "cell_type": "markdown",
   "metadata": {},
   "source": [
    "# 1. How To Plot Data in Python 3 Using matplotlib\n",
    "#### Published on November 7, 2016"
   ]
  },
  {
   "cell_type": "code",
   "execution_count": 1,
   "metadata": {},
   "outputs": [
    {
     "data": {
      "image/png": "[encoded data removed]",
      "text/plain": [
       "<Figure size 432x288 with 1 Axes>"
      ]
     },
     "metadata": {
      "needs_background": "light"
     },
     "output_type": "display_data"
    }
   ],
   "source": [
    "import matplotlib.pyplot as plt\n",
    "\n",
    "\n",
    "X = [590,540,740,130,810,300,320,230,470,620,770,250]\n",
    "Y = [32,36,39,52,61,72,77,75,68,57,48,48]\n",
    "\n",
    "#scatter plot\n",
    "plt.scatter(X, Y, s=60, c='red', marker='^')\n",
    "\n",
    "#change axes ranges\n",
    "plt.xlim(0,1000)\n",
    "plt.ylim(0,100)\n",
    "\n",
    "#add title\n",
    "plt.title('Relationship Between Temperature and Iced Coffee Sales')\n",
    "\n",
    "#add x and y labels\n",
    "plt.xlabel('Cups of Iced Coffee Sold')\n",
    "plt.ylabel('Temperature in Fahrenheit')\n",
    "\n",
    "#show plot\n",
    "plt.show()"
   ]
  },
  {
   "cell_type": "markdown",
   "metadata": {},
   "source": [
    "# 2. How To Install the pandas Package and Work with Data Structures in Python 3\n",
    " ### Published on February 10, 2017"
   ]
  },
  {
   "cell_type": "code",
   "execution_count": 2,
   "metadata": {},
   "outputs": [
    {
     "data": {
      "text/plain": [
       "0     0\n",
       "1     1\n",
       "2     4\n",
       "3     9\n",
       "4    16\n",
       "5    25\n",
       "Name: Squares, dtype: int64"
      ]
     },
     "execution_count": 2,
     "metadata": {},
     "output_type": "execute_result"
    }
   ],
   "source": [
    "import numpy as np\n",
    "import pandas as pd\n",
    "\n",
    "s  = pd.Series([0, 1, 4, 9, 16, 25], name = \"Squares\")\n",
    "s"
   ]
  },
  {
   "cell_type": "code",
   "execution_count": 3,
   "metadata": {},
   "outputs": [
    {
     "data": {
      "text/plain": [
       "Arctic      1205\n",
       "Atlantic    3646\n",
       "Indian      3741\n",
       "Pacific     4080\n",
       "Southern    3270\n",
       "dtype: int64"
      ]
     },
     "execution_count": 3,
     "metadata": {},
     "output_type": "execute_result"
    }
   ],
   "source": [
    "avg_ocean_depth = pd.Series([1205, 3646, 3741, 4080, 3270], index=['Arctic',  'Atlantic', 'Indian', 'Pacific', 'Southern'])\n",
    "avg_ocean_depth"
   ]
  },
  {
   "cell_type": "code",
   "execution_count": 4,
   "metadata": {},
   "outputs": [
    {
     "data": {
      "text/plain": [
       "3741"
      ]
     },
     "execution_count": 4,
     "metadata": {},
     "output_type": "execute_result"
    }
   ],
   "source": [
    "# Indexing and Slicing Series\n",
    "avg_ocean_depth[2]"
   ]
  },
  {
   "cell_type": "code",
   "execution_count": 5,
   "metadata": {},
   "outputs": [
    {
     "data": {
      "text/plain": [
       "Indian     3741\n",
       "Pacific    4080\n",
       "dtype: int64"
      ]
     },
     "execution_count": 5,
     "metadata": {},
     "output_type": "execute_result"
    }
   ],
   "source": [
    "avg_ocean_depth[2:4]"
   ]
  },
  {
   "cell_type": "code",
   "execution_count": 6,
   "metadata": {},
   "outputs": [
    {
     "data": {
      "text/plain": [
       "3741"
      ]
     },
     "execution_count": 6,
     "metadata": {},
     "output_type": "execute_result"
    }
   ],
   "source": [
    "avg_ocean_depth[\"Indian\"]"
   ]
  },
  {
   "cell_type": "code",
   "execution_count": 7,
   "metadata": {},
   "outputs": [
    {
     "data": {
      "text/plain": [
       "Indian      3741\n",
       "Pacific     4080\n",
       "Southern    3270\n",
       "dtype: int64"
      ]
     },
     "execution_count": 7,
     "metadata": {},
     "output_type": "execute_result"
    }
   ],
   "source": [
    "avg_ocean_depth[\"Indian\": \"Southern\"]"
   ]
  },
  {
   "cell_type": "markdown",
   "metadata": {},
   "source": [
    "#### **Series Initialized with Dictionaries**"
   ]
  },
  {
   "cell_type": "code",
   "execution_count": 8,
   "metadata": {},
   "outputs": [
    {
     "name": "stdout",
     "output_type": "stream",
     "text": [
      "Arctic      1205\n",
      "Atlantic    3646\n",
      "Indian      3741\n",
      "Pacific     4080\n",
      "Southern    3270\n",
      "dtype: int64\n"
     ]
    }
   ],
   "source": [
    "import numpy as np\n",
    "import pandas as pd\n",
    "\n",
    "avg_ocean_depth = pd.Series({\"Arctic\":1205,\n",
    "                             \"Atlantic\": 3646,\n",
    "                             \"Indian\": 3741,\n",
    "                             \"Pacific\": 4080,\n",
    "                             \"Southern\": 3270\n",
    "})\n",
    "\n",
    "print(avg_ocean_depth)"
   ]
  },
  {
   "cell_type": "code",
   "execution_count": 9,
   "metadata": {},
   "outputs": [
    {
     "name": "stdout",
     "output_type": "stream",
     "text": [
      "3741\n",
      "Atlantic    3646\n",
      "Indian      3741\n",
      "dtype: int64\n"
     ]
    }
   ],
   "source": [
    "print(avg_ocean_depth['Indian'])\n",
    "print(avg_ocean_depth['Atlantic':'Indian'])"
   ]
  },
  {
   "cell_type": "markdown",
   "metadata": {},
   "source": [
    "### **DataFrames**"
   ]
  },
  {
   "cell_type": "code",
   "execution_count": 10,
   "metadata": {},
   "outputs": [],
   "source": [
    "import numpy as np\n",
    "import pandas as pd\n",
    "\n",
    "\n",
    "avg_ocean_depth = pd.Series({\n",
    "                    'Arctic': 1205,\n",
    "                    'Atlantic': 3646,\n",
    "                    'Indian': 3741,\n",
    "                    'Pacific': 4080,\n",
    "                    'Southern': 3270\n",
    "})\n",
    "\n",
    "max_ocean_depth = pd.Series({\n",
    "                    'Arctic': 5567,\n",
    "                    'Atlantic': 8486,\n",
    "                    'Indian': 7906,\n",
    "                    'Pacific': 10803,\n",
    "                    'Southern': 7075\n",
    "})"
   ]
  },
  {
   "cell_type": "code",
   "execution_count": 11,
   "metadata": {},
   "outputs": [
    {
     "name": "stdout",
     "output_type": "stream",
     "text": [
      "          Avg. Depth (m)  Max. Depth (m)\n",
      "Arctic              1205            5567\n",
      "Atlantic            3646            8486\n",
      "Indian              3741            7906\n",
      "Pacific             4080           10803\n",
      "Southern            3270            7075\n"
     ]
    }
   ],
   "source": [
    "ocean_depths = pd.DataFrame({\n",
    "    \"Avg. Depth (m)\": avg_ocean_depth,\n",
    "    \"Max. Depth (m)\": max_ocean_depth\n",
    "})\n",
    "print(ocean_depths)"
   ]
  },
  {
   "cell_type": "code",
   "execution_count": 13,
   "metadata": {},
   "outputs": [
    {
     "name": "stdout",
     "output_type": "stream",
     "text": [
      "          Avg. Depth (m)  Max. Depth (m)\n",
      "Arctic              1205            5567\n",
      "Southern            3270            7075\n",
      "Atlantic            3646            8486\n",
      "Indian              3741            7906\n",
      "Pacific             4080           10803\n"
     ]
    }
   ],
   "source": [
    "# Sorting a Data in DataFrames\n",
    "print(ocean_depths.sort_values(\"Avg. Depth (m)\", ascending=True))"
   ]
  },
  {
   "cell_type": "code",
   "execution_count": 14,
   "metadata": {},
   "outputs": [
    {
     "data": {
      "text/html": [
       "<div>\n",
       "<style scoped>\n",
       "    .dataframe tbody tr th:only-of-type {\n",
       "        vertical-align: middle;\n",
       "    }\n",
       "\n",
       "    .dataframe tbody tr th {\n",
       "        vertical-align: top;\n",
       "    }\n",
       "\n",
       "    .dataframe thead th {\n",
       "        text-align: right;\n",
       "    }\n",
       "</style>\n",
       "<table border=\"1\" class=\"dataframe\">\n",
       "  <thead>\n",
       "    <tr style=\"text-align: right;\">\n",
       "      <th></th>\n",
       "      <th>Avg. Depth (m)</th>\n",
       "      <th>Max. Depth (m)</th>\n",
       "    </tr>\n",
       "  </thead>\n",
       "  <tbody>\n",
       "    <tr>\n",
       "      <th>count</th>\n",
       "      <td>5.000000</td>\n",
       "      <td>5.000000</td>\n",
       "    </tr>\n",
       "    <tr>\n",
       "      <th>mean</th>\n",
       "      <td>3188.400000</td>\n",
       "      <td>7967.400000</td>\n",
       "    </tr>\n",
       "    <tr>\n",
       "      <th>std</th>\n",
       "      <td>1145.671113</td>\n",
       "      <td>1928.188347</td>\n",
       "    </tr>\n",
       "    <tr>\n",
       "      <th>min</th>\n",
       "      <td>1205.000000</td>\n",
       "      <td>5567.000000</td>\n",
       "    </tr>\n",
       "    <tr>\n",
       "      <th>25%</th>\n",
       "      <td>3270.000000</td>\n",
       "      <td>7075.000000</td>\n",
       "    </tr>\n",
       "    <tr>\n",
       "      <th>50%</th>\n",
       "      <td>3646.000000</td>\n",
       "      <td>7906.000000</td>\n",
       "    </tr>\n",
       "    <tr>\n",
       "      <th>75%</th>\n",
       "      <td>3741.000000</td>\n",
       "      <td>8486.000000</td>\n",
       "    </tr>\n",
       "    <tr>\n",
       "      <th>max</th>\n",
       "      <td>4080.000000</td>\n",
       "      <td>10803.000000</td>\n",
       "    </tr>\n",
       "  </tbody>\n",
       "</table>\n",
       "</div>"
      ],
      "text/plain": [
       "       Avg. Depth (m)  Max. Depth (m)\n",
       "count        5.000000        5.000000\n",
       "mean      3188.400000     7967.400000\n",
       "std       1145.671113     1928.188347\n",
       "min       1205.000000     5567.000000\n",
       "25%       3270.000000     7075.000000\n",
       "50%       3646.000000     7906.000000\n",
       "75%       3741.000000     8486.000000\n",
       "max       4080.000000    10803.000000"
      ]
     },
     "execution_count": 14,
     "metadata": {},
     "output_type": "execute_result"
    }
   ],
   "source": [
    "# Statistical Analysis with DataFrames\n",
    "ocean_depths.describe()"
   ]
  },
  {
   "cell_type": "code",
   "execution_count": 15,
   "metadata": {},
   "outputs": [
    {
     "name": "stdout",
     "output_type": "stream",
     "text": [
      "  first_name      last_name online  followers\n",
      "0      Sammy          Shark   True      987.0\n",
      "1      Jesse        Octopus    NaN      432.0\n",
      "2        NaN            NaN  False      321.0\n",
      "3      Jamie  Mantis shrimp   True        NaN\n"
     ]
    }
   ],
   "source": [
    "# Handling Missing Values\n",
    "import numpy as np\n",
    "import pandas as pd\n",
    "\n",
    "\n",
    "user_data = {'first_name': ['Sammy', 'Jesse', np.nan, 'Jamie'],\n",
    "        'last_name': ['Shark', 'Octopus', np.nan, 'Mantis shrimp'],\n",
    "        'online': [True, np.nan, False, True],\n",
    "        'followers': [987, 432, 321, np.nan]}\n",
    "\n",
    "df = pd.DataFrame(user_data, columns = ['first_name', 'last_name', 'online', 'followers'])\n",
    "\n",
    "print(df)"
   ]
  },
  {
   "cell_type": "code",
   "execution_count": 17,
   "metadata": {},
   "outputs": [
    {
     "data": {
      "text/html": [
       "<div>\n",
       "<style scoped>\n",
       "    .dataframe tbody tr th:only-of-type {\n",
       "        vertical-align: middle;\n",
       "    }\n",
       "\n",
       "    .dataframe tbody tr th {\n",
       "        vertical-align: top;\n",
       "    }\n",
       "\n",
       "    .dataframe thead th {\n",
       "        text-align: right;\n",
       "    }\n",
       "</style>\n",
       "<table border=\"1\" class=\"dataframe\">\n",
       "  <thead>\n",
       "    <tr style=\"text-align: right;\">\n",
       "      <th></th>\n",
       "      <th>first_name</th>\n",
       "      <th>last_name</th>\n",
       "      <th>online</th>\n",
       "      <th>followers</th>\n",
       "    </tr>\n",
       "  </thead>\n",
       "  <tbody>\n",
       "    <tr>\n",
       "      <th>0</th>\n",
       "      <td>Sammy</td>\n",
       "      <td>Shark</td>\n",
       "      <td>True</td>\n",
       "      <td>987.0</td>\n",
       "    </tr>\n",
       "  </tbody>\n",
       "</table>\n",
       "</div>"
      ],
      "text/plain": [
       "  first_name last_name online  followers\n",
       "0      Sammy     Shark   True      987.0"
      ]
     },
     "execution_count": 17,
     "metadata": {},
     "output_type": "execute_result"
    }
   ],
   "source": [
    "df_drop_missing = df.dropna()\n",
    "df_drop_missing"
   ]
  },
  {
   "cell_type": "code",
   "execution_count": 19,
   "metadata": {},
   "outputs": [
    {
     "data": {
      "text/html": [
       "<div>\n",
       "<style scoped>\n",
       "    .dataframe tbody tr th:only-of-type {\n",
       "        vertical-align: middle;\n",
       "    }\n",
       "\n",
       "    .dataframe tbody tr th {\n",
       "        vertical-align: top;\n",
       "    }\n",
       "\n",
       "    .dataframe thead th {\n",
       "        text-align: right;\n",
       "    }\n",
       "</style>\n",
       "<table border=\"1\" class=\"dataframe\">\n",
       "  <thead>\n",
       "    <tr style=\"text-align: right;\">\n",
       "      <th></th>\n",
       "      <th>first_name</th>\n",
       "      <th>last_name</th>\n",
       "      <th>online</th>\n",
       "      <th>followers</th>\n",
       "    </tr>\n",
       "  </thead>\n",
       "  <tbody>\n",
       "    <tr>\n",
       "      <th>0</th>\n",
       "      <td>Sammy</td>\n",
       "      <td>Shark</td>\n",
       "      <td>True</td>\n",
       "      <td>987.0</td>\n",
       "    </tr>\n",
       "    <tr>\n",
       "      <th>1</th>\n",
       "      <td>Jesse</td>\n",
       "      <td>Octopus</td>\n",
       "      <td>0</td>\n",
       "      <td>432.0</td>\n",
       "    </tr>\n",
       "    <tr>\n",
       "      <th>2</th>\n",
       "      <td>0</td>\n",
       "      <td>0</td>\n",
       "      <td>False</td>\n",
       "      <td>321.0</td>\n",
       "    </tr>\n",
       "    <tr>\n",
       "      <th>3</th>\n",
       "      <td>Jamie</td>\n",
       "      <td>Mantis shrimp</td>\n",
       "      <td>True</td>\n",
       "      <td>0.0</td>\n",
       "    </tr>\n",
       "  </tbody>\n",
       "</table>\n",
       "</div>"
      ],
      "text/plain": [
       "  first_name      last_name online  followers\n",
       "0      Sammy          Shark   True      987.0\n",
       "1      Jesse        Octopus      0      432.0\n",
       "2          0              0  False      321.0\n",
       "3      Jamie  Mantis shrimp   True        0.0"
      ]
     },
     "execution_count": 19,
     "metadata": {},
     "output_type": "execute_result"
    }
   ],
   "source": [
    "df_fill = df.fillna(0)\n",
    "df_fill"
   ]
  },
  {
   "cell_type": "code",
   "execution_count": 20,
   "metadata": {},
   "outputs": [
    {
     "data": {
      "text/html": [
       "<div>\n",
       "<style scoped>\n",
       "    .dataframe tbody tr th:only-of-type {\n",
       "        vertical-align: middle;\n",
       "    }\n",
       "\n",
       "    .dataframe tbody tr th {\n",
       "        vertical-align: top;\n",
       "    }\n",
       "\n",
       "    .dataframe thead th {\n",
       "        text-align: right;\n",
       "    }\n",
       "</style>\n",
       "<table border=\"1\" class=\"dataframe\">\n",
       "  <thead>\n",
       "    <tr style=\"text-align: right;\">\n",
       "      <th></th>\n",
       "      <th>followers</th>\n",
       "    </tr>\n",
       "  </thead>\n",
       "  <tbody>\n",
       "    <tr>\n",
       "      <th>count</th>\n",
       "      <td>4.000000</td>\n",
       "    </tr>\n",
       "    <tr>\n",
       "      <th>mean</th>\n",
       "      <td>435.000000</td>\n",
       "    </tr>\n",
       "    <tr>\n",
       "      <th>std</th>\n",
       "      <td>411.069337</td>\n",
       "    </tr>\n",
       "    <tr>\n",
       "      <th>min</th>\n",
       "      <td>0.000000</td>\n",
       "    </tr>\n",
       "    <tr>\n",
       "      <th>25%</th>\n",
       "      <td>240.750000</td>\n",
       "    </tr>\n",
       "    <tr>\n",
       "      <th>50%</th>\n",
       "      <td>376.500000</td>\n",
       "    </tr>\n",
       "    <tr>\n",
       "      <th>75%</th>\n",
       "      <td>570.750000</td>\n",
       "    </tr>\n",
       "    <tr>\n",
       "      <th>max</th>\n",
       "      <td>987.000000</td>\n",
       "    </tr>\n",
       "  </tbody>\n",
       "</table>\n",
       "</div>"
      ],
      "text/plain": [
       "        followers\n",
       "count    4.000000\n",
       "mean   435.000000\n",
       "std    411.069337\n",
       "min      0.000000\n",
       "25%    240.750000\n",
       "50%    376.500000\n",
       "75%    570.750000\n",
       "max    987.000000"
      ]
     },
     "execution_count": 20,
     "metadata": {},
     "output_type": "execute_result"
    }
   ],
   "source": [
    "df_fill.describe()"
   ]
  },
  {
   "cell_type": "markdown",
   "metadata": {},
   "source": [
    "# 3. How To Graph Word Frequency Using matplotlib with Python 3\n",
    "### Published on February 17, 2017"
   ]
  },
  {
   "cell_type": "code",
   "execution_count": null,
   "metadata": {},
   "outputs": [],
   "source": [
    "# Step 1 — Setting Up the Program File\n",
    "import matplotlib.pyplot as plt\n",
    "import sys\n",
    "import operator\n",
    "import argparse\n",
    "\n",
    "# Step 2 – Setting Up the Argument Parser\n",
    "def main():\n",
    "    parser = argparse.ArgumentParser()\n",
    "    parser.add_argument(\n",
    "        \"word\",\n",
    "        help=\"the word to be searched for in the text file.\"\n",
    "    )\n",
    "    parser.add_argument(\n",
    "        \"filename\",\n",
    "        help=\"the path to the text file to be searched through\"\n",
    "    )\n",
    "    args = parser.parse_args()\n",
    "    try:\n",
    "        open(args.filename)\n",
    "    except FileNotFoundError:\n",
    "        sys.stderr.write(\"Error: \" + args.filename + \" does not exist!\")\n",
    "        sys.exit(1)\n",
    "    word_freq(args.word, args.filename)\n",
    "\n",
    "# Step 3 — Parsing the File\n",
    "def word_freq(word, filename):\n",
    "    doc = {}\n",
    "    for line in open(filename):\n",
    "        split = line.split(\" \")\n",
    "        for entry in split:\n",
    "            if (doc.__contains__(entry)):\n",
    "                doc[entry] = int(doc.get(entry)) + 1\n",
    "            else:\n",
    "                doc[entry] = 1\n",
    "                if (not word in doc):\n",
    "                    sys.stderr.write(\"Error: \" + word + \" does not appear in \" + filename)\n",
    "                    sys.exit(1)\n",
    "\n",
    "                sorted_doc = (sorted(doc.items(), key = operator.itemgetter(1)))[::-1]\n",
    "                just_the_occur = []\n",
    "                just_the_rank = []\n",
    "                word_rank = 0\n",
    "                word_frequency = 0\n",
    "                \n",
    "if __name__ == \"__main__\":\n",
    "    main()"
   ]
  },
  {
   "cell_type": "code",
   "execution_count": 21,
   "metadata": {},
   "outputs": [
    {
     "name": "stderr",
     "output_type": "stream",
     "text": [
      "usage: ipykernel_launcher.py [-h] word filename\n",
      "ipykernel_launcher.py: error: the following arguments are required: word, filename\n"
     ]
    },
    {
     "ename": "SystemExit",
     "evalue": "2",
     "output_type": "error",
     "traceback": [
      "An exception has occurred, use %tb to see the full traceback.\n",
      "\u001b[0;31mSystemExit\u001b[0m\u001b[0;31m:\u001b[0m 2\n"
     ]
    },
    {
     "name": "stderr",
     "output_type": "stream",
     "text": [
      "/Users/kassayebelay/opt/anaconda3/lib/python3.9/site-packages/IPython/core/interactiveshell.py:3452: UserWarning: To exit: use 'exit', 'quit', or Ctrl-D.\n",
      "  warn(\"To exit: use 'exit', 'quit', or Ctrl-D.\", stacklevel=1)\n"
     ]
    }
   ],
   "source": [
    "import matplotlib.pyplot as plt\n",
    "import sys\n",
    "import operator\n",
    "import argparse\n",
    "\n",
    "\n",
    "def main():\n",
    "    parser = argparse.ArgumentParser()\n",
    "    parser.add_argument(\n",
    "        \"word\",\n",
    "        help=\"the word to be searched for in the text file.\"\n",
    "    )\n",
    "    parser.add_argument(\n",
    "        \"filename\",\n",
    "        help=\"the path to the text file to be searched through\"\n",
    "    )\n",
    "\n",
    "    args = parser.parse_args()\n",
    "\n",
    "    try:\n",
    "        open(args.filename)\n",
    "    except FileNotFoundError:\n",
    "\n",
    "        # Custom error print\n",
    "        sys.stderr.write(\"Error: \" + args.filename + \" does not exist!\")\n",
    "        sys.exit(1)\n",
    "\n",
    "    word_freq(args.word, args.filename)\n",
    "\n",
    "\n",
    "def word_freq(word, filename):\n",
    "    doc = {}\n",
    "\n",
    "    for line in open(filename):\n",
    "\n",
    "        # Assume each word is separated by a space\n",
    "        split = line.split(' ')\n",
    "        for entry in split:\n",
    "            if (doc.__contains__(entry)):\n",
    "                doc[entry] = int(doc.get(entry)) + 1\n",
    "            else:\n",
    "                doc[entry] = 1\n",
    "\n",
    "    if (word not in doc):\n",
    "        sys.stderr.write(\"Error: \" + word + \" does not appear in \" + filename)\n",
    "        sys.exit(1)\n",
    "\n",
    "    sorted_doc = (sorted(doc.items(), key=operator.itemgetter(1)))[::-1]\n",
    "    just_the_occur = []\n",
    "    just_the_rank = []\n",
    "    word_rank = 0\n",
    "    word_frequency = 0\n",
    "\n",
    "    entry_num = 1\n",
    "    for entry in sorted_doc:\n",
    "\n",
    "        if (entry[0] == word):\n",
    "            word_rank = entry_num\n",
    "            word_frequency = entry[1]\n",
    "\n",
    "        just_the_rank.append(entry_num)\n",
    "        entry_num += 1\n",
    "        just_the_occur.append(entry[1])\n",
    "\n",
    "    plt.title(\"Word Frequencies in \" + filename)\n",
    "    plt.ylabel(\"Total Number of Occurrences\")\n",
    "    plt.xlabel(\"Rank of word(\\\"\" + word + \"\\\" is rank \" + str(word_rank) + \")\")\n",
    "    plt.loglog(just_the_rank, just_the_occur, basex=10)\n",
    "    plt.scatter(\n",
    "        [word_rank],\n",
    "        [word_frequency],\n",
    "        color=\"orange\",\n",
    "        marker=\"*\",\n",
    "        s=100,\n",
    "        label=word\n",
    "    )\n",
    "    plt.show()\n",
    "\n",
    "if __name__ == \"__main__\":\n",
    "    main()"
   ]
  },
  {
   "cell_type": "code",
   "execution_count": 8,
   "metadata": {},
   "outputs": [
    {
     "ename": "SyntaxError",
     "evalue": "EOL while scanning string literal (3971590634.py, line 6)",
     "output_type": "error",
     "traceback": [
      "\u001b[0;36m  File \u001b[0;32m\"/var/folders/76/xs74b8wd5y1d4jslcyz534sh0000gn/T/ipykernel_1032/3971590634.py\"\u001b[0;36m, line \u001b[0;32m6\u001b[0m\n\u001b[0;31m    r\"$W^{3\\beta}_{\\delta_1 \\rho_1 \\sigma_2} = U^{3\\beta}_{\\delta_1 \\rho_1} + \\frac{1}\u001b[0m\n\u001b[0m                                                                                      ^\u001b[0m\n\u001b[0;31mSyntaxError\u001b[0m\u001b[0;31m:\u001b[0m EOL while scanning string literal\n"
     ]
    }
   ],
   "source": [
    "import matplotlib.pyplot as plt\n",
    "import numpy as np\n",
    "\n",
    "eqs = []\n",
    "eqs.append(\n",
    "r\"$W^{3\\beta}_{\\delta_1 \\rho_1 \\sigma_2} = U^{3\\beta}_{\\delta_1 \\rho_1} + \\frac{1}\n",
    "{8 \\pi 2} \\int^{\\alpha_2}_{\\alpha_2} d \\alpha^\\prime_2 \\left[\\frac{ U^{2\\beta}_{\\\n",
    "delta_1 \\rho_1} - \\alpha^\\prime_2U^{1\\beta}_{\\rho_1 \\sigma_2} }{U^{0\\beta}_{\\rho_1 \\\n",
    "sigma_2}}\\right]$\"\n",
    ")\n",
    "eqs.append(\n",
    "r\"$\\frac{d\\rho}{d t} + \\rho \\vec{v} \\cdot\\nabla\\vec{v} = -\\nabla p + \\mu\\nabla^2 \\\n",
    "˓→vec{v} + \\rho \\vec{g} $\"\n",
    ")\n",
    "eqs.append(r\"$\\int_{-\\infty}^\\infty e^{-x^2}dx=\\sqrt{\\pi}$\")\n",
    "eqs.append(r\"$E = mc^2 = \\sqrt{{m_0}^2c^4 + p^2c^2}$\")\n",
    "eqs.append(r\"$F_G = G\\frac{m_1m_2} {r^2}$\")\n",
    "plt.axes([0.025, 0.025, 0.95, 0.95])"
   ]
  },
  {
   "cell_type": "code",
   "execution_count": 7,
   "metadata": {},
   "outputs": [
    {
     "ename": "NameError",
     "evalue": "name 'eqs' is not defined",
     "output_type": "error",
     "traceback": [
      "\u001b[0;31m---------------------------------------------------------------------------\u001b[0m",
      "\u001b[0;31mNameError\u001b[0m                                 Traceback (most recent call last)",
      "\u001b[0;32m/var/folders/76/xs74b8wd5y1d4jslcyz534sh0000gn/T/ipykernel_1032/719962856.py\u001b[0m in \u001b[0;36m<module>\u001b[0;34m\u001b[0m\n\u001b[1;32m      4\u001b[0m \u001b[0mrng\u001b[0m \u001b[0;34m=\u001b[0m \u001b[0mnp\u001b[0m\u001b[0;34m.\u001b[0m\u001b[0mrandom\u001b[0m\u001b[0;34m.\u001b[0m\u001b[0mdefault_rng\u001b[0m\u001b[0;34m(\u001b[0m\u001b[0;34m)\u001b[0m\u001b[0;34m\u001b[0m\u001b[0;34m\u001b[0m\u001b[0m\n\u001b[1;32m      5\u001b[0m \u001b[0;32mfor\u001b[0m \u001b[0mi\u001b[0m \u001b[0;32min\u001b[0m \u001b[0mrange\u001b[0m\u001b[0;34m(\u001b[0m\u001b[0;36m24\u001b[0m\u001b[0;34m)\u001b[0m\u001b[0;34m:\u001b[0m\u001b[0;34m\u001b[0m\u001b[0;34m\u001b[0m\u001b[0m\n\u001b[0;32m----> 6\u001b[0;31m     \u001b[0mindex\u001b[0m \u001b[0;34m=\u001b[0m \u001b[0mrng\u001b[0m\u001b[0;34m.\u001b[0m\u001b[0mintegers\u001b[0m\u001b[0;34m(\u001b[0m\u001b[0;36m0\u001b[0m\u001b[0;34m,\u001b[0m \u001b[0mlen\u001b[0m\u001b[0;34m(\u001b[0m\u001b[0meqs\u001b[0m\u001b[0;34m)\u001b[0m\u001b[0;34m)\u001b[0m\u001b[0;34m\u001b[0m\u001b[0;34m\u001b[0m\u001b[0m\n\u001b[0m\u001b[1;32m      7\u001b[0m     \u001b[0meq\u001b[0m \u001b[0;34m=\u001b[0m \u001b[0meqs\u001b[0m\u001b[0;34m[\u001b[0m\u001b[0mindex\u001b[0m\u001b[0;34m]\u001b[0m\u001b[0;34m\u001b[0m\u001b[0;34m\u001b[0m\u001b[0m\n\u001b[1;32m      8\u001b[0m     \u001b[0msize\u001b[0m \u001b[0;34m=\u001b[0m \u001b[0mnp\u001b[0m\u001b[0;34m.\u001b[0m\u001b[0mrandom\u001b[0m\u001b[0;34m.\u001b[0m\u001b[0muniform\u001b[0m\u001b[0;34m(\u001b[0m\u001b[0;36m12\u001b[0m\u001b[0;34m,\u001b[0m \u001b[0;36m32\u001b[0m\u001b[0;34m)\u001b[0m\u001b[0;34m\u001b[0m\u001b[0;34m\u001b[0m\u001b[0m\n",
      "\u001b[0;31mNameError\u001b[0m: name 'eqs' is not defined"
     ]
    }
   ],
   "source": [
    "import matplotlib.pyplot as plt\n",
    "import numpy as np\n",
    "\n",
    "rng = np.random.default_rng()\n",
    "for i in range(24):\n",
    "    index = rng.integers(0, len(eqs))\n",
    "    eq = eqs[index]\n",
    "    size = np.random.uniform(12, 32)\n",
    "    x, y = np.random.uniform(0, 1, 2)\n",
    "    alpha = np.random.uniform(0.25, 0.75)\n",
    "    plt.text(\n",
    "    x,\n",
    "    y,\n",
    "    eq,\n",
    "    ha=\"center\",\n",
    "    va=\"center\",\n",
    "    color=\"#11557c\",\n",
    "    alpha=alpha,\n",
    "    transform=plt.gca().transAxes,\n",
    "    fontsize=size,\n",
    "    clip_on=True,\n",
    "    )\n",
    "plt.xticks([])\n",
    "plt.yticks([])\n",
    "plt.show()"
   ]
  },
  {
   "cell_type": "code",
   "execution_count": null,
   "metadata": {},
   "outputs": [],
   "source": []
  }
 ],
 "metadata": {
  "kernelspec": {
   "display_name": "base",
   "language": "python",
   "name": "python3"
  },
  "language_info": {
   "codemirror_mode": {
    "name": "ipython",
    "version": 3
   },
   "file_extension": ".py",
   "mimetype": "text/x-python",
   "name": "python",
   "nbconvert_exporter": "python",
   "pygments_lexer": "ipython3",
   "version": "3.9.7"
  }
 },
 "nbformat": 4,
 "nbformat_minor": 2
}
