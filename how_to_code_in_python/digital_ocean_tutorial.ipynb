{
 "cells": [
  {
   "cell_type": "markdown",
   "metadata": {},
   "source": [
    "# How To Plot Data in Python 3 Using matplotlib\n",
    "#### Published on November 7, 2016"
   ]
  },
  {
   "cell_type": "code",
   "execution_count": 1,
   "metadata": {},
   "outputs": [
    {
     "data": {
      "image/png": "[encoded data removed]",
      "text/plain": [
       "<Figure size 432x288 with 1 Axes>"
      ]
     },
     "metadata": {
      "needs_background": "light"
     },
     "output_type": "display_data"
    }
   ],
   "source": [
    "import matplotlib.pyplot as plt\n",
    "\n",
    "\n",
    "X = [590,540,740,130,810,300,320,230,470,620,770,250]\n",
    "Y = [32,36,39,52,61,72,77,75,68,57,48,48]\n",
    "\n",
    "#scatter plot\n",
    "plt.scatter(X, Y, s=60, c='red', marker='^')\n",
    "\n",
    "#change axes ranges\n",
    "plt.xlim(0,1000)\n",
    "plt.ylim(0,100)\n",
    "\n",
    "#add title\n",
    "plt.title('Relationship Between Temperature and Iced Coffee Sales')\n",
    "\n",
    "#add x and y labels\n",
    "plt.xlabel('Cups of Iced Coffee Sold')\n",
    "plt.ylabel('Temperature in Fahrenheit')\n",
    "\n",
    "#show plot\n",
    "plt.show()"
   ]
  },
  {
   "cell_type": "markdown",
   "metadata": {},
   "source": [
    "# How To Install the pandas Package and Work with Data Structures in Python 3\n",
    " ### Published on February 10, 2017"
   ]
  },
  {
   "cell_type": "code",
   "execution_count": null,
   "metadata": {},
   "outputs": [],
   "source": []
  },
  {
   "cell_type": "code",
   "execution_count": 1,
   "metadata": {},
   "outputs": [
    {
     "name": "stdout",
     "output_type": "stream",
     "text": [
      "pygame 2.5.2 (SDL 2.28.3, Python 3.9.7)\n",
      "Hello from the pygame community. https://www.pygame.org/contribute.html\n"
     ]
    },
    {
     "ename": "error",
     "evalue": "video system not initialized",
     "output_type": "error",
     "traceback": [
      "\u001b[0;31m---------------------------------------------------------------------------\u001b[0m",
      "\u001b[0;31merror\u001b[0m                                     Traceback (most recent call last)",
      "\u001b[0;32m/var/folders/76/xs74b8wd5y1d4jslcyz534sh0000gn/T/ipykernel_1507/2059898737.py\u001b[0m in \u001b[0;36m<module>\u001b[0;34m\u001b[0m\n\u001b[1;32m     25\u001b[0m     \u001b[0mevent_handler\u001b[0m\u001b[0;34m(\u001b[0m\u001b[0;34m)\u001b[0m\u001b[0;34m\u001b[0m\u001b[0;34m\u001b[0m\u001b[0m\n\u001b[1;32m     26\u001b[0m \u001b[0;34m\u001b[0m\u001b[0m\n\u001b[0;32m---> 27\u001b[0;31m     \u001b[0mpygame\u001b[0m\u001b[0;34m.\u001b[0m\u001b[0mdisplay\u001b[0m\u001b[0;34m.\u001b[0m\u001b[0mupdate\u001b[0m\u001b[0;34m(\u001b[0m\u001b[0;34m)\u001b[0m\u001b[0;34m\u001b[0m\u001b[0;34m\u001b[0m\u001b[0m\n\u001b[0m",
      "\u001b[0;31merror\u001b[0m: video system not initialized"
     ]
    },
    {
     "ename": "",
     "evalue": "",
     "output_type": "error",
     "traceback": [
      "\u001b[1;31mThe Kernel crashed while executing code in the current cell or a previous cell. \n",
      "\u001b[1;31mPlease review the code in the cell(s) to identify a possible cause of the failure. \n",
      "\u001b[1;31mClick <a href='https://aka.ms/vscodeJupyterKernelCrash'>here</a> for more info. \n",
      "\u001b[1;31mView Jupyter <a href='command:jupyter.viewOutput'>log</a> for further details."
     ]
    }
   ],
   "source": [
    "import pygame\n",
    "from pygame.locals import *\n",
    " \n",
    " \n",
    "pygame.init()\n",
    " \n",
    "display_width = 800\n",
    "display_height = 600\n",
    " \n",
    "game_display = pygame.display.set_mode((display_width, display_height))\n",
    "pygame.display.set_caption('Our Game')\n",
    " \n",
    " \n",
    "def event_handler():\n",
    "    for event in pygame.event.get():\n",
    "        if event.type == QUIT or (\n",
    "             event.type == KEYDOWN and (\n",
    "              event.key == K_ESCAPE or\n",
    "              event.key == K_q\n",
    "             )):\n",
    "            pygame.quit()\n",
    "            quit()\n",
    " \n",
    "while True:\n",
    "    event_handler()\n",
    " \n",
    "    pygame.display.update()"
   ]
  }
 ],
 "metadata": {
  "kernelspec": {
   "display_name": "base",
   "language": "python",
   "name": "python3"
  },
  "language_info": {
   "codemirror_mode": {
    "name": "ipython",
    "version": 3
   },
   "file_extension": ".py",
   "mimetype": "text/x-python",
   "name": "python",
   "nbconvert_exporter": "python",
   "pygments_lexer": "ipython3",
   "version": "3.9.7"
  }
 },
 "nbformat": 4,
 "nbformat_minor": 2
}
