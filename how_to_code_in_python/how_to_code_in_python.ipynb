{
 "cells": [
  {
   "cell_type": "markdown",
   "metadata": {},
   "source": [
    "# How To Write Your First Python 3 Program"
   ]
  },
  {
   "cell_type": "code",
   "execution_count": 1,
   "metadata": {},
   "outputs": [
    {
     "name": "stdout",
     "output_type": "stream",
     "text": [
      "Hello, World!\n"
     ]
    }
   ],
   "source": [
    "print(\"Hello, World!\")"
   ]
  },
  {
   "cell_type": "code",
   "execution_count": 4,
   "metadata": {},
   "outputs": [
    {
     "name": "stdout",
     "output_type": "stream",
     "text": [
      "hammerhead\n",
      "great white\n",
      "dogfish\n",
      "frilled\n",
      "bullhead\n",
      "requiem\n"
     ]
    }
   ],
   "source": [
    "# Define sharks variable as a list of strings\n",
    "sharks = ['hammerhead', 'great white', 'dogfish', 'frilled', 'bullhead', 'requiem']\n",
    "# For loop that iterates over sharks list and prints each string item\n",
    "for shark in sharks:\n",
    "    print(shark)"
   ]
  },
  {
   "cell_type": "markdown",
   "metadata": {},
   "source": [
    "# An Introduction to Working with Strings\n"
   ]
  },
  {
   "cell_type": "code",
   "execution_count": 1,
   "metadata": {},
   "outputs": [
    {
     "name": "stdout",
     "output_type": "stream",
     "text": [
      "1. Shark         2. Shrimp         10. Squid\n"
     ]
    }
   ],
   "source": [
    "print(\"1. Shark \\\n",
    "        2. Shrimp \\\n",
    "        10. Squid\")"
   ]
  },
  {
   "cell_type": "markdown",
   "metadata": {},
   "source": [
    "# An Introduction to String Functions"
   ]
  },
  {
   "cell_type": "code",
   "execution_count": 2,
   "metadata": {},
   "outputs": [
    {
     "name": "stdout",
     "output_type": "stream",
     "text": [
      "SAMMY SHARK\n",
      "sammy shark\n"
     ]
    }
   ],
   "source": [
    "ss = \"Sammy Shark\"\n",
    "print(ss.upper())\n",
    "print(ss.lower())"
   ]
  },
  {
   "cell_type": "code",
   "execution_count": 3,
   "metadata": {},
   "outputs": [
    {
     "data": {
      "text/plain": [
       "False"
      ]
     },
     "execution_count": 3,
     "metadata": {},
     "output_type": "execute_result"
    }
   ],
   "source": [
    "ss.isalnum()"
   ]
  },
  {
   "cell_type": "code",
   "execution_count": 4,
   "metadata": {},
   "outputs": [
    {
     "data": {
      "text/plain": [
       "False"
      ]
     },
     "execution_count": 4,
     "metadata": {},
     "output_type": "execute_result"
    }
   ],
   "source": [
    "ss.isalpha()"
   ]
  },
  {
   "cell_type": "code",
   "execution_count": 5,
   "metadata": {},
   "outputs": [
    {
     "data": {
      "text/plain": [
       "False"
      ]
     },
     "execution_count": 5,
     "metadata": {},
     "output_type": "execute_result"
    }
   ],
   "source": [
    "ss.isspace()"
   ]
  },
  {
   "cell_type": "code",
   "execution_count": 6,
   "metadata": {},
   "outputs": [
    {
     "name": "stdout",
     "output_type": "stream",
     "text": [
      "S a m m y   h a s   a   b a l l o o n .\n"
     ]
    }
   ],
   "source": [
    "balloon = \"Sammy has a balloon.\"\n",
    "print(\" \".join(balloon))"
   ]
  },
  {
   "cell_type": "code",
   "execution_count": 2,
   "metadata": {},
   "outputs": [
    {
     "ename": "FileNotFoundError",
     "evalue": "[Errno 2] No such file or directory: 'data/strange_flowers.txt'",
     "output_type": "error",
     "traceback": [
      "\u001b[0;31m---------------------------------------------------------------------------\u001b[0m",
      "\u001b[0;31mFileNotFoundError\u001b[0m                         Traceback (most recent call last)",
      "\u001b[0;32m/var/folders/76/xs74b8wd5y1d4jslcyz534sh0000gn/T/ipykernel_1002/169985268.py\u001b[0m in \u001b[0;36m<module>\u001b[0;34m\u001b[0m\n\u001b[1;32m     84\u001b[0m     1)),\n\u001b[1;32m     85\u001b[0m     axis=1)\n\u001b[0;32m---> 86\u001b[0;31m \u001b[0mnp\u001b[0m\u001b[0;34m.\u001b[0m\u001b[0msavetxt\u001b[0m\u001b[0;34m(\u001b[0m\u001b[0;34m\"data/strange_flowers.txt\"\u001b[0m\u001b[0;34m,\u001b[0m \u001b[0mconc_data\u001b[0m\u001b[0;34m,\u001b[0m \u001b[0mfmt\u001b[0m\u001b[0;34m=\u001b[0m\u001b[0;34m\"%2.2f\"\u001b[0m\u001b[0;34m,\u001b[0m\u001b[0;34m)\u001b[0m\u001b[0;34m\u001b[0m\u001b[0;34m\u001b[0m\u001b[0m\n\u001b[0m",
      "\u001b[0;32m~/opt/anaconda3/lib/python3.9/site-packages/numpy/core/overrides.py\u001b[0m in \u001b[0;36msavetxt\u001b[0;34m(*args, **kwargs)\u001b[0m\n",
      "\u001b[0;32m~/opt/anaconda3/lib/python3.9/site-packages/numpy/lib/npyio.py\u001b[0m in \u001b[0;36msavetxt\u001b[0;34m(fname, X, fmt, delimiter, newline, header, footer, comments, encoding)\u001b[0m\n\u001b[1;32m   1381\u001b[0m     \u001b[0;32mif\u001b[0m \u001b[0m_is_string_like\u001b[0m\u001b[0;34m(\u001b[0m\u001b[0mfname\u001b[0m\u001b[0;34m)\u001b[0m\u001b[0;34m:\u001b[0m\u001b[0;34m\u001b[0m\u001b[0;34m\u001b[0m\u001b[0m\n\u001b[1;32m   1382\u001b[0m         \u001b[0;31m# datasource doesn't support creating a new file ...\u001b[0m\u001b[0;34m\u001b[0m\u001b[0;34m\u001b[0m\u001b[0m\n\u001b[0;32m-> 1383\u001b[0;31m         \u001b[0mopen\u001b[0m\u001b[0;34m(\u001b[0m\u001b[0mfname\u001b[0m\u001b[0;34m,\u001b[0m \u001b[0;34m'wt'\u001b[0m\u001b[0;34m)\u001b[0m\u001b[0;34m.\u001b[0m\u001b[0mclose\u001b[0m\u001b[0;34m(\u001b[0m\u001b[0;34m)\u001b[0m\u001b[0;34m\u001b[0m\u001b[0;34m\u001b[0m\u001b[0m\n\u001b[0m\u001b[1;32m   1384\u001b[0m         \u001b[0mfh\u001b[0m \u001b[0;34m=\u001b[0m \u001b[0mnp\u001b[0m\u001b[0;34m.\u001b[0m\u001b[0mlib\u001b[0m\u001b[0;34m.\u001b[0m\u001b[0m_datasource\u001b[0m\u001b[0;34m.\u001b[0m\u001b[0mopen\u001b[0m\u001b[0;34m(\u001b[0m\u001b[0mfname\u001b[0m\u001b[0;34m,\u001b[0m \u001b[0;34m'wt'\u001b[0m\u001b[0;34m,\u001b[0m \u001b[0mencoding\u001b[0m\u001b[0;34m=\u001b[0m\u001b[0mencoding\u001b[0m\u001b[0;34m)\u001b[0m\u001b[0;34m\u001b[0m\u001b[0;34m\u001b[0m\u001b[0m\n\u001b[1;32m   1385\u001b[0m         \u001b[0mown_fh\u001b[0m \u001b[0;34m=\u001b[0m \u001b[0;32mTrue\u001b[0m\u001b[0;34m\u001b[0m\u001b[0;34m\u001b[0m\u001b[0m\n",
      "\u001b[0;31mFileNotFoundError\u001b[0m: [Errno 2] No such file or directory: 'data/strange_flowers.txt'"
     ]
    }
   ],
   "source": [
    "import matplotlib.pyplot as plt\n",
    "import numpy as np\n",
    "import pandas as pd\n",
    "from scipy.stats import truncnorm\n",
    "def truncated_normal(mean=0, sd=1, low=0, upp=10, type=int):\n",
    "    return truncnorm(\n",
    "    (low - mean) / sd, (upp - mean) / sd, loc=mean, scale=sd)\n",
    "def truncated_normal_floats(mean=0, sd=1, low=0, upp=10, num=100):\n",
    "    res = truncated_normal(mean=mean, sd=sd, low=low, upp=upp)\n",
    "    return res.rvs(num)\n",
    "def truncated_normal_ints(mean=0, sd=1, low=0, upp=10, num=100):\n",
    "    res = truncated_normal(mean=mean, sd=sd, low=low, upp=upp)\n",
    "    return res.rvs(num).astype(np.uint8)\n",
    "# number of items for each flower class:\n",
    "number_of_items_per_class = [190, 205, 230, 170]\n",
    "flowers = {}\n",
    "\n",
    "# flos Pythonem:\n",
    "number_of_items = number_of_items_per_class[0]\n",
    "reds = truncated_normal_ints(mean=254, sd=18, low=235, upp=256,\n",
    "num=number_of_items)\n",
    "greens = truncated_normal_ints(mean=107, sd=11, low=88, upp=127,\n",
    "num=number_of_items)\n",
    "blues = truncated_normal_ints(mean=0, sd=15, low=0, upp=20,\n",
    "num=number_of_items)\n",
    "calyx_dia = truncated_normal_floats(3.8, 0.3, 3.4, 4.2,\n",
    "num=number_of_items)\n",
    "data = np.column_stack((reds, greens, blues, calyx_dia))\n",
    "flowers[\"flos_pythonem\"] = data\n",
    "\n",
    "# flos Java:\n",
    "number_of_items = number_of_items_per_class[1]\n",
    "reds = truncated_normal_ints(mean=245, sd=17, low=226, upp=256,\n",
    "num=number_of_items)\n",
    "greens = truncated_normal_ints(mean=107, sd=11, low=88, upp=127,\n",
    "num=number_of_items)\n",
    "blues = truncated_normal_ints(mean=0, sd=10, low=0, upp=20,\n",
    "num=number_of_items)\n",
    "calyx_dia = truncated_normal_floats(3.3, 0.3, 3.0, 3.5,\n",
    "num=number_of_items)\n",
    "data = np.column_stack((reds, greens, blues, calyx_dia))\n",
    "flowers[\"flos_java\"] = data\n",
    "\n",
    "# flos Java:\n",
    "number_of_items = number_of_items_per_class[2]\n",
    "reds = truncated_normal_ints(mean=206, sd=17, low=175, upp=238,\n",
    "num=number_of_items)\n",
    "greens = truncated_normal_ints(mean=99, sd=14, low=80, upp=120,\n",
    "num=number_of_items)\n",
    "blues = truncated_normal_ints(mean=1, sd=5, low=0, upp=12,\n",
    "num=number_of_items)\n",
    "calyx_dia = truncated_normal_floats(4.1, 0.3, 3.8, 4.4,\n",
    "num=number_of_items)\n",
    "data = np.column_stack((reds, greens, blues, calyx_dia))\n",
    "flowers[\"flos_margarita\"] = data\n",
    "\n",
    "# flos artificialis:\n",
    "number_of_items = number_of_items_per_class[3]\n",
    "reds = truncated_normal_ints(mean=255, sd=8, low=2245, upp=2255,\n",
    "num=number_of_items)\n",
    "greens = truncated_normal_ints(mean=254, sd=10, low=240, upp=255,\n",
    "num=number_of_items)\n",
    "blues = truncated_normal_ints(mean=101, sd=5, low=90, upp=112,\n",
    "num=number_of_items)\n",
    "calyx_dia = truncated_normal_floats(2.9, 0.4, 2.4, 3.5,\n",
    "num=number_of_items)\n",
    "data = np.column_stack((reds, greens, blues, calyx_dia))\n",
    "flowers[\"flos_artificialis\"] = data\n",
    "data = np.concatenate((flowers[\"flos_pythonem\"],\n",
    "flowers[\"flos_java\"],\n",
    "flowers[\"flos_margarita\"],\n",
    "flowers[\"flos_artificialis\"]\n",
    "), axis=0)\n",
    "\n",
    "# assigning the labels\n",
    "target = np.zeros(sum(number_of_items_per_class)) # 4 flowers\n",
    "previous_end = 0\n",
    "for i in range(1, 5):\n",
    "    num = number_of_items_per_class[i-1]\n",
    "    beg = previous_end\n",
    "    target[beg: beg + num] += i\n",
    "    previous_end = beg + num\n",
    "    conc_data = np.concatenate((data, target.reshape(target.shape[0],\n",
    "    1)),\n",
    "    axis=1)\n",
    "np.savetxt(\"data/strange_flowers.txt\", conc_data, fmt=\"%2.2f\",)"
   ]
  },
  {
   "cell_type": "code",
   "execution_count": 3,
   "metadata": {},
   "outputs": [
    {
     "data": {
      "image/png": "[encoded data removed]",
      "text/plain": [
       "<Figure size 1152x1152 with 16 Axes>"
      ]
     },
     "metadata": {
      "needs_background": "light"
     },
     "output_type": "display_data"
    }
   ],
   "source": [
    "import matplotlib.pyplot as plt\n",
    "target_names = list(flowers.keys())\n",
    "feature_names = ['red', 'green', 'blue', 'calyx']\n",
    "n = 4\n",
    "fig, ax = plt.subplots(n, n, figsize=(16, 16))\n",
    "colors = ['blue', 'red', 'green', 'yellow']\n",
    "for x in range(n):\n",
    "    for y in range(n):\n",
    "        xname = feature_names[x]\n",
    "        yname = feature_names[y]\n",
    "        for color_ind in range(len(target_names)):\n",
    "            ax[x, y].scatter(data[target==color_ind, x],\n",
    "            data[target==color_ind, y],\n",
    "            label=target_names[color_ind],\n",
    "            c=colors[color_ind])\n",
    "    ax[x, y].set_xlabel(xname)\n",
    "    ax[x, y].set_ylabel(yname)\n",
    "    ax[x, y].legend(loc='upper left')\n",
    "plt.show()\n"
   ]
  },
  {
   "cell_type": "code",
   "execution_count": 4,
   "metadata": {},
   "outputs": [
    {
     "name": "stdout",
     "output_type": "stream",
     "text": [
      "[[7.  3.2 4.7 1.4]\n",
      " [6.4 3.2 4.5 1.5]\n",
      " [6.9 3.1 4.9 1.5]\n",
      " [5.5 2.3 4.  1.3]\n",
      " [6.5 2.8 4.6 1.5]]\n",
      "[7.  6.4 6.9 5.5 6.5]\n"
     ]
    }
   ],
   "source": [
    "from sklearn.datasets import load_iris\n",
    "iris = load_iris()\n",
    "print(iris.data[iris.target==1][:5])\n",
    "print(iris.data[iris.target==1, 0][:5])"
   ]
  },
  {
   "cell_type": "code",
   "execution_count": 5,
   "metadata": {},
   "outputs": [
    {
     "data": {
      "image/png": "[encoded data removed]",
      "text/plain": [
       "<Figure size 1152x1152 with 16 Axes>"
      ]
     },
     "metadata": {
      "needs_background": "light"
     },
     "output_type": "display_data"
    }
   ],
   "source": [
    "import matplotlib.pyplot as plt\n",
    "n = len(iris.feature_names)\n",
    "fig, ax = plt.subplots(n, n, figsize=(16, 16))\n",
    "colors = ['blue', 'red', 'green']\n",
    "for x in range(n):\n",
    "    for y in range(n):\n",
    "        xname = iris.feature_names[x]\n",
    "        yname = iris.feature_names[y]\n",
    "        for color_ind in range(len(iris.target_names)):\n",
    "            ax[x, y].scatter(iris.data[iris.target==color_ind,\n",
    "            x],\n",
    "            iris.data[iris.target==color_ind, y],\n",
    "            label=iris.target_names[color_ind],\n",
    "            c=colors[color_ind])\n",
    "        ax[x, y].set_xlabel(xname)\n",
    "        ax[x, y].set_ylabel(yname)\n",
    "        ax[x, y].legend(loc='upper left')\n",
    "plt.show()"
   ]
  },
  {
   "cell_type": "code",
   "execution_count": 6,
   "metadata": {},
   "outputs": [
    {
     "name": "stdout",
     "output_type": "stream",
     "text": [
      "local\n",
      "global\n",
      "global\n"
     ]
    }
   ],
   "source": [
    "glb_var = \"global\"\n",
    "def var_function():\n",
    "    lcl_var = \"local\"\n",
    "    print(lcl_var)\n",
    "    print(glb_var) #Print glb_var within function\n",
    "var_function()\n",
    "print(glb_var)"
   ]
  },
  {
   "cell_type": "markdown",
   "metadata": {},
   "source": [
    "# How To Use String Formatters"
   ]
  },
  {
   "cell_type": "code",
   "execution_count": 7,
   "metadata": {},
   "outputs": [
    {
     "name": "stdout",
     "output_type": "stream",
     "text": [
      "Sammy has 5 balloons.\n"
     ]
    }
   ],
   "source": [
    "print(\"Sammy has {} balloons.\".format(5))"
   ]
  },
  {
   "cell_type": "code",
   "execution_count": 8,
   "metadata": {},
   "outputs": [
    {
     "name": "stdout",
     "output_type": "stream",
     "text": [
      "Sammy loves Open Source.\n"
     ]
    }
   ],
   "source": [
    "open_string = \"Sammy loves {}.\"\n",
    "print(open_string.format(\"Open Source\"))"
   ]
  },
  {
   "cell_type": "code",
   "execution_count": 9,
   "metadata": {},
   "outputs": [
    {
     "name": "stdout",
     "output_type": "stream",
     "text": [
      "Sammy loves open source software.\n"
     ]
    }
   ],
   "source": [
    "new_open_string = \"Sammy loves {} {}.\"\n",
    "print(new_open_string.format(\"open source\", \"software\"))"
   ]
  },
  {
   "cell_type": "code",
   "execution_count": 11,
   "metadata": {},
   "outputs": [
    {
     "name": "stdout",
     "output_type": "stream",
     "text": [
      "Sammy loves open source software, and has 5 balloons.\n"
     ]
    }
   ],
   "source": [
    "sammy_string = \"Sammy loves {} {}, and has {} {}.\"\n",
    "print(sammy_string.format(\"open source\", \"software\", str(5), \"balloons\"))"
   ]
  },
  {
   "cell_type": "code",
   "execution_count": 12,
   "metadata": {},
   "outputs": [
    {
     "name": "stdout",
     "output_type": "stream",
     "text": [
      "Sammy the shark has a pet pilot fish!\n"
     ]
    }
   ],
   "source": [
    "print(\"Sammy the {} has a pet {}!\".format(\"shark\",\n",
    "\"pilot fish\"))"
   ]
  },
  {
   "cell_type": "code",
   "execution_count": 13,
   "metadata": {},
   "outputs": [
    {
     "name": "stdout",
     "output_type": "stream",
     "text": [
      "Sammy the shark has a pet pilot fish!\n"
     ]
    }
   ],
   "source": [
    "print(\"Sammy the {0} has a pet {1}!\".format(\"shark\",\n",
    "\"pilot fish\"))"
   ]
  },
  {
   "cell_type": "code",
   "execution_count": 14,
   "metadata": {},
   "outputs": [
    {
     "name": "stdout",
     "output_type": "stream",
     "text": [
      "Sammy is a happy, smiling, and blue shark!\n"
     ]
    }
   ],
   "source": [
    "print(\"Sammy is a {}, {}, and {} {}!\".format(\"happy\", \"smiling\", \"blue\", \"shark\"))"
   ]
  },
  {
   "cell_type": "code",
   "execution_count": 15,
   "metadata": {},
   "outputs": [
    {
     "name": "stdout",
     "output_type": "stream",
     "text": [
      "Sammy is a shark, blue, and smiling happy!\n"
     ]
    }
   ],
   "source": [
    "print(\"Sammy is a {3}, {2}, and {1} {0}!\".format(\"happy\", \"smiling\", \"blue\", \"shark\"))"
   ]
  },
  {
   "cell_type": "code",
   "execution_count": 16,
   "metadata": {},
   "outputs": [
    {
     "name": "stdout",
     "output_type": "stream",
     "text": [
      "Sammy the shark made a pull request.\n"
     ]
    }
   ],
   "source": [
    "print(\"Sammy the {0} {1} a {pr}.\".format(\"shark\", \"made\", pr = \"pull request\"))"
   ]
  },
  {
   "cell_type": "code",
   "execution_count": 17,
   "metadata": {},
   "outputs": [
    {
     "name": "stdout",
     "output_type": "stream",
     "text": [
      "Sammy ate 75.000000 percent of a pizza!\n"
     ]
    }
   ],
   "source": [
    "print(\"Sammy ate {0:f} percent of a {1}!\".format(75,\"pizza\"))"
   ]
  },
  {
   "cell_type": "code",
   "execution_count": 20,
   "metadata": {},
   "outputs": [
    {
     "name": "stdout",
     "output_type": "stream",
     "text": [
      "Sammy ate 75.00 percent of a pizza!\n"
     ]
    }
   ],
   "source": [
    "print(\"Sammy ate {0:.2f} percent of a {1}!\".format(75,\"pizza\"))"
   ]
  },
  {
   "cell_type": "code",
   "execution_count": 21,
   "metadata": {},
   "outputs": [
    {
     "name": "stdout",
     "output_type": "stream",
     "text": [
      "Sammy ate 75.765 percent of a pizza!\n"
     ]
    }
   ],
   "source": [
    "print(\"Sammy ate {0:.3f} percent of a pizza!\".format(75.765367))"
   ]
  },
  {
   "cell_type": "code",
   "execution_count": 22,
   "metadata": {},
   "outputs": [
    {
     "name": "stdout",
     "output_type": "stream",
     "text": [
      "Sammy ate 75.8 percent of a pizza!\n"
     ]
    }
   ],
   "source": [
    "print(\"Sammy ate {0:.1f} percent of a pizza!\".format(75.765367))"
   ]
  },
  {
   "cell_type": "code",
   "execution_count": 23,
   "metadata": {},
   "outputs": [
    {
     "name": "stdout",
     "output_type": "stream",
     "text": [
      "Sammy ate 76 percent of a pizza!\n"
     ]
    }
   ],
   "source": [
    "print(\"Sammy ate {0:.0f} percent of a pizza!\".format(75.765367))"
   ]
  },
  {
   "cell_type": "code",
   "execution_count": 24,
   "metadata": {},
   "outputs": [
    {
     "name": "stdout",
     "output_type": "stream",
     "text": [
      "Sammy has    5 red balloons        !\n"
     ]
    }
   ],
   "source": [
    "print(\"Sammy has {0:4} red {1:16}!\".format(5, \"balloons\"))"
   ]
  },
  {
   "cell_type": "code",
   "execution_count": 25,
   "metadata": {},
   "outputs": [
    {
     "name": "stdout",
     "output_type": "stream",
     "text": [
      "Sammy has 5    red     balloons    !\n"
     ]
    }
   ],
   "source": [
    "print(\"Sammy has {0:<4} red {1:^16}!\".format(5, \"balloons\"))"
   ]
  },
  {
   "cell_type": "code",
   "execution_count": 26,
   "metadata": {},
   "outputs": [
    {
     "name": "stdout",
     "output_type": "stream",
     "text": [
      "Sammy has  5   red     balloons    !\n"
     ]
    }
   ],
   "source": [
    "print(\"Sammy has {0:^4} red {1:^16}!\".format(5, \"balloons\"))"
   ]
  },
  {
   "cell_type": "code",
   "execution_count": 27,
   "metadata": {},
   "outputs": [
    {
     "name": "stdout",
     "output_type": "stream",
     "text": [
      "*******Sammy********\n"
     ]
    }
   ],
   "source": [
    "print(\"{:*^20s}\".format(\"Sammy\"))"
   ]
  },
  {
   "cell_type": "code",
   "execution_count": 28,
   "metadata": {},
   "outputs": [
    {
     "name": "stdout",
     "output_type": "stream",
     "text": [
      "Sammy has #5## red $$$$balloons$$$$!\n"
     ]
    }
   ],
   "source": [
    "print(\"Sammy has {0:#^4} red {1:$^16}!\".format(5, \"balloons\"))"
   ]
  },
  {
   "cell_type": "code",
   "execution_count": 29,
   "metadata": {},
   "outputs": [
    {
     "name": "stdout",
     "output_type": "stream",
     "text": [
      "Sammy has 8 balloons today!\n"
     ]
    }
   ],
   "source": [
    "nBalloons = 8\n",
    "print(\"Sammy has {} balloons today!\".format(nBalloons))"
   ]
  },
  {
   "cell_type": "code",
   "execution_count": 30,
   "metadata": {},
   "outputs": [
    {
     "name": "stdout",
     "output_type": "stream",
     "text": [
      "Sammy has 8 balloons today!\n"
     ]
    }
   ],
   "source": [
    "sammy = \"Sammy has {} balloons today!\"\n",
    "nBalloons = 8\n",
    "print(sammy.format(nBalloons))"
   ]
  },
  {
   "cell_type": "code",
   "execution_count": 31,
   "metadata": {},
   "outputs": [
    {
     "name": "stdout",
     "output_type": "stream",
     "text": [
      "3 9 27\n",
      "4 16 64\n",
      "5 25 125\n",
      "6 36 216\n",
      "7 49 343\n",
      "8 64 512\n",
      "9 81 729\n",
      "10 100 1000\n",
      "11 121 1331\n",
      "12 144 1728\n"
     ]
    }
   ],
   "source": [
    "for i in range(3, 13):\n",
    "    print(i, i*i, i*i*i)"
   ]
  },
  {
   "cell_type": "code",
   "execution_count": 32,
   "metadata": {},
   "outputs": [
    {
     "name": "stdout",
     "output_type": "stream",
     "text": [
      "  3    9    27\n",
      "  4   16    64\n",
      "  5   25   125\n",
      "  6   36   216\n",
      "  7   49   343\n",
      "  8   64   512\n",
      "  9   81   729\n",
      " 10  100  1000\n",
      " 11  121  1331\n",
      " 12  144  1728\n"
     ]
    }
   ],
   "source": [
    "for i in range(3, 13):\n",
    "    print(\"{:3d} {:4d} {:5d}\".format(i, i*i, i*i*i))"
   ]
  },
  {
   "cell_type": "code",
   "execution_count": 33,
   "metadata": {},
   "outputs": [
    {
     "name": "stdout",
     "output_type": "stream",
     "text": [
      "     3      9     27\n",
      "     4     16     64\n",
      "     5     25    125\n",
      "     6     36    216\n",
      "     7     49    343\n",
      "     8     64    512\n",
      "     9     81    729\n",
      "    10    100   1000\n",
      "    11    121   1331\n",
      "    12    144   1728\n"
     ]
    }
   ],
   "source": [
    "for i in range(3, 13):\n",
    "    print(\"{:6d} {:6d} {:6d}\".format(i, i*i, i*i*i))"
   ]
  },
  {
   "cell_type": "markdown",
   "metadata": {},
   "source": [
    "# How To Do Math with Operators"
   ]
  },
  {
   "cell_type": "code",
   "execution_count": 34,
   "metadata": {},
   "outputs": [
    {
     "name": "stdout",
     "output_type": "stream",
     "text": [
      "(266, 200)\n",
      "(320, 0)\n"
     ]
    }
   ],
   "source": [
    "words = 80000 # How many words in our book\n",
    "per_page_A = 300 # Option A, 300 words per page\n",
    "per_page_B = 250 # Option B, 25- words per page\n",
    "print(divmod(words,per_page_A)) # Calculate Option A\n",
    "print(divmod(words,per_page_B)) # Calculate Option B"
   ]
  },
  {
   "cell_type": "code",
   "execution_count": 35,
   "metadata": {},
   "outputs": [
    {
     "data": {
      "text/plain": [
       "(8.0, 63.5)"
      ]
     },
     "execution_count": 35,
     "metadata": {},
     "output_type": "execute_result"
    }
   ],
   "source": [
    "a = 985.5\n",
    "b = 115.25\n",
    "divmod(a,b)"
   ]
  },
  {
   "cell_type": "code",
   "execution_count": 36,
   "metadata": {},
   "outputs": [
    {
     "name": "stdout",
     "output_type": "stream",
     "text": [
      "16777216\n"
     ]
    }
   ],
   "source": [
    "hours = 24\n",
    "total_bacteria = pow(2,hours)\n",
    "print(total_bacteria)"
   ]
  },
  {
   "cell_type": "code",
   "execution_count": 37,
   "metadata": {},
   "outputs": [
    {
     "data": {
      "text/plain": [
       "27"
      ]
     },
     "execution_count": 37,
     "metadata": {},
     "output_type": "execute_result"
    }
   ],
   "source": [
    "pow(3, 3)"
   ]
  },
  {
   "cell_type": "code",
   "execution_count": 38,
   "metadata": {},
   "outputs": [
    {
     "name": "stdout",
     "output_type": "stream",
     "text": [
      "17.3499\n"
     ]
    }
   ],
   "source": [
    "i = 17.34989436516001\n",
    "print(round(i,4))"
   ]
  },
  {
   "cell_type": "code",
   "execution_count": 1,
   "metadata": {},
   "outputs": [
    {
     "name": "stdout",
     "output_type": "stream",
     "text": [
      "Passing grade\n"
     ]
    }
   ],
   "source": [
    "grade = 89\n",
    "if grade >= 65: # Condition\n",
    "    print(\"Passing grade\") # Clause\n",
    "else:\n",
    "    print(\"Failing grade\")"
   ]
  },
  {
   "cell_type": "markdown",
   "metadata": {},
   "source": [
    "# Understanding Lists"
   ]
  },
  {
   "cell_type": "code",
   "execution_count": 2,
   "metadata": {},
   "outputs": [
    {
     "name": "stdout",
     "output_type": "stream",
     "text": [
      "['shark', 'cuttlefish', 'squid', 'mantis shrimp', 'anemone']\n"
     ]
    }
   ],
   "source": [
    "sea_creatures = ['shark', 'cuttlefish', 'squid', 'mantis shrimp', 'anemone']\n",
    "print(sea_creatures)"
   ]
  },
  {
   "cell_type": "code",
   "execution_count": 4,
   "metadata": {},
   "outputs": [
    {
     "name": "stdout",
     "output_type": "stream",
     "text": [
      "['shark', 'octopus', 'squid', 'mantis shrimp', 'anemone']\n"
     ]
    }
   ],
   "source": [
    "sea_creatures[1] = \"octopus\"\n",
    "print(sea_creatures)"
   ]
  },
  {
   "cell_type": "code",
   "execution_count": 8,
   "metadata": {},
   "outputs": [
    {
     "name": "stdout",
     "output_type": "stream",
     "text": [
      "['shark', 'octopus', 'blobfish', 'mantis shrimp', 'anemone']\n",
      "['shark', 'octopus', 'blobfish']\n",
      "['blobfish', 'mantis shrimp', 'anemone']\n"
     ]
    }
   ],
   "source": [
    "sea_creatures[-3] = \"blobfish\"\n",
    "print(sea_creatures)\n",
    "print(sea_creatures[:3])\n",
    "print(sea_creatures[2:])"
   ]
  },
  {
   "cell_type": "code",
   "execution_count": 6,
   "metadata": {},
   "outputs": [
    {
     "data": {
      "text/plain": [
       "['octopus', 'blobfish', 'mantis shrimp']"
      ]
     },
     "execution_count": 6,
     "metadata": {},
     "output_type": "execute_result"
    }
   ],
   "source": [
    "sea_creatures[1:4]"
   ]
  },
  {
   "cell_type": "code",
   "execution_count": 9,
   "metadata": {},
   "outputs": [
    {
     "name": "stdout",
     "output_type": "stream",
     "text": [
      "['octopus', 'blobfish']\n",
      "['blobfish', 'mantis shrimp', 'anemone']\n"
     ]
    }
   ],
   "source": [
    "print(sea_creatures[-4:-2])\n",
    "print(sea_creatures[-3:])"
   ]
  },
  {
   "cell_type": "code",
   "execution_count": 11,
   "metadata": {},
   "outputs": [
    {
     "name": "stdout",
     "output_type": "stream",
     "text": [
      "[1, 3, 5, 7, 9]\n",
      "[0, 3, 6, 9, 12]\n"
     ]
    }
   ],
   "source": [
    "numbers = [0, 1, 2, 3, 4, 5, 6, 7, 8, 9, 10, 11, 12]\n",
    "print(numbers[1:11:2])\n",
    "print(numbers[::3])"
   ]
  },
  {
   "cell_type": "code",
   "execution_count": 12,
   "metadata": {},
   "outputs": [
    {
     "name": "stdout",
     "output_type": "stream",
     "text": [
      "['shark', 'octopus', 'blobfish', 'mantis shrimp', 'anemone', 'Pacific', 'Atlantic', 'Indian', 'Southern', 'Arctic']\n"
     ]
    }
   ],
   "source": [
    "sea_creatures = ['shark', 'octopus', 'blobfish', 'mantis shrimp', 'anemone']\n",
    "oceans = ['Pacific', 'Atlantic', 'Indian', 'Southern', 'Arctic']\n",
    "print(sea_creatures + oceans)"
   ]
  },
  {
   "cell_type": "code",
   "execution_count": 13,
   "metadata": {},
   "outputs": [
    {
     "data": {
      "text/plain": [
       "['shark', 'octopus', 'blobfish', 'mantis shrimp', 'anemone', 'yeti crab']"
      ]
     },
     "execution_count": 13,
     "metadata": {},
     "output_type": "execute_result"
    }
   ],
   "source": [
    "sea_creatures + [\"yeti crab\"]"
   ]
  },
  {
   "cell_type": "code",
   "execution_count": 14,
   "metadata": {},
   "outputs": [
    {
     "name": "stdout",
     "output_type": "stream",
     "text": [
      "['shark', 'octopus', 'blobfish', 'mantis shrimp', 'anemone', 'shark', 'octopus', 'blobfish', 'mantis shrimp', 'anemone']\n",
      "['Pacific', 'Atlantic', 'Indian', 'Southern', 'Arctic', 'Pacific', 'Atlantic', 'Indian', 'Southern', 'Arctic', 'Pacific', 'Atlantic', 'Indian', 'Southern', 'Arctic']\n"
     ]
    }
   ],
   "source": [
    "print(sea_creatures * 2)\n",
    "print(oceans * 3)"
   ]
  },
  {
   "cell_type": "code",
   "execution_count": 15,
   "metadata": {},
   "outputs": [
    {
     "name": "stdout",
     "output_type": "stream",
     "text": [
      "['shark', 'octopus', 'blobfish', 'mantis shrimp', 'anemone', 'fish']\n",
      "['shark', 'octopus', 'blobfish', 'mantis shrimp', 'anemone', 'fish', 'fish']\n",
      "['shark', 'octopus', 'blobfish', 'mantis shrimp', 'anemone', 'fish', 'fish', 'fish']\n"
     ]
    }
   ],
   "source": [
    "for x in range(1,4):\n",
    "    sea_creatures += [\"fish\"]\n",
    "    print(sea_creatures)"
   ]
  },
  {
   "cell_type": "code",
   "execution_count": 16,
   "metadata": {},
   "outputs": [
    {
     "name": "stdout",
     "output_type": "stream",
     "text": [
      "['shark', 'shark']\n",
      "['shark', 'shark', 'shark', 'shark']\n",
      "['shark', 'shark', 'shark', 'shark', 'shark', 'shark', 'shark', 'shark']\n"
     ]
    }
   ],
   "source": [
    "sharks = [\"shark\"]\n",
    "for x in range(1,4):\n",
    "    sharks *= 2\n",
    "    print(sharks)"
   ]
  },
  {
   "cell_type": "code",
   "execution_count": 19,
   "metadata": {},
   "outputs": [
    {
     "name": "stdout",
     "output_type": "stream",
     "text": [
      "['shark', 'octopus', 'blobfish', 'mantis shrimp', 'anemone', 'yeti crab']\n",
      "['shark', 'blobfish', 'mantis shrimp', 'anemone', 'yeti crab']\n",
      "['shark', 'yeti crab']\n"
     ]
    }
   ],
   "source": [
    "sea_creatures = sea_creatures =['shark', 'octopus', 'blobfish', 'mantis shrimp', 'anemone', 'yeti crab']\n",
    "print(sea_creatures)\n",
    "del sea_creatures[1]\n",
    "print(sea_creatures)\n",
    "del sea_creatures[1:4]\n",
    "print(sea_creatures)"
   ]
  },
  {
   "cell_type": "code",
   "execution_count": 46,
   "metadata": {},
   "outputs": [
    {
     "name": "stdout",
     "output_type": "stream",
     "text": [
      "[['shark', 'octopus', 'squid', 'mantis shrimp'], ['Sammy', 'Jesse', 'Drew', 'Jamie']]\n",
      "Sammy\n",
      "shark\n"
     ]
    }
   ],
   "source": [
    "sea_names = [['shark', 'octopus', 'squid', 'mantis shrimp'],['Sammy', 'Jesse', 'Drew', 'Jamie']]\n",
    "print(sea_names)\n",
    "print(sea_names[1][0])\n",
    "print(sea_names[0][0])"
   ]
  },
  {
   "cell_type": "code",
   "execution_count": 49,
   "metadata": {},
   "outputs": [
    {
     "name": "stdout",
     "output_type": "stream",
     "text": [
      "['barracuda', 'cod', 'devil ray', 'eel']\n",
      "['barracuda', 'cod', 'devil ray', 'eel', 'flounder']\n",
      "['anchovy', 'barracuda', 'cod', 'devil ray', 'eel', 'flounder']\n",
      "['anchovy', 'barracuda', 'cod', 'damselfish', 'devil ray', 'eel', 'flounder']\n"
     ]
    }
   ],
   "source": [
    "fish = ['barracuda','cod','devil ray','eel']\n",
    "print(fish)\n",
    "fish.append(\"flounder\")\n",
    "print(fish)\n",
    "fish.insert(0, \"anchovy\")\n",
    "print(fish)\n",
    "fish.insert(3, \"damselfish\")\n",
    "print(fish)"
   ]
  },
  {
   "cell_type": "code",
   "execution_count": 50,
   "metadata": {},
   "outputs": [
    {
     "name": "stdout",
     "output_type": "stream",
     "text": [
      "['goby', 'herring', 'ide', 'kissing gourami']\n",
      "['anchovy', 'barracuda', 'cod', 'damselfish', 'devil ray', 'eel', 'flounder', 'goby', 'herring', 'ide', 'kissing gourami']\n",
      "['anchovy', 'barracuda', 'cod', 'damselfish', 'devil ray', 'eel', 'flounder', 'goby', 'herring', 'ide']\n"
     ]
    }
   ],
   "source": [
    "more_fish = ['goby','herring','ide','kissing gourami']\n",
    "print(more_fish)\n",
    "fish.extend(more_fish)\n",
    "print(fish)\n",
    "fish.remove(\"kissing gourami\")\n",
    "print(fish)\n",
    "#print(fish.pop(3))"
   ]
  },
  {
   "cell_type": "code",
   "execution_count": 51,
   "metadata": {},
   "outputs": [
    {
     "name": "stdout",
     "output_type": "stream",
     "text": [
      "['anchovy', 'barracuda', 'cod', 'damselfish', 'devil ray', 'eel', 'flounder', 'goby', 'herring', 'ide']\n",
      "8\n"
     ]
    }
   ],
   "source": [
    "print(fish)\n",
    "print(fish.index('herring'))"
   ]
  },
  {
   "cell_type": "code",
   "execution_count": 52,
   "metadata": {},
   "outputs": [
    {
     "name": "stdout",
     "output_type": "stream",
     "text": [
      "['anchovy', 'barracuda', 'cod', 'damselfish', 'devil ray', 'eel', 'flounder', 'goby', 'herring', 'ide']\n"
     ]
    }
   ],
   "source": [
    "fish_2 = fish.copy()\n",
    "print(fish_2)"
   ]
  },
  {
   "cell_type": "code",
   "execution_count": 53,
   "metadata": {},
   "outputs": [
    {
     "name": "stdout",
     "output_type": "stream",
     "text": [
      "['ide', 'herring', 'goby', 'flounder', 'eel', 'devil ray', 'damselfish', 'cod', 'barracuda', 'anchovy']\n"
     ]
    }
   ],
   "source": [
    "fish.reverse()\n",
    "print(fish)"
   ]
  },
  {
   "cell_type": "code",
   "execution_count": 54,
   "metadata": {},
   "outputs": [
    {
     "name": "stdout",
     "output_type": "stream",
     "text": [
      "1\n"
     ]
    }
   ],
   "source": [
    "print(fish.count(\"goby\"))"
   ]
  },
  {
   "cell_type": "code",
   "execution_count": 55,
   "metadata": {},
   "outputs": [
    {
     "name": "stdout",
     "output_type": "stream",
     "text": [
      "3\n"
     ]
    }
   ],
   "source": [
    "fish_ages = [1,2,4,3,2,1,1,2]\n",
    "print(fish_ages.count(1))"
   ]
  },
  {
   "cell_type": "code",
   "execution_count": 56,
   "metadata": {},
   "outputs": [
    {
     "name": "stdout",
     "output_type": "stream",
     "text": [
      "[1, 1, 1, 2, 2, 2, 3, 4]\n"
     ]
    }
   ],
   "source": [
    "fish_ages.sort()\n",
    "print(fish_ages)"
   ]
  },
  {
   "cell_type": "markdown",
   "metadata": {},
   "source": [
    "### Understanding List Comprehensions"
   ]
  },
  {
   "cell_type": "code",
   "execution_count": 57,
   "metadata": {},
   "outputs": [
    {
     "name": "stdout",
     "output_type": "stream",
     "text": [
      "['s', 'h', 'a', 'r', 'k']\n"
     ]
    }
   ],
   "source": [
    "shark_letters = [letter for letter in 'shark']\n",
    "print(shark_letters)"
   ]
  },
  {
   "cell_type": "code",
   "execution_count": 58,
   "metadata": {},
   "outputs": [
    {
     "name": "stdout",
     "output_type": "stream",
     "text": [
      "['s', 'h', 'a', 'r', 'k']\n"
     ]
    }
   ],
   "source": [
    "shark_letters = []\n",
    "for letter in \"shark\":\n",
    "    shark_letters.append(letter)\n",
    "print(shark_letters)"
   ]
  },
  {
   "cell_type": "code",
   "execution_count": 61,
   "metadata": {},
   "outputs": [
    {
     "name": "stdout",
     "output_type": "stream",
     "text": [
      "['blowfish', 'clownfish', 'catfish']\n"
     ]
    }
   ],
   "source": [
    "fish_tuple = ('blowfish', 'clownfish', 'catfish', 'octopus')\n",
    "#print(fish_2)\n",
    "fish_list = [fish for fish in fish_tuple if fish!= \"octopus\"]\n",
    "print(fish_list)"
   ]
  },
  {
   "cell_type": "code",
   "execution_count": 62,
   "metadata": {},
   "outputs": [
    {
     "name": "stdout",
     "output_type": "stream",
     "text": [
      "[0, 4, 16, 36, 64]\n"
     ]
    }
   ],
   "source": [
    "number_list = [x ** 2 for x in range(10) if x % 2 == 0]\n",
    "print(number_list)"
   ]
  },
  {
   "cell_type": "code",
   "execution_count": 63,
   "metadata": {},
   "outputs": [
    {
     "name": "stdout",
     "output_type": "stream",
     "text": [
      "[0, 15, 30, 45, 60, 75, 90]\n"
     ]
    }
   ],
   "source": [
    "number_list = [x for x in range(100) if x % 3 == 0 if\n",
    "x % 5 == 0]\n",
    "print(number_list)"
   ]
  },
  {
   "cell_type": "code",
   "execution_count": 64,
   "metadata": {},
   "outputs": [
    {
     "name": "stdout",
     "output_type": "stream",
     "text": [
      "[40, 80, 120, 80, 160, 240, 120, 240, 360]\n"
     ]
    }
   ],
   "source": [
    "my_list = []\n",
    "for x in [20, 40, 60]:\n",
    "    for y in [2, 4, 6]:\n",
    "        my_list.append(x * y)\n",
    "print(my_list)"
   ]
  },
  {
   "cell_type": "code",
   "execution_count": 65,
   "metadata": {},
   "outputs": [
    {
     "name": "stdout",
     "output_type": "stream",
     "text": [
      "[40, 80, 120, 80, 160, 240, 120, 240, 360]\n"
     ]
    }
   ],
   "source": [
    "my_list = [x*y for x in [20, 40, 60] for y in [2, 4, 6]]\n",
    "print(my_list)"
   ]
  },
  {
   "cell_type": "markdown",
   "metadata": {},
   "source": [
    "# Understanding Tuples"
   ]
  },
  {
   "cell_type": "code",
   "execution_count": 67,
   "metadata": {},
   "outputs": [
    {
     "name": "stdout",
     "output_type": "stream",
     "text": [
      "(1, 3, 5, 7, 9)\n",
      "(0, 3, 6, 9, 12)\n"
     ]
    }
   ],
   "source": [
    "numbers = (0, 1, 2, 3, 4, 5, 6, 7, 8, 9, 10, 11, 12)\n",
    "print(numbers[1:11:2])\n",
    "print(numbers[::3])"
   ]
  },
  {
   "cell_type": "code",
   "execution_count": 69,
   "metadata": {},
   "outputs": [
    {
     "name": "stdout",
     "output_type": "stream",
     "text": [
      "('blue coral', 'staghorn coral', 'pillar coral', 'elkhorn coral', 'wakame', 'alaria', 'deep-sea tangle', 'macrocystis')\n"
     ]
    }
   ],
   "source": [
    "coral = ('blue coral', 'staghorn coral', 'pillar coral', 'elkhorn coral')\n",
    "kelp = ('wakame', 'alaria', 'deep-sea tangle', 'macrocystis')\n",
    "coral_kelp = (coral + kelp)\n",
    "print(coral_kelp)"
   ]
  },
  {
   "cell_type": "code",
   "execution_count": 70,
   "metadata": {},
   "outputs": [
    {
     "name": "stdout",
     "output_type": "stream",
     "text": [
      "('blue coral', 'staghorn coral', 'pillar coral', 'elkhorn coral', 'blue coral', 'staghorn coral', 'pillar coral', 'elkhorn coral')\n",
      "('wakame', 'alaria', 'deep-sea tangle', 'macrocystis', 'wakame', 'alaria', 'deep-sea tangle', 'macrocystis', 'wakame', 'alaria', 'deep-sea tangle', 'macrocystis')\n"
     ]
    }
   ],
   "source": [
    "multiplied_coral = coral * 2\n",
    "multiplied_kelp = kelp * 3\n",
    "print(multiplied_coral)\n",
    "print(multiplied_kelp)"
   ]
  },
  {
   "cell_type": "code",
   "execution_count": 71,
   "metadata": {},
   "outputs": [
    {
     "name": "stdout",
     "output_type": "stream",
     "text": [
      "4\n",
      "13\n"
     ]
    }
   ],
   "source": [
    "print(len(kelp))\n",
    "print(len(numbers))"
   ]
  },
  {
   "cell_type": "markdown",
   "metadata": {},
   "source": [
    "# Understanding Dictionaries"
   ]
  },
  {
   "cell_type": "code",
   "execution_count": 73,
   "metadata": {},
   "outputs": [
    {
     "name": "stdout",
     "output_type": "stream",
     "text": [
      "{'username': 'sammy-shark', 'online': True, 'followers': 987}\n"
     ]
    }
   ],
   "source": [
    "sammy = {'username': 'sammy-shark', 'online': True, 'followers': 987}\n",
    "print(sammy)"
   ]
  },
  {
   "cell_type": "code",
   "execution_count": 75,
   "metadata": {},
   "outputs": [
    {
     "data": {
      "text/plain": [
       "'sammy-shark'"
      ]
     },
     "execution_count": 75,
     "metadata": {},
     "output_type": "execute_result"
    }
   ],
   "source": [
    "sammy[\"username\"]"
   ]
  },
  {
   "cell_type": "code",
   "execution_count": 76,
   "metadata": {},
   "outputs": [
    {
     "data": {
      "text/plain": [
       "987"
      ]
     },
     "execution_count": 76,
     "metadata": {},
     "output_type": "execute_result"
    }
   ],
   "source": [
    "sammy[\"followers\"]"
   ]
  },
  {
   "cell_type": "code",
   "execution_count": 83,
   "metadata": {},
   "outputs": [
    {
     "name": "stdout",
     "output_type": "stream",
     "text": [
      "dict_keys(['username', 'online', 'followers'])\n",
      "dict_values(['sammy-shark', True, 987])\n",
      "dict_items([('username', 'sammy-shark'), ('online', True), ('followers', 987)])\n"
     ]
    }
   ],
   "source": [
    "print(sammy.keys())\n",
    "print(sammy.values())\n",
    "print(sammy.items())"
   ]
  },
  {
   "cell_type": "code",
   "execution_count": 84,
   "metadata": {},
   "outputs": [
    {
     "name": "stdout",
     "output_type": "stream",
     "text": [
      "True False\n",
      "sammy-shark JOctopus\n"
     ]
    }
   ],
   "source": [
    "sammy = {'username': 'sammy-shark', 'online': True,\n",
    "'followers': 987}\n",
    "jesse = {'username': 'JOctopus', 'online': False,\n",
    "'points': 723}\n",
    "for common_key in sammy.keys() & jesse.keys():\n",
    "    print(sammy[common_key], jesse[common_key])"
   ]
  },
  {
   "cell_type": "code",
   "execution_count": 86,
   "metadata": {},
   "outputs": [
    {
     "name": "stdout",
     "output_type": "stream",
     "text": [
      "username is the key for the value sammy-shark\n",
      "online is the key for the value True\n",
      "followers is the key for the value 987\n"
     ]
    }
   ],
   "source": [
    "for key, value in sammy.items():\n",
    "    print(key, \"is the key for the value\", value)"
   ]
  },
  {
   "cell_type": "code",
   "execution_count": 88,
   "metadata": {},
   "outputs": [
    {
     "name": "stdout",
     "output_type": "stream",
     "text": [
      "{'Sammy': 'sammy-shark', 'Jamie': 'mantisshrimp54'}\n",
      "{'Sammy': 'sammy-shark', 'Jamie': 'mantisshrimp54', 'Drew': 'squidly'}\n"
     ]
    }
   ],
   "source": [
    "usernames = {'Sammy': 'sammy-shark', 'Jamie': 'mantisshrimp54'}\n",
    "print(usernames)\n",
    "usernames[\"Drew\"] = \"squidly\"\n",
    "print(usernames)"
   ]
  },
  {
   "cell_type": "code",
   "execution_count": 90,
   "metadata": {},
   "outputs": [
    {
     "name": "stdout",
     "output_type": "stream",
     "text": [
      "{'username': 'squidly', 'online': True, 'followers': 305}\n",
      "{'username': 'squidly', 'online': True, 'followers': 342}\n"
     ]
    }
   ],
   "source": [
    "drew = {'username': 'squidly', 'online': True, 'followers': 305}\n",
    "print(drew)\n",
    "drew[\"followers\"] = 342\n",
    "print(drew)"
   ]
  },
  {
   "cell_type": "code",
   "execution_count": 91,
   "metadata": {},
   "outputs": [
    {
     "name": "stdout",
     "output_type": "stream",
     "text": [
      "{'username': 'JOctopus', 'online': False, 'points': 723}\n",
      "{'username': 'JOctopus', 'online': False, 'points': 723, 'followers': 481}\n"
     ]
    }
   ],
   "source": [
    "jesse = {'username': 'JOctopus', 'online': False, 'points': 723}\n",
    "print(jesse)\n",
    "jesse.update({\"followers\": 481})\n",
    "print(jesse)"
   ]
  },
  {
   "cell_type": "code",
   "execution_count": 93,
   "metadata": {},
   "outputs": [
    {
     "name": "stdout",
     "output_type": "stream",
     "text": [
      "{'username': 'sammy-shark', 'online': True, 'followers': 987}\n",
      "{'username': 'sammy-shark', 'online': False, 'followers': 987}\n"
     ]
    }
   ],
   "source": [
    "print(sammy)\n",
    "sammy.update({\"online\": False})\n",
    "print(sammy)"
   ]
  },
  {
   "cell_type": "code",
   "execution_count": 94,
   "metadata": {},
   "outputs": [
    {
     "name": "stdout",
     "output_type": "stream",
     "text": [
      "{'username': 'JOctopus', 'online': False, 'points': 723, 'followers': 481}\n",
      "{'username': 'JOctopus', 'online': False, 'followers': 481}\n"
     ]
    }
   ],
   "source": [
    "print(jesse)\n",
    "del jesse['points']\n",
    "print(jesse)"
   ]
  },
  {
   "cell_type": "code",
   "execution_count": 96,
   "metadata": {},
   "outputs": [
    {
     "name": "stdout",
     "output_type": "stream",
     "text": [
      "{}\n"
     ]
    }
   ],
   "source": [
    "jesse.clear()\n",
    "print(jesse)"
   ]
  },
  {
   "cell_type": "code",
   "execution_count": 97,
   "metadata": {},
   "outputs": [
    {
     "ename": "NameError",
     "evalue": "name 'jesse' is not defined",
     "output_type": "error",
     "traceback": [
      "\u001b[0;31m---------------------------------------------------------------------------\u001b[0m",
      "\u001b[0;31mNameError\u001b[0m                                 Traceback (most recent call last)",
      "\u001b[0;32m/var/folders/76/xs74b8wd5y1d4jslcyz534sh0000gn/T/ipykernel_1150/3076087196.py\u001b[0m in \u001b[0;36m<module>\u001b[0;34m\u001b[0m\n\u001b[1;32m      1\u001b[0m \u001b[0;32mdel\u001b[0m \u001b[0mjesse\u001b[0m\u001b[0;34m\u001b[0m\u001b[0;34m\u001b[0m\u001b[0m\n\u001b[0;32m----> 2\u001b[0;31m \u001b[0mprint\u001b[0m\u001b[0;34m(\u001b[0m\u001b[0mjesse\u001b[0m\u001b[0;34m)\u001b[0m\u001b[0;34m\u001b[0m\u001b[0;34m\u001b[0m\u001b[0m\n\u001b[0m",
      "\u001b[0;31mNameError\u001b[0m: name 'jesse' is not defined"
     ]
    }
   ],
   "source": [
    "del jesse\n",
    "print(jesse)"
   ]
  },
  {
   "cell_type": "markdown",
   "metadata": {},
   "source": [
    "# How To Import Modules"
   ]
  },
  {
   "cell_type": "code",
   "execution_count": 7,
   "metadata": {},
   "outputs": [
    {
     "name": "stdout",
     "output_type": "stream",
     "text": [
      "12\n",
      "19\n",
      "19\n",
      "5\n",
      "12\n",
      "25\n",
      "14\n",
      "24\n",
      "15\n",
      "12\n",
      "3.141592653589793\n"
     ]
    }
   ],
   "source": [
    "import math\n",
    "import matplotlib\n",
    "import random\n",
    "for i in range(10):\n",
    "    print(random.randint(1,25))\n",
    "print(math.pi)"
   ]
  },
  {
   "cell_type": "code",
   "execution_count": 9,
   "metadata": {},
   "outputs": [
    {
     "name": "stdout",
     "output_type": "stream",
     "text": [
      "10\n",
      "15\n",
      "2\n",
      "6\n",
      "5\n",
      "5\n",
      "3\n",
      "17\n",
      "25\n",
      "6\n"
     ]
    }
   ],
   "source": [
    "from random import randint\n",
    "for i in range(10):\n",
    "    print(randint(1,25))"
   ]
  },
  {
   "cell_type": "markdown",
   "metadata": {},
   "source": [
    "# How To Write Modules"
   ]
  },
  {
   "cell_type": "code",
   "execution_count": 23,
   "metadata": {},
   "outputs": [
    {
     "data": {
      "text/plain": [
       "<module 'hello' from '/Users/kassayebelay/Desktop/Python/kb_Python/how_to_code_in_python/hello.py'>"
      ]
     },
     "execution_count": 23,
     "metadata": {},
     "output_type": "execute_result"
    }
   ],
   "source": [
    "# Import hello module\n",
    "import hello\n",
    "\n",
    "import importlib\n",
    "importlib.reload(hello)\n",
    "\n",
    "# Call function \n"
   ]
  },
  {
   "cell_type": "code",
   "execution_count": 24,
   "metadata": {},
   "outputs": [
    {
     "name": "stdout",
     "output_type": "stream",
     "text": [
      "Hello, World!\n",
      "Sammy\n",
      "This octopus is orange.\n",
      "Jesse is the octopus's name.\n"
     ]
    }
   ],
   "source": [
    "# Import Hello module\n",
    "import hello\n",
    "\n",
    "# Call function\n",
    "hello.world()\n",
    "\n",
    "# Print Variable\n",
    "print(hello.shark)\n",
    "\n",
    "# Call class\n",
    "jesse = hello.Octopus(\"Jesse\", \"orange\")\n",
    "jesse.tell_me_about_the_octopus()"
   ]
  },
  {
   "cell_type": "code",
   "execution_count": 26,
   "metadata": {},
   "outputs": [
    {
     "name": "stdout",
     "output_type": "stream",
     "text": [
      "['/Users/kassayebelay/Desktop/Python/kb_Python/how_to_code_in_python', '/Users/kassayebelay/opt/anaconda3/lib/python39.zip', '/Users/kassayebelay/opt/anaconda3/lib/python3.9', '/Users/kassayebelay/opt/anaconda3/lib/python3.9/lib-dynload', '', '/Users/kassayebelay/.local/lib/python3.9/site-packages', '/Users/kassayebelay/opt/anaconda3/lib/python3.9/site-packages', '/Users/kassayebelay/opt/anaconda3/lib/python3.9/site-packages/aeosa', '/Users/kassayebelay/opt/anaconda3/lib/python3.9/site-packages/locket-0.2.1-py3.9.egg', '/Users/kassayebelay/opt/anaconda3/lib/python3.9/site-packages/IPython/extensions', '/Users/kassayebelay/.ipython']\n"
     ]
    }
   ],
   "source": [
    "import sys\n",
    "print(sys.path)"
   ]
  },
  {
   "cell_type": "code",
   "execution_count": 28,
   "metadata": {},
   "outputs": [
    {
     "ename": "NameError",
     "evalue": "name 'Box' is not defined",
     "output_type": "error",
     "traceback": [
      "\u001b[0;31m---------------------------------------------------------------------------\u001b[0m",
      "\u001b[0;31mNameError\u001b[0m                                 Traceback (most recent call last)",
      "\u001b[0;32m/var/folders/76/xs74b8wd5y1d4jslcyz534sh0000gn/T/ipykernel_992/141493735.py\u001b[0m in \u001b[0;36m<module>\u001b[0;34m\u001b[0m\n\u001b[0;32m----> 1\u001b[0;31m \u001b[0mbig_box\u001b[0m \u001b[0;34m=\u001b[0m \u001b[0mBox\u001b[0m\u001b[0;34m(\u001b[0m\u001b[0;36m0\u001b[0m\u001b[0;34m,\u001b[0m \u001b[0;36m0\u001b[0m\u001b[0;34m,\u001b[0m \u001b[0;36m30\u001b[0m\u001b[0;34m,\u001b[0m \u001b[0;36m50\u001b[0m\u001b[0;34m)\u001b[0m\u001b[0;34m\u001b[0m\u001b[0;34m\u001b[0m\u001b[0m\n\u001b[0m",
      "\u001b[0;31mNameError\u001b[0m: name 'Box' is not defined"
     ]
    }
   ],
   "source": [
    "big_box = Box(0, 0, 30, 50)"
   ]
  },
  {
   "cell_type": "code",
   "execution_count": 29,
   "metadata": {},
   "outputs": [
    {
     "ename": "NameError",
     "evalue": "name 'many_boxes' is not defined",
     "output_type": "error",
     "traceback": [
      "\u001b[0;31m---------------------------------------------------------------------------\u001b[0m",
      "\u001b[0;31mNameError\u001b[0m                                 Traceback (most recent call last)",
      "\u001b[0;32m/var/folders/76/xs74b8wd5y1d4jslcyz534sh0000gn/T/ipykernel_992/277630402.py\u001b[0m in \u001b[0;36m<module>\u001b[0;34m\u001b[0m\n\u001b[1;32m     25\u001b[0m \u001b[0;34m\u001b[0m\u001b[0m\n\u001b[1;32m     26\u001b[0m \u001b[0;31m# Make the visible part of the drawing larger to show big_box\u001b[0m\u001b[0;34m\u001b[0m\u001b[0;34m\u001b[0m\u001b[0m\n\u001b[0;32m---> 27\u001b[0;31m \u001b[0mdraw_boxes\u001b[0m\u001b[0;34m(\u001b[0m\u001b[0mmany_boxes\u001b[0m\u001b[0;34m,\u001b[0m \u001b[0;34m\"lesson3.svg\"\u001b[0m\u001b[0;34m,\u001b[0m \u001b[0;34m(\u001b[0m\u001b[0;34m\"50cm\"\u001b[0m\u001b[0;34m,\u001b[0m \u001b[0;34m\"90cm\"\u001b[0m\u001b[0;34m)\u001b[0m\u001b[0;34m)\u001b[0m\u001b[0;34m\u001b[0m\u001b[0;34m\u001b[0m\u001b[0m\n\u001b[0m",
      "\u001b[0;31mNameError\u001b[0m: name 'many_boxes' is not defined"
     ]
    }
   ],
   "source": [
    "import svgwrite\n",
    "\n",
    "\n",
    "def draw_boxes(boxes, fname, size):\n",
    "    dwg = svgwrite.Drawing(fname, profile=\"full\", size=size)\n",
    "    # Draw the \"big box\"\n",
    "    dwg.add(\n",
    "        dwg.rect(\n",
    "            insert=(f\"{big_box.x}cm\", f\"{big_box.y}cm\"),\n",
    "            size=(f\"{big_box.w}cm\", f\"{big_box.h}cm\"),\n",
    "            fill=\"lightblue\",\n",
    "        )\n",
    "    )\n",
    "    # Draw all the boxes\n",
    "    for box in boxes:\n",
    "        dwg.add(\n",
    "            dwg.rect(\n",
    "                insert=(f\"{box.x}cm\", f\"{box.y}cm\"),\n",
    "                size=(f\"{box.w}cm\", f\"{box.h}cm\"),\n",
    "                fill=\"red\",\n",
    "            )\n",
    "        )\n",
    "    dwg.save()\n",
    "\n",
    "\n",
    "# Make the visible part of the drawing larger to show big_box\n",
    "draw_boxes(many_boxes, \"lesson3.svg\", (\"50cm\", \"90cm\"))"
   ]
  },
  {
   "cell_type": "markdown",
   "metadata": {},
   "source": [
    "# How To Write Conditional Statements"
   ]
  },
  {
   "cell_type": "code",
   "execution_count": 30,
   "metadata": {},
   "outputs": [
    {
     "name": "stdout",
     "output_type": "stream",
     "text": [
      "Passing Grade!\n"
     ]
    }
   ],
   "source": [
    "grade = 70\n",
    "if grade >= 65:\n",
    "    print(\"Passing Grade!\")\n",
    "\n"
   ]
  },
  {
   "cell_type": "code",
   "execution_count": 31,
   "metadata": {},
   "outputs": [
    {
     "name": "stdout",
     "output_type": "stream",
     "text": [
      "Balance is below 0, add funds now or you will be charged a penalty!\n"
     ]
    }
   ],
   "source": [
    "balance = -5\n",
    "if balance < 0:\n",
    "    print(\"Balance is below 0, add funds now or you will be charged a penalty!\")"
   ]
  },
  {
   "cell_type": "code",
   "execution_count": 32,
   "metadata": {},
   "outputs": [
    {
     "name": "stdout",
     "output_type": "stream",
     "text": [
      "Failing Grade!\n"
     ]
    }
   ],
   "source": [
    "grade = 60\n",
    "\n",
    "if grade >= 65:\n",
    "    print(\"Passing Grade!\")\n",
    "else:\n",
    "    print(\"Failing Grade!\")"
   ]
  },
  {
   "cell_type": "code",
   "execution_count": 33,
   "metadata": {},
   "outputs": [
    {
     "name": "stdout",
     "output_type": "stream",
     "text": [
      "Your Balance is 0 or above!\n"
     ]
    }
   ],
   "source": [
    "balance = 522\n",
    "if balance < 0:\n",
    "    print(\"Balance is below 0, add funds now or you will be charged a penalty!\")\n",
    "else:\n",
    "    print(\"Your Balance is 0 or above!\")"
   ]
  },
  {
   "cell_type": "code",
   "execution_count": 35,
   "metadata": {},
   "outputs": [
    {
     "name": "stdout",
     "output_type": "stream",
     "text": [
      "Your Balance is 0 or above!\n"
     ]
    }
   ],
   "source": [
    "balance = 522\n",
    "if balance < 0:\n",
    "    print(\"Balance is below 0, add funds now or you will be charged a penalty!\")\n",
    "elif balance == 0:\n",
    "    print(\"Balance is equal to 0, add funds soon!\")\n",
    "else:\n",
    "    print(\"Your Balance is 0 or above!\")"
   ]
  },
  {
   "cell_type": "code",
   "execution_count": 37,
   "metadata": {},
   "outputs": [
    {
     "name": "stdout",
     "output_type": "stream",
     "text": [
      "A grade\n"
     ]
    }
   ],
   "source": [
    "grade = int(input(\"Enter your grade: \"))\n",
    "\n",
    "if grade >= 90:\n",
    "    print(\"A grade\")\n",
    "elif grade >= 80:\n",
    "    print(\"B grade\")\n",
    "elif grade >= 70:\n",
    "    print(\"C Grade\")\n",
    "elif grade >= 65:\n",
    "    print(\"D grade\")\n",
    "else:\n",
    "    print(\"Failing Grade!\")"
   ]
  },
  {
   "cell_type": "code",
   "execution_count": 38,
   "metadata": {},
   "outputs": [
    {
     "name": "stdout",
     "output_type": "stream",
     "text": [
      "Passing grade of:\n",
      "D\n"
     ]
    }
   ],
   "source": [
    "grade = int(input(\"Enter your grade: \"))\n",
    "if grade >= 65:\n",
    "    print(\"Passing grade of:\")\n",
    "    if grade >= 90:\n",
    "        print(\"A\")\n",
    "    elif grade >=80:\n",
    "        print(\"B\")\n",
    "    elif grade >=70:\n",
    "        print(\"C\")\n",
    "    elif grade >= 65:\n",
    "        print(\"D\")\n",
    "else:\n",
    "    print(\"Failing grade\")"
   ]
  },
  {
   "cell_type": "markdown",
   "metadata": {},
   "source": [
    "# How To Construct **While Loops**"
   ]
  },
  {
   "cell_type": "markdown",
   "metadata": {},
   "source": [
    "# How To Construct **For Loops**"
   ]
  },
  {
   "cell_type": "code",
   "execution_count": 39,
   "metadata": {},
   "outputs": [
    {
     "name": "stdout",
     "output_type": "stream",
     "text": [
      "0\n",
      "1\n",
      "2\n",
      "3\n",
      "4\n"
     ]
    }
   ],
   "source": [
    "for i in range(0,5):\n",
    "    print(i)"
   ]
  },
  {
   "cell_type": "code",
   "execution_count": 40,
   "metadata": {},
   "outputs": [
    {
     "name": "stdout",
     "output_type": "stream",
     "text": [
      "0\n",
      "1\n",
      "2\n",
      "3\n",
      "4\n",
      "5\n"
     ]
    }
   ],
   "source": [
    "for i in range(6):\n",
    "    print(i)"
   ]
  },
  {
   "cell_type": "code",
   "execution_count": 41,
   "metadata": {},
   "outputs": [
    {
     "name": "stdout",
     "output_type": "stream",
     "text": [
      "0\n",
      "3\n",
      "6\n",
      "9\n",
      "12\n"
     ]
    }
   ],
   "source": [
    "for i in range(0,15, 3):\n",
    "    print(i)"
   ]
  },
  {
   "cell_type": "code",
   "execution_count": 42,
   "metadata": {},
   "outputs": [
    {
     "name": "stdout",
     "output_type": "stream",
     "text": [
      "100\n",
      "90\n",
      "80\n",
      "70\n",
      "60\n",
      "50\n",
      "40\n",
      "30\n",
      "20\n",
      "10\n"
     ]
    }
   ],
   "source": [
    "for i in range(100, 0, -10):\n",
    "    print(i)"
   ]
  },
  {
   "cell_type": "code",
   "execution_count": 43,
   "metadata": {},
   "outputs": [
    {
     "name": "stdout",
     "output_type": "stream",
     "text": [
      "hammerhead\n",
      "great white\n",
      "dogfish\n",
      "frilled\n",
      "bullhead\n",
      "requiem\n"
     ]
    }
   ],
   "source": [
    "sharks = ['hammerhead', 'great white', 'dogfish', 'frilled', 'bullhead', 'requiem']\n",
    "for shark in sharks:\n",
    "    print(shark)"
   ]
  },
  {
   "cell_type": "code",
   "execution_count": 44,
   "metadata": {},
   "outputs": [
    {
     "name": "stdout",
     "output_type": "stream",
     "text": [
      "['hammerhead', 'great white', 'dogfish', 'frilled', 'bullhead', 'requiem', 'shark', 'shark', 'shark', 'shark', 'shark', 'shark']\n"
     ]
    }
   ],
   "source": [
    "for item in range(len(sharks)):\n",
    "    sharks.append(\"shark\")\n",
    "print(sharks)"
   ]
  },
  {
   "cell_type": "code",
   "execution_count": 45,
   "metadata": {},
   "outputs": [
    {
     "name": "stdout",
     "output_type": "stream",
     "text": [
      "[0, 1, 2, 3, 4, 5, 6, 7, 8, 9]\n"
     ]
    }
   ],
   "source": [
    "integers = []\n",
    "for i in range(10):\n",
    "    integers.append(i)\n",
    "print(integers)"
   ]
  },
  {
   "cell_type": "code",
   "execution_count": 46,
   "metadata": {},
   "outputs": [
    {
     "name": "stdout",
     "output_type": "stream",
     "text": [
      "S\n",
      "a\n",
      "m\n",
      "m\n",
      "y\n"
     ]
    }
   ],
   "source": [
    "sammy = \"Sammy\"\n",
    "\n",
    "for letter in sammy:\n",
    "    print(letter)"
   ]
  },
  {
   "cell_type": "code",
   "execution_count": 48,
   "metadata": {},
   "outputs": [
    {
     "name": "stdout",
     "output_type": "stream",
     "text": [
      "name: Sammy\n",
      "animal: shark\n",
      "color: blue\n",
      "location: ocean\n"
     ]
    }
   ],
   "source": [
    "sammy_shark = {'name': 'Sammy', 'animal': 'shark', 'color': 'blue', 'location': 'ocean'}\n",
    "for key in sammy_shark:\n",
    "    print(key + \": \" + sammy_shark[key])"
   ]
  },
  {
   "cell_type": "code",
   "execution_count": 50,
   "metadata": {},
   "outputs": [
    {
     "name": "stdout",
     "output_type": "stream",
     "text": [
      "Sammy\n"
     ]
    }
   ],
   "source": [
    "print(sammy_shark[\"name\"])"
   ]
  },
  {
   "cell_type": "code",
   "execution_count": 51,
   "metadata": {},
   "outputs": [
    {
     "name": "stdout",
     "output_type": "stream",
     "text": [
      "1\n",
      "a\n",
      "b\n",
      "c\n",
      "2\n",
      "a\n",
      "b\n",
      "c\n",
      "3\n",
      "a\n",
      "b\n",
      "c\n"
     ]
    }
   ],
   "source": [
    "num_list = [1, 2, 3]\n",
    "alpha_list = [\"a\", \"b\", \"c\"]\n",
    "\n",
    "for num in num_list:\n",
    "    print(num)\n",
    "    for letter in alpha_list:\n",
    "        print(letter)"
   ]
  },
  {
   "cell_type": "code",
   "execution_count": 52,
   "metadata": {},
   "outputs": [
    {
     "name": "stdout",
     "output_type": "stream",
     "text": [
      "['hammerhead', 'great white', 'dogfish']\n",
      "[0, 1, 2]\n",
      "[9.9, 8.8, 7.7]\n"
     ]
    }
   ],
   "source": [
    "list_of_lists = [['hammerhead', 'great white', 'dogfish'],[0, 1, 2],[9.9, 8.8, 7.7]]\n",
    "for list in list_of_lists:\n",
    "    print(list)"
   ]
  },
  {
   "cell_type": "code",
   "execution_count": 53,
   "metadata": {},
   "outputs": [
    {
     "name": "stdout",
     "output_type": "stream",
     "text": [
      "hammerhead\n",
      "great white\n",
      "dogfish\n",
      "0\n",
      "1\n",
      "2\n",
      "9.9\n",
      "8.8\n",
      "7.7\n"
     ]
    }
   ],
   "source": [
    "for list in list_of_lists:\n",
    "    for item in list:\n",
    "        print(item)"
   ]
  },
  {
   "cell_type": "code",
   "execution_count": 2,
   "metadata": {},
   "outputs": [
    {
     "name": "stdout",
     "output_type": "stream",
     "text": [
      "Number is 1\n",
      "Number is 2\n",
      "Number is 3\n",
      "Number is 4\n",
      "Out of the loop\n"
     ]
    }
   ],
   "source": [
    "number = 0\n",
    "\n",
    "for number in range(10):\n",
    "    number = number + 1\n",
    "\n",
    "    if number == 5:\n",
    "        break\n",
    "    print(\"Number is \" + str(number))\n",
    "print(\"Out of the loop\")"
   ]
  },
  {
   "cell_type": "code",
   "execution_count": 3,
   "metadata": {},
   "outputs": [
    {
     "name": "stdout",
     "output_type": "stream",
     "text": [
      "Number is 1\n",
      "Number is 2\n",
      "Number is 3\n",
      "Number is 4\n",
      "Number is 6\n",
      "Number is 7\n",
      "Number is 8\n",
      "Number is 9\n",
      "Number is 10\n",
      "Out of the loop\n"
     ]
    }
   ],
   "source": [
    "number = 0\n",
    "\n",
    "for number in range(10):\n",
    "    number = number + 1\n",
    "\n",
    "    if number == 5:\n",
    "        continue\n",
    "    print(\"Number is \" + str(number))\n",
    "print(\"Out of the loop\")"
   ]
  },
  {
   "cell_type": "code",
   "execution_count": 4,
   "metadata": {},
   "outputs": [
    {
     "name": "stdout",
     "output_type": "stream",
     "text": [
      "Number is 1\n",
      "Number is 2\n",
      "Number is 3\n",
      "Number is 4\n",
      "Number is 5\n",
      "Number is 6\n",
      "Number is 7\n",
      "Number is 8\n",
      "Number is 9\n",
      "Number is 10\n",
      "Out of the loop\n"
     ]
    }
   ],
   "source": [
    "number = 0\n",
    "\n",
    "for number in range(10):\n",
    "    number = number + 1\n",
    "\n",
    "    if number == 5:\n",
    "        pass\n",
    "    print(\"Number is \" + str(number))\n",
    "print(\"Out of the loop\")"
   ]
  },
  {
   "cell_type": "markdown",
   "metadata": {},
   "source": [
    "# How To Define Functions"
   ]
  },
  {
   "cell_type": "code",
   "execution_count": 5,
   "metadata": {},
   "outputs": [],
   "source": [
    "# Define a function names ()\n",
    "\n",
    "def names():\n",
    "    # Set up name variable with input\n",
    "    name = str(input(\"Enter  your name: \"))\n",
    "    # Check whether name has a vowel\n",
    "    if set(\"aeiou\").intersection(name.lower()):\n",
    "        print(\"Your name has a vowel.\")\n",
    "    else:\n",
    "        print(\"Your name does not contain a vowel.\")\n",
    "\n",
    "    # Iterate over name\n",
    "        for letter in name:\n",
    "            print(letter)"
   ]
  },
  {
   "cell_type": "code",
   "execution_count": 6,
   "metadata": {},
   "outputs": [
    {
     "name": "stdout",
     "output_type": "stream",
     "text": [
      "Your name has a vowel.\n"
     ]
    }
   ],
   "source": [
    "names()"
   ]
  },
  {
   "cell_type": "code",
   "execution_count": 7,
   "metadata": {},
   "outputs": [],
   "source": [
    "def add_numbers(x, y, z):\n",
    "    a = x + y\n",
    "    b = x + z\n",
    "    c = y + z\n",
    "    print(a, b, c)"
   ]
  },
  {
   "cell_type": "code",
   "execution_count": 8,
   "metadata": {},
   "outputs": [
    {
     "name": "stdout",
     "output_type": "stream",
     "text": [
      "3 4 5\n"
     ]
    }
   ],
   "source": [
    "add_numbers(1, 2, 3)"
   ]
  },
  {
   "cell_type": "code",
   "execution_count": 12,
   "metadata": {},
   "outputs": [],
   "source": [
    "# Define  function with parameters\n",
    "def profile_info(username, followers):\n",
    "    print(\"Username: \" + username)\n",
    "    print(\"Followers: \" + str(followers))"
   ]
  },
  {
   "cell_type": "code",
   "execution_count": 13,
   "metadata": {},
   "outputs": [
    {
     "name": "stdout",
     "output_type": "stream",
     "text": [
      "Username: KassayeB\n",
      "Followers: 565\n"
     ]
    }
   ],
   "source": [
    "profile_info(\"KassayeB\", 565)"
   ]
  },
  {
   "cell_type": "code",
   "execution_count": 14,
   "metadata": {},
   "outputs": [
    {
     "name": "stdout",
     "output_type": "stream",
     "text": [
      "Username: AlexAnglerfish\n",
      "Followers: 342\n"
     ]
    }
   ],
   "source": [
    "profile_info(username=\"AlexAnglerfish\", followers=342)"
   ]
  },
  {
   "cell_type": "code",
   "execution_count": 15,
   "metadata": {},
   "outputs": [
    {
     "name": "stdout",
     "output_type": "stream",
     "text": [
      "Username: cameroncatfish\n",
      "Followers: 820\n"
     ]
    }
   ],
   "source": [
    "# Change order of parameters\n",
    "profile_info(followers=820, username=\"cameroncatfish\")"
   ]
  },
  {
   "cell_type": "code",
   "execution_count": 16,
   "metadata": {},
   "outputs": [],
   "source": [
    "# Default Argument values\n",
    "def profile_info(username, followers = 1):\n",
    "    print(\"Username: \" + username)\n",
    "    print(\"Followers: \" + str(followers))"
   ]
  },
  {
   "cell_type": "code",
   "execution_count": 18,
   "metadata": {},
   "outputs": [
    {
     "name": "stdout",
     "output_type": "stream",
     "text": [
      "Username: JOctopus\n",
      "Followers: 1\n",
      "Username: sammyshark\n",
      "Followers: 945\n"
     ]
    }
   ],
   "source": [
    "profile_info(username=\"JOctopus\")\n",
    "profile_info(username=\"sammyshark\", followers=945)"
   ]
  },
  {
   "cell_type": "code",
   "execution_count": 25,
   "metadata": {},
   "outputs": [
    {
     "name": "stdout",
     "output_type": "stream",
     "text": [
      "9\n"
     ]
    }
   ],
   "source": [
    "def square(x):\n",
    "    y = x **2\n",
    "    return y\n",
    "result = square(3)\n",
    "print(result)"
   ]
  },
  {
   "cell_type": "code",
   "execution_count": 26,
   "metadata": {},
   "outputs": [
    {
     "data": {
      "text/plain": [
       "4"
      ]
     },
     "execution_count": 26,
     "metadata": {},
     "output_type": "execute_result"
    }
   ],
   "source": [
    "square(2)"
   ]
  },
  {
   "cell_type": "code",
   "execution_count": 27,
   "metadata": {},
   "outputs": [
    {
     "name": "stdout",
     "output_type": "stream",
     "text": [
      "(3, 4, 5)\n"
     ]
    }
   ],
   "source": [
    "def add_numbers(x, y, z):\n",
    "    a = x + y\n",
    "    b = x + z\n",
    "    c = y + z\n",
    "    return a, b, c\n",
    "sums = add_numbers(1, 2, 3)\n",
    "print(sums)"
   ]
  },
  {
   "cell_type": "code",
   "execution_count": 28,
   "metadata": {},
   "outputs": [],
   "source": [
    "def loop_five():\n",
    "    for x in range(0, 25):\n",
    "        print(x)\n",
    "        if x == 5:\n",
    "            # Stop function at x ==5\n",
    "            return \n",
    "        print(\"This line will not execute.\")\n"
   ]
  },
  {
   "cell_type": "code",
   "execution_count": 29,
   "metadata": {},
   "outputs": [
    {
     "name": "stdout",
     "output_type": "stream",
     "text": [
      "0\n",
      "This line will not execute.\n",
      "1\n",
      "This line will not execute.\n",
      "2\n",
      "This line will not execute.\n",
      "3\n",
      "This line will not execute.\n",
      "4\n",
      "This line will not execute.\n",
      "5\n"
     ]
    }
   ],
   "source": [
    "loop_five()"
   ]
  },
  {
   "cell_type": "code",
   "execution_count": 32,
   "metadata": {},
   "outputs": [],
   "source": [
    "def hello():\n",
    "    print(\"Hello, World!\")\n",
    "\n",
    "def main():\n",
    "    print(\"This is the Main Function\")\n",
    "    hello()"
   ]
  },
  {
   "cell_type": "code",
   "execution_count": 33,
   "metadata": {},
   "outputs": [
    {
     "name": "stdout",
     "output_type": "stream",
     "text": [
      "This is the Main Function\n",
      "Hello, World!\n"
     ]
    }
   ],
   "source": [
    "main()"
   ]
  },
  {
   "cell_type": "code",
   "execution_count": 36,
   "metadata": {},
   "outputs": [
    {
     "name": "stdout",
     "output_type": "stream",
     "text": [
      "Your name has a vowel.\n",
      "k\n",
      "a\n",
      "s\n",
      "s\n",
      "a\n",
      "y\n",
      "e\n",
      "b\n"
     ]
    }
   ],
   "source": [
    "# Declare global variable name for use in all functions\n",
    "name = str(input('Enter your name: '))\n",
    "\n",
    "def has_vowel():\n",
    "    if set(\"aeiou\").intersection(name.lower()):\n",
    "        print(\"Your name has a vowel.\")\n",
    "    else:\n",
    "        print(\"Your name does not contain a vowel.\")\n",
    "\n",
    "# Iterate over letters in name string\n",
    "def print_letters():\n",
    "    for letter in name:\n",
    "        print(letter)\n",
    "\n",
    "# Define main method that calls other functions\n",
    "def main():\n",
    "    has_vowel()\n",
    "    print_letters()\n",
    "\n",
    "# Execute main () function\n",
    "if __name__ == \"__main__\":\n",
    "    main()"
   ]
  },
  {
   "cell_type": "markdown",
   "metadata": {},
   "source": [
    "# How To Use *args and **kwargs"
   ]
  },
  {
   "cell_type": "code",
   "execution_count": 37,
   "metadata": {},
   "outputs": [],
   "source": [
    "def multiply(*args):\n",
    "    z = 1\n",
    "    for num in args:\n",
    "        z *= num\n",
    "    print(z)"
   ]
  },
  {
   "cell_type": "code",
   "execution_count": 38,
   "metadata": {},
   "outputs": [
    {
     "name": "stdout",
     "output_type": "stream",
     "text": [
      "20\n",
      "90\n",
      "24\n",
      "900\n"
     ]
    }
   ],
   "source": [
    "multiply(4, 5)\n",
    "multiply(10, 9)\n",
    "multiply(2, 3, 4)\n",
    "multiply(3, 5, 10, 6)"
   ]
  },
  {
   "cell_type": "code",
   "execution_count": 39,
   "metadata": {},
   "outputs": [],
   "source": [
    "def print_kwargs(**kwargs):\n",
    "    print(kwargs)"
   ]
  },
  {
   "cell_type": "code",
   "execution_count": 41,
   "metadata": {},
   "outputs": [
    {
     "name": "stdout",
     "output_type": "stream",
     "text": [
      "{'kwargs_1': 'Shark', 'kwargs_2': 4.5, 'kwargs_3': True}\n"
     ]
    }
   ],
   "source": [
    "print_kwargs(kwargs_1=\"Shark\", kwargs_2=4.5, kwargs_3=True)"
   ]
  },
  {
   "cell_type": "code",
   "execution_count": 42,
   "metadata": {},
   "outputs": [
    {
     "name": "stdout",
     "output_type": "stream",
     "text": [
      "The value of my_name is Sammy\n",
      "The value of your_name is Casey\n"
     ]
    }
   ],
   "source": [
    "def print_values(**kwargs):\n",
    "    for key, value in kwargs.items():\n",
    "        print(\"The value of {} is {}\".format(key, value))\n",
    "print_values(my_name=\"Sammy\", your_name=\"Casey\")"
   ]
  },
  {
   "cell_type": "code",
   "execution_count": 43,
   "metadata": {},
   "outputs": [
    {
     "name": "stdout",
     "output_type": "stream",
     "text": [
      "The value of name_1 is Alex\n",
      "The value of name_2 is Gray\n",
      "The value of name_3 is Harper\n",
      "The value of name_4 is Phoenix\n",
      "The value of name_5 is Remy\n",
      "The value of name_6 is Val\n"
     ]
    }
   ],
   "source": [
    "print_values(\n",
    "name_1=\"Alex\",\n",
    "name_2=\"Gray\",\n",
    "name_3=\"Harper\",\n",
    "name_4=\"Phoenix\",\n",
    "name_5=\"Remy\",\n",
    "name_6=\"Val\"\n",
    ")"
   ]
  },
  {
   "cell_type": "code",
   "execution_count": 48,
   "metadata": {},
   "outputs": [
    {
     "name": "stdout",
     "output_type": "stream",
     "text": [
      "arg_1: Sammy\n",
      "arg_2: Casey\n",
      "arg_3: Alex\n"
     ]
    }
   ],
   "source": [
    "def some_args(arg_1, arg_2, arg_3):\n",
    "    print(\"arg_1:\", arg_1)\n",
    "    print(\"arg_2:\", arg_2)\n",
    "    print(\"arg_3:\", arg_3)\n",
    "args = (\"Sammy\", \"Casey\", \"Alex\")\n",
    "some_args(*args)"
   ]
  },
  {
   "cell_type": "code",
   "execution_count": 49,
   "metadata": {},
   "outputs": [
    {
     "name": "stdout",
     "output_type": "stream",
     "text": [
      "arg_1: 1\n",
      "arg_2: 2\n",
      "arg_3: 3\n"
     ]
    }
   ],
   "source": [
    "def some_args(arg_1, arg_2, arg_3):\n",
    "    print(\"arg_1:\", arg_1)\n",
    "    print(\"arg_2:\", arg_2)\n",
    "    print(\"arg_3:\", arg_3)\n",
    "\n",
    "my_list = [2, 3]\n",
    "some_args(1, *my_list)"
   ]
  },
  {
   "cell_type": "code",
   "execution_count": 50,
   "metadata": {},
   "outputs": [
    {
     "name": "stdout",
     "output_type": "stream",
     "text": [
      "kwarg_1: Val\n",
      "kwarg_2: Harper\n",
      "kwarg_3: Remy\n"
     ]
    }
   ],
   "source": [
    "def some_kwargs(kwarg_1, kwarg_2, kwarg_3):\n",
    "    print(\"kwarg_1:\", kwarg_1)\n",
    "    print(\"kwarg_2:\", kwarg_2)\n",
    "    print(\"kwarg_3:\", kwarg_3)\n",
    "\n",
    "kwargs = {\"kwarg_1\": \"Val\", \"kwarg_2\": \"Harper\", \"kwarg_3\": \"Remy\"}\n",
    "some_kwargs(**kwargs)"
   ]
  },
  {
   "cell_type": "markdown",
   "metadata": {},
   "source": [
    "# How To Plot Data in Python 3 Using matplotlib\n",
    "#### Published on November 7, 2016"
   ]
  },
  {
   "cell_type": "code",
   "execution_count": 51,
   "metadata": {},
   "outputs": [],
   "source": [
    "# Step 1 — Importing matplotlib\n",
    "import matplotlib.pyplot as plt"
   ]
  },
  {
   "cell_type": "code",
   "execution_count": 52,
   "metadata": {},
   "outputs": [],
   "source": [
    "# Step 2 — Creating Data Points to Plot\n",
    "X = [590,540,740,130,810,300,320,230,470,620,770,250]\n",
    "Y = [32,36,39,52,61,72,77,75,68,57,48,48]"
   ]
  },
  {
   "cell_type": "code",
   "execution_count": 64,
   "metadata": {},
   "outputs": [
    {
     "data": {
      "image/png": "[encoded data removed]",
      "text/plain": [
       "<Figure size 432x288 with 1 Axes>"
      ]
     },
     "metadata": {
      "needs_background": "light"
     },
     "output_type": "display_data"
    }
   ],
   "source": [
    "# Step 3 — Plotting Data\n",
    "plt.scatter(X, Y, s = 60, c = \"red\", marker=\"^\")\n",
    "# Step 4 — Adding Titles and Labels\n",
    "plt.title(\"Relationship Between Temperature and Iced Coffee Sales\")\n",
    "plt.xlabel(\"Cups of Iced Coffee Sold\")\n",
    "plt.ylabel(\"Temperature in Fahrenheit\")\n",
    "# Step 5 — Customizing a Plot\n",
    "plt.xlim(0, 1000)\n",
    "plt.ylim(0, 100)\n",
    "plt.show()\n"
   ]
  },
  {
   "cell_type": "code",
   "execution_count": 1,
   "metadata": {},
   "outputs": [
    {
     "data": {
      "text/plain": [
       "2400"
      ]
     },
     "execution_count": 1,
     "metadata": {},
     "output_type": "execute_result"
    }
   ],
   "source": [
    "30 *80"
   ]
  },
  {
   "cell_type": "markdown",
   "metadata": {},
   "source": [
    "# How To Construct Classes and Define Objects"
   ]
  },
  {
   "cell_type": "code",
   "execution_count": 2,
   "metadata": {},
   "outputs": [],
   "source": [
    "class Shark:\n",
    "    def swim(self):\n",
    "        print(\"The shar is swiming!\")\n",
    "\n",
    "    def be_awesome(self):\n",
    "        print(\"The shark id being awesome!\")"
   ]
  },
  {
   "cell_type": "code",
   "execution_count": 4,
   "metadata": {},
   "outputs": [
    {
     "name": "stdout",
     "output_type": "stream",
     "text": [
      "The shar is swiming!\n",
      "The shark id being awesome!\n"
     ]
    }
   ],
   "source": [
    "sammy = Shark()\n",
    "sammy.swim()\n",
    "sammy.be_awesome()"
   ]
  },
  {
   "cell_type": "code",
   "execution_count": 5,
   "metadata": {},
   "outputs": [
    {
     "name": "stdout",
     "output_type": "stream",
     "text": [
      "The shar is swiming!\n",
      "The shark id being awesome!\n"
     ]
    }
   ],
   "source": [
    "class Shark:\n",
    "    def swim(self):\n",
    "        print(\"The shar is swiming!\")\n",
    "\n",
    "    def be_awesome(self):\n",
    "        print(\"The shark id being awesome!\")\n",
    "\n",
    "def main():\n",
    "    sammy = Shark()\n",
    "    sammy.swim()\n",
    "    sammy.be_awesome()\n",
    "if __name__ == \"__main__\":\n",
    "    main()"
   ]
  },
  {
   "cell_type": "code",
   "execution_count": 6,
   "metadata": {},
   "outputs": [
    {
     "name": "stdout",
     "output_type": "stream",
     "text": [
      "This is the constructor method!\n",
      "The shar is swiming!\n",
      "The shark id being awesome!\n"
     ]
    }
   ],
   "source": [
    "class Shark:\n",
    "    def __init__(self):\n",
    "        print(\"This is the constructor method!\")\n",
    "    def swim(self):\n",
    "        print(\"The shar is swiming!\")\n",
    "\n",
    "    def be_awesome(self):\n",
    "        print(\"The shark id being awesome!\")\n",
    "\n",
    "def main():\n",
    "    sammy = Shark()\n",
    "    sammy.swim()\n",
    "    sammy.be_awesome()\n",
    "if __name__ == \"__main__\":\n",
    "    main()\n"
   ]
  },
  {
   "cell_type": "code",
   "execution_count": 11,
   "metadata": {},
   "outputs": [
    {
     "name": "stdout",
     "output_type": "stream",
     "text": [
      "Kassayeb is swimming!\n",
      "Kassayeb is being awesome!\n"
     ]
    }
   ],
   "source": [
    "class Shark:\n",
    "    def __init__(self, name):\n",
    "        self.name = name\n",
    "    def swim(self):\n",
    "        # Reference the name\n",
    "        print(self.name + \" is swimming!\")\n",
    "    def be_awesome(self):\n",
    "        # Reference the name \n",
    "        print(self.name + \" is being awesome!\")\n",
    "\n",
    "def main():\n",
    "    # Set nam of Shark object\n",
    "    sammy = Shark(\"Kassayeb\")\n",
    "    sammy.swim()\n",
    "    sammy.be_awesome()\n",
    "\n",
    "if __name__ == \"__main__\":\n",
    "    main()\n"
   ]
  },
  {
   "cell_type": "markdown",
   "metadata": {},
   "source": [
    "# How To Construct Classes and Define Objects"
   ]
  },
  {
   "cell_type": "code",
   "execution_count": 13,
   "metadata": {},
   "outputs": [
    {
     "name": "stdout",
     "output_type": "stream",
     "text": [
      "Kassayeb is swimming and it is 5 years old!\n",
      "Kassayeb is being awesome!\n"
     ]
    }
   ],
   "source": [
    "class Shark:\n",
    "    def __init__(self, name, age):\n",
    "        self.name = name\n",
    "        self.age = age\n",
    "    def swim(self):\n",
    "        # Reference the name\n",
    "        print(self.name + \" is swimming and it is \" + str(self.age) + \" years old!\")\n",
    "    def be_awesome(self):\n",
    "        # Reference the name \n",
    "        print(self.name + \" is being awesome!\")\n",
    "\n",
    "def main():\n",
    "    # Set nam of Shark object\n",
    "    sammy = Shark(\"Kassayeb\", 5)\n",
    "    sammy.swim()\n",
    "    sammy.be_awesome()\n",
    "\n",
    "if __name__ == \"__main__\":\n",
    "    main()\n"
   ]
  },
  {
   "cell_type": "code",
   "execution_count": 15,
   "metadata": {},
   "outputs": [
    {
     "name": "stdout",
     "output_type": "stream",
     "text": [
      "Kassayeb is swimming!\n",
      "Kassayeb is being awesome!\n",
      "Stevie is swimming!\n",
      "Stevie is being awesome!\n"
     ]
    }
   ],
   "source": [
    "class Shark:\n",
    "    def __init__(self, name):\n",
    "        self.name = name\n",
    "    def swim(self):\n",
    "        # Reference the name\n",
    "        print(self.name + \" is swimming!\")\n",
    "    def be_awesome(self):\n",
    "        # Reference the name \n",
    "        print(self.name + \" is being awesome!\")\n",
    "\n",
    "def main():\n",
    "    # Set nam of Shark object\n",
    "    sammy = Shark(\"Kassayeb\")\n",
    "    sammy.swim()\n",
    "    sammy.be_awesome()\n",
    "    stevie = Shark(\"Stevie\")\n",
    "    stevie.swim()\n",
    "    stevie.be_awesome()\n",
    "    \n",
    "\n",
    "if __name__ == \"__main__\":\n",
    "    main()\n"
   ]
  },
  {
   "cell_type": "markdown",
   "metadata": {},
   "source": [
    "# Understanding Class and Instance Variables"
   ]
  },
  {
   "cell_type": "code",
   "execution_count": 17,
   "metadata": {},
   "outputs": [
    {
     "name": "stdout",
     "output_type": "stream",
     "text": [
      "fish\n",
      "ocean\n",
      "5\n"
     ]
    }
   ],
   "source": [
    "class Shark:\n",
    "    animal_type = \"fish\"\n",
    "    location = \"ocean\"\n",
    "    followers = 5\n",
    "\n",
    "new_shark = Shark()\n",
    "print(new_shark.animal_type)\n",
    "print(new_shark.location)\n",
    "print(new_shark.followers)"
   ]
  },
  {
   "cell_type": "code",
   "execution_count": 20,
   "metadata": {},
   "outputs": [
    {
     "name": "stdout",
     "output_type": "stream",
     "text": [
      "Sammy\n",
      "5\n",
      "Stevie\n",
      "8\n"
     ]
    }
   ],
   "source": [
    "class Shark:\n",
    "    def __init__(self, name, age):\n",
    "        self.name = name\n",
    "        self.age = age\n",
    "new_shark = Shark(\"Sammy\", 5)\n",
    "print(new_shark.name)\n",
    "print(new_shark.age)\n",
    "stevie = Shark(\"Stevie\", 8)\n",
    "print(stevie.name)\n",
    "print(stevie.age)"
   ]
  },
  {
   "cell_type": "code",
   "execution_count": 27,
   "metadata": {},
   "outputs": [
    {
     "name": "stdout",
     "output_type": "stream",
     "text": [
      "Sammy\n",
      "ocean\n",
      "Stevie\n",
      "This user has 77 followers\n",
      "fish\n"
     ]
    }
   ],
   "source": [
    "class Shark:\n",
    "    # Class Variable\n",
    "    animal_type = \"fish\"\n",
    "    location = \"ocean\"\n",
    "    # Constructor method with instances variables name and age\n",
    "    def __init__(self, name, age):\n",
    "        self.name = name \n",
    "        self.age = age\n",
    "\n",
    "    # Method with instance variable followers\n",
    "    def set_followers(self, followers):\n",
    "            print(\"This user has \" + str(followers) + \" followers\")\n",
    "def main():\n",
    "    # First object, set up instance variables of constructor method\n",
    "    sammy = Shark(\"Sammy\", 5)\n",
    "    # Print out instance variable name\n",
    "    print(sammy.name)\n",
    "    # Print out class variable location\n",
    "    print(sammy.location)\n",
    "    # Second object\n",
    "    stevie = Shark(\"Stevie\", 8)\n",
    "    # Print out instance variable name\n",
    "    print(stevie.name)\n",
    "    # Use set_followers method and pass followers instance variable  \n",
    "    stevie.set_followers(77)\n",
    "    # Print out class variable animal_type\n",
    "    print(stevie.animal_type)\n",
    "\n",
    "if __name__ == \"__main__\":\n",
    "    main()\n",
    "\n",
    "\n",
    "    "
   ]
  },
  {
   "cell_type": "markdown",
   "metadata": {},
   "source": [
    "# Understanding Inheritance"
   ]
  },
  {
   "cell_type": "code",
   "execution_count": 28,
   "metadata": {},
   "outputs": [],
   "source": [
    "class Fish:\n",
    "    def __init__(self, first_name, last_name = \"Fish\", skeleton = \"bone\", eyelids = False):\n",
    "        self.first_name = first_name\n",
    "        self.last_name = last_name\n",
    "        self.skeleton = skeleton\n",
    "        self.eyelids = eyelids\n",
    "\n",
    "    def swim(self):\n",
    "        print(\"The fish is swimming.\")\n",
    "    def swim_backwards(self):\n",
    "        print(\"The fish can swim backwards.\")        \n"
   ]
  },
  {
   "cell_type": "code",
   "execution_count": 33,
   "metadata": {},
   "outputs": [
    {
     "name": "stdout",
     "output_type": "stream",
     "text": [
      "Terry Fish\n",
      "bone\n",
      "False\n",
      "The fish is swimming.\n",
      "The fish can swim backwards.\n"
     ]
    }
   ],
   "source": [
    "class Trout(Fish):\n",
    "    pass\n",
    "terry = Trout(\"Terry\")\n",
    "print(terry.first_name + \" \" + terry.last_name)\n",
    "print(terry.skeleton)\n",
    "print(terry.eyelids)\n",
    "terry.swim()\n",
    "terry.swim_backwards()"
   ]
  },
  {
   "cell_type": "code",
   "execution_count": 35,
   "metadata": {},
   "outputs": [
    {
     "name": "stdout",
     "output_type": "stream",
     "text": [
      "Casey Fish\n",
      "The fish is swimming.\n",
      "The clownfish is coexisting with sea anemone\n"
     ]
    }
   ],
   "source": [
    "class Clownfish(Fish):\n",
    "    def live_with_anemone(self):\n",
    "        print(\"The clownfish is coexisting with sea anemone\")\n",
    "\n",
    "casey = Clownfish(\"Casey\")\n",
    "print(casey.first_name + \" \" + casey.last_name)\n",
    "casey.swim()\n",
    "casey.live_with_anemone()"
   ]
  },
  {
   "cell_type": "code",
   "execution_count": 38,
   "metadata": {},
   "outputs": [
    {
     "name": "stdout",
     "output_type": "stream",
     "text": [
      "Sammy Shark\n",
      "The fish is swimming.\n",
      "The shark can not swim backwards, but ca sink backwards. \n",
      "True\n",
      "cartilage\n"
     ]
    }
   ],
   "source": [
    "class Shark(Fish):\n",
    "    def __init__(self, first_name, last_name=\"Shark\", skeleton=\"cartilage\", eyelids=True):\n",
    "        self.first_name = first_name\n",
    "        self.last_name = last_name\n",
    "        self.skeleton = skeleton\n",
    "        self.eyelids = eyelids\n",
    "\n",
    "    def swim_backwards(self):\n",
    "        print(\"The shark can not swim backwards, but ca sink backwards. \")\n",
    "\n",
    "    sammy = Shark(\"Sammy\")\n",
    "    print(sammy.first_name + \" \" + sammy.last_name)\n",
    "    sammy.swim()\n",
    "    sammy.swim_backwards()\n",
    "    print(sammy.eyelids)\n",
    "    print(sammy.skeleton)"
   ]
  },
  {
   "cell_type": "code",
   "execution_count": 41,
   "metadata": {},
   "outputs": [
    {
     "name": "stdout",
     "output_type": "stream",
     "text": [
      "Terry Fish\n",
      "False\n",
      "freshwater\n",
      "The fish is swimming.\n"
     ]
    }
   ],
   "source": [
    "class Trout(Fish):\n",
    "    def __init__(self, water = \"freshwater\"):\n",
    "        self.water = water\n",
    "        super().__init__(self)\n",
    "terry = Trout()\n",
    "# Initialize first name\n",
    "terry.first_name = \"Terry\"\n",
    "# Use parent __init__() through super()\n",
    "print(terry.first_name + \" \" + terry.last_name)\n",
    "print(terry.eyelids)\n",
    "# Use child __init__() override\n",
    "print(terry.water) \n",
    "# Use parent swim() method\n",
    "terry.swim()    "
   ]
  },
  {
   "cell_type": "code",
   "execution_count": 45,
   "metadata": {},
   "outputs": [
    {
     "name": "stdout",
     "output_type": "stream",
     "text": [
      "Coral lives in the community.\n",
      "The anemone is protecting the clownfish.\n"
     ]
    }
   ],
   "source": [
    "class Coral:\n",
    "    def community(self):\n",
    "        print(\"Coral lives in the community.\")\n",
    "class Anemone:\n",
    "    def protect_clownfish(self):\n",
    "        print(\"The anemone is protecting the clownfish.\")\n",
    "\n",
    "class CoralReef(Coral, Anemone):\n",
    "    pass\n",
    "\n",
    "great_barrier = CoralReef()\n",
    "great_barrier.community()\n",
    "great_barrier.protect_clownfish()"
   ]
  },
  {
   "cell_type": "markdown",
   "metadata": {},
   "source": [
    "# How To Apply Polymorphism to Classes"
   ]
  },
  {
   "cell_type": "code",
   "execution_count": 46,
   "metadata": {},
   "outputs": [
    {
     "name": "stdout",
     "output_type": "stream",
     "text": [
      "The shark's skeleton is made of cartilage.\n",
      "The clownfish's skeleton is made of bone.\n"
     ]
    }
   ],
   "source": [
    "class Shark:\n",
    "    def swim(self):\n",
    "        print(\"The shark is swimming.\")\n",
    "    def swim_backwards(self):\n",
    "        print(\"The shark cannot swim backwards, but can sink backwards.\")\n",
    "    def skeleton(self):\n",
    "        print(\"The shark's skeleton is made of cartilage.\")\n",
    "class Clownfish:\n",
    "    def swim(self):\n",
    "        print(\"The clownfish is swimming.\")\n",
    "    def swim_backwards(self):\n",
    "        print(\"The clownfish can swim backwards.\")\n",
    "    def skeleton(self):\n",
    "        print(\"The clownfish's skeleton is made of bone.\")\n",
    "\n",
    "sammy = Shark()\n",
    "sammy.skeleton()\n",
    "\n",
    "casey = Clownfish()\n",
    "casey.skeleton()"
   ]
  },
  {
   "cell_type": "code",
   "execution_count": 47,
   "metadata": {},
   "outputs": [
    {
     "name": "stdout",
     "output_type": "stream",
     "text": [
      "The shark is swimming.\n",
      "The shark cannot swim backwards, but can sink backwards.\n",
      "The shark's skeleton is made of cartilage.\n",
      "The clownfish is swimming.\n",
      "The clownfish can swim backwards.\n",
      "The clownfish's skeleton is made of bone.\n"
     ]
    }
   ],
   "source": [
    "sammy = Shark()\n",
    "casey = Clownfish()\n",
    "for fish in (sammy, casey):\n",
    "    fish.swim()\n",
    "    fish.swim_backwards()\n",
    "    fish.skeleton()"
   ]
  },
  {
   "cell_type": "code",
   "execution_count": 51,
   "metadata": {},
   "outputs": [
    {
     "name": "stdout",
     "output_type": "stream",
     "text": [
      "The shark is swimming.\n",
      "The clownfish is swimming.\n"
     ]
    }
   ],
   "source": [
    "def in_the_pacific(fish):\n",
    "    fish.swim()\n",
    "sammy = Shark()\n",
    "casey = Clownfish()\n",
    "in_the_pacific(sammy)\n",
    "in_the_pacific(casey)"
   ]
  },
  {
   "cell_type": "code",
   "execution_count": 50,
   "metadata": {},
   "outputs": [
    {
     "name": "stdout",
     "output_type": "stream",
     "text": [
      "The clownfish is swimming.\n"
     ]
    }
   ],
   "source": [
    "in_the_pacific(fish)"
   ]
  },
  {
   "cell_type": "markdown",
   "metadata": {},
   "source": [
    "# How To Use the Python Debugger"
   ]
  },
  {
   "cell_type": "code",
   "execution_count": 1,
   "metadata": {},
   "outputs": [],
   "source": [
    "num_list = [500, 600, 700]\n",
    "alpha_list = ['x', 'y', 'z']\n",
    "\n",
    "def nested_loop():\n",
    "    for number in num_list:\n",
    "        print(number)\n",
    "    \n",
    "    for letter in alpha_list:\n",
    "        print(letter)\n",
    "\n",
    "if \"__name__\" == \"__main__\":\n",
    "    nested_loop()"
   ]
  },
  {
   "cell_type": "code",
   "execution_count": 2,
   "metadata": {},
   "outputs": [],
   "source": [
    "class Box():\n",
    "\n",
    "    def __init__(self, x=0, y=0, w=1, h=1):\n",
    "        \"\"\"Accept arguments to define our box, and store them.\"\"\"\n",
    "        self.x = x\n",
    "        self.y = y\n",
    "        self.w = w\n",
    "        self.h = h\n",
    "\n",
    "    def __repr__(self):\n",
    "        return \"Box(%s, %s, %s, %s)\" % (self.x, self.y, self.w, self.h)"
   ]
  },
  {
   "cell_type": "code",
   "execution_count": 3,
   "metadata": {},
   "outputs": [],
   "source": [
    "many_boxes = [Box() for i in range(5000)]"
   ]
  },
  {
   "cell_type": "code",
   "execution_count": 4,
   "metadata": {},
   "outputs": [
    {
     "name": "stdout",
     "output_type": "stream",
     "text": [
      "[Box(0, 0, 1, 1), Box(0, 0, 1, 1), Box(0, 0, 1, 1), Box(0, 0, 1, 1), Box(0, 0, 1, 1), Box(0, 0, 1, 1), Box(0, 0, 1, 1), Box(0, 0, 1, 1), Box(0, 0, 1, 1), Box(0, 0, 1, 1)]\n"
     ]
    }
   ],
   "source": [
    "# Print the first 10 boxes\n",
    "print(many_boxes[:10])\n"
   ]
  },
  {
   "cell_type": "code",
   "execution_count": 5,
   "metadata": {},
   "outputs": [],
   "source": [
    "import svgwrite\n",
    "\n",
    "\n",
    "def draw_boxes(boxes, fname, size):\n",
    "    dwg = svgwrite.Drawing(fname, profile=\"full\", size=size)\n",
    "    # Draw all the boxes\n",
    "    for box in boxes:\n",
    "        dwg.add(\n",
    "            dwg.rect(\n",
    "                insert=(f\"{box.x}cm\", f\"{box.y}cm\"),\n",
    "                size=(f\"{box.w}cm\", f\"{box.h}cm\"),\n",
    "                fill=\"red\",\n",
    "            )\n",
    "        )\n",
    "    dwg.save()\n",
    "\n",
    "\n",
    "draw_boxes(many_boxes, \"lesson1.svg\", (\"5cm\", \"2cm\"))"
   ]
  },
  {
   "cell_type": "code",
   "execution_count": 6,
   "metadata": {},
   "outputs": [],
   "source": [
    "class Box():\n",
    "\n",
    "    def __init__(self, x=0, y=0, w=1, h=1):\n",
    "        \"\"\"Accept arguments to define our box, and store them.\"\"\"\n",
    "        self.x = x\n",
    "        self.y = y\n",
    "        self.w = w\n",
    "        self.h = h\n",
    "\n",
    "    def __repr__(self):\n",
    "        return \"Box(%s, %s, %s, %s)\" % (self.x, self.y, self.w, self.h)\n",
    "\n",
    "\n",
    "many_boxes = [Box() for i in range(5000)]"
   ]
  },
  {
   "cell_type": "code",
   "execution_count": 7,
   "metadata": {},
   "outputs": [],
   "source": [
    "# We add a \"separation\" constant so you can see the boxes individually\n",
    "separation = .2\n",
    "\n",
    "\n",
    "def layout(boxes):\n",
    "    for i, box in enumerate(boxes):\n",
    "        box.x = i * (1 + separation)\n",
    "\n",
    "\n",
    "layout(many_boxes)"
   ]
  },
  {
   "cell_type": "code",
   "execution_count": 8,
   "metadata": {},
   "outputs": [],
   "source": [
    "import svgwrite\n",
    "\n",
    "\n",
    "def draw_boxes(boxes, fname, size):\n",
    "    dwg = svgwrite.Drawing(fname, profile=\"full\", size=size)\n",
    "    # Draw all the boxes\n",
    "    for box in boxes:\n",
    "        dwg.add(\n",
    "            dwg.rect(\n",
    "                insert=(f\"{box.x}cm\", f\"{box.y}cm\"),\n",
    "                size=(f\"{box.w}cm\", f\"{box.h}cm\"),\n",
    "                fill=\"red\",\n",
    "            )\n",
    "        )\n",
    "    dwg.save()\n",
    "\n",
    "\n",
    "draw_boxes(many_boxes, \"lesson2.svg\", (\"5cm\", \"2cm\"))"
   ]
  },
  {
   "cell_type": "code",
   "execution_count": 9,
   "metadata": {},
   "outputs": [],
   "source": [
    "# Import pdb module\n",
    "import pdb\n",
    "\n",
    "num_list = [500, 600, 700]\n",
    "alpha_list = ['x', 'y', 'z']\n",
    "\n",
    "def nested_loop():\n",
    "    for number in num_list:\n",
    "        print(number)\n",
    "    \n",
    "    for letter in alpha_list:\n",
    "        print(letter)\n",
    "\n",
    "if \"__name__\" == \"__main__\":\n",
    "    nested_loop()"
   ]
  },
  {
   "cell_type": "code",
   "execution_count": 10,
   "metadata": {},
   "outputs": [
    {
     "name": "stdout",
     "output_type": "stream",
     "text": [
      "['s']\n",
      "['s', 'a']\n",
      "['s', 'a', 'm']\n",
      "['s', 'a', 'm', 'm']\n",
      "['s', 'a', 'm', 'm', 'y']\n"
     ]
    }
   ],
   "source": [
    "def print_sammy():\n",
    "    sammy_list = []\n",
    "    sammy = \"sammy\"\n",
    "    for letter in sammy:\n",
    "        sammy_list.append(letter)\n",
    "        print(sammy_list)\n",
    "\n",
    "if __name__ == \"__main__\":\n",
    "    print_sammy()"
   ]
  },
  {
   "cell_type": "code",
   "execution_count": 15,
   "metadata": {},
   "outputs": [
    {
     "name": "stdout",
     "output_type": "stream",
     "text": [
      "Pizza created: artichoke ($15)\n",
      "Made 2 artichoke pizza(s)\n",
      "Ate 1 pizza(s)\n",
      "Pizza created: margherita ($12)\n",
      "Made 2 margherita pizza(s)\n",
      "Ate 1 pizza(s)\n"
     ]
    }
   ],
   "source": [
    "class Pizza():\n",
    "    def __init__(self, name, price):\n",
    "        self.name = name\n",
    "        self.price = price\n",
    "        print(\"Pizza created: {} (${})\".format(self.name, self.price))\n",
    "    \n",
    "    def make(self, quantity = 1):\n",
    "        print(\"Made {} {} pizza(s)\".format(quantity, self.name))\n",
    "    \n",
    "    def eat(self, quantity = 1):\n",
    "        print(\"Ate {} pizza(s)\".format(quantity, self.name))\n",
    "\n",
    "pizza_01 = Pizza(\"artichoke\", 15)\n",
    "pizza_01.make(2)\n",
    "pizza_01.eat()\n",
    "\n",
    "pizza_02 = Pizza(\"margherita\", 12)\n",
    "pizza_02.make(2)\n",
    "pizza_02.eat()\n",
    "\n"
   ]
  },
  {
   "cell_type": "code",
   "execution_count": 25,
   "metadata": {},
   "outputs": [
    {
     "name": "stderr",
     "output_type": "stream",
     "text": [
      "DEBUG:root:Pizza created: artichoke ($15)\n",
      "DEBUG:root:Made 2 artichoke pizza(s)\n",
      "DEBUG:root:Ate 1 pizza(s)\n",
      "DEBUG:root:Pizza created: margherita ($12)\n",
      "DEBUG:root:Made 2 margherita pizza(s)\n",
      "DEBUG:root:Ate 1 pizza(s)\n"
     ]
    }
   ],
   "source": [
    "import logging\n",
    "logging.basicConfig(filename=\"/Users/kassayebelay/Desktop/Python/kb_Python/how_to_code_in_python/test.log\", level=logging.DEBUG)\n",
    "\n",
    "class Pizza():\n",
    "    def __init__(self, name, price):\n",
    "        self.name = name\n",
    "        self.price = price\n",
    "        logging.debug(\"Pizza created: {} (${})\".format(self.name, self.price))\n",
    "    \n",
    "    def make(self, quantity = 1):\n",
    "        logging.debug(\"Made {} {} pizza(s)\".format(quantity, self.name))\n",
    "    \n",
    "    def eat(self, quantity = 1):\n",
    "       logging.debug(\"Ate {} pizza(s)\".format(quantity, self.name))\n",
    "\n",
    "pizza_01 = Pizza(\"artichoke\", 15)\n",
    "pizza_01.make(2)\n",
    "pizza_01.eat()\n",
    "\n",
    "pizza_02 = Pizza(\"margherita\", 12)\n",
    "pizza_02.make(2)\n",
    "pizza_02.eat()\n"
   ]
  },
  {
   "cell_type": "code",
   "execution_count": 20,
   "metadata": {},
   "outputs": [
    {
     "name": "stderr",
     "output_type": "stream",
     "text": [
      "DEBUG:module_1:Module 1 debugger\n",
      "DEBUG:module_2:Module 2 debugger\n"
     ]
    }
   ],
   "source": [
    "logger1 = logging.getLogger(\"module_1\")\n",
    "logger2 = logging.getLogger(\"module_2\")\n",
    "logger1.debug(\"Module 1 debugger\")\n",
    "logger2.debug(\"Module 2 debugger\")"
   ]
  },
  {
   "cell_type": "code",
   "execution_count": 31,
   "metadata": {},
   "outputs": [
    {
     "name": "stderr",
     "output_type": "stream",
     "text": [
      "DEBUG:root:Pizza created: artichoke ($15)\n",
      "DEBUG:root:Made 2 artichoke pizza(s)\n",
      "DEBUG:root:Ate 1 pizza(s)\n",
      "DEBUG:root:Pizza created: margherita ($12)\n",
      "DEBUG:root:Made 2 margherita pizza(s)\n",
      "DEBUG:root:Ate 1 pizza(s)\n"
     ]
    }
   ],
   "source": [
    "import logging\n",
    "logging.basicConfig(filename=\"test.log\", level=logging.DEBUG,\n",
    "                    format=\"%(asctime)s:%(levelname)s:%(message)s\")\n",
    "\n",
    "class Pizza():\n",
    "    def __init__(self, name, price):\n",
    "        self.name = name\n",
    "        self.price = price\n",
    "        logging.debug(\"Pizza created: {} (${})\".format(self.name, self.price))\n",
    "    \n",
    "    def make(self, quantity = 1):\n",
    "        logging.debug(\"Made {} {} pizza(s)\".format(quantity, self.name))\n",
    "    \n",
    "    def eat(self, quantity = 1):\n",
    "       logging.debug(\"Ate {} pizza(s)\".format(quantity, self.name))\n",
    "\n",
    "pizza_01 = Pizza(\"artichoke\", 15)\n",
    "pizza_01.make(2)\n",
    "pizza_01.eat()\n",
    "\n",
    "pizza_02 = Pizza(\"margherita\", 12)\n",
    "pizza_02.make(2)\n",
    "pizza_02.eat()"
   ]
  }
 ],
 "metadata": {
  "kernelspec": {
   "display_name": "base",
   "language": "python",
   "name": "python3"
  },
  "language_info": {
   "codemirror_mode": {
    "name": "ipython",
    "version": 3
   },
   "file_extension": ".py",
   "mimetype": "text/x-python",
   "name": "python",
   "nbconvert_exporter": "python",
   "pygments_lexer": "ipython3",
   "version": "3.9.7"
  }
 },
 "nbformat": 4,
 "nbformat_minor": 2
}
