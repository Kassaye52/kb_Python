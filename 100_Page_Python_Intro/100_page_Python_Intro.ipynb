{
 "cells": [
  {
   "cell_type": "markdown",
   "metadata": {},
   "source": [
    "# 3. Numeric data types"
   ]
  },
  {
   "cell_type": "code",
   "execution_count": 1,
   "metadata": {},
   "outputs": [
    {
     "data": {
      "text/plain": [
       "-5"
      ]
     },
     "execution_count": 1,
     "metadata": {},
     "output_type": "execute_result"
    }
   ],
   "source": [
    "# int\n",
    "42\n",
    "0\n",
    "+100\n",
    "-5"
   ]
  },
  {
   "cell_type": "code",
   "execution_count": 3,
   "metadata": {},
   "outputs": [
    {
     "name": "stdout",
     "output_type": "stream",
     "text": [
      "1000000000\n"
     ]
    }
   ],
   "source": [
    "# For readability purposes, you can use underscores in between the digits.\n",
    "print(1_000_000_000)"
   ]
  },
  {
   "cell_type": "code",
   "execution_count": 5,
   "metadata": {},
   "outputs": [
    {
     "name": "stdout",
     "output_type": "stream",
     "text": [
      "5.4315e+22\n",
      "1.2345678901234568e-10\n",
      "3.1415926535897936e+34\n"
     ]
    }
   ],
   "source": [
    "# float\n",
    "print(543.15e20)\n",
    "print(0.0000000001234567890123456789)\n",
    "print(31415926535897935809629384623048923.649234324234)"
   ]
  },
  {
   "cell_type": "markdown",
   "metadata": {},
   "source": [
    "# 4. Strings and user input"
   ]
  },
  {
   "cell_type": "code",
   "execution_count": 6,
   "metadata": {},
   "outputs": [
    {
     "name": "stdout",
     "output_type": "stream",
     "text": [
      "Hello World\n"
     ]
    }
   ],
   "source": [
    "print(\"Hello World\")"
   ]
  },
  {
   "cell_type": "code",
   "execution_count": 8,
   "metadata": {},
   "outputs": [
    {
     "name": "stdout",
     "output_type": "stream",
     "text": [
      "\"Will you come?\" he asked.\n",
      "it's a fine sunny day\n"
     ]
    }
   ],
   "source": [
    "print('\"Will you come?\" he asked.')\n",
    "print(\"it's a fine sunny day\")"
   ]
  },
  {
   "cell_type": "code",
   "execution_count": 1,
   "metadata": {},
   "outputs": [
    {
     "data": {
      "text/plain": [
       "'Hellow World'"
      ]
     },
     "execution_count": 1,
     "metadata": {},
     "output_type": "execute_result"
    }
   ],
   "source": [
    "\"Hellow World\""
   ]
  },
  {
   "cell_type": "code",
   "execution_count": 2,
   "metadata": {},
   "outputs": [
    {
     "name": "stdout",
     "output_type": "stream",
     "text": [
      "\"It's so pretty!\" can I get one?\n"
     ]
    }
   ],
   "source": [
    "print('\"It\\'s so pretty!\" can I get one?')"
   ]
  },
  {
   "cell_type": "code",
   "execution_count": 3,
   "metadata": {},
   "outputs": [
    {
     "name": "stdout",
     "output_type": "stream",
     "text": [
      "\"It's so pretty!\" can I get one?\n"
     ]
    }
   ],
   "source": [
    "print(\"\\\"It's so pretty!\\\" can I get one?\")"
   ]
  },
  {
   "cell_type": "code",
   "execution_count": 5,
   "metadata": {},
   "outputs": [
    {
     "name": "stdout",
     "output_type": "stream",
     "text": [
      "hi there.\n",
      "how are you?\n"
     ]
    }
   ],
   "source": [
    "greeting = 'hi there.\\nhow are you?'\n",
    "greeting\n",
    "print(greeting)"
   ]
  },
  {
   "cell_type": "code",
   "execution_count": 6,
   "metadata": {},
   "outputs": [
    {
     "name": "stdout",
     "output_type": "stream",
     "text": [
      "Name:\tlearnbyexample\n",
      "Age:\t25\n",
      "Dept:\tCSE\n"
     ]
    }
   ],
   "source": [
    "student = '''\\\n",
    "Name:\\tlearnbyexample\n",
    "Age:\\t25\n",
    "Dept:\\tCSE'''\n",
    "\n",
    "print(student)"
   ]
  },
  {
   "cell_type": "code",
   "execution_count": 11,
   "metadata": {},
   "outputs": [
    {
     "name": "stdout",
     "output_type": "stream",
     "text": [
      "Hello World\n",
      "Hello WorldWorldWorld\n"
     ]
    }
   ],
   "source": [
    "s1 = \"Hello\"\n",
    "s2 = \"World\"\n",
    "print(f'{s1} {s2}')\n",
    "print(f'{s1} {s2 * 3}')"
   ]
  },
  {
   "cell_type": "markdown",
   "metadata": {},
   "source": [
    "# Defining functions"
   ]
  },
  {
   "cell_type": "code",
   "execution_count": 12,
   "metadata": {},
   "outputs": [
    {
     "name": "stdout",
     "output_type": "stream",
     "text": [
      "-----------------------------\n",
      "         Hello World         \n",
      "-----------------------------\n"
     ]
    }
   ],
   "source": [
    "def greeting():\n",
    "    print('-----------------------------')\n",
    "    print('         Hello World         ')\n",
    "    print('-----------------------------')\n",
    "greeting()"
   ]
  },
  {
   "cell_type": "code",
   "execution_count": 13,
   "metadata": {},
   "outputs": [
    {
     "name": "stdout",
     "output_type": "stream",
     "text": [
      "------------\n",
      "     hi     \n",
      "------------\n",
      "------------------------------------------\n",
      "     Today would be a nice, sunny day     \n",
      "------------------------------------------\n"
     ]
    }
   ],
   "source": [
    "def greeting(ip):\n",
    "    op_length = 10 + len(ip)\n",
    "    styled_line = '-' * op_length\n",
    "    print(styled_line)\n",
    "    print(f'{ip:^{op_length}}')\n",
    "    print(styled_line)\n",
    "\n",
    "greeting('hi')\n",
    "weather = 'Today would be a nice, sunny day'\n",
    "greeting(weather)"
   ]
  },
  {
   "cell_type": "code",
   "execution_count": 14,
   "metadata": {},
   "outputs": [
    {
     "name": "stdout",
     "output_type": "stream",
     "text": [
      "------------\n",
      "     hi     \n",
      "------------\n",
      "--------\n",
      "  bye   \n",
      "--------\n",
      "===============\n",
      "     hello     \n",
      "===============\n",
      "::::::::::\n",
      " good day \n",
      "::::::::::\n"
     ]
    }
   ],
   "source": [
    "# default_args.py\n",
    "def greeting(ip, style='-', spacing=10):\n",
    "    op_length = spacing + len(ip)\n",
    "    styled_line = style * op_length\n",
    "    print(styled_line)\n",
    "    print(f'{ip:^{op_length}}')\n",
    "    print(styled_line)\n",
    "\n",
    "greeting('hi')\n",
    "greeting('bye', spacing=5)\n",
    "greeting('hello', style='=')\n",
    "greeting('good day', ':', 2)"
   ]
  },
  {
   "cell_type": "code",
   "execution_count": 15,
   "metadata": {},
   "outputs": [],
   "source": [
    "def num_square(n):\n",
    "    return n ** n"
   ]
  },
  {
   "cell_type": "code",
   "execution_count": 16,
   "metadata": {},
   "outputs": [
    {
     "data": {
      "text/plain": [
       "3125"
      ]
     },
     "execution_count": 16,
     "metadata": {},
     "output_type": "execute_result"
    }
   ],
   "source": [
    "num_square(5)"
   ]
  },
  {
   "cell_type": "markdown",
   "metadata": {},
   "source": [
    "# Control structures"
   ]
  },
  {
   "cell_type": "code",
   "execution_count": 17,
   "metadata": {},
   "outputs": [
    {
     "data": {
      "text/plain": [
       "'Newlines are indicated by \\\\n'"
      ]
     },
     "execution_count": 17,
     "metadata": {},
     "output_type": "execute_result"
    }
   ],
   "source": [
    "r\"Newlines are indicated by \\n\""
   ]
  },
  {
   "cell_type": "code",
   "execution_count": 18,
   "metadata": {},
   "outputs": [
    {
     "name": "stdout",
     "output_type": "stream",
     "text": [
      "isodd(42) = True\n",
      "isodd(-21) = False\n",
      "isodd(123) = False\n"
     ]
    }
   ],
   "source": [
    "def isodd(n):\n",
    "    if n % 2 ==0:\n",
    "        return True\n",
    "    else:\n",
    "        return False\n",
    "print(f'{isodd(42) = }')\n",
    "print(f'{isodd(-21) = }')\n",
    "print(f'{isodd(123) = }')"
   ]
  },
  {
   "cell_type": "code",
   "execution_count": 19,
   "metadata": {},
   "outputs": [],
   "source": [
    "def absolute(num):\n",
    "    if num >= 0:\n",
    "        return num\n",
    "    else:\n",
    "        return -num"
   ]
  },
  {
   "cell_type": "code",
   "execution_count": 20,
   "metadata": {},
   "outputs": [
    {
     "name": "stdout",
     "output_type": "stream",
     "text": [
      "9 * 1 = 9\n",
      "9 * 2 = 18\n",
      "9 * 3 = 27\n",
      "9 * 4 = 36\n"
     ]
    }
   ],
   "source": [
    "num = 9\n",
    "for i in range(1, 5):\n",
    "    print(f'{num} * {i} = {num * i}')"
   ]
  },
  {
   "cell_type": "code",
   "execution_count": 21,
   "metadata": {},
   "outputs": [
    {
     "name": "stdout",
     "output_type": "stream",
     "text": [
      "I have thought of a number between 0 and 10.\n",
      "Can you guess it within 4 attempts?\n",
      "\n",
      "Oops, your guess is too low.\n",
      "Oops, your guess is too high.\n",
      "Oops, your guess is too low.\n",
      "Wow, you guessed it right!\n"
     ]
    }
   ],
   "source": [
    "# rand_number.py\n",
    "import random\n",
    "\n",
    "# gives back an integer between 0 and 10 (inclusive)\n",
    "rand_int = random.randrange(11)\n",
    "\n",
    "print('I have thought of a number between 0 and 10.')\n",
    "print('Can you guess it within 4 attempts?\\n')\n",
    "for _ in range(4):\n",
    "    guess = int(input('Enter your guess: '))\n",
    "    if guess == rand_int:\n",
    "        print('Wow, you guessed it right!')\n",
    "        break\n",
    "    elif guess > rand_int:\n",
    "        print('Oops, your guess is too high.')\n",
    "    else:\n",
    "        print('Oops, your guess is too low.')\n",
    "else:\n",
    "    print('\\nOh no! You are out of chances. Better luck next time.')\n"
   ]
  },
  {
   "cell_type": "code",
   "execution_count": 22,
   "metadata": {},
   "outputs": [
    {
     "name": "stdout",
     "output_type": "stream",
     "text": [
      "square of 5 is 25\n",
      "factorial of 5 is 120\n"
     ]
    }
   ],
   "source": [
    "# num_funcs.py\n",
    "def sqr(n):\n",
    "    return n * n\n",
    "\n",
    "def fact(n):\n",
    "    total = 1\n",
    "    for i in range(2, n+1):\n",
    "        total *= i\n",
    "    return total\n",
    "\n",
    "num = 5\n",
    "print(f'square of {num} is {sqr(num)}')\n",
    "print(f'factorial of {num} is {fact(num)}')\n"
   ]
  },
  {
   "cell_type": "code",
   "execution_count": 23,
   "metadata": {},
   "outputs": [
    {
     "name": "stdout",
     "output_type": "stream",
     "text": [
      "square of 5 is 25\n",
      "factorial of 5 is 120\n"
     ]
    }
   ],
   "source": [
    "# num_funcs.py\n",
    "def sqr(n):\n",
    "    return n * n\n",
    "\n",
    "def fact(n):\n",
    "    total = 1\n",
    "    for i in range(2, n+1):\n",
    "        total *= i\n",
    "    return total\n",
    "\n",
    "num = 5\n",
    "print(f'square of {num} is {sqr(num)}')\n",
    "print(f'factorial of {num} is {fact(num)}')"
   ]
  },
  {
   "cell_type": "code",
   "execution_count": 24,
   "metadata": {},
   "outputs": [
    {
     "name": "stdout",
     "output_type": "stream",
     "text": [
      "Not a positive integer, try again\n",
      "5! = 120\n"
     ]
    }
   ],
   "source": [
    "# try_except.py\n",
    "from math import factorial\n",
    "\n",
    "while True:\n",
    "    try:\n",
    "        num = int(input('Enter a positive integer: '))\n",
    "        print(f'{num}! = {factorial(num)}')\n",
    "        break\n",
    "    except ValueError:\n",
    "        print('Not a positive integer, try again')\n"
   ]
  },
  {
   "cell_type": "code",
   "execution_count": 25,
   "metadata": {},
   "outputs": [
    {
     "name": "stdout",
     "output_type": "stream",
     "text": [
      "3! = 6\n"
     ]
    }
   ],
   "source": [
    "# try_except.py\n",
    "from math import factorial\n",
    "\n",
    "while True:\n",
    "    try:\n",
    "        num = int(input('Enter a positive integer: '))\n",
    "        print(f'{num}! = {factorial(num)}')\n",
    "        break\n",
    "    except ValueError:\n",
    "        print('Not a positive integer, try again')\n"
   ]
  },
  {
   "cell_type": "code",
   "execution_count": 26,
   "metadata": {},
   "outputs": [
    {
     "name": "stdout",
     "output_type": "stream",
     "text": [
      "all tests passed\n"
     ]
    }
   ],
   "source": [
    "# nested_braces.py\n",
    "def max_nested_braces(expr):\n",
    "    max_count = count = 0\n",
    "    for char in expr:\n",
    "        if char == '{':\n",
    "            count += 1\n",
    "            if count > max_count:\n",
    "                max_count = count\n",
    "        elif char == '}':\n",
    "            if count == 0:\n",
    "                return -1\n",
    "            count -= 1\n",
    "\n",
    "    if count != 0:\n",
    "        return -1\n",
    "    return max_count\n",
    "\n",
    "def test_cases():\n",
    "    assert max_nested_braces('a*b') == 0\n",
    "    assert max_nested_braces('a*b+{}') == 1\n",
    "    assert max_nested_braces('a*{b+c}') == 1\n",
    "    assert max_nested_braces('{a+2}*{b+c}') == 1\n",
    "    assert max_nested_braces('a*{b+c*{e*3.14}}') == 2\n",
    "    assert max_nested_braces('{{a+2}*{b+c}+e}') == 2\n",
    "    assert max_nested_braces('{{a+2}*{b+{c*d}}+e}') == 3\n",
    "    assert max_nested_braces('{{a+2}*{{b+{c*d}}+e*d}}') == 4\n",
    "    assert max_nested_braces('a*b{') == -1\n",
    "    assert max_nested_braces('a*{b+c}}') == -1\n",
    "    assert max_nested_braces('}a+b{') == -1\n",
    "    assert max_nested_braces('a*{b+c*{e*3.14}}}') == -1\n",
    "    assert max_nested_braces('{{a+2}*{{b}+{c*d}}+e*d}}') == -1\n",
    "\n",
    "if __name__ == '__main__':\n",
    "    test_cases()\n",
    "    print('all tests passed')\n"
   ]
  },
  {
   "cell_type": "code",
   "execution_count": 27,
   "metadata": {},
   "outputs": [],
   "source": [
    "# exception_testing.py\n",
    "import pytest\n",
    "\n",
    "def sum2nums(n1, n2):\n",
    "    types_allowed = (int, float)\n",
    "    assert type(n1) in types_allowed, 'only int/float allowed'\n",
    "    assert type(n2) in types_allowed, 'only int/float allowed'\n",
    "    return n1 + n2\n",
    "\n",
    "def test_valid_values():\n",
    "    assert sum2nums(3, -2) == 1\n",
    "    # see https://stackoverflow.com/q/5595425\n",
    "    from math import isclose\n",
    "    assert isclose(sum2nums(-3.14, 2), -1.14)\n",
    "\n",
    "def test_exception():\n",
    "    with pytest.raises(AssertionError) as e:\n",
    "        sum2nums('hi', 3)\n",
    "    assert 'only int/float allowed' in str(e.value)\n",
    "\n",
    "    with pytest.raises(AssertionError) as e:\n",
    "        sum2nums(3.14, 'a')\n",
    "    assert 'only int/float allowed' in str(e.value)\n"
   ]
  },
  {
   "cell_type": "code",
   "execution_count": 28,
   "metadata": {},
   "outputs": [
    {
     "name": "stdout",
     "output_type": "stream",
     "text": [
      "(0, 42)\n",
      "(1, 3.14)\n",
      "(2, -2)\n"
     ]
    }
   ],
   "source": [
    "nums = (42, 3.14, -2)\n",
    "for t in enumerate(nums):\n",
    "    print(t)"
   ]
  },
  {
   "cell_type": "code",
   "execution_count": null,
   "metadata": {},
   "outputs": [],
   "source": [
    "import pandas as pd\n",
    "\n",
    "# Replace 'file1.csv' and 'file2.csv' with the paths to your actual files\n",
    "file1 = '/Users/kassayebelay/Downloads/fungi_all_lin_summary_scheme5.csv'\n",
    "file2 = '/Users/kassayebelay/OneDrive_VT/Virginia_Tech/VT_Research/Fungi_LINflow/All_Fungi/All_Fungi_lin_summary_scheme9.csv'\n",
    "\n",
    "# Read the CSV files into DataFrame objects\n",
    "df1 = pd.read_csv(file1)\n",
    "df2 = pd.read_csv(file2)\n",
    "\n",
    "# Merge the DataFrames based on 'filePath' column\n",
    "merged_df = pd.merge(df1, df2, on='filePath')\n",
    "\n",
    "# Save the merged DataFrame to a new CSV file\n",
    "merged_df.to_csv('/Users/kassayebelay/Downloads/merged.csv', index=False)\n"
   ]
  },
  {
   "cell_type": "code",
   "execution_count": 1,
   "metadata": {},
   "outputs": [
    {
     "data": {
      "text/plain": [
       "<generator object <genexpr> at 0x7fd0b842ab30>"
      ]
     },
     "execution_count": 1,
     "metadata": {},
     "output_type": "execute_result"
    }
   ],
   "source": [
    "nums = [100, 53, 32, 0, 11, 5, 2]\n",
    "g = (n * n for n in nums)\n",
    "g"
   ]
  },
  {
   "cell_type": "code",
   "execution_count": 2,
   "metadata": {},
   "outputs": [
    {
     "data": {
      "text/plain": [
       "[10000, 2809, 1024, 0, 121, 25, 4]"
      ]
     },
     "execution_count": 2,
     "metadata": {},
     "output_type": "execute_result"
    }
   ],
   "source": [
    "list(g)"
   ]
  },
  {
   "cell_type": "code",
   "execution_count": 4,
   "metadata": {},
   "outputs": [
    {
     "data": {
      "text/plain": [
       "'/Users/kassayebelay/Desktop/Python/kb_Python/100_Page_Python_Intro'"
      ]
     },
     "execution_count": 4,
     "metadata": {},
     "output_type": "execute_result"
    }
   ],
   "source": [
    "import os\n",
    "os.getcwd()"
   ]
  },
  {
   "cell_type": "code",
   "execution_count": 5,
   "metadata": {},
   "outputs": [],
   "source": [
    "import glob"
   ]
  },
  {
   "cell_type": "code",
   "execution_count": 6,
   "metadata": {},
   "outputs": [
    {
     "data": {
      "text/plain": [
       "[]"
      ]
     },
     "execution_count": 6,
     "metadata": {},
     "output_type": "execute_result"
    }
   ],
   "source": [
    "glob.glob('*py')"
   ]
  },
  {
   "cell_type": "code",
   "execution_count": null,
   "metadata": {},
   "outputs": [],
   "source": []
  }
 ],
 "metadata": {
  "kernelspec": {
   "display_name": "base",
   "language": "python",
   "name": "python3"
  },
  "language_info": {
   "codemirror_mode": {
    "name": "ipython",
    "version": 3
   },
   "file_extension": ".py",
   "mimetype": "text/x-python",
   "name": "python",
   "nbconvert_exporter": "python",
   "pygments_lexer": "ipython3",
   "version": "3.9.7"
  }
 },
 "nbformat": 4,
 "nbformat_minor": 2
}
