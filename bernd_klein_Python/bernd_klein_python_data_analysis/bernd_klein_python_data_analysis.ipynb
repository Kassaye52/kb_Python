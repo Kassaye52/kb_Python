{
 "cells": [
  {
   "cell_type": "markdown",
   "metadata": {},
   "source": [
    "# *NUMERICAL PROGRAMMING WITH PYTHON* "
   ]
  },
  {
   "cell_type": "markdown",
   "metadata": {},
   "source": [
    "## **NUMPY TUTORIAL** "
   ]
  },
  {
   "cell_type": "code",
   "execution_count": 1,
   "metadata": {},
   "outputs": [],
   "source": [
    "import numpy as np"
   ]
  },
  {
   "cell_type": "code",
   "execution_count": 3,
   "metadata": {},
   "outputs": [],
   "source": [
    "cvalues = [20.1, 20.8, 21.9, 22.5, 22.7, 22.3, 21.8, 21.2, 20.9, 20.1]"
   ]
  },
  {
   "cell_type": "code",
   "execution_count": 4,
   "metadata": {},
   "outputs": [
    {
     "name": "stdout",
     "output_type": "stream",
     "text": [
      "[20.1 20.8 21.9 22.5 22.7 22.3 21.8 21.2 20.9 20.1]\n"
     ]
    }
   ],
   "source": [
    "c = np.array(cvalues)\n",
    "print(c)"
   ]
  },
  {
   "cell_type": "code",
   "execution_count": 5,
   "metadata": {},
   "outputs": [
    {
     "name": "stdout",
     "output_type": "stream",
     "text": [
      "[68.18 69.44 71.42 72.5  72.86 72.14 71.24 70.16 69.62 68.18]\n"
     ]
    }
   ],
   "source": [
    "print(c*9/5+32)"
   ]
  },
  {
   "cell_type": "code",
   "execution_count": 6,
   "metadata": {},
   "outputs": [
    {
     "data": {
      "text/plain": [
       "numpy.ndarray"
      ]
     },
     "execution_count": 6,
     "metadata": {},
     "output_type": "execute_result"
    }
   ],
   "source": [
    "type(c)"
   ]
  },
  {
   "cell_type": "code",
   "execution_count": 7,
   "metadata": {},
   "outputs": [
    {
     "data": {
      "image/png": "[encoded data removed]",
      "text/plain": [
       "<Figure size 432x288 with 1 Axes>"
      ]
     },
     "metadata": {
      "needs_background": "light"
     },
     "output_type": "display_data"
    }
   ],
   "source": [
    "import matplotlib.pyplot as plt\n",
    "\n",
    "plt.plot(c)\n",
    "plt.show()"
   ]
  },
  {
   "cell_type": "code",
   "execution_count": 8,
   "metadata": {},
   "outputs": [
    {
     "name": "stdout",
     "output_type": "stream",
     "text": [
      "Size without the size of the elements:  120\n",
      "Size of all the elements:  84\n",
      "Total size of list, including elements:  204\n"
     ]
    }
   ],
   "source": [
    "from sys import getsizeof as size\n",
    "lst = [24, 12, 57]\n",
    "size_of_list_object = size(lst) # only green box\n",
    "size_of_elements = len(lst) * size(lst[0]) # 24, 12, 57\n",
    "total_list_size = size_of_list_object + size_of_elements\n",
    "print(\"Size without the size of the elements: \", size_of_list_object)\n",
    "print(\"Size of all the elements: \", size_of_elements)\n",
    "print(\"Total size of list, including elements: \", total_list_size)"
   ]
  },
  {
   "cell_type": "code",
   "execution_count": 9,
   "metadata": {},
   "outputs": [
    {
     "name": "stdout",
     "output_type": "stream",
     "text": [
      "Size without the size of the elements:  120\n",
      "Size of all the elements:  112\n",
      "Total size of list, including elements:  232\n",
      "Emtpy list size:  56\n"
     ]
    }
   ],
   "source": [
    "lst = [24, 12, 57, 42]\n",
    "size_of_list_object = size(lst) # only green box\n",
    "size_of_elements = len(lst) * size(lst[0]) # 24, 12, 57, 42\n",
    "total_list_size = size_of_list_object + size_of_elements\n",
    "print(\"Size without the size of the elements: \", size_of_list_object)\n",
    "print(\"Size of all the elements: \", size_of_elements)\n",
    "print(\"Total size of list, including elements: \", total_list_size)\n",
    "lst = []\n",
    "print(\"Emtpy list size: \", size(lst))"
   ]
  },
  {
   "cell_type": "code",
   "execution_count": 10,
   "metadata": {},
   "outputs": [
    {
     "name": "stdout",
     "output_type": "stream",
     "text": [
      "136\n"
     ]
    }
   ],
   "source": [
    "a = np.array([24, 12, 57])\n",
    "print(size(a))"
   ]
  },
  {
   "cell_type": "code",
   "execution_count": 11,
   "metadata": {},
   "outputs": [
    {
     "name": "stdout",
     "output_type": "stream",
     "text": [
      "112\n"
     ]
    }
   ],
   "source": [
    "e = np.array([])\n",
    "print(size(e))"
   ]
  },
  {
   "cell_type": "code",
   "execution_count": 12,
   "metadata": {},
   "outputs": [
    {
     "name": "stdout",
     "output_type": "stream",
     "text": [
      "19\n",
      "22\n",
      "28\n",
      "40\n"
     ]
    }
   ],
   "source": [
    "a = np.array([24, 12, 57], np.int8)\n",
    "print(size(a) - 96)\n",
    "a = np.array([24, 12, 57], np.int16)\n",
    "print(size(a) - 96)\n",
    "a = np.array([24, 12, 57], np.int32)\n",
    "print(size(a) - 96)\n",
    "a = np.array([24, 12, 57], np.int64)\n",
    "print(size(a) - 96)"
   ]
  },
  {
   "cell_type": "code",
   "execution_count": 13,
   "metadata": {},
   "outputs": [],
   "source": [
    "import time\n",
    "size_of_vec = 1000\n",
    "def pure_python_version():\n",
    "    t1 = time.time()\n",
    "    X = range(size_of_vec)\n",
    "    Y = range(size_of_vec)\n",
    "    Z = [X[i] + Y[i] for i in range(len(X)) ]\n",
    "    return time.time() - t1"
   ]
  },
  {
   "cell_type": "code",
   "execution_count": 14,
   "metadata": {},
   "outputs": [],
   "source": [
    "def numpy_version():\n",
    "    t1 = time.time()\n",
    "    X = np.arange(size_of_vec)\n",
    "    Y = np.arange(size_of_vec)\n",
    "    Z = X + Y\n",
    "    return time.time() - t1"
   ]
  },
  {
   "cell_type": "code",
   "execution_count": 15,
   "metadata": {},
   "outputs": [
    {
     "name": "stdout",
     "output_type": "stream",
     "text": [
      "0.0003399848937988281 0.004069089889526367\n",
      "Numpy is in this example 0.08355305560438273 faster!\n"
     ]
    }
   ],
   "source": [
    "t1 = pure_python_version()\n",
    "t2 = numpy_version()\n",
    "print(t1, t2)\n",
    "print(\"Numpy is in this example \" + str(t1/t2) + \" faster!\")"
   ]
  },
  {
   "cell_type": "markdown",
   "metadata": {},
   "source": [
    "## NUMPY TUTORIAL: CREATING ARRAYS"
   ]
  },
  {
   "cell_type": "code",
   "execution_count": 16,
   "metadata": {},
   "outputs": [
    {
     "name": "stdout",
     "output_type": "stream",
     "text": [
      "[1 2 3 4 5 6 7 8 9]\n"
     ]
    }
   ],
   "source": [
    "import numpy as np\n",
    "a = np.arange(1, 10)\n",
    "print(a)"
   ]
  },
  {
   "cell_type": "code",
   "execution_count": 17,
   "metadata": {},
   "outputs": [
    {
     "name": "stdout",
     "output_type": "stream",
     "text": [
      "range(1, 10)\n",
      "[1, 2, 3, 4, 5, 6, 7, 8, 9]\n"
     ]
    }
   ],
   "source": [
    "x = range(1, 10)\n",
    "print(x) # x is an iterator\n",
    "print(list(x))"
   ]
  },
  {
   "cell_type": "code",
   "execution_count": 18,
   "metadata": {},
   "outputs": [
    {
     "name": "stdout",
     "output_type": "stream",
     "text": [
      "[ 0.  1.  2.  3.  4.  5.  6.  7.  8.  9. 10.]\n",
      "[ 0.5  1.3  2.1  2.9  3.7  4.5  5.3  6.1  6.9  7.7  8.5  9.3 10.1]\n"
     ]
    }
   ],
   "source": [
    "# further arange examples:\n",
    "x = np.arange(10.4)\n",
    "print(x)\n",
    "x = np.arange(0.5, 10.4, 0.8)\n",
    "print(x)"
   ]
  },
  {
   "cell_type": "code",
   "execution_count": 19,
   "metadata": {},
   "outputs": [
    {
     "name": "stdout",
     "output_type": "stream",
     "text": [
      "[ 0  1  2  3  4  5  6  7  8  9 10 11 12]\n"
     ]
    }
   ],
   "source": [
    "x = np.arange(0.5, 10.4, 0.8, int)\n",
    "print(x)"
   ]
  },
  {
   "cell_type": "code",
   "execution_count": 20,
   "metadata": {},
   "outputs": [
    {
     "name": "stdout",
     "output_type": "stream",
     "text": [
      "[ 1.          1.18367347  1.36734694  1.55102041  1.73469388  1.91836735\n",
      "  2.10204082  2.28571429  2.46938776  2.65306122  2.83673469  3.02040816\n",
      "  3.20408163  3.3877551   3.57142857  3.75510204  3.93877551  4.12244898\n",
      "  4.30612245  4.48979592  4.67346939  4.85714286  5.04081633  5.2244898\n",
      "  5.40816327  5.59183673  5.7755102   5.95918367  6.14285714  6.32653061\n",
      "  6.51020408  6.69387755  6.87755102  7.06122449  7.24489796  7.42857143\n",
      "  7.6122449   7.79591837  7.97959184  8.16326531  8.34693878  8.53061224\n",
      "  8.71428571  8.89795918  9.08163265  9.26530612  9.44897959  9.63265306\n",
      "  9.81632653 10.        ]\n"
     ]
    }
   ],
   "source": [
    "print(np.linspace(1, 10))"
   ]
  },
  {
   "cell_type": "code",
   "execution_count": 21,
   "metadata": {},
   "outputs": [
    {
     "name": "stdout",
     "output_type": "stream",
     "text": [
      "[ 1.   2.5  4.   5.5  7.   8.5 10. ]\n"
     ]
    }
   ],
   "source": [
    "print(np.linspace(1,10,7))"
   ]
  },
  {
   "cell_type": "code",
   "execution_count": 22,
   "metadata": {},
   "outputs": [
    {
     "name": "stdout",
     "output_type": "stream",
     "text": [
      "[1.         2.28571429 3.57142857 4.85714286 6.14285714 7.42857143\n",
      " 8.71428571]\n"
     ]
    }
   ],
   "source": [
    "print(np.linspace(1,10,7, endpoint=False))"
   ]
  },
  {
   "cell_type": "code",
   "execution_count": 24,
   "metadata": {},
   "outputs": [
    {
     "name": "stdout",
     "output_type": "stream",
     "text": [
      "[ 1.          1.18367347  1.36734694  1.55102041  1.73469388  1.91836735\n",
      "  2.10204082  2.28571429  2.46938776  2.65306122  2.83673469  3.02040816\n",
      "  3.20408163  3.3877551   3.57142857  3.75510204  3.93877551  4.12244898\n",
      "  4.30612245  4.48979592  4.67346939  4.85714286  5.04081633  5.2244898\n",
      "  5.40816327  5.59183673  5.7755102   5.95918367  6.14285714  6.32653061\n",
      "  6.51020408  6.69387755  6.87755102  7.06122449  7.24489796  7.42857143\n",
      "  7.6122449   7.79591837  7.97959184  8.16326531  8.34693878  8.53061224\n",
      "  8.71428571  8.89795918  9.08163265  9.26530612  9.44897959  9.63265306\n",
      "  9.81632653 10.        ]\n",
      "0.1836734693877551\n"
     ]
    }
   ],
   "source": [
    "samples, spacing = np.linspace(1, 10, retstep=True)\n",
    "print(samples)\n",
    "print(spacing)"
   ]
  },
  {
   "cell_type": "code",
   "execution_count": 26,
   "metadata": {},
   "outputs": [
    {
     "name": "stdout",
     "output_type": "stream",
     "text": [
      "[ 1.          1.47368421  1.94736842  2.42105263  2.89473684  3.36842105\n",
      "  3.84210526  4.31578947  4.78947368  5.26315789  5.73684211  6.21052632\n",
      "  6.68421053  7.15789474  7.63157895  8.10526316  8.57894737  9.05263158\n",
      "  9.52631579 10.        ]\n",
      "0.47368421052631576\n"
     ]
    }
   ],
   "source": [
    "samples, spacing = np.linspace(1, 10, 20, endpoint=True, retstep=True)\n",
    "print(samples)\n",
    "print(spacing)"
   ]
  },
  {
   "cell_type": "code",
   "execution_count": 27,
   "metadata": {},
   "outputs": [
    {
     "name": "stdout",
     "output_type": "stream",
     "text": [
      "x:  42\n",
      "The type of x:  <class 'numpy.ndarray'>\n",
      "The dimension of x: 0\n"
     ]
    }
   ],
   "source": [
    "import numpy as np\n",
    "x = np.array(42)\n",
    "print(\"x: \", x)\n",
    "print(\"The type of x: \", type(x))\n",
    "print(\"The dimension of x:\", np.ndim(x))"
   ]
  },
  {
   "cell_type": "code",
   "execution_count": 28,
   "metadata": {},
   "outputs": [
    {
     "name": "stdout",
     "output_type": "stream",
     "text": [
      "F:  [ 1  1  2  3  5  8 13 21]\n",
      "V:  [ 3.4  6.9 99.8 12.8]\n",
      "Type of F:  int64\n",
      "Type of V:  float64\n",
      "Dimension of F:  1\n",
      "Dimension of V:  1\n"
     ]
    }
   ],
   "source": [
    "F = np.array([1, 1, 2, 3, 5, 8, 13, 21])\n",
    "V = np.array([3.4, 6.9, 99.8, 12.8])\n",
    "\n",
    "print(\"F: \", F)\n",
    "print(\"V: \", V)\n",
    "print(\"Type of F: \", F.dtype)\n",
    "print(\"Type of V: \", V.dtype)\n",
    "print(\"Dimension of F: \", np.ndim(F))\n",
    "print(\"Dimension of V: \", np.ndim(V))"
   ]
  },
  {
   "cell_type": "code",
   "execution_count": 29,
   "metadata": {},
   "outputs": [
    {
     "name": "stdout",
     "output_type": "stream",
     "text": [
      "[[ 3.4  8.7  9.9]\n",
      " [ 1.1 -7.8 -0.7]\n",
      " [ 4.1 12.3  4.8]]\n",
      "2\n"
     ]
    }
   ],
   "source": [
    "A = np.array([ [3.4, 8.7, 9.9],\n",
    "[1.1, -7.8, -0.7],\n",
    "[4.1, 12.3, 4.8]])\n",
    "print(A)\n",
    "print(A.ndim)"
   ]
  },
  {
   "cell_type": "code",
   "execution_count": 30,
   "metadata": {},
   "outputs": [
    {
     "name": "stdout",
     "output_type": "stream",
     "text": [
      "[[[111 112]\n",
      "  [121 122]]\n",
      "\n",
      " [[211 212]\n",
      "  [221 222]]\n",
      "\n",
      " [[311 312]\n",
      "  [321 322]]]\n",
      "3\n"
     ]
    }
   ],
   "source": [
    "B = np.array([ [[111, 112], [121, 122]],\n",
    "[[211, 212], [221, 222]],\n",
    "[[311, 312], [321, 322]] ])\n",
    "print(B)\n",
    "print(B.ndim)"
   ]
  },
  {
   "cell_type": "code",
   "execution_count": 31,
   "metadata": {},
   "outputs": [
    {
     "name": "stdout",
     "output_type": "stream",
     "text": [
      "(6, 3)\n"
     ]
    }
   ],
   "source": [
    "x = np.array([ [67, 63, 87],\n",
    "[77, 69, 59],\n",
    "[85, 87, 99],\n",
    "[79, 72, 71],\n",
    "[63, 89, 93],\n",
    "[68, 92, 78]])\n",
    "\n",
    "print(np.shape(x))"
   ]
  },
  {
   "cell_type": "code",
   "execution_count": 32,
   "metadata": {},
   "outputs": [
    {
     "name": "stdout",
     "output_type": "stream",
     "text": [
      "(6, 3)\n"
     ]
    }
   ],
   "source": [
    "print(x.shape)"
   ]
  },
  {
   "cell_type": "code",
   "execution_count": 33,
   "metadata": {},
   "outputs": [
    {
     "name": "stdout",
     "output_type": "stream",
     "text": [
      "[[67 63 87 77 69 59]\n",
      " [85 87 99 79 72 71]\n",
      " [63 89 93 68 92 78]]\n"
     ]
    }
   ],
   "source": [
    "x.shape = (3, 6)\n",
    "print(x)"
   ]
  },
  {
   "cell_type": "code",
   "execution_count": 35,
   "metadata": {},
   "outputs": [
    {
     "name": "stdout",
     "output_type": "stream",
     "text": [
      "[[67 63 87 77 69 59]\n",
      " [85 87 99 79 72 71]\n",
      " [63 89 93 68 92 78]]\n"
     ]
    }
   ],
   "source": [
    "x.shape = (3, 6)\n",
    "print(x)"
   ]
  },
  {
   "cell_type": "code",
   "execution_count": 36,
   "metadata": {},
   "outputs": [
    {
     "name": "stdout",
     "output_type": "stream",
     "text": [
      "[[67 63 87 77 69 59 85 87 99]\n",
      " [79 72 71 63 89 93 68 92 78]]\n"
     ]
    }
   ],
   "source": [
    "x.shape = (2, 9)\n",
    "print(x)"
   ]
  },
  {
   "cell_type": "code",
   "execution_count": 37,
   "metadata": {},
   "outputs": [
    {
     "name": "stdout",
     "output_type": "stream",
     "text": [
      "()\n"
     ]
    }
   ],
   "source": [
    "x = np.array(11)\n",
    "print(np.shape(x))"
   ]
  },
  {
   "cell_type": "code",
   "execution_count": 38,
   "metadata": {},
   "outputs": [
    {
     "name": "stdout",
     "output_type": "stream",
     "text": [
      "(4, 2, 3)\n"
     ]
    }
   ],
   "source": [
    "B = np.array([ [[111, 112, 113], [121, 122, 123]],\n",
    "[[211, 212, 213], [221, 222, 223]],\n",
    "[[311, 312, 313], [321, 322, 323]],\n",
    "[[411, 412, 413], [421, 422, 423]] ])\n",
    "print(B.shape)"
   ]
  },
  {
   "cell_type": "code",
   "execution_count": 39,
   "metadata": {},
   "outputs": [
    {
     "name": "stdout",
     "output_type": "stream",
     "text": [
      "[[[111 112 113]\n",
      "  [121 122 123]]\n",
      "\n",
      " [[211 212 213]\n",
      "  [221 222 223]]\n",
      "\n",
      " [[311 312 313]\n",
      "  [321 322 323]]\n",
      "\n",
      " [[411 412 413]\n",
      "  [421 422 423]]]\n"
     ]
    }
   ],
   "source": [
    "print(B)"
   ]
  },
  {
   "cell_type": "code",
   "execution_count": 41,
   "metadata": {},
   "outputs": [
    {
     "name": "stdout",
     "output_type": "stream",
     "text": [
      "1\n",
      "21\n"
     ]
    }
   ],
   "source": [
    "F = np.array([1, 1, 2, 3, 5, 8, 13, 21])\n",
    "print(F[0])\n",
    "print(F[-1])"
   ]
  },
  {
   "cell_type": "code",
   "execution_count": 42,
   "metadata": {},
   "outputs": [
    {
     "name": "stdout",
     "output_type": "stream",
     "text": [
      "1.1\n"
     ]
    }
   ],
   "source": [
    "A = np.array([ [3.4, 8.7, 9.9],\n",
    "[1.1, -7.8, -0.7],\n",
    "[4.1, 12.3, 4.8]])\n",
    "print(A[1][0])"
   ]
  },
  {
   "cell_type": "code",
   "execution_count": 44,
   "metadata": {},
   "outputs": [
    {
     "name": "stdout",
     "output_type": "stream",
     "text": [
      "1.1\n"
     ]
    }
   ],
   "source": [
    "print(A[1, 0])"
   ]
  },
  {
   "cell_type": "code",
   "execution_count": 45,
   "metadata": {},
   "outputs": [
    {
     "name": "stdout",
     "output_type": "stream",
     "text": [
      "[2 3 4]\n",
      "[0 1 2 3]\n",
      "[6 7 8 9]\n"
     ]
    }
   ],
   "source": [
    "S = np.array([0, 1, 2, 3, 4, 5, 6, 7, 8, 9])\n",
    "print(S[2:5])\n",
    "print(S[:4])\n",
    "print(S[6:])"
   ]
  },
  {
   "cell_type": "code",
   "execution_count": 46,
   "metadata": {},
   "outputs": [
    {
     "name": "stdout",
     "output_type": "stream",
     "text": [
      "[[13 14 15]\n",
      " [23 24 25]\n",
      " [33 34 35]]\n"
     ]
    }
   ],
   "source": [
    "A = np.array([\n",
    "[11, 12, 13, 14, 15],\n",
    "[21, 22, 23, 24, 25],\n",
    "[31, 32, 33, 34, 35],\n",
    "[41, 42, 43, 44, 45],\n",
    "[51, 52, 53, 54, 55]])\n",
    "\n",
    "print(A[:3, 2:])"
   ]
  },
  {
   "cell_type": "code",
   "execution_count": 47,
   "metadata": {},
   "outputs": [
    {
     "name": "stdout",
     "output_type": "stream",
     "text": [
      "[[41 42 43 44 45]\n",
      " [51 52 53 54 55]]\n"
     ]
    }
   ],
   "source": [
    "print(A[3:, :])"
   ]
  },
  {
   "cell_type": "code",
   "execution_count": 49,
   "metadata": {},
   "outputs": [
    {
     "name": "stdout",
     "output_type": "stream",
     "text": [
      "[[15]\n",
      " [25]\n",
      " [35]\n",
      " [45]\n",
      " [55]]\n"
     ]
    }
   ],
   "source": [
    "print(A[:,4:])"
   ]
  },
  {
   "cell_type": "code",
   "execution_count": 50,
   "metadata": {},
   "outputs": [
    {
     "name": "stdout",
     "output_type": "stream",
     "text": [
      "[[ 0  1  2  3  4  5  6]\n",
      " [ 7  8  9 10 11 12 13]\n",
      " [14 15 16 17 18 19 20]\n",
      " [21 22 23 24 25 26 27]]\n"
     ]
    }
   ],
   "source": [
    "X = np.arange(28).reshape(4, 7)\n",
    "print(X)"
   ]
  },
  {
   "cell_type": "code",
   "execution_count": 51,
   "metadata": {},
   "outputs": [
    {
     "name": "stdout",
     "output_type": "stream",
     "text": [
      "[[ 0  3  6]\n",
      " [14 17 20]]\n"
     ]
    }
   ],
   "source": [
    "print(X[::2, ::3])"
   ]
  },
  {
   "cell_type": "code",
   "execution_count": 52,
   "metadata": {},
   "outputs": [
    {
     "name": "stdout",
     "output_type": "stream",
     "text": [
      "[[ 0  3  6]\n",
      " [ 7 10 13]\n",
      " [14 17 20]\n",
      " [21 24 27]]\n"
     ]
    }
   ],
   "source": [
    "print(X[::, ::3])"
   ]
  },
  {
   "cell_type": "code",
   "execution_count": 53,
   "metadata": {},
   "outputs": [
    {
     "name": "stdout",
     "output_type": "stream",
     "text": [
      "[[[45 12  4]\n",
      "  [45 13  5]\n",
      "  [46 12  6]]\n",
      "\n",
      " [[46 14  4]\n",
      "  [45 14  5]\n",
      "  [46 11  5]]\n",
      "\n",
      " [[47 13  2]\n",
      "  [48 15  5]\n",
      "  [52 15  1]]]\n"
     ]
    }
   ],
   "source": [
    "A = np.array(\n",
    "[ [ [45, 12, 4], [45, 13, 5], [46, 12, 6] ],\n",
    "[ [46, 14, 4], [45, 14, 5], [46, 11, 5] ],\n",
    "[ [47, 13, 2], [48, 15, 5], [52, 15, 1] ] ])\n",
    "\n",
    "print(A)"
   ]
  },
  {
   "cell_type": "code",
   "execution_count": 54,
   "metadata": {},
   "outputs": [
    {
     "data": {
      "text/plain": [
       "array([[[46, 14,  4],\n",
       "        [45, 14,  5]],\n",
       "\n",
       "       [[47, 13,  2],\n",
       "        [48, 15,  5]]])"
      ]
     },
     "execution_count": 54,
     "metadata": {},
     "output_type": "execute_result"
    }
   ],
   "source": [
    "A[1:3, 0:2]"
   ]
  },
  {
   "cell_type": "code",
   "execution_count": 55,
   "metadata": {},
   "outputs": [],
   "source": [
    "A = np.array([0, 1, 2, 3, 4, 5, 6, 7, 8, 9])"
   ]
  },
  {
   "cell_type": "code",
   "execution_count": 57,
   "metadata": {},
   "outputs": [
    {
     "name": "stdout",
     "output_type": "stream",
     "text": [
      "[2 3 4 5]\n",
      "[0 1 2 3 4 5 6 7 8 9]\n"
     ]
    }
   ],
   "source": [
    "S = A[2:6]\n",
    "print(S)\n",
    "print(A)"
   ]
  },
  {
   "cell_type": "code",
   "execution_count": 58,
   "metadata": {},
   "outputs": [
    {
     "name": "stdout",
     "output_type": "stream",
     "text": [
      "[22 23  4  5]\n",
      "[ 0  1 22 23  4  5  6  7  8  9]\n"
     ]
    }
   ],
   "source": [
    "S[0] = 22\n",
    "S[1] = 23\n",
    "print(S)\n",
    "print(A)"
   ]
  },
  {
   "cell_type": "code",
   "execution_count": 59,
   "metadata": {},
   "outputs": [
    {
     "data": {
      "text/plain": [
       "True"
      ]
     },
     "execution_count": 59,
     "metadata": {},
     "output_type": "execute_result"
    }
   ],
   "source": [
    "np.may_share_memory(A, S)"
   ]
  },
  {
   "cell_type": "code",
   "execution_count": 61,
   "metadata": {},
   "outputs": [
    {
     "name": "stdout",
     "output_type": "stream",
     "text": [
      "[[1. 1. 1.]\n",
      " [1. 1. 1.]]\n",
      "[[1 1 1]\n",
      " [1 1 1]]\n"
     ]
    }
   ],
   "source": [
    "# CREATING ARRAYS WITH ONES, ZEROS AND EMPTY\n",
    "E = np.ones((2,3))\n",
    "print(E)\n",
    "\n",
    "F = np.ones((2, 3), dtype=int)\n",
    "print(F)\n"
   ]
  },
  {
   "cell_type": "code",
   "execution_count": 62,
   "metadata": {},
   "outputs": [
    {
     "name": "stdout",
     "output_type": "stream",
     "text": [
      "[[0. 0. 0. 0.]\n",
      " [0. 0. 0. 0.]]\n"
     ]
    }
   ],
   "source": [
    "Z = np.zeros((2, 4))\n",
    "print(Z)"
   ]
  },
  {
   "cell_type": "code",
   "execution_count": 63,
   "metadata": {},
   "outputs": [
    {
     "name": "stdout",
     "output_type": "stream",
     "text": [
      "[ 2  5 18 14  4]\n"
     ]
    }
   ],
   "source": [
    "x = np.array([2,5,18,14,4])\n",
    "print(x)"
   ]
  },
  {
   "cell_type": "code",
   "execution_count": 64,
   "metadata": {},
   "outputs": [
    {
     "name": "stdout",
     "output_type": "stream",
     "text": [
      "[1 1 1 1 1]\n",
      "[0 0 0 0 0]\n"
     ]
    }
   ],
   "source": [
    "E = np.ones_like(x)\n",
    "print(E)\n",
    "Z = np.zeros_like(x)\n",
    "print(Z)"
   ]
  },
  {
   "cell_type": "code",
   "execution_count": 65,
   "metadata": {},
   "outputs": [
    {
     "data": {
      "text/plain": [
       "array([[0., 0., 0., 0.],\n",
       "       [0., 0., 0., 0.]])"
      ]
     },
     "execution_count": 65,
     "metadata": {},
     "output_type": "execute_result"
    }
   ],
   "source": [
    "np.empty((2,4))"
   ]
  },
  {
   "cell_type": "code",
   "execution_count": 66,
   "metadata": {},
   "outputs": [
    {
     "name": "stdout",
     "output_type": "stream",
     "text": [
      "[[42 22 12]\n",
      " [44 53 66]]\n"
     ]
    }
   ],
   "source": [
    "x = np.array([[42,22,12],[44,53,66]], order='F')\n",
    "print(x)"
   ]
  },
  {
   "cell_type": "code",
   "execution_count": 67,
   "metadata": {},
   "outputs": [
    {
     "name": "stdout",
     "output_type": "stream",
     "text": [
      "[[42 22 12]\n",
      " [44 53 66]]\n"
     ]
    }
   ],
   "source": [
    "y = x.copy()\n",
    "print(y)"
   ]
  },
  {
   "cell_type": "code",
   "execution_count": 68,
   "metadata": {},
   "outputs": [
    {
     "name": "stdout",
     "output_type": "stream",
     "text": [
      "[[1001   22   12]\n",
      " [  44   53   66]]\n",
      "[[42 22 12]\n",
      " [44 53 66]]\n"
     ]
    }
   ],
   "source": [
    "x[0,0] = 1001\n",
    "print(x)\n",
    "print(y)"
   ]
  },
  {
   "cell_type": "code",
   "execution_count": 69,
   "metadata": {},
   "outputs": [
    {
     "data": {
      "text/plain": [
       "array([[1., 0., 0., 0.],\n",
       "       [0., 1., 0., 0.],\n",
       "       [0., 0., 1., 0.],\n",
       "       [0., 0., 0., 1.]])"
      ]
     },
     "execution_count": 69,
     "metadata": {},
     "output_type": "execute_result"
    }
   ],
   "source": [
    "# THE IDENTITY FUNCTION\n",
    "import numpy as np\n",
    "np.identity(4)"
   ]
  },
  {
   "cell_type": "code",
   "execution_count": 70,
   "metadata": {},
   "outputs": [
    {
     "data": {
      "text/plain": [
       "array([[1, 0, 0, 0],\n",
       "       [0, 1, 0, 0],\n",
       "       [0, 0, 1, 0],\n",
       "       [0, 0, 0, 1]])"
      ]
     },
     "execution_count": 70,
     "metadata": {},
     "output_type": "execute_result"
    }
   ],
   "source": [
    "import numpy as np\n",
    "np.identity(4, dtype=int)"
   ]
  },
  {
   "cell_type": "code",
   "execution_count": 71,
   "metadata": {},
   "outputs": [
    {
     "data": {
      "text/plain": [
       "array([[0, 1, 0, 0, 0, 0, 0, 0],\n",
       "       [0, 0, 1, 0, 0, 0, 0, 0],\n",
       "       [0, 0, 0, 1, 0, 0, 0, 0],\n",
       "       [0, 0, 0, 0, 1, 0, 0, 0],\n",
       "       [0, 0, 0, 0, 0, 1, 0, 0]])"
      ]
     },
     "execution_count": 71,
     "metadata": {},
     "output_type": "execute_result"
    }
   ],
   "source": [
    "# THE EYE FUNCTION\n",
    "import numpy as np\n",
    "np.eye(5, 8, k=1, dtype=int)"
   ]
  },
  {
   "cell_type": "markdown",
   "metadata": {},
   "source": [
    "# DATA TYPE OBJECTS, DTYPE"
   ]
  },
  {
   "cell_type": "code",
   "execution_count": 72,
   "metadata": {},
   "outputs": [
    {
     "name": "stdout",
     "output_type": "stream",
     "text": [
      "int16\n"
     ]
    }
   ],
   "source": [
    "i16 = np.dtype(np.int16)\n",
    "print(i16)"
   ]
  },
  {
   "cell_type": "code",
   "execution_count": 73,
   "metadata": {},
   "outputs": [
    {
     "name": "stdout",
     "output_type": "stream",
     "text": [
      "[[ 3  8  9]\n",
      " [ 1 -7  0]\n",
      " [ 4 12  4]]\n"
     ]
    }
   ],
   "source": [
    "lst = [ [3.4, 8.7, 9.9],\n",
    "[1.1, -7.8, -0.7],\n",
    "[4.1, 12.3, 4.8] ]\n",
    "\n",
    "A = np.array(lst, dtype=i16)\n",
    "print(A)"
   ]
  },
  {
   "cell_type": "code",
   "execution_count": 74,
   "metadata": {},
   "outputs": [
    {
     "name": "stdout",
     "output_type": "stream",
     "text": [
      "[(393,) (337,) (256,)]\n"
     ]
    }
   ],
   "source": [
    "dt = np.dtype([(\"density\", np.int32)])\n",
    "\n",
    "x = np.array([(393,), (337, ), (256,)], dtype=dt)\n",
    "\n",
    "print(x)"
   ]
  },
  {
   "cell_type": "code",
   "execution_count": 75,
   "metadata": {},
   "outputs": [
    {
     "name": "stdout",
     "output_type": "stream",
     "text": [
      "\n",
      "The internal representation:\n",
      "array([(393,), (337,), (256,)], dtype=[('density', '<i4')])\n"
     ]
    }
   ],
   "source": [
    "print(\"\\nThe internal representation:\")\n",
    "print(repr(x))"
   ]
  },
  {
   "cell_type": "code",
   "execution_count": 76,
   "metadata": {},
   "outputs": [
    {
     "name": "stdout",
     "output_type": "stream",
     "text": [
      "[393 337 256]\n"
     ]
    }
   ],
   "source": [
    "print(x[\"density\"])"
   ]
  },
  {
   "cell_type": "code",
   "execution_count": 80,
   "metadata": {},
   "outputs": [
    {
     "name": "stdout",
     "output_type": "stream",
     "text": [
      "[(b'Netherlands', 393,  41526, 16928800)\n",
      " (b'Belgium', 337,  30510, 11007020)\n",
      " (b'United Kingdom', 256, 243610, 62262000)\n",
      " (b'Germany', 233, 357021, 81799600)]\n"
     ]
    }
   ],
   "source": [
    "dt = np.dtype([('country', 'S20'), ('density', 'i4'), ('area', 'i4'), ('population', 'i4')])\n",
    "population_table = np.array([\n",
    "    ('Netherlands', 393, 41526, 16928800),\n",
    "    ('Belgium', 337, 30510, 11007020),\n",
    "    ('United Kingdom', 256, 243610, 62262000),\n",
    "    ('Germany', 233, 357021, 81799600),\n",
    "    ('Liechtenstein', 205, 160, 32842),\n",
    "    ('Italy', 192, 301230, 59715625),\n",
    "    ('Switzerland', 177, 41290, 7301994),\n",
    "    ('Luxembourg', 173, 2586, 512000),\n",
    "    ('France', 111, 547030, 63601002),\n",
    "    ('Austria', 97, 83858, 8169929),\n",
    "    ('Greece', 81, 131940, 11606813),\n",
    "    ('Ireland', 65, 70280, 4581269),\n",
    "    ('Sweden', 20, 449964, 9515744),\n",
    "    ('Finland', 16, 338424, 5410233),\n",
    "    ('Norway', 13, 385252, 5033675)],\n",
    "    dtype=dt)\n",
    "\n",
    "print(population_table[:4])"
   ]
  },
  {
   "cell_type": "code",
   "execution_count": 81,
   "metadata": {},
   "outputs": [
    {
     "name": "stdout",
     "output_type": "stream",
     "text": [
      "[393 337 256 233 205 192 177 173 111  97  81  65  20  16  13]\n"
     ]
    }
   ],
   "source": [
    "print(population_table[\"density\"])"
   ]
  },
  {
   "cell_type": "code",
   "execution_count": 82,
   "metadata": {},
   "outputs": [
    {
     "name": "stdout",
     "output_type": "stream",
     "text": [
      "[b'Netherlands' b'Belgium' b'United Kingdom' b'Germany' b'Liechtenstein'\n",
      " b'Italy' b'Switzerland' b'Luxembourg' b'France' b'Austria' b'Greece'\n",
      " b'Ireland' b'Sweden' b'Finland' b'Norway']\n"
     ]
    }
   ],
   "source": [
    "print(population_table[\"country\"])"
   ]
  },
  {
   "cell_type": "code",
   "execution_count": 84,
   "metadata": {},
   "outputs": [
    {
     "name": "stdout",
     "output_type": "stream",
     "text": [
      "[243610 357021    160]\n"
     ]
    }
   ],
   "source": [
    "print(population_table[\"area\"][2:5])"
   ]
  },
  {
   "cell_type": "code",
   "execution_count": 85,
   "metadata": {},
   "outputs": [
    {
     "name": "stdout",
     "output_type": "stream",
     "text": [
      "[('Netherlands', 393,  41526, 16928800) ('Belgium', 337,  30510, 11007020)\n",
      " ('United Kingdom', 256, 243610, 62262000)\n",
      " ('Germany', 233, 357021, 81799600)]\n"
     ]
    },
    {
     "name": "stderr",
     "output_type": "stream",
     "text": [
      "/var/folders/76/xs74b8wd5y1d4jslcyz534sh0000gn/T/ipykernel_73754/4065662728.py:1: DeprecationWarning: `np.unicode` is a deprecated alias for `np.compat.unicode`. To silence this warning, use `np.compat.unicode` by itself. In the likely event your code does not need to work on Python 2 you can use the builtin `str` for which `np.compat.unicode` is itself an alias. Doing this will not modify any behaviour and is safe. If you specifically wanted the numpy scalar type, use `np.str_` here.\n",
      "Deprecated in NumPy 1.20; for more details and guidance: https://numpy.org/devdocs/release/1.20.0-notes.html#deprecations\n",
      "  dt = np.dtype([('country', np.unicode, 20), ('density', 'i4'), ('area', 'i4'), ('population', 'i4')])\n"
     ]
    }
   ],
   "source": [
    "dt = np.dtype([('country', np.unicode, 20), ('density', 'i4'), ('area', 'i4'), ('population', 'i4')])\n",
    "population_table = np.array([\n",
    "    ('Netherlands', 393, 41526, 16928800),\n",
    "    ('Belgium', 337, 30510, 11007020),\n",
    "    ('United Kingdom', 256, 243610, 62262000),\n",
    "    ('Germany', 233, 357021, 81799600),\n",
    "    ('Liechtenstein', 205, 160, 32842),\n",
    "    ('Italy', 192, 301230, 59715625),\n",
    "    ('Switzerland', 177, 41290, 7301994),\n",
    "    ('Luxembourg', 173, 2586, 512000),\n",
    "    ('France', 111, 547030, 63601002),\n",
    "    ('Austria', 97, 83858, 8169929),\n",
    "    ('Greece', 81, 131940, 11606813),\n",
    "    ('Ireland', 65, 70280, 4581269),\n",
    "    ('Sweden', 20, 449964, 9515744),\n",
    "    ('Finland', 16, 338424, 5410233),\n",
    "    ('Norway', 13, 385252, 5033675)],\n",
    "    dtype=dt)\n",
    "\n",
    "print(population_table[:4])"
   ]
  },
  {
   "cell_type": "code",
   "execution_count": 87,
   "metadata": {},
   "outputs": [],
   "source": [
    "np.savetxt(\"population_table.csv\",\n",
    "    population_table,\n",
    "    fmt=\"%s;%d;%d;%d\",\n",
    "    delimiter=\";\")"
   ]
  },
  {
   "cell_type": "code",
   "execution_count": 88,
   "metadata": {},
   "outputs": [
    {
     "name": "stdout",
     "output_type": "stream",
     "text": [
      "[('Netherlands', 393,  41526, 16928800) ('Belgium', 337,  30510, 11007020)\n",
      " ('United Kingdom', 256, 243610, 62262000)\n",
      " ('Germany', 233, 357021, 81799600)\n",
      " ('Liechtenstein', 205,    160,    32842) ('Italy', 192, 301230, 59715625)\n",
      " ('Switzerland', 177,  41290,  7301994)\n",
      " ('Luxembourg', 173,   2586,   512000) ('France', 111, 547030, 63601002)\n",
      " ('Austria',  97,  83858,  8169929) ('Greece',  81, 131940, 11606813)\n",
      " ('Ireland',  65,  70280,  4581269) ('Sweden',  20, 449964,  9515744)\n",
      " ('Finland',  16, 338424,  5410233) ('Norway',  13, 385252,  5033675)]\n"
     ]
    },
    {
     "name": "stderr",
     "output_type": "stream",
     "text": [
      "/var/folders/76/xs74b8wd5y1d4jslcyz534sh0000gn/T/ipykernel_73754/1222719858.py:1: DeprecationWarning: `np.unicode` is a deprecated alias for `np.compat.unicode`. To silence this warning, use `np.compat.unicode` by itself. In the likely event your code does not need to work on Python 2 you can use the builtin `str` for which `np.compat.unicode` is itself an alias. Doing this will not modify any behaviour and is safe. If you specifically wanted the numpy scalar type, use `np.str_` here.\n",
      "Deprecated in NumPy 1.20; for more details and guidance: https://numpy.org/devdocs/release/1.20.0-notes.html#deprecations\n",
      "  dt = np.dtype([('country', np.unicode, 20), ('density', 'i4'), ('area', 'i4'), ('population', 'i4')])\n"
     ]
    }
   ],
   "source": [
    "dt = np.dtype([('country', np.unicode, 20), ('density', 'i4'), ('area', 'i4'), ('population', 'i4')])\n",
    "x = np.genfromtxt(\"population_table.csv\",\n",
    "dtype=dt,\n",
    "delimiter=\";\")\n",
    "print(x)"
   ]
  },
  {
   "cell_type": "code",
   "execution_count": 95,
   "metadata": {},
   "outputs": [
    {
     "name": "stdout",
     "output_type": "stream",
     "text": [
      "Data has been successfully converted to a pickle file.\n"
     ]
    }
   ],
   "source": [
    "import pickle\n",
    "\n",
    "# Step 1: Read the text file\n",
    "with open(\"cities_and_times.csv\", \"r\") as file:\n",
    "    data = file.readlines()\n",
    "\n",
    "# Step 2: Process the data (optional)\n",
    "# Remove any trailing newline characters\n",
    "data = [line.strip() for line in data]\n",
    "\n",
    "# Step 3: Save the data to a pickle file\n",
    "with open(\"cities_and_times.pkl\", \"wb\") as pkl_file:\n",
    "    pickle.dump(data, pkl_file)\n",
    "\n",
    "print(\"Data has been successfully converted to a pickle file.\")\n"
   ]
  },
  {
   "cell_type": "code",
   "execution_count": 97,
   "metadata": {},
   "outputs": [
    {
     "name": "stdout",
     "output_type": "stream",
     "text": [
      "[\"[('Amsterdam', 'Sun', (8, 52)), ('Anchorage', 'Sat', (23, 52)),\", \"('Ankara', 'Sun', (10, 52)), ('Athens', 'Sun', (9, 52)), ('Atlant\", \"a', 'Sun', (2, 52)), ('Auckland', 'Sun', (20, 52)), ('Barcelona',\", \"'Sun', (8, 52)), ('Beirut', 'Sun', (9, 52)), ('Berlin', 'Sun',\", \"(8, 52)), ('Boston', 'Sun', (2, 52)), ('Brasilia', 'Sun', (5, 5\", \"2)), ('Brussels', 'Sun', (8, 52)), ('Bucharest', 'Sun', (9, 52)),\", \"('Budapest', 'Sun', (8, 52)), ('Cairo', 'Sun', (9, 52)), ('Calgar\", \"y', 'Sun', (1, 52)), ('Cape Town', 'Sun', (9, 52)), ('Casablanc\", \"a', 'Sun', (7, 52)), ('Chicago', 'Sun', (1, 52)), ('Columbus', 'Su\", \"n', (2, 52)), ('Copenhagen', 'Sun', (8, 52)), ('Dallas', 'Sun',\", \"(1, 52)), ('Denver', 'Sun', (1, 52)), ('Detroit', 'Sun', (2, 5\", \"2)), ('Dubai', 'Sun', (11, 52)), ('Dublin', 'Sun', (7, 52)), ('Edm\", \"onton', 'Sun', (1, 52)), ('Frankfurt', 'Sun', (8, 52)), ('Halifa\", \"x', 'Sun', (3, 52)), ('Helsinki', 'Sun', (9, 52))]\"]\n"
     ]
    }
   ],
   "source": [
    "import pickle\n",
    "fh = open(\"cities_and_times.pkl\", \"br\")\n",
    "cities_and_times = pickle.load(fh)\n",
    "print(cities_and_times[:30])"
   ]
  },
  {
   "cell_type": "markdown",
   "metadata": {},
   "source": []
  },
  {
   "cell_type": "code",
   "execution_count": 101,
   "metadata": {},
   "outputs": [
    {
     "ename": "ValueError",
     "evalue": "invalid literal for int() with base 10: \"[('Amsterdam', 'Sun', (8, 52)), ('Anchorage', 'Sat', (23, 52)),\"",
     "output_type": "error",
     "traceback": [
      "\u001b[0;31m---------------------------------------------------------------------------\u001b[0m",
      "\u001b[0;31mValueError\u001b[0m                                Traceback (most recent call last)",
      "\u001b[0;32m/var/folders/76/xs74b8wd5y1d4jslcyz534sh0000gn/T/ipykernel_73754/3976751492.py\u001b[0m in \u001b[0;36m<module>\u001b[0;34m\u001b[0m\n\u001b[1;32m      1\u001b[0m time_type = np.dtype([('city', 'U30'), ('day', 'U3'), ('time',\n\u001b[1;32m      2\u001b[0m [('h', int), ('min', int)])])\n\u001b[0;32m----> 3\u001b[0;31m \u001b[0mtimes\u001b[0m \u001b[0;34m=\u001b[0m \u001b[0mnp\u001b[0m\u001b[0;34m.\u001b[0m\u001b[0marray\u001b[0m\u001b[0;34m(\u001b[0m \u001b[0mcities_and_times\u001b[0m \u001b[0;34m,\u001b[0m \u001b[0mdtype\u001b[0m\u001b[0;34m=\u001b[0m\u001b[0mtime_type\u001b[0m\u001b[0;34m)\u001b[0m\u001b[0;34m\u001b[0m\u001b[0;34m\u001b[0m\u001b[0m\n\u001b[0m\u001b[1;32m      4\u001b[0m \u001b[0mprint\u001b[0m\u001b[0;34m(\u001b[0m\u001b[0mtimes\u001b[0m\u001b[0;34m[\u001b[0m\u001b[0;34m'time'\u001b[0m\u001b[0;34m]\u001b[0m\u001b[0;34m)\u001b[0m\u001b[0;34m\u001b[0m\u001b[0;34m\u001b[0m\u001b[0m\n\u001b[1;32m      5\u001b[0m \u001b[0mprint\u001b[0m\u001b[0;34m(\u001b[0m\u001b[0mtimes\u001b[0m\u001b[0;34m[\u001b[0m\u001b[0;34m'city'\u001b[0m\u001b[0;34m]\u001b[0m\u001b[0;34m)\u001b[0m\u001b[0;34m\u001b[0m\u001b[0;34m\u001b[0m\u001b[0m\n",
      "\u001b[0;31mValueError\u001b[0m: invalid literal for int() with base 10: \"[('Amsterdam', 'Sun', (8, 52)), ('Anchorage', 'Sat', (23, 52)),\""
     ]
    }
   ],
   "source": [
    "time_type = np.dtype([('city', 'U30'), ('day', 'U3'), ('time',\n",
    "[('h', int), ('min', int)])])\n",
    "times = np.array( cities_and_times , dtype=time_type)\n",
    "print(times['time'])\n",
    "print(times['city'])\n",
    "x = times[27]\n",
    "x[0]"
   ]
  },
  {
   "cell_type": "markdown",
   "metadata": {},
   "source": [
    "# *NUMERICAL OPERATIONS ON NUMPY ARRAYS"
   ]
  },
  {
   "cell_type": "code",
   "execution_count": 5,
   "metadata": {},
   "outputs": [
    {
     "name": "stdout",
     "output_type": "stream",
     "text": [
      "[ 2.    3.    7.9   3.3   6.9   0.11 10.3  12.9 ]\n"
     ]
    }
   ],
   "source": [
    "import numpy as np\n",
    "lst = [2,3, 7.9, 3.3, 6.9, 0.11, 10.3, 12.9]\n",
    "v = np.array(lst)\n",
    "v1 = v + 2\n",
    "print(v)"
   ]
  },
  {
   "cell_type": "code",
   "execution_count": 6,
   "metadata": {},
   "outputs": [
    {
     "name": "stdout",
     "output_type": "stream",
     "text": [
      "[ 4.4    6.6   17.38   7.26  15.18   0.242 22.66  28.38 ]\n"
     ]
    }
   ],
   "source": [
    "print(v * 2.2)"
   ]
  },
  {
   "cell_type": "code",
   "execution_count": 7,
   "metadata": {},
   "outputs": [
    {
     "name": "stdout",
     "output_type": "stream",
     "text": [
      "[ 0.62  1.62  6.52  1.92  5.52 -1.27  8.92 11.52]\n"
     ]
    }
   ],
   "source": [
    "print(v - 1.38)"
   ]
  },
  {
   "cell_type": "code",
   "execution_count": 8,
   "metadata": {},
   "outputs": [
    {
     "name": "stdout",
     "output_type": "stream",
     "text": [
      "[4.0000e+00 9.0000e+00 6.2410e+01 1.0890e+01 4.7610e+01 1.2100e-02\n",
      " 1.0609e+02 1.6641e+02]\n",
      "[2.82842712e+00 5.19615242e+00 2.22044815e+01 5.99474770e+00\n",
      " 1.81248172e+01 3.64828727e-02 3.30564215e+01 4.63323753e+01]\n"
     ]
    }
   ],
   "source": [
    "print(v ** 2)\n",
    "print(v ** 1.5)"
   ]
  },
  {
   "cell_type": "code",
   "execution_count": 9,
   "metadata": {},
   "outputs": [
    {
     "name": "stdout",
     "output_type": "stream",
     "text": [
      "1.41 µs ± 13.5 ns per loop (mean ± std. dev. of 7 runs, 1000000 loops each)\n"
     ]
    }
   ],
   "source": [
    "v = np.random.randint(0, 100, 1000)\n",
    "%timeit v + 1"
   ]
  },
  {
   "cell_type": "code",
   "execution_count": 10,
   "metadata": {},
   "outputs": [
    {
     "name": "stdout",
     "output_type": "stream",
     "text": [
      "142 µs ± 426 ns per loop (mean ± std. dev. of 7 runs, 10000 loops each)\n"
     ]
    }
   ],
   "source": [
    "lst = list(v)\n",
    "%timeit [ val + 2 for val in lst]"
   ]
  },
  {
   "cell_type": "code",
   "execution_count": 11,
   "metadata": {},
   "outputs": [
    {
     "name": "stdout",
     "output_type": "stream",
     "text": [
      "[[1. 1. 1.]\n",
      " [1. 1. 1.]\n",
      " [1. 1. 1.]]\n"
     ]
    }
   ],
   "source": [
    "a = np.ones((3,3))\n",
    "print(a)"
   ]
  },
  {
   "cell_type": "code",
   "execution_count": 12,
   "metadata": {},
   "outputs": [
    {
     "name": "stdout",
     "output_type": "stream",
     "text": [
      "Adding to arrays: \n",
      "[[12. 13. 14.]\n",
      " [22. 23. 24.]\n",
      " [32. 33. 34.]]\n",
      "\n",
      "Multiplying two arrays: \n",
      "[[22. 24. 26.]\n",
      " [42. 44. 46.]\n",
      " [62. 64. 66.]]\n"
     ]
    }
   ],
   "source": [
    "import numpy as np\n",
    "A = np.array([ [11, 12, 13], [21, 22, 23], [31, 32, 33] ])\n",
    "B = np.ones((3,3))\n",
    "\n",
    "print(\"Adding to arrays: \")\n",
    "print(A + B)\n",
    "\n",
    "print(\"\\nMultiplying two arrays: \")\n",
    "print(A * (B + 1))"
   ]
  },
  {
   "cell_type": "code",
   "execution_count": 15,
   "metadata": {},
   "outputs": [
    {
     "data": {
      "text/plain": [
       "array([[36., 36., 36.],\n",
       "       [66., 66., 66.],\n",
       "       [96., 96., 96.]])"
      ]
     },
     "execution_count": 15,
     "metadata": {},
     "output_type": "execute_result"
    }
   ],
   "source": [
    "#DEFINITION OF THE DOT PRODUCT\n",
    "np.dot(A, B)"
   ]
  },
  {
   "cell_type": "code",
   "execution_count": 16,
   "metadata": {},
   "outputs": [
    {
     "name": "stdout",
     "output_type": "stream",
     "text": [
      "12\n",
      "1\n",
      "12\n",
      "-14\n"
     ]
    }
   ],
   "source": [
    "# EXAMPLES OF USING THE DOT PRODUCT\n",
    "print(np.dot(3, 4))\n",
    "x = np.array([3])\n",
    "y = np.array([4])\n",
    "print(x.ndim)\n",
    "print(np.dot(x, y))\n",
    "x = np.array([3, -2])\n",
    "y = np.array([-4, 1])\n",
    "print(np.dot(x, y))"
   ]
  },
  {
   "cell_type": "code",
   "execution_count": 17,
   "metadata": {},
   "outputs": [
    {
     "name": "stdout",
     "output_type": "stream",
     "text": [
      "True 3\n",
      "[[ 7  7 17  4]\n",
      " [ 9  9 19  0]]\n"
     ]
    }
   ],
   "source": [
    "A = np.array([ [1, 2, 3],\n",
    "[3, 2, 1] ])\n",
    "B = np.array([ [2, 3, 4, -2],\n",
    "[1, -1, 2, 3],\n",
    "[1, 2, 3, 0] ])\n",
    "# es muss gelten:\n",
    "print(A.shape[-1] == B.shape[-2], A.shape[1])\n",
    "print(np.dot(A, B))"
   ]
  },
  {
   "cell_type": "code",
   "execution_count": 19,
   "metadata": {},
   "outputs": [
    {
     "name": "stdout",
     "output_type": "stream",
     "text": [
      "The shapes:\n",
      "(3, 3, 3)\n",
      "(3, 3, 3)\n",
      "(3, 3, 3, 3)\n",
      "\n",
      "The Result R:\n",
      "[[[[14 19 15]\n",
      "   [15 15  9]\n",
      "   [13  9 18]]\n",
      "\n",
      "  [[18 24 20]\n",
      "   [20 20 12]\n",
      "   [18 12 22]]\n",
      "\n",
      "  [[15 18 22]\n",
      "   [22 13 12]\n",
      "   [21  9 14]]]\n",
      "\n",
      "\n",
      " [[[16 21 19]\n",
      "   [19 16 11]\n",
      "   [17 10 19]]\n",
      "\n",
      "  [[25 32 32]\n",
      "   [32 23 18]\n",
      "   [29 15 28]]\n",
      "\n",
      "  [[13 18 12]\n",
      "   [12 18  8]\n",
      "   [11 10 17]]]\n",
      "\n",
      "\n",
      " [[[11 14 14]\n",
      "   [14 11  8]\n",
      "   [13  7 12]]\n",
      "\n",
      "  [[17 23 19]\n",
      "   [19 16 11]\n",
      "   [16 10 22]]\n",
      "\n",
      "  [[19 25 23]\n",
      "   [23 17 13]\n",
      "   [20 11 23]]]]\n"
     ]
    }
   ],
   "source": [
    "#THE DOT PRODUCT IN THE 3-DIMENSIONAL CASE\n",
    "import numpy as np\n",
    "X = np.array( [[[3, 1, 2],\n",
    "[4, 2, 2],\n",
    "[2, 4, 1]],\n",
    "[[3, 2, 2],\n",
    "[4, 4, 3],\n",
    "[4, 1, 1]],\n",
    "[[2, 2, 1],\n",
    "[3, 1, 3],\n",
    "[3, 2, 3]]])\n",
    "Y = np.array( [[[2, 3, 1],\n",
    "[2, 2, 4],\n",
    "[3, 4, 4]],\n",
    "[[1, 4, 1],\n",
    "[4, 1, 2],\n",
    "[4, 1, 2]],\n",
    "[[1, 2, 3],\n",
    "[4, 1, 1],\n",
    "[3, 1, 4]]])\n",
    "\n",
    "R = np.dot(X, Y)\n",
    "\n",
    "print(\"The shapes:\")\n",
    "print(X.shape)\n",
    "print(Y.shape)\n",
    "print(R.shape)\n",
    "print(\"\\nThe Result R:\")\n",
    "print(R)"
   ]
  },
  {
   "cell_type": "code",
   "execution_count": 20,
   "metadata": {},
   "outputs": [
    {
     "name": "stdout",
     "output_type": "stream",
     "text": [
      "X.shape:  (4, 2, 3)  X.ndim:  3\n",
      "Y.shape:  (2, 3, 5)  Y.ndim:  3\n",
      "R.shape:  (4, 2, 2, 5) R.ndim:  4\n",
      "\n",
      "The result array R:\n",
      "\n",
      "[[[[ 14  19   5   8   1]\n",
      "   [ 15  15  10  16   3]]\n",
      "\n",
      "  [[ 18  24   8  10   2]\n",
      "   [ 20  20  14  22   2]]]\n",
      "\n",
      "\n",
      " [[[  1   1  -1  -1  -2]\n",
      "   [  3  -3  -3   1  -2]]\n",
      "\n",
      "  [[ -6  -7  -1   0   3]\n",
      "   [-11   1   2  -8   5]]]\n",
      "\n",
      "\n",
      " [[[ 16  21   7   8   1]\n",
      "   [ 19  16  11  20   0]]\n",
      "\n",
      "  [[ 25  32  12  11   1]\n",
      "   [ 32  23  16  33  -4]]]\n",
      "\n",
      "\n",
      " [[[ 11  14   6   5   1]\n",
      "   [ 14  11   8  15  -2]]\n",
      "\n",
      "  [[ 17  23   5   9   0]\n",
      "   [ 19  16  10  19   3]]]]\n"
     ]
    }
   ],
   "source": [
    "import numpy as np\n",
    "X = np.array(\n",
    "[[[3, 1, 2],\n",
    "[4, 2, 2]],\n",
    "[[-1, 0, 1],\n",
    "[1, -1, -2]],\n",
    "[[3, 2, 2],\n",
    "[4, 4, 3]],\n",
    "[[2, 2, 1],\n",
    "[3, 1, 3]]])\n",
    "Y = np.array(\n",
    "[[[2, 3, 1, 2, 1],\n",
    "[2, 2, 2, 0, 0],\n",
    "[3, 4, 0, 1, -1]],\n",
    "[[1, 4, 3, 2, 2],\n",
    "[4, 1, 1, 4, -3],\n",
    "[4, 1, 0, 3, 0]]])\n",
    "R = np.dot(X, Y)\n",
    "\n",
    "print(\"X.shape: \", X.shape, \" X.ndim: \", X.ndim)\n",
    "print(\"Y.shape: \", Y.shape, \" Y.ndim: \", Y.ndim)\n",
    "print(\"R.shape: \", R.shape, \"R.ndim: \", R.ndim)\n",
    "\n",
    "print(\"\\nThe result array R:\\n\")\n",
    "\n",
    "print(R)"
   ]
  },
  {
   "cell_type": "code",
   "execution_count": 22,
   "metadata": {},
   "outputs": [
    {
     "name": "stdout",
     "output_type": "stream",
     "text": [
      " sum(X[0, 0, :] * Y[0, :, 0] : 14\n",
      " sum(X[0, 0, :] * Y[0, :, 1] : 19\n",
      " sum(X[0, 0, :] * Y[0, :, 2] : 5\n",
      " sum(X[0, 0, :] * Y[0, :, 3] : 8\n",
      " sum(X[0, 0, :] * Y[0, :, 4] : 1\n",
      " sum(X[0, 0, :] * Y[1, :, 0] : 15\n",
      " sum(X[0, 0, :] * Y[1, :, 1] : 15\n",
      " sum(X[0, 0, :] * Y[1, :, 2] : 10\n",
      " sum(X[0, 0, :] * Y[1, :, 3] : 16\n",
      " sum(X[0, 0, :] * Y[1, :, 4] : 3\n",
      " sum(X[0, 1, :] * Y[0, :, 0] : 18\n",
      " sum(X[0, 1, :] * Y[0, :, 1] : 24\n",
      " sum(X[0, 1, :] * Y[0, :, 2] : 8\n",
      " sum(X[0, 1, :] * Y[0, :, 3] : 10\n",
      " sum(X[0, 1, :] * Y[0, :, 4] : 2\n",
      " sum(X[0, 1, :] * Y[1, :, 0] : 20\n",
      " sum(X[0, 1, :] * Y[1, :, 1] : 20\n",
      " sum(X[0, 1, :] * Y[1, :, 2] : 14\n",
      " sum(X[0, 1, :] * Y[1, :, 3] : 22\n",
      " sum(X[0, 1, :] * Y[1, :, 4] : 2\n"
     ]
    }
   ],
   "source": [
    "i = 0\n",
    "for j in range(X.shape[1]):\n",
    "    for k in range(Y.shape[0]):\n",
    "        for m in range(Y.shape[2]):\n",
    "            fmt = \" sum(X[{}, {}, :] * Y[{}, :, {}] : {}\"\n",
    "            arguments = (i, j, k, m, sum(X[i, j, :] * Y[k, :, m]))\n",
    "            print(fmt.format(*arguments))"
   ]
  },
  {
   "cell_type": "code",
   "execution_count": 23,
   "metadata": {},
   "outputs": [
    {
     "name": "stdout",
     "output_type": "stream",
     "text": [
      "[[[14 19  5  8  1]\n",
      "  [15 15 10 16  3]]\n",
      "\n",
      " [[18 24  8 10  2]\n",
      "  [20 20 14 22  2]]]\n"
     ]
    }
   ],
   "source": [
    "print(R[0])"
   ]
  },
  {
   "cell_type": "code",
   "execution_count": 24,
   "metadata": {},
   "outputs": [
    {
     "name": "stdout",
     "output_type": "stream",
     "text": [
      "True\n"
     ]
    },
    {
     "name": "stderr",
     "output_type": "stream",
     "text": [
      "/var/folders/76/xs74b8wd5y1d4jslcyz534sh0000gn/T/ipykernel_3601/3411711381.py:1: DeprecationWarning: `np.int` is a deprecated alias for the builtin `int`. To silence this warning, use `int` by itself. Doing this will not modify any behavior and is safe. When replacing `np.int`, you may wish to use e.g. `np.int64` or `np.int32` to specify the precision. If you wish to review your current use, check the release note link for additional information.\n",
      "Deprecated in NumPy 1.20; for more details and guidance: https://numpy.org/devdocs/release/1.20.0-notes.html#deprecations\n",
      "  R2 = np.zeros(R.shape, dtype=np.int)\n"
     ]
    }
   ],
   "source": [
    "R2 = np.zeros(R.shape, dtype=np.int)\n",
    "for i in range(X.shape[0]):\n",
    "    for j in range(X.shape[1]):\n",
    "        for k in range(Y.shape[0]):\n",
    "            for m in range(Y.shape[2]):\n",
    "                R2[i, j, k, m] = sum(X[i, j, :] * Y[k, :, m])\n",
    "print( np.array_equal(R, R2) )"
   ]
  },
  {
   "cell_type": "code",
   "execution_count": 1,
   "metadata": {},
   "outputs": [
    {
     "name": "stdout",
     "output_type": "stream",
     "text": [
      "[[ 3  4  3]\n",
      " [ 2  4  6]\n",
      " [-3 -6 -9]]\n"
     ]
    }
   ],
   "source": [
    "import numpy as np\n",
    "\n",
    "A = np.array([ [1, 2, 3], [2, 2, 2], [3, 3, 3] ])\n",
    "B = np.array([ [3, 2, 1], [1, 2, 3], [-1, -2, -3] ])\n",
    "\n",
    "R = A * B\n",
    "\n",
    "print(R)"
   ]
  },
  {
   "cell_type": "code",
   "execution_count": 2,
   "metadata": {},
   "outputs": [
    {
     "name": "stdout",
     "output_type": "stream",
     "text": [
      "[[1 2 3]\n",
      " [2 2 2]\n",
      " [3 3 3]]\n",
      "[[ 3  2  1]\n",
      " [ 1  2  3]\n",
      " [-1 -2 -3]]\n"
     ]
    }
   ],
   "source": [
    "MA = np.mat(A)\n",
    "MB = np.mat(B)\n",
    "print(MA)\n",
    "print(MB)"
   ]
  },
  {
   "cell_type": "code",
   "execution_count": 3,
   "metadata": {},
   "outputs": [
    {
     "name": "stdout",
     "output_type": "stream",
     "text": [
      "[[ 2  0 -2]\n",
      " [ 6  4  2]\n",
      " [ 9  6  3]]\n"
     ]
    }
   ],
   "source": [
    "R = MA * MB\n",
    "print(R)"
   ]
  },
  {
   "cell_type": "code",
   "execution_count": 4,
   "metadata": {},
   "outputs": [
    {
     "data": {
      "text/plain": [
       "array([[ True, False,  True],\n",
       "       [False,  True, False],\n",
       "       [ True,  True, False]])"
      ]
     },
     "execution_count": 4,
     "metadata": {},
     "output_type": "execute_result"
    }
   ],
   "source": [
    "import numpy as np\n",
    "\n",
    "A = np.array([ [11, 12, 13], [21, 22, 23], [31, 32, 33] ])\n",
    "B = np.array([ [11, 102, 13], [201, 22, 203], [31, 32, 303] ])\n",
    "\n",
    "A == B"
   ]
  },
  {
   "cell_type": "code",
   "execution_count": 5,
   "metadata": {},
   "outputs": [
    {
     "name": "stdout",
     "output_type": "stream",
     "text": [
      "False\n"
     ]
    }
   ],
   "source": [
    "print(np.array_equal(A, B))"
   ]
  },
  {
   "cell_type": "code",
   "execution_count": 7,
   "metadata": {},
   "outputs": [
    {
     "name": "stdout",
     "output_type": "stream",
     "text": [
      "True\n"
     ]
    }
   ],
   "source": [
    "print(np.array_equal(A, A))"
   ]
  },
  {
   "cell_type": "code",
   "execution_count": 11,
   "metadata": {},
   "outputs": [
    {
     "name": "stdout",
     "output_type": "stream",
     "text": [
      "[[ True  True]\n",
      " [ True False]]\n"
     ]
    }
   ],
   "source": [
    "a = np.array([ [True, True], [False, False]])\n",
    "b = np.array([ [True, False], [True, False]])\n",
    "\n",
    "print(np.logical_or(a,b))"
   ]
  },
  {
   "cell_type": "code",
   "execution_count": 12,
   "metadata": {},
   "outputs": [
    {
     "name": "stdout",
     "output_type": "stream",
     "text": [
      "[[ True False]\n",
      " [False False]]\n"
     ]
    }
   ],
   "source": [
    "print(np.logical_and(a, b))"
   ]
  },
  {
   "cell_type": "code",
   "execution_count": 13,
   "metadata": {},
   "outputs": [
    {
     "name": "stdout",
     "output_type": "stream",
     "text": [
      "Multiplication with broadcasting: \n",
      "[[11 24 39]\n",
      " [21 44 69]\n",
      " [31 64 99]]\n",
      "... and now addition with broadcasting: \n",
      "[[12 14 16]\n",
      " [22 24 26]\n",
      " [32 34 36]]\n"
     ]
    }
   ],
   "source": [
    "import numpy as np\n",
    "\n",
    "A = np.array([ [11, 12, 13], [21, 22, 23], [31, 32, 33] ])\n",
    "B = np.array([1, 2, 3])\n",
    "\n",
    "print(\"Multiplication with broadcasting: \")\n",
    "print(A * B)\n",
    "\n",
    "print(\"... and now addition with broadcasting: \")\n",
    "print(A + B)"
   ]
  },
  {
   "cell_type": "code",
   "execution_count": 15,
   "metadata": {},
   "outputs": [
    {
     "data": {
      "text/plain": [
       "array([[1],\n",
       "       [2],\n",
       "       [3]])"
      ]
     },
     "execution_count": 15,
     "metadata": {},
     "output_type": "execute_result"
    }
   ],
   "source": [
    "# SECOND EXAMPLE:\n",
    "B = np.array([1, 2, 3])\n",
    "\n",
    "B[:, np.newaxis]"
   ]
  },
  {
   "cell_type": "code",
   "execution_count": 16,
   "metadata": {},
   "outputs": [
    {
     "data": {
      "text/plain": [
       "array([[11, 12, 13],\n",
       "       [42, 44, 46],\n",
       "       [93, 96, 99]])"
      ]
     },
     "execution_count": 16,
     "metadata": {},
     "output_type": "execute_result"
    }
   ],
   "source": [
    "A * B[:, np.newaxis]"
   ]
  },
  {
   "cell_type": "code",
   "execution_count": 17,
   "metadata": {},
   "outputs": [
    {
     "data": {
      "text/plain": [
       "array([[10],\n",
       "       [20],\n",
       "       [30]])"
      ]
     },
     "execution_count": 17,
     "metadata": {},
     "output_type": "execute_result"
    }
   ],
   "source": [
    "# THIRD EXAMPLE:\n",
    "A = np.array([10, 20, 30])\n",
    "B = np.array([1, 2, 3])\n",
    "A[:, np.newaxis]"
   ]
  },
  {
   "cell_type": "code",
   "execution_count": 18,
   "metadata": {},
   "outputs": [
    {
     "data": {
      "text/plain": [
       "array([[10, 20, 30],\n",
       "       [20, 40, 60],\n",
       "       [30, 60, 90]])"
      ]
     },
     "execution_count": 18,
     "metadata": {},
     "output_type": "execute_result"
    }
   ],
   "source": [
    "A[:, np.newaxis] * B"
   ]
  },
  {
   "cell_type": "code",
   "execution_count": 19,
   "metadata": {},
   "outputs": [
    {
     "name": "stdout",
     "output_type": "stream",
     "text": [
      "[[11 12 13]\n",
      " [21 22 23]\n",
      " [31 32 33]]\n",
      "[[1 2 3]\n",
      " [1 2 3]\n",
      " [1 2 3]]\n"
     ]
    }
   ],
   "source": [
    "import numpy as np\n",
    "A = np.array([ [11, 12, 13], [21, 22, 23], [31, 32, 33] ])\n",
    "B = np.array([1, 2, 3])\n",
    "B = B[np.newaxis, :]\n",
    "B = np.concatenate((B, B, B))\n",
    "\n",
    "print(A)\n",
    "print(B)"
   ]
  },
  {
   "cell_type": "code",
   "execution_count": 20,
   "metadata": {},
   "outputs": [
    {
     "name": "stdout",
     "output_type": "stream",
     "text": [
      "Multiplication: \n",
      "[[11 24 39]\n",
      " [21 44 69]\n",
      " [31 64 99]]\n",
      "... and now addition again: \n",
      "[[12 14 16]\n",
      " [22 24 26]\n",
      " [32 34 36]]\n"
     ]
    }
   ],
   "source": [
    "print(\"Multiplication: \")\n",
    "print(A * B)\n",
    "print(\"... and now addition again: \")\n",
    "print(A + B)"
   ]
  },
  {
   "cell_type": "code",
   "execution_count": 21,
   "metadata": {},
   "outputs": [
    {
     "name": "stdout",
     "output_type": "stream",
     "text": [
      "[[1 2 3]\n",
      " [1 2 3]\n",
      " [1 2 3]]\n"
     ]
    }
   ],
   "source": [
    "import numpy as np\n",
    "A = np.array([ [11, 12, 13], [21, 22, 23], [31, 32, 33] ])\n",
    "B = np.tile(np.array([1, 2, 3]), (3, 1))\n",
    "print(B)"
   ]
  },
  {
   "cell_type": "code",
   "execution_count": 22,
   "metadata": {},
   "outputs": [
    {
     "name": "stdout",
     "output_type": "stream",
     "text": [
      "Multiplication: \n",
      "[[11 24 39]\n",
      " [21 44 69]\n",
      " [31 64 99]]\n",
      "... and now addition again: \n",
      "[[12 14 16]\n",
      " [22 24 26]\n",
      " [32 34 36]]\n"
     ]
    }
   ],
   "source": [
    "print(\"Multiplication: \")\n",
    "print(A * B)\n",
    "print(\"... and now addition again: \")\n",
    "print(A + B)"
   ]
  },
  {
   "cell_type": "code",
   "execution_count": 2,
   "metadata": {},
   "outputs": [],
   "source": [
    "cities = [\"Barcelona\", \"Berlin\", \"Brussels\", \"Bucharest\",\n",
    "\"Budapest\", \"Copenhagen\", \"Dublin\", \"Hamburg\", \"Istanbul\",\n",
    "\"Kiev\", \"London\", \"Madrid\", \"Milan\", \"Moscow\", \"Munich\",\n",
    "\"Paris\", \"Prague\", \"Rome\", \"Saint Petersburg\",\n",
    "\"Stockholm\", \"Vienna\", \"Warsaw\"]\n",
    "dist2barcelona = [0, 1498, 1063, 1968,\n",
    "1498, 1758, 1469, 1472, 2230,\n",
    "2391, 1138, 505, 725, 3007, 1055,\n",
    "833, 1354, 857, 2813,\n",
    "2277, 1347, 1862]"
   ]
  },
  {
   "cell_type": "code",
   "execution_count": 3,
   "metadata": {},
   "outputs": [
    {
     "name": "stdout",
     "output_type": "stream",
     "text": [
      "['Barcelona', 'Berlin', 'Brussels', 'Bucharest', 'Budapest', 'Copenhagen', 'Dublin', 'Hamburg', 'Istanbul', 'Kiev', 'London', 'Madrid', 'Milan', 'Moscow', 'Munich', 'Paris', 'Prague', 'Rome', 'Saint Petersburg', 'Stockholm', 'Vienna', 'Warsaw']\n"
     ]
    }
   ],
   "source": [
    "print(cities)"
   ]
  },
  {
   "cell_type": "code",
   "execution_count": 4,
   "metadata": {},
   "outputs": [
    {
     "name": "stdout",
     "output_type": "stream",
     "text": [
      "[0, 1498, 1063, 1968, 1498, 1758, 1469, 1472, 2230, 2391, 1138, 505, 725, 3007, 1055, 833, 1354, 857, 2813, 2277, 1347, 1862]\n"
     ]
    }
   ],
   "source": [
    "print(dist2barcelona)"
   ]
  },
  {
   "cell_type": "code",
   "execution_count": 6,
   "metadata": {},
   "outputs": [
    {
     "name": "stdout",
     "output_type": "stream",
     "text": [
      "[   0 1498 1063 1968 1498 1758 1469 1472 2230 2391 1138  505]\n"
     ]
    }
   ],
   "source": [
    "import numpy as np\n",
    "\n",
    "dists = np.array(dist2barcelona[:12])\n",
    "print(dists)"
   ]
  },
  {
   "cell_type": "code",
   "execution_count": 7,
   "metadata": {},
   "outputs": [
    {
     "name": "stdout",
     "output_type": "stream",
     "text": [
      "[[   0 1498 1063 1968 1498 1758 1469 1472 2230 2391 1138  505]\n",
      " [1498    0  435  470    0  260   29   26  732  893  360  993]\n",
      " [1063  435    0  905  435  695  406  409 1167 1328   75  558]\n",
      " [1968  470  905    0  470  210  499  496  262  423  830 1463]\n",
      " [1498    0  435  470    0  260   29   26  732  893  360  993]\n",
      " [1758  260  695  210  260    0  289  286  472  633  620 1253]\n",
      " [1469   29  406  499   29  289    0    3  761  922  331  964]\n",
      " [1472   26  409  496   26  286    3    0  758  919  334  967]\n",
      " [2230  732 1167  262  732  472  761  758    0  161 1092 1725]\n",
      " [2391  893 1328  423  893  633  922  919  161    0 1253 1886]\n",
      " [1138  360   75  830  360  620  331  334 1092 1253    0  633]\n",
      " [ 505  993  558 1463  993 1253  964  967 1725 1886  633    0]]\n"
     ]
    }
   ],
   "source": [
    "print(np.abs(dists - dists[:, np.newaxis]))"
   ]
  },
  {
   "cell_type": "code",
   "execution_count": 8,
   "metadata": {},
   "outputs": [],
   "source": [
    "A = np.array([ [[3, 4, 7], [5, 0, -1] , [2, 1, 5]],\n",
    "[[1, 0, -1], [8, 2, 4], [5, 2, 1]],\n",
    "[[2, 1, 3], [1, 9, 4], [5, -2, 4]]])\n",
    "\n",
    "B = np.array([ [[3, 4, 7], [1, 0, -1], [1, 2, 3]] ])"
   ]
  },
  {
   "cell_type": "code",
   "execution_count": 11,
   "metadata": {},
   "outputs": [
    {
     "name": "stdout",
     "output_type": "stream",
     "text": [
      "[[[ 3  4  7]\n",
      "  [ 5  0 -1]\n",
      "  [ 2  1  5]]\n",
      "\n",
      " [[ 1  0 -1]\n",
      "  [ 8  2  4]\n",
      "  [ 5  2  1]]\n",
      "\n",
      " [[ 2  1  3]\n",
      "  [ 1  9  4]\n",
      "  [ 5 -2  4]]]\n",
      "[[[ 3  4  7]\n",
      "  [ 1  0 -1]\n",
      "  [ 1  2  3]]]\n"
     ]
    }
   ],
   "source": [
    "print(A)\n",
    "print(B)"
   ]
  },
  {
   "cell_type": "code",
   "execution_count": 12,
   "metadata": {},
   "outputs": [
    {
     "name": "stdout",
     "output_type": "stream",
     "text": [
      "(1, 3)\n",
      "(3, 3)\n",
      "(3, 1, 3)\n",
      "[[[1 1 1]]\n",
      "\n",
      " [[2 2 2]]\n",
      "\n",
      " [[3 3 3]]]\n",
      "[[[ 3  4  7]\n",
      "  [ 5  0 -1]\n",
      "  [ 2  1  5]]\n",
      "\n",
      " [[ 2  0 -2]\n",
      "  [16  4  8]\n",
      "  [10  4  2]]\n",
      "\n",
      " [[ 6  3  9]\n",
      "  [ 3 27 12]\n",
      "  [15 -6 12]]]\n"
     ]
    }
   ],
   "source": [
    "B = np.array([1, 2, 3])\n",
    "B = B[np.newaxis, :]\n",
    "print(B.shape)\n",
    "B = np.concatenate((B, B, B)).transpose()\n",
    "print(B.shape)\n",
    "B = B[:, np.newaxis]\n",
    "print(B.shape)\n",
    "print(B)\n",
    "print(A * B)"
   ]
  },
  {
   "cell_type": "markdown",
   "metadata": {},
   "source": [
    "# *NUMPY ARRAYS: CONCATENATING, FLATTENING AND ADDING DIMENSIONS*"
   ]
  },
  {
   "cell_type": "code",
   "execution_count": 13,
   "metadata": {},
   "outputs": [
    {
     "name": "stdout",
     "output_type": "stream",
     "text": [
      "[[[ 0  1]\n",
      "  [ 2  3]\n",
      "  [ 4  5]\n",
      "  [ 6  7]]\n",
      "\n",
      " [[ 8  9]\n",
      "  [10 11]\n",
      "  [12 13]\n",
      "  [14 15]]\n",
      "\n",
      " [[16 17]\n",
      "  [18 19]\n",
      "  [20 21]\n",
      "  [22 23]]]\n"
     ]
    }
   ],
   "source": [
    "#  FLATTEN\n",
    "import numpy as np \n",
    "A = np.array([[[ 0, 1],\n",
    "[ 2, 3],\n",
    "[ 4, 5],\n",
    "[ 6, 7]],\n",
    "[[ 8, 9],\n",
    "[10, 11],\n",
    "[12, 13],\n",
    "[14, 15]],\n",
    "[[16, 17],\n",
    "[18, 19],\n",
    "[20, 21],\n",
    "[22, 23]]])\n",
    "\n",
    "print(A)"
   ]
  },
  {
   "cell_type": "code",
   "execution_count": 14,
   "metadata": {},
   "outputs": [
    {
     "name": "stdout",
     "output_type": "stream",
     "text": [
      "[ 0  1  2  3  4  5  6  7  8  9 10 11 12 13 14 15 16 17 18 19 20 21 22 23]\n"
     ]
    }
   ],
   "source": [
    "Flattened_X = A.flatten()\n",
    "print(Flattened_X)"
   ]
  },
  {
   "cell_type": "code",
   "execution_count": 15,
   "metadata": {},
   "outputs": [
    {
     "name": "stdout",
     "output_type": "stream",
     "text": [
      "[ 0  1  2  3  4  5  6  7  8  9 10 11 12 13 14 15 16 17 18 19 20 21 22 23]\n",
      "[ 0  8 16  2 10 18  4 12 20  6 14 22  1  9 17  3 11 19  5 13 21  7 15 23]\n",
      "[ 0  1  2  3  4  5  6  7  8  9 10 11 12 13 14 15 16 17 18 19 20 21 22 23]\n"
     ]
    }
   ],
   "source": [
    "print(A.flatten(order=\"C\"))\n",
    "print(A.flatten(order=\"F\"))\n",
    "print(A.flatten(order=\"A\"))"
   ]
  },
  {
   "cell_type": "code",
   "execution_count": 16,
   "metadata": {},
   "outputs": [
    {
     "name": "stdout",
     "output_type": "stream",
     "text": [
      "[ 0  1  2  3  4  5  6  7  8  9 10 11 12 13 14 15 16 17 18 19 20 21 22 23]\n",
      "[ 0  1  2  3  4  5  6  7  8  9 10 11 12 13 14 15 16 17 18 19 20 21 22 23]\n",
      "[ 0  8 16  2 10 18  4 12 20  6 14 22  1  9 17  3 11 19  5 13 21  7 15 23]\n",
      "[ 0  1  2  3  4  5  6  7  8  9 10 11 12 13 14 15 16 17 18 19 20 21 22 23]\n",
      "[ 0  1  2  3  4  5  6  7  8  9 10 11 12 13 14 15 16 17 18 19 20 21 22 23]\n"
     ]
    }
   ],
   "source": [
    "# RAVEL\n",
    "print(A.ravel())\n",
    "print(A.ravel(order=\"A\"))\n",
    "print(A.ravel(order=\"F\"))\n",
    "print(A.ravel(order=\"A\"))\n",
    "print(A.ravel(order=\"K\"))"
   ]
  },
  {
   "cell_type": "code",
   "execution_count": 17,
   "metadata": {},
   "outputs": [
    {
     "data": {
      "text/plain": [
       "array([[[ 0,  1],\n",
       "        [ 2,  3],\n",
       "        [ 4,  5],\n",
       "        [ 6,  7]],\n",
       "\n",
       "       [[ 8,  9],\n",
       "        [10, 11],\n",
       "        [12, 13],\n",
       "        [14, 15]],\n",
       "\n",
       "       [[16, 17],\n",
       "        [18, 19],\n",
       "        [20, 21],\n",
       "        [22, 23]]])"
      ]
     },
     "execution_count": 17,
     "metadata": {},
     "output_type": "execute_result"
    }
   ],
   "source": [
    "# RESHAPE\n",
    "X = np.array(range(24))\n",
    "Y = X.reshape((3,4,2))\n",
    "Y"
   ]
  },
  {
   "cell_type": "code",
   "execution_count": 18,
   "metadata": {},
   "outputs": [
    {
     "name": "stdout",
     "output_type": "stream",
     "text": [
      "[11 22 18  7  6  1  3  5]\n"
     ]
    }
   ],
   "source": [
    "# CONCATENATING ARRAYS\n",
    "\n",
    "x = np.array([11,22])\n",
    "y = np.array([18,7,6])\n",
    "z = np.array([1,3,5])\n",
    "c = np.concatenate((x,y,z))\n",
    "print(c)"
   ]
  },
  {
   "cell_type": "code",
   "execution_count": 19,
   "metadata": {},
   "outputs": [
    {
     "name": "stdout",
     "output_type": "stream",
     "text": [
      "[[[ 0  1]\n",
      "  [ 2  3]\n",
      "  [ 4  5]\n",
      "  [ 6  7]]\n",
      "\n",
      " [[ 8  9]\n",
      "  [10 11]\n",
      "  [12 13]\n",
      "  [14 15]]\n",
      "\n",
      " [[16 17]\n",
      "  [18 19]\n",
      "  [20 21]\n",
      "  [22 23]]]\n",
      "[[[100 101]\n",
      "  [102 103]\n",
      "  [104 105]\n",
      "  [106 107]]\n",
      "\n",
      " [[108 109]\n",
      "  [110 111]\n",
      "  [112 113]\n",
      "  [114 115]]\n",
      "\n",
      " [[116 117]\n",
      "  [118 119]\n",
      "  [120 121]\n",
      "  [122 123]]]\n"
     ]
    }
   ],
   "source": [
    "x = np.array(range(24))\n",
    "x = x.reshape((3,4,2))\n",
    "y = np.array(range(100,124))\n",
    "y = y.reshape((3,4,2))\n",
    "\n",
    "print(x)\n",
    "print(y)"
   ]
  },
  {
   "cell_type": "code",
   "execution_count": 20,
   "metadata": {},
   "outputs": [
    {
     "name": "stdout",
     "output_type": "stream",
     "text": [
      "[[[  0   1]\n",
      "  [  2   3]\n",
      "  [  4   5]\n",
      "  [  6   7]]\n",
      "\n",
      " [[  8   9]\n",
      "  [ 10  11]\n",
      "  [ 12  13]\n",
      "  [ 14  15]]\n",
      "\n",
      " [[ 16  17]\n",
      "  [ 18  19]\n",
      "  [ 20  21]\n",
      "  [ 22  23]]\n",
      "\n",
      " [[100 101]\n",
      "  [102 103]\n",
      "  [104 105]\n",
      "  [106 107]]\n",
      "\n",
      " [[108 109]\n",
      "  [110 111]\n",
      "  [112 113]\n",
      "  [114 115]]\n",
      "\n",
      " [[116 117]\n",
      "  [118 119]\n",
      "  [120 121]\n",
      "  [122 123]]]\n"
     ]
    }
   ],
   "source": [
    "z = np.concatenate((x, y))\n",
    "print(z)"
   ]
  },
  {
   "cell_type": "code",
   "execution_count": 21,
   "metadata": {},
   "outputs": [
    {
     "name": "stdout",
     "output_type": "stream",
     "text": [
      "[[[  0   1]\n",
      "  [  2   3]\n",
      "  [  4   5]\n",
      "  [  6   7]\n",
      "  [100 101]\n",
      "  [102 103]\n",
      "  [104 105]\n",
      "  [106 107]]\n",
      "\n",
      " [[  8   9]\n",
      "  [ 10  11]\n",
      "  [ 12  13]\n",
      "  [ 14  15]\n",
      "  [108 109]\n",
      "  [110 111]\n",
      "  [112 113]\n",
      "  [114 115]]\n",
      "\n",
      " [[ 16  17]\n",
      "  [ 18  19]\n",
      "  [ 20  21]\n",
      "  [ 22  23]\n",
      "  [116 117]\n",
      "  [118 119]\n",
      "  [120 121]\n",
      "  [122 123]]]\n"
     ]
    }
   ],
   "source": [
    "z = np.concatenate((x, y), axis=1)\n",
    "print(z)"
   ]
  },
  {
   "cell_type": "code",
   "execution_count": 22,
   "metadata": {},
   "outputs": [
    {
     "name": "stdout",
     "output_type": "stream",
     "text": [
      "[[[  0   1 100 101]\n",
      "  [  2   3 102 103]\n",
      "  [  4   5 104 105]\n",
      "  [  6   7 106 107]]\n",
      "\n",
      " [[  8   9 108 109]\n",
      "  [ 10  11 110 111]\n",
      "  [ 12  13 112 113]\n",
      "  [ 14  15 114 115]]\n",
      "\n",
      " [[ 16  17 116 117]\n",
      "  [ 18  19 118 119]\n",
      "  [ 20  21 120 121]\n",
      "  [ 22  23 122 123]]]\n"
     ]
    }
   ],
   "source": [
    "z = np.concatenate((x, y), axis=2)\n",
    "print(z)"
   ]
  },
  {
   "cell_type": "code",
   "execution_count": 24,
   "metadata": {},
   "outputs": [
    {
     "name": "stdout",
     "output_type": "stream",
     "text": [
      "[[ 2]\n",
      " [ 5]\n",
      " [18]\n",
      " [14]\n",
      " [ 4]]\n"
     ]
    }
   ],
   "source": [
    "x = np.array([2,5,18,14,4])\n",
    "y = x[:, np.newaxis]\n",
    "print(y)"
   ]
  },
  {
   "cell_type": "code",
   "execution_count": 29,
   "metadata": {},
   "outputs": [
    {
     "name": "stdout",
     "output_type": "stream",
     "text": [
      "[[3 4 5]\n",
      " [1 9 0]]\n",
      "[[3 1]\n",
      " [4 9]\n",
      " [5 0]]\n",
      "(3,)\n",
      "(3,)\n"
     ]
    }
   ],
   "source": [
    "# VECTOR STACKING\n",
    "A = np.array([3, 4, 5])\n",
    "B = np.array([1,9,0])\n",
    "\n",
    "print(np.row_stack((A, B)))\n",
    "print(np.column_stack((A, B)))\n",
    "\n",
    "print(np.shape(A))\n",
    "print(np.shape(B))"
   ]
  },
  {
   "cell_type": "code",
   "execution_count": 30,
   "metadata": {},
   "outputs": [
    {
     "name": "stdout",
     "output_type": "stream",
     "text": [
      "[[3 4 5 3 4 5 3 4 5]\n",
      " [1 9 0 1 9 0 1 9 0]\n",
      " [4 6 8 4 6 8 4 6 8]]\n"
     ]
    }
   ],
   "source": [
    "A = np.array([[3, 4, 5],\n",
    "        [1, 9, 0],\n",
    "        [4, 6, 8]])\n",
    "\n",
    "print(np.column_stack((A,A,A)))\n",
    "\n"
   ]
  },
  {
   "cell_type": "code",
   "execution_count": 31,
   "metadata": {},
   "outputs": [
    {
     "name": "stdout",
     "output_type": "stream",
     "text": [
      "[[3 3 3]\n",
      " [4 4 4]\n",
      " [5 5 5]]\n"
     ]
    }
   ],
   "source": [
    "print(np.column_stack((A[0],A[0],A[0])))"
   ]
  },
  {
   "cell_type": "code",
   "execution_count": 32,
   "metadata": {},
   "outputs": [
    {
     "name": "stdout",
     "output_type": "stream",
     "text": [
      "[[[3 3 3]\n",
      "  [4 4 4]\n",
      "  [5 5 5]]\n",
      "\n",
      " [[1 1 1]\n",
      "  [9 9 9]\n",
      "  [0 0 0]]\n",
      "\n",
      " [[4 4 4]\n",
      "  [6 6 6]\n",
      "  [8 8 8]]]\n"
     ]
    }
   ],
   "source": [
    "print(np.dstack((A,A,A)))"
   ]
  },
  {
   "cell_type": "code",
   "execution_count": 33,
   "metadata": {},
   "outputs": [
    {
     "data": {
      "text/plain": [
       "array([[1, 2, 1, 2, 1, 2, 1, 2],\n",
       "       [3, 4, 3, 4, 3, 4, 3, 4],\n",
       "       [1, 2, 1, 2, 1, 2, 1, 2],\n",
       "       [3, 4, 3, 4, 3, 4, 3, 4],\n",
       "       [1, 2, 1, 2, 1, 2, 1, 2],\n",
       "       [3, 4, 3, 4, 3, 4, 3, 4]])"
      ]
     },
     "execution_count": 33,
     "metadata": {},
     "output_type": "execute_result"
    }
   ],
   "source": [
    "import numpy as np\n",
    "x = np.array([ [1, 2], [3, 4]])\n",
    "\n",
    "np.tile(x, (3, 4))"
   ]
  },
  {
   "cell_type": "code",
   "execution_count": 34,
   "metadata": {},
   "outputs": [
    {
     "name": "stdout",
     "output_type": "stream",
     "text": [
      "[3.4 3.4 3.4 3.4 3.4]\n"
     ]
    }
   ],
   "source": [
    "import numpy as np\n",
    "x = np.array([ 3.4])\n",
    "y = np.tile(x, (5,))\n",
    "print(y)"
   ]
  },
  {
   "cell_type": "code",
   "execution_count": 35,
   "metadata": {},
   "outputs": [
    {
     "name": "stdout",
     "output_type": "stream",
     "text": [
      "[[1 2 1 2]\n",
      " [3 4 3 4]]\n"
     ]
    }
   ],
   "source": [
    "import numpy as np\n",
    "x = np.array([[1, 2], [3, 4]])\n",
    "print(np.tile(x, 2))"
   ]
  },
  {
   "cell_type": "code",
   "execution_count": 36,
   "metadata": {},
   "outputs": [
    {
     "name": "stdout",
     "output_type": "stream",
     "text": [
      "[[1 2]\n",
      " [3 4]\n",
      " [1 2]\n",
      " [3 4]]\n"
     ]
    }
   ],
   "source": [
    "import numpy as np\n",
    "x = np.array([[1, 2], [3, 4]])\n",
    "print(np.tile(x, (2, 1)))"
   ]
  },
  {
   "cell_type": "code",
   "execution_count": 37,
   "metadata": {},
   "outputs": [
    {
     "name": "stdout",
     "output_type": "stream",
     "text": [
      "[[1 2 1 2]\n",
      " [3 4 3 4]\n",
      " [1 2 1 2]\n",
      " [3 4 3 4]]\n"
     ]
    }
   ],
   "source": [
    "import numpy as np\n",
    "x = np.array([[1, 2], [3, 4]])\n",
    "print(np.tile(x, (2, 2)))"
   ]
  },
  {
   "cell_type": "markdown",
   "metadata": {},
   "source": [
    "# **PYTHON, RANDOM NUMBERS AND PROBABILITY**"
   ]
  },
  {
   "cell_type": "code",
   "execution_count": 1,
   "metadata": {},
   "outputs": [
    {
     "name": "stdout",
     "output_type": "stream",
     "text": [
      "0.3228272471685484\n"
     ]
    }
   ],
   "source": [
    "import random\n",
    "random_number = random.random()\n",
    "print(random_number)"
   ]
  },
  {
   "cell_type": "code",
   "execution_count": 3,
   "metadata": {},
   "outputs": [
    {
     "name": "stdout",
     "output_type": "stream",
     "text": [
      "0.526525440017263\n"
     ]
    }
   ],
   "source": [
    "from random import SystemRandom\n",
    "crypto = SystemRandom()\n",
    "print(crypto.random())"
   ]
  },
  {
   "cell_type": "code",
   "execution_count": 4,
   "metadata": {},
   "outputs": [
    {
     "name": "stdout",
     "output_type": "stream",
     "text": [
      "[0.8352104522823771, 0.7928895183170989, 0.03545336292225898, 0.500508878949727, 0.808511835830058, 0.03457334715031746, 0.06830408634736629, 0.10378746910153624, 0.7823278528169535, 0.30062478931209047]\n"
     ]
    }
   ],
   "source": [
    "# GENERATE A LIST OF RANDOM NUMBERS\n",
    "import random\n",
    "\n",
    "def random_list(n, secure = True):\n",
    "    random_floats = []\n",
    "    if secure:\n",
    "        crypto = random.SystemRandom()\n",
    "        random_float = crypto.random\n",
    "    else:\n",
    "        random_float = random.random\n",
    "    for _ in range(n):\n",
    "        random_floats.append(random_float())\n",
    "    return random_floats\n",
    "\n",
    "print(random_list(10, secure=False))"
   ]
  },
  {
   "cell_type": "code",
   "execution_count": 41,
   "metadata": {},
   "outputs": [
    {
     "name": "stdout",
     "output_type": "stream",
     "text": [
      "198 µs ± 5.64 µs per loop (mean ± std. dev. of 7 runs, 10000 loops each)\n"
     ]
    }
   ],
   "source": [
    "%%timeit\n",
    "random_list(100)"
   ]
  },
  {
   "cell_type": "code",
   "execution_count": 42,
   "metadata": {},
   "outputs": [
    {
     "name": "stdout",
     "output_type": "stream",
     "text": [
      "6.99 µs ± 54.5 ns per loop (mean ± std. dev. of 7 runs, 100000 loops each)\n"
     ]
    }
   ],
   "source": [
    "%%timeit\n",
    "random_list(100, secure=False)"
   ]
  },
  {
   "cell_type": "code",
   "execution_count": 5,
   "metadata": {},
   "outputs": [
    {
     "data": {
      "text/plain": [
       "[0.8396692304440458,\n",
       " 0.10011655878697012,\n",
       " 0.056224419911633294,\n",
       " 0.2836730297553097,\n",
       " 0.31924813925193085,\n",
       " 0.7821392420385757,\n",
       " 0.7055764626564848,\n",
       " 0.8959536166692288,\n",
       " 0.6070914258670431,\n",
       " 0.6555645719511234]"
      ]
     },
     "execution_count": 5,
     "metadata": {},
     "output_type": "execute_result"
    }
   ],
   "source": [
    "import random\n",
    "crypto = random.SystemRandom()\n",
    "[crypto.random() for _ in range(10)]"
   ]
  },
  {
   "cell_type": "code",
   "execution_count": 45,
   "metadata": {},
   "outputs": [
    {
     "data": {
      "text/plain": [
       "[0.3293522824795705,\n",
       " 0.022007895123444254,\n",
       " 0.7955315662716936,\n",
       " 0.8319905171055476,\n",
       " 0.7171199841904174,\n",
       " 0.22965985359474073,\n",
       " 0.338470022636744,\n",
       " 0.4503280697326334,\n",
       " 0.9551503788542977,\n",
       " 0.743734941663862]"
      ]
     },
     "execution_count": 45,
     "metadata": {},
     "output_type": "execute_result"
    }
   ],
   "source": [
    "crypto = random.SystemRandom()\n",
    "[crypto.random() for _ in range(10)]"
   ]
  },
  {
   "cell_type": "code",
   "execution_count": 47,
   "metadata": {},
   "outputs": [
    {
     "data": {
      "text/plain": [
       "array([6.23305827e-01, 8.81689899e-01, 3.99851241e-01, 9.82856770e-01,\n",
       "       1.16625815e-01, 6.38526603e-01, 5.18208334e-01, 7.09441853e-01,\n",
       "       1.57854590e-04, 8.31698242e-01])"
      ]
     },
     "execution_count": 47,
     "metadata": {},
     "output_type": "execute_result"
    }
   ],
   "source": [
    "import numpy as np\n",
    "np.random.random(10)"
   ]
  },
  {
   "cell_type": "code",
   "execution_count": 48,
   "metadata": {},
   "outputs": [
    {
     "name": "stdout",
     "output_type": "stream",
     "text": [
      "47.398675545516404\n",
      "0.9999999999999998\n"
     ]
    }
   ],
   "source": [
    "# RANDOM NUMBERS SATISFYING SUM-TO-ONE CONDITION\n",
    "\n",
    "import numpy as np\n",
    "list_of_random_floats = np.random.random(100)\n",
    "sum_of_values = list_of_random_floats.sum()\n",
    "print(sum_of_values)\n",
    "normalized_values = list_of_random_floats / sum_of_values\n",
    "print(normalized_values.sum())\n"
   ]
  },
  {
   "cell_type": "code",
   "execution_count": 49,
   "metadata": {},
   "outputs": [
    {
     "name": "stdout",
     "output_type": "stream",
     "text": [
      "Automatically generated password by Python: hcz8x46GeibpJTi\n"
     ]
    }
   ],
   "source": [
    "# GENERATING RANDOM STRINGS OR PASSWORDS WITH PYTHON\n",
    "\n",
    "from random import SystemRandom\n",
    "sr = SystemRandom() # create an instance of the SystemRandom class\n",
    "def generate_password(length,\n",
    "    valid_chars=None):\n",
    "        \"\"\" generate_password(length, check_char) -> password\n",
    "        length: the length of the created password\n",
    "        check_char: a Boolean function used to check the validity\n",
    "        of a char\n",
    "        \"\"\"\n",
    "        if valid_chars==None:\n",
    "            valid_chars = \"ABCDEFGHIJKLMNOPQRSTUVWXYZ\"\n",
    "            valid_chars += valid_chars.lower() + \"0123456789\"\n",
    "        password = \"\"\n",
    "        counter = 0\n",
    "        while counter < length:\n",
    "            rnum = sr.randint(0, 128)\n",
    "            char = chr(rnum)\n",
    "            if char in valid_chars:\n",
    "                password += chr(rnum)\n",
    "                counter += 1\n",
    "        return password\n",
    "\n",
    "print(\"Automatically generated password by Python: \" + generate_password(15))"
   ]
  },
  {
   "cell_type": "code",
   "execution_count": 6,
   "metadata": {},
   "outputs": [
    {
     "name": "stdout",
     "output_type": "stream",
     "text": [
      "2\n"
     ]
    }
   ],
   "source": [
    "# RANDOM INTEGER NUMBERS\n",
    "import random\n",
    "\n",
    "outcome = random.randint(1, 6)\n",
    "print(outcome)"
   ]
  },
  {
   "cell_type": "code",
   "execution_count": 7,
   "metadata": {},
   "outputs": [
    {
     "data": {
      "text/plain": [
       "[6, 3, 1, 5, 3, 3, 4, 1, 6, 1]"
      ]
     },
     "execution_count": 7,
     "metadata": {},
     "output_type": "execute_result"
    }
   ],
   "source": [
    "import random\n",
    "\n",
    "[random.randint(1, 6) for i in range(10)]"
   ]
  },
  {
   "cell_type": "code",
   "execution_count": 9,
   "metadata": {},
   "outputs": [
    {
     "name": "stdout",
     "output_type": "stream",
     "text": [
      "[3 2 2 1 6 1 2 5 3 1]\n"
     ]
    }
   ],
   "source": [
    "import numpy as np\n",
    "\n",
    "outcome = np.random.randint(1, 7, size=10)\n",
    "print(outcome)"
   ]
  },
  {
   "cell_type": "code",
   "execution_count": 10,
   "metadata": {},
   "outputs": [
    {
     "name": "stdout",
     "output_type": "stream",
     "text": [
      "2\n",
      "[1]\n",
      "[6 3 5 4 5 3 6 5 2 2]\n",
      "[1 2 5 1 2 4 5 4 2 1]\n",
      "[[6 3 1 2]\n",
      " [6 1 3 4]\n",
      " [4 5 5 6]\n",
      " [6 2 1 3]\n",
      " [6 2 5 4]]\n"
     ]
    }
   ],
   "source": [
    "import numpy as np\n",
    "print(np.random.randint(1, 7))\n",
    "print(np.random.randint(1, 7, size=1))\n",
    "print(np.random.randint(1, 7, size=10))\n",
    "print(np.random.randint(1, 7, size=(10,))) # the same as the previous one\n",
    "print(np.random.randint(1, 7, size=(5, 4)))"
   ]
  },
  {
   "cell_type": "code",
   "execution_count": 11,
   "metadata": {},
   "outputs": [
    {
     "data": {
      "text/plain": [
       "[6, 5, 4, 3, 6, 2, 2, 5, 1, 6]"
      ]
     },
     "execution_count": 11,
     "metadata": {},
     "output_type": "execute_result"
    }
   ],
   "source": [
    "import random\n",
    "crypto = random.SystemRandom()\n",
    "[ crypto.randint(1, 6) for _ in range(10) ]"
   ]
  },
  {
   "cell_type": "markdown",
   "metadata": {},
   "source": [
    "## *RANDOM CHOICES WITH PYTHON*"
   ]
  },
  {
   "cell_type": "code",
   "execution_count": 1,
   "metadata": {},
   "outputs": [
    {
     "name": "stdout",
     "output_type": "stream",
     "text": [
      "London\n"
     ]
    }
   ],
   "source": [
    "from random import choice\n",
    "possible_destinations = [\"Berlin\", \"Hamburg\", \"Munich\",\n",
    "    \"Amsterdam\", \"London\", \"Paris\",\n",
    "    \"Zurich\", \"Heidelberg\", \"Strasbourg\",\n",
    "    \"Augsburg\", \"Milan\", \"Rome\", \"Lancaster\"]\n",
    "\n",
    "print(choice(possible_destinations))"
   ]
  },
  {
   "cell_type": "code",
   "execution_count": 2,
   "metadata": {},
   "outputs": [
    {
     "name": "stdout",
     "output_type": "stream",
     "text": [
      "London\n"
     ]
    }
   ],
   "source": [
    "from numpy.random import choice\n",
    "print(choice(possible_destinations))"
   ]
  },
  {
   "cell_type": "code",
   "execution_count": 3,
   "metadata": {},
   "outputs": [
    {
     "name": "stdout",
     "output_type": "stream",
     "text": [
      "['Paris' 'Hamburg' 'Strasbourg']\n"
     ]
    }
   ],
   "source": [
    "x1 = choice(possible_destinations, size=3)\n",
    "print(x1)"
   ]
  },
  {
   "cell_type": "code",
   "execution_count": 4,
   "metadata": {},
   "outputs": [
    {
     "name": "stdout",
     "output_type": "stream",
     "text": [
      "[['Lancaster' 'Zurich' 'Augsburg' 'Paris']\n",
      " ['Hamburg' 'Berlin' 'Milan' 'Milan']\n",
      " ['Milan' 'Heidelberg' 'Paris' 'Strasbourg']]\n"
     ]
    }
   ],
   "source": [
    "x2 = choice(possible_destinations, size=(3, 4))\n",
    "print(x2)"
   ]
  },
  {
   "cell_type": "code",
   "execution_count": 5,
   "metadata": {},
   "outputs": [
    {
     "name": "stdout",
     "output_type": "stream",
     "text": [
      "[['Munich' 'Zurich' 'Milan' 'Strasbourg']\n",
      " ['Lancaster' 'Paris' 'Berlin' 'Hamburg']\n",
      " ['Heidelberg' 'Amsterdam' 'Augsburg' 'Rome']]\n"
     ]
    }
   ],
   "source": [
    "x2 = choice(possible_destinations, size=(3, 4), replace=False)\n",
    "print(x2)"
   ]
  },
  {
   "cell_type": "code",
   "execution_count": 6,
   "metadata": {},
   "outputs": [
    {
     "name": "stdout",
     "output_type": "stream",
     "text": [
      "[[0.80592262 0.55654021 0.98671024 0.15086126]\n",
      " [0.89858824 0.77720321 0.22593058 0.01393962]\n",
      " [0.79940173 0.0759417  0.57469594 0.3487729 ]]\n"
     ]
    }
   ],
   "source": [
    "import numpy as np\n",
    "x = np.random.random_sample((3, 4))\n",
    "print(x)"
   ]
  },
  {
   "cell_type": "code",
   "execution_count": 7,
   "metadata": {},
   "outputs": [
    {
     "name": "stdout",
     "output_type": "stream",
     "text": [
      "[0.42721745 0.64754687 0.36270239 0.0624945  0.15612123 0.65467941\n",
      " 0.99303675]\n",
      "[0.04884285 0.61687837 0.72316613 0.6152801  0.66058551 0.0885165\n",
      " 0.77609847]\n"
     ]
    }
   ],
   "source": [
    "import numpy as np\n",
    "x = np.random.random_sample(7)\n",
    "print(x)\n",
    "y = np.random.random_sample((7,))\n",
    "print(y)"
   ]
  },
  {
   "cell_type": "code",
   "execution_count": 8,
   "metadata": {},
   "outputs": [
    {
     "name": "stdout",
     "output_type": "stream",
     "text": [
      "[[ 3.10830395  2.07279586  0.22396345  4.9578043 ]\n",
      " [-2.61627687  5.10116629  4.32944539 -0.71481276]\n",
      " [ 0.66627347 -2.51479798 -1.96788424 -1.34441433]]\n"
     ]
    }
   ],
   "source": [
    "a = -3.4\n",
    "b = 5.9\n",
    "A = (b - a) * np.random.random_sample((3, 4)) + a\n",
    "print(A)"
   ]
  },
  {
   "cell_type": "code",
   "execution_count": 11,
   "metadata": {},
   "outputs": [
    {
     "name": "stdout",
     "output_type": "stream",
     "text": [
      "[17, 5, 34, 4, 46, 3]\n"
     ]
    }
   ],
   "source": [
    "import random\n",
    "\n",
    "print(random.sample(range(1, 50), 6))"
   ]
  },
  {
   "cell_type": "markdown",
   "metadata": {},
   "source": [
    "# **WEIGHTED PROBABILITIES**"
   ]
  },
  {
   "cell_type": "code",
   "execution_count": 1,
   "metadata": {},
   "outputs": [
    {
     "name": "stdout",
     "output_type": "stream",
     "text": [
      "d\n",
      "scientist\n",
      "beginner\n",
      "The dice shows: 4\n",
      "The two dice show: [3, 2]\n"
     ]
    }
   ],
   "source": [
    "from random import choice, sample\n",
    "print(choice(\"abcdefghij\"))\n",
    "professions = [\"scientist\", \"philosopher\", \"engineer\", \"priest\"]\n",
    "print(choice(professions))\n",
    "print(choice((\"beginner\", \"intermediate\", \"advanced\")))\n",
    "# rolling one die\n",
    "x = choice(range(1, 7))\n",
    "print(\"The dice shows: \" + str(x))\n",
    "# rolling two dice:\n",
    "dice = sample(range(1, 7), 2)\n",
    "print(\"The two dice show: \" + str(dice))"
   ]
  },
  {
   "cell_type": "code",
   "execution_count": 2,
   "metadata": {},
   "outputs": [
    {
     "name": "stdout",
     "output_type": "stream",
     "text": [
      "[0, 0.2, 0.7, 1.0]\n"
     ]
    }
   ],
   "source": [
    "import numpy as np\n",
    "\n",
    "weights = [0.2, 0.5, 0.3]\n",
    "cum_weights = [0] + list(np.cumsum(weights))\n",
    "print(cum_weights)"
   ]
  },
  {
   "cell_type": "code",
   "execution_count": 16,
   "metadata": {},
   "outputs": [],
   "source": [
    "import random\n",
    "from random import random\n",
    "def weighted_choice(objects, weights):\n",
    "    \"\"\" returns randomly an element from the sequence of 'object\n",
    "    s',\n",
    "    the likelihood of the objects is weighted according\n",
    "    to the sequence of 'weights', i.e. percentages.\"\"\"\n",
    "    weights = np.array(weights, dtype=np.float64)\n",
    "    sum_of_weights = weights.sum()\n",
    "    # standardization:\n",
    "    # Multiplies each weight by the reciprocal of the sum of weights, effectively normalizing the weights so that they sum to 1.\n",
    "    np.multiply(weights, 1 / sum_of_weights, weights)\n",
    "    # Calculate cumulative weights:\n",
    "    weights = weights.cumsum()\n",
    "    # Generates a random number x between 0 and 1.\n",
    "    x = random()\n",
    "    # Iterates over the cumulative weights. If the random number x is less than the current cumulative weight, the corresponding object is selected and returned.\n",
    "    for i in range(len(weights)):\n",
    "        if x < weights[i]:\n",
    "            return objects[i]"
   ]
  },
  {
   "cell_type": "code",
   "execution_count": 6,
   "metadata": {},
   "outputs": [
    {
     "name": "stdout",
     "output_type": "stream",
     "text": [
      "[6, 3, 5, 5, 5, 6, 3, 6, 2, 6, 4, 2, 2, 2, 3, 2, 2, 2, 6, 5, 5, 3, 5, 2, 2, 4, 6, 6, 6, 2, 6, 4, 3, 6, 1, 6, 2, 2, 4, 3, 6, 6, 5, 4, 4, 2, 5, 4, 6, 2, 6, 2, 2, 3, 2, 2, 4, 1, 3, 4, 4, 5, 4, 2, 2, 4, 2, 3, 4, 1, 2, 4, 1, 3, 5, 2, 2, 2, 3, 2, 5, 5, 5, 6, 3, 4, 6, 3, 6, 3, 4, 6, 2, 1, 5, 4, 4, 6, 2, 1, 6, 6, 6, 5, 6, 4, 6, 6, 3, 6, 5, 6, 1, 2, 2, 4, 5, 4, 1, 3, 2, 3, 4, 3, 3, 6, 5, 4, 2, 2, 4, 6, 6, 1, 1, 1, 1, 1, 2, 3, 1, 1, 1, 2, 2, 2, 4, 5, 3, 5, 3, 6, 4, 3, 5, 3, 6, 3, 1, 2, 2, 3, 2, 5, 1, 5, 5, 2, 1, 5, 2, 5, 1, 3, 2, 6, 4, 6, 6, 6, 5, 2, 5, 5, 2, 6, 6, 6, 4, 4, 1, 4, 2, 2, 2, 6, 6, 2, 6, 6, 2, 5, 2, 5, 2, 4, 6, 6, 2, 6, 5, 3, 3, 2, 5, 1, 4, 3, 2, 6, 5, 6, 5, 5, 6, 3, 4, 3, 5, 3, 3, 2, 2, 3, 6, 1, 3, 2, 6, 5, 2, 5, 3, 5, 4, 1, 4, 5, 2, 5, 4, 6, 5, 6, 4, 5, 6, 6, 3, 3, 2, 2, 6, 2, 3, 4, 3, 1, 2, 5, 6, 6, 1, 4, 3, 5, 5, 1, 5, 3, 3, 3, 2, 4, 6, 3, 6, 1, 3, 3, 3, 2, 5, 4, 6, 4, 6, 3, 4, 5, 2, 2, 4, 4, 5, 6, 3, 4, 2, 5, 5, 2, 2, 2, 2, 6, 4, 5, 6, 4, 1, 6, 3, 3, 6, 3, 4, 4, 6, 6, 1, 5, 6, 6, 2, 2, 2, 6, 1, 3, 6, 5, 5, 6, 5, 2, 6, 6, 5, 4, 6, 5, 6, 3, 3, 3, 2, 6, 2, 5, 6, 3, 2, 6, 2, 6, 2, 6, 6, 6, 5, 6, 5, 3, 2, 2, 2, 2, 4, 5, 2, 2, 6, 6, 2, 3, 2, 4, 6, 4, 1, 1, 4, 5, 2, 3, 3, 5, 5, 2, 5, 1, 6, 4, 6, 5, 2, 3, 6, 5, 2, 4, 1, 6, 2, 6, 1, 3, 6, 3, 6, 5, 1, 4, 2, 1, 3, 4, 4, 6, 1, 3, 2, 5, 5, 1, 4, 5, 5, 6, 6, 4, 3, 5, 5, 3, 5, 6, 2, 5, 6, 5, 6, 6, 5, 4, 5, 2, 5, 1, 6, 5, 6, 6, 5, 4, 6, 6, 2, 2, 4, 2, 6, 1, 3, 3, 5, 4, 6, 6, 2, 6, 4, 2, 4, 6, 6, 6, 4, 2, 3, 5, 3, 6, 6, 6, 3, 3, 6, 4, 4, 2, 6, 6, 6, 6, 4, 3, 3, 2, 5, 3, 5, 3, 2, 3, 4, 2, 6, 3, 4, 6, 5, 5, 4, 2, 4, 6, 2, 6, 5, 2, 5, 6, 1, 2, 4, 5, 3, 2, 5, 6, 5, 3, 1, 6, 3, 3, 3, 5, 2, 2, 5, 3, 5, 2, 2, 1, 6, 4, 3, 4, 3, 2, 6, 4, 5, 1, 4, 6, 1, 2, 4, 5, 1, 3, 6, 6, 3, 3, 6, 1, 6, 5, 6, 2, 3, 2, 3, 2, 6, 6, 5, 5, 2, 5, 2, 3, 3, 6, 4, 6, 4, 4, 6, 6, 4, 3, 3, 2, 6, 4, 5, 6, 6, 3, 5, 1, 3, 1, 4, 3, 4, 6, 2, 6, 1, 4, 5, 2, 4, 4, 3, 4, 6, 1, 5, 1, 2, 6, 3, 6, 4, 1, 5, 6, 3, 2, 3, 3, 6, 2, 1, 6, 2, 2, 3, 5, 5, 3, 2, 5, 5, 3, 4, 4, 5, 2, 4, 3, 3, 6, 4, 2, 6, 6, 3, 3, 3, 4, 1, 5, 6, 3, 4, 1, 6, 3, 3, 6, 4, 2, 5, 3, 2, 6, 4, 6, 6, 5, 6, 6, 2, 6, 6, 3, 3, 2, 3, 3, 1, 2, 6, 4, 3, 6, 4, 3, 2, 4, 2, 2, 4, 4, 6, 5, 6, 4, 3, 4, 6, 2, 3, 5, 5, 5, 4, 2, 4, 2, 5, 6, 2, 6, 3, 3, 2, 2, 3, 6, 6, 2, 4, 6, 6, 6, 1, 4, 5, 6, 6, 2, 6, 6, 2, 5, 4, 6, 2, 6, 6, 2, 1, 3, 1, 6, 5, 6, 3, 6, 2, 2, 1, 2, 4, 6, 4, 6, 5, 5, 2, 6, 5, 6, 2, 4, 2, 6, 2, 1, 4, 3, 3, 4, 3, 1, 4, 5, 4, 5, 6, 5, 5, 6, 4, 1, 1, 5, 2, 5, 2, 2, 6, 6, 5, 3, 5, 6, 6, 3, 2, 5, 3, 4, 3, 5, 2, 3, 3, 5, 3, 2, 6, 6, 6, 3, 6, 6, 1, 3, 5, 3, 5, 3, 5, 1, 3, 3, 5, 4, 5, 5, 4, 2, 6, 6, 1, 2, 3, 4, 1, 6, 6, 6, 3, 4, 6, 6, 4, 6, 6, 4, 4, 6, 4, 6, 2, 2, 4, 4, 5, 2, 6, 6, 3, 5, 2, 6, 3, 6, 5, 2, 1, 2, 2, 5, 3, 6, 4, 3, 6, 2, 5, 3, 3, 6, 6, 2, 6, 6, 5, 6, 5, 6, 5, 5, 6, 5, 3, 5, 2, 1, 2, 2, 3, 6, 6, 1, 3, 3, 3, 2, 4, 4, 2, 4, 5, 4, 2, 5, 4, 2, 4, 6, 2, 4, 3, 4, 3, 4, 6, 5, 6, 2, 6, 5, 4, 3, 5, 6, 4, 2, 4, 6, 2, 2, 2, 5, 2, 2, 6, 3, 2, 6, 4, 2, 4, 5, 4, 3, 2, 4, 6, 2, 4, 1, 5, 3, 2, 5, 2, 6, 6, 6, 2, 2, 6, 2, 6, 4, 5, 4, 6, 3, 1, 2, 2, 4, 6, 6, 2, 2, 5, 1, 6, 1, 6, 4, 3, 3, 6, 5, 3, 2, 2, 6, 1, 1, 5, 6, 3, 2, 2, 5, 5, 4, 2, 3, 6, 6, 3, 6, 4, 2, 5, 6, 3, 5, 6, 6, 4, 2, 1, 6, 6, 4, 1, 4, 3, 1, 5, 2, 4, 6, 3, 6, 2, 3, 5, 2, 6, 4, 2, 5, 4, 6, 6, 5, 3, 3, 6, 2, 4, 6, 6, 2, 5, 2, 2, 5, 3, 5, 1, 5, 4, 5, 4, 1, 6, 2, 4, 4, 1, 5, 3, 5, 6, 1, 2, 6, 2, 3, 6, 6, 6, 2, 2, 5, 5, 4, 5, 4, 5, 6, 4, 6, 6, 6, 2, 5, 1, 5, 3, 4, 6, 5, 2, 4, 2, 2, 6, 3, 2, 6, 1, 6, 6, 6, 4, 5, 5, 6, 5, 5, 6, 6, 1, 1, 6, 3, 6, 5, 5, 5, 1, 2, 4, 2, 4, 2, 5, 6, 2, 3, 3, 6, 6, 3, 6, 6, 3, 6, 3, 2, 2, 3, 3, 4, 3, 4, 4, 3, 2, 1, 6, 6, 3, 5, 4, 5, 3, 2, 6, 6, 6, 6, 6, 4, 4, 4, 5, 2, 5, 1, 6, 3, 6, 2, 4, 3, 2, 4, 5, 5, 3, 1, 6, 5, 3, 1, 6, 4, 3, 1, 3, 2, 3, 4, 6, 6, 6, 5, 2, 3, 6, 2, 6, 1, 4, 6, 5, 2, 4, 6, 3, 6, 1, 4, 6, 6, 2, 6, 4, 4, 5, 3, 5, 3, 3, 4, 6, 3, 3, 5, 1, 3, 3, 5, 4, 6, 3, 2, 2, 2, 2, 2, 2, 4, 4, 2, 1, 3, 2, 6, 4, 4, 6, 6, 5, 3, 1, 6, 3, 4, 4, 3, 1, 3, 3, 4, 6, 3, 6, 6, 4, 4, 6, 6, 4, 5, 2, 4, 4, 2, 4, 5, 2, 5, 4, 4, 6, 2, 2, 6, 2, 6, 2, 2, 2, 6, 2, 1, 2, 3, 6, 3, 5, 2, 6, 6, 4, 6, 3, 4, 6, 6, 6, 5, 6, 2, 2, 4, 3, 6, 6, 1, 6, 3, 6, 1, 3, 3, 1, 5, 5, 6, 1, 3, 6, 6, 1, 4, 5, 5, 5, 6, 3, 3, 3, 6, 6, 5, 3, 6, 5, 5, 6, 1, 3, 2, 4, 6, 3, 4, 6, 3, 3, 2, 4, 6, 5, 5, 3, 3, 1, 5, 3, 3, 2, 2, 3, 2, 6, 2, 5, 4, 3, 1, 3, 3, 6, 3, 2, 2, 6, 3, 4, 3, 3, 3, 6, 1, 5, 3, 3, 6, 6, 5, 4, 4, 2, 6, 5, 2, 5, 3, 2, 2, 6, 5, 6, 5, 5, 5, 2, 4, 1, 6, 2, 2, 2, 6, 3, 6, 3, 2, 6, 4, 3, 6, 4, 4, 5, 5, 1, 6, 4, 5, 1, 3, 5, 5, 5, 6, 1, 5, 2, 4, 5, 2, 1, 5, 4, 4, 6, 1, 6, 3, 5, 6, 4, 2, 2, 3, 4, 1, 5, 6, 5, 6, 4, 6, 6, 6, 2, 2, 1, 1, 6, 2, 6, 2, 5, 4, 5, 6, 4, 3, 6, 4, 5, 6, 6, 5, 5, 2, 6, 6, 4, 3, 5, 3, 6, 3, 3, 4, 2, 1, 6, 1, 2, 5, 6, 1, 5, 3, 6, 4, 5, 3, 5, 6, 1, 5, 6, 4, 6, 3, 4, 6, 6, 1, 5, 3, 3, 6, 5, 3, 5, 4, 2, 4, 6, 1, 6, 4, 2, 6, 1, 3, 3, 6, 6, 6, 1, 5, 6, 4, 6, 6, 3, 6, 2, 6, 5, 5, 6, 6, 3, 6, 4, 4, 3, 4, 2, 4, 6, 6, 2, 3, 5, 1, 2, 2, 6, 4, 5, 6, 6, 3, 4, 5, 5, 6, 6, 3, 6, 4, 4, 4, 2, 5, 3, 6, 6, 4, 2, 6, 6, 5, 3, 6, 4, 5, 2, 6, 5, 5, 6, 5, 2, 5, 6, 3, 5, 6, 2, 1, 3, 1, 4, 6, 6, 3, 5, 1, 2, 4, 6, 3, 2, 6, 5, 1, 5, 4, 6, 5, 1, 3, 3, 5, 4, 2, 6, 5, 2, 2, 6, 5, 6, 6, 4, 3, 4, 4, 5, 4, 6, 1, 4, 3, 6, 3, 6, 4, 1, 5, 5, 6, 6, 5, 6, 2, 5, 4, 2, 4, 5, 3, 2, 5, 6, 6, 6, 4, 1, 5, 1, 1, 1, 4, 6, 6, 4, 2, 6, 5, 1, 2, 6, 3, 6, 1, 1, 3, 4, 6, 4, 2, 6, 1, 2, 3, 5, 2, 2, 1, 5, 5, 3, 5, 6, 2, 6, 2, 6, 3, 6, 4, 6, 3, 3, 3, 2, 2, 3, 5, 2, 6, 2, 4, 4, 2, 1, 1, 4, 1, 5, 3, 5, 4, 6, 2, 6, 6, 4, 5, 5, 1, 2, 3, 5, 4, 6, 6, 3, 3, 3, 2, 3, 6, 6, 5, 5, 5, 6, 6, 6, 2, 5, 3, 6, 3, 3, 6, 2, 5, 3, 6, 2, 6, 6, 3, 2, 5, 2, 6, 6, 2, 3, 4, 2, 3, 5, 1, 1, 5, 4, 2, 1, 2, 5, 1, 2, 3, 6, 3, 6, 2, 3, 5, 6, 5, 3, 1, 1, 4, 5, 2, 2, 5, 2, 2, 6, 5, 4, 6, 4, 1, 2, 1, 4, 2, 6, 3, 3, 3, 6, 4, 2, 2, 5, 6, 2, 3, 4, 4, 2, 6, 6, 5, 2, 2, 6, 4, 1, 4, 6, 4, 3, 3, 6, 4, 1, 6, 2, 6, 5, 2, 2, 6, 6, 6, 2, 4, 4, 6, 3, 6, 6, 3, 5, 4, 4, 5, 3, 3, 5, 4, 2, 4, 6, 2, 3, 1, 6, 2, 2, 5, 6, 3, 1, 3, 3, 6, 6, 6, 3, 4, 3, 5, 4, 2, 3, 1, 5, 1, 1, 5, 1, 6, 5, 1, 3, 6, 4, 5, 6, 4, 4, 1, 6, 3, 6, 3, 1, 1, 2, 6, 6, 5, 3, 4, 5, 5, 1, 5, 3, 3, 5, 4, 5, 6, 5, 6, 4, 5, 4, 5, 4, 4, 4, 6, 6, 2, 1, 4, 3, 5, 3, 6, 5, 4, 3, 3, 5, 2, 3, 1, 3, 6, 6, 5, 5, 1, 4, 3, 2, 6, 1, 4, 4, 2, 4, 1, 4, 1, 2, 5, 4, 4, 6, 2, 6, 3, 5, 2, 2, 6, 4, 2, 1, 5, 3, 6, 3, 4, 5, 4, 6, 6, 3, 6, 4, 6, 3, 5, 6, 3, 5, 3, 5, 5, 5, 6, 5, 2, 6, 2, 1, 4, 2, 4, 4, 2, 6, 4, 4, 5, 4, 3, 6, 6, 4, 2, 4, 5, 5, 6, 5, 2, 5, 2, 3, 4, 3, 3, 1, 3, 5, 6, 2, 2, 2, 1, 5, 6, 1, 2, 6, 5, 5, 3, 5, 6, 5, 1, 6, 4, 1, 3, 2, 1, 3, 2, 4, 2, 6, 5, 6, 6, 6, 3, 2, 6, 3, 2, 5, 3, 4, 4, 1, 4, 6, 4, 3, 4, 1, 4, 5, 3, 6, 5, 2, 1, 6, 3, 6, 6, 2, 4, 3, 3, 2, 2, 6, 6, 5, 3, 4, 3, 3, 6, 3, 2, 3, 4, 4, 6, 1, 4, 1, 5, 1, 6, 6, 3, 1, 4, 2, 3, 2, 2, 2, 1, 5, 2, 2, 6, 2, 4, 6, 3, 6, 1, 6, 6, 6, 4, 4, 6, 6, 2, 2, 2, 1, 4, 3, 1, 1, 5, 3, 2, 1, 5, 5, 5, 3, 3, 2, 1, 4, 5, 6, 3, 5, 5, 5, 6, 2, 5, 6, 2, 3, 5, 3, 4, 2, 6, 2, 4, 5, 3, 1, 5, 3, 1, 5, 3, 5, 6, 6, 5, 2, 1, 6, 6, 6, 3, 6, 4, 5, 2, 1, 4, 6, 2, 2, 5, 5, 6, 6, 3, 1, 6, 6, 6, 6, 4, 6, 1, 5, 6, 6, 1, 3, 5, 4, 4, 3, 1, 5, 3, 1, 5, 4, 3, 3, 3, 3, 4, 3, 6, 1, 5, 2, 3, 2, 1, 6, 1, 4, 4, 5, 5, 6, 2, 6, 4, 2, 3, 5, 6, 6, 1, 5, 5, 2, 2, 5, 6, 3, 1, 3, 6, 6, 5, 3, 6, 4, 2, 1, 5, 2, 4, 6, 2, 6, 3, 6, 6, 3, 2, 3, 5, 4, 5, 5, 4, 5, 6, 5, 2, 5, 2, 6, 4, 2, 4, 3, 6, 3, 5, 6, 6, 3, 6, 6, 4, 6, 6, 6, 4, 4, 3, 4, 2, 6, 4, 2, 6, 5, 3, 6, 5, 6, 6, 5, 3, 5, 2, 2, 4, 6, 4, 4, 5, 4, 3, 6, 6, 4, 6, 3, 6, 6, 5, 3, 5, 6, 5, 5, 3, 2, 3, 4, 2, 2, 2, 3, 3, 3, 2, 5, 4, 6, 2, 6, 5, 5, 3, 6, 5, 5, 5, 6, 6, 5, 2, 3, 2, 1, 4, 5, 6, 5, 2, 1, 4, 5, 3, 5, 6, 6, 5, 2, 6, 3, 6, 3, 4, 5, 6, 5, 5, 6, 2, 4, 4, 6, 5, 2, 5, 5, 6, 6, 4, 2, 4, 6, 5, 6, 5, 6, 4, 5, 4, 6, 2, 3, 3, 4, 6, 5, 6, 2, 4, 6, 5, 6, 6, 4, 3, 3, 3, 2, 2, 2, 6, 5, 4, 4, 3, 2, 2, 6, 5, 3, 4, 3, 6, 6, 4, 5, 2, 2, 6, 6, 6, 5, 3, 2, 2, 6, 6, 2, 2, 6, 3, 1, 1, 2, 3, 5, 4, 6, 6, 3, 5, 1, 3, 6, 4, 1, 5, 6, 1, 3, 6, 6, 2, 3, 6, 4, 1, 6, 5, 5, 6, 4, 6, 1, 3, 6, 3, 6, 4, 2, 5, 3, 2, 5, 4, 4, 2, 1, 6, 6, 3, 2, 3, 5, 3, 6, 3, 1, 3, 6, 4, 3, 4, 6, 3, 3, 2, 4, 2, 1, 6, 2, 6, 4, 1, 6, 6, 4, 2, 2, 1, 4, 1, 1, 5, 3, 3, 6, 1, 6, 6, 6, 2, 5, 6, 4, 6, 3, 2, 4, 3, 5, 2, 6, 6, 3, 3, 4, 1, 3, 4, 4, 5, 2, 6, 2, 6, 1, 2, 6, 2, 3, 3, 5, 6, 6, 5, 4, 5, 6, 5, 1, 6, 1, 4, 4, 6, 2, 4, 3, 1, 2, 5, 3, 1, 3, 3, 3, 4, 6, 6, 5, 3, 2, 6, 5, 1, 1, 6, 1, 3, 2, 2, 6, 5, 4, 6, 6, 2, 4, 2, 3, 5, 4, 3, 2, 6, 2, 5, 6, 2, 3, 2, 5, 6, 6, 3, 4, 5, 6, 5, 6, 6, 5, 5, 6, 6, 3, 2, 1, 6, 1, 3, 1, 2, 6, 6, 6, 6, 2, 1, 2, 2, 5, 6, 3, 1, 6, 6, 1, 6, 2, 6, 6, 5, 1, 5, 6, 2, 4, 5, 5, 2, 6, 2, 6, 6, 4, 4, 6, 4, 4, 6, 5, 5, 5, 4, 6, 3, 6, 2, 6, 6, 6, 4, 6, 4, 4, 6, 5, 1, 4, 2, 4, 3, 6, 5, 5, 3, 5, 3, 1, 3, 3, 3, 3, 1, 6, 2, 3, 6, 5, 1, 6, 2, 1, 3, 1, 6, 4, 4, 3, 5, 5, 2, 1, 6, 2, 3, 6, 6, 3, 1, 1, 6, 4, 4, 6, 2, 3, 3, 3, 6, 6, 5, 2, 5, 6, 3, 6, 5, 3, 2, 4, 6, 2, 6, 3, 3, 6, 3, 2, 4, 3, 4, 5, 3, 6, 5, 5, 6, 1, 4, 1, 2, 6, 6, 5, 6, 3, 2, 6, 5, 6, 6, 3, 2, 3, 3, 1, 6, 4, 3, 1, 5, 2, 3, 2, 2, 4, 3, 4, 4, 3, 2, 3, 5, 3, 4, 3, 6, 2, 4, 2, 4, 3, 5, 2, 3, 1, 5, 1, 1, 2, 6, 3, 5, 2, 5, 6, 6, 3, 5, 5, 5, 2, 6, 6, 1, 4, 6, 6, 1, 3, 4, 5, 1, 3, 5, 6, 2, 3, 2, 1, 4, 5, 3, 3, 1, 4, 6, 2, 2, 3, 4, 6, 6, 3, 2, 3, 2, 1, 3, 6, 4, 4, 3, 6, 4, 2, 4, 4, 5, 1, 3, 1, 2, 5, 6, 6, 2, 4, 2, 6, 6, 5, 5, 3, 3, 5, 6, 4, 3, 4, 2, 5, 4, 3, 3, 6, 6, 2, 6, 2, 6, 5, 5, 5, 4, 5, 3, 4, 6, 5, 3, 6, 3, 5, 1, 6, 3, 5, 3, 5, 6, 6, 4, 2, 5, 5, 6, 2, 3, 4, 3, 6, 2, 4, 4, 4, 6, 1, 6, 2, 6, 6, 4, 5, 3, 1, 6, 3, 6, 5, 1, 5, 5, 5, 4, 5, 6, 5, 3, 5, 4, 2, 2, 4, 6, 6, 6, 6, 2, 6, 6, 4, 5, 2, 4, 5, 3, 5, 4, 2, 1, 4, 3, 3, 1, 6, 2, 4, 2, 6, 5, 3, 1, 3, 3, 5, 6, 1, 6, 2, 3, 5, 5, 5, 2, 2, 6, 1, 4, 4, 5, 1, 3, 5, 5, 2, 5, 1, 6, 1, 1, 2, 5, 6, 3, 5, 3, 3, 5, 3, 1, 5, 1, 3, 3, 6, 5, 6, 2, 1, 6, 5, 4, 6, 6, 5, 6, 5, 4, 5, 5, 6, 3, 6, 3, 5, 6, 5, 1, 3, 6, 6, 5, 6, 6, 2, 2, 1, 2, 4, 5, 6, 6, 2, 4, 5, 3, 2, 1, 4, 1, 6, 4, 4, 4, 3, 3, 4, 4, 4, 2, 2, 4, 5, 2, 1, 6, 1, 3, 6, 5, 4, 6, 6, 3, 3, 2, 6, 3, 2, 3, 6, 3, 3, 5, 4, 4, 4, 2, 6, 5, 5, 3, 2, 4, 6, 1, 6, 2, 6, 6, 2, 2, 6, 6, 3, 5, 5, 6, 2, 5, 4, 4, 4, 2, 3, 3, 1, 3, 5, 4, 4, 2, 6, 5, 6, 6, 3, 4, 2, 4, 1, 3, 2, 5, 2, 6, 6, 4, 6, 5, 6, 6, 1, 2, 2, 6, 6, 4, 1, 2, 1, 1, 2, 5, 2, 5, 6, 2, 6, 4, 4, 5, 5, 1, 3, 2, 4, 5, 2, 5, 5, 3, 5, 6, 4, 4, 5, 3, 3, 4, 2, 6, 5, 3, 1, 5, 2, 1, 6, 3, 3, 6, 2, 6, 4, 5, 1, 3, 6, 2, 6, 2, 4, 4, 6, 2, 6, 1, 5, 1, 5, 6, 4, 5, 6, 5, 3, 5, 6, 6, 2, 6, 4, 4, 5, 1, 2, 6, 6, 2, 4, 3, 6, 6, 6, 2, 2, 5, 5, 3, 5, 2, 3, 5, 3, 5, 3, 4, 6, 2, 3, 2, 3, 5, 2, 3, 4, 1, 2, 6, 1, 5, 3, 1, 6, 3, 4, 3, 6, 2, 1, 2, 1, 2, 5, 2, 3, 4, 3, 1, 2, 2, 4, 1, 4, 3, 4, 4, 5, 6, 4, 2, 5, 1, 3, 5, 2, 1, 6, 4, 2, 6, 4, 4, 5, 6, 6, 5, 5, 1, 3, 6, 2, 6, 3, 3, 6, 5, 5, 2, 6, 4, 6, 4, 1, 2, 6, 2, 5, 2, 4, 6, 3, 2, 5, 4, 6, 6, 2, 5, 3, 4, 3, 1, 4, 2, 5, 6, 3, 2, 2, 2, 4, 1, 6, 5, 6, 2, 6, 6, 5, 6, 3, 3, 4, 6, 6, 3, 4, 6, 1, 5, 4, 6, 5, 3, 4, 4, 2, 3, 6, 5, 4, 3, 6, 2, 2, 4, 5, 3, 5, 1, 5, 6, 4, 3, 6, 4, 2, 2, 2, 5, 6, 2, 5, 4, 5, 4, 6, 3, 2, 4, 6, 6, 5, 6, 6, 2, 2, 5, 5, 4, 6, 2, 6, 4, 5, 3, 3, 4, 4, 6, 2, 2, 4, 6, 1, 2, 3, 5, 5, 4, 2, 2, 2, 3, 4, 6, 6, 6, 4, 5, 1, 4, 1, 2, 4, 4, 1, 2, 3, 2, 4, 3, 4, 4, 6, 2, 6, 4, 2, 5, 4, 5, 3, 6, 5, 5, 2, 6, 2, 6, 3, 6, 6, 1, 4, 6, 5, 6, 4, 6, 2, 2, 5, 5, 2, 2, 3, 5, 1, 2, 5, 5, 5, 2, 5, 4, 6, 4, 6, 3, 5, 6, 5, 6, 2, 6, 5, 4, 5, 6, 2, 6, 4, 5, 5, 6, 4, 2, 5, 6, 5, 6, 4, 5, 4, 5, 5, 6, 3, 5, 2, 3, 3, 2, 4, 2, 2, 4, 2, 5, 3, 5, 1, 4, 6, 6, 5, 5, 5, 6, 6, 6, 6, 6, 3, 1, 6, 1, 1, 4, 6, 3, 2, 4, 3, 6, 4, 6, 2, 6, 2, 4, 1, 2, 5, 3, 2, 3, 5, 6, 3, 3, 2, 5, 3, 3, 6, 4, 1, 2, 6, 3, 2, 6, 2, 2, 6, 6, 6, 4, 4, 5, 6, 6, 2, 5, 1, 6, 5, 6, 5, 5, 2, 3, 6, 2, 3, 5, 1, 3, 2, 1, 5, 4, 6, 6, 1, 6, 2, 4, 2, 2, 6, 6, 2, 1, 4, 5, 3, 1, 6, 3, 4, 2, 6, 6, 3, 4, 4, 4, 4, 4, 1, 6, 3, 5, 5, 5, 4, 1, 2, 1, 3, 3, 4, 2, 2, 6, 6, 2, 6, 3, 2, 5, 2, 1, 6, 5, 6, 2, 1, 6, 1, 2, 1, 6, 1, 6, 5, 2, 3, 5, 3, 2, 2, 1, 5, 3, 4, 5, 6, 6, 5, 3, 3, 6, 3, 2, 5, 3, 2, 6, 2, 6, 6, 4, 2, 4, 4, 5, 3, 6, 5, 5, 4, 1, 5, 5, 2, 6, 2, 6, 4, 2, 4, 6, 4, 4, 1, 5, 6, 3, 4, 6, 3, 2, 4, 6, 6, 6, 1, 6, 1, 2, 4, 5, 5, 4, 4, 4, 2, 2, 6, 4, 5, 1, 2, 2, 2, 6, 4, 2, 5, 6, 6, 4, 2, 4, 6, 6, 5, 4, 6, 3, 4, 3, 2, 1, 1, 2, 1, 5, 1, 6, 2, 3, 5, 6, 3, 2, 4, 5, 4, 5, 6, 3, 3, 4, 2, 2, 2, 2, 4, 4, 4, 2, 5, 3, 1, 2, 6, 6, 1, 2, 2, 6, 1, 4, 2, 6, 6, 6, 5, 6, 4, 2, 5, 6, 6, 5, 6, 4, 6, 5, 1, 4, 1, 3, 3, 2, 4, 5, 3, 1, 2, 1, 5, 3, 6, 4, 6, 2, 6, 2, 5, 6, 6, 2, 6, 6, 3, 5, 1, 5, 2, 4, 6, 5, 6, 3, 1, 4, 4, 4, 1, 6, 6, 4, 6, 4, 5, 6, 2, 6, 6, 6, 5, 3, 6, 6, 4, 2, 3, 6, 5, 3, 1, 2, 3, 1, 1, 1, 1, 4, 3, 1, 3, 5, 6, 6, 2, 4, 5, 4, 4, 2, 6, 3, 1, 1, 2, 1, 3, 1, 4, 2, 4, 6, 5, 2, 5, 5, 6, 4, 2, 2, 3, 2, 5, 6, 2, 4, 5, 3, 2, 1, 4, 3, 5, 4, 4, 6, 6, 5, 3, 5, 2, 6, 2, 1, 5, 4, 6, 6, 3, 6, 6, 5, 3, 3, 4, 6, 2, 2, 5, 2, 4, 2, 4, 3, 5, 6, 1, 2, 5, 2, 4, 6, 3, 6, 2, 1, 2, 5, 6, 3, 5, 5, 2, 5, 4, 2, 3, 6, 3, 5, 5, 1, 6, 5, 6, 2, 2, 6, 2, 2, 2, 6, 3, 6, 5, 5, 5, 2, 2, 6, 6, 6, 6, 2, 5, 4, 6, 4, 6, 1, 6, 6, 6, 6, 4, 6, 3, 4, 6, 4, 5, 6, 3, 3, 4, 2, 2, 6, 6, 2, 6, 5, 5, 5, 6, 2, 3, 1, 5, 3, 5, 1, 3, 6, 6, 2, 6, 5, 5, 3, 3, 5, 5, 3, 5, 6, 2, 1, 5, 2, 6, 1, 1, 6, 2, 2, 4, 1, 5, 2, 2, 6, 4, 6, 5, 6, 6, 6, 6, 3, 3, 1, 3, 6, 4, 6, 5, 6, 6, 4, 3, 6, 3, 3, 5, 5, 2, 5, 6, 5, 1, 3, 6, 3, 5, 5, 1, 2, 6, 3, 6, 4, 2, 2, 3, 4, 3, 6, 4, 2, 4, 3, 6, 6, 2, 5, 3, 5, 2, 1, 3, 2, 6, 6, 5, 6, 6, 2, 5, 5, 2, 2, 2, 4, 2, 1, 4, 5, 5, 1, 1, 3, 1, 6, 5, 2, 4, 5, 5, 3, 3, 6, 3, 5, 5, 3, 4, 4, 5, 5, 6, 2, 1, 5, 5, 3, 4, 4, 5, 1, 6, 5, 6, 4, 6, 3, 5, 4, 6, 6, 6, 6, 2, 6, 6, 2, 5, 5, 3, 6, 3, 6, 1, 5, 6, 4, 4, 2, 3, 6, 2, 4, 6, 6, 6, 2, 1, 6, 4, 2, 2, 6, 1, 3, 1, 3, 5, 5, 5, 6, 2, 3, 3, 2, 3, 1, 1, 6, 5, 4, 6, 6, 2, 2, 3, 2, 5, 6, 1, 4, 3, 5, 6, 3, 4, 4, 5, 6, 2, 1, 5, 3, 6, 4, 4, 5, 6, 5, 3, 6, 5, 4, 5, 2, 3, 2, 6, 3, 4, 5, 6, 6, 5, 4, 6, 2, 6, 3, 1, 2, 6, 6, 4, 5, 2, 3, 5, 4, 4, 6, 1, 6, 6, 6, 6, 6, 2, 3, 3, 4, 1, 6, 6, 4, 4, 3, 3, 2, 4, 6, 3, 4, 6, 4, 6, 4, 4, 4, 6, 4, 3, 4, 6, 1, 6, 2, 4, 4, 6, 1, 2, 3, 3, 4, 5, 6, 5, 5, 2, 1, 4, 6, 2, 2, 2, 5, 4, 6, 3, 6, 1, 6, 5, 2, 2, 6, 1, 6, 6, 2, 2, 2, 5, 6, 2, 3, 3, 5, 2, 6, 3, 2, 6, 3, 3, 1, 5, 3, 1, 6, 5, 3, 3, 5, 4, 3, 4, 2, 3, 6, 5, 5, 2, 6, 2, 5, 2, 3, 2, 6, 2, 5, 5, 5, 6, 3, 6, 3, 2, 1, 2, 6, 2, 2, 2, 2, 6, 2, 5, 2, 4, 6, 1, 2, 2, 1, 6, 3, 4, 6, 4, 3, 6, 3, 6, 1, 6, 3, 6, 6, 3, 3, 6, 1, 2, 5, 4, 3, 1, 4, 4, 2, 2, 5, 2, 2, 4, 6, 2, 2, 5, 2, 4, 3, 2, 3, 2, 1, 6, 2, 3, 3, 4, 6, 3, 1, 5, 4, 3, 4, 2, 4, 5, 2, 5, 2, 2, 4, 1, 6, 4, 4, 6, 4, 6, 6, 3, 3, 4, 2, 6, 6, 5, 2, 4, 6, 6, 5, 1, 6, 3, 2, 4, 6, 3, 2, 2, 3, 6, 5, 3, 4, 5, 4, 4, 5, 6, 6, 2, 5, 1, 4, 2, 2, 4, 4, 6, 3, 6, 5, 2, 5, 6, 4, 6, 5, 6, 6, 2, 2, 6, 1, 5, 4, 4, 6, 5, 2, 5, 5, 6, 4, 5, 2, 5, 5, 3, 4, 5, 1, 5, 4, 6, 1, 4, 5, 4, 2, 4, 6, 2, 4, 3, 6, 3, 6, 2, 6, 1, 6, 6, 6, 4, 3, 2, 6, 5, 6, 6, 6, 6, 6, 2, 2, 4, 3, 2, 5, 3, 4, 6, 2, 3, 6, 5, 2, 5, 4, 3, 5, 6, 6, 5, 1, 4, 1, 6, 2, 5, 2, 6, 6, 5, 4, 6, 4, 2, 6, 3, 6, 2, 1, 6, 2, 2, 5, 6, 2, 4, 5, 6, 6, 6, 6, 5, 2, 6, 6, 2, 3, 2, 6, 2, 3, 5, 3, 6, 5, 2, 6, 2, 1, 6, 6, 6, 3, 3, 6, 6, 5, 5, 5, 5, 6, 6, 6, 4, 6, 3, 3, 3, 5, 6, 4, 5, 6, 6, 3, 1, 4, 3, 3, 2, 1, 4, 6, 5, 2, 4, 5, 6, 6, 6, 4, 3, 6, 6, 3, 4, 6, 2, 4, 6, 6, 4, 2, 6, 2, 2, 4, 2, 4, 6, 3, 6, 6, 6, 6, 4, 5, 2, 5, 3, 6, 6, 1, 5, 3, 5, 4, 2, 6, 4, 4, 1, 1, 4, 5, 4, 2, 5, 4, 2, 5, 5, 2, 5, 5, 6, 3, 1, 5, 5, 3, 2, 4, 2, 6, 5, 5, 4, 6, 1, 3, 3, 2, 6, 2, 2, 4, 5, 5, 2, 6, 5, 6, 2, 6, 2, 3, 6, 2, 6, 4, 3, 3, 3, 6, 2, 4, 2, 2, 3, 5, 4, 4, 2, 6, 2, 6, 6, 6, 4, 6, 4, 1, 6, 2, 2, 5, 5, 3, 4, 1, 6, 3, 3, 3, 3, 6, 3, 5, 6, 5, 6, 2, 4, 2, 4, 6, 2, 2, 5, 6, 4, 2, 5, 2, 6, 6, 3, 5, 4, 3, 1, 6, 5, 1, 1, 6, 1, 5, 3, 6, 4, 3, 3, 3, 3, 3, 2, 5, 6, 2, 3, 5, 1, 3, 2, 6, 4, 3, 3, 5, 1, 4, 5, 6, 6, 6, 4, 3, 6, 4, 5, 3, 6, 2, 4, 6, 4, 6, 3, 1, 1, 2, 5, 2, 2, 4, 6, 6, 2, 3, 3, 6, 3, 6, 4, 3, 3, 4, 4, 4, 6, 4, 5, 6, 1, 2, 6, 1, 5, 1, 5, 5, 3, 6, 6, 3, 6, 4, 4, 6, 5, 4, 6, 6, 6, 3, 4, 6, 4, 4, 2, 6, 4, 2, 2, 6, 1, 1, 5, 3, 5, 2, 3, 2, 6, 5, 4, 5, 6, 3, 2, 2, 5, 4, 6, 1, 4, 5, 4, 5, 2, 4, 5, 3, 2, 4, 4, 3, 2, 4, 6, 2, 2, 6, 6, 3, 4, 5, 5, 6, 2, 6, 2, 2, 6, 2, 3, 6, 2, 6, 6, 2, 3, 5, 6, 6, 6, 4, 3, 2, 6, 2, 5, 3, 3, 6, 4, 6, 4, 6, 5, 5, 4, 3, 3, 3, 3, 5, 3, 1, 4, 5, 2, 2, 6, 6, 4, 3, 5, 4, 3, 6, 2, 2, 2, 6, 4, 5, 5, 6, 5, 4, 6, 3, 5, 3, 2, 5, 3, 6, 4, 2, 4, 6, 4, 4, 4, 3, 5, 4, 3, 6, 3, 2, 2, 5, 2, 4, 6, 5, 4, 2, 1, 5, 3, 6, 6, 2, 3, 6, 6, 6, 2, 4, 2, 6, 5, 4, 4, 4, 6, 5, 1, 4, 3, 6, 6, 3, 5, 3, 4, 2, 1, 5, 3, 2, 5, 5, 3, 6, 6, 2, 6, 6, 5, 2, 3, 4, 2, 6, 5, 2, 1, 6, 3, 2, 3, 5, 5, 4, 4, 6, 4, 6, 6, 6, 6, 6, 1, 2, 2, 6, 3, 1, 1, 4, 3, 5, 2, 1, 2, 4, 2, 2, 6, 5, 6, 4, 6, 5, 2, 3, 1, 4, 1, 1, 3, 5, 2, 3, 3, 5, 2, 6, 6, 6, 6, 2, 6, 5, 6, 2, 6, 6, 4, 4, 6, 6, 6, 4, 4, 1, 5, 4, 2, 2, 6, 2, 6, 5, 5, 4, 2, 6, 4, 1, 3, 6, 3, 5, 2, 5, 5, 6, 4, 1, 3, 6, 2, 2, 6, 1, 3, 4, 2, 4, 4, 3, 5, 6, 4, 3, 3, 3, 6, 4, 6, 5, 4, 5, 5, 4, 4, 5, 6, 6, 2, 6, 6, 3, 3, 6, 6, 2, 2, 2, 3, 5, 4, 5, 3, 6, 2, 6, 6, 1, 1, 4, 1, 2, 3, 4, 4, 3, 3, 3, 4, 6, 5, 5, 3, 2, 6, 5, 3, 2, 6, 6, 3, 6, 4, 6, 6, 6, 3, 6, 2, 6, 3, 4, 2, 6, 4, 6, 5, 2, 4, 6, 2, 5, 5, 3, 1, 4, 5, 2, 3, 5, 3, 2, 5, 2, 2, 3, 6, 4, 5, 5, 4, 5, 2, 5, 3, 4, 3, 1, 5, 2, 1, 6, 5, 2, 6, 4, 4, 4, 3, 6, 3, 5, 6, 5, 3, 6, 3, 3, 4, 1, 3, 2, 5, 6, 3, 5, 6, 4, 6, 2, 6, 1, 4, 4, 5, 2, 4, 5, 6, 3, 2, 4, 2, 6, 2, 4, 3, 4, 6, 6, 1, 2, 3, 1, 2, 1, 6, 5, 2, 1, 6, 6, 3, 4, 1, 3, 6, 6, 6, 3, 3, 6, 3, 4, 6, 3, 4, 3, 3, 6, 3, 4, 2, 6, 2, 5, 6, 6, 6, 6, 6, 6, 1, 2, 6, 2, 1, 2, 1, 5, 5, 3, 4, 4, 6, 6, 1, 5, 2, 3, 5, 6, 4, 4, 5, 6, 4, 3, 2, 6, 6, 6, 2, 5, 3, 3, 2, 5, 4, 5, 6, 5, 4, 4, 3, 2, 5, 4, 4, 2, 4, 2, 4, 5, 2, 6, 5, 4, 5, 6, 6, 2, 6, 4, 1, 2, 5, 5, 4, 3, 2, 5, 4, 3, 2, 6, 5, 6, 6, 5, 6, 6, 6, 4, 3, 1, 3, 3, 4, 4, 4, 6, 3, 3, 5, 3, 2, 5, 2, 4, 3, 6, 4, 6, 6, 4, 6, 2, 6, 6, 4, 2, 1, 4, 6, 4, 4, 5, 2, 5, 3, 5, 6, 2, 6, 6, 6, 4, 6, 2, 6, 6, 5, 1, 5, 4, 6, 5, 6, 4, 5, 1, 6, 1, 5, 6, 6, 3, 3, 2, 3, 6, 4, 3, 2, 5, 6, 6, 5, 5, 2, 6, 2, 5, 5, 1, 3, 4, 6, 6, 6, 3, 3, 3, 6, 4, 6, 6, 2, 6, 4, 2, 3, 5, 2, 3, 4, 5, 6, 6, 3, 4, 3, 4, 2, 6, 2, 3, 6, 2, 6, 6, 3, 6, 5, 6, 2, 2, 5, 5, 4, 6, 4, 5, 3, 6, 1, 2, 4, 6, 4, 3, 3, 5, 5, 5, 1, 5, 4, 4, 4, 4, 6, 1, 1, 2, 4, 4, 2, 3, 4, 4, 6, 3, 6, 6, 6, 6, 5, 6, 3, 4, 2, 3, 3, 2, 2, 2, 4, 6, 6, 6, 1, 6, 4, 5, 5, 2, 6, 2, 2, 4, 6, 3, 5, 1, 4, 6, 6, 3, 6, 6, 4, 2, 4, 2, 6, 5, 3, 2, 6, 4, 2, 6, 4, 3, 6, 4, 5, 6, 4, 6, 5, 6, 3, 5, 6, 2, 3, 6, 1, 6, 4, 6, 1, 4, 4, 2, 4, 6, 4, 2, 1, 5, 3, 5, 6, 2, 4, 1, 2, 5, 1, 2, 1, 6, 1, 6, 2, 3, 5, 2, 6, 2, 4, 1, 4, 6, 3, 2, 2, 3, 5, 5, 6, 1, 4, 2, 4, 6, 6, 6, 5, 5, 4, 6, 4, 2, 6, 4, 5, 1, 1, 1, 2, 6, 5, 6, 5, 3, 3, 3, 4, 3, 6, 4, 6, 5, 6, 6, 2, 6, 2, 3, 3, 1, 5, 4, 6, 1, 3, 6, 1, 4, 4, 3, 4, 1, 6, 3, 5, 5, 4, 2, 1, 5, 5, 2, 3, 4, 3, 2, 5, 6, 3, 1, 5, 3, 4, 6, 1, 1, 2, 2, 2, 6, 4, 6, 2, 6, 2, 3, 4, 2, 6, 2, 1, 6, 2, 5, 3, 5, 4, 6, 3, 1, 6, 4, 6, 4, 2, 1, 6, 5, 3, 1, 2, 3, 6, 5, 6, 5, 6, 3, 3, 6, 4, 6, 4, 3, 3, 6, 5, 6, 6, 6, 4, 1, 2, 4, 6, 2, 6, 4, 6, 4, 6, 1, 5, 4, 4, 3, 2, 3, 3, 4, 6, 3, 2, 6, 6, 2, 4, 6, 4, 3, 6, 5, 6, 1, 4, 6, 5, 6, 2, 3, 5, 2, 6, 6, 1, 1, 4, 1, 4, 4, 2, 4, 2, 5, 6, 5, 6, 5, 4, 4, 2, 4, 1, 5, 4, 6, 4, 4, 5, 3, 5, 6, 2, 5, 6, 3, 5, 2, 2, 6, 3, 4, 5, 2, 4, 6, 3, 5, 6, 5, 4, 2, 3, 5, 1, 2, 6, 6, 6, 6, 3, 5, 3, 6, 6, 3, 6, 5, 2, 4, 2, 5, 3, 5, 6, 6, 5, 4, 3, 5, 6, 4, 6, 1, 1, 4, 5, 4, 4, 6, 3, 3, 5, 4, 1, 5, 2, 3, 3, 5, 3, 6, 6, 6, 6, 2, 5, 6, 2, 3, 1, 6, 5, 6, 2, 4, 1, 4, 1, 3, 4, 5, 4, 1, 1, 1, 5, 6, 2, 2, 6, 5, 1, 4, 1, 5, 5, 1, 2, 2, 3, 5, 6, 2, 2, 3, 4, 4, 4, 4, 2, 5, 4, 3, 4, 3, 1, 5, 3, 6, 5, 6, 2, 4, 2, 5, 6, 6, 6, 6, 6, 6, 3, 3, 3, 2, 3, 3, 4, 3, 6, 1, 4, 6, 2, 6, 5, 4, 2, 4, 6, 4, 5, 2, 2, 2, 4, 6, 3, 2, 5, 2, 6, 6, 6, 5, 5, 6, 4, 1, 1, 2, 5, 3, 4, 4, 4, 5, 3, 1, 5, 3, 1, 6, 1, 1, 2, 1, 3, 3, 1, 1, 2, 6, 6, 6, 3, 2, 4, 4, 6, 2, 6, 4, 2, 4, 5, 6, 6, 2, 2, 3, 4, 6, 6, 4, 1, 6, 4, 2, 4, 1, 1, 2, 2, 1, 6, 3, 6, 4, 3, 3, 1, 3, 6, 6, 3, 1, 4, 6, 3, 6, 6, 6, 3, 3, 2, 5, 6, 5, 2, 5, 3, 6, 1, 6, 6, 1, 2, 5, 3, 5, 4, 4, 3, 4, 4, 2, 4, 6, 6, 5, 2, 3, 2, 6, 3, 4, 2, 6, 3, 6, 6, 3, 6, 5, 5, 6, 4, 3, 1, 6, 4, 5, 3, 3, 5, 6, 6, 3, 4, 4, 6, 5, 4, 6, 6, 6, 2, 6, 2, 5, 2, 3, 6, 6, 1, 4, 5, 4, 1, 5, 5, 2, 3, 3, 6, 6, 2, 3, 4, 5, 2, 3, 6, 6, 3, 4, 4, 2, 4, 4, 3, 2, 4, 4, 3, 2, 6, 4, 5, 3, 6, 5, 6, 2, 2, 4, 5, 6, 5, 6, 4, 6, 2, 3, 5, 4, 4, 6, 4, 5, 6, 6, 3, 6, 5, 2, 6, 1, 1, 4, 4, 4, 3, 2, 3, 5, 4, 5, 2, 3, 5, 6, 3, 3, 2, 4, 6, 3, 5, 4, 4, 2, 4, 4, 5, 1, 4, 6, 4, 2, 6, 4, 2, 4, 5, 6, 3, 6, 6, 5, 5, 6, 4, 6, 4, 5, 6, 1, 3, 1, 2, 5, 6, 2, 1, 3, 6, 3, 2, 4, 3, 2, 5, 5, 1, 5, 4, 6, 2, 1, 5, 2, 6, 2, 6, 2, 6, 3, 6, 3, 6, 5, 6, 3, 2, 3, 5, 6, 5, 3, 4, 1, 3, 4, 4, 5, 3, 6, 6, 3, 3, 6, 3, 1, 2, 2, 4, 4, 4, 5, 2, 4, 6, 3, 6, 6, 3, 2, 2, 1, 5, 2, 2, 5, 4, 5, 4, 4, 1, 3, 2, 3, 4, 2, 3, 6, 3, 2, 2, 2, 5, 5, 1, 2, 2, 2, 3, 3, 6, 5, 6, 2, 6, 1, 2, 5, 6, 4, 6, 5, 5, 2, 1, 3, 6, 5, 2, 2, 5, 4, 5, 2, 6, 4, 2, 5, 1, 5, 6, 4, 6, 3, 2, 4, 1, 6, 2, 1, 6, 6, 3, 5, 4, 3, 1, 4, 6, 4, 2, 5, 2, 6, 6, 2, 2, 2, 5, 6, 2, 2, 6, 4, 6, 6, 4, 4, 3, 5, 1, 3, 4, 5, 6, 1, 4, 5, 6, 6, 3, 2, 4, 6, 4, 6, 4, 5, 6, 5, 3, 4, 6, 3, 4, 5, 1, 4, 4, 3, 5, 3, 6, 6, 2, 3, 5, 6, 6, 6, 6, 3, 3, 5, 6, 3, 6, 6, 6, 3, 6, 1, 1, 3, 1, 2, 6, 3, 2, 6, 6, 6, 6, 5, 6, 5, 4, 3, 3, 3, 6, 3, 1, 5, 6, 5, 2, 6, 6, 4, 2, 6, 3, 5, 4, 3, 6, 6, 2, 4, 6, 2, 6, 2, 6, 6, 1, 2, 1, 1, 4, 6, 2, 2, 5, 4, 3, 5, 2, 4, 6, 5, 3, 6, 4, 1, 5, 1, 3, 3, 4, 2, 1, 1, 1, 3, 6, 6, 5, 2, 3, 2, 2, 5, 6, 2, 6, 2, 2, 6, 6, 1, 6, 1, 5, 6, 6, 5, 6, 1, 4, 4, 6, 5, 2, 3, 2, 5, 2, 4, 3, 2, 6, 4, 4, 5, 5, 4, 3, 1, 3, 4, 5, 4, 4, 3, 4, 4, 1, 6, 4, 6, 2, 2, 1, 6, 4, 2, 4, 6, 1, 6, 6, 2, 5, 3, 6, 5, 2, 6, 2, 4, 5, 4, 6, 5, 4, 4, 1, 2, 5, 3, 4, 2, 2, 4, 3, 6, 6, 2, 5, 3, 2, 2, 2, 3, 6, 6, 1, 6, 2, 3, 6, 2, 3, 6, 2, 4, 2, 2, 6, 2, 3, 3, 2, 5, 4, 6, 5, 5, 6, 6, 5, 3, 5, 4, 4, 1, 2, 4, 6, 1, 6, 6, 4, 2, 3, 4, 6, 5, 4, 6, 4, 2, 4, 1, 5, 3, 5, 2, 4, 5, 3, 5, 5, 3, 6, 2, 5, 3, 5, 5, 3, 4, 3, 5, 5, 3, 3, 1, 1, 3, 2, 1, 4, 4, 2, 1, 3, 5, 4, 4, 5, 4, 6, 6, 3, 6, 6, 1, 3, 2, 5, 5, 5, 1, 3, 2, 6, 3, 2, 6, 3, 5, 3, 6, 2, 2, 3, 5, 6, 4, 2, 4, 2, 6, 5, 6, 3, 1, 4, 2, 4, 4, 6, 4, 6, 4, 5, 1, 2, 4, 5, 2, 3, 2, 2, 5, 2, 2, 2, 2, 6, 6, 5, 2, 4, 5, 2, 4, 5, 3, 2, 5, 6, 1, 6, 4, 2, 4, 3, 1, 4, 5, 3, 1, 6, 1, 4, 6, 4, 3, 4, 4, 3, 1, 4, 3, 1, 6, 5, 5, 5, 1, 1, 6, 4, 1, 2, 6, 5, 3, 6, 4, 5, 6, 2, 2, 4, 3, 2, 4, 3, 2, 4, 3, 6, 6, 6, 5, 1, 5, 6, 4, 4, 5, 6, 6, 5, 6, 5, 4, 5, 2, 6, 3, 6, 1, 6, 2, 4, 2, 4, 6, 4, 5, 3, 3, 3, 6, 6, 5, 6, 1, 5, 3, 2, 3, 3, 6, 6, 3, 6, 2, 6, 5, 2, 6, 1, 5, 5, 6, 3, 4, 5, 2, 2, 1, 6, 2, 6, 2, 6, 2, 5, 6, 1, 4, 2, 6, 2, 2, 6, 5, 6, 2, 6, 3, 5, 6, 3, 5, 5, 4, 6, 3, 3, 5, 3, 5, 6, 6, 1, 5, 2, 3, 2, 5, 4, 6, 2, 4, 1, 5, 2, 4, 4, 2, 3, 1, 4, 4, 6, 2, 6, 4, 6, 3, 6, 5, 4, 5, 2, 6, 1, 6, 2, 4, 2, 4, 1, 6, 5, 2, 2, 6, 1, 4, 3, 6, 3, 2, 3, 3, 4, 5, 4, 5, 5, 6, 5, 6, 6, 5, 1, 5, 6, 3, 2, 6, 2, 3, 6, 2, 5, 2, 6, 3, 5, 3, 6, 4, 6, 3, 5, 2, 4, 6, 3, 4, 2, 4, 6, 2, 6, 2, 4, 2, 6, 5, 6, 2, 6, 4, 6, 3, 6, 6, 6, 2, 6, 2, 3, 2, 4, 5, 5, 2, 6, 6, 3, 2, 3, 2, 6, 4, 6, 6, 2, 5, 6, 6, 3, 4, 1, 4, 4, 3, 3, 5, 2, 6, 5, 4, 2, 1, 2, 6, 5, 4, 5, 2, 6, 3, 4, 3, 2, 6, 6, 6, 1, 1, 3, 6, 5, 2, 4, 3, 2, 6, 6, 6, 6, 3, 2, 3, 6, 6, 5, 6, 4, 3, 2, 6, 6, 3, 2, 6, 4, 6, 6, 3, 4, 6, 6, 3, 5, 3, 6, 6, 3, 3, 4, 2, 4, 6, 4, 2, 5, 5, 4, 4, 1, 6, 1, 2, 5, 6, 4, 4, 1, 1, 2, 5, 6, 6, 4, 2, 6, 4, 6, 5, 6, 5, 6, 1, 1, 3, 2, 6, 3, 1, 5, 5, 6, 5, 6, 6, 6, 4, 6, 2, 5, 4, 5, 2, 5, 1, 3, 2, 4, 6, 2, 2, 6, 5, 5, 6, 2, 1, 6, 6, 6, 2, 2, 1, 6, 6, 3, 2, 6, 6, 1, 1, 2, 2, 5, 5, 4, 3, 6, 3, 4, 3, 3, 2, 3, 4, 1, 6, 2, 4, 6, 5, 5, 3, 2, 1, 5, 4, 5, 4, 2, 6, 5, 3, 6, 2, 6, 2, 4, 5, 5, 6, 4, 4, 4, 4, 6, 4, 5, 2, 4, 3, 4, 2, 1, 5, 6, 3, 4, 2, 6, 5, 5, 6, 3, 1, 6, 6, 6, 5, 6, 4, 6, 5, 4, 2, 6, 2, 5, 6, 4, 4, 4, 2, 2, 4, 1, 2, 1, 2, 6, 4, 6, 6, 4, 1, 3, 3, 3, 5, 2, 4, 1, 6, 2, 2, 2, 6, 3, 3, 2, 6, 2, 4, 5, 6, 6, 1, 2, 4, 5, 2, 4, 2, 5, 2, 1, 6, 4, 1, 5, 3, 3, 4, 2, 3, 6, 6, 2, 3, 6, 6, 3, 4, 3, 6, 4, 5, 4, 6, 6, 4, 4, 2, 6, 4, 5, 5, 5, 4, 6, 1, 2, 5, 2, 5, 3, 3, 3, 4, 6, 5, 2, 4, 4, 5, 5, 6, 2, 6, 4, 3, 1, 6, 6, 6, 2, 5, 2, 6, 4, 2, 2, 1, 4, 2, 1, 6, 5, 4, 6, 5, 5, 3, 4, 5, 6, 4, 4, 2, 2, 4, 5, 1, 6, 6, 2, 2, 6, 4, 1, 1, 3, 4, 3, 2, 6, 4, 6, 3, 5, 2, 5, 4, 1, 6, 3, 5, 6, 4, 3, 6, 3, 6, 2, 5, 4, 2, 2, 3, 6, 3, 4, 5, 5, 2, 4, 5, 5, 4, 4, 4, 5, 1, 5, 1, 4, 6, 6, 6, 3, 6, 3, 5, 5, 5, 4, 5, 5, 3, 2, 4, 6, 3, 5, 6, 1, 2, 6, 5, 3, 6, 1, 1, 6, 5, 2, 3, 6, 2, 3, 6, 6, 1, 3, 3, 6, 5, 6, 1, 4, 6, 2, 5, 1, 5, 5, 6, 1, 2, 2, 6, 6, 4, 6, 2, 2, 5, 6, 5, 3, 6, 5, 3, 4, 1, 6, 6, 6, 1, 3, 3, 2, 2, 2, 4, 1, 2, 3, 5, 2, 3, 4, 1, 6, 3, 5, 4, 5, 1, 6, 4, 3, 5, 6, 2, 1, 4, 6, 6, 4, 4, 6, 6, 5, 6, 2, 6, 5, 2, 6, 2, 3, 6, 2, 1, 5, 6, 2, 6, 6, 5, 1, 4, 1, 3, 2, 5, 6, 6, 6, 6, 5, 3, 5, 3, 6, 5, 5, 3, 6, 3, 2, 2, 4, 1, 4, 5, 4, 6, 2, 2, 5, 6, 2, 3, 5, 6, 6, 3, 2, 4, 6, 3, 1, 6, 2, 6, 5, 4, 1, 3, 1, 3, 6, 3, 4, 3, 6, 2, 3, 1, 6, 5, 5, 6, 3, 6, 3, 5, 3, 5, 6, 6, 6, 3, 6, 6, 2, 3, 2, 5, 2, 6, 5, 5, 4, 4, 1, 5, 4, 1, 5, 6, 5, 6, 5, 2, 6, 6, 2, 4, 1, 6, 4, 4, 6, 3, 6, 5, 5, 2, 1, 6, 6, 2, 4, 3, 4, 6, 2, 1, 4, 5, 3, 1, 3, 1, 2, 1, 6, 6, 4, 3, 2, 4, 6, 5, 2, 5, 3, 2, 4, 4, 3, 6, 1, 2, 3, 5, 6, 2, 4, 6, 4, 5, 4, 2, 6, 6, 5, 6, 4, 3, 5, 3, 6, 2, 5, 6, 4, 4, 2, 6, 4, 2, 3, 3, 5, 6, 1, 2, 3, 6, 6, 4, 2, 2, 1, 3, 2, 5, 2, 4, 5, 3, 1, 2, 4, 5, 3, 2, 6, 6, 1, 3, 3, 2, 5, 3, 3, 1, 3, 6, 4, 5, 3, 6, 6, 5, 6, 3, 1, 3, 4, 2, 4, 1, 3, 3, 6, 6, 2, 4, 3, 6, 3, 4, 4, 3, 4, 2, 6, 3, 5, 4, 5, 4, 1, 3, 5, 3, 2, 6, 5, 2, 2, 1, 3, 4, 4, 1, 5, 5, 4, 2, 4, 5, 6, 6, 4, 6, 6, 3, 5, 4, 3, 3, 5, 4, 6, 4, 6, 5, 4, 6, 1, 6, 6, 6, 3, 5, 6, 3, 2, 2, 6, 4, 2, 5, 5, 5, 3, 6, 4, 6, 5, 5, 4, 1, 6, 1, 3, 1, 5, 6, 5, 4, 3, 2, 6, 3, 3, 1, 2, 6, 3, 1, 3, 5, 5, 5, 3, 1, 6, 2, 2, 6, 6, 6, 1, 5, 5, 4, 4, 4, 3, 2, 4, 4, 6, 2, 6, 4, 2, 1, 5, 5, 5, 4, 6, 3, 1, 4, 6, 5, 5, 5, 5, 6, 3, 6, 3, 2, 5, 5, 4, 6, 4, 5, 6, 2, 2, 4, 6, 5, 4, 5, 1, 5, 5, 3, 1, 6, 5, 4, 3, 6, 4, 3, 3, 6, 1, 5, 3, 6, 2, 5, 2, 1, 3, 6, 4, 5, 1, 3, 1, 4, 2, 2, 5, 4, 3, 6, 3, 6, 5, 4, 6, 6, 4, 3, 5, 5, 5, 5, 6, 5, 5, 4, 6, 4, 1, 2, 5, 3, 3, 1, 6, 2, 3, 2, 2, 6, 4, 5, 5, 4, 5, 2, 4, 5, 3, 5, 6, 6, 2, 6, 3, 2, 3, 3, 5, 2, 2, 2, 5, 2, 6, 1, 1, 1, 6, 2, 3, 1, 2, 1, 2, 6, 4, 2, 3, 4, 4, 3, 4, 4, 5, 3, 1, 6, 5, 3, 6, 3, 2, 5, 5, 6, 5, 3, 5, 6, 3, 6, 5, 6, 2, 2, 6, 5, 6, 6, 4, 5, 5, 2, 6, 6, 3, 6, 5, 3, 6, 3, 2, 2, 5, 2, 2, 3, 4, 2, 5, 3, 2, 3, 5, 6, 4, 4, 3, 3, 3, 6, 6, 2, 3, 3, 3, 4, 2, 3, 6, 6, 3, 5, 6, 3, 6, 4, 6, 5, 6, 4, 6, 3, 6, 6, 2, 2, 6, 6, 2, 2, 6, 6, 6, 4, 5, 5, 2, 4, 2, 5, 6, 5, 5, 6, 4, 1, 4, 6, 1, 2, 1, 1, 3, 3, 5, 3, 5, 3, 5, 2, 6, 3, 1, 5, 5, 5, 6, 2, 3, 5, 4, 2, 5, 6, 3, 5, 3, 3, 6, 3, 4, 3, 5, 3, 5, 3, 4, 4, 3, 2, 6, 6, 6, 5, 5, 3, 6, 3, 3, 6, 4, 4, 6, 4, 3, 6, 5, 6, 2, 3, 4, 5, 3, 2, 4, 6, 2, 2, 4, 5, 5, 6, 6, 6, 3, 6, 6, 6, 2, 5, 3, 6, 6, 6, 5, 3, 3, 5, 5, 1, 3, 6, 6, 5, 6, 3, 6, 6, 1, 5, 6, 6, 3, 1, 4, 2, 3, 1, 5, 3, 6, 2, 2, 4, 2, 3, 4, 3, 4, 4, 6, 5, 6, 5, 1, 2, 2, 1, 3, 6, 3, 2, 3, 3, 3, 1, 4, 6, 2, 3, 1, 5, 1, 3, 3, 4, 6, 5, 2, 2, 5, 6, 2, 6, 2, 3, 6, 6, 4, 6, 6, 4, 6, 3, 4, 5, 6, 4, 3, 2, 5, 5, 5, 2, 5, 3, 2, 6, 4, 5, 1, 1, 5, 5, 3, 4, 2, 4, 2, 2, 4, 5, 3, 5, 3, 6, 4, 4, 4, 4, 5, 5, 6, 6, 3, 4, 5, 4, 5, 6, 6, 4, 6, 3, 4, 5, 6, 3, 2, 3, 5, 6, 6, 1, 2, 2, 6, 3, 3, 5, 1, 6, 6, 6, 4, 4, 3, 6, 5, 2, 3, 5, 4, 4, 2, 6, 3, 3, 2, 6, 4, 6, 5, 5, 2, 6, 5, 6, 3, 3, 2, 4, 1, 3, 6, 6, 6, 5, 2, 4, 4, 4, 3, 2, 5, 1, 2, 5, 6, 2, 5, 1, 3, 5, 4, 4, 2, 6, 6, 6, 2, 4, 1, 3, 1, 2, 3, 2, 1, 5, 5, 4, 3, 5, 2, 1, 6, 6, 1, 5, 6, 5, 4, 4, 1, 2, 1, 5, 1, 6, 4, 6, 2, 1, 2, 1, 6, 6, 5, 5, 6, 4, 1, 4, 2, 4, 5, 5, 3, 2, 4, 5, 5, 1, 4, 6, 6, 6, 2, 3, 4, 6, 6, 6, 5, 1, 4, 3, 4, 1, 2, 3, 6, 1, 2, 6, 3, 4, 2, 6, 6, 4, 6, 5, 6, 5, 5, 4, 3, 6, 5, 6, 2, 4, 2, 3, 3, 3, 3, 6, 5, 1, 5, 5, 4, 4, 2, 6, 3, 3, 2, 3, 6, 2, 6, 2, 4, 3, 2, 4, 6, 3, 6, 2, 5, 2, 6, 6, 5, 6, 1, 5, 4, 3, 3, 5, 1, 5, 6, 2, 2, 5, 1, 2, 6, 6, 5, 6, 2, 6, 1, 5, 3, 3, 6, 2, 3, 2, 5, 4, 6, 2, 6, 5, 2, 5, 6, 3, 6, 1, 1, 6, 5, 2, 1, 3, 2, 6, 1, 5, 4, 5, 4, 4, 5, 6, 5, 5, 2, 2, 5, 5, 2, 5, 4, 6, 4, 3, 2, 3, 4, 4, 4, 4, 2, 6, 3, 3, 4, 6, 6, 4, 4, 3, 3, 6, 2, 4, 5, 2, 6, 5, 3, 2, 4, 4, 2, 4, 3, 4, 6, 3, 5, 4, 6, 6, 6, 2, 4, 5, 3, 3, 6, 5, 5, 5, 1, 6, 5, 2, 3, 6, 6, 3, 3, 6, 5, 3, 5, 2, 2, 4, 1, 3, 5, 2, 6, 6, 4, 6, 3, 1, 6, 4, 4, 1, 6, 6, 4, 4, 6, 3, 2, 4, 4, 3, 2, 4, 6, 3, 2, 3, 4, 5, 6, 6, 2, 4, 2, 6, 2, 6, 6, 6, 5, 4, 1, 2, 5, 4, 3, 2, 2, 1, 3, 6, 1, 2, 5, 6, 6, 3, 4, 4, 6, 4, 5, 6, 5, 6, 3, 1, 4, 6, 3, 4, 5, 2, 6, 6, 5, 3, 5, 6, 2, 2, 1, 5, 6, 2, 6, 2, 4, 3, 1, 5, 4, 3, 2, 4, 3, 6, 5, 4, 6, 6, 3, 1, 1, 6, 2, 3, 3, 2, 6, 6, 6, 4, 6, 3, 4, 6, 3, 2, 6, 3, 5, 1, 1, 3, 3, 4, 4, 6, 3, 2, 1, 4, 5, 1, 4, 4, 6, 4, 4, 3, 6, 6, 2, 2, 6, 3, 4, 3, 5, 5, 3, 1, 1, 6, 1, 3, 5, 3, 2, 2, 1, 3, 2, 6, 6, 4, 6, 4, 3, 6, 1, 1, 4, 3, 2, 3, 4, 5, 2, 3, 3, 2, 5, 3, 2, 5, 4, 5, 4, 3, 2, 4, 1, 6, 5, 3, 4, 5, 2, 6, 6, 5, 2, 3, 2, 2, 6, 5, 6, 1, 4, 5, 3, 5, 6, 4, 2, 4, 4, 3, 6, 2, 5, 6, 4, 4, 1, 6, 3, 3, 3, 5, 6, 5, 4, 3, 4, 5, 5, 6, 6, 3, 2, 3, 1, 2, 4, 4, 6, 6, 6, 6, 6, 5, 5, 6, 6, 3, 4, 4, 6, 3, 2, 6, 6, 3, 3, 4, 6, 6, 2, 4, 5, 2, 5, 2, 5, 6, 3, 6, 2, 2, 2, 5, 6, 2, 3, 1, 6, 5, 4, 3, 2, 6, 4, 1, 1, 6, 5, 6, 5, 3, 5, 1, 3, 3, 3, 6, 3, 4, 5, 5, 2, 2, 6, 4, 3, 2, 6, 3, 3, 5, 1, 3, 2, 6, 2, 2, 2, 6, 6, 5, 2, 2, 1, 5, 6, 1, 3, 2, 5, 1, 3, 3, 4, 4, 2, 6, 3, 2, 6, 6, 2, 6, 4, 4, 2, 6, 1, 6, 6, 6, 6, 4, 3, 6, 6, 1, 2, 6, 3, 6, 4, 6, 6, 6, 5, 2, 2, 2, 6, 5, 2, 6, 5, 5, 3, 1, 4, 3, 6, 3, 6, 5, 4, 6, 3, 2, 4, 1, 2, 5, 3, 1, 6, 2, 6, 3, 6, 4, 5, 6, 4, 3, 6, 3, 2, 2, 6, 2, 3, 4, 6, 2, 1, 6, 3, 3, 6, 2, 6, 3, 2, 4, 1, 4, 6, 4, 3, 6, 6, 5, 6, 6, 3, 5, 3, 3, 5, 3, 6, 3, 3, 6, 4, 3, 3, 2, 4, 2, 6, 2, 6, 3, 2, 1, 1, 3, 6, 5, 3, 5, 4, 2, 4, 2, 5, 3, 1, 4, 6, 4, 4, 6, 5, 5, 5, 2, 6, 4, 3, 1, 3, 6, 1, 4, 1, 6, 6, 2, 3, 2, 4, 1, 4, 6, 4, 2, 5, 4, 3, 4, 6, 4, 5, 6, 2, 4, 5, 6, 3, 5, 5, 6, 5, 2, 4, 6, 3, 2, 4, 6, 2, 6, 5, 2, 4, 6, 6, 5, 3, 4, 4, 6, 4, 5, 3, 4, 1, 1, 5, 4, 1, 6, 4, 1, 6, 6, 6, 2, 6, 2, 3, 6, 2, 6, 2, 3, 3, 2, 6, 2, 4, 5, 3, 6, 6, 2, 5, 6, 5, 6, 3, 2, 3, 4, 5, 6, 2, 2, 1, 1, 1, 4, 3, 6, 3, 6, 5, 4, 6, 2, 4, 1, 3, 2, 5, 5, 3, 2, 3, 4, 1, 4, 3, 5, 3, 1, 6, 2, 3, 1, 6, 5, 3, 6, 1, 6, 4, 3, 4, 2, 5, 3, 3, 6, 2, 6, 6, 6, 4, 6, 4, 6, 4, 6, 6, 4, 6, 3, 2, 6, 4, 6, 2, 6, 2, 2, 3, 2, 6, 5, 6, 2, 4, 6, 2, 2, 3, 1, 4, 5, 2, 5, 6, 4, 2, 3, 3, 2, 6, 1, 1, 2, 2, 4, 3, 4, 6, 3, 6, 5, 1, 5, 5, 1, 2, 2, 3, 2, 6, 3, 1, 5, 2, 1, 4, 3, 4, 2, 5, 5, 6, 5, 5, 1, 2, 4, 6, 5, 1, 3, 3, 4, 1, 6]\n",
      "[0.0865, 0.1606, 0.1619, 0.1672, 0.1725, 0.2513] 1.0\n"
     ]
    }
   ],
   "source": [
    "from collections import Counter\n",
    "faces_of_die = [1, 2, 3, 4, 5, 6]\n",
    "weights = [1/12, 1/6, 1/6, 1/6, 1/6, 3/12]\n",
    "\n",
    "outcomes = []\n",
    "n = 10000\n",
    "for _ in range(n):\n",
    "    outcomes.append(weighted_choice(faces_of_die, weights))\n",
    "print(outcomes)\n",
    "c = Counter(outcomes)\n",
    "for key in c:\n",
    "    c[key] = c[key] / n\n",
    "print(sorted(c.values()), sum(c.values()))"
   ]
  },
  {
   "cell_type": "code",
   "execution_count": 7,
   "metadata": {},
   "outputs": [
    {
     "name": "stdout",
     "output_type": "stream",
     "text": [
      "[0.14, 0.12, 0.04, 0.27, 0.08, 0.35]\n",
      "München\n",
      "Stuttgart\n",
      "Freiburg\n",
      "Hamburg\n",
      "Hamburg\n",
      "München\n",
      "München\n",
      "Zürich\n",
      "Hamburg\n",
      "München\n"
     ]
    }
   ],
   "source": [
    "cities = [\"Frankfurt\",\n",
    "            \"Stuttgart\",\n",
    "            \"Freiburg\",\n",
    "            \"München\",\n",
    "            \"Zürich\",\n",
    "            \"Hamburg\"]\n",
    "populations = [736000, 628000, 228000, 1450000, 409241, 1841179]\n",
    "total = sum(populations)\n",
    "weights = [ round(pop / total, 2) for pop in populations]\n",
    "print(weights)\n",
    "for i in range(10):\n",
    "    print(weighted_choice(cities, populations))"
   ]
  },
  {
   "cell_type": "markdown",
   "metadata": {},
   "source": [
    "### WEIGHTED RANDOM CHOICE WITH NUMPY"
   ]
  },
  {
   "cell_type": "code",
   "execution_count": 8,
   "metadata": {},
   "outputs": [
    {
     "data": {
      "text/plain": [
       "'priest'"
      ]
     },
     "execution_count": 8,
     "metadata": {},
     "output_type": "execute_result"
    }
   ],
   "source": [
    "from numpy.random import choice\n",
    "professions = [\"scientist\",\n",
    "                \"philosopher\",\n",
    "                \"engineer\",\n",
    "                \"priest\",\n",
    "                \"programmer\"]\n",
    "probabilities = [0.2, 0.05, 0.3, 0.15, 0.3]\n",
    "choice(professions, p=probabilities)"
   ]
  },
  {
   "cell_type": "code",
   "execution_count": 11,
   "metadata": {},
   "outputs": [
    {
     "name": "stdout",
     "output_type": "stream",
     "text": [
      "[0.33826638 0.32135307 0.21141649 0.12896406]\n",
      "C\n",
      "C\n",
      "Java\n",
      "Java\n",
      "C\n",
      "C\n",
      "Java\n",
      "Python\n",
      "Java\n",
      "Java\n"
     ]
    }
   ],
   "source": [
    "programming_languages = [\"Java\", \"C\", \"Python\", \"C++\"]\n",
    "weights = np.array([16, 15.2, 10, 6.1])\n",
    "\n",
    "# normalization\n",
    "weights /= sum(weights)\n",
    "print(weights)\n",
    "\n",
    "for i in range(10):\n",
    "    print(choice(programming_languages, p = weights))"
   ]
  },
  {
   "cell_type": "markdown",
   "metadata": {},
   "source": [
    "## **WEIGHTED SAMPLE**"
   ]
  },
  {
   "cell_type": "code",
   "execution_count": 13,
   "metadata": {},
   "outputs": [],
   "source": [
    "def weighted_sample(population, weights, k):\n",
    "    \"\"\"\n",
    "    This function draws a random sample (without repeats)\n",
    "    of length k from the sequence 'population' according\n",
    "    to the list of weights\n",
    "    \"\"\"\n",
    "    # A set named sample is used to store the sampled elements, ensuring no repeats.\n",
    "    sample = set()\n",
    "    # Convert population and weights to lists:\n",
    "    population = list(population)\n",
    "    weights = list(weights)\n",
    "\n",
    "    # Continues sampling until the sample set reaches the desired size k.\n",
    "    while len(sample) < k:\n",
    "        # Uses the weighted_choice function to pick an element from population according to the weights.\n",
    "        choice = weighted_choice(population, weights)\n",
    "        # The selected element is added to the sample set.\n",
    "        sample.add(choice)\n",
    "        # Finds the index of the selected element (choice) in the population.\n",
    "        index = population.index(choice)\n",
    "        # Removes the corresponding element and its weight from the population and weights lists.\n",
    "        weights.pop(index)\n",
    "        population.remove(choice)\n",
    "        # Normalizes the weights again so that they sum to 1 after each removal. This ensures the probabilities remain valid for the remaining elements.\n",
    "        weights = [ x / sum(weights) for x in weights]\n",
    "    # Converts the sample set back to a list and returns it.\n",
    "    return list(sample)\n",
    "\n"
   ]
  },
  {
   "cell_type": "code",
   "execution_count": 14,
   "metadata": {},
   "outputs": [
    {
     "name": "stdout",
     "output_type": "stream",
     "text": [
      "['green', 'blue', 'orange']\n",
      "['green', 'blue', 'orange']\n",
      "['green', 'blue', 'pink']\n",
      "['orange', 'blue', 'green']\n",
      "['yellow', 'pink', 'blue']\n",
      "['orange', 'blue', 'pink']\n",
      "['orange', 'pink', 'green']\n",
      "['green', 'pink', 'black']\n",
      "['green', 'pink', 'black']\n",
      "['yellow', 'pink', 'white']\n"
     ]
    }
   ],
   "source": [
    "candies = [\"red\", \"green\", \"blue\", \"yellow\", \"black\", \"white\", \"pink\", \"orange\"]\n",
    "weights = [ 1/24, 1/6, 1/6, 1/12, 1/12, 1/24, 1/8, 7/24]\n",
    "\n",
    "for i in range(10):\n",
    "    print(weighted_sample(candies, weights, 3))"
   ]
  },
  {
   "cell_type": "code",
   "execution_count": 15,
   "metadata": {},
   "outputs": [
    {
     "name": "stdout",
     "output_type": "stream",
     "text": [
      "0.71056\n"
     ]
    }
   ],
   "source": [
    "n = 100000\n",
    "orange_counter = 0\n",
    "for i in range(n):\n",
    "    if \"orange\" in weighted_sample(candies, weights, 3):\n",
    "        orange_counter += 1\n",
    "print(orange_counter / n)"
   ]
  },
  {
   "cell_type": "code",
   "execution_count": 16,
   "metadata": {},
   "outputs": [
    {
     "name": "stdout",
     "output_type": "stream",
     "text": [
      "0.71127\n"
     ]
    }
   ],
   "source": [
    "n = 100000\n",
    "orange_counter = 0\n",
    "for i in range(n):\n",
    "    if \"orange\" in np.random.choice(candies,\n",
    "    p=weights,\n",
    "    size=(3,),\n",
    "    replace=False):\n",
    "        orange_counter += 1\n",
    "print(orange_counter / n)"
   ]
  },
  {
   "cell_type": "code",
   "execution_count": 17,
   "metadata": {},
   "outputs": [
    {
     "name": "stdout",
     "output_type": "stream",
     "text": [
      "['Germany' 'Germany' 'Poland']\n",
      "['Germany' 'France' 'Belgium']\n",
      "['Germany' 'Germany' 'Germany']\n",
      "['Netherlands' 'France' 'Germany']\n"
     ]
    }
   ],
   "source": [
    "countries = [\"Germany\", \"Switzerland\", \"Austria\", \"Netherlands\",\n",
    "            \"Belgium\", \"Poland\",\n",
    "            \"France\", \"Ireland\"]\n",
    "weights = np.array([83019200, 8555541, 8869537,\n",
    "            17338900, 11480534, 38413000,\n",
    "            67022000, 4857000])\n",
    "\n",
    "weights = weights / sum(weights)\n",
    "\n",
    "for i in range(4):\n",
    "    print(np.random.choice(countries, p=weights, size=(3,), replace=True))"
   ]
  },
  {
   "cell_type": "markdown",
   "metadata": {},
   "source": [
    "# **CARTESIAN CHOICE**"
   ]
  },
  {
   "cell_type": "code",
   "execution_count": 1,
   "metadata": {},
   "outputs": [],
   "source": [
    "# CARTESIAN PRODUCT\n",
    "# CARTESIAN CHOICE: CARTESIAN_CHOICE\n",
    "import numpy as np\n",
    "def cartesian_choice(*iterables):\n",
    "    \"\"\"\n",
    "    A list with random choices from each iterable of iterables\n",
    "    is being created in respective order.\n",
    "    The result list can be seen as an element of the\n",
    "    Cartesian product of the iterables\n",
    "    \"\"\"\n",
    "    res = []\n",
    "    for population in iterables:\n",
    "        res.append(np.random.choice(population))\n",
    "    return res"
   ]
  },
  {
   "cell_type": "code",
   "execution_count": 2,
   "metadata": {},
   "outputs": [
    {
     "data": {
      "text/plain": [
       "['A', 'blue', 'car', 'blinks']"
      ]
     },
     "execution_count": 2,
     "metadata": {},
     "output_type": "execute_result"
    }
   ],
   "source": [
    "cartesian_choice([\"The\", \"A\"],\n",
    "[\"red\", \"green\", \"blue\", \"yellow\", \"grey\"],\n",
    "[\"car\", \"house\", \"fish\", \"light\"],\n",
    "[\"smells\", \"dreams\", \"blinks\", \"shines\"])"
   ]
  },
  {
   "cell_type": "code",
   "execution_count": 4,
   "metadata": {},
   "outputs": [],
   "source": [
    "import numpy as np\n",
    "def weighted_cartesian_choice(*iterables):\n",
    "    \"\"\"\n",
    "    An arbitrary number of tuple or lists,\n",
    "    each consisting of population and weights.\n",
    "    weighted_cartesian_choice returns a list\n",
    "    with a chocie from each population\n",
    "    \"\"\"\n",
    "    res = []\n",
    "    for population, weights in iterables:\n",
    "    # normalize weight:\n",
    "        weights = np.array(weights) / sum(weights)\n",
    "        lst = np.random.choice(population, p=weights)\n",
    "        res.append(lst)\n",
    "    return res"
   ]
  },
  {
   "cell_type": "code",
   "execution_count": 7,
   "metadata": {},
   "outputs": [
    {
     "name": "stdout",
     "output_type": "stream",
     "text": [
      "It may or may not be true:\n",
      "No blue light dreams of happiness.\n"
     ]
    }
   ],
   "source": [
    "determiners = ([\"The\", \"A\", \"Each\", \"Every\", \"No\"], [0.3, 0.3, 0.1, 0.1, 0.2])\n",
    "colours = ([\"red\", \"green\", \"blue\", \"yellow\", \"grey\"], [0.1, 0.3, 0.3, 0.2, 0.2])\n",
    "nouns = ([\"water\", \"elephant\", \"fish\", \"light\", \"programming language\"], [0.3, 0.2, 0.1, 0.1, 0.3])\n",
    "nouns2 = ([\"of happiness\", \"of chocolate\", \"of wisdom\", \"of challenges\", \"of air\"], [0.5, 0.2, 0.1, 0.1, 0.1])\n",
    "verb_phrases = ([\"smells\", \"dreams\", \"thinks\", \"is made of\"],[0.4, 0.3, 0.2, 0.1])\n",
    "\n",
    "print(\"It may or may not be true:\")\n",
    "for i in range(10):\n",
    "    res = weighted_cartesian_choice(determiners,\n",
    "        colours,\n",
    "        nouns,\n",
    "        verb_phrases,\n",
    "        nouns2)\n",
    "print(\" \".join(res) + \".\")"
   ]
  },
  {
   "cell_type": "code",
   "execution_count": 14,
   "metadata": {},
   "outputs": [],
   "source": [
    "import numpy as np\n",
    "from random import random\n",
    "\n",
    "def weighted_cartesian_choice(*iterables):\n",
    "    \"\"\"\n",
    "    A list with weighted random choices from each iterable of iter\n",
    "    ables is being created in respective order\n",
    "    \"\"\"\n",
    "    res = []\n",
    "    for population, weight in iterables:\n",
    "        lst = weighted_choice(population, weight)\n",
    "        res.append(lst)\n",
    "    return res "
   ]
  },
  {
   "cell_type": "code",
   "execution_count": 18,
   "metadata": {},
   "outputs": [
    {
     "name": "stdout",
     "output_type": "stream",
     "text": [
      "It may or may not be true:\n",
      "None\n"
     ]
    }
   ],
   "source": [
    "determiners = ([\"The\", \"A\", \"Each\", \"Every\", \"No\"], [0.3, 0.3, 0.1, 0.1, 0.2])\n",
    "colours = ([\"red\", \"green\", \"blue\", \"yellow\", \"grey\"], [0.1, 0.3, 0.3, 0.2, 0.2])\n",
    "nouns = ([\"water\", \"elephant\", \"fish\", \"light\", \"programming language\"], [0.3, 0.2, 0.1, 0.1, 0.3])\n",
    "nouns2 = ([\"of happiness\", \"of chocolate\", \"of wisdom\", \"of challenges\", \"of air\"], [0.5, 0.2, 0.1, 0.1, 0.1])\n",
    "\n",
    "verb_phrases = ([\"smells\", \"dreams\", \"thinks\", \"is made of\"], [0.4, 0.3, 0.2, 0.1])\n",
    "\n",
    "print(\"It may or may not be true:\")\n",
    "sentences = []\n",
    "for i in range(10000):\n",
    "    res = weighted_cartesian_choice(determiners,\n",
    "                colours,\n",
    "                nouns,\n",
    "                verb_phrases,\n",
    "                nouns2)\n",
    "print(sentences.append(\" \".join(res) + \".\"))"
   ]
  },
  {
   "cell_type": "code",
   "execution_count": 19,
   "metadata": {},
   "outputs": [
    {
     "name": "stdout",
     "output_type": "stream",
     "text": [
      "dreams 1.0\n"
     ]
    }
   ],
   "source": [
    "words = [\"smells\", \"dreams\", \"thinks\", \"is made of\"]\n",
    "from collections import Counter\n",
    "c = Counter()\n",
    "for sentence in sentences:\n",
    "    for word in words:\n",
    "        if word in sentence:\n",
    "            c[word] += 1\n",
    "\n",
    "wsum = sum(c.values())\n",
    "for key in c:\n",
    "    print(key, c[key] / wsum)"
   ]
  },
  {
   "cell_type": "markdown",
   "metadata": {},
   "source": [
    "# **RANDOM SEED**"
   ]
  },
  {
   "cell_type": "code",
   "execution_count": 20,
   "metadata": {},
   "outputs": [
    {
     "name": "stdout",
     "output_type": "stream",
     "text": [
      "Help on method seed in module random:\n",
      "\n",
      "seed(a=None, version=2) method of random.Random instance\n",
      "    Initialize internal state from a seed.\n",
      "    \n",
      "    The only supported seed types are None, int, float,\n",
      "    str, bytes, and bytearray.\n",
      "    \n",
      "    None or no argument seeds from current time or from an operating\n",
      "    system specific randomness source if available.\n",
      "    \n",
      "    If *a* is an int, all bits are used.\n",
      "    \n",
      "    For version 2 (the default), all of the bits are used if *a* is a str,\n",
      "    bytes, or bytearray.  For version 1 (provided for reproducing random\n",
      "    sequences from older versions of Python), the algorithm for str and\n",
      "    bytes generates a narrower range of seeds.\n",
      "\n"
     ]
    }
   ],
   "source": [
    "import random\n",
    "help(random.seed)"
   ]
  },
  {
   "cell_type": "code",
   "execution_count": 21,
   "metadata": {},
   "outputs": [
    {
     "name": "stdout",
     "output_type": "stream",
     "text": [
      "2, 1, 5, 4, 4, 3, 2, 9, 2, 10, \n",
      "Let's create the same random numbers again:\n",
      "2, 1, 5, 4, 4, 3, 2, 9, 2, 10, "
     ]
    }
   ],
   "source": [
    "import random\n",
    "random.seed(42)\n",
    "for _ in range(10):\n",
    "    print(random.randint(1, 10), end=\", \")\n",
    "\n",
    "print(\"\\nLet's create the same random numbers again:\")\n",
    "random.seed(42)\n",
    "for _ in range(10):\n",
    "    print(random.randint(1, 10), end=\", \")"
   ]
  },
  {
   "cell_type": "code",
   "execution_count": 22,
   "metadata": {},
   "outputs": [
    {
     "name": "stdout",
     "output_type": "stream",
     "text": [
      "[173.49123947564414, 183.47654360102564, 186.96893210720162, 214.90676059797428, 199.69909520396007, 183.31521532331496, 157.85035192965537, 149.56012897536849, 187.39026585633607, 219.33242481612143]\n"
     ]
    }
   ],
   "source": [
    "from random import gauss\n",
    "n = 1000\n",
    "values = []\n",
    "frequencies = {}\n",
    "while len(values) < n:\n",
    "    value = gauss(180, 30)\n",
    "    if 130 < value < 230:\n",
    "        frequencies[int(value)] = frequencies.get(int(value), 0) + 1\n",
    "    values.append(value)\n",
    "print(values[:10]) "
   ]
  },
  {
   "cell_type": "code",
   "execution_count": 23,
   "metadata": {},
   "outputs": [
    {
     "data": {
      "text/plain": [
       "[<matplotlib.lines.Line2D at 0x7f9ad0c22ca0>]"
      ]
     },
     "execution_count": 23,
     "metadata": {},
     "output_type": "execute_result"
    },
    {
     "data": {
      "image/png": "[encoded data removed]",
      "text/plain": [
       "<Figure size 432x288 with 1 Axes>"
      ]
     },
     "metadata": {
      "needs_background": "light"
     },
     "output_type": "display_data"
    }
   ],
   "source": [
    "%matplotlib inline\n",
    "import matplotlib.pyplot as plt\n",
    "freq = list(frequencies.items())\n",
    "freq.sort()\n",
    "plt.plot(*list(zip(*freq)))"
   ]
  },
  {
   "cell_type": "code",
   "execution_count": 24,
   "metadata": {},
   "outputs": [
    {
     "name": "stdout",
     "output_type": "stream",
     "text": [
      "[199.08836603613787, 153.03249855473, 157.60350145496932, 143.31333111860076, 174.891882017791, 176.42690380014338, 185.13615980998935, 158.180771217246, 207.1957379442918, 207.5133244782561]\n"
     ]
    },
    {
     "data": {
      "text/plain": [
       "[<matplotlib.lines.Line2D at 0x7f9ab0a0fd30>]"
      ]
     },
     "execution_count": 24,
     "metadata": {},
     "output_type": "execute_result"
    },
    {
     "data": {
      "image/png": "[encoded data removed]",
      "text/plain": [
       "<Figure size 432x288 with 1 Axes>"
      ]
     },
     "metadata": {
      "needs_background": "light"
     },
     "output_type": "display_data"
    }
   ],
   "source": [
    "from random import normalvariate\n",
    "n = 1000\n",
    "values = []\n",
    "frequencies = {}\n",
    "while len(values) < n:\n",
    "    value = gauss(180, 30)\n",
    "    if 130 < value < 230:\n",
    "        frequencies[int(value)] = frequencies.get(int(value), 0) + 1\n",
    "    values.append(value)\n",
    "print(values[:10]) \n",
    "\n",
    "freq = list(frequencies.items())\n",
    "freq.sort()\n",
    "plt.plot(*list(zip(*freq)))\n"
   ]
  },
  {
   "cell_type": "code",
   "execution_count": 25,
   "metadata": {},
   "outputs": [],
   "source": [
    "import random\n",
    "def random_ones_and_zeros(p):\n",
    "    \"\"\" p: probability 0 <= p <= 1\n",
    "    returns a 1 with the probability p\n",
    "    \"\"\"\n",
    "    x = random.random()\n",
    "    if x < p:\n",
    "        return 1\n",
    "    else:\n",
    "        return 0"
   ]
  },
  {
   "cell_type": "code",
   "execution_count": 26,
   "metadata": {},
   "outputs": [
    {
     "data": {
      "text/plain": [
       "0.800612"
      ]
     },
     "execution_count": 26,
     "metadata": {},
     "output_type": "execute_result"
    }
   ],
   "source": [
    "n = 1000000\n",
    "sum(random_ones_and_zeros(0.8) for i in range(n)) / n"
   ]
  },
  {
   "cell_type": "code",
   "execution_count": 27,
   "metadata": {},
   "outputs": [],
   "source": [
    "import random\n",
    "def random_ones_and_zeros(p):\n",
    "    while True:\n",
    "        x = random.random()\n",
    "        yield 1 if x < p else 0\n",
    "def firstn(generator, n):\n",
    "    for i in range(n):\n",
    "        yield next(generator)"
   ]
  },
  {
   "cell_type": "code",
   "execution_count": 29,
   "metadata": {},
   "outputs": [
    {
     "data": {
      "text/plain": [
       "0.799745"
      ]
     },
     "execution_count": 29,
     "metadata": {},
     "output_type": "execute_result"
    }
   ],
   "source": [
    "n = 1000000\n",
    "sum(x for x in firstn(random_ones_and_zeros(0.8), n)) / n"
   ]
  },
  {
   "cell_type": "code",
   "execution_count": 30,
   "metadata": {},
   "outputs": [
    {
     "name": "stdout",
     "output_type": "stream",
     "text": [
      "[1, 1, 0, 1, 1, 0, 1, 1, 0, 1]\n"
     ]
    }
   ],
   "source": [
    "p = 0.7\n",
    "gen = random_ones_and_zeros(p)\n",
    "result = list(firstn(gen, 10))\n",
    "print(result)"
   ]
  },
  {
   "cell_type": "code",
   "execution_count": 31,
   "metadata": {},
   "outputs": [],
   "source": [
    "def ebitter(bitstream):\n",
    "    while True:\n",
    "        bit1 = next(bitstream)\n",
    "        bit2 = next(bitstream)\n",
    "        if bit1 + bit2 == 1:\n",
    "            bit3 = next(bitstream)\n",
    "            if bit2 + bit3 == 1:\n",
    "                yield 1\n",
    "            else:\n",
    "                yield 0"
   ]
  },
  {
   "cell_type": "code",
   "execution_count": 32,
   "metadata": {},
   "outputs": [],
   "source": [
    "def ebitter2(bitstream):\n",
    "    bit1 = next(bitstream)\n",
    "    bit2 = next(bitstream)\n",
    "    bit3 = next(bitstream)\n",
    "    while True:\n",
    "        if bit1 + bit2 == 1:\n",
    "            if bit2 + bit3 == 1:\n",
    "                yield 1\n",
    "            else:\n",
    "                yield 0\n",
    "        bit1, bit2, bit3 = bit2, bit3, next(bitstream)"
   ]
  },
  {
   "cell_type": "code",
   "execution_count": 33,
   "metadata": {},
   "outputs": [
    {
     "data": {
      "text/plain": [
       "0.49976"
      ]
     },
     "execution_count": 33,
     "metadata": {},
     "output_type": "execute_result"
    }
   ],
   "source": [
    "n = 1000000\n",
    "sum(x for x in firstn(ebitter(random_ones_and_zeros(0.8)), n)) / n"
   ]
  },
  {
   "cell_type": "code",
   "execution_count": 34,
   "metadata": {},
   "outputs": [
    {
     "data": {
      "text/plain": [
       "0.500023"
      ]
     },
     "execution_count": 34,
     "metadata": {},
     "output_type": "execute_result"
    }
   ],
   "source": [
    "n = 1000000\n",
    "sum(x for x in firstn(ebitter2(random_ones_and_zeros(0.8)), n)) /n"
   ]
  },
  {
   "cell_type": "markdown",
   "metadata": {},
   "source": [
    "# **SYNTHETICAL TEST DATA WITH PYTHON**"
   ]
  },
  {
   "cell_type": "code",
   "execution_count": 36,
   "metadata": {},
   "outputs": [],
   "source": [
    "\"\"\" \n",
    "This module provides functions to draw weighted samples from a population\n",
    "\"\"\"\n",
    "\n",
    "import random\n",
    "import numpy as np\n",
    "\n",
    "def find_interval(x, \n",
    "                  partition, \n",
    "                  endpoints=True):\n",
    "    \"\"\" find_interval -> i\n",
    "        If endpoints is True, \"i\" will be the index for which applies\n",
    "        partition[i] < x < partition[i+1], if such an index exists.\n",
    "        -1 otherwise\n",
    "        \n",
    "        If endpoints is False, \"i\" will be the smallest index \n",
    "        for which applies x < partition[i]. If no such index exists \n",
    "        \"i\" will be set to len(partition)\n",
    "    \"\"\"\n",
    "    for i in range(0, len(partition)):\n",
    "        if x < partition[i]:\n",
    "            return i-1 if endpoints else i\n",
    "    return -1 if endpoints else len(partition)\n",
    "\n",
    "\n",
    "def weighted_choice(sequence, weights):\n",
    "    \"\"\" \n",
    "    weighted_choice selects a random element of \n",
    "    the sequence according to the list of weights\n",
    "    \"\"\"\n",
    "    x = np.random.random()\n",
    "    cum_weights = [0] + list(np.cumsum(weights))\n",
    "    index = find_interval(x, cum_weights)\n",
    "    return sequence[index]\n",
    "\n",
    "def cartesian_choice(*iterables):\n",
    "    \"\"\"\n",
    "    A list with random choices from each iterable of iterables \n",
    "    is being created in respective order.\n",
    "    \n",
    "    The result list can be seen as an element of the \n",
    "    Cartesian product of the iterables \n",
    "    \"\"\"\n",
    "    res = []\n",
    "    for population in iterables:\n",
    "        res.append(random.choice(population))\n",
    "    return res\n",
    "\n",
    "\n",
    "\n",
    "def weighted_cartesian_choice(*iterables):\n",
    "    \"\"\"\n",
    "    A list with weighted random choices from each iterable of iterables \n",
    "    is being created in respective order\n",
    "    \"\"\"\n",
    "    res = []\n",
    "    for population, weights in iterables:\n",
    "        lst = weighted_choice(population, weights)\n",
    "        res.append(lst)\n",
    "    return res\n",
    "\n",
    "\n",
    "def weighted_sample(population, weights, k):\n",
    "    \"\"\" \n",
    "    This function draws a random sample of length k \n",
    "    from the sequence 'population' according to the \n",
    "    list of weights\n",
    "    \"\"\"\n",
    "    sample = set()\n",
    "    population = list(population)\n",
    "    weights = list(weights)\n",
    "    while len(sample) < k:\n",
    "        choice = weighted_sample(population, weights)\n",
    "        sample.add(choice)\n",
    "        index = population.index(choice)\n",
    "        weights.pop(index)\n",
    "        population.remove(choice)\n",
    "        weights = [ x / sum(weights) for x in weights]\n",
    "    return list(sample)\n",
    "\n",
    "\n",
    "def weighted_sample_alternative(population, weights, k):\n",
    "    \"\"\" \n",
    "    Alternative way to previous implementation.\n",
    "\n",
    "    This function draws a random sample of length k \n",
    "    from the sequence 'population' according to the \n",
    "    list of weights\n",
    "    \"\"\"\n",
    "    sample = set()\n",
    "    population = list(population)\n",
    "    weights = list(weights)\n",
    "    while len(sample) < k:\n",
    "        choice = weighted_sample(population, weights)\n",
    "        if choice not in sample:\n",
    "            sample.add(choice)\n",
    "    return list(sample)\n",
    "    "
   ]
  },
  {
   "cell_type": "code",
   "execution_count": 37,
   "metadata": {},
   "outputs": [
    {
     "ename": "ModuleNotFoundError",
     "evalue": "No module named 'bk_random'",
     "output_type": "error",
     "traceback": [
      "\u001b[0;31m---------------------------------------------------------------------------\u001b[0m",
      "\u001b[0;31mModuleNotFoundError\u001b[0m                       Traceback (most recent call last)",
      "\u001b[0;32m/var/folders/76/xs74b8wd5y1d4jslcyz534sh0000gn/T/ipykernel_1474/1141375314.py\u001b[0m in \u001b[0;36m<module>\u001b[0;34m\u001b[0m\n\u001b[0;32m----> 1\u001b[0;31m \u001b[0;32mimport\u001b[0m \u001b[0mbk_random\u001b[0m\u001b[0;34m\u001b[0m\u001b[0;34m\u001b[0m\u001b[0m\n\u001b[0m",
      "\u001b[0;31mModuleNotFoundError\u001b[0m: No module named 'bk_random'"
     ]
    }
   ],
   "source": [
    "import bk_random"
   ]
  },
  {
   "cell_type": "code",
   "execution_count": null,
   "metadata": {},
   "outputs": [],
   "source": []
  }
 ],
 "metadata": {
  "kernelspec": {
   "display_name": "base",
   "language": "python",
   "name": "python3"
  },
  "language_info": {
   "codemirror_mode": {
    "name": "ipython",
    "version": 3
   },
   "file_extension": ".py",
   "mimetype": "text/x-python",
   "name": "python",
   "nbconvert_exporter": "python",
   "pygments_lexer": "ipython3",
   "version": "3.9.7"
  }
 },
 "nbformat": 4,
 "nbformat_minor": 2
}
