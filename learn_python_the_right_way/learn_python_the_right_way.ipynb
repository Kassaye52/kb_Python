{
 "cells": [
  {
   "cell_type": "code",
   "execution_count": 1,
   "metadata": {},
   "outputs": [
    {
     "name": "stdout",
     "output_type": "stream",
     "text": [
      "Hello, World\n"
     ]
    }
   ],
   "source": [
    "# 1.9 The first Program\n",
    "print(\"Hello, World\")"
   ]
  },
  {
   "cell_type": "markdown",
   "metadata": {},
   "source": [
    "# Chapter 2: Variables, Expression and Statements"
   ]
  },
  {
   "cell_type": "code",
   "execution_count": 7,
   "metadata": {},
   "outputs": [
    {
     "data": {
      "text/plain": [
       "int"
      ]
     },
     "execution_count": 7,
     "metadata": {},
     "output_type": "execute_result"
    }
   ],
   "source": [
    "type(\"Hello, World!\")\n",
    "type(17)"
   ]
  },
  {
   "cell_type": "code",
   "execution_count": 8,
   "metadata": {},
   "outputs": [
    {
     "name": "stdout",
     "output_type": "stream",
     "text": [
      "This message \n",
      "will span\n",
      "several lines!\n",
      "\n"
     ]
    }
   ],
   "source": [
    "message = \"\"\"This message \n",
    "will span\n",
    "several lines!\n",
    "\"\"\"\n",
    "print(message)"
   ]
  },
  {
   "cell_type": "code",
   "execution_count": 9,
   "metadata": {},
   "outputs": [
    {
     "name": "stdout",
     "output_type": "stream",
     "text": [
      "The area is:  314.159\n"
     ]
    }
   ],
   "source": [
    "response = input(\"What is the radius?\")\n",
    "r = float(response)\n",
    "area = 3.14159 * r**2\n",
    "print(\"The area is: \", area)"
   ]
  },
  {
   "cell_type": "markdown",
   "metadata": {},
   "source": [
    "# Chapter 3: Hello, Little turtles"
   ]
  },
  {
   "cell_type": "code",
   "execution_count": 24,
   "metadata": {},
   "outputs": [],
   "source": [
    "import turtle\n",
    "wn = turtle.Screen()\n",
    "wn.bgcolor(\"lightgreen\")\n",
    "wn.title(\"Hell, Tess\")\n",
    "\n",
    "alex = turtle.Turtle()\n",
    "alex.pensize(5)\n",
    "\n",
    "alex.forward(100)\n",
    "alex.left(90)\n",
    "alex.forward(80)\n",
    "alex.color(\"red\")\n",
    "\n",
    "wn.mainloop()"
   ]
  },
  {
   "cell_type": "code",
   "execution_count": 56,
   "metadata": {},
   "outputs": [],
   "source": [
    "import turtle\n",
    "wn = turtle.Screen()\n",
    "wn.bgcolor(\"lightgreen\")\n",
    "wn.title(\"Alex and Tess\")\n",
    "\n",
    "tess = turtle.Turtle()\n",
    "tess.color(\"hotpink\")\n",
    "tess.pensize(10)\n",
    "\n",
    "tess.forward(80)\n",
    "tess.left(120)\n",
    "tess.forward(80)\n",
    "tess.left(120)\n",
    "tess.forward(80)\n",
    "tess.left(120)\n",
    "\n",
    "tess.right(180)\n",
    "tess.forward(80)\n",
    "#\n",
    "alex = turtle.Turtle()\n",
    "alex.pensize(5)\n",
    "\n",
    "alex.forward(50)\n",
    "alex.left(90)\n",
    "alex.forward(50)\n",
    "alex.left(90)\n",
    "alex.forward(50)\n",
    "alex.left(90)\n",
    "alex.forward(50)\n",
    "alex.left(90)\n",
    "\n",
    "alex.forward(80)\n",
    "alex.color(\"red\")\n",
    "\n",
    "wn.mainloop()"
   ]
  },
  {
   "cell_type": "markdown",
   "metadata": {},
   "source": [
    "### 3.3 The **for loop**"
   ]
  },
  {
   "cell_type": "code",
   "execution_count": 31,
   "metadata": {},
   "outputs": [
    {
     "name": "stdout",
     "output_type": "stream",
     "text": [
      "Hi Joe. Please come to my Party on Sunday!\n",
      "Hi Zoe. Please come to my Party on Sunday!\n",
      "Hi Brad. Please come to my Party on Sunday!\n",
      "Hi Angelina. Please come to my Party on Sunday!\n",
      "Hi Zuki. Please come to my Party on Sunday!\n",
      "Hi Thandi. Please come to my Party on Sunday!\n",
      "Hi Paris. Please come to my Party on Sunday!\n"
     ]
    }
   ],
   "source": [
    "for f in [\"Joe\",\"Zoe\",\"Brad\",\"Angelina\",\"Zuki\",\"Thandi\",\"Paris\"]:\n",
    "    invite = \"Hi \" + f + \". Please come to my Party on Sunday!\"\n",
    "    print(invite)"
   ]
  },
  {
   "cell_type": "code",
   "execution_count": 1,
   "metadata": {},
   "outputs": [
    {
     "ename": "",
     "evalue": "",
     "output_type": "error",
     "traceback": [
      "\u001b[1;31mThe Kernel crashed while executing code in the current cell or a previous cell. \n",
      "\u001b[1;31mPlease review the code in the cell(s) to identify a possible cause of the failure. \n",
      "\u001b[1;31mClick <a href='https://aka.ms/vscodeJupyterKernelCrash'>here</a> for more info. \n",
      "\u001b[1;31mView Jupyter <a href='command:jupyter.viewOutput'>log</a> for further details."
     ]
    }
   ],
   "source": [
    "import turtle\n",
    "wn = turtle.Screen()\n",
    "wn.bgcolor(\"lightgreen\")\n",
    "wn.title(\"Alex and Tess\")\n",
    "\n",
    "tess = turtle.Turtle()\n",
    "tess.color(\"hotpink\")\n",
    "tess.pensize(10)\n",
    "\n",
    "alex = turtle.Turtle()\n",
    "alex.color(\"green\")\n",
    "alex.pensize(5)\n",
    "\n",
    "for i in range(4):\n",
    "    tess.forward(80)\n",
    "    tess.left(120)\n",
    "\n",
    "for a in range(4):\n",
    "    alex.forward(50)\n",
    "    alex.left(90)\n",
    "\n",
    "wn.mainloop()"
   ]
  },
  {
   "cell_type": "code",
   "execution_count": 40,
   "metadata": {},
   "outputs": [],
   "source": [
    "import turtle\n",
    "wn = turtle.Screen()\n",
    "wn.bgcolor(\"lightgreen\")\n",
    "wn.title(\"Alex and Tess\")\n",
    "\n",
    "tess = turtle.Turtle()\n",
    "#tess.color(\"hotpink\")\n",
    "tess.pensize(10)\n",
    "\n",
    "alex = turtle.Turtle()\n",
    "#alex.color(\"green\")\n",
    "alex.pensize(5)\n",
    "\n",
    "for i in [\"yellow\", \"red\", \"purple\", \"blue\"]:\n",
    "    tess.color(i)\n",
    "    tess.forward(80)\n",
    "    tess.left(120)\n",
    "\n",
    "for a in [\"yellow\", \"red\", \"purple\", \"blue\"]:\n",
    "    alex.color(a)\n",
    "    alex.forward(50)\n",
    "    alex.left(90)\n",
    "\n",
    "wn.mainloop()"
   ]
  },
  {
   "cell_type": "code",
   "execution_count": 44,
   "metadata": {},
   "outputs": [],
   "source": [
    "import turtle\n",
    "wn = turtle.Screen()\n",
    "wn.bgcolor(\"lightgreen\")\n",
    "wn.title(\"Hello, Tess\")\n",
    "\n",
    "tess = turtle.Turtle()\n",
    "tess.color(\"blue\")\n",
    "tess.shape(\"turtle\")\n",
    "\n",
    "tess.penup()\n",
    "size = 20\n",
    "\n",
    "for i in range(30):\n",
    "    tess.stamp()\n",
    "    size = size + 3\n",
    "    tess.forward(size)\n",
    "    tess.right(24)\n",
    "\n",
    "wn.mainloop()\n"
   ]
  },
  {
   "cell_type": "markdown",
   "metadata": {},
   "source": [
    "# CHAPTER 4: Functions"
   ]
  },
  {
   "cell_type": "code",
   "execution_count": 8,
   "metadata": {},
   "outputs": [],
   "source": [
    "import turtle\n",
    "def draw_square(t, sz):\n",
    "    \"\"\"Make turtle t draw a square of sz\"\"\"\n",
    "    for i in range(4):\n",
    "        t.forward(sz)\n",
    "        t.left(90)\n",
    "\n",
    "# Set up the window and its attributes\n",
    "wn = turtle.Screen()\n",
    "wn.bgcolor(\"lightgreen\")\n",
    "wn.title(\"Alex meets a function\")   \n",
    "\n",
    "# Create Alex \n",
    "alex = turtle.Turtle()\n",
    "# Call the function to draw square\n",
    "draw_square(alex, 50)\n",
    "wn.mainloop()"
   ]
  },
  {
   "cell_type": "code",
   "execution_count": null,
   "metadata": {},
   "outputs": [],
   "source": [
    "import turtle\n",
    "__import__(\"turtle\").__traceable__=False\n",
    "\n",
    "def draw_multicolor_square(t, sz):\n",
    "    \"\"\"Make turtle t draw a square of sz\"\"\"\n",
    "    for i in [\"red\", \"purple\", \"hotpink\", \"blue\"]:\n",
    "        t.color(i)\n",
    "        t.forward(sz)\n",
    "        t.left(90)\n",
    "# Set up the window and its attributes\n",
    "wn = turtle.Screen()\n",
    "wn.bgcolor(\"lightgreen\")\n",
    "wn.title(\"Tess meets a function\")   \n",
    "\n",
    "# Create tess and set some attributes\n",
    "tess = turtle.Turtle()\n",
    "tess.pensize(3)\n",
    "\n",
    "# Size of the smallest square\n",
    "size = 20\n",
    "for i in range(15):\n",
    "    draw_multicolor_square(tess, size)\n",
    "    # Increase the size next time\n",
    "    size = size + 10\n",
    "    tess.forward(10)\n",
    "    tess.right(18)\n",
    "\n",
    "wn.mainloop()\n"
   ]
  },
  {
   "cell_type": "code",
   "execution_count": 61,
   "metadata": {},
   "outputs": [
    {
     "name": "stdout",
     "output_type": "stream",
     "text": [
      "At the end of the period you will have 14880.611370468085\n"
     ]
    }
   ],
   "source": [
    "def final_amt(p, n, r, t):\n",
    "    \"\"\" \n",
    "    Apply compound Interest formula for p to produce the final amount\n",
    "    \"\"\"\n",
    "\n",
    "    a = p * (1 + r/n) ** (n*t)\n",
    "    return a\n",
    "toInvest = float(input('how much you want to invest?'))\n",
    "fnl = final_amt(toInvest, 0.08, 12, 5)\n",
    "print(\"At the end of the period you will have\", fnl)"
   ]
  },
  {
   "cell_type": "code",
   "execution_count": null,
   "metadata": {},
   "outputs": [],
   "source": [
    "def make_window(colr, ttle):\n",
    "    \"\"\" \n",
    "    Set up the window withe the given background color and title.\n",
    "    Returns the new window\n",
    "    \"\"\"\n",
    "    w = turtle.Screen()\n",
    "    w.bgcolor(colr)\n",
    "    w.title(ttle)\n",
    "    return w\n",
    "def make_turtle(colr, sz):\n",
    "    \"\"\" \n",
    "    Set up a turtle withe the given color and pensize\n",
    "    Returns  the new turtle\n",
    "    \"\"\"\n",
    "    t = turtle.Turtle()\n",
    "    t.color(colr)\n",
    "    t.pensize(sz)\n",
    "    return t\n",
    "wn = make_window(\"lightgreen\", \"Tess and Alex Dancing\")\n",
    "tess = make_turtle(\"hotpink\", 5)\n",
    "alex = make_turtle(\"black\", 1)\n",
    "dave = make_turtle(\"yellow\", 2)"
   ]
  },
  {
   "cell_type": "code",
   "execution_count": 65,
   "metadata": {},
   "outputs": [
    {
     "data": {
      "text/plain": [
       "<turtle._Screen at 0x7fd7582e1250>"
      ]
     },
     "execution_count": 65,
     "metadata": {},
     "output_type": "execute_result"
    }
   ],
   "source": [
    "make_window(\"red\", \"alex\" )"
   ]
  },
  {
   "cell_type": "markdown",
   "metadata": {},
   "source": [
    "### 4.9 Exercises \n",
    "1. Write a void (non-fruitful) function to draw a square. Use it in a program to draw the image\n",
    "shown below. Assume each side is 20 units. (Hint: notice that the turtle has already moved away\n",
    "from the ending point of the last square when the program ends.)"
   ]
  },
  {
   "cell_type": "code",
   "execution_count": null,
   "metadata": {},
   "outputs": [],
   "source": [
    "import turtle\n",
    "\n",
    "def draw_square(t, sz):\n",
    "    \"\"\"Function for turtle 't' to draw a square of size 'sz'.\"\"\"\n",
    "    for i in range(4):  # A square has four sides\n",
    "        t.forward(sz)\n",
    "        t.left(90)  # Turning the turtle by 90 degrees to make a square\n",
    "\n",
    "def move_turtle(t, distance, angle=0):\n",
    "    \"\"\"Function to move turtle 't' forward by 'distance' and turn by 'angle'.\"\"\"\n",
    "    t.penup()  # Pull the pen up – no drawing when moving.\n",
    "    t.forward(distance)\n",
    "    t.right(angle)\n",
    "    t.pendown()  # Put the pen down to start drawing.\n",
    "\n",
    "# Setting up the screen\n",
    "wn = turtle.Screen()\n",
    "wn.bgcolor(\"lightgreen\")\n",
    "wn.title(\"Draw Squares\")\n",
    "\n",
    "# Creating the turtle\n",
    "alex = turtle.Turtle()\n",
    "alex.color(\"hotpink\")\n",
    "alex.pensize(5)\n",
    "\n",
    "# Initial square size\n",
    "size = 20\n",
    "\n",
    "# Drawing and spacing out the squares\n",
    "for i in range(5):  # Suppose you want to draw 5 squares\n",
    "    draw_square(alex, size)\n",
    "    # Move the turtle to the right starting position for the next square\n",
    "    move_turtle(alex, size + 10)  # Assuming you want a gap of 10 units\n",
    "    size = 20  # Increase the size for the next square\n",
    "\n",
    "# Keep the window open until it's closed by the user\n",
    "wn.mainloop()\n"
   ]
  },
  {
   "cell_type": "markdown",
   "metadata": {},
   "source": [
    "2. Write a program to draw this. Assume the innermost square is 20 units per side, and each\n",
    "successive square is 20 units bigger, per side, than the one inside it."
   ]
  },
  {
   "cell_type": "code",
   "execution_count": 47,
   "metadata": {},
   "outputs": [],
   "source": [
    "# Import the module\n",
    "import turtle\n",
    "\n",
    "# Draw a square of a given size\n",
    "def draw_square(t, sz):\n",
    "    \"\"\"Function to make turtle t draw a square of sz side length.\"\"\"\n",
    "    for i in range(4):\n",
    "        t.forward(sz)\n",
    "        t.left(90)\n",
    "\n",
    "# Make the canvas screen\n",
    "wn = turtle.Screen()\n",
    "wn.bgcolor(\"lightgreen\")\n",
    "wn.title(\"Nested Squares\")\n",
    "\n",
    "# Create a turtle and set its attributes\n",
    "alex = turtle.Turtle()\n",
    "alex.color(\"hotpink\")\n",
    "alex.pensize(5)\n",
    "\n",
    "# Draw nested squares\n",
    "size = 20  # Initial size of the smallest square\n",
    "increment = 20  # Increment size for each larger square\n",
    "for i in range(5):  # Number of squares\n",
    "    # Move turtle to the new starting point\n",
    "    alex.penup()\n",
    "    alex.goto(size)  # Centering the square\n",
    "    alex.pendown()\n",
    "    draw_square(alex, size)\n",
    "    size += increment  # Increase the size for the next square\n",
    "\n",
    "# End the program when the user closes the window\n",
    "wn.mainloop()"
   ]
  },
  {
   "cell_type": "code",
   "execution_count": 49,
   "metadata": {},
   "outputs": [],
   "source": [
    "import turtle\n",
    "\n",
    "def draw_square(t, sz):\n",
    "    \"\"\"Function to make turtle t draw a square of sz side length.\"\"\"\n",
    "    for i in range(4):\n",
    "        t.forward(sz)\n",
    "        t.left(90)\n",
    "\n",
    "def draw_nested_squares(t, initial_size, increment, num_squares):\n",
    "    \"\"\"Draw nested squares centered on the same point.\"\"\"\n",
    "    for i in range(num_squares):\n",
    "        # Move turtle to the new starting point\n",
    "        t.penup()\n",
    "        t.goto(-initial_size / 2, initial_size / 2)  # Centering the square\n",
    "        t.pendown()\n",
    "        draw_square(t, initial_size)\n",
    "        initial_size += increment  # Increase the size for the next square\n",
    "\n",
    "# Set up the window and turtle\n",
    "wn = turtle.Screen()\n",
    "wn.bgcolor(\"lightgreen\")\n",
    "wn.title(\"Nested Squares\")\n",
    "\n",
    "alex = turtle.Turtle()\n",
    "alex.color(\"hotpink\")\n",
    "alex.pensize(5)\n",
    "\n",
    "# Draw nested squares\n",
    "draw_nested_squares(alex, 20, 20, 5)  # Draw 5 nested squares\n",
    "\n",
    "wn.mainloop()  # Wait for the user to close the window\n"
   ]
  },
  {
   "cell_type": "code",
   "execution_count": null,
   "metadata": {},
   "outputs": [],
   "source": [
    "import turtle\n",
    "scrn = turtle.Screen()\n",
    "scrn.screensize(500, 500)\n",
    "scrn.bgcolor('lightgreen')\n",
    "mike = turtle.Turtle()\n",
    "mike.shape('turtle')\n",
    "mike.color('hotpink')\n",
    "mike.pensize(5)\n",
    "length = [20, 40, 60, 80, 100]\n",
    "\n",
    "def square(y):\n",
    "    x=-y/2\n",
    "    mike.penup()\n",
    "    mike.goto(x, y/2)\n",
    "    mike.pendown()\n",
    "    for side in range(4):\n",
    "        mike.forward(y)\n",
    "        mike.right(90)\n",
    "\n",
    "for num in length:\n",
    "    square(num)\n",
    "\n",
    "turtle.Screen().exitonclick()\n"
   ]
  },
  {
   "cell_type": "code",
   "execution_count": null,
   "metadata": {},
   "outputs": [],
   "source": [
    "import turtle\n",
    "\n",
    "def draw_square(t, sz):\n",
    "    \"\"\"Function to make turtle t draw a square of sz side length.\"\"\"\n",
    "    for i in range(4):\n",
    "        t.forward(sz)\n",
    "        t.left(90)\n",
    "\n",
    "def draw_rotating_nested_squares(t, initial_size, increment, num_squares, rotation_angle):\n",
    "    \"\"\"Draw nested squares that are rotated slightly from each other.\"\"\"\n",
    "    for i in range(num_squares):\n",
    "        # Move turtle to the new starting point\n",
    "        t.penup()\n",
    "        t.goto(-initial_size / 2, initial_size / 2)  # Centering the square\n",
    "        t.pendown()\n",
    "        draw_square(t, initial_size)\n",
    "        initial_size += increment  # Increase the size for the next square\n",
    "        # Rotate the turtle for the next square\n",
    "        t.right(rotation_angle)\n",
    "\n",
    "# Set up the window and turtle\n",
    "wn = turtle.Screen()\n",
    "wn.bgcolor(\"lightgreen\")\n",
    "wn.title(\"Rotating Nested Squares\")\n",
    "\n",
    "alex = turtle.Turtle()\n",
    "alex.color(\"hotpink\")\n",
    "alex.pensize(3)\n",
    "\n",
    "# Draw nested, rotating squares\n",
    "draw_rotating_nested_squares(alex, 20, 20, 5, 20)  # Adjust '20' to change the rotation angle\n",
    "\n",
    "wn.mainloop()  # Wait for the user to close the window\n"
   ]
  },
  {
   "cell_type": "code",
   "execution_count": null,
   "metadata": {},
   "outputs": [],
   "source": [
    "import turtle\n",
    "cav = turtle.Screen()\n",
    "cav.bgcolor(\"lightblue\")\n",
    "cav.title(\"Alex is dancing too much!\")\n",
    "\n",
    "alex = turtle.Turtle()\n",
    "alex.color(\"hotpink\")\n",
    "\n"
   ]
  },
  {
   "cell_type": "markdown",
   "metadata": {},
   "source": [
    "3. Write a void function draw_poly(t, n, sz) which makes a turtle draw a regular polygon.\n",
    "When called with draw_poly(tess, 8, 50), it will draw a shape like this:"
   ]
  },
  {
   "cell_type": "code",
   "execution_count": 67,
   "metadata": {},
   "outputs": [],
   "source": [
    "import turtle\n",
    "\n",
    "def draw_poly(t, n, sz):\n",
    "    \"\"\"Function to make turtle t draw a square of sz side length.\"\"\"\n",
    "    for i in range(n):\n",
    "        turtle.forward(n) \n",
    "        turtle.right(360 / n) \n",
    "    size = sz  \n",
    "    cav = turtle.Screen()\n",
    "    cav.bgcolor(\"lightgreen\")\n",
    "    cav.title(\"Alex is dancing too much!\")\n",
    "\n",
    "    alex = turtle.Turtle()\n",
    "    alex.color(\"hotpink\")\n",
    "    alex.pensize(5)"
   ]
  },
  {
   "cell_type": "code",
   "execution_count": 69,
   "metadata": {},
   "outputs": [],
   "source": [
    "draw_poly(tess, 8, 50)"
   ]
  },
  {
   "cell_type": "code",
   "execution_count": 72,
   "metadata": {},
   "outputs": [],
   "source": [
    "import turtle\n",
    "\n",
    "def draw_poly(t, n, sz):\n",
    "    \"\"\"Function to make turtle t draw a regular polygon with n sides of length sz.\"\"\"\n",
    "    for i in range(n):\n",
    "        t.forward(sz)\n",
    "        t.right(360 / n)\n",
    "\n",
    "# Setup the window and turtle\n",
    "cav = turtle.Screen()\n",
    "cav.bgcolor(\"lightgreen\")\n",
    "cav.title(\"Alex is drawing polygons!\")\n",
    "\n",
    "alex = turtle.Turtle()\n",
    "alex.color(\"hotpink\")\n",
    "alex.pensize(5)\n",
    "\n",
    "# Draw a regular polygon with 8 sides of length 50\n",
    "draw_poly(alex, 8, 50)\n",
    "\n",
    "cav.mainloop()  # Wait for the user to close the window\n"
   ]
  },
  {
   "cell_type": "markdown",
   "metadata": {},
   "source": [
    "# Chapter 5: Conditionals"
   ]
  },
  {
   "cell_type": "code",
   "execution_count": 73,
   "metadata": {},
   "outputs": [
    {
     "data": {
      "text/plain": [
       "bool"
      ]
     },
     "execution_count": 73,
     "metadata": {},
     "output_type": "execute_result"
    }
   ],
   "source": [
    "type(True)"
   ]
  },
  {
   "cell_type": "code",
   "execution_count": 74,
   "metadata": {},
   "outputs": [
    {
     "name": "stdout",
     "output_type": "stream",
     "text": [
      "X is an even number\n"
     ]
    }
   ],
   "source": [
    "if x % 2 ==0:\n",
    "    print(\"X is an even number\")\n",
    "else:\n",
    "    print(\"X is an odd number\")"
   ]
  },
  {
   "cell_type": "code",
   "execution_count": 82,
   "metadata": {},
   "outputs": [
    {
     "name": "stdout",
     "output_type": "stream",
     "text": [
      "The square root of  10 is 3.1622776601683795\n"
     ]
    }
   ],
   "source": [
    "import math\n",
    "x = 10\n",
    "if x < 0:\n",
    "    print(\"The negative number \", x, \" is not valid\")\n",
    "    x = 42\n",
    "    print(\"I have decided to use the number 42 instead\")\n",
    "print(\"The square root of \", x, \"is\", math.sqrt(x))"
   ]
  },
  {
   "cell_type": "code",
   "execution_count": 83,
   "metadata": {},
   "outputs": [
    {
     "name": "stdout",
     "output_type": "stream",
     "text": [
      "10\n"
     ]
    }
   ],
   "source": [
    "print(x)"
   ]
  },
  {
   "cell_type": "code",
   "execution_count": 84,
   "metadata": {},
   "outputs": [
    {
     "name": "stdout",
     "output_type": "stream",
     "text": [
      "x is a positive single digit!\n"
     ]
    }
   ],
   "source": [
    "x = 8\n",
    "if 0 < x:\n",
    "    if x < 10:\n",
    "        print(\"x is a positive single digit!\")"
   ]
  },
  {
   "cell_type": "code",
   "execution_count": 85,
   "metadata": {},
   "outputs": [
    {
     "name": "stdout",
     "output_type": "stream",
     "text": [
      "X is a positive single digit!\n"
     ]
    }
   ],
   "source": [
    "x = 8\n",
    "if 0 < x and x < 10:\n",
    "    print(\"X is a positive single digit!\")"
   ]
  },
  {
   "cell_type": "code",
   "execution_count": 88,
   "metadata": {},
   "outputs": [],
   "source": [
    "def print_square_root(x):\n",
    "    if x < 0:\n",
    "        print(\"Positive number only, please\")\n",
    "        return\n",
    "    result = x**0.5\n",
    "    print(\"The Square root of\", x, \"is\", result)"
   ]
  },
  {
   "cell_type": "code",
   "execution_count": 89,
   "metadata": {},
   "outputs": [
    {
     "name": "stdout",
     "output_type": "stream",
     "text": [
      "The Square root of 49 is 7.0\n"
     ]
    }
   ],
   "source": [
    "print_square_root(49)"
   ]
  },
  {
   "cell_type": "code",
   "execution_count": null,
   "metadata": {},
   "outputs": [],
   "source": [
    "import turtle\n",
    "xs = [48, 117, 200, 240, 160, 260, 220]\n",
    "\n",
    "def draw_bar(t, height):\n",
    "    t.left(90)\n",
    "    t.forward(height)\n",
    "    t.right(40)\n",
    "    t.forward(40)\n",
    "    t.right(90)\n",
    "    t.forward(height)\n",
    "    t.left(90)\n",
    "    t.forward(10)\n",
    "\n",
    "for v in xs:\n",
    "    draw_bar(tess, v)\n",
    "\n",
    "\n"
   ]
  },
  {
   "cell_type": "code",
   "execution_count": 106,
   "metadata": {},
   "outputs": [
    {
     "ename": "",
     "evalue": "",
     "output_type": "error",
     "traceback": [
      "\u001b[1;31mThe Kernel crashed while executing code in the current cell or a previous cell. \n",
      "\u001b[1;31mPlease review the code in the cell(s) to identify a possible cause of the failure. \n",
      "\u001b[1;31mClick <a href='https://aka.ms/vscodeJupyterKernelCrash'>here</a> for more info. \n",
      "\u001b[1;31mView Jupyter <a href='command:jupyter.viewOutput'>log</a> for further details."
     ]
    }
   ],
   "source": [
    "import turtle\n",
    "\n",
    "# Create a function to draw a single bar\n",
    "def draw_bar(t, height):\n",
    "    t.penup()\n",
    "    t.begin_fill()  # Start filling the color inside the bar, if needed\n",
    "    t.left(90)\n",
    "    t.forward(height)  # Draw the side of the bar\n",
    "    t.write(\" \" + str(height))  # Write the height next to the bar\n",
    "    t.right(90)\n",
    "    t.forward(40)  # Width of the bar, move to the right\n",
    "    t.right(90)\n",
    "    t.forward(height)  # Draw the other side of the bar\n",
    "    t.left(90)\n",
    "    t.end_fill()  # End filling the bar\n",
    "    t.forward(10)  # Space between bars\n",
    "    t.pendown()\n",
    "\n",
    "# Create a turtle screen\n",
    "wn = turtle.Screen()\n",
    "wn.bgcolor(\"lightgreen\")\n",
    "\n",
    "# Create a turtle named tess\n",
    "tess = turtle.Turtle()\n",
    "tess.color(\"blue\", \"red\")  # Set the pen color and fill color\n",
    "tess.pensize(3)\n",
    "\n",
    "# Draw a bar for each value in xs\n",
    "for v in xs:\n",
    "    draw_bar(tess, v)\n",
    "\n",
    "# Wait for the user to end the program\n",
    "wn.mainloop()"
   ]
  },
  {
   "cell_type": "markdown",
   "metadata": {},
   "source": [
    "### Exercises"
   ]
  },
  {
   "cell_type": "markdown",
   "metadata": {},
   "source": [
    "1. Assume the days of the week are numbered 0,1,2,3,4,5,6 from Sunday to Saturday. Write a\n",
    "function which is given the day number, and it returns the day name (a string)."
   ]
  },
  {
   "cell_type": "code",
   "execution_count": 17,
   "metadata": {},
   "outputs": [],
   "source": [
    "def day_num(n):\n",
    "    days = {\n",
    "    0: \"Sunday\",\n",
    "    1: \"Monday\",\n",
    "    2: \"Tuesday\",\n",
    "    3: \"Wednesday\",\n",
    "    4: \"Thursday\",\n",
    "    5: \"Friday\",\n",
    "    6: \"Saturday\"\n",
    "}\n",
    "    if n in range(0,6):\n",
    "        return days[n]\n",
    "    else:\n",
    "        message = \"Invalid Input\"\n",
    "        return message"
   ]
  },
  {
   "cell_type": "code",
   "execution_count": 18,
   "metadata": {},
   "outputs": [
    {
     "name": "stdout",
     "output_type": "stream",
     "text": [
      "Tuesday\n"
     ]
    }
   ],
   "source": [
    "print(day_num(2))"
   ]
  },
  {
   "cell_type": "markdown",
   "metadata": {},
   "source": [
    "2. You go on a wonderful holiday (perhaps to jail, if you don’t like happy exercises) leaving on\n",
    "day number 3 (a Wednesday). You return home after 137 sleeps. Write a general version of the\n",
    "program which asks for the starting day number, and the length of your stay, and it will tell\n",
    "you the name of day of the week you will return on."
   ]
  },
  {
   "cell_type": "code",
   "execution_count": 19,
   "metadata": {},
   "outputs": [
    {
     "name": "stdout",
     "output_type": "stream",
     "text": [
      "You will return on a Monday\n"
     ]
    }
   ],
   "source": [
    "# Function to convert day number to day name\n",
    "def number_to_day(number):\n",
    "    days = [\"Monday\", \"Tuesday\", \"Wednesday\", \"Thursday\", \"Friday\", \"Saturday\", \"Sunday\"]\n",
    "    # Return the day name corresponding to the day number\n",
    "    return days[number % 7]  # Use modulus to cycle through days\n",
    "\n",
    "# Main program starts here\n",
    "def main():\n",
    "    # Ask for the starting day number and the length of stay\n",
    "    start_day = int(input(\"Enter the starting day number (0 for Monday, 1 for Tuesday, ... 6 for Sunday): \"))\n",
    "    length_of_stay = int(input(\"Enter the length of your stay (in days): \"))\n",
    "\n",
    "    # Calculate return day number\n",
    "    return_day_number = (start_day + length_of_stay) % 7\n",
    "\n",
    "    # Convert return day number to return day name\n",
    "    return_day_name = number_to_day(return_day_number)\n",
    "\n",
    "    # Display the result\n",
    "    print(\"You will return on a\", return_day_name)\n",
    "\n",
    "# Call the main function\n",
    "if __name__ == \"__main__\":\n",
    "    main()\n"
   ]
  },
  {
   "cell_type": "markdown",
   "metadata": {},
   "source": [
    "6. Write a function which is given an exam mark, and it returns a string — the grade for that\n",
    "mark — according to this scheme:\n",
    "                Mark Grade\n",
    "                >= 75 First\n",
    "                [70-75) Upper Second\n",
    "                [60-70) Second\n",
    "                [50-60) Third\n",
    "                [45-50) F1 Supp\n",
    "                [40-45) F2\n",
    "                < 40 F3\n",
    "The square and round brackets denote closed and open intervals. A closed interval includes the\n",
    "number, and open interval excludes it. So 39.99999 gets grade F3, but 40 gets grade F2. Assume\n",
    "Chapter 5: Conditionals 92\n",
    "xs = [83, 75, 74.9, 70, 69.9, 65, 60, 59.9, 55, 50, 49.9, 45, 44.9, 40, 39.9, 2, 0]\n",
    "Test your function by printing the mark and the grade for all the elements in this list."
   ]
  },
  {
   "cell_type": "code",
   "execution_count": 20,
   "metadata": {},
   "outputs": [],
   "source": [
    "def grade(g):\n",
    "    if g >= 75:\n",
    "        print(\"First\")\n",
    "    elif g >= 70:\n",
    "        print(\"Upper Second\")\n",
    "    elif g >= 60:\n",
    "        print(\"Second\")\n",
    "    elif g >= 50:\n",
    "        print(\"Third\")\n",
    "    elif g >= 45:\n",
    "        print(\"F1 Supp\")\n",
    "    elif g >= 40:\n",
    "        print(\"F2\")\n",
    "    else:\n",
    "        print(\"F3\")"
   ]
  },
  {
   "cell_type": "code",
   "execution_count": 21,
   "metadata": {},
   "outputs": [
    {
     "name": "stdout",
     "output_type": "stream",
     "text": [
      "Second\n"
     ]
    }
   ],
   "source": [
    "grade(68)"
   ]
  },
  {
   "cell_type": "code",
   "execution_count": 30,
   "metadata": {},
   "outputs": [
    {
     "name": "stdout",
     "output_type": "stream",
     "text": [
      "First\n",
      "First\n",
      "Upper Second\n",
      "Upper Second\n",
      "Second\n",
      "Second\n",
      "Second\n",
      "Third\n",
      "Third\n",
      "Third\n",
      "F1 Supp\n",
      "F1 Supp\n",
      "F2\n",
      "F2\n",
      "F3\n",
      "F3\n",
      "F3\n"
     ]
    }
   ],
   "source": [
    "xs = [83, 75, 74.9, 70, 69.9, 65, 60, 59.9, 55, 50, 49.9, 45, 44.9, 40, 39.9, 2, 0]\n",
    "for i in xs:\n",
    "    grade(i)"
   ]
  },
  {
   "cell_type": "code",
   "execution_count": 29,
   "metadata": {},
   "outputs": [
    {
     "name": "stdout",
     "output_type": "stream",
     "text": [
      "First\n",
      "The grade for 83 is None\n",
      "First\n",
      "The grade for 75 is None\n",
      "Upper Second\n",
      "The grade for 74.9 is None\n",
      "Upper Second\n",
      "The grade for 70 is None\n",
      "Second\n",
      "The grade for 69.9 is None\n",
      "Second\n",
      "The grade for 65 is None\n",
      "Second\n",
      "The grade for 60 is None\n",
      "Third\n",
      "The grade for 59.9 is None\n",
      "Third\n",
      "The grade for 55 is None\n",
      "Third\n",
      "The grade for 50 is None\n",
      "F1 Supp\n",
      "The grade for 49.9 is None\n",
      "F1 Supp\n",
      "The grade for 45 is None\n",
      "F2\n",
      "The grade for 44.9 is None\n",
      "F2\n",
      "The grade for 40 is None\n",
      "F3\n",
      "The grade for 39.9 is None\n",
      "F3\n",
      "The grade for 2 is None\n",
      "F3\n",
      "The grade for 0 is None\n"
     ]
    }
   ],
   "source": [
    "xs = [83, 75, 74.9, 70, 69.9, 65, 60, 59.9, 55, 50, 49.9, 45, 44.9, 40, 39.9, 2, 0]\n",
    "for score in xs:\n",
    "    print(\"The grade for\", score, \"is\", grade(score))\n",
    "\n"
   ]
  },
  {
   "cell_type": "markdown",
   "metadata": {},
   "source": [
    "7. Modify the turtle bar chart program so that the pen is up for the small gaps between each bar."
   ]
  },
  {
   "cell_type": "code",
   "execution_count": null,
   "metadata": {},
   "outputs": [],
   "source": [
    "import turtle\n",
    "xs = [48, 117, 200, 240, 160, 260, 220]\n",
    "# Create a function to draw a single bar\n",
    "def draw_bar(t, height):\n",
    "    t.penup()\n",
    "    t.begin_fill()  # Start filling the color inside the bar, if needed\n",
    "    t.left(90)\n",
    "    t.forward(height)  # Draw the side of the bar\n",
    "    t.write(\" \" + str(height))  # Write the height next to the bar\n",
    "    t.right(90)\n",
    "    t.forward(40)  # Width of the bar, move to the right\n",
    "    t.right(90)\n",
    "    t.forward(height)  # Draw the other side of the bar\n",
    "    t.left(90)\n",
    "    t.end_fill()  # End filling the bar\n",
    "    t.forward(10)  # Space between bars\n",
    "    t.pendown()\n",
    "\n",
    "# Create a turtle screen\n",
    "wn = turtle.Screen()\n",
    "wn.bgcolor(\"lightgreen\")\n",
    "\n",
    "# Create a turtle named tess\n",
    "tess = turtle.Turtle()\n",
    "tess.color(\"blue\", \"red\")  # Set the pen color and fill color\n",
    "tess.pensize(3)\n",
    "\n",
    "# Draw a bar for each value in xs\n",
    "for v in xs:\n",
    "    draw_bar(tess, v)\n",
    "\n",
    "# Wait for the user to end the program\n",
    "wn.mainloop()"
   ]
  },
  {
   "cell_type": "markdown",
   "metadata": {},
   "source": [
    "8. Modify the turtle bar chart program so that the bar for any value of 200 or more is filled with\n",
    "red, values between [100 and 200) are filled with yellow, and bars representing values less than\n",
    "100 are filled with green."
   ]
  },
  {
   "cell_type": "code",
   "execution_count": 38,
   "metadata": {},
   "outputs": [],
   "source": [
    "import turtle\n",
    "xs = [48, 117, 200, 240, 160, 260, 220]\n",
    "# Create a function to draw a single bar\n",
    "def draw_bar(t, height):\n",
    "    t.penup()\n",
    "    t.begin_fill()  # Start filling the color inside the bar, if needed\n",
    "    t.left(90)\n",
    "    t.forward(height)  # Draw the side of the bar\n",
    "    t.write(\" \" + str(height))  # Write the height next to the bar\n",
    "    t.right(90)\n",
    "    t.forward(40)  # Width of the bar, move to the right\n",
    "    t.right(90)\n",
    "    t.forward(height)  # Draw the other side of the bar\n",
    "    t.left(90)\n",
    "    t.end_fill()  # End filling the bar\n",
    "    t.forward(10)  # Space between bars\n",
    "    t.pendown()\n",
    "\n",
    "# Create a turtle screen\n",
    "wn = turtle.Screen()\n",
    "wn.bgcolor(\"lightgreen\")\n",
    "\n",
    "# Create a turtle named tess\n",
    "tess = turtle.Turtle()\n",
    "#tess.color(\"blue\", \"red\")  # Set the pen color and fill color\n",
    "tess.pensize(3)\n",
    "\n",
    "# Draw a bar for each value in xs\n",
    "for v in xs:\n",
    "    if v > 200:\n",
    "        tess.color(\"red\")\n",
    "    elif v >=100:\n",
    "        tess.color(\"yellow\")\n",
    "    else:\n",
    "        tess.color(\"green\")\n",
    "    draw_bar(tess, v)\n",
    "\n",
    "# Wait for the user to end the program\n",
    "wn.mainloop()"
   ]
  },
  {
   "cell_type": "markdown",
   "metadata": {},
   "source": [
    "9. In the turtle bar chart program, what do you expect to happen if one or more of the data values\n",
    "in the list is negative? Try it out. Change the program so that when it prints the text value for\n",
    "the negative bars, it puts the text below the bottom of the bar."
   ]
  },
  {
   "cell_type": "code",
   "execution_count": 40,
   "metadata": {},
   "outputs": [],
   "source": [
    "import turtle\n",
    "xs = [48, 117, -200, 240, 160, 260, 220]\n",
    "# Create a function to draw a single bar\n",
    "def draw_bar(t, height):\n",
    "    t.penup()\n",
    "    t.begin_fill()  # Start filling the color inside the bar, if needed\n",
    "    t.left(90)\n",
    "    t.forward(height)  # Draw the side of the bar\n",
    "    t.write(\" \" + str(height))  # Write the height next to the bar\n",
    "    t.right(90)\n",
    "    t.forward(40)  # Width of the bar, move to the right\n",
    "    t.right(90)\n",
    "    t.forward(height)  # Draw the other side of the bar\n",
    "    t.left(90)\n",
    "    t.end_fill()  # End filling the bar\n",
    "    t.forward(10)  # Space between bars\n",
    "    t.pendown()\n",
    "\n",
    "# Create a turtle screen\n",
    "wn = turtle.Screen()\n",
    "wn.bgcolor(\"lightgreen\")\n",
    "\n",
    "# Create a turtle named tess\n",
    "tess = turtle.Turtle()\n",
    "#tess.color(\"blue\", \"red\")  # Set the pen color and fill color\n",
    "tess.pensize(3)\n",
    "\n",
    "# Draw a bar for each value in xs\n",
    "for v in xs:\n",
    "    if v > 200:\n",
    "        tess.color(\"red\")\n",
    "    elif v >=100:\n",
    "        tess.color(\"yellow\")\n",
    "    else:\n",
    "        tess.color(\"green\")\n",
    "    draw_bar(tess, v)\n",
    "\n",
    "# Wait for the user to end the program\n",
    "wn.mainloop()"
   ]
  },
  {
   "cell_type": "markdown",
   "metadata": {},
   "source": [
    "10. Write a function find_hypot which, given the length of two sides of a right-angled triangle,\n",
    "returns the length of the hypotenuse. (Hint: x ** 0.5 will return the square root.)"
   ]
  },
  {
   "cell_type": "code",
   "execution_count": 27,
   "metadata": {},
   "outputs": [],
   "source": [
    "def find_hypot(a, b):\n",
    "    c = ((a**2) + (b**2))**0.5\n",
    "    return c"
   ]
  },
  {
   "cell_type": "code",
   "execution_count": 28,
   "metadata": {},
   "outputs": [
    {
     "data": {
      "text/plain": [
       "5.0"
      ]
     },
     "execution_count": 28,
     "metadata": {},
     "output_type": "execute_result"
    }
   ],
   "source": [
    "find_hypot(3,4)"
   ]
  },
  {
   "cell_type": "markdown",
   "metadata": {},
   "source": [
    "11. Write a function is_rightangled which, given the length of three sides of a triangle, will\n",
    "determine whether the triangle is right-angled. Assume that the third argument to the function\n",
    "is always the longest side. It will return True if the triangle is right-angled, or False otherwise.\n",
    "Hint: Floating point arithmetic is not always exactly accurate, so it is not safe to test floating\n",
    "point numbers for equality. If a good programmer wants to know whether x is equal or close\n",
    "enough to y, they would probably code it up as:"
   ]
  },
  {
   "cell_type": "code",
   "execution_count": 45,
   "metadata": {},
   "outputs": [],
   "source": [
    "def is_rightangled(a, b, c):\n",
    "    if c > a and c > b:\n",
    "        print(\"The triangle is right angled!\")\n",
    "    else:\n",
    "        print(\"The triangle is not right angled!\")\n"
   ]
  },
  {
   "cell_type": "code",
   "execution_count": 46,
   "metadata": {},
   "outputs": [
    {
     "name": "stdout",
     "output_type": "stream",
     "text": [
      "The triangle is right angled!\n"
     ]
    }
   ],
   "source": [
    "is_rightangled(3, 4, 5)"
   ]
  },
  {
   "cell_type": "code",
   "execution_count": 47,
   "metadata": {},
   "outputs": [
    {
     "name": "stdout",
     "output_type": "stream",
     "text": [
      "The triangle is not right angled!\n"
     ]
    }
   ],
   "source": [
    "is_rightangled(5, 4, 5)"
   ]
  },
  {
   "cell_type": "markdown",
   "metadata": {},
   "source": [
    "# Chapter 6: Fruitful Functions"
   ]
  },
  {
   "cell_type": "code",
   "execution_count": 48,
   "metadata": {},
   "outputs": [],
   "source": [
    "def area(radius):\n",
    "    a = 3.14159 * radius**2\n",
    "    return a\n",
    " "
   ]
  },
  {
   "cell_type": "code",
   "execution_count": 49,
   "metadata": {},
   "outputs": [
    {
     "data": {
      "text/plain": [
       "314.159"
      ]
     },
     "execution_count": 49,
     "metadata": {},
     "output_type": "execute_result"
    }
   ],
   "source": [
    "area(10)"
   ]
  },
  {
   "cell_type": "code",
   "execution_count": 50,
   "metadata": {},
   "outputs": [],
   "source": [
    "def is_divisible(x, y):\n",
    "    return x %y == 0"
   ]
  },
  {
   "cell_type": "code",
   "execution_count": 51,
   "metadata": {},
   "outputs": [
    {
     "data": {
      "text/plain": [
       "False"
      ]
     },
     "execution_count": 51,
     "metadata": {},
     "output_type": "execute_result"
    }
   ],
   "source": [
    "is_divisible(6, 4)"
   ]
  },
  {
   "cell_type": "code",
   "execution_count": 52,
   "metadata": {},
   "outputs": [
    {
     "data": {
      "text/plain": [
       "True"
      ]
     },
     "execution_count": 52,
     "metadata": {},
     "output_type": "execute_result"
    }
   ],
   "source": [
    "is_divisible(6, 3)"
   ]
  },
  {
   "cell_type": "code",
   "execution_count": 53,
   "metadata": {},
   "outputs": [],
   "source": [
    "def absolute_value(x):\n",
    "    if x < 0:\n",
    "        return -x\n",
    "    else:\n",
    "        return x    "
   ]
  },
  {
   "cell_type": "code",
   "execution_count": 59,
   "metadata": {},
   "outputs": [],
   "source": [
    "import sys\n",
    "def test(did_pass):\n",
    "    \"\"\" Print the result of the test. \"\"\"\n",
    "    linenum = sys._getframe(1).f_lineno # Get the callers line number\n",
    "\n",
    "    if did_pass:\n",
    "        msg = \"Test at line {0} ok.\".format(linenum)\n",
    "    else:\n",
    "        msg = \"Test at line {0} FAILED\".format(linenum)\n",
    "    print(msg)"
   ]
  },
  {
   "cell_type": "code",
   "execution_count": 60,
   "metadata": {},
   "outputs": [
    {
     "name": "stdout",
     "output_type": "stream",
     "text": [
      "Test at line 3 ok.\n",
      "Test at line 4 ok.\n",
      "Test at line 5 ok.\n",
      "Test at line 6 ok.\n",
      "Test at line 7 ok.\n"
     ]
    }
   ],
   "source": [
    "def test_suite():\n",
    "    \"\"\" Run the suite of test for code in this module. \"\"\"\n",
    "    test(absolute_value(17) == 17)\n",
    "    test(absolute_value(-17) == 17)\n",
    "    test(absolute_value(0) == 0)\n",
    "    test(absolute_value(3.14) == 3.14)\n",
    "    test(absolute_value(-3.14) == 3.14)\n",
    "  \n",
    "\n",
    "test_suite()"
   ]
  },
  {
   "cell_type": "markdown",
   "metadata": {},
   "source": [
    "# 6.9. Exercises"
   ]
  },
  {
   "cell_type": "markdown",
   "metadata": {},
   "source": [
    "1. The four compass points can be abbreviated by single-letter strings as “N”, “E”, “S”, and “W”.\n",
    "Write a function turn_clockwise that takes one of these four compass points as its parameter,\n",
    "and returns the next compass point in the clockwise direction. Here are some tests that should\n",
    "pass:\n",
    "            1 test(turn_clockwise(\"N\") == \"E\")\n",
    "            2 test(turn_clockwise(\"W\") == \"N\")\n",
    "You might ask “What if the argument to the function is some other value?” For all other cases,\n",
    "the function should return the value None:\n",
    "            1 test(turn_clockwise(42) == None)\n",
    "            2 test(turn_clockwise(\"rubbish\") == None)"
   ]
  },
  {
   "cell_type": "code",
   "execution_count": 80,
   "metadata": {},
   "outputs": [],
   "source": [
    "def turn_clockwise(t):\n",
    "    c = [\"N\", \"E\", \"S\", \"W\"]  # Compass directions\n",
    "    if t in c:\n",
    "        # Find the index of the current direction and compute the index of the next direction\n",
    "        next_index = (c.index(t) + 1) % len(c)\n",
    "        return c[next_index]  # Return the next direction\n",
    "    return None  # Return None if the input is not a valid direction\n"
   ]
  },
  {
   "cell_type": "code",
   "execution_count": 84,
   "metadata": {},
   "outputs": [],
   "source": [
    "def turn_clockwise(t):\n",
    "    c = [\"N\", \"E\", \"S\", \"W\"]\n",
    "    if t in c:\n",
    "        next_index = (c.index(t) + 1) % len(c)\n",
    "        return c[next_index]"
   ]
  },
  {
   "cell_type": "code",
   "execution_count": 85,
   "metadata": {},
   "outputs": [
    {
     "data": {
      "text/plain": [
       "True"
      ]
     },
     "execution_count": 85,
     "metadata": {},
     "output_type": "execute_result"
    }
   ],
   "source": [
    "turn_clockwise(\"N\") == \"E\"\n",
    "turn_clockwise(\"W\") == \"N\""
   ]
  },
  {
   "cell_type": "code",
   "execution_count": 87,
   "metadata": {},
   "outputs": [
    {
     "name": "stdout",
     "output_type": "stream",
     "text": [
      "Test at line 1 ok.\n",
      "Test at line 2 ok.\n",
      "Test at line 3 ok.\n",
      "Test at line 4 ok.\n"
     ]
    }
   ],
   "source": [
    "test(turn_clockwise(\"N\") == \"E\")\n",
    "test(turn_clockwise(\"W\") == \"N\")\n",
    "test(turn_clockwise(42) == None)\n",
    "test(turn_clockwise(\"rubbish\") == None)"
   ]
  },
  {
   "cell_type": "markdown",
   "metadata": {},
   "source": [
    "2. Write a function day_name that converts an integer number 0 to 6 into the name of a day.\n",
    "Assume day 0 is “Sunday”. Once again, return None if the arguments to the function are not\n",
    "valid. Here are some tests that should pass:\n",
    "            1 test(day_name(3) == \"Wednesday\")\n",
    "            2 test(day_name(6) == \"Saturday\")\n",
    "            3 test(day_name(42) == None)"
   ]
  },
  {
   "cell_type": "code",
   "execution_count": 92,
   "metadata": {},
   "outputs": [],
   "source": [
    "def day_name(n):\n",
    "    days = {\n",
    "    0: \"Sunday\",\n",
    "    1: \"Monday\",\n",
    "    2: \"Tuesday\",\n",
    "    3: \"Wednesday\",\n",
    "    4: \"Thursday\",\n",
    "    5: \"Friday\",\n",
    "    6: \"Saturday\"\n",
    "}\n",
    "    if n in range(0,7):\n",
    "        return days[n]\n",
    "    else:\n",
    "        message = \"Invalid Input\"\n",
    "        return message"
   ]
  },
  {
   "cell_type": "code",
   "execution_count": 93,
   "metadata": {},
   "outputs": [
    {
     "name": "stdout",
     "output_type": "stream",
     "text": [
      "Test at line 1 ok.\n",
      "Test at line 2 ok.\n",
      "Test at line 3 FAILED\n"
     ]
    }
   ],
   "source": [
    "test(day_name(3) == \"Wednesday\")\n",
    "test(day_name(6) == \"Saturday\")\n",
    "test(day_name(42) == None)"
   ]
  },
  {
   "cell_type": "code",
   "execution_count": 95,
   "metadata": {},
   "outputs": [
    {
     "name": "stdout",
     "output_type": "stream",
     "text": [
      "Test at line 27 ok.\n",
      "Test at line 28 ok.\n",
      "Test at line 29 ok.\n"
     ]
    }
   ],
   "source": [
    "import sys\n",
    "def day_name(n):\n",
    "    days = {\n",
    "        0: \"Sunday\",\n",
    "        1: \"Monday\",\n",
    "        2: \"Tuesday\",\n",
    "        3: \"Wednesday\",\n",
    "        4: \"Thursday\",\n",
    "        5: \"Friday\",\n",
    "        6: \"Saturday\"\n",
    "    }\n",
    "    if n in range(0, 7):  # Corrected range\n",
    "        return days[n]\n",
    "    else:\n",
    "        return None  # Changed to return None for consistency with your test cases\n",
    "\n",
    "# Define a simple test function\n",
    "def test(condition):\n",
    "    linenum = sys._getframe(1).f_lineno  # Get the caller's line number\n",
    "    if condition:\n",
    "        msg = f\"Test at line {linenum} ok.\"\n",
    "    else:\n",
    "        msg = f\"Test at line {linenum} FAILED.\"\n",
    "    print(msg)\n",
    "\n",
    "# Test cases\n",
    "test(day_name(3) == \"Wednesday\")\n",
    "test(day_name(6) == \"Saturday\")\n",
    "test(day_name(42) == None)\n"
   ]
  },
  {
   "cell_type": "markdown",
   "metadata": {},
   "source": [
    "3. Write the inverse function day_num which is given a day name, and returns its number:\n",
    "            1 test(day_num(\"Friday\") == 5)\n",
    "            2 test(day_num(\"Sunday\") == 0)\n",
    "            3 test(day_num(day_name(3)) == 3)\n",
    "            4 test(day_name(day_num(\"Thursday\")) == \"Thursday\")\n",
    "Once again, if this function is given an invalid argument, it should return None:\n",
    "            1 test(day_num(\"Halloween\") == None)"
   ]
  },
  {
   "cell_type": "code",
   "execution_count": 106,
   "metadata": {},
   "outputs": [],
   "source": [
    "def day_num(dname):\n",
    "    days = {\n",
    "    \"Sunday\": 0,\n",
    "    \"Monday\": 1,\n",
    "    \"Tuesday\": 2,\n",
    "    \"Wednesday\": 3,\n",
    "    \"Thursday\": 4,\n",
    "    \"Friday\": 5,\n",
    "    \"Saturday\": 6\n",
    "    }\n",
    "    return days.get(dname, None)  # Use .get to return None if day_name is not found"
   ]
  },
  {
   "cell_type": "code",
   "execution_count": 108,
   "metadata": {},
   "outputs": [
    {
     "name": "stdout",
     "output_type": "stream",
     "text": [
      "Test at line 1 ok.\n",
      "Test at line 2 ok.\n",
      "Test at line 3 ok.\n",
      "Test at line 4 ok.\n"
     ]
    }
   ],
   "source": [
    "test(day_num(\"Friday\") == 5)\n",
    "test(day_num(\"Sunday\") == 0)\n",
    "test(day_num(day_name(3)) == 3)\n",
    "test(day_name(day_num(\"Thursday\")) == \"Thursday\")"
   ]
  },
  {
   "cell_type": "code",
   "execution_count": 110,
   "metadata": {},
   "outputs": [
    {
     "name": "stdout",
     "output_type": "stream",
     "text": [
      "Test at line 1 ok.\n"
     ]
    }
   ],
   "source": [
    " test(day_num(\"Halloween\") == None)"
   ]
  },
  {
   "cell_type": "markdown",
   "metadata": {},
   "source": [
    "4. Write a function that helps answer questions like ‘“Today is Wednesday. I leave on holiday\n",
    "in 19 days time. What day will that be?”’ So the function must take a day name and a delta\n",
    "argument — the number of days to add — and should return the resulting day name:\n",
    "            1 test(day_add(\"Monday\", 4) == \"Friday\")\n",
    "            2 test(day_add(\"Tuesday\", 0) == \"Tuesday\")\n",
    "            3 test(day_add(\"Tuesday\", 14) == \"Tuesday\")\n",
    "            4 test(day_add(\"Sunday\", 100) == \"Tuesday\")\n",
    "Hint: use the first two functions written above to help you write this one."
   ]
  },
  {
   "cell_type": "code",
   "execution_count": 111,
   "metadata": {},
   "outputs": [],
   "source": [
    "def day_add(today, stay):\n",
    "    today = day_num(today)\n",
    "    day_back = (stay % 7) + today\n",
    "    result = day_name(day_back)\n",
    "    return (result)"
   ]
  },
  {
   "cell_type": "code",
   "execution_count": 112,
   "metadata": {},
   "outputs": [
    {
     "name": "stdout",
     "output_type": "stream",
     "text": [
      "Test at line 1 ok.\n",
      "Test at line 2 ok.\n",
      "Test at line 3 ok.\n",
      "Test at line 4 ok.\n"
     ]
    }
   ],
   "source": [
    "test(day_add(\"Monday\", 4) == \"Friday\")\n",
    "test(day_add(\"Tuesday\", 0) == \"Tuesday\")\n",
    "test(day_add(\"Tuesday\", 14) == \"Tuesday\")\n",
    "test(day_add(\"Sunday\", 100) == \"Tuesday\")"
   ]
  },
  {
   "cell_type": "markdown",
   "metadata": {},
   "source": [
    "5. Can your day_add function already work with negative deltas? For example, -1 would be\n",
    "yesterday, or -7 would be a week ago:\n",
    "            1 test(day_add(\"Sunday\", -1) == \"Saturday\")\n",
    "            2 test(day_add(\"Sunday\", -7) == \"Sunday\")\n",
    "            3 test(day_add(\"Tuesday\", -100) == \"Sunday\")\n",
    "If your function already works, explain why. If it does"
   ]
  },
  {
   "cell_type": "code",
   "execution_count": 113,
   "metadata": {},
   "outputs": [
    {
     "name": "stdout",
     "output_type": "stream",
     "text": [
      "Test at line 1 ok.\n",
      "Test at line 2 ok.\n",
      "Test at line 3 FAILED.\n"
     ]
    }
   ],
   "source": [
    "test(day_add(\"Sunday\", -1) == \"Saturday\")\n",
    "test(day_add(\"Sunday\", -7) == \"Sunday\")\n",
    "test(day_add(\"Tuesday\", -100) == \"Sunday\")"
   ]
  },
  {
   "cell_type": "markdown",
   "metadata": {},
   "source": [
    "6. Write a function days_in_month which takes the name of a month, and returns the number of\n",
    "days in the month. Ignore leap years:\n",
    "        1 test(days_in_month(\"February\") == 28)\n",
    "        2 test(days_in_month(\"December\") == 31)"
   ]
  },
  {
   "cell_type": "code",
   "execution_count": 116,
   "metadata": {},
   "outputs": [],
   "source": [
    "def days_in_month(nmonth):\n",
    "    months = {\n",
    "        \"January\": 31,\n",
    "        \"February\": 28,\n",
    "        \"March\": 31,\n",
    "        \"April\": 30,\n",
    "        \"May\": 31,\n",
    "        \"June\": 30,\n",
    "        \"July\": 31,\n",
    "        \"August\": 31,\n",
    "        \"September\": 30,\n",
    "        \"October\": 31,\n",
    "        \"November\": 30,\n",
    "        \"December\": 31\n",
    "    }\n",
    "    return months.get(nmonth, \"Invalid Month\")  # Returns 'Invalid Month' if month_num is not valid\n"
   ]
  },
  {
   "cell_type": "code",
   "execution_count": 117,
   "metadata": {},
   "outputs": [
    {
     "name": "stdout",
     "output_type": "stream",
     "text": [
      "Test at line 1 ok.\n",
      "Test at line 2 ok.\n"
     ]
    }
   ],
   "source": [
    "test(days_in_month(\"February\") == 28)\n",
    "test(days_in_month(\"December\") == 31)"
   ]
  },
  {
   "cell_type": "markdown",
   "metadata": {},
   "source": [
    "7. Write a function to_secs that converts hours, minutes and seconds to a total number of seconds.\n",
    "Here are some tests that should pass:\n",
    "                1 test(to_secs(2, 30, 10) == 9010)\n",
    "                2 test(to_secs(2, 0, 0) == 7200)\n",
    "                3 test(to_secs(0, 2, 0) == 120)\n",
    "                4 test(to_secs(0, 0, 42) == 42)\n",
    "                5 test(to_secs(0, -10, 10) == -590)\n",
    "8. Extend to_secs so that it can cope with real"
   ]
  },
  {
   "cell_type": "code",
   "execution_count": 131,
   "metadata": {},
   "outputs": [],
   "source": [
    "def to_secs (hr, minu, secs):\n",
    "    secs = hr * 3600 + minu * 60 + secs\n",
    "    return secs"
   ]
  },
  {
   "cell_type": "code",
   "execution_count": 132,
   "metadata": {},
   "outputs": [
    {
     "name": "stdout",
     "output_type": "stream",
     "text": [
      "Test at line 1 ok.\n",
      "Test at line 2 ok.\n",
      "Test at line 3 ok.\n",
      "Test at line 4 ok.\n",
      "Test at line 5 ok.\n"
     ]
    }
   ],
   "source": [
    "test(to_secs(2, 30, 10) == 9010)\n",
    "test(to_secs(2, 0, 0) == 7200)\n",
    "test(to_secs(0, 2, 0) == 120)\n",
    "test(to_secs(0, 0, 42) == 42)\n",
    "test(to_secs(0, -10, 10) == -590)"
   ]
  },
  {
   "cell_type": "code",
   "execution_count": 133,
   "metadata": {},
   "outputs": [
    {
     "data": {
      "text/plain": [
       "9010"
      ]
     },
     "execution_count": 133,
     "metadata": {},
     "output_type": "execute_result"
    }
   ],
   "source": [
    "to_secs(2, 30, 10)"
   ]
  },
  {
   "cell_type": "markdown",
   "metadata": {},
   "source": [
    "8. Extend to_secs so that it can cope with real values as inputs. It should always return an integer\n",
    "number of seconds (truncated towards zero):\n",
    "            1 test(to_secs(2.5, 0, 10.71) == 9010)\n",
    "            2 test(to_secs(2.433,0,0) == 8758)"
   ]
  },
  {
   "cell_type": "code",
   "execution_count": 135,
   "metadata": {},
   "outputs": [],
   "source": [
    "def to_secs (hr, minu, secs):\n",
    "    secs = int(hr * 3600 + minu * 60 + secs)\n",
    "    return secs"
   ]
  },
  {
   "cell_type": "code",
   "execution_count": 136,
   "metadata": {},
   "outputs": [
    {
     "name": "stdout",
     "output_type": "stream",
     "text": [
      "Test at line 1 ok.\n",
      "Test at line 2 ok.\n"
     ]
    }
   ],
   "source": [
    "test(to_secs(2.5, 0, 10.71) == 9010)\n",
    "test(to_secs(2.433,0,0) == 8758)"
   ]
  },
  {
   "cell_type": "markdown",
   "metadata": {},
   "source": [
    "9. Write three functions that are the “inverses” of to_secs:\n",
    "1. hours_in returns the whole integer number of hours represented by a total number of\n",
    "seconds.\n",
    "2. minutes_in returns the whole integer number of left over minutes in a total number of\n",
    "seconds, once the hours have been taken out.\n",
    "3. seconds_in returns the left over seconds represented by a total number of seconds.\n",
    "You may assume that the total number of seconds passed to these functions is an integer. Here\n",
    "are some test cases:\n",
    "        1 test(hours_in(9010) == 2)\n",
    "        2 test(minutes_in(9010) == 30)\n",
    "        3 test(seconds_in(9010) == 10)"
   ]
  },
  {
   "cell_type": "code",
   "execution_count": 148,
   "metadata": {},
   "outputs": [],
   "source": [
    "def hours_in(secs):\n",
    "    return int(secs//3600)"
   ]
  },
  {
   "cell_type": "code",
   "execution_count": 157,
   "metadata": {},
   "outputs": [],
   "source": [
    "def minutes_in(secs):\n",
    "    minu = int((secs%3600//60))\n",
    "    return minu"
   ]
  },
  {
   "cell_type": "code",
   "execution_count": 165,
   "metadata": {},
   "outputs": [],
   "source": [
    "def seconds_in(secs):\n",
    "    sec = int((secs%3600%60))\n",
    "    return sec"
   ]
  },
  {
   "cell_type": "code",
   "execution_count": 166,
   "metadata": {},
   "outputs": [
    {
     "name": "stdout",
     "output_type": "stream",
     "text": [
      "Test at line 1 ok.\n",
      "Test at line 2 ok.\n",
      "Test at line 3 ok.\n"
     ]
    }
   ],
   "source": [
    "test(hours_in(9010) == 2)\n",
    "test(minutes_in(9010) == 30)\n",
    "test(seconds_in(9010) == 10)"
   ]
  },
  {
   "cell_type": "code",
   "execution_count": 147,
   "metadata": {},
   "outputs": [
    {
     "data": {
      "text/plain": [
       "1"
      ]
     },
     "execution_count": 147,
     "metadata": {},
     "output_type": "execute_result"
    }
   ],
   "source": [
    "7%2"
   ]
  },
  {
   "cell_type": "code",
   "execution_count": 159,
   "metadata": {},
   "outputs": [
    {
     "name": "stdout",
     "output_type": "stream",
     "text": [
      "1810\n"
     ]
    },
    {
     "data": {
      "text/plain": [
       "10"
      ]
     },
     "execution_count": 159,
     "metadata": {},
     "output_type": "execute_result"
    }
   ],
   "source": [
    "minu = 9010%3600\n",
    "print(minu)\n",
    "9010%3600%60"
   ]
  },
  {
   "cell_type": "markdown",
   "metadata": {},
   "source": [
    "11. Write a compare function that returns 1 if a > b, 0 if a == b, and -1 if a < b\n",
    "        1 test(compare(5, 4) == 1)\n",
    "        2 test(compare(7, 7) == 0)\n",
    "        3 test(compare(2, 3) == -1)\n",
    "        4 test(compare(42, 1) == 1)"
   ]
  },
  {
   "cell_type": "code",
   "execution_count": 167,
   "metadata": {},
   "outputs": [],
   "source": [
    "def compare(a, b):\n",
    "    if a > b:\n",
    "        return 1\n",
    "    elif a == b:\n",
    "        return 0\n",
    "    elif a < b:\n",
    "        return -1\n",
    "    else:\n",
    "        return False\n"
   ]
  },
  {
   "cell_type": "code",
   "execution_count": 168,
   "metadata": {},
   "outputs": [
    {
     "name": "stdout",
     "output_type": "stream",
     "text": [
      "Test at line 1 ok.\n",
      "Test at line 2 ok.\n",
      "Test at line 3 ok.\n",
      "Test at line 4 ok.\n"
     ]
    },
    {
     "ename": "",
     "evalue": "",
     "output_type": "error",
     "traceback": [
      "\u001b[1;31mThe Kernel crashed while executing code in the current cell or a previous cell. \n",
      "\u001b[1;31mPlease review the code in the cell(s) to identify a possible cause of the failure. \n",
      "\u001b[1;31mClick <a href='https://aka.ms/vscodeJupyterKernelCrash'>here</a> for more info. \n",
      "\u001b[1;31mView Jupyter <a href='command:jupyter.viewOutput'>log</a> for further details."
     ]
    }
   ],
   "source": [
    "test(compare(5, 4) == 1)\n",
    "test(compare(7, 7) == 0)\n",
    "test(compare(2, 3) == -1)\n",
    "test(compare(42, 1) == 1)"
   ]
  },
  {
   "cell_type": "markdown",
   "metadata": {},
   "source": [
    "12. Write a function called hypotenuse that returns the length of the hypotenuse of a right triangle\n",
    "given the lengths of the two legs as parameters:\n",
    "1 test(hypotenuse(3, 4) == 5.0)\n",
    "2 test(hypotenuse(12, 5) == 13.0)\n",
    "3 test(hypotenuse(24, 7) == 25.0)\n",
    "4 test(hypotenuse(9, 12) == 15.0)"
   ]
  },
  {
   "cell_type": "code",
   "execution_count": 5,
   "metadata": {},
   "outputs": [],
   "source": [
    "import sys\n",
    "# Define a simple test function\n",
    "def test(condition):\n",
    "    linenum = sys._getframe(1).f_lineno  # Get the caller's line number\n",
    "    if condition:\n",
    "        msg = f\"Test at line {linenum} ok.\"\n",
    "    else:\n",
    "        msg = f\"Test at line {linenum} FAILED.\"\n",
    "    print(msg)\n"
   ]
  },
  {
   "cell_type": "code",
   "execution_count": 6,
   "metadata": {},
   "outputs": [],
   "source": [
    "def hypotenuse(a, b):\n",
    "    c = ((a**2) + (b**2))**0.5\n",
    "    return c"
   ]
  },
  {
   "cell_type": "code",
   "execution_count": 7,
   "metadata": {},
   "outputs": [
    {
     "name": "stdout",
     "output_type": "stream",
     "text": [
      "Test at line 1 ok.\n",
      "Test at line 2 ok.\n",
      "Test at line 3 ok.\n",
      "Test at line 4 ok.\n"
     ]
    }
   ],
   "source": [
    "test(hypotenuse(3, 4) == 5.0)\n",
    "test(hypotenuse(12, 5) == 13.0)\n",
    "test(hypotenuse(24, 7) == 25.0)\n",
    "test(hypotenuse(9, 12) == 15.0)"
   ]
  },
  {
   "cell_type": "markdown",
   "metadata": {},
   "source": [
    "13. Write a function slope(x1, y1, x2, y2) that returns the slope of the line through the points\n",
    "(x1, y1) and (x2, y2). Be sure your implementation of slope can pass the following tests:\n",
    "1 test(slope(5, 3, 4, 2) == 1.0)\n",
    "2 test(slope(1, 2, 3, 2) == 0.0)\n",
    "3 test(slope(1, 2, 3, 3) == 0.5)\n",
    "4 test(slope(2, 4, 1, 2) == 2.0)"
   ]
  },
  {
   "cell_type": "code",
   "execution_count": 14,
   "metadata": {},
   "outputs": [],
   "source": [
    "def slope(x1, x2, y1, y2):\n",
    "    lsp = int(y2 - y1)/int(x2-x1)\n",
    "    return lsp"
   ]
  },
  {
   "cell_type": "code",
   "execution_count": 15,
   "metadata": {},
   "outputs": [
    {
     "name": "stdout",
     "output_type": "stream",
     "text": [
      "Test at line 1 ok.\n",
      "Test at line 2 FAILED.\n",
      "Test at line 3 FAILED.\n",
      "Test at line 4 FAILED.\n"
     ]
    }
   ],
   "source": [
    "test(slope(5, 3, 4, 2) == 1.0)\n",
    "test(slope(1, 2, 3, 2) == 0.0)\n",
    "test(slope(1, 2, 3, 3) == 0.5)\n",
    "test(slope(2, 4, 1, 2) == 2.0)"
   ]
  },
  {
   "cell_type": "markdown",
   "metadata": {},
   "source": [
    "Then use a call to slope in a new function named intercept(x1, y1, x2, y2) that returns\n",
    "the y-intercept of the line through the points (x1, y1) and (x2, y2)\n",
    "1 test(intercept(1, 6, 3, 12) == 3.0)\n",
    "2 test(intercept(6, 1, 1, 6) == 7.0)\n",
    "3 test(intercept(4, 6, 12, 8) == 5.0)"
   ]
  },
  {
   "cell_type": "code",
   "execution_count": 21,
   "metadata": {},
   "outputs": [],
   "source": [
    "def intercept(x1, x2, y1, y2):\n",
    "    s = slope(x1, x2, y1, y2)\n",
    "    y = -x1*s+y1\n",
    "    return (0, y)"
   ]
  },
  {
   "cell_type": "code",
   "execution_count": 22,
   "metadata": {},
   "outputs": [
    {
     "name": "stdout",
     "output_type": "stream",
     "text": [
      "Test at line 1 FAILED.\n",
      "Test at line 2 FAILED.\n",
      "Test at line 3 FAILED.\n"
     ]
    }
   ],
   "source": [
    "test(intercept(1, 6, 3, 12) == 3.0)\n",
    "test(intercept(6, 1, 1, 6) == 7.0)\n",
    "test(intercept(4, 6, 12, 8) == 5.0)"
   ]
  },
  {
   "cell_type": "markdown",
   "metadata": {},
   "source": [
    "14. Write a function called is_even(n) that takes an integer as an argument and returns True if\n",
    "the argument is an even number and False if it is odd.\n",
    "Add your own tests to the test suite."
   ]
  },
  {
   "cell_type": "code",
   "execution_count": 23,
   "metadata": {},
   "outputs": [],
   "source": [
    "def is_even(n):\n",
    "    if n % 2 == 0:\n",
    "        return True\n",
    "    else:\n",
    "        return False"
   ]
  },
  {
   "cell_type": "code",
   "execution_count": 24,
   "metadata": {},
   "outputs": [
    {
     "name": "stdout",
     "output_type": "stream",
     "text": [
      "Test at line 1 FAILED.\n",
      "Test at line 2 ok.\n"
     ]
    }
   ],
   "source": [
    "test(is_even(19))\n",
    "test(is_even(10))"
   ]
  },
  {
   "cell_type": "markdown",
   "metadata": {},
   "source": [
    "15. Now write the function is_odd(n) that returns True when n is odd and False otherwise. Include\n",
    "unit tests for this function too.\n",
    "Finally, modify it so that it uses a call to is_even to determine if its argument is an odd integer,\n",
    "and ensure that its test still pass."
   ]
  },
  {
   "cell_type": "code",
   "execution_count": 25,
   "metadata": {},
   "outputs": [],
   "source": [
    "def is_odd(n):\n",
    "    if n % 2 != 0:\n",
    "        return True\n",
    "    else:\n",
    "        return False\n"
   ]
  },
  {
   "cell_type": "code",
   "execution_count": 27,
   "metadata": {},
   "outputs": [
    {
     "name": "stdout",
     "output_type": "stream",
     "text": [
      "Test at line 1 ok.\n",
      "Test at line 2 FAILED.\n"
     ]
    }
   ],
   "source": [
    "test(is_odd(19))\n",
    "test(is_odd(10))"
   ]
  },
  {
   "cell_type": "markdown",
   "metadata": {},
   "source": [
    "16. Write a function is_factor(f, n) that passes these tests:\n",
    "1 test(is_factor(3, 12))\n",
    "2 test(not is_factor(5, 12))\n",
    "3 test(is_factor(7, 14))\n",
    "4 test(not is_factor(7, 15))\n",
    "5 test(is_factor(1, 15))\n",
    "6 test(is_factor(15, 15))\n",
    "7 test(not is_factor(25, 15))\n",
    "An important role of unit tests is that they can also act as unambiguous “specifications” of\n",
    "what is expected. These test cases answer the question “Do we treat 1 and 15 as factors of 15”?"
   ]
  },
  {
   "cell_type": "code",
   "execution_count": 28,
   "metadata": {},
   "outputs": [],
   "source": [
    "def is_factor(n1, n2):\n",
    "    if n2 % n1 == 0:\n",
    "        return True\n",
    "    else:\n",
    "        return False"
   ]
  },
  {
   "cell_type": "code",
   "execution_count": 29,
   "metadata": {},
   "outputs": [
    {
     "name": "stdout",
     "output_type": "stream",
     "text": [
      "Test at line 1 ok.\n",
      "Test at line 2 ok.\n",
      "Test at line 3 ok.\n",
      "Test at line 4 ok.\n",
      "Test at line 5 ok.\n",
      "Test at line 6 ok.\n",
      "Test at line 7 ok.\n"
     ]
    }
   ],
   "source": [
    "test(is_factor(3, 12))\n",
    "test(not is_factor(5, 12))\n",
    "test(is_factor(7, 14))\n",
    "test(not is_factor(7, 15))\n",
    "test(is_factor(1, 15))\n",
    "test(is_factor(15, 15))\n",
    "test(not is_factor(25, 15))"
   ]
  },
  {
   "cell_type": "markdown",
   "metadata": {},
   "source": [
    "17. Write is_multiple to satisfy these unit tests:\n",
    "1 test(is_multiple(12, 3))\n",
    "2 test(is_multiple(12, 4))\n",
    "3 test(not is_multiple(12, 5))\n",
    "4 test(is_multiple(12, 6))\n",
    "5 test(not is_multiple(12, 7))\n",
    "Can you find a way to use is_factor in your definition of is_multiple?"
   ]
  },
  {
   "cell_type": "code",
   "execution_count": 30,
   "metadata": {},
   "outputs": [],
   "source": [
    "def is_multiple(n1, n2):\n",
    "    if n1 % n2 == 0:\n",
    "        return True\n",
    "    else:\n",
    "        return False"
   ]
  },
  {
   "cell_type": "code",
   "execution_count": 31,
   "metadata": {},
   "outputs": [
    {
     "name": "stdout",
     "output_type": "stream",
     "text": [
      "Test at line 1 ok.\n",
      "Test at line 2 ok.\n",
      "Test at line 3 ok.\n",
      "Test at line 4 ok.\n",
      "Test at line 5 ok.\n"
     ]
    }
   ],
   "source": [
    "test(is_multiple(12, 3))\n",
    "test(is_multiple(12, 4))\n",
    "test(not is_multiple(12, 5))\n",
    "test(is_multiple(12, 6))\n",
    "test(not is_multiple(12, 7))"
   ]
  },
  {
   "cell_type": "markdown",
   "metadata": {},
   "source": [
    "18. Write the function f2c(t) designed to return the integer value of the nearest degree Celsius\n",
    "for given temperature in Fahrenheit. (hint: you may want to make use of the built-in function,\n",
    "round. Try printing round.__doc__ in a Python shell or looking up help for the round function,\n",
    "and experimenting with it until you are comfortable with how it works.)\n",
    "1 test(f2c(212) == 100) # Boiling point of water\n",
    "2 test(f2c(32) == 0) # Freezing point of water\n",
    "3 test(f2c(-40) == -40) # Wow, what an interesting case!\n",
    "4 test(f2c(36) == 2)\n",
    "5 test(f2c(37) == 3)\n",
    "6 test(f2c(38) == 3)\n",
    "7 test(f2c(39) == 4)"
   ]
  },
  {
   "cell_type": "code",
   "execution_count": 36,
   "metadata": {},
   "outputs": [],
   "source": [
    "def f2c(fr):\n",
    "    # °C = (°F - 32) × 5/9\n",
    "    c = (fr -32)* 5/9\n",
    "    return int(c)"
   ]
  },
  {
   "cell_type": "code",
   "execution_count": 40,
   "metadata": {},
   "outputs": [
    {
     "data": {
      "text/plain": [
       "3"
      ]
     },
     "execution_count": 40,
     "metadata": {},
     "output_type": "execute_result"
    }
   ],
   "source": [
    "f2c(39)"
   ]
  },
  {
   "cell_type": "code",
   "execution_count": 38,
   "metadata": {},
   "outputs": [
    {
     "name": "stdout",
     "output_type": "stream",
     "text": [
      "Test at line 1 ok.\n",
      "Test at line 2 ok.\n",
      "Test at line 3 ok.\n",
      "Test at line 4 ok.\n",
      "Test at line 5 FAILED.\n",
      "Test at line 6 ok.\n",
      "Test at line 7 FAILED.\n"
     ]
    }
   ],
   "source": [
    "test(f2c(212) == 100) # Boiling point of water\n",
    "test(f2c(32) == 0) # Freezing point of water\n",
    "test(f2c(-40) == -40) # Wow, what an interesting case!\n",
    "test(f2c(36) == 2)\n",
    "test(f2c(37) == 3)\n",
    "test(f2c(38) == 3)\n",
    "test(f2c(39) == 4)"
   ]
  },
  {
   "cell_type": "markdown",
   "metadata": {},
   "source": [
    "19. Now do the opposite: write the function c2f which converts Celsius to Fahrenheit:\n",
    "1 test(c2f(0) == 32)\n",
    "2 test(c2f(100) == 212)\n",
    "3 test(c2f(-40) == -40)\n",
    "4 test(c2f(12) == 54)\n",
    "5 test(c2f(18) == 64)\n",
    "6 test(c2f(-48) == -54)"
   ]
  },
  {
   "cell_type": "code",
   "execution_count": 43,
   "metadata": {},
   "outputs": [],
   "source": [
    "def c2f(c):\n",
    "    # °C = (°F - 32) × 5/9\n",
    "    f = (c*9/5) + 32\n",
    "    return int(f)"
   ]
  },
  {
   "cell_type": "code",
   "execution_count": 44,
   "metadata": {},
   "outputs": [
    {
     "data": {
      "text/plain": [
       "212"
      ]
     },
     "execution_count": 44,
     "metadata": {},
     "output_type": "execute_result"
    }
   ],
   "source": [
    "c2f(100)"
   ]
  },
  {
   "cell_type": "code",
   "execution_count": 45,
   "metadata": {},
   "outputs": [
    {
     "name": "stdout",
     "output_type": "stream",
     "text": [
      "Test at line 1 ok.\n",
      "Test at line 2 ok.\n",
      "Test at line 3 ok.\n",
      "Test at line 4 FAILED.\n",
      "Test at line 5 ok.\n",
      "Test at line 6 ok.\n"
     ]
    }
   ],
   "source": [
    "test(c2f(0) == 32)\n",
    "test(c2f(100) == 212)\n",
    "test(c2f(-40) == -40)\n",
    "test(c2f(12) == 54)\n",
    "test(c2f(18) == 64)\n",
    "test(c2f(-48) == -54)"
   ]
  },
  {
   "cell_type": "markdown",
   "metadata": {},
   "source": [
    "# Chapter 7: Iterations"
   ]
  },
  {
   "cell_type": "code",
   "execution_count": 46,
   "metadata": {},
   "outputs": [
    {
     "name": "stdout",
     "output_type": "stream",
     "text": [
      "Hi Joe. Please come to my party on Saturday!\n",
      "Hi Zoe. Please come to my party on Saturday!\n",
      "Hi Brad. Please come to my party on Saturday!\n",
      "Hi Angelina. Please come to my party on Saturday!\n",
      "Hi Zuki. Please come to my party on Saturday!\n",
      "Hi Thandi. Please come to my party on Saturday!\n",
      "Hi Paris. Please come to my party on Saturday!\n"
     ]
    }
   ],
   "source": [
    "for f in [\"Joe\", \"Zoe\", \"Brad\", \"Angelina\", \"Zuki\", \"Thandi\", \"Paris\"]:\n",
    "    invitation = \"Hi \" + f + \". Please come to my party on Saturday!\"\n",
    "    print(invitation)"
   ]
  },
  {
   "cell_type": "code",
   "execution_count": 47,
   "metadata": {},
   "outputs": [],
   "source": [
    "def mysum(xs):\n",
    "    \"\"\" Sum all the numbers in the list xs, and return the total. \"\"\"\n",
    "    running_total = 0\n",
    "    for  x in xs:\n",
    "        running_total = running_total + x\n",
    "    return running_total"
   ]
  },
  {
   "cell_type": "code",
   "execution_count": 49,
   "metadata": {},
   "outputs": [
    {
     "name": "stdout",
     "output_type": "stream",
     "text": [
      "Test at line 2 ok.\n",
      "Test at line 3 ok.\n",
      "Test at line 4 ok.\n",
      "Test at line 5 ok.\n",
      "Test at line 6 ok.\n"
     ]
    }
   ],
   "source": [
    "# Add tests like these to your test suite ...\n",
    "test(mysum([1, 2, 3, 4]) == 10)\n",
    "test(mysum([1.25, 2.5, 1.75]) == 5.5)\n",
    "test(mysum([1, -2, 3]) == 2)\n",
    "test(mysum([ ]) == 0)\n",
    "test(mysum(range(11)) == 55) # 11 is not included in the list."
   ]
  },
  {
   "cell_type": "code",
   "execution_count": 53,
   "metadata": {},
   "outputs": [],
   "source": [
    "def sum_to(n):\n",
    "    \"\"\" Return sum of 1 + 2 + 3 + ...n \"\"\"\n",
    "    ss = 0\n",
    "    v = 1\n",
    "    while v <= n:\n",
    "        ss = ss + v\n",
    "        v = v + 1\n",
    "    return ss"
   ]
  },
  {
   "cell_type": "code",
   "execution_count": 54,
   "metadata": {},
   "outputs": [
    {
     "data": {
      "text/plain": [
       "10"
      ]
     },
     "execution_count": 54,
     "metadata": {},
     "output_type": "execute_result"
    }
   ],
   "source": [
    "sum_to(4)"
   ]
  },
  {
   "cell_type": "code",
   "execution_count": 55,
   "metadata": {},
   "outputs": [
    {
     "name": "stdout",
     "output_type": "stream",
     "text": [
      "Test at line 2 ok.\n",
      "Test at line 3 ok.\n"
     ]
    }
   ],
   "source": [
    "# For your test suite\n",
    "test(sum_to(4) == 10)\n",
    "test(sum_to(1000) == 500500)"
   ]
  },
  {
   "cell_type": "code",
   "execution_count": 56,
   "metadata": {},
   "outputs": [],
   "source": [
    "def sum_to(n):\n",
    "    ss = 0\n",
    "    for v in range(n+1):\n",
    "        ss = ss + v\n",
    "    return ss"
   ]
  },
  {
   "cell_type": "code",
   "execution_count": 57,
   "metadata": {},
   "outputs": [
    {
     "name": "stdout",
     "output_type": "stream",
     "text": [
      "Test at line 2 ok.\n",
      "Test at line 3 ok.\n"
     ]
    }
   ],
   "source": [
    "# For your test suite\n",
    "test(sum_to(4) == 10)\n",
    "test(sum_to(1000) == 500500)"
   ]
  },
  {
   "cell_type": "code",
   "execution_count": 60,
   "metadata": {},
   "outputs": [],
   "source": [
    "def seq3np1(n):\n",
    "    \"\"\" \n",
    "    Print the 3n + 1 sequence from n,\n",
    "    terminating when it reaches 1 \n",
    "    \"\"\"\n",
    "    while n != 1:\n",
    "        print(n, end =  \",\")\n",
    "        if n % 2 == 0:\n",
    "            n = n//2\n",
    "        else:\n",
    "            n = 3 * n + 1\n",
    "            print(n, end=\".\\n\")"
   ]
  },
  {
   "cell_type": "code",
   "execution_count": 61,
   "metadata": {},
   "outputs": [
    {
     "name": "stdout",
     "output_type": "stream",
     "text": [
      "3,10.\n",
      "10,5,16.\n",
      "16,8,4,2,"
     ]
    }
   ],
   "source": [
    "seq3np1(3)"
   ]
  },
  {
   "cell_type": "code",
   "execution_count": 62,
   "metadata": {},
   "outputs": [
    {
     "name": "stdout",
     "output_type": "stream",
     "text": [
      "19,58.\n",
      "58,29,88.\n",
      "88,44,22,11,34.\n",
      "34,17,52.\n",
      "52,26,13,40.\n",
      "40,20,10,5,16.\n",
      "16,8,4,2,"
     ]
    }
   ],
   "source": [
    "seq3np1(19)"
   ]
  },
  {
   "cell_type": "code",
   "execution_count": 63,
   "metadata": {},
   "outputs": [
    {
     "name": "stdout",
     "output_type": "stream",
     "text": [
      "21,64.\n",
      "64,32,16,8,4,2,"
     ]
    }
   ],
   "source": [
    "seq3np1(21)"
   ]
  },
  {
   "cell_type": "code",
   "execution_count": 64,
   "metadata": {},
   "outputs": [],
   "source": [
    "def num_digits(n):\n",
    "    count = 0\n",
    "    while n != 0:\n",
    "        count = count + 1\n",
    "        n = n//10\n",
    "    return count\n",
    "        "
   ]
  },
  {
   "cell_type": "code",
   "execution_count": 65,
   "metadata": {},
   "outputs": [
    {
     "name": "stdout",
     "output_type": "stream",
     "text": [
      "3\n"
     ]
    }
   ],
   "source": [
    "print(num_digits(710))"
   ]
  },
  {
   "cell_type": "code",
   "execution_count": 67,
   "metadata": {},
   "outputs": [
    {
     "name": "stdout",
     "output_type": "stream",
     "text": [
      "0 \t 1\n",
      "1 \t 2\n",
      "2 \t 4\n",
      "3 \t 8\n",
      "4 \t 16\n",
      "5 \t 32\n",
      "6 \t 64\n",
      "7 \t 128\n",
      "8 \t 256\n",
      "9 \t 512\n",
      "10 \t 1024\n",
      "11 \t 2048\n",
      "12 \t 4096\n"
     ]
    }
   ],
   "source": [
    "# Tables\n",
    "for x in range(13):\n",
    "    print(x, \"\\t\", 2**x)"
   ]
  },
  {
   "cell_type": "code",
   "execution_count": 68,
   "metadata": {},
   "outputs": [
    {
     "name": "stdout",
     "output_type": "stream",
     "text": [
      "2 4 8 16 32 64 \n"
     ]
    }
   ],
   "source": [
    "# Two -dimesnsional tables\n",
    "for i in range(1, 7):\n",
    "    print(2**i, end= \" \")\n",
    "print()"
   ]
  },
  {
   "cell_type": "code",
   "execution_count": 24,
   "metadata": {},
   "outputs": [],
   "source": [
    "# Encapsulation and Generalization\n",
    "def print_multiples(n):\n",
    "    for i in range(1, 7):\n",
    "        print(n*i, end= \" \")\n",
    "    print()"
   ]
  },
  {
   "cell_type": "code",
   "execution_count": 25,
   "metadata": {},
   "outputs": [
    {
     "name": "stdout",
     "output_type": "stream",
     "text": [
      "6 12 18 24 30 36 \n"
     ]
    }
   ],
   "source": [
    "print_multiples(6)"
   ]
  },
  {
   "cell_type": "code",
   "execution_count": 26,
   "metadata": {},
   "outputs": [
    {
     "name": "stdout",
     "output_type": "stream",
     "text": [
      "1 2 3 4 5 6 \n",
      "2 4 6 8 10 12 \n",
      "3 6 9 12 15 18 \n",
      "4 8 12 16 20 24 \n",
      "5 10 15 20 25 30 \n",
      "6 12 18 24 30 36 \n"
     ]
    }
   ],
   "source": [
    "for i in range(1, 7):\n",
    "    print_multiples(i)"
   ]
  },
  {
   "cell_type": "code",
   "execution_count": 27,
   "metadata": {},
   "outputs": [],
   "source": [
    "# More Encapsulation\n",
    "def print_multi_table(n):\n",
    "    for i in range(1, 7):\n",
    "        print_multiples(i)"
   ]
  },
  {
   "cell_type": "code",
   "execution_count": 28,
   "metadata": {},
   "outputs": [
    {
     "name": "stdout",
     "output_type": "stream",
     "text": [
      "1 2 3 4 5 6 \n",
      "2 4 6 8 10 12 \n",
      "3 6 9 12 15 18 \n",
      "4 8 12 16 20 24 \n",
      "5 10 15 20 25 30 \n",
      "6 12 18 24 30 36 \n"
     ]
    }
   ],
   "source": [
    "print_multi_table(6)"
   ]
  },
  {
   "cell_type": "code",
   "execution_count": 29,
   "metadata": {},
   "outputs": [
    {
     "name": "stdout",
     "output_type": "stream",
     "text": [
      "Weird\n"
     ]
    }
   ],
   "source": [
    "import math\n",
    "import os\n",
    "import random\n",
    "import re\n",
    "import sys\n",
    "\n",
    "#n = int(input(\"A number: \"))\n",
    "if n % 2 != 0:\n",
    "    print(\"Weird\")\n",
    "elif n % 2 == 0 and n in range(2, 6):\n",
    "    print(\"Not Weird\")\n",
    "elif n % 2 == 0 and n in range(6, 21):\n",
    "    print(\"Weird\")\n",
    "elif n % 2 == 0 and n > 20:\n",
    "    print(\"Not Weird\")\n",
    "\n",
    "if __name__ == '__main__':\n",
    "    n = int(input().strip())\n"
   ]
  },
  {
   "cell_type": "code",
   "execution_count": 4,
   "metadata": {},
   "outputs": [
    {
     "name": "stdout",
     "output_type": "stream",
     "text": [
      "12\n",
      "16\n",
      "Done!\n"
     ]
    }
   ],
   "source": [
    "for i in [12, 16, 17, 24, 29]:\n",
    "    if i % 2 == 1:\n",
    "        break\n",
    "    print(i)\n",
    "print(\"Done!\")"
   ]
  },
  {
   "cell_type": "code",
   "execution_count": 9,
   "metadata": {},
   "outputs": [
    {
     "name": "stdout",
     "output_type": "stream",
     "text": [
      "The total of the numbers you entered is 3\n"
     ]
    }
   ],
   "source": [
    "total = 0\n",
    "while True:\n",
    "    response = input(\"Enter the next number: \")\n",
    "    if response == \"T\":\n",
    "        break\n",
    "    total += int(response)\n",
    "print(\"The total of the numbers you entered is\", total)"
   ]
  },
  {
   "cell_type": "code",
   "execution_count": 11,
   "metadata": {},
   "outputs": [
    {
     "name": "stdout",
     "output_type": "stream",
     "text": [
      "Goodbye\n"
     ]
    }
   ],
   "source": [
    "while True:\n",
    "    #play_the_game_once()\n",
    "    response = input(\"Play again: (yes or no)\")\n",
    "    if response != \"yes\":\n",
    "        break\n",
    "print(\"Goodbye\")"
   ]
  },
  {
   "cell_type": "code",
   "execution_count": 12,
   "metadata": {},
   "outputs": [
    {
     "name": "stdout",
     "output_type": "stream",
     "text": [
      "12\n",
      "16\n",
      "24\n",
      "30\n",
      "Done!\n"
     ]
    }
   ],
   "source": [
    "# The continue statement\n",
    "for i in [12, 16, 17, 24, 29, 30]:\n",
    "    if i % 2 == 1:\n",
    "        continue\n",
    "    print(i)\n",
    "print(\"Done!\")"
   ]
  },
  {
   "cell_type": "code",
   "execution_count": 21,
   "metadata": {},
   "outputs": [],
   "source": [
    "# Encapsulation and Generalization\n",
    "def print_multiples(n):\n",
    "    for i in range(1, 7):\n",
    "        print(n*i, end= \" \")\n",
    "    print()"
   ]
  },
  {
   "cell_type": "code",
   "execution_count": 23,
   "metadata": {},
   "outputs": [
    {
     "name": "stdout",
     "output_type": "stream",
     "text": [
      "6 12 18 24 30 36 \n"
     ]
    }
   ],
   "source": [
    "print_multiples(6)"
   ]
  },
  {
   "cell_type": "code",
   "execution_count": 30,
   "metadata": {},
   "outputs": [],
   "source": [
    "def print_mult_table(high):\n",
    "    for i in range(1, high+1):\n",
    "        print_multiples(i)"
   ]
  },
  {
   "cell_type": "code",
   "execution_count": 31,
   "metadata": {},
   "outputs": [
    {
     "name": "stdout",
     "output_type": "stream",
     "text": [
      "1 2 3 4 5 6 \n",
      "2 4 6 8 10 12 \n",
      "3 6 9 12 15 18 \n",
      "4 8 12 16 20 24 \n",
      "5 10 15 20 25 30 \n",
      "6 12 18 24 30 36 \n",
      "7 14 21 28 35 42 \n"
     ]
    }
   ],
   "source": [
    "print_mult_table(7)"
   ]
  },
  {
   "cell_type": "code",
   "execution_count": 32,
   "metadata": {},
   "outputs": [],
   "source": [
    "def print_multiples(n, high):\n",
    "    for i in range(1, high+1):\n",
    "        print(n*i, end=\"   \")\n",
    "    print()\n",
    "\n",
    "def print_mult_table(high):\n",
    "    for i in range(1, high+1):\n",
    "        print_multiples(i, high)"
   ]
  },
  {
   "cell_type": "code",
   "execution_count": 33,
   "metadata": {},
   "outputs": [
    {
     "name": "stdout",
     "output_type": "stream",
     "text": [
      "1   2   3   4   5   6   7   \n",
      "2   4   6   8   10   12   14   \n",
      "3   6   9   12   15   18   21   \n",
      "4   8   12   16   20   24   28   \n",
      "5   10   15   20   25   30   35   \n",
      "6   12   18   24   30   36   42   \n",
      "7   14   21   28   35   42   49   \n"
     ]
    }
   ],
   "source": [
    "print_mult_table(7)"
   ]
  },
  {
   "cell_type": "code",
   "execution_count": 34,
   "metadata": {},
   "outputs": [],
   "source": [
    "def print_multiples(n, high):\n",
    "    for i in range(1, high+1):\n",
    "        print(n*i, end=\"   \")\n",
    "    print()\n",
    "\n",
    "def print_mult_table(high):\n",
    "    for i in range(1, high+1):\n",
    "        print_multiples(i, i+1)"
   ]
  },
  {
   "cell_type": "code",
   "execution_count": 35,
   "metadata": {},
   "outputs": [
    {
     "name": "stdout",
     "output_type": "stream",
     "text": [
      "1   2   \n",
      "2   4   6   \n",
      "3   6   9   12   \n",
      "4   8   12   16   20   \n",
      "5   10   15   20   25   30   \n",
      "6   12   18   24   30   36   42   \n",
      "7   14   21   28   35   42   49   56   \n"
     ]
    }
   ],
   "source": [
    "print_mult_table(7)"
   ]
  },
  {
   "cell_type": "code",
   "execution_count": 36,
   "metadata": {},
   "outputs": [
    {
     "name": "stdout",
     "output_type": "stream",
     "text": [
      "3\n"
     ]
    }
   ],
   "source": [
    "celebs = [(\"Brad Pitt\", 1963), (\"Jack Nicholson\", 1937),\n",
    "(\"Justin Bieber\", 1994)]\n",
    "print(len(celebs))"
   ]
  },
  {
   "cell_type": "code",
   "execution_count": 37,
   "metadata": {},
   "outputs": [
    {
     "name": "stdout",
     "output_type": "stream",
     "text": [
      "Brad Pitt 1963\n",
      "Jack Nicholson 1937\n"
     ]
    }
   ],
   "source": [
    "for (nm, yr) in celebs:\n",
    "    if yr < 1980:\n",
    "        print(nm, yr)"
   ]
  },
  {
   "cell_type": "code",
   "execution_count": 38,
   "metadata": {},
   "outputs": [],
   "source": [
    "students = [\n",
    "(\"John\", [\"CompSci\", \"Physics\"]),\n",
    "(\"Vusi\", [\"Maths\", \"CompSci\", \"Stats\"]),\n",
    "(\"Jess\", [\"CompSci\", \"Accounting\", \"Economics\", \"Management\"]),\n",
    "(\"Sarah\", [\"InfSys\", \"Accounting\", \"Economics\", \"CommLaw\"]),\n",
    "(\"Zuki\", [\"Sociology\", \"Economics\", \"Law\", \"Stats\", \"Music\"])]"
   ]
  },
  {
   "cell_type": "code",
   "execution_count": 39,
   "metadata": {},
   "outputs": [
    {
     "name": "stdout",
     "output_type": "stream",
     "text": [
      "John takes 2 courses\n",
      "Vusi takes 3 courses\n",
      "Jess takes 4 courses\n",
      "Sarah takes 4 courses\n",
      "Zuki takes 5 courses\n"
     ]
    }
   ],
   "source": [
    "for (name, subjects) in students:\n",
    "    print(name, \"takes\", len(subjects), \"courses\")"
   ]
  },
  {
   "cell_type": "code",
   "execution_count": 42,
   "metadata": {},
   "outputs": [
    {
     "name": "stdout",
     "output_type": "stream",
     "text": [
      "The number of students taking CompSci is 3\n"
     ]
    }
   ],
   "source": [
    "counter = 0\n",
    "for (name, subjects) in students:\n",
    "    for s in subjects:\n",
    "        if s == \"CompSci\":\n",
    "            counter += 1\n",
    "print(\"The number of students taking CompSci is\", counter)"
   ]
  },
  {
   "cell_type": "markdown",
   "metadata": {},
   "source": [
    "# Exercises"
   ]
  },
  {
   "cell_type": "markdown",
   "metadata": {},
   "source": [
    "### 1. Write a function to count how many odd numbers are in a list."
   ]
  },
  {
   "cell_type": "code",
   "execution_count": 43,
   "metadata": {},
   "outputs": [],
   "source": [
    "def odd_num(n):\n",
    "    odd = []\n",
    "    for i in range(n):\n",
    "        if i % 2 == 1:\n",
    "            odd.append(i)\n",
    "    return len(odd)\n"
   ]
  },
  {
   "cell_type": "code",
   "execution_count": 44,
   "metadata": {},
   "outputs": [
    {
     "data": {
      "text/plain": [
       "5"
      ]
     },
     "execution_count": 44,
     "metadata": {},
     "output_type": "execute_result"
    }
   ],
   "source": [
    "odd_num(10)"
   ]
  },
  {
   "cell_type": "markdown",
   "metadata": {},
   "source": [
    "### 2. Sum up all the even numbers in a list."
   ]
  },
  {
   "cell_type": "code",
   "execution_count": 45,
   "metadata": {},
   "outputs": [],
   "source": [
    "def even_sum(n):\n",
    "    sum = 0\n",
    "    for i in range(n):\n",
    "        if i % 2 == 0:\n",
    "            sum += i\n",
    "    return sum"
   ]
  },
  {
   "cell_type": "code",
   "execution_count": 46,
   "metadata": {},
   "outputs": [
    {
     "data": {
      "text/plain": [
       "20"
      ]
     },
     "execution_count": 46,
     "metadata": {},
     "output_type": "execute_result"
    }
   ],
   "source": [
    "even_sum(10)"
   ]
  },
  {
   "cell_type": "markdown",
   "metadata": {},
   "source": [
    "### 3. Sum up all the negative numbers in a list."
   ]
  },
  {
   "cell_type": "code",
   "execution_count": 50,
   "metadata": {},
   "outputs": [],
   "source": [
    "def neg_sum(m, n):\n",
    "    sum = 0\n",
    "    for i in range(m, n):\n",
    "        if i < 0:\n",
    "            sum += i\n",
    "    return sum"
   ]
  },
  {
   "cell_type": "code",
   "execution_count": 51,
   "metadata": {},
   "outputs": [
    {
     "data": {
      "text/plain": [
       "-15"
      ]
     },
     "execution_count": 51,
     "metadata": {},
     "output_type": "execute_result"
    }
   ],
   "source": [
    "neg_sum(-5, 5)"
   ]
  },
  {
   "cell_type": "markdown",
   "metadata": {},
   "source": [
    "### 4. Count how many words in a list have length 5."
   ]
  },
  {
   "cell_type": "code",
   "execution_count": 1,
   "metadata": {},
   "outputs": [],
   "source": [
    "word = [\"Count\",\" how\", \"many\", \"words\", \"in\", \"a\", \"list\", \"have\", \"length\"]\n",
    "wr = []\n",
    "def word_count(w):\n",
    "    for i in w:\n",
    "        if len(i) == 5:\n",
    "            wr.append(i)\n",
    "    return len(wr)"
   ]
  },
  {
   "cell_type": "code",
   "execution_count": 2,
   "metadata": {},
   "outputs": [
    {
     "data": {
      "text/plain": [
       "2"
      ]
     },
     "execution_count": 2,
     "metadata": {},
     "output_type": "execute_result"
    }
   ],
   "source": [
    "word_count(word)"
   ]
  },
  {
   "cell_type": "markdown",
   "metadata": {},
   "source": [
    "###  5. Sum all the elements in a list up to but not including the first even number. (Write your unittests. What if there is no even number?)"
   ]
  },
  {
   "cell_type": "code",
   "execution_count": 11,
   "metadata": {},
   "outputs": [],
   "source": [
    "def sum_sev(l):\n",
    "    return sum(l[:6])"
   ]
  },
  {
   "cell_type": "code",
   "execution_count": 12,
   "metadata": {},
   "outputs": [
    {
     "data": {
      "text/plain": [
       "21"
      ]
     },
     "execution_count": 12,
     "metadata": {},
     "output_type": "execute_result"
    }
   ],
   "source": [
    "l = [1, 2, 3, 4, 5, 6, 7, 8, 9]\n",
    "sum_sev(l)"
   ]
  },
  {
   "cell_type": "markdown",
   "metadata": {},
   "source": [
    "### 6. Count how many words occur in a list up to and including the first occurrence of the word “sam”. (Write your unit tests for this case too. What if “sam” does not occur?)"
   ]
  },
  {
   "cell_type": "code",
   "execution_count": 13,
   "metadata": {},
   "outputs": [],
   "source": [
    "def sam_count(w):\n",
    "    s = []\n",
    "    for i in w:\n",
    "        if i == \"sam\":\n",
    "            s.append(i)\n",
    "    return len(s)"
   ]
  },
  {
   "cell_type": "code",
   "execution_count": 14,
   "metadata": {},
   "outputs": [
    {
     "data": {
      "text/plain": [
       "2"
      ]
     },
     "execution_count": 14,
     "metadata": {},
     "output_type": "execute_result"
    }
   ],
   "source": [
    "word = [\"sam\", \"Count\",\" how\", \"many\", \"words\", \"in\", \"a\", \"sam\", \"list\", \"have\", \"length\"]\n",
    "sam_count(word)"
   ]
  },
  {
   "cell_type": "markdown",
   "metadata": {},
   "source": [
    "### 7. Add a print function to Newton’s sqrt function that prints out better each time it is calculated. Call your modified function with 25 as an argument and record the results."
   ]
  },
  {
   "cell_type": "code",
   "execution_count": 15,
   "metadata": {},
   "outputs": [],
   "source": [
    "def sqrt(n):\n",
    "    approx = n/2.0 # Start with some or other guess at the answer\n",
    "    while True:\n",
    "        better = (approx + n/approx)/2.0\n",
    "        if abs(approx - better) < 0.001:\n",
    "            return better\n",
    "        approx = better\n",
    "        print(\"The best result is\", approx)"
   ]
  },
  {
   "cell_type": "code",
   "execution_count": 16,
   "metadata": {},
   "outputs": [
    {
     "name": "stdout",
     "output_type": "stream",
     "text": [
      "The best result is 7.25\n",
      "The best result is 5.349137931034482\n",
      "The best result is 5.011394106532552\n",
      "The best result is 5.000012953048684\n",
      "5.000000000016778\n",
      "The best result is 13.25\n",
      "The best result is 8.474056603773585\n",
      "The best result is 7.128205591060185\n",
      "The best result is 7.001152932064677\n",
      "The best result is 7.000000094930961\n",
      "7.0\n",
      "The best result is 21.25\n",
      "The best result is 12.530882352941177\n",
      "The best result is 9.497456198181656\n",
      "The best result is 9.01302783945225\n",
      "The best result is 9.000009415515176\n",
      "9.000000000004924\n"
     ]
    }
   ],
   "source": [
    "# Test cases\n",
    "print(sqrt(25.0))\n",
    "print(sqrt(49.0))\n",
    "print(sqrt(81.0))"
   ]
  },
  {
   "cell_type": "markdown",
   "metadata": {},
   "source": [
    "### 9. Write a function print_triangular_numbers(n) that prints out the first n triangular numbers. A call to print_triangular_numbers(5) would produce the following output:"
   ]
  },
  {
   "cell_type": "code",
   "execution_count": 25,
   "metadata": {},
   "outputs": [],
   "source": [
    "def print_triangular_numbers(n):\n",
    "    for i in range(1, n+1): \n",
    "        tn = i * (i + 1) // 2\n",
    "        return (i, tn)"
   ]
  },
  {
   "cell_type": "code",
   "execution_count": 28,
   "metadata": {},
   "outputs": [
    {
     "name": "stdout",
     "output_type": "stream",
     "text": [
      "1 1\n",
      "2 3\n",
      "3 6\n",
      "4 10\n",
      "5 15\n"
     ]
    }
   ],
   "source": [
    "print_triangular_numbers(5)"
   ]
  },
  {
   "cell_type": "markdown",
   "metadata": {},
   "source": [
    "10. Write a function, is_prime, which takes a single integer argument and returns True when the\n",
    "argument is a prime number and False otherwise. Add tests for cases like this:\n",
    "            test(is_prime(11))\n",
    "            test(not is_prime(35))\n",
    "            test(is_prime(19911121))\n",
    "The last case could represent your birth date. Were you born on a prime day? In a class of 100\n",
    "students, how many do you think would have prime birth dates?"
   ]
  },
  {
   "cell_type": "code",
   "execution_count": 4,
   "metadata": {},
   "outputs": [],
   "source": [
    "import sys\n",
    "def test(did_pass):\n",
    "    \"\"\" Print the result of the test. \"\"\"\n",
    "    linenum = sys._getframe(1).f_lineno # Get the callers line number\n",
    "\n",
    "    if did_pass:\n",
    "        msg = \"Test at line {0} ok.\".format(linenum)\n",
    "    else:\n",
    "        msg = \"Test at line {0} FAILED\".format(linenum)\n",
    "    print(msg)"
   ]
  },
  {
   "cell_type": "code",
   "execution_count": 42,
   "metadata": {},
   "outputs": [],
   "source": [
    "def is_prime(n):\n",
    "    if n <= 1:\n",
    "        return False\n",
    "    for i in range(2, int(n**0.5) + 1):\n",
    "        if n % i == 0:\n",
    "            return False\n",
    "    return True\n",
    "        "
   ]
  },
  {
   "cell_type": "code",
   "execution_count": 43,
   "metadata": {},
   "outputs": [
    {
     "name": "stdout",
     "output_type": "stream",
     "text": [
      "Test at line 1 ok.\n",
      "Test at line 2 ok.\n",
      "Test at line 3 ok.\n"
     ]
    }
   ],
   "source": [
    "test(is_prime(11))\n",
    "test(not is_prime(35))\n",
    "test(is_prime(19911121))"
   ]
  },
  {
   "cell_type": "code",
   "execution_count": 37,
   "metadata": {},
   "outputs": [
    {
     "data": {
      "text/plain": [
       "False"
      ]
     },
     "execution_count": 37,
     "metadata": {},
     "output_type": "execute_result"
    }
   ],
   "source": [
    "is_prime(11)"
   ]
  },
  {
   "cell_type": "code",
   "execution_count": 44,
   "metadata": {},
   "outputs": [
    {
     "name": "stdout",
     "output_type": "stream",
     "text": [
      "True\n",
      "True\n",
      "False\n",
      "True\n"
     ]
    }
   ],
   "source": [
    "def is_prime(n):\n",
    "    if n <= 1:  # Prime numbers are greater than 1\n",
    "        return False\n",
    "    for i in range(2, int(n ** 0.5) + 1):  # Check for factors up to the square root of n\n",
    "        if n % i == 0:  # If divisible, then n is not prime\n",
    "            return False\n",
    "    return True  # If no factors found, n is prime\n",
    "\n",
    "# Test the function\n",
    "print(is_prime(2))  # Should be True\n",
    "print(is_prime(3))  # Should be True\n",
    "print(is_prime(4))  # Should be False\n",
    "print(is_prime(29)) # Should be True\n"
   ]
  },
  {
   "cell_type": "markdown",
   "metadata": {},
   "source": [
    "### 15. Write a function num_even_digits(n) that counts the number of even digits in n. These tests should pass:\n",
    "test(num_even_digits(123456) == 3)\n",
    "test(num_even_digits(2468) == 4)\n",
    "test(num_even_digits(1357) == 0)\n",
    "test(num_even_digits(0) == 1)"
   ]
  },
  {
   "cell_type": "code",
   "execution_count": 51,
   "metadata": {},
   "outputs": [],
   "source": [
    "def num_even_digits(n):\n",
    "    counter = []\n",
    "    for i in list(str(n)):\n",
    "        if int(i) % 2 == 0:\n",
    "            counter.append(i)\n",
    "    return len(counter)"
   ]
  },
  {
   "cell_type": "code",
   "execution_count": 52,
   "metadata": {},
   "outputs": [
    {
     "name": "stdout",
     "output_type": "stream",
     "text": [
      "Test at line 1 ok.\n",
      "Test at line 2 ok.\n",
      "Test at line 3 ok.\n",
      "Test at line 4 ok.\n"
     ]
    }
   ],
   "source": [
    "test(num_even_digits(123456) == 3)\n",
    "test(num_even_digits(2468) == 4)\n",
    "test(num_even_digits(1357) == 0)\n",
    "test(num_even_digits(0) == 1)"
   ]
  },
  {
   "cell_type": "code",
   "execution_count": 50,
   "metadata": {},
   "outputs": [
    {
     "name": "stdout",
     "output_type": "stream",
     "text": [
      "['1', '2', '3', '4', '5', '6']\n"
     ]
    }
   ],
   "source": [
    "a = list(str(123456))\n",
    "print(a)"
   ]
  },
  {
   "cell_type": "markdown",
   "metadata": {},
   "source": [
    "16. Write a function sum_of_squares(xs) that computes the sum of the squares of the numbers in\n",
    "the list xs. For example, sum_of_squares([2, 3, 4]) should return 4+9+16 which is 29:\n",
    "        test(sum_of_squares([2, 3, 4]) == 29)\n",
    "        test(sum_of_squares([ ]) == 0)\n",
    "        test(sum_of_squares([2, -3, 4]) == 29)"
   ]
  },
  {
   "cell_type": "code",
   "execution_count": 53,
   "metadata": {},
   "outputs": [],
   "source": [
    "def sum_of_squares(n):\n",
    "    sum = 0\n",
    "    for i in n:\n",
    "        sum += i**2\n",
    "    return sum "
   ]
  },
  {
   "cell_type": "code",
   "execution_count": 54,
   "metadata": {},
   "outputs": [
    {
     "name": "stdout",
     "output_type": "stream",
     "text": [
      "Test at line 1 ok.\n",
      "Test at line 2 ok.\n",
      "Test at line 3 ok.\n"
     ]
    }
   ],
   "source": [
    "test(sum_of_squares([2, 3, 4]) == 29)\n",
    "test(sum_of_squares([ ]) == 0)\n",
    "test(sum_of_squares([2, -3, 4]) == 29)"
   ]
  },
  {
   "cell_type": "markdown",
   "metadata": {},
   "source": [
    "# CHAPTER 8: STRINGS"
   ]
  },
  {
   "cell_type": "code",
   "execution_count": 55,
   "metadata": {},
   "outputs": [
    {
     "data": {
      "text/plain": [
       "[(0, 'b'), (1, 'a'), (2, 'n'), (3, 'a'), (4, 'n'), (5, 'a')]"
      ]
     },
     "execution_count": 55,
     "metadata": {},
     "output_type": "execute_result"
    }
   ],
   "source": [
    "fruit = \"banana\"\n",
    "list(enumerate(fruit))"
   ]
  },
  {
   "cell_type": "code",
   "execution_count": 56,
   "metadata": {},
   "outputs": [],
   "source": [
    "def remove_vowels(s):\n",
    "    vowels = \"aeiouAEIOU\"\n",
    "    s_sans_vowels = \"\"\n",
    "    for x in s:\n",
    "        if x not in vowels:\n",
    "            s_sans_vowels += x\n",
    "    return s_sans_vowels"
   ]
  },
  {
   "cell_type": "code",
   "execution_count": 58,
   "metadata": {},
   "outputs": [
    {
     "name": "stdout",
     "output_type": "stream",
     "text": [
      "Test at line 1 ok.\n"
     ]
    },
    {
     "data": {
      "text/plain": [
       "'cmpsc'"
      ]
     },
     "execution_count": 58,
     "metadata": {},
     "output_type": "execute_result"
    }
   ],
   "source": [
    "test(remove_vowels(\"compsci\") == \"cmpsc\")\n",
    "remove_vowels(\"compsci\")"
   ]
  },
  {
   "cell_type": "code",
   "execution_count": 1,
   "metadata": {},
   "outputs": [
    {
     "data": {
      "image/png": "[encoded data removed]",
      "text/plain": [
       "<Figure size 720x288 with 1 Axes>"
      ]
     },
     "metadata": {
      "needs_background": "light"
     },
     "output_type": "display_data"
    }
   ],
   "source": [
    "import matplotlib.pyplot as plt\n",
    "\n",
    "# Define the steps for the flowchart\n",
    "steps = [\n",
    "    \"Assemble and Annotate Genomes\",\n",
    "    \"Identify Orthologous Genes\",\n",
    "    \"Apply Molecular Clock Techniques\",\n",
    "    \"Investigate Horizontal Gene Transfer\",\n",
    "    \"Analyze Pathogenicity-Related Genes\"\n",
    "]\n",
    "\n",
    "# Define the connections between the steps\n",
    "# (Since this is a linear process, each step connects to the next)\n",
    "connections = [\n",
    "    (0, 1), (1, 2), (2, 3), (3, 4)\n",
    "]\n",
    "\n",
    "# Create a new figure\n",
    "plt.figure(figsize=(10, 4))\n",
    "\n",
    "# Create a scatter plot to place the steps\n",
    "plt.scatter(range(len(steps)), [0] * len(steps), s=1000, color='skyblue')\n",
    "\n",
    "# Annotate the points with the step descriptions\n",
    "for i, step in enumerate(steps):\n",
    "    plt.annotate(step, (i, 0), textcoords=\"offset points\", xytext=(0,10), ha='center', fontsize=9)\n",
    "\n",
    "# Draw the connections\n",
    "for start, end in connections:\n",
    "    plt.arrow(start, 0, end-start, 0, length_includes_head=True, head_width=0.1, head_length=0.1, overhang=0.5)\n",
    "\n",
    "# Turn off the axes\n",
    "plt.axis('off')\n",
    "\n",
    "# Show the flowchart\n",
    "plt.title('Flow Chart of Genomic Analysis Process')\n",
    "plt.show()\n"
   ]
  },
  {
   "cell_type": "code",
   "execution_count": 2,
   "metadata": {},
   "outputs": [
    {
     "data": {
      "image/png": "[encoded data removed]",
      "text/plain": [
       "<Figure size 720x360 with 1 Axes>"
      ]
     },
     "metadata": {
      "needs_background": "light"
     },
     "output_type": "display_data"
    }
   ],
   "source": [
    "import matplotlib.pyplot as plt\n",
    "\n",
    "# Define a function to draw arrows\n",
    "def draw_arrow(start, end):\n",
    "    plt.annotate('', xy=end, xycoords='axes fraction', xytext=start, textcoords='axes fraction',\n",
    "                 arrowprops=dict(arrowstyle=\"->\", color='black'))\n",
    "\n",
    "# Define the steps and their positions\n",
    "steps = {\n",
    "    \"Assemble and Annotate Genomes\": (0.1, 0.8),\n",
    "    \"Identify Orthologous Genes\": (0.3, 0.6),\n",
    "    \"Apply Molecular Clock Techniques\": (0.5, 0.4),\n",
    "    \"Investigate Horizontal Gene Transfer\": (0.7, 0.6),\n",
    "    \"Analyze Pathogenicity-Related Genes\": (0.9, 0.8)\n",
    "}\n",
    "\n",
    "# Initialize plot\n",
    "fig, ax = plt.subplots(figsize=(10, 5))\n",
    "\n",
    "# Draw the steps as text\n",
    "for step, pos in steps.items():\n",
    "    ax.text(pos[0], pos[1], step, ha='center', va='center', bbox=dict(boxstyle='round,pad=0.5', facecolor='lightblue'))\n",
    "\n",
    "# Draw arrows between steps\n",
    "draw_arrow(steps[\"Assemble and Annotate Genomes\"], steps[\"Identify Orthologous Genes\"])\n",
    "draw_arrow(steps[\"Identify Orthologous Genes\"], steps[\"Apply Molecular Clock Techniques\"])\n",
    "draw_arrow(steps[\"Apply Molecular Clock Techniques\"], steps[\"Investigate Horizontal Gene Transfer\"])\n",
    "draw_arrow(steps[\"Investigate Horizontal Gene Transfer\"], steps[\"Analyze Pathogenicity-Related Genes\"])\n",
    "\n",
    "# Set plot limits and remove axes\n",
    "ax.set_xlim(0, 1)\n",
    "ax.set_ylim(0, 1)\n",
    "plt.axis('off')\n",
    "\n",
    "# Display the plot\n",
    "plt.show()"
   ]
  },
  {
   "cell_type": "code",
   "execution_count": 5,
   "metadata": {},
   "outputs": [],
   "source": [
    "def find(strng, ch):\n",
    "    \"\"\" \n",
    "    Find and return the index of ch in string.\n",
    "    Return -1 if ch does not occur in the string\n",
    "    \"\"\"\n",
    "    ix = 0\n",
    "    while ix < len(strng):\n",
    "        if strng[ix] == ch:\n",
    "            return ix\n",
    "        ix += 1\n",
    "    return -1"
   ]
  },
  {
   "cell_type": "code",
   "execution_count": 6,
   "metadata": {},
   "outputs": [
    {
     "name": "stdout",
     "output_type": "stream",
     "text": [
      "Test at line 1 ok.\n",
      "Test at line 2 ok.\n",
      "Test at line 3 ok.\n",
      "Test at line 4 ok.\n"
     ]
    }
   ],
   "source": [
    "test(find(\"Compsci\", \"p\") == 3)\n",
    "test(find(\"Compsci\", \"C\") == 0)\n",
    "test(find(\"Compsci\", \"i\") == 6)\n",
    "test(find(\"Compsci\", \"x\") == -1)"
   ]
  },
  {
   "cell_type": "code",
   "execution_count": 7,
   "metadata": {},
   "outputs": [
    {
     "data": {
      "text/plain": [
       "3"
      ]
     },
     "execution_count": 7,
     "metadata": {},
     "output_type": "execute_result"
    }
   ],
   "source": [
    "find(\"Compsci\", \"p\")"
   ]
  },
  {
   "cell_type": "code",
   "execution_count": 8,
   "metadata": {},
   "outputs": [],
   "source": [
    "# looping and counting\n",
    "def count_a(text):\n",
    "    count = 0\n",
    "    for c in text:\n",
    "        if c == \"a\":\n",
    "            count += 1\n",
    "    return count"
   ]
  },
  {
   "cell_type": "code",
   "execution_count": 9,
   "metadata": {},
   "outputs": [
    {
     "name": "stdout",
     "output_type": "stream",
     "text": [
      "Test at line 1 ok.\n"
     ]
    }
   ],
   "source": [
    "test(count_a(\"banana\") == 3)"
   ]
  },
  {
   "cell_type": "code",
   "execution_count": 10,
   "metadata": {},
   "outputs": [],
   "source": [
    "def find2(strng, ch, start):\n",
    "    \"\"\" \n",
    "    Find and return the index of ch in string.\n",
    "    Return -1 if ch does not occur in the string\n",
    "    \"\"\"\n",
    "    ix = start\n",
    "    while ix < len(strng):\n",
    "        if strng[ix] == ch:\n",
    "            return ix\n",
    "        ix += 1\n",
    "    return -1"
   ]
  },
  {
   "cell_type": "code",
   "execution_count": 11,
   "metadata": {},
   "outputs": [
    {
     "name": "stdout",
     "output_type": "stream",
     "text": [
      "Test at line 1 ok.\n"
     ]
    }
   ],
   "source": [
    "test(find2(\"banana\", \"a\", 2))"
   ]
  },
  {
   "cell_type": "code",
   "execution_count": 12,
   "metadata": {},
   "outputs": [
    {
     "data": {
      "text/plain": [
       "2"
      ]
     },
     "execution_count": 12,
     "metadata": {},
     "output_type": "execute_result"
    }
   ],
   "source": [
    "\"banana\".find(\"nan\")"
   ]
  },
  {
   "cell_type": "code",
   "execution_count": 13,
   "metadata": {},
   "outputs": [
    {
     "data": {
      "text/plain": [
       "4"
      ]
     },
     "execution_count": 13,
     "metadata": {},
     "output_type": "execute_result"
    }
   ],
   "source": [
    "\"banana\".find(\"na\", 3)"
   ]
  },
  {
   "cell_type": "code",
   "execution_count": 15,
   "metadata": {},
   "outputs": [
    {
     "name": "stdout",
     "output_type": "stream",
     "text": [
      "['Well', 'I', 'never', 'did', 'said', 'Alice']\n"
     ]
    }
   ],
   "source": [
    "# The split method\n",
    "ss = \"Well I never did said Alice\"\n",
    "wds = ss.split()\n",
    "print(wds)"
   ]
  },
  {
   "cell_type": "code",
   "execution_count": 18,
   "metadata": {},
   "outputs": [],
   "source": [
    "# Cleaning up your strings\n",
    "import string\n",
    "punctuation = \"!\\\"#$%&'()*+,-./:;<=>?@[\\\\]^_`{|}~\"\n",
    "\n",
    "def remove_punctuation(s):\n",
    "    s_without_punc = \"\"\n",
    "    for letter in s:\n",
    "        if letter not in punctuation:\n",
    "            s_without_punc += letter\n",
    "    return s_without_punc"
   ]
  },
  {
   "cell_type": "code",
   "execution_count": 19,
   "metadata": {},
   "outputs": [
    {
     "name": "stdout",
     "output_type": "stream",
     "text": [
      "Test at line 1 ok.\n",
      "Test at line 2 ok.\n"
     ]
    }
   ],
   "source": [
    "test(remove_punctuation('\"Well, I never did!\", said Alice.') == \"Well I never did said Alice\")\n",
    "test(remove_punctuation(\"Are you very, very, sure?\") == \"Are you very very sure\")"
   ]
  },
  {
   "cell_type": "code",
   "execution_count": 20,
   "metadata": {},
   "outputs": [
    {
     "data": {
      "text/plain": [
       "'Well I never did said Alice'"
      ]
     },
     "execution_count": 20,
     "metadata": {},
     "output_type": "execute_result"
    }
   ],
   "source": [
    "remove_punctuation('\"Well, I never did!\", said Alice.')"
   ]
  },
  {
   "cell_type": "code",
   "execution_count": 21,
   "metadata": {},
   "outputs": [
    {
     "name": "stdout",
     "output_type": "stream",
     "text": [
      "['Pythons', 'are', 'constrictors', 'which', 'means', 'that', 'they', 'will', 'squeeze', 'the', 'life', 'out', 'of', 'their', 'prey', 'They', 'coil', 'themselves', 'around', 'their', 'prey', 'and', 'with', 'each', 'breath', 'the', 'creature', 'takes', 'the', 'snake', 'will', 'squeeze', 'a', 'little', 'tighter', 'until', 'they', 'stop', 'breathing', 'completely', 'Once', 'the', 'heart', 'stops', 'the', 'prey', 'is', 'swallowed', 'whole', 'The', 'entire', 'animal', 'is', 'digested', 'in', 'the', 'snakes', 'stomach', 'except', 'for', 'fur', 'or', 'feathers', 'What', 'do', 'you', 'think', 'happens', 'to', 'the', 'fur', 'feathers', 'beaks', 'and', 'eggshells', 'The', 'extra', 'stuff', 'gets', 'passed', 'out', 'as', 'you', 'guessed', 'it', 'snake', 'POOP']\n"
     ]
    }
   ],
   "source": [
    "my_story = \"\"\"\n",
    "Pythons are constrictors, which means that they will 'squeeze' the life\n",
    "out of their prey. They coil themselves around their prey and with\n",
    "each breath the creature takes the snake will squeeze a little tighter\n",
    "until they stop breathing completely. Once the heart stops the prey\n",
    "is swallowed whole. The entire animal is digested in the snake's\n",
    "stomach except for fur or feathers. What do you think happens to the fur,\n",
    "feathers, beaks, and eggshells? The 'extra stuff' gets passed out as ---\n",
    "you guessed it --- snake POOP! \"\"\"\n",
    "\n",
    "wds = remove_punctuation(my_story).split()\n",
    "print(wds)"
   ]
  },
  {
   "cell_type": "code",
   "execution_count": 22,
   "metadata": {},
   "outputs": [
    {
     "data": {
      "text/plain": [
       "87"
      ]
     },
     "execution_count": 22,
     "metadata": {},
     "output_type": "execute_result"
    }
   ],
   "source": [
    "len(wds)"
   ]
  },
  {
   "cell_type": "code",
   "execution_count": 23,
   "metadata": {},
   "outputs": [
    {
     "name": "stdout",
     "output_type": "stream",
     "text": [
      "2**10 = 1024 and 4 * 5 = 20.000000\n"
     ]
    }
   ],
   "source": [
    "n1 = 4\n",
    "n2 = 5\n",
    "s3 = \"2**10 = {0} and {1} * {2} = {3:f}\".format(2**10, n1, n2, n1 * n2)\n",
    "print(s3)"
   ]
  },
  {
   "cell_type": "code",
   "execution_count": 24,
   "metadata": {},
   "outputs": [
    {
     "name": "stdout",
     "output_type": "stream",
     "text": [
      "\n",
      "Dear Paris Hilto.\n",
      "Paris, I have an interesting money-making proposition for you!\n",
      "If you deposit $10 million into my bank account, I can\n",
      "double your money ...\n",
      "\n",
      "\n",
      "Dear Bill Gates.\n",
      "Bill, I have an interesting money-making proposition for you!\n",
      "If you deposit $10 million into my bank account, I can\n",
      "double your money ...\n",
      "\n"
     ]
    }
   ],
   "source": [
    "letter = \"\"\"\n",
    "Dear {0} {2}.\n",
    "{0}, I have an interesting money-making proposition for you!\n",
    "If you deposit $10 million into my bank account, I can\n",
    "double your money ...\n",
    "\"\"\"\n",
    "print(letter.format(\"Paris\", \"Whiteny\", \"Hilto\"))\n",
    "print(letter.format(\"Bill\", \"Henry\", \"Gates\"))"
   ]
  },
  {
   "cell_type": "code",
   "execution_count": 25,
   "metadata": {},
   "outputs": [
    {
     "name": "stdout",
     "output_type": "stream",
     "text": [
      "i\ti**2\ti**3\ti**5\ti**10\ti**20\n",
      "1 \t 1 \t 1 \t 1 \t 1 \t 1\n",
      "2 \t 4 \t 8 \t 32 \t 1024 \t 1048576\n",
      "3 \t 9 \t 27 \t 243 \t 59049 \t 3486784401\n",
      "4 \t 16 \t 64 \t 1024 \t 1048576 \t 1099511627776\n",
      "5 \t 25 \t 125 \t 3125 \t 9765625 \t 95367431640625\n",
      "6 \t 36 \t 216 \t 7776 \t 60466176 \t 3656158440062976\n",
      "7 \t 49 \t 343 \t 16807 \t 282475249 \t 79792266297612001\n",
      "8 \t 64 \t 512 \t 32768 \t 1073741824 \t 1152921504606846976\n",
      "9 \t 81 \t 729 \t 59049 \t 3486784401 \t 12157665459056928801\n",
      "10 \t 100 \t 1000 \t 100000 \t 10000000000 \t 100000000000000000000\n"
     ]
    }
   ],
   "source": [
    "print(\"i\\ti**2\\ti**3\\ti**5\\ti**10\\ti**20\")\n",
    "for i in range(1, 11):\n",
    "    print(i, \"\\t\", i**2, \"\\t\", i**3, \"\\t\", i**5, \"\\t\", i**10, \"\\t\", i**20)"
   ]
  },
  {
   "cell_type": "code",
   "execution_count": 26,
   "metadata": {},
   "outputs": [
    {
     "name": "stdout",
     "output_type": "stream",
     "text": [
      "   i  i**2  i**3    i**5        i**10                   i**20\n",
      "   1     1     1       1            1                       1\n",
      "   2     4     8      32         1024                 1048576\n",
      "   3     9    27     243        59049              3486784401\n",
      "   4    16    64    1024      1048576           1099511627776\n",
      "   5    25   125    3125      9765625          95367431640625\n",
      "   6    36   216    7776     60466176        3656158440062976\n",
      "   7    49   343   16807    282475249       79792266297612001\n",
      "   8    64   512   32768   1073741824     1152921504606846976\n",
      "   9    81   729   59049   3486784401    12157665459056928801\n",
      "  10   100  1000  100000  10000000000   100000000000000000000\n"
     ]
    }
   ],
   "source": [
    "layout = \"{0:>4}{1:>6}{2:>6}{3:>8}{4:>13}{5:>24}\"\n",
    "\n",
    "print(layout.format(\"i\", \"i**2\", \"i**3\", \"i**5\", \"i**10\", \"i**20\"))\n",
    "for i in range(1, 11):\n",
    "    print(layout.format(i, i**2, i**3, i**5, i**10, i**20))"
   ]
  },
  {
   "cell_type": "markdown",
   "metadata": {},
   "source": [
    "## 8.19. Exercises"
   ]
  },
  {
   "cell_type": "markdown",
   "metadata": {},
   "source": [
    "### 6. Print a neat looking multiplication table like this:"
   ]
  },
  {
   "cell_type": "code",
   "execution_count": 39,
   "metadata": {},
   "outputs": [],
   "source": [
    "# Encapsulation and Generalization\n",
    "def print_multiples(n):\n",
    "    for i in range(1, 13):\n",
    "        print(n*i, end= \" \")\n",
    "    print()\n",
    "\n",
    "# More Encapsulation\n",
    "def print_multi_table(n):\n",
    "    #print(\":--------------------------------------------------\")\n",
    "    for i in range(1, 13):\n",
    "        print_multiples(i)"
   ]
  },
  {
   "cell_type": "code",
   "execution_count": 42,
   "metadata": {},
   "outputs": [
    {
     "name": "stdout",
     "output_type": "stream",
     "text": [
      ":--------------------------------------------------\n",
      "1 2 3 4 5 6 7 8 9 10 11 12 \n",
      "2 4 6 8 10 12 14 16 18 20 22 24 \n",
      "3 6 9 12 15 18 21 24 27 30 33 36 \n",
      "4 8 12 16 20 24 28 32 36 40 44 48 \n",
      "5 10 15 20 25 30 35 40 45 50 55 60 \n",
      "6 12 18 24 30 36 42 48 54 60 66 72 \n",
      "7 14 21 28 35 42 49 56 63 70 77 84 \n",
      "8 16 24 32 40 48 56 64 72 80 88 96 \n",
      "9 18 27 36 45 54 63 72 81 90 99 108 \n",
      "10 20 30 40 50 60 70 80 90 100 110 120 \n",
      "11 22 33 44 55 66 77 88 99 110 121 132 \n",
      "12 24 36 48 60 72 84 96 108 120 132 144 \n"
     ]
    }
   ],
   "source": [
    "print_multi_table(13)"
   ]
  },
  {
   "cell_type": "markdown",
   "metadata": {},
   "source": [
    "### 7. Write a function that reverses its string argument, and satisfies these tests:\n",
    "        test(reverse(\"happy\") == \"yppah\")\n",
    "        test(reverse(\"Python\") == \"nohtyP\")\n",
    "        test(reverse(\"\") == \"\")\n",
    "        test(reverse(\"a\") == \"a\")"
   ]
  },
  {
   "cell_type": "code",
   "execution_count": 51,
   "metadata": {},
   "outputs": [],
   "source": [
    "def reverse(st):\n",
    "    return st[::-1]"
   ]
  },
  {
   "cell_type": "code",
   "execution_count": 52,
   "metadata": {},
   "outputs": [
    {
     "name": "stdout",
     "output_type": "stream",
     "text": [
      "Test at line 1 ok.\n",
      "Test at line 2 ok.\n",
      "Test at line 3 ok.\n",
      "Test at line 4 ok.\n"
     ]
    }
   ],
   "source": [
    "test(reverse(\"happy\") == \"yppah\")\n",
    "test(reverse(\"Python\") == \"nohtyP\")\n",
    "test(reverse(\"\") == \"\")\n",
    "test(reverse(\"a\") == \"a\")"
   ]
  },
  {
   "cell_type": "code",
   "execution_count": 53,
   "metadata": {},
   "outputs": [
    {
     "name": "stdout",
     "output_type": "stream",
     "text": [
      "yppah\n"
     ]
    }
   ],
   "source": [
    "s = \"happy\"\n",
    "print(s[::-1])"
   ]
  },
  {
   "cell_type": "markdown",
   "metadata": {},
   "source": [
    "### 8. Write a function that mirrors its argument:\n",
    "        test(mirror(\"good\") == \"gooddoog\")\n",
    "        test(mirror(\"Python\") == \"PythonnohtyP\")\n",
    "        test(mirror(\"\") == \"\")\n",
    "        test(mirror(\"a\") == \"aa\")"
   ]
  },
  {
   "cell_type": "code",
   "execution_count": 54,
   "metadata": {},
   "outputs": [],
   "source": [
    "def mirror(st):\n",
    "    return st + st[::-1]"
   ]
  },
  {
   "cell_type": "code",
   "execution_count": 55,
   "metadata": {},
   "outputs": [
    {
     "name": "stdout",
     "output_type": "stream",
     "text": [
      "Test at line 1 ok.\n",
      "Test at line 2 ok.\n",
      "Test at line 3 ok.\n",
      "Test at line 4 ok.\n"
     ]
    }
   ],
   "source": [
    "test(mirror(\"good\") == \"gooddoog\")\n",
    "test(mirror(\"Python\") == \"PythonnohtyP\")\n",
    "test(mirror(\"\") == \"\")\n",
    "test(mirror(\"a\") == \"aa\")"
   ]
  },
  {
   "cell_type": "markdown",
   "metadata": {},
   "source": [
    "### 9. Write a function that removes all occurrences of a given letter from a string:\n",
    "        test(remove_letter(\"a\", \"apple\") == \"pple\")\n",
    "        test(remove_letter(\"a\", \"banana\") == \"bnn\")\n",
    "        test(remove_letter(\"z\", \"banana\") == \"banana\")\n",
    "        test(remove_letter(\"i\", \"Mississippi\") == \"Msssspp\")\n",
    "        test(remove_letter(\"b\", \"\") = \"\")\n",
    "        test(remove_letter(\"b\", \"c\") = \"c\")"
   ]
  },
  {
   "cell_type": "code",
   "execution_count": 70,
   "metadata": {},
   "outputs": [],
   "source": [
    "def remove_letter(s, st):\n",
    "    st1 = st.replace(s, \"\")\n",
    "    return st1"
   ]
  },
  {
   "cell_type": "code",
   "execution_count": 74,
   "metadata": {},
   "outputs": [
    {
     "name": "stdout",
     "output_type": "stream",
     "text": [
      "Test at line 1 ok.\n",
      "Test at line 2 ok.\n",
      "Test at line 3 ok.\n",
      "Test at line 4 ok.\n",
      "Test at line 5 ok.\n",
      "Test at line 6 ok.\n"
     ]
    }
   ],
   "source": [
    "test(remove_letter(\"a\", \"apple\") == \"pple\")\n",
    "test(remove_letter(\"a\", \"banana\") == \"bnn\")\n",
    "test(remove_letter(\"z\", \"banana\") == \"banana\")\n",
    "test(remove_letter(\"i\", \"Mississippi\") == \"Msssspp\")\n",
    "test(remove_letter(\"b\", \"\") == \"\")\n",
    "test(remove_letter(\"b\", \"c\") == \"c\")"
   ]
  },
  {
   "cell_type": "code",
   "execution_count": 65,
   "metadata": {},
   "outputs": [
    {
     "name": "stdout",
     "output_type": "stream",
     "text": [
      "pple\n"
     ]
    }
   ],
   "source": [
    "a = \"apple\"\n",
    "print(a.replace(\"a\", \"\"))"
   ]
  },
  {
   "cell_type": "code",
   "execution_count": 72,
   "metadata": {},
   "outputs": [
    {
     "data": {
      "text/plain": [
       "'pple'"
      ]
     },
     "execution_count": 72,
     "metadata": {},
     "output_type": "execute_result"
    }
   ],
   "source": [
    "remove_letter(\"a\", \"apple\")"
   ]
  },
  {
   "cell_type": "markdown",
   "metadata": {},
   "source": [
    "### 10. Write a function that recognizes palindromes. (Hint: use your reverse function to make this easy!):\n",
    "            test(is_palindrome(\"abba\"))\n",
    "            test(not is_palindrome(\"abab\"))\n",
    "            test(is_palindrome(\"tenet\"))\n",
    "            test(not is_palindrome(\"banana\"))\n",
    "            test(is_palindrome(\"straw warts\"))\n",
    "            test(is_palindrome(\"a\"))\n",
    "            # test(is_palindrome(\"\")) # Is an empty string a palindrome?"
   ]
  },
  {
   "cell_type": "code",
   "execution_count": 75,
   "metadata": {},
   "outputs": [],
   "source": [
    "def is_palindrome(st):\n",
    "    return st == st[::-1]"
   ]
  },
  {
   "cell_type": "code",
   "execution_count": 76,
   "metadata": {},
   "outputs": [
    {
     "name": "stdout",
     "output_type": "stream",
     "text": [
      "Test at line 1 ok.\n",
      "Test at line 2 ok.\n",
      "Test at line 3 ok.\n",
      "Test at line 4 ok.\n",
      "Test at line 5 ok.\n",
      "Test at line 6 ok.\n"
     ]
    }
   ],
   "source": [
    "test(is_palindrome(\"abba\"))\n",
    "test(not is_palindrome(\"abab\"))\n",
    "test(is_palindrome(\"tenet\"))\n",
    "test(not is_palindrome(\"banana\"))\n",
    "test(is_palindrome(\"straw warts\"))\n",
    "test(is_palindrome(\"a\"))\n",
    "# test(is_palindrome(\"\")) # Is an empty string a palindrome?"
   ]
  },
  {
   "cell_type": "markdown",
   "metadata": {},
   "source": [
    "### 11. Write a function that counts how many times a substring occurs in a string:\n",
    "        test(count(\"is\", \"Mississippi\") == 2)\n",
    "        test(count(\"an\", \"banana\") == 2)\n",
    "        test(count(\"ana\", \"banana\") == 2)\n",
    "        test(count(\"nana\", \"banana\") == 1)\n",
    "        test(count(\"nanan\", \"banana\") == 0)"
   ]
  },
  {
   "cell_type": "code",
   "execution_count": 89,
   "metadata": {},
   "outputs": [],
   "source": [
    "def count(s, st):\n",
    "    return st.count(s)"
   ]
  },
  {
   "cell_type": "code",
   "execution_count": 90,
   "metadata": {},
   "outputs": [
    {
     "name": "stdout",
     "output_type": "stream",
     "text": [
      "Test at line 1 ok.\n",
      "Test at line 2 ok.\n",
      "Test at line 3 FAILED\n",
      "Test at line 4 ok.\n",
      "Test at line 5 ok.\n"
     ]
    }
   ],
   "source": [
    "test(count(\"is\", \"Mississippi\") == 2)\n",
    "test(count(\"an\", \"banana\") == 2)\n",
    "test(count(\"ana\", \"banana\") == 2)\n",
    "test(count(\"nana\", \"banana\") == 1)\n",
    "test(count(\"nanan\", \"banana\") == 0)"
   ]
  },
  {
   "cell_type": "markdown",
   "metadata": {},
   "source": [
    "### 12. Write a function that removes the first occurrence of a string from another string:\n",
    "        test(remove(\"an\", \"banana\") == \"bana\")\n",
    "        test(remove(\"cyc\", \"bicycle\") == \"bile\")\n",
    "        test(remove(\"iss\", \"Mississippi\") == \"Missippi\")\n",
    "        test(remove(\"eggs\", \"bicycle\") == \"bicycle\")"
   ]
  },
  {
   "cell_type": "code",
   "execution_count": 97,
   "metadata": {},
   "outputs": [
    {
     "name": "stdout",
     "output_type": "stream",
     "text": [
      "Test at line 3 ok.\n",
      "Test at line 4 ok.\n",
      "Test at line 5 ok.\n",
      "Test at line 6 ok.\n"
     ]
    }
   ],
   "source": [
    "def remove(s, st):\n",
    "    return st.replace(s, \"\", 1)\n",
    "test(remove(\"an\", \"banana\") == \"bana\")\n",
    "test(remove(\"cyc\", \"bicycle\") == \"bile\")\n",
    "test(remove(\"iss\", \"Mississippi\") == \"Missippi\")\n",
    "test(remove(\"eggs\", \"bicycle\") == \"bicycle\")"
   ]
  },
  {
   "cell_type": "code",
   "execution_count": 96,
   "metadata": {},
   "outputs": [
    {
     "data": {
      "text/plain": [
       "'bana'"
      ]
     },
     "execution_count": 96,
     "metadata": {},
     "output_type": "execute_result"
    }
   ],
   "source": [
    "\"banana\".replace(\"an\", \"\", 1)\n",
    "#string.replace('Description', '', 1)"
   ]
  },
  {
   "cell_type": "markdown",
   "metadata": {},
   "source": [
    "### 13. Write a function that removes all occurrences of a string from another string:\n",
    "        test(remove_all(\"an\", \"banana\") == \"ba\")\n",
    "        test(remove_all(\"cyc\", \"bicycle\") == \"bile\")\n",
    "        test(remove_all(\"iss\", \"Mississippi\") == \"Mippi\")\n",
    "        test(remove_all(\"eggs\", \"bicycle\") == \"bicycle\")"
   ]
  },
  {
   "cell_type": "code",
   "execution_count": 98,
   "metadata": {},
   "outputs": [],
   "source": [
    "def remove_all(s, st):\n",
    "    return st.replace(s,\"\")"
   ]
  },
  {
   "cell_type": "code",
   "execution_count": 99,
   "metadata": {},
   "outputs": [
    {
     "name": "stdout",
     "output_type": "stream",
     "text": [
      "Test at line 1 ok.\n",
      "Test at line 2 ok.\n",
      "Test at line 3 ok.\n",
      "Test at line 4 ok.\n"
     ]
    }
   ],
   "source": [
    "test(remove_all(\"an\", \"banana\") == \"ba\")\n",
    "test(remove_all(\"cyc\", \"bicycle\") == \"bile\")\n",
    "test(remove_all(\"iss\", \"Mississippi\") == \"Mippi\")\n",
    "test(remove_all(\"eggs\", \"bicycle\") == \"bicycle\")"
   ]
  },
  {
   "cell_type": "markdown",
   "metadata": {},
   "source": [
    "# CHAPTER 9: TUPLES"
   ]
  },
  {
   "cell_type": "code",
   "execution_count": 3,
   "metadata": {},
   "outputs": [],
   "source": [
    "\n",
    "def f(r):\n",
    "    import math\n",
    "    \"\"\" Return (Circumfrance, area) of a circle of radius r\"\"\"\n",
    "    c = 2 * math.pi *r\n",
    "    a = math.pi * r * r\n",
    "    return (c, a)"
   ]
  },
  {
   "cell_type": "code",
   "execution_count": 4,
   "metadata": {},
   "outputs": [
    {
     "data": {
      "text/plain": [
       "(62.83185307179586, 314.1592653589793)"
      ]
     },
     "execution_count": 4,
     "metadata": {},
     "output_type": "execute_result"
    }
   ],
   "source": [
    "f(10)"
   ]
  },
  {
   "cell_type": "markdown",
   "metadata": {},
   "source": [
    "# CHAPTER 10: EVENT HANDLING"
   ]
  },
  {
   "cell_type": "code",
   "execution_count": 5,
   "metadata": {},
   "outputs": [],
   "source": [
    "import turtle\n",
    "\n",
    "turtle.setup(400,500) # Determine the window size\n",
    "wn = turtle.Screen() # Get a reference to the window \n",
    "wn.title(\"Handling keypresses!\") # Change the window title\n",
    "wn.bgcolor(\"lightgreen\") # Set the background color\n",
    "tess = turtle.Turtle() # Create our favorite turtle\n",
    "\n",
    "# The next four functions are our \"event handlers\".\n",
    "def h1():\n",
    "    tess.forward(30)\n",
    "\n",
    "def h2():\n",
    "    tess.left(45)\n",
    "\n",
    "def h3():\n",
    "    tess.right(45)\n",
    "\n",
    "def h4():\n",
    "    wn.bye() # Close down the turtle window\n",
    "\n",
    "# These lines \"wire up\" keypresses to the handlers we've defined.\n",
    "wn.onkey(h1, \"Up\")\n",
    "wn.onkey(h2, \"Left\")\n",
    "wn.onkey(h3, \"Right\")\n",
    "wn.onkey(h4, \"q\")\n",
    "\n",
    "# Now we need to tell the window to start listening for events,\n",
    "# If any of the keys that we're monitoring is pressed, its\n",
    "# handler will be called.\n",
    "wn.listen()\n",
    "wn.mainloop()"
   ]
  },
  {
   "cell_type": "code",
   "execution_count": 11,
   "metadata": {},
   "outputs": [],
   "source": [
    "import turtle\n",
    "\n",
    "turtle.setup(400,500)\n",
    "wn = turtle.Screen()\n",
    "wn.title(\"How to handle mouse clicks on the window!\")\n",
    "wn.bgcolor(\"lightgreen\")\n",
    "\n",
    "tess = turtle.Turtle()\n",
    "tess.color(\"purple\")\n",
    "tess.pensize(3)\n",
    "tess.shape(\"circle\")\n",
    "def h1(x, y):\n",
    "    tess.goto(x, y)\n",
    "\n",
    "wn.onclick(h1) # Wire up a click on the window.\n",
    "wn.mainloop()"
   ]
  },
  {
   "cell_type": "code",
   "execution_count": 13,
   "metadata": {},
   "outputs": [],
   "source": [
    "import turtle\n",
    "\n",
    "turtle.setup(400,500) # Determine the window size\n",
    "wn = turtle.Screen() # Get a reference to the window\n",
    "wn.title(\"Handling mouse clicks!\") # Change the window title\n",
    "wn.bgcolor(\"lightgreen\") # Set the background color\n",
    "tess = turtle.Turtle() # Create two turtles\n",
    "tess.color(\"purple\")\n",
    "alex = turtle.Turtle() # Move them apart\n",
    "alex.color(\"blue\")\n",
    "alex.forward(100)\n",
    "\n",
    "def handler_for_tess(x, y):\n",
    "    wn.title(\"Tess clicked at {0}, {1}\".format(x, y))\n",
    "    tess.left(42)\n",
    "    tess.forward(30)\n",
    "\n",
    "def handler_for_alex(x, y):\n",
    "    wn.title(\"Alex clicked at {0}, {1}\".format(x, y))\n",
    "    alex.right(84)\n",
    "    alex.forward(50)\n",
    "\n",
    "tess.onclick(handler_for_tess)\n",
    "alex.onclick(handler_for_alex)\n",
    "\n",
    "wn.mainloop()"
   ]
  },
  {
   "cell_type": "code",
   "execution_count": 17,
   "metadata": {},
   "outputs": [],
   "source": [
    "import turtle\n",
    "\n",
    "turtle.setup(400,500)\n",
    "wn = turtle.Screen()\n",
    "wn.title(\"Using a timer\")\n",
    "wn.bgcolor(\"lightgreen\")\n",
    "\n",
    "tess = turtle.Turtle()\n",
    "tess.color(\"purple\")\n",
    "tess.pensize(3)\n",
    "\n",
    "def h1():\n",
    "    tess.forward(100)\n",
    "    tess.left(56)\n",
    "\n",
    "wn.ontimer(h1, 2000)\n",
    "wn.mainloop()"
   ]
  },
  {
   "cell_type": "code",
   "execution_count": null,
   "metadata": {},
   "outputs": [],
   "source": [
    "import turtle\n",
    "\n",
    "turtle.setup(400,500)\n",
    "wn = turtle.Screen()\n",
    "wn.title(\"Using a timer to get events!\")\n",
    "wn.bgcolor(\"lightgreen\")\n",
    "\n",
    "tess = turtle.Turtle()\n",
    "tess.color(\"purple\")\n",
    "\n",
    "def h1():\n",
    "    tess.forward(100)\n",
    "    tess.left(56)\n",
    "    wn.ontimer(h1, 60)\n",
    "\n",
    "h1()\n",
    "wn.mainloop()"
   ]
  },
  {
   "cell_type": "code",
   "execution_count": 23,
   "metadata": {},
   "outputs": [],
   "source": [
    "import turtle # Tess becomes a traffic light.\n",
    "\n",
    "turtle.setup(400,500)\n",
    "wn = turtle.Screen()\n",
    "wn.title(\"Tess becomes a traffic light!\")\n",
    "wn.bgcolor(\"lightgreen\")\n",
    "tess = turtle.Turtle()\n",
    "\n",
    "def draw_housing():\n",
    "    \"\"\" Draw a nice housing to hold the traffic lights \"\"\"\n",
    "    tess.pensize(3)\n",
    "    tess.color(\"black\", \"darkgrey\")\n",
    "    tess.begin_fill()\n",
    "    tess.forward(80)\n",
    "    tess.left(90)\n",
    "    tess.forward(200)\n",
    "    tess.circle(40, 180)\n",
    "    tess.forward(200)\n",
    "    tess.left(90)\n",
    "    tess.end_fill()\n",
    "\n",
    "draw_housing()\n",
    "\n",
    "tess.penup()\n",
    "# Position tess onto the place where the green light should be\n",
    "tess.forward(40)\n",
    "tess.left(90)\n",
    "tess.forward(50)\n",
    "# Turn tess into a big green circle\n",
    "tess.shape(\"circle\")\n",
    "tess.shapesize(3)\n",
    "tess.fillcolor(\"green\")\n",
    "\n",
    "# A traffic light is a kind of state machine with three states,\n",
    "# Green, Orange, Red. We number these states 0, 1, 2\n",
    "# When the machine changes state, we change tess' position and\n",
    "# her fillcolor.\n",
    "\n",
    "# This variable holds the current state of the machine\n",
    "state_num = 0\n",
    "\n",
    "def advance_state_machine():\n",
    "    global state_num\n",
    "    if state_num == 0: # Transition from state 0 to state 1\n",
    "        tess.forward(70)\n",
    "        tess.fillcolor(\"orange\")\n",
    "        state_num = 1\n",
    "    elif state_num == 1: # Transition from state 1 to state 2\n",
    "        tess.forward(70)\n",
    "        tess.fillcolor(\"red\")\n",
    "        state_num = 2\n",
    "    else: # Transition from state 2 to state 0\n",
    "        tess.back(140)\n",
    "        tess.fillcolor(\"green\")\n",
    "        state_num = 0\n",
    "\n",
    "# Bind the event handler to the space key.\n",
    "wn.onkey(advance_state_machine, \"space\")\n",
    "\n",
    "wn.listen() # Listen for events\n",
    "wn.mainloop()"
   ]
  },
  {
   "cell_type": "markdown",
   "metadata": {},
   "source": [
    "# Chapter 11: lists"
   ]
  },
  {
   "cell_type": "code",
   "execution_count": 27,
   "metadata": {},
   "outputs": [
    {
     "name": "stdout",
     "output_type": "stream",
     "text": [
      "war\n",
      "famine\n",
      "pestilence\n",
      "death\n"
     ]
    }
   ],
   "source": [
    "horsemen = [\"war\", \"famine\", \"pestilence\", \"death\"]\n",
    "for i in [0, 1, 2, 3]:\n",
    "    print(horsemen[i]) "
   ]
  },
  {
   "cell_type": "code",
   "execution_count": 28,
   "metadata": {},
   "outputs": [
    {
     "name": "stdout",
     "output_type": "stream",
     "text": [
      "war\n",
      "famine\n",
      "pestilence\n",
      "death\n"
     ]
    }
   ],
   "source": [
    "for h in horsemen:\n",
    "    print(h)"
   ]
  },
  {
   "cell_type": "code",
   "execution_count": 30,
   "metadata": {},
   "outputs": [
    {
     "name": "stdout",
     "output_type": "stream",
     "text": [
      "war\n",
      "famine\n",
      "pestilence\n",
      "death\n"
     ]
    }
   ],
   "source": [
    "for i in range(len(horsemen)):\n",
    "    print(horsemen[i])"
   ]
  },
  {
   "cell_type": "code",
   "execution_count": 34,
   "metadata": {},
   "outputs": [],
   "source": [
    "xs =[1,2,3,4,5]\n",
    "for i in range(len(xs)):\n",
    "    xs[i] = xs[i]**2"
   ]
  },
  {
   "cell_type": "code",
   "execution_count": 35,
   "metadata": {},
   "outputs": [
    {
     "data": {
      "text/plain": [
       "[1, 4, 9, 16, 25]"
      ]
     },
     "execution_count": 35,
     "metadata": {},
     "output_type": "execute_result"
    }
   ],
   "source": [
    "xs"
   ]
  },
  {
   "cell_type": "code",
   "execution_count": 36,
   "metadata": {},
   "outputs": [],
   "source": [
    "for (i, val) in enumerate(xs):\n",
    "    xs[i] = val**2"
   ]
  },
  {
   "cell_type": "code",
   "execution_count": 37,
   "metadata": {},
   "outputs": [
    {
     "data": {
      "text/plain": [
       "[1, 16, 81, 256, 625]"
      ]
     },
     "execution_count": 37,
     "metadata": {},
     "output_type": "execute_result"
    }
   ],
   "source": [
    "xs"
   ]
  },
  {
   "cell_type": "code",
   "execution_count": 4,
   "metadata": {},
   "outputs": [
    {
     "name": "stdout",
     "output_type": "stream",
     "text": [
      "Test 1: False\n",
      "Test 2: True\n"
     ]
    }
   ],
   "source": [
    "this = [\"I\", \"am\", \"not\", \"a\", \"crook\"]\n",
    "that = [\"I\", \"am\", \"not\", \"a\", \"crook\"]\n",
    "print(\"Test 1: {0}\".format(this is that))\n",
    "that = this\n",
    "print(\"Test 2: {0}\".format(this is that))"
   ]
  },
  {
   "cell_type": "markdown",
   "metadata": {},
   "source": [
    "### 6. Write a function scalar_mult(s, v) that takes a number, s, and a list, v and returns the scalar multiple¹⁰ of v by s:\n",
    "        test(scalar_mult(5, [1, 2]) == [5, 10])\n",
    "        test(scalar_mult(3, [1, 0, -1]) == [3, 0, -3])\n",
    "        test(scalar_mult(7, [3, 0, 5, 11, 2]) == [21, 0, 35, 77, 14])"
   ]
  },
  {
   "cell_type": "code",
   "execution_count": 2,
   "metadata": {},
   "outputs": [],
   "source": [
    "import sys\n",
    "def test(did_pass):\n",
    "    \"\"\" Print the result of the test. \"\"\"\n",
    "    linenum = sys._getframe(1).f_lineno # Get the callers line number\n",
    "\n",
    "    if did_pass:\n",
    "        msg = \"Test at line {0} ok.\".format(linenum)\n",
    "    else:\n",
    "        msg = \"Test at line {0} FAILED\".format(linenum)\n",
    "    print(msg)"
   ]
  },
  {
   "cell_type": "code",
   "execution_count": 25,
   "metadata": {},
   "outputs": [],
   "source": [
    "def scalar_mult(s, v):\n",
    "    l = [x * s for x in v]\n",
    "    return l"
   ]
  },
  {
   "cell_type": "code",
   "execution_count": 26,
   "metadata": {},
   "outputs": [
    {
     "name": "stdout",
     "output_type": "stream",
     "text": [
      "Test at line 1 ok.\n",
      "Test at line 2 ok.\n",
      "Test at line 3 ok.\n"
     ]
    }
   ],
   "source": [
    "test(scalar_mult(5, [1, 2]) == [5, 10])\n",
    "test(scalar_mult(3, [1, 0, -1]) == [3, 0, -3])\n",
    "test(scalar_mult(7, [3, 0, 5, 11, 2]) == [21, 0, 35, 77, 14])"
   ]
  },
  {
   "cell_type": "code",
   "execution_count": 27,
   "metadata": {},
   "outputs": [
    {
     "data": {
      "text/plain": [
       "[5, 10]"
      ]
     },
     "execution_count": 27,
     "metadata": {},
     "output_type": "execute_result"
    }
   ],
   "source": [
    "scalar_mult(5, [1, 2])"
   ]
  },
  {
   "cell_type": "markdown",
   "metadata": {},
   "source": [
    "### 7. Write a function dot_product(u, v) that takes two lists of numbers of the same length, and returns the sum of the products of the corresponding elements of each (the dot_product¹¹).\n",
    "        test(dot_product([1, 1], [1, 1]) == 2)\n",
    "        test(dot_product([1, 2], [1, 4]) == 9)\n",
    "        test(dot_product([1, 2, 1], [1, 4, 3]) == 12)"
   ]
  },
  {
   "cell_type": "code",
   "execution_count": 30,
   "metadata": {},
   "outputs": [],
   "source": [
    "def dot_product(u, v):\n",
    "    return sum([u[i]*v[i] for i in range(len(v))])"
   ]
  },
  {
   "cell_type": "code",
   "execution_count": 31,
   "metadata": {},
   "outputs": [
    {
     "name": "stdout",
     "output_type": "stream",
     "text": [
      "Test at line 1 ok.\n",
      "Test at line 2 ok.\n",
      "Test at line 3 ok.\n"
     ]
    }
   ],
   "source": [
    "test(dot_product([1, 1], [1, 1]) == 2)\n",
    "test(dot_product([1, 2], [1, 4]) == 9)\n",
    "test(dot_product([1, 2, 1], [1, 4, 3]) == 12)"
   ]
  },
  {
   "cell_type": "code",
   "execution_count": 32,
   "metadata": {},
   "outputs": [
    {
     "data": {
      "text/plain": [
       "2"
      ]
     },
     "execution_count": 32,
     "metadata": {},
     "output_type": "execute_result"
    }
   ],
   "source": [
    "dot_product([1, 1], [1, 1])"
   ]
  },
  {
   "cell_type": "markdown",
   "metadata": {},
   "source": [
    "# Chapter 12: Modules"
   ]
  },
  {
   "cell_type": "code",
   "execution_count": 33,
   "metadata": {},
   "outputs": [],
   "source": [
    "import random\n",
    "\n",
    "def make_random(num, lower_bound, upper_bound):\n",
    "    \"\"\" \n",
    "    Generate a list containing num random ints between lower_bound and upper_bound. upper_bound is an open bound\n",
    "    \"\"\"\n",
    "\n",
    "    # Create a random number generator\n",
    "    rng = random.Random()\n",
    "    result = []\n",
    "\n",
    "    for i in range(num):\n",
    "        result.append(rng.randrange(lower_bound, upper_bound))\n",
    "    return result \n"
   ]
  },
  {
   "cell_type": "code",
   "execution_count": 34,
   "metadata": {},
   "outputs": [
    {
     "data": {
      "text/plain": [
       "[4, 3, 10, 7, 9]"
      ]
     },
     "execution_count": 34,
     "metadata": {},
     "output_type": "execute_result"
    }
   ],
   "source": [
    "make_random(5, 1, 13)"
   ]
  },
  {
   "cell_type": "markdown",
   "metadata": {},
   "source": [
    "# Exercise"
   ]
  },
  {
   "cell_type": "code",
   "execution_count": null,
   "metadata": {},
   "outputs": [],
   "source": [
    "# Cleaning up your strings\n",
    "import string\n",
    "punctuation = \"!\\\"#$%&'()*+,-./:;<=>?@[\\\\]^_`{|}~\"\n",
    "\n",
    "def remove_punctuation(s):\n",
    "    s_without_punc = \"\"\n",
    "    for letter in s:\n",
    "        if letter not in punctuation:\n",
    "            s_without_punc += letter\n",
    "    return s_without_punc"
   ]
  },
  {
   "cell_type": "markdown",
   "metadata": {},
   "source": [
    "# Chapter 13: Files"
   ]
  },
  {
   "cell_type": "code",
   "execution_count": 36,
   "metadata": {},
   "outputs": [],
   "source": [
    "myfile = open(\"test.txt\", \"w\")\n",
    "myfile.write(\"My first file written from Python\\n\")\n",
    "myfile.write(\"___________________\\n\")\n",
    "myfile.write(\"Hello, world!\\n\")\n",
    "myfile.close()"
   ]
  },
  {
   "cell_type": "code",
   "execution_count": 37,
   "metadata": {},
   "outputs": [
    {
     "name": "stdout",
     "output_type": "stream",
     "text": [
      "My first file written from Python\n",
      "___________________\n",
      "Hello, world!\n"
     ]
    }
   ],
   "source": [
    "# Reading a file at a time\n",
    "mynewhandle = open(\"test.txt\", \"r\")\n",
    "while True:\n",
    "    theline = mynewhandle.readline()\n",
    "    if len(theline) == 0: \n",
    "        break\n",
    "\n",
    "    print(theline, end=\"\")"
   ]
  },
  {
   "cell_type": "code",
   "execution_count": 38,
   "metadata": {},
   "outputs": [],
   "source": [
    "mynewhandle.close()"
   ]
  },
  {
   "cell_type": "code",
   "execution_count": 42,
   "metadata": {},
   "outputs": [],
   "source": [
    "f = open(\"test.txt\", \"r\")\n",
    "xs = f.readlines()\n",
    "f.close()\n",
    "\n",
    "xs.sort()"
   ]
  },
  {
   "cell_type": "code",
   "execution_count": 43,
   "metadata": {},
   "outputs": [],
   "source": [
    "g = open(\"sortedtest.txt\", \"w\")\n",
    "for v in xs:\n",
    "    g.write(v)\n",
    "g.close()"
   ]
  },
  {
   "cell_type": "code",
   "execution_count": null,
   "metadata": {},
   "outputs": [],
   "source": []
  },
  {
   "cell_type": "code",
   "execution_count": 44,
   "metadata": {},
   "outputs": [
    {
     "data": {
      "text/plain": [
       "('rfc793.txt', <http.client.HTTPMessage at 0x7feb8069a790>)"
      ]
     },
     "execution_count": 44,
     "metadata": {},
     "output_type": "execute_result"
    }
   ],
   "source": [
    "import urllib.request\n",
    "\n",
    "url = \"https://www.ietf.org/rfc/rfc793.txt\"\n",
    "destination_filename = \"rfc793.txt\"\n",
    "urllib.request.urlretrieve(url, destination_filename)"
   ]
  },
  {
   "cell_type": "code",
   "execution_count": 45,
   "metadata": {},
   "outputs": [
    {
     "name": "stdout",
     "output_type": "stream",
     "text": [
      "b'\\n\\nRFC: 793\\n                                    \\n                                    \\n                                    \\n                                    \\n                                    \\n                                    \\n                                    \\n                     TRANSMISSION CONTROL PROTOCOL\\n                                    \\n                                    \\n                         DARPA INTERNET PROGRAM\\n                                    \\n                         PROTOCOL SPECIFICATION\\n                                    \\n                                    \\n                                    \\n                             September 1981\\n\\n\\n\\n\\n\\n\\n\\n\\n\\n\\n\\n\\n\\n                              prepared for\\n                                    \\n               Defense Advanced Research Projects Agency\\n                Information Processing Techniques Office\\n                         1400 Wilson Boulevard\\n                       Arlington, Virginia  22209\\n\\n\\n\\n\\n\\n\\n\\n                                   by\\n\\n                     Information Sciences Institute\\n                   University of Southern California\\n                           4676 Admiralty Way\\n                   Marina del Rey, California  90291\\n\\x0c\\n\\x0c\\n\\nSeptember 1981                                                          \\n                                           Transmission Control Protocol\\n\\n\\n\\n                           TABLE OF CONTENTS\\n\\n    PREFACE ........................................................ iii\\n\\n1.  INTRODUCTION ..................................................... 1\\n\\n  1.1  Motivation .................................................... 1\\n  1.2  Scope ......................................................... 2\\n  1.3  About This Document ........................................... 2\\n  1.4  Interfaces .................................................... 3\\n  1.5  Operation ..................................................... 3\\n\\n2.  PHILOSOPHY ....................................................... 7\\n\\n  2.1  Elements of the Internetwork System ........................... 7\\n  2.2  Model of Operation ............................................ 7\\n  2.3  The Host Environment .......................................... 8\\n  2.4  Interfaces .................................................... 9\\n  2.5  Relation to Other Protocols ................................... 9\\n  2.6  Reliable Communication ........................................ 9\\n  2.7  Connection Establishment and Clearing ........................ 10\\n  2.8  Data Communication ........................................... 12\\n  2.9  Precedence and Security ...................................... 13\\n  2.10 Robustness Principle ......................................... 13\\n\\n3.  FUNCTIONAL SPECIFICATION ........................................ 15\\n\\n  3.1  Header Format ................................................ 15\\n  3.2  Terminology .................................................. 19\\n  3.3  Sequence Numbers ............................................. 24\\n  3.4  Establishing a connection .................................... 30\\n  3.5  Closing a Connection ......................................... 37\\n  3.6  Precedence and Security ...................................... 40\\n  3.7  Data Communication ........................................... 40\\n  3.8  Interfaces ................................................... 44\\n  3.9  Event Processing ............................................. 52\\n\\nGLOSSARY ............................................................ 79\\n\\nREFERENCES .......................................................... 85\\n\\n\\n\\n\\n\\n\\n\\n\\n\\n\\n\\n                                                                [Page i]\\n\\x0c\\n\\n                                                          September 1981\\nTransmission Control Protocol\\n\\n\\n\\n\\n\\n\\n\\n\\n\\n\\n\\n\\n\\n\\n\\n\\n\\n\\n\\n\\n\\n\\n\\n\\n\\n\\n\\n\\n\\n\\n\\n\\n\\n\\n\\n\\n\\n\\n\\n\\n\\n\\n\\n\\n\\n\\n\\n\\n\\n\\n\\n\\n\\n\\n[Page ii]                                                               \\n\\x0c\\n\\nSeptember 1981                                                          \\n                                           Transmission Control Protocol\\n\\n\\n\\n                                PREFACE\\n\\n\\n\\nThis document describes the DoD Standard Transmission Control Protocol\\n(TCP).  There have been nine earlier editions of the ARPA TCP\\nspecification on which this standard is based, and the present text\\ndraws heavily from them.  There have been many contributors to this work\\nboth in terms of concepts and in terms of text.  This edition clarifies\\nseveral details and removes the end-of-letter buffer-size adjustments,\\nand redescribes the letter mechanism as a push function.\\n\\n                                                           Jon Postel\\n\\n                                                           Editor\\n\\n\\n\\n\\n\\n\\n\\n\\n\\n\\n\\n\\n\\n\\n\\n\\n\\n\\n\\n\\n\\n\\n\\n\\n\\n\\n\\n\\n\\n\\n\\n\\n\\n\\n\\n\\n                                                              [Page iii]\\n\\x0c\\n\\x0c\\n\\n\\nRFC:  793\\nReplaces: RFC 761\\nIENs:  129, 124, 112, 81,\\n55, 44, 40, 27, 21, 5\\n\\n                     TRANSMISSION CONTROL PROTOCOL\\n\\n                         DARPA INTERNET PROGRAM\\n                         PROTOCOL SPECIFICATION\\n\\n\\n\\n                            1.  INTRODUCTION\\n\\nThe Transmission Control Protocol (TCP) is intended for use as a highly\\nreliable host-to-host protocol between hosts in packet-switched computer\\ncommunication networks, and in interconnected systems of such networks.\\n\\nThis document describes the functions to be performed by the\\nTransmission Control Protocol, the program that implements it, and its\\ninterface to programs or users that require its services.\\n\\n1.1.  Motivation\\n\\n  Computer communication systems are playing an increasingly important\\n  role in military, government, and civilian environments.  This\\n  document focuses its attention primarily on military computer\\n  communication requirements, especially robustness in the presence of\\n  communication unreliability and availability in the presence of\\n  congestion, but many of these problems are found in the civilian and\\n  government sector as well.\\n\\n  As strategic and tactical computer communication networks are\\n  developed and deployed, it is essential to provide means of\\n  interconnecting them and to provide standard interprocess\\n  communication protocols which can support a broad range of\\n  applications.  In anticipation of the need for such standards, the\\n  Deputy Undersecretary of Defense for Research and Engineering has\\n  declared the Transmission Control Protocol (TCP) described herein to\\n  be a basis for DoD-wide inter-process communication protocol\\n  standardization.\\n\\n  TCP is a connection-oriented, end-to-end reliable protocol designed to\\n  fit into a layered hierarchy of protocols which support multi-network\\n  applications.  The TCP provides for reliable inter-process\\n  communication between pairs of processes in host computers attached to\\n  distinct but interconnected computer communication networks.  Very few\\n  assumptions are made as to the reliability of the communication\\n  protocols below the TCP layer.  TCP assumes it can obtain a simple,\\n  potentially unreliable datagram service from the lower level\\n  protocols.  In principle, the TCP should be able to operate above a\\n  wide spectrum of communication systems ranging from hard-wired\\n  connections to packet-switched or circuit-switched networks.\\n\\n\\n                                                                [Page 1]\\n\\x0c\\n\\n                                                          September 1981\\nTransmission Control Protocol\\nIntroduction\\n\\n\\n\\n  TCP is based on concepts first described by Cerf and Kahn in [1].  The\\n  TCP fits into a layered protocol architecture just above a basic\\n  Internet Protocol [2] which provides a way for the TCP to send and\\n  receive variable-length segments of information enclosed in internet\\n  datagram \"envelopes\".  The internet datagram provides a means for\\n  addressing source and destination TCPs in different networks.  The\\n  internet protocol also deals with any fragmentation or reassembly of\\n  the TCP segments required to achieve transport and delivery through\\n  multiple networks and interconnecting gateways.  The internet protocol\\n  also carries information on the precedence, security classification\\n  and compartmentation of the TCP segments, so this information can be\\n  communicated end-to-end across multiple networks.\\n\\n                           Protocol Layering\\n\\n                        +---------------------+\\n                        |     higher-level    |\\n                        +---------------------+\\n                        |        TCP          |\\n                        +---------------------+\\n                        |  internet protocol  |\\n                        +---------------------+\\n                        |communication network|\\n                        +---------------------+\\n\\n                                Figure 1\\n\\n  Much of this document is written in the context of TCP implementations\\n  which are co-resident with higher level protocols in the host\\n  computer.  Some computer systems will be connected to networks via\\n  front-end computers which house the TCP and internet protocol layers,\\n  as well as network specific software.  The TCP specification describes\\n  an interface to the higher level protocols which appears to be\\n  implementable even for the front-end case, as long as a suitable\\n  host-to-front end protocol is implemented.\\n\\n1.2.  Scope\\n\\n  The TCP is intended to provide a reliable process-to-process\\n  communication service in a multinetwork environment.  The TCP is\\n  intended to be a host-to-host protocol in common use in multiple\\n  networks.\\n\\n1.3.  About this Document\\n\\n  This document represents a specification of the behavior required of\\n  any TCP implementation, both in its interactions with higher level\\n  protocols and in its interactions with other TCPs.  The rest of this\\n\\n\\n[Page 2]                                                                \\n\\x0c\\n\\nSeptember 1981                                                          \\n                                           Transmission Control Protocol\\n                                                            Introduction\\n\\n\\n\\n  section offers a very brief view of the protocol interfaces and\\n  operation.  Section 2 summarizes the philosophical basis for the TCP\\n  design.  Section 3 offers both a detailed description of the actions\\n  required of TCP when various events occur (arrival of new segments,\\n  user calls, errors, etc.) and the details of the formats of TCP\\n  segments.\\n\\n1.4.  Interfaces\\n\\n  The TCP interfaces on one side to user or application processes and on\\n  the other side to a lower level protocol such as Internet Protocol.\\n\\n  The interface between an application process and the TCP is\\n  illustrated in reasonable detail.  This interface consists of a set of\\n  calls much like the calls an operating system provides to an\\n  application process for manipulating files.  For example, there are\\n  calls to open and close connections and to send and receive data on\\n  established connections.  It is also expected that the TCP can\\n  asynchronously communicate with application programs.  Although\\n  considerable freedom is permitted to TCP implementors to design\\n  interfaces which are appropriate to a particular operating system\\n  environment, a minimum functionality is required at the TCP/user\\n  interface for any valid implementation.\\n\\n  The interface between TCP and lower level protocol is essentially\\n  unspecified except that it is assumed there is a mechanism whereby the\\n  two levels can asynchronously pass information to each other.\\n  Typically, one expects the lower level protocol to specify this\\n  interface.  TCP is designed to work in a very general environment of\\n  interconnected networks.  The lower level protocol which is assumed\\n  throughout this document is the Internet Protocol [2].\\n\\n1.5.  Operation\\n\\n  As noted above, the primary purpose of the TCP is to provide reliable,\\n  securable logical circuit or connection service between pairs of\\n  processes.  To provide this service on top of a less reliable internet\\n  communication system requires facilities in the following areas:\\n\\n    Basic Data Transfer\\n    Reliability\\n    Flow Control\\n    Multiplexing\\n    Connections\\n    Precedence and Security\\n\\n  The basic operation of the TCP in each of these areas is described in\\n  the following paragraphs.\\n\\n\\n                                                                [Page 3]\\n\\x0c\\n\\n                                                          September 1981\\nTransmission Control Protocol\\nIntroduction\\n\\n\\n\\n  Basic Data Transfer:\\n\\n    The TCP is able to transfer a continuous stream of octets in each\\n    direction between its users by packaging some number of octets into\\n    segments for transmission through the internet system.  In general,\\n    the TCPs decide when to block and forward data at their own\\n    convenience.\\n\\n    Sometimes users need to be sure that all the data they have\\n    submitted to the TCP has been transmitted.  For this purpose a push\\n    function is defined.  To assure that data submitted to a TCP is\\n    actually transmitted the sending user indicates that it should be\\n    pushed through to the receiving user.  A push causes the TCPs to\\n    promptly forward and deliver data up to that point to the receiver.\\n    The exact push point might not be visible to the receiving user and\\n    the push function does not supply a record boundary marker.\\n\\n  Reliability:\\n\\n    The TCP must recover from data that is damaged, lost, duplicated, or\\n    delivered out of order by the internet communication system.  This\\n    is achieved by assigning a sequence number to each octet\\n    transmitted, and requiring a positive acknowledgment (ACK) from the\\n    receiving TCP.  If the ACK is not received within a timeout\\n    interval, the data is retransmitted.  At the receiver, the sequence\\n    numbers are used to correctly order segments that may be received\\n    out of order and to eliminate duplicates.  Damage is handled by\\n    adding a checksum to each segment transmitted, checking it at the\\n    receiver, and discarding damaged segments.\\n\\n    As long as the TCPs continue to function properly and the internet\\n    system does not become completely partitioned, no transmission\\n    errors will affect the correct delivery of data.  TCP recovers from\\n    internet communication system errors.\\n\\n  Flow Control:\\n\\n    TCP provides a means for the receiver to govern the amount of data\\n    sent by the sender.  This is achieved by returning a \"window\" with\\n    every ACK indicating a range of acceptable sequence numbers beyond\\n    the last segment successfully received.  The window indicates an\\n    allowed number of octets that the sender may transmit before\\n    receiving further permission.\\n\\n\\n\\n\\n\\n\\n\\n[Page 4]                                                                \\n\\x0c\\n\\nSeptember 1981                                                          \\n                                           Transmission Control Protocol\\n                                                            Introduction\\n\\n\\n\\n  Multiplexing:\\n\\n    To allow for many processes within a single Host to use TCP\\n    communication facilities simultaneously, the TCP provides a set of\\n    addresses or ports within each host.  Concatenated with the network\\n    and host addresses from the internet communication layer, this forms\\n    a socket.  A pair of sockets uniquely identifies each connection.\\n    That is, a socket may be simultaneously used in multiple\\n    connections.\\n\\n    The binding of ports to processes is handled independently by each\\n    Host.  However, it proves useful to attach frequently used processes\\n    (e.g., a \"logger\" or timesharing service) to fixed sockets which are\\n    made known to the public.  These services can then be accessed\\n    through the known addresses.  Establishing and learning the port\\n    addresses of other processes may involve more dynamic mechanisms.\\n\\n  Connections:\\n\\n    The reliability and flow control mechanisms described above require\\n    that TCPs initialize and maintain certain status information for\\n    each data stream.  The combination of this information, including\\n    sockets, sequence numbers, and window sizes, is called a connection.\\n    Each connection is uniquely specified by a pair of sockets\\n    identifying its two sides.\\n\\n    When two processes wish to communicate, their TCP\\'s must first\\n    establish a connection (initialize the status information on each\\n    side).  When their communication is complete, the connection is\\n    terminated or closed to free the resources for other uses.\\n\\n    Since connections must be established between unreliable hosts and\\n    over the unreliable internet communication system, a handshake\\n    mechanism with clock-based sequence numbers is used to avoid\\n    erroneous initialization of connections.\\n\\n  Precedence and Security:\\n\\n    The users of TCP may indicate the security and precedence of their\\n    communication.  Provision is made for default values to be used when\\n    these features are not needed.\\n\\n    \\n\\n\\n\\n\\n\\n\\n\\n                                                                [Page 5]\\n\\x0c\\n\\n                                                          September 1981\\nTransmission Control Protocol\\n\\n\\n\\n\\n\\n\\n\\n\\n\\n\\n\\n\\n\\n\\n\\n\\n\\n\\n\\n\\n\\n\\n\\n\\n\\n\\n\\n\\n\\n\\n\\n\\n\\n\\n\\n\\n\\n\\n\\n\\n\\n\\n\\n\\n\\n\\n\\n\\n\\n\\n\\n\\n\\n\\n[Page 6]                                                                \\n\\x0c\\n\\nSeptember 1981                                                          \\n                                           Transmission Control Protocol\\n\\n\\n\\n                             2.  PHILOSOPHY\\n\\n2.1.  Elements of the Internetwork System\\n\\n  The internetwork environment consists of hosts connected to networks\\n  which are in turn interconnected via gateways.  It is assumed here\\n  that the networks may be either local networks (e.g., the ETHERNET) or\\n  large networks (e.g., the ARPANET), but in any case are based on\\n  packet switching technology.  The active agents that produce and\\n  consume messages are processes.  Various levels of protocols in the\\n  networks, the gateways, and the hosts support an interprocess\\n  communication system that provides two-way data flow on logical\\n  connections between process ports.\\n\\n  The term packet is used generically here to mean the data of one\\n  transaction between a host and its network.  The format of data blocks\\n  exchanged within the a network will generally not be of concern to us.\\n\\n  Hosts are computers attached to a network, and from the communication\\n  network\\'s point of view, are the sources and destinations of packets.\\n  Processes are viewed as the active elements in host computers (in\\n  accordance with the fairly common definition of a process as a program\\n  in execution).  Even terminals and files or other I/O devices are\\n  viewed as communicating with each other through the use of processes.\\n  Thus, all communication is viewed as inter-process communication.\\n\\n  Since a process may need to distinguish among several communication\\n  streams between itself and another process (or processes), we imagine\\n  that each process may have a number of ports through which it\\n  communicates with the ports of other processes.\\n\\n2.2.  Model of Operation\\n\\n  Processes transmit data by calling on the TCP and passing buffers of\\n  data as arguments.  The TCP packages the data from these buffers into\\n  segments and calls on the internet module to transmit each segment to\\n  the destination TCP.  The receiving TCP places the data from a segment\\n  into the receiving user\\'s buffer and notifies the receiving user.  The\\n  TCPs include control information in the segments which they use to\\n  ensure reliable ordered data transmission.\\n\\n  The model of internet communication is that there is an internet\\n  protocol module associated with each TCP which provides an interface\\n  to the local network.  This internet module packages TCP segments\\n  inside internet datagrams and routes these datagrams to a destination\\n  internet module or intermediate gateway.  To transmit the datagram\\n  through the local network, it is embedded in a local network packet.\\n\\n  The packet switches may perform further packaging, fragmentation, or\\n\\n\\n                                                                [Page 7]\\n\\x0c\\n\\n                                                          September 1981\\nTransmission Control Protocol\\nPhilosophy\\n\\n\\n\\n  other operations to achieve the delivery of the local packet to the\\n  destination internet module.\\n\\n  At a gateway between networks, the internet datagram is \"unwrapped\"\\n  from its local packet and examined to determine through which network\\n  the internet datagram should travel next.  The internet datagram is\\n  then \"wrapped\" in a local packet suitable to the next network and\\n  routed to the next gateway, or to the final destination.\\n\\n  A gateway is permitted to break up an internet datagram into smaller\\n  internet datagram fragments if this is necessary for transmission\\n  through the next network.  To do this, the gateway produces a set of\\n  internet datagrams; each carrying a fragment.  Fragments may be\\n  further broken into smaller fragments at subsequent gateways.  The\\n  internet datagram fragment format is designed so that the destination\\n  internet module can reassemble fragments into internet datagrams.\\n\\n  A destination internet module unwraps the segment from the datagram\\n  (after reassembling the datagram, if necessary) and passes it to the\\n  destination TCP.\\n\\n  This simple model of the operation glosses over many details.  One\\n  important feature is the type of service.  This provides information\\n  to the gateway (or internet module) to guide it in selecting the\\n  service parameters to be used in traversing the next network.\\n  Included in the type of service information is the precedence of the\\n  datagram.  Datagrams may also carry security information to permit\\n  host and gateways that operate in multilevel secure environments to\\n  properly segregate datagrams for security considerations.\\n\\n2.3.  The Host Environment\\n\\n  The TCP is assumed to be a module in an operating system.  The users\\n  access the TCP much like they would access the file system.  The TCP\\n  may call on other operating system functions, for example, to manage\\n  data structures.  The actual interface to the network is assumed to be\\n  controlled by a device driver module.  The TCP does not call on the\\n  network device driver directly, but rather calls on the internet\\n  datagram protocol module which may in turn call on the device driver.\\n\\n  The mechanisms of TCP do not preclude implementation of the TCP in a\\n  front-end processor.  However, in such an implementation, a\\n  host-to-front-end protocol must provide the functionality to support\\n  the type of TCP-user interface described in this document.\\n\\n\\n\\n\\n\\n\\n[Page 8]                                                                \\n\\x0c\\n\\nSeptember 1981                                                          \\n                                           Transmission Control Protocol\\n                                                              Philosophy\\n\\n\\n\\n2.4.  Interfaces\\n\\n  The TCP/user interface provides for calls made by the user on the TCP\\n  to OPEN or CLOSE a connection, to SEND or RECEIVE data, or to obtain\\n  STATUS about a connection.  These calls are like other calls from user\\n  programs on the operating system, for example, the calls to open, read\\n  from, and close a file.\\n\\n  The TCP/internet interface provides calls to send and receive\\n  datagrams addressed to TCP modules in hosts anywhere in the internet\\n  system.  These calls have parameters for passing the address, type of\\n  service, precedence, security, and other control information.\\n\\n2.5.  Relation to Other Protocols\\n\\n  The following diagram illustrates the place of the TCP in the protocol\\n  hierarchy:\\n\\n                                    \\n       +------+ +-----+ +-----+       +-----+                    \\n       |Telnet| | FTP | |Voice|  ...  |     |  Application Level \\n       +------+ +-----+ +-----+       +-----+                    \\n             |   |         |             |                       \\n            +-----+     +-----+       +-----+                    \\n            | TCP |     | RTP |  ...  |     |  Host Level        \\n            +-----+     +-----+       +-----+                    \\n               |           |             |                       \\n            +-------------------------------+                    \\n            |    Internet Protocol & ICMP   |  Gateway Level     \\n            +-------------------------------+                    \\n                           |                                     \\n              +---------------------------+                      \\n              |   Local Network Protocol  |    Network Level     \\n              +---------------------------+                      \\n\\n                         Protocol Relationships\\n\\n                               Figure 2.\\n\\n  It is expected that the TCP will be able to support higher level\\n  protocols efficiently.  It should be easy to interface higher level\\n  protocols like the ARPANET Telnet or AUTODIN II THP to the TCP.\\n\\n2.6.  Reliable Communication\\n\\n  A stream of data sent on a TCP connection is delivered reliably and in\\n  order at the destination.\\n\\n\\n\\n                                                                [Page 9]\\n\\x0c\\n\\n                                                          September 1981\\nTransmission Control Protocol\\nPhilosophy\\n\\n\\n\\n  Transmission is made reliable via the use of sequence numbers and\\n  acknowledgments.  Conceptually, each octet of data is assigned a\\n  sequence number.  The sequence number of the first octet of data in a\\n  segment is transmitted with that segment and is called the segment\\n  sequence number.  Segments also carry an acknowledgment number which\\n  is the sequence number of the next expected data octet of\\n  transmissions in the reverse direction.  When the TCP transmits a\\n  segment containing data, it puts a copy on a retransmission queue and\\n  starts a timer; when the acknowledgment for that data is received, the\\n  segment is deleted from the queue.  If the acknowledgment is not\\n  received before the timer runs out, the segment is retransmitted.\\n\\n  An acknowledgment by TCP does not guarantee that the data has been\\n  delivered to the end user, but only that the receiving TCP has taken\\n  the responsibility to do so.\\n\\n  To govern the flow of data between TCPs, a flow control mechanism is\\n  employed.  The receiving TCP reports a \"window\" to the sending TCP.\\n  This window specifies the number of octets, starting with the\\n  acknowledgment number, that the receiving TCP is currently prepared to\\n  receive.\\n\\n2.7.  Connection Establishment and Clearing\\n\\n  To identify the separate data streams that a TCP may handle, the TCP\\n  provides a port identifier.  Since port identifiers are selected\\n  independently by each TCP they might not be unique.  To provide for\\n  unique addresses within each TCP, we concatenate an internet address\\n  identifying the TCP with a port identifier to create a socket which\\n  will be unique throughout all networks connected together.\\n\\n  A connection is fully specified by the pair of sockets at the ends.  A\\n  local socket may participate in many connections to different foreign\\n  sockets.  A connection can be used to carry data in both directions,\\n  that is, it is \"full duplex\".\\n\\n  TCPs are free to associate ports with processes however they choose.\\n  However, several basic concepts are necessary in any implementation.\\n  There must be well-known sockets which the TCP associates only with\\n  the \"appropriate\" processes by some means.  We envision that processes\\n  may \"own\" ports, and that processes can initiate connections only on\\n  the ports they own.  (Means for implementing ownership is a local\\n  issue, but we envision a Request Port user command, or a method of\\n  uniquely allocating a group of ports to a given process, e.g., by\\n  associating the high order bits of a port name with a given process.)\\n\\n  A connection is specified in the OPEN call by the local port and\\n  foreign socket arguments.  In return, the TCP supplies a (short) local\\n\\n\\n[Page 10]                                                               \\n\\x0c\\n\\nSeptember 1981                                                          \\n                                           Transmission Control Protocol\\n                                                              Philosophy\\n\\n\\n\\n  connection name by which the user refers to the connection in\\n  subsequent calls.  There are several things that must be remembered\\n  about a connection.  To store this information we imagine that there\\n  is a data structure called a Transmission Control Block (TCB).  One\\n  implementation strategy would have the local connection name be a\\n  pointer to the TCB for this connection.  The OPEN call also specifies\\n  whether the connection establishment is to be actively pursued, or to\\n  be passively waited for.\\n\\n  A passive OPEN request means that the process wants to accept incoming\\n  connection requests rather than attempting to initiate a connection.\\n  Often the process requesting a passive OPEN will accept a connection\\n  request from any caller.  In this case a foreign socket of all zeros\\n  is used to denote an unspecified socket.  Unspecified foreign sockets\\n  are allowed only on passive OPENs.\\n\\n  A service process that wished to provide services for unknown other\\n  processes would issue a passive OPEN request with an unspecified\\n  foreign socket.  Then a connection could be made with any process that\\n  requested a connection to this local socket.  It would help if this\\n  local socket were known to be associated with this service.\\n\\n  Well-known sockets are a convenient mechanism for a priori associating\\n  a socket address with a standard service.  For instance, the\\n  \"Telnet-Server\" process is permanently assigned to a particular\\n  socket, and other sockets are reserved for File Transfer, Remote Job\\n  Entry, Text Generator, Echoer, and Sink processes (the last three\\n  being for test purposes).  A socket address might be reserved for\\n  access to a \"Look-Up\" service which would return the specific socket\\n  at which a newly created service would be provided.  The concept of a\\n  well-known socket is part of the TCP specification, but the assignment\\n  of sockets to services is outside this specification.  (See [4].)\\n\\n  Processes can issue passive OPENs and wait for matching active OPENs\\n  from other processes and be informed by the TCP when connections have\\n  been established.  Two processes which issue active OPENs to each\\n  other at the same time will be correctly connected.  This flexibility\\n  is critical for the support of distributed computing in which\\n  components act asynchronously with respect to each other.\\n\\n  There are two principal cases for matching the sockets in the local\\n  passive OPENs and an foreign active OPENs.  In the first case, the\\n  local passive OPENs has fully specified the foreign socket.  In this\\n  case, the match must be exact.  In the second case, the local passive\\n  OPENs has left the foreign socket unspecified.  In this case, any\\n  foreign socket is acceptable as long as the local sockets match.\\n  Other possibilities include partially restricted matches.\\n\\n\\n\\n                                                               [Page 11]\\n\\x0c\\n\\n                                                          September 1981\\nTransmission Control Protocol\\nPhilosophy\\n\\n\\n\\n  If there are several pending passive OPENs (recorded in TCBs) with the\\n  same local socket, an foreign active OPEN will be matched to a TCB\\n  with the specific foreign socket in the foreign active OPEN, if such a\\n  TCB exists, before selecting a TCB with an unspecified foreign socket.\\n\\n  The procedures to establish connections utilize the synchronize (SYN)\\n  control flag and involves an exchange of three messages.  This\\n  exchange has been termed a three-way hand shake [3].\\n\\n  A connection is initiated by the rendezvous of an arriving segment\\n  containing a SYN and a waiting TCB entry each created by a user OPEN\\n  command.  The matching of local and foreign sockets determines when a\\n  connection has been initiated.  The connection becomes \"established\"\\n  when sequence numbers have been synchronized in both directions.\\n\\n  The clearing of a connection also involves the exchange of segments,\\n  in this case carrying the FIN control flag.\\n\\n2.8.  Data Communication\\n\\n  The data that flows on a connection may be thought of as a stream of\\n  octets.  The sending user indicates in each SEND call whether the data\\n  in that call (and any preceeding calls) should be immediately pushed\\n  through to the receiving user by the setting of the PUSH flag.\\n\\n  A sending TCP is allowed to collect data from the sending user and to\\n  send that data in segments at its own convenience, until the push\\n  function is signaled, then it must send all unsent data.  When a\\n  receiving TCP sees the PUSH flag, it must not wait for more data from\\n  the sending TCP before passing the data to the receiving process.\\n\\n  There is no necessary relationship between push functions and segment\\n  boundaries.  The data in any particular segment may be the result of a\\n  single SEND call, in whole or part, or of multiple SEND calls.\\n\\n  The purpose of push function and the PUSH flag is to push data through\\n  from the sending user to the receiving user.  It does not provide a\\n  record service.\\n\\n  There is a coupling between the push function and the use of buffers\\n  of data that cross the TCP/user interface.  Each time a PUSH flag is\\n  associated with data placed into the receiving user\\'s buffer, the\\n  buffer is returned to the user for processing even if the buffer is\\n  not filled.  If data arrives that fills the user\\'s buffer before a\\n  PUSH is seen, the data is passed to the user in buffer size units.\\n\\n  TCP also provides a means to communicate to the receiver of data that\\n  at some point further along in the data stream than the receiver is\\n\\n\\n[Page 12]                                                               \\n\\x0c\\n\\nSeptember 1981                                                          \\n                                           Transmission Control Protocol\\n                                                              Philosophy\\n\\n\\n\\n  currently reading there is urgent data.  TCP does not attempt to\\n  define what the user specifically does upon being notified of pending\\n  urgent data, but the general notion is that the receiving process will\\n  take action to process the urgent data quickly.\\n\\n2.9.  Precedence and Security\\n\\n  The TCP makes use of the internet protocol type of service field and\\n  security option to provide precedence and security on a per connection\\n  basis to TCP users.  Not all TCP modules will necessarily function in\\n  a multilevel secure environment; some may be limited to unclassified\\n  use only, and others may operate at only one security level and\\n  compartment.  Consequently, some TCP implementations and services to\\n  users may be limited to a subset of the multilevel secure case.\\n\\n  TCP modules which operate in a multilevel secure environment must\\n  properly mark outgoing segments with the security, compartment, and\\n  precedence.  Such TCP modules must also provide to their users or\\n  higher level protocols such as Telnet or THP an interface to allow\\n  them to specify the desired security level, compartment, and\\n  precedence of connections.\\n\\n2.10.  Robustness Principle\\n\\n  TCP implementations will follow a general principle of robustness:  be\\n  conservative in what you do, be liberal in what you accept from\\n  others.\\n\\n  \\n\\n\\n\\n\\n\\n\\n\\n\\n\\n\\n\\n\\n\\n\\n\\n\\n\\n\\n\\n\\n\\n                                                               [Page 13]\\n\\x0c\\n\\n                                                          September 1981\\nTransmission Control Protocol\\n\\n\\n\\n\\n\\n\\n\\n\\n\\n\\n\\n\\n\\n\\n\\n\\n\\n\\n\\n\\n\\n\\n\\n\\n\\n\\n\\n\\n\\n\\n\\n\\n\\n\\n\\n\\n\\n\\n\\n\\n\\n\\n\\n\\n\\n\\n\\n\\n\\n\\n\\n\\n\\n\\n[Page 14]                                                               \\n\\x0c\\n\\nSeptember 1981                                                          \\n                                           Transmission Control Protocol\\n\\n\\n\\n                      3.  FUNCTIONAL SPECIFICATION\\n\\n3.1.  Header Format\\n\\n  TCP segments are sent as internet datagrams.  The Internet Protocol\\n  header carries several information fields, including the source and\\n  destination host addresses [2].  A TCP header follows the internet\\n  header, supplying information specific to the TCP protocol.  This\\n  division allows for the existence of host level protocols other than\\n  TCP.\\n\\n  TCP Header Format\\n\\n                                    \\n    0                   1                   2                   3   \\n    0 1 2 3 4 5 6 7 8 9 0 1 2 3 4 5 6 7 8 9 0 1 2 3 4 5 6 7 8 9 0 1 \\n   +-+-+-+-+-+-+-+-+-+-+-+-+-+-+-+-+-+-+-+-+-+-+-+-+-+-+-+-+-+-+-+-+\\n   |          Source Port          |       Destination Port        |\\n   +-+-+-+-+-+-+-+-+-+-+-+-+-+-+-+-+-+-+-+-+-+-+-+-+-+-+-+-+-+-+-+-+\\n   |                        Sequence Number                        |\\n   +-+-+-+-+-+-+-+-+-+-+-+-+-+-+-+-+-+-+-+-+-+-+-+-+-+-+-+-+-+-+-+-+\\n   |                    Acknowledgment Number                      |\\n   +-+-+-+-+-+-+-+-+-+-+-+-+-+-+-+-+-+-+-+-+-+-+-+-+-+-+-+-+-+-+-+-+\\n   |  Data |           |U|A|P|R|S|F|                               |\\n   | Offset| Reserved  |R|C|S|S|Y|I|            Window             |\\n   |       |           |G|K|H|T|N|N|                               |\\n   +-+-+-+-+-+-+-+-+-+-+-+-+-+-+-+-+-+-+-+-+-+-+-+-+-+-+-+-+-+-+-+-+\\n   |           Checksum            |         Urgent Pointer        |\\n   +-+-+-+-+-+-+-+-+-+-+-+-+-+-+-+-+-+-+-+-+-+-+-+-+-+-+-+-+-+-+-+-+\\n   |                    Options                    |    Padding    |\\n   +-+-+-+-+-+-+-+-+-+-+-+-+-+-+-+-+-+-+-+-+-+-+-+-+-+-+-+-+-+-+-+-+\\n   |                             data                              |\\n   +-+-+-+-+-+-+-+-+-+-+-+-+-+-+-+-+-+-+-+-+-+-+-+-+-+-+-+-+-+-+-+-+\\n\\n                            TCP Header Format\\n\\n          Note that one tick mark represents one bit position.\\n\\n                               Figure 3.\\n\\n  Source Port:  16 bits\\n\\n    The source port number.\\n\\n  Destination Port:  16 bits\\n\\n    The destination port number.\\n\\n\\n\\n\\n                                                               [Page 15]\\n\\x0c\\n\\n                                                          September 1981\\nTransmission Control Protocol\\nFunctional Specification\\n\\n\\n\\n  Sequence Number:  32 bits\\n\\n    The sequence number of the first data octet in this segment (except\\n    when SYN is present). If SYN is present the sequence number is the\\n    initial sequence number (ISN) and the first data octet is ISN+1.\\n\\n  Acknowledgment Number:  32 bits\\n\\n    If the ACK control bit is set this field contains the value of the\\n    next sequence number the sender of the segment is expecting to\\n    receive.  Once a connection is established this is always sent.\\n\\n  Data Offset:  4 bits\\n\\n    The number of 32 bit words in the TCP Header.  This indicates where\\n    the data begins.  The TCP header (even one including options) is an\\n    integral number of 32 bits long.\\n\\n  Reserved:  6 bits\\n\\n    Reserved for future use.  Must be zero.\\n\\n  Control Bits:  6 bits (from left to right):\\n\\n    URG:  Urgent Pointer field significant\\n    ACK:  Acknowledgment field significant\\n    PSH:  Push Function\\n    RST:  Reset the connection\\n    SYN:  Synchronize sequence numbers\\n    FIN:  No more data from sender\\n\\n  Window:  16 bits\\n\\n    The number of data octets beginning with the one indicated in the\\n    acknowledgment field which the sender of this segment is willing to\\n    accept.\\n\\n  Checksum:  16 bits\\n\\n    The checksum field is the 16 bit one\\'s complement of the one\\'s\\n    complement sum of all 16 bit words in the header and text.  If a\\n    segment contains an odd number of header and text octets to be\\n    checksummed, the last octet is padded on the right with zeros to\\n    form a 16 bit word for checksum purposes.  The pad is not\\n    transmitted as part of the segment.  While computing the checksum,\\n    the checksum field itself is replaced with zeros.\\n\\n    The checksum also covers a 96 bit pseudo header conceptually\\n\\n\\n[Page 16]                                                               \\n\\x0c\\n\\nSeptember 1981                                                          \\n                                           Transmission Control Protocol\\n                                                Functional Specification\\n\\n\\n\\n    prefixed to the TCP header.  This pseudo header contains the Source\\n    Address, the Destination Address, the Protocol, and TCP length.\\n    This gives the TCP protection against misrouted segments.  This\\n    information is carried in the Internet Protocol and is transferred\\n    across the TCP/Network interface in the arguments or results of\\n    calls by the TCP on the IP.\\n\\n                     +--------+--------+--------+--------+\\n                     |           Source Address          |\\n                     +--------+--------+--------+--------+\\n                     |         Destination Address       |\\n                     +--------+--------+--------+--------+\\n                     |  zero  |  PTCL  |    TCP Length   |\\n                     +--------+--------+--------+--------+\\n\\n      The TCP Length is the TCP header length plus the data length in\\n      octets (this is not an explicitly transmitted quantity, but is\\n      computed), and it does not count the 12 octets of the pseudo\\n      header.\\n\\n  Urgent Pointer:  16 bits\\n\\n    This field communicates the current value of the urgent pointer as a\\n    positive offset from the sequence number in this segment.  The\\n    urgent pointer points to the sequence number of the octet following\\n    the urgent data.  This field is only be interpreted in segments with\\n    the URG control bit set.\\n\\n  Options:  variable\\n\\n    Options may occupy space at the end of the TCP header and are a\\n    multiple of 8 bits in length.  All options are included in the\\n    checksum.  An option may begin on any octet boundary.  There are two\\n    cases for the format of an option:\\n\\n      Case 1:  A single octet of option-kind.\\n\\n      Case 2:  An octet of option-kind, an octet of option-length, and\\n               the actual option-data octets.\\n\\n    The option-length counts the two octets of option-kind and\\n    option-length as well as the option-data octets.\\n\\n    Note that the list of options may be shorter than the data offset\\n    field might imply.  The content of the header beyond the\\n    End-of-Option option must be header padding (i.e., zero).\\n\\n    A TCP must implement all options.\\n\\n\\n                                                               [Page 17]\\n\\x0c\\n\\n                                                          September 1981\\nTransmission Control Protocol\\nFunctional Specification\\n\\n\\n\\n    Currently defined options include (kind indicated in octal):\\n\\n      Kind     Length    Meaning\\n      ----     ------    -------\\n       0         -       End of option list.\\n       1         -       No-Operation.\\n       2         4       Maximum Segment Size.\\n      \\n\\n    Specific Option Definitions\\n\\n      End of Option List\\n\\n        +--------+\\n        |00000000|\\n        +--------+\\n         Kind=0\\n\\n        This option code indicates the end of the option list.  This\\n        might not coincide with the end of the TCP header according to\\n        the Data Offset field.  This is used at the end of all options,\\n        not the end of each option, and need only be used if the end of\\n        the options would not otherwise coincide with the end of the TCP\\n        header.\\n\\n      No-Operation\\n\\n        +--------+\\n        |00000001|\\n        +--------+\\n         Kind=1\\n\\n        This option code may be used between options, for example, to\\n        align the beginning of a subsequent option on a word boundary.\\n        There is no guarantee that senders will use this option, so\\n        receivers must be prepared to process options even if they do\\n        not begin on a word boundary.\\n\\n      Maximum Segment Size\\n\\n        +--------+--------+---------+--------+\\n        |00000010|00000100|   max seg size   |\\n        +--------+--------+---------+--------+\\n         Kind=2   Length=4\\n\\n\\n\\n\\n\\n\\n[Page 18]                                                               \\n\\x0c\\n\\nSeptember 1981                                                          \\n                                           Transmission Control Protocol\\n                                                Functional Specification\\n\\n\\n\\n        Maximum Segment Size Option Data:  16 bits\\n\\n          If this option is present, then it communicates the maximum\\n          receive segment size at the TCP which sends this segment.\\n          This field must only be sent in the initial connection request\\n          (i.e., in segments with the SYN control bit set).  If this\\n          option is not used, any segment size is allowed.\\n\\n  Padding:  variable\\n\\n    The TCP header padding is used to ensure that the TCP header ends\\n    and data begins on a 32 bit boundary.  The padding is composed of\\n    zeros.\\n\\n3.2.  Terminology\\n\\n  Before we can discuss very much about the operation of the TCP we need\\n  to introduce some detailed terminology.  The maintenance of a TCP\\n  connection requires the remembering of several variables.  We conceive\\n  of these variables being stored in a connection record called a\\n  Transmission Control Block or TCB.  Among the variables stored in the\\n  TCB are the local and remote socket numbers, the security and\\n  precedence of the connection, pointers to the user\\'s send and receive\\n  buffers, pointers to the retransmit queue and to the current segment.\\n  In addition several variables relating to the send and receive\\n  sequence numbers are stored in the TCB.\\n\\n    Send Sequence Variables\\n\\n      SND.UNA - send unacknowledged\\n      SND.NXT - send next\\n      SND.WND - send window\\n      SND.UP  - send urgent pointer\\n      SND.WL1 - segment sequence number used for last window update\\n      SND.WL2 - segment acknowledgment number used for last window\\n                update\\n      ISS     - initial send sequence number\\n\\n    Receive Sequence Variables\\n\\n      RCV.NXT - receive next\\n      RCV.WND - receive window\\n      RCV.UP  - receive urgent pointer\\n      IRS     - initial receive sequence number\\n\\n\\n\\n\\n\\n\\n                                                               [Page 19]\\n\\x0c\\n\\n                                                          September 1981\\nTransmission Control Protocol\\nFunctional Specification\\n\\n\\n\\n  The following diagrams may help to relate some of these variables to\\n  the sequence space.\\n\\n  Send Sequence Space\\n\\n                   1         2          3          4      \\n              ----------|----------|----------|---------- \\n                     SND.UNA    SND.NXT    SND.UNA        \\n                                          +SND.WND        \\n\\n        1 - old sequence numbers which have been acknowledged  \\n        2 - sequence numbers of unacknowledged data            \\n        3 - sequence numbers allowed for new data transmission \\n        4 - future sequence numbers which are not yet allowed  \\n\\n                          Send Sequence Space\\n\\n                               Figure 4.\\n    \\n    \\n\\n  The send window is the portion of the sequence space labeled 3 in\\n  figure 4.\\n\\n  Receive Sequence Space\\n\\n                       1          2          3      \\n                   ----------|----------|---------- \\n                          RCV.NXT    RCV.NXT        \\n                                    +RCV.WND        \\n\\n        1 - old sequence numbers which have been acknowledged  \\n        2 - sequence numbers allowed for new reception         \\n        3 - future sequence numbers which are not yet allowed  \\n\\n                         Receive Sequence Space\\n\\n                               Figure 5.\\n    \\n    \\n\\n  The receive window is the portion of the sequence space labeled 2 in\\n  figure 5.\\n\\n  There are also some variables used frequently in the discussion that\\n  take their values from the fields of the current segment.\\n\\n\\n\\n\\n[Page 20]                                                               \\n\\x0c\\n\\nSeptember 1981                                                          \\n                                           Transmission Control Protocol\\n                                                Functional Specification\\n\\n\\n\\n    Current Segment Variables\\n\\n      SEG.SEQ - segment sequence number\\n      SEG.ACK - segment acknowledgment number\\n      SEG.LEN - segment length\\n      SEG.WND - segment window\\n      SEG.UP  - segment urgent pointer\\n      SEG.PRC - segment precedence value\\n\\n  A connection progresses through a series of states during its\\n  lifetime.  The states are:  LISTEN, SYN-SENT, SYN-RECEIVED,\\n  ESTABLISHED, FIN-WAIT-1, FIN-WAIT-2, CLOSE-WAIT, CLOSING, LAST-ACK,\\n  TIME-WAIT, and the fictional state CLOSED.  CLOSED is fictional\\n  because it represents the state when there is no TCB, and therefore,\\n  no connection.  Briefly the meanings of the states are:\\n\\n    LISTEN - represents waiting for a connection request from any remote\\n    TCP and port.\\n\\n    SYN-SENT - represents waiting for a matching connection request\\n    after having sent a connection request.\\n\\n    SYN-RECEIVED - represents waiting for a confirming connection\\n    request acknowledgment after having both received and sent a\\n    connection request.\\n\\n    ESTABLISHED - represents an open connection, data received can be\\n    delivered to the user.  The normal state for the data transfer phase\\n    of the connection.\\n\\n    FIN-WAIT-1 - represents waiting for a connection termination request\\n    from the remote TCP, or an acknowledgment of the connection\\n    termination request previously sent.\\n\\n    FIN-WAIT-2 - represents waiting for a connection termination request\\n    from the remote TCP.\\n\\n    CLOSE-WAIT - represents waiting for a connection termination request\\n    from the local user.\\n\\n    CLOSING - represents waiting for a connection termination request\\n    acknowledgment from the remote TCP.\\n\\n    LAST-ACK - represents waiting for an acknowledgment of the\\n    connection termination request previously sent to the remote TCP\\n    (which includes an acknowledgment of its connection termination\\n    request).\\n\\n\\n\\n                                                               [Page 21]\\n\\x0c\\n\\n                                                          September 1981\\nTransmission Control Protocol\\nFunctional Specification\\n\\n\\n\\n    TIME-WAIT - represents waiting for enough time to pass to be sure\\n    the remote TCP received the acknowledgment of its connection\\n    termination request.\\n\\n    CLOSED - represents no connection state at all.\\n\\n  A TCP connection progresses from one state to another in response to\\n  events.  The events are the user calls, OPEN, SEND, RECEIVE, CLOSE,\\n  ABORT, and STATUS; the incoming segments, particularly those\\n  containing the SYN, ACK, RST and FIN flags; and timeouts.\\n\\n  The state diagram in figure 6 illustrates only state changes, together\\n  with the causing events and resulting actions, but addresses neither\\n  error conditions nor actions which are not connected with state\\n  changes.  In a later section, more detail is offered with respect to\\n  the reaction of the TCP to events.\\n\\n  NOTE BENE:  this diagram is only a summary and must not be taken as\\n  the total specification.\\n\\n\\n\\n\\n\\n\\n\\n\\n\\n\\n\\n\\n\\n\\n\\n\\n\\n\\n\\n\\n\\n\\n\\n\\n\\n\\n\\n\\n\\n\\n\\n[Page 22]                                                               \\n\\x0c\\n\\nSeptember 1981                                                          \\n                                           Transmission Control Protocol\\n                                                Functional Specification\\n\\n\\n\\n                                    \\n                              +---------+ ---------\\\\      active OPEN  \\n                              |  CLOSED |            \\\\    -----------  \\n                              +---------+<---------\\\\   \\\\   create TCB  \\n                                |     ^              \\\\   \\\\  snd SYN    \\n                   passive OPEN |     |   CLOSE        \\\\   \\\\           \\n                   ------------ |     | ----------       \\\\   \\\\         \\n                    create TCB  |     | delete TCB         \\\\   \\\\       \\n                                V     |                      \\\\   \\\\     \\n                              +---------+            CLOSE    |    \\\\   \\n                              |  LISTEN |          ---------- |     |  \\n                              +---------+          delete TCB |     |  \\n                   rcv SYN      |     |     SEND              |     |  \\n                  -----------   |     |    -------            |     V  \\n +---------+      snd SYN,ACK  /       \\\\   snd SYN          +---------+\\n |         |<-----------------           ------------------>|         |\\n |   SYN   |                    rcv SYN                     |   SYN   |\\n |   RCVD  |<-----------------------------------------------|   SENT  |\\n |         |                    snd ACK                     |         |\\n |         |------------------           -------------------|         |\\n +---------+   rcv ACK of SYN  \\\\       /  rcv SYN,ACK       +---------+\\n   |           --------------   |     |   -----------                  \\n   |                  x         |     |     snd ACK                    \\n   |                            V     V                                \\n   |  CLOSE                   +---------+                              \\n   | -------                  |  ESTAB  |                              \\n   | snd FIN                  +---------+                              \\n   |                   CLOSE    |     |    rcv FIN                     \\n   V                  -------   |     |    -------                     \\n +---------+          snd FIN  /       \\\\   snd ACK          +---------+\\n |  FIN    |<-----------------           ------------------>|  CLOSE  |\\n | WAIT-1  |------------------                              |   WAIT  |\\n +---------+          rcv FIN  \\\\                            +---------+\\n   | rcv ACK of FIN   -------   |                            CLOSE  |  \\n   | --------------   snd ACK   |                           ------- |  \\n   V        x                   V                           snd FIN V  \\n +---------+                  +---------+                   +---------+\\n |FINWAIT-2|                  | CLOSING |                   | LAST-ACK|\\n +---------+                  +---------+                   +---------+\\n   |                rcv ACK of FIN |                 rcv ACK of FIN |  \\n   |  rcv FIN       -------------- |    Timeout=2MSL -------------- |  \\n   |  -------              x       V    ------------        x       V  \\n    \\\\ snd ACK                 +---------+delete TCB         +---------+\\n     ------------------------>|TIME WAIT|------------------>| CLOSED  |\\n                              +---------+                   +---------+\\n\\n                      TCP Connection State Diagram\\n                               Figure 6.\\n\\n\\n                                                               [Page 23]\\n\\x0c\\n\\n                                                          September 1981\\nTransmission Control Protocol\\nFunctional Specification\\n\\n\\n\\n3.3.  Sequence Numbers\\n\\n  A fundamental notion in the design is that every octet of data sent\\n  over a TCP connection has a sequence number.  Since every octet is\\n  sequenced, each of them can be acknowledged.  The acknowledgment\\n  mechanism employed is cumulative so that an acknowledgment of sequence\\n  number X indicates that all octets up to but not including X have been\\n  received.  This mechanism allows for straight-forward duplicate\\n  detection in the presence of retransmission.  Numbering of octets\\n  within a segment is that the first data octet immediately following\\n  the header is the lowest numbered, and the following octets are\\n  numbered consecutively.\\n\\n  It is essential to remember that the actual sequence number space is\\n  finite, though very large.  This space ranges from 0 to 2**32 - 1.\\n  Since the space is finite, all arithmetic dealing with sequence\\n  numbers must be performed modulo 2**32.  This unsigned arithmetic\\n  preserves the relationship of sequence numbers as they cycle from\\n  2**32 - 1 to 0 again.  There are some subtleties to computer modulo\\n  arithmetic, so great care should be taken in programming the\\n  comparison of such values.  The symbol \"=<\" means \"less than or equal\"\\n  (modulo 2**32).\\n\\n  The typical kinds of sequence number comparisons which the TCP must\\n  perform include:\\n\\n    (a)  Determining that an acknowledgment refers to some sequence\\n         number sent but not yet acknowledged.\\n\\n    (b)  Determining that all sequence numbers occupied by a segment\\n         have been acknowledged (e.g., to remove the segment from a\\n         retransmission queue).\\n\\n    (c)  Determining that an incoming segment contains sequence numbers\\n         which are expected (i.e., that the segment \"overlaps\" the\\n         receive window).\\n\\n\\n\\n\\n\\n\\n\\n\\n\\n\\n\\n\\n\\n\\n[Page 24]                                                               \\n\\x0c\\n\\nSeptember 1981                                                          \\n                                           Transmission Control Protocol\\n                                                Functional Specification\\n\\n\\n\\n  In response to sending data the TCP will receive acknowledgments.  The\\n  following comparisons are needed to process the acknowledgments.\\n\\n    SND.UNA = oldest unacknowledged sequence number\\n\\n    SND.NXT = next sequence number to be sent\\n\\n    SEG.ACK = acknowledgment from the receiving TCP (next sequence\\n              number expected by the receiving TCP)\\n\\n    SEG.SEQ = first sequence number of a segment\\n\\n    SEG.LEN = the number of octets occupied by the data in the segment\\n              (counting SYN and FIN)\\n\\n    SEG.SEQ+SEG.LEN-1 = last sequence number of a segment\\n\\n  A new acknowledgment (called an \"acceptable ack\"), is one for which\\n  the inequality below holds:\\n\\n    SND.UNA < SEG.ACK =< SND.NXT\\n\\n  A segment on the retransmission queue is fully acknowledged if the sum\\n  of its sequence number and length is less or equal than the\\n  acknowledgment value in the incoming segment.\\n\\n  When data is received the following comparisons are needed:\\n\\n    RCV.NXT = next sequence number expected on an incoming segments, and\\n        is the left or lower edge of the receive window\\n\\n    RCV.NXT+RCV.WND-1 = last sequence number expected on an incoming\\n        segment, and is the right or upper edge of the receive window\\n\\n    SEG.SEQ = first sequence number occupied by the incoming segment\\n\\n    SEG.SEQ+SEG.LEN-1 = last sequence number occupied by the incoming\\n        segment\\n\\n  A segment is judged to occupy a portion of valid receive sequence\\n  space if\\n\\n    RCV.NXT =< SEG.SEQ < RCV.NXT+RCV.WND\\n\\n  or\\n\\n    RCV.NXT =< SEG.SEQ+SEG.LEN-1 < RCV.NXT+RCV.WND\\n\\n\\n\\n                                                               [Page 25]\\n\\x0c\\n\\n                                                          September 1981\\nTransmission Control Protocol\\nFunctional Specification\\n\\n\\n\\n  The first part of this test checks to see if the beginning of the\\n  segment falls in the window, the second part of the test checks to see\\n  if the end of the segment falls in the window; if the segment passes\\n  either part of the test it contains data in the window.\\n\\n  Actually, it is a little more complicated than this.  Due to zero\\n  windows and zero length segments, we have four cases for the\\n  acceptability of an incoming segment:\\n\\n    Segment Receive  Test\\n    Length  Window\\n    ------- -------  -------------------------------------------\\n\\n       0       0     SEG.SEQ = RCV.NXT\\n\\n       0      >0     RCV.NXT =< SEG.SEQ < RCV.NXT+RCV.WND\\n\\n      >0       0     not acceptable\\n\\n      >0      >0     RCV.NXT =< SEG.SEQ < RCV.NXT+RCV.WND\\n                  or RCV.NXT =< SEG.SEQ+SEG.LEN-1 < RCV.NXT+RCV.WND\\n\\n  Note that when the receive window is zero no segments should be\\n  acceptable except ACK segments.  Thus, it is be possible for a TCP to\\n  maintain a zero receive window while transmitting data and receiving\\n  ACKs.  However, even when the receive window is zero, a TCP must\\n  process the RST and URG fields of all incoming segments.\\n\\n  We have taken advantage of the numbering scheme to protect certain\\n  control information as well.  This is achieved by implicitly including\\n  some control flags in the sequence space so they can be retransmitted\\n  and acknowledged without confusion (i.e., one and only one copy of the\\n  control will be acted upon).  Control information is not physically\\n  carried in the segment data space.  Consequently, we must adopt rules\\n  for implicitly assigning sequence numbers to control.  The SYN and FIN\\n  are the only controls requiring this protection, and these controls\\n  are used only at connection opening and closing.  For sequence number\\n  purposes, the SYN is considered to occur before the first actual data\\n  octet of the segment in which it occurs, while the FIN is considered\\n  to occur after the last actual data octet in a segment in which it\\n  occurs.  The segment length (SEG.LEN) includes both data and sequence\\n  space occupying controls.  When a SYN is present then SEG.SEQ is the\\n  sequence number of the SYN.\\n\\n\\n\\n\\n\\n\\n\\n[Page 26]                                                               \\n\\x0c\\n\\nSeptember 1981                                                          \\n                                           Transmission Control Protocol\\n                                                Functional Specification\\n\\n\\n\\n  Initial Sequence Number Selection\\n\\n  The protocol places no restriction on a particular connection being\\n  used over and over again.  A connection is defined by a pair of\\n  sockets.  New instances of a connection will be referred to as\\n  incarnations of the connection.  The problem that arises from this is\\n  -- \"how does the TCP identify duplicate segments from previous\\n  incarnations of the connection?\"  This problem becomes apparent if the\\n  connection is being opened and closed in quick succession, or if the\\n  connection breaks with loss of memory and is then reestablished.\\n\\n  To avoid confusion we must prevent segments from one incarnation of a\\n  connection from being used while the same sequence numbers may still\\n  be present in the network from an earlier incarnation.  We want to\\n  assure this, even if a TCP crashes and loses all knowledge of the\\n  sequence numbers it has been using.  When new connections are created,\\n  an initial sequence number (ISN) generator is employed which selects a\\n  new 32 bit ISN.  The generator is bound to a (possibly fictitious) 32\\n  bit clock whose low order bit is incremented roughly every 4\\n  microseconds.  Thus, the ISN cycles approximately every 4.55 hours.\\n  Since we assume that segments will stay in the network no more than\\n  the Maximum Segment Lifetime (MSL) and that the MSL is less than 4.55\\n  hours we can reasonably assume that ISN\\'s will be unique.\\n\\n  For each connection there is a send sequence number and a receive\\n  sequence number.  The initial send sequence number (ISS) is chosen by\\n  the data sending TCP, and the initial receive sequence number (IRS) is\\n  learned during the connection establishing procedure.\\n\\n  For a connection to be established or initialized, the two TCPs must\\n  synchronize on each other\\'s initial sequence numbers.  This is done in\\n  an exchange of connection establishing segments carrying a control bit\\n  called \"SYN\" (for synchronize) and the initial sequence numbers.  As a\\n  shorthand, segments carrying the SYN bit are also called \"SYNs\".\\n  Hence, the solution requires a suitable mechanism for picking an\\n  initial sequence number and a slightly involved handshake to exchange\\n  the ISN\\'s.\\n\\n  The synchronization requires each side to send it\\'s own initial\\n  sequence number and to receive a confirmation of it in acknowledgment\\n  from the other side.  Each side must also receive the other side\\'s\\n  initial sequence number and send a confirming acknowledgment.\\n\\n    1) A --> B  SYN my sequence number is X\\n    2) A <-- B  ACK your sequence number is X\\n    3) A <-- B  SYN my sequence number is Y\\n    4) A --> B  ACK your sequence number is Y\\n\\n\\n\\n                                                               [Page 27]\\n\\x0c\\n\\n                                                          September 1981\\nTransmission Control Protocol\\nFunctional Specification\\n\\n\\n\\n  Because steps 2 and 3 can be combined in a single message this is\\n  called the three way (or three message) handshake.\\n\\n  A three way handshake is necessary because sequence numbers are not\\n  tied to a global clock in the network, and TCPs may have different\\n  mechanisms for picking the ISN\\'s.  The receiver of the first SYN has\\n  no way of knowing whether the segment was an old delayed one or not,\\n  unless it remembers the last sequence number used on the connection\\n  (which is not always possible), and so it must ask the sender to\\n  verify this SYN.  The three way handshake and the advantages of a\\n  clock-driven scheme are discussed in [3].\\n\\n  Knowing When to Keep Quiet\\n\\n  To be sure that a TCP does not create a segment that carries a\\n  sequence number which may be duplicated by an old segment remaining in\\n  the network, the TCP must keep quiet for a maximum segment lifetime\\n  (MSL) before assigning any sequence numbers upon starting up or\\n  recovering from a crash in which memory of sequence numbers in use was\\n  lost.  For this specification the MSL is taken to be 2 minutes.  This\\n  is an engineering choice, and may be changed if experience indicates\\n  it is desirable to do so.  Note that if a TCP is reinitialized in some\\n  sense, yet retains its memory of sequence numbers in use, then it need\\n  not wait at all; it must only be sure to use sequence numbers larger\\n  than those recently used.\\n\\n  The TCP Quiet Time Concept\\n\\n    This specification provides that hosts which \"crash\" without\\n    retaining any knowledge of the last sequence numbers transmitted on\\n    each active (i.e., not closed) connection shall delay emitting any\\n    TCP segments for at least the agreed Maximum Segment Lifetime (MSL)\\n    in the internet system of which the host is a part.  In the\\n    paragraphs below, an explanation for this specification is given.\\n    TCP implementors may violate the \"quiet time\" restriction, but only\\n    at the risk of causing some old data to be accepted as new or new\\n    data rejected as old duplicated by some receivers in the internet\\n    system.\\n\\n    TCPs consume sequence number space each time a segment is formed and\\n    entered into the network output queue at a source host. The\\n    duplicate detection and sequencing algorithm in the TCP protocol\\n    relies on the unique binding of segment data to sequence space to\\n    the extent that sequence numbers will not cycle through all 2**32\\n    values before the segment data bound to those sequence numbers has\\n    been delivered and acknowledged by the receiver and all duplicate\\n    copies of the segments have \"drained\" from the internet.  Without\\n    such an assumption, two distinct TCP segments could conceivably be\\n\\n\\n[Page 28]                                                               \\n\\x0c\\n\\nSeptember 1981                                                          \\n                                           Transmission Control Protocol\\n                                                Functional Specification\\n\\n\\n\\n    assigned the same or overlapping sequence numbers, causing confusion\\n    at the receiver as to which data is new and which is old.  Remember\\n    that each segment is bound to as many consecutive sequence numbers\\n    as there are octets of data in the segment.\\n\\n    Under normal conditions, TCPs keep track of the next sequence number\\n    to emit and the oldest awaiting acknowledgment so as to avoid\\n    mistakenly using a sequence number over before its first use has\\n    been acknowledged.  This alone does not guarantee that old duplicate\\n    data is drained from the net, so the sequence space has been made\\n    very large to reduce the probability that a wandering duplicate will\\n    cause trouble upon arrival.  At 2 megabits/sec. it takes 4.5 hours\\n    to use up 2**32 octets of sequence space.  Since the maximum segment\\n    lifetime in the net is not likely to exceed a few tens of seconds,\\n    this is deemed ample protection for foreseeable nets, even if data\\n    rates escalate to l0\\'s of megabits/sec.  At 100 megabits/sec, the\\n    cycle time is 5.4 minutes which may be a little short, but still\\n    within reason.\\n\\n    The basic duplicate detection and sequencing algorithm in TCP can be\\n    defeated, however, if a source TCP does not have any memory of the\\n    sequence numbers it last used on a given connection. For example, if\\n    the TCP were to start all connections with sequence number 0, then\\n    upon crashing and restarting, a TCP might re-form an earlier\\n    connection (possibly after half-open connection resolution) and emit\\n    packets with sequence numbers identical to or overlapping with\\n    packets still in the network which were emitted on an earlier\\n    incarnation of the same connection.  In the absence of knowledge\\n    about the sequence numbers used on a particular connection, the TCP\\n    specification recommends that the source delay for MSL seconds\\n    before emitting segments on the connection, to allow time for\\n    segments from the earlier connection incarnation to drain from the\\n    system.\\n\\n    Even hosts which can remember the time of day and used it to select\\n    initial sequence number values are not immune from this problem\\n    (i.e., even if time of day is used to select an initial sequence\\n    number for each new connection incarnation).\\n\\n    Suppose, for example, that a connection is opened starting with\\n    sequence number S.  Suppose that this connection is not used much\\n    and that eventually the initial sequence number function (ISN(t))\\n    takes on a value equal to the sequence number, say S1, of the last\\n    segment sent by this TCP on a particular connection.  Now suppose,\\n    at this instant, the host crashes, recovers, and establishes a new\\n    incarnation of the connection. The initial sequence number chosen is\\n    S1 = ISN(t) -- last used sequence number on old incarnation of\\n    connection!  If the recovery occurs quickly enough, any old\\n\\n\\n                                                               [Page 29]\\n\\x0c\\n\\n                                                          September 1981\\nTransmission Control Protocol\\nFunctional Specification\\n\\n\\n\\n    duplicates in the net bearing sequence numbers in the neighborhood\\n    of S1 may arrive and be treated as new packets by the receiver of\\n    the new incarnation of the connection.\\n\\n    The problem is that the recovering host may not know for how long it\\n    crashed nor does it know whether there are still old duplicates in\\n    the system from earlier connection incarnations.\\n\\n    One way to deal with this problem is to deliberately delay emitting\\n    segments for one MSL after recovery from a crash- this is the \"quite\\n    time\" specification.  Hosts which prefer to avoid waiting are\\n    willing to risk possible confusion of old and new packets at a given\\n    destination may choose not to wait for the \"quite time\".\\n    Implementors may provide TCP users with the ability to select on a\\n    connection by connection basis whether to wait after a crash, or may\\n    informally implement the \"quite time\" for all connections.\\n    Obviously, even where a user selects to \"wait,\" this is not\\n    necessary after the host has been \"up\" for at least MSL seconds.\\n\\n    To summarize: every segment emitted occupies one or more sequence\\n    numbers in the sequence space, the numbers occupied by a segment are\\n    \"busy\" or \"in use\" until MSL seconds have passed, upon crashing a\\n    block of space-time is occupied by the octets of the last emitted\\n    segment, if a new connection is started too soon and uses any of the\\n    sequence numbers in the space-time footprint of the last segment of\\n    the previous connection incarnation, there is a potential sequence\\n    number overlap area which could cause confusion at the receiver.\\n\\n3.4.  Establishing a connection\\n\\n  The \"three-way handshake\" is the procedure used to establish a\\n  connection.  This procedure normally is initiated by one TCP and\\n  responded to by another TCP.  The procedure also works if two TCP\\n  simultaneously initiate the procedure.  When simultaneous attempt\\n  occurs, each TCP receives a \"SYN\" segment which carries no\\n  acknowledgment after it has sent a \"SYN\".  Of course, the arrival of\\n  an old duplicate \"SYN\" segment can potentially make it appear, to the\\n  recipient, that a simultaneous connection initiation is in progress.\\n  Proper use of \"reset\" segments can disambiguate these cases.\\n\\n  Several examples of connection initiation follow.  Although these\\n  examples do not show connection synchronization using data-carrying\\n  segments, this is perfectly legitimate, so long as the receiving TCP\\n  doesn\\'t deliver the data to the user until it is clear the data is\\n  valid (i.e., the data must be buffered at the receiver until the\\n  connection reaches the ESTABLISHED state).  The three-way handshake\\n  reduces the possibility of false connections.  It is the\\n\\n\\n\\n[Page 30]                                                               \\n\\x0c\\n\\nSeptember 1981                                                          \\n                                           Transmission Control Protocol\\n                                                Functional Specification\\n\\n\\n\\n  implementation of a trade-off between memory and messages to provide\\n  information for this checking.\\n\\n  The simplest three-way handshake is shown in figure 7 below.  The\\n  figures should be interpreted in the following way.  Each line is\\n  numbered for reference purposes.  Right arrows (-->) indicate\\n  departure of a TCP segment from TCP A to TCP B, or arrival of a\\n  segment at B from A.  Left arrows (<--), indicate the reverse.\\n  Ellipsis (...) indicates a segment which is still in the network\\n  (delayed).  An \"XXX\" indicates a segment which is lost or rejected.\\n  Comments appear in parentheses.  TCP states represent the state AFTER\\n  the departure or arrival of the segment (whose contents are shown in\\n  the center of each line).  Segment contents are shown in abbreviated\\n  form, with sequence number, control flags, and ACK field.  Other\\n  fields such as window, addresses, lengths, and text have been left out\\n  in the interest of clarity.\\n\\n  \\n\\n      TCP A                                                TCP B\\n\\n  1.  CLOSED                                               LISTEN\\n\\n  2.  SYN-SENT    --> <SEQ=100><CTL=SYN>               --> SYN-RECEIVED\\n\\n  3.  ESTABLISHED <-- <SEQ=300><ACK=101><CTL=SYN,ACK>  <-- SYN-RECEIVED\\n\\n  4.  ESTABLISHED --> <SEQ=101><ACK=301><CTL=ACK>       --> ESTABLISHED\\n\\n  5.  ESTABLISHED --> <SEQ=101><ACK=301><CTL=ACK><DATA> --> ESTABLISHED\\n\\n          Basic 3-Way Handshake for Connection Synchronization\\n\\n                                Figure 7.\\n\\n  In line 2 of figure 7, TCP A begins by sending a SYN segment\\n  indicating that it will use sequence numbers starting with sequence\\n  number 100.  In line 3, TCP B sends a SYN and acknowledges the SYN it\\n  received from TCP A.  Note that the acknowledgment field indicates TCP\\n  B is now expecting to hear sequence 101, acknowledging the SYN which\\n  occupied sequence 100.\\n\\n  At line 4, TCP A responds with an empty segment containing an ACK for\\n  TCP B\\'s SYN; and in line 5, TCP A sends some data.  Note that the\\n  sequence number of the segment in line 5 is the same as in line 4\\n  because the ACK does not occupy sequence number space (if it did, we\\n  would wind up ACKing ACK\\'s!).\\n\\n\\n\\n                                                               [Page 31]\\n\\x0c\\n\\n                                                          September 1981\\nTransmission Control Protocol\\nFunctional Specification\\n\\n\\n\\n  Simultaneous initiation is only slightly more complex, as is shown in\\n  figure 8.  Each TCP cycles from CLOSED to SYN-SENT to SYN-RECEIVED to\\n  ESTABLISHED.\\n\\n  \\n\\n      TCP A                                            TCP B\\n\\n  1.  CLOSED                                           CLOSED\\n\\n  2.  SYN-SENT     --> <SEQ=100><CTL=SYN>              ...\\n\\n  3.  SYN-RECEIVED <-- <SEQ=300><CTL=SYN>              <-- SYN-SENT\\n\\n  4.               ... <SEQ=100><CTL=SYN>              --> SYN-RECEIVED\\n\\n  5.  SYN-RECEIVED --> <SEQ=100><ACK=301><CTL=SYN,ACK> ...\\n\\n  6.  ESTABLISHED  <-- <SEQ=300><ACK=101><CTL=SYN,ACK> <-- SYN-RECEIVED\\n\\n  7.               ... <SEQ=101><ACK=301><CTL=ACK>     --> ESTABLISHED\\n\\n                Simultaneous Connection Synchronization\\n\\n                               Figure 8.\\n\\n  The principle reason for the three-way handshake is to prevent old\\n  duplicate connection initiations from causing confusion.  To deal with\\n  this, a special control message, reset, has been devised.  If the\\n  receiving TCP is in a  non-synchronized state (i.e., SYN-SENT,\\n  SYN-RECEIVED), it returns to LISTEN on receiving an acceptable reset.\\n  If the TCP is in one of the synchronized states (ESTABLISHED,\\n  FIN-WAIT-1, FIN-WAIT-2, CLOSE-WAIT, CLOSING, LAST-ACK, TIME-WAIT), it\\n  aborts the connection and informs its user.  We discuss this latter\\n  case under \"half-open\" connections below.\\n\\n\\n\\n\\n\\n\\n\\n\\n\\n\\n\\n\\n\\n\\n\\n[Page 32]                                                               \\n\\x0c\\n\\nSeptember 1981                                                          \\n                                           Transmission Control Protocol\\n                                                Functional Specification\\n\\n\\n\\n  \\n\\n      TCP A                                                TCP B\\n\\n  1.  CLOSED                                               LISTEN\\n\\n  2.  SYN-SENT    --> <SEQ=100><CTL=SYN>               ...\\n\\n  3.  (duplicate) ... <SEQ=90><CTL=SYN>               --> SYN-RECEIVED\\n\\n  4.  SYN-SENT    <-- <SEQ=300><ACK=91><CTL=SYN,ACK>  <-- SYN-RECEIVED\\n\\n  5.  SYN-SENT    --> <SEQ=91><CTL=RST>               --> LISTEN\\n  \\n\\n  6.              ... <SEQ=100><CTL=SYN>               --> SYN-RECEIVED\\n\\n  7.  SYN-SENT    <-- <SEQ=400><ACK=101><CTL=SYN,ACK>  <-- SYN-RECEIVED\\n\\n  8.  ESTABLISHED --> <SEQ=101><ACK=401><CTL=ACK>      --> ESTABLISHED\\n\\n                    Recovery from Old Duplicate SYN\\n\\n                               Figure 9.\\n\\n  As a simple example of recovery from old duplicates, consider\\n  figure 9.  At line 3, an old duplicate SYN arrives at TCP B.  TCP B\\n  cannot tell that this is an old duplicate, so it responds normally\\n  (line 4).  TCP A detects that the ACK field is incorrect and returns a\\n  RST (reset) with its SEQ field selected to make the segment\\n  believable.  TCP B, on receiving the RST, returns to the LISTEN state.\\n  When the original SYN (pun intended) finally arrives at line 6, the\\n  synchronization proceeds normally.  If the SYN at line 6 had arrived\\n  before the RST, a more complex exchange might have occurred with RST\\'s\\n  sent in both directions.\\n\\n  Half-Open Connections and Other Anomalies\\n\\n  An established connection is said to be  \"half-open\" if one of the\\n  TCPs has closed or aborted the connection at its end without the\\n  knowledge of the other, or if the two ends of the connection have\\n  become desynchronized owing to a crash that resulted in loss of\\n  memory.  Such connections will automatically become reset if an\\n  attempt is made to send data in either direction.  However, half-open\\n  connections are expected to be unusual, and the recovery procedure is\\n  mildly involved.\\n\\n  If at site A the connection no longer exists, then an attempt by the\\n\\n\\n                                                               [Page 33]\\n\\x0c\\n\\n                                                          September 1981\\nTransmission Control Protocol\\nFunctional Specification\\n\\n\\n\\n  user at site B to send any data on it will result in the site B TCP\\n  receiving a reset control message.  Such a message indicates to the\\n  site B TCP that something is wrong, and it is expected to abort the\\n  connection.\\n\\n  Assume that two user processes A and B are communicating with one\\n  another when a crash occurs causing loss of memory to A\\'s TCP.\\n  Depending on the operating system supporting A\\'s TCP, it is likely\\n  that some error recovery mechanism exists.  When the TCP is up again,\\n  A is likely to start again from the beginning or from a recovery\\n  point.  As a result, A will probably try to OPEN the connection again\\n  or try to SEND on the connection it believes open.  In the latter\\n  case, it receives the error message \"connection not open\" from the\\n  local (A\\'s) TCP.  In an attempt to establish the connection, A\\'s TCP\\n  will send a segment containing SYN.  This scenario leads to the\\n  example shown in figure 10.  After TCP A crashes, the user attempts to\\n  re-open the connection.  TCP B, in the meantime, thinks the connection\\n  is open.\\n\\n  \\n\\n      TCP A                                           TCP B\\n\\n  1.  (CRASH)                               (send 300,receive 100)\\n\\n  2.  CLOSED                                           ESTABLISHED\\n\\n  3.  SYN-SENT --> <SEQ=400><CTL=SYN>              --> (??)\\n\\n  4.  (!!)     <-- <SEQ=300><ACK=100><CTL=ACK>     <-- ESTABLISHED\\n\\n  5.  SYN-SENT --> <SEQ=100><CTL=RST>              --> (Abort!!)\\n\\n  6.  SYN-SENT                                         CLOSED\\n\\n  7.  SYN-SENT --> <SEQ=400><CTL=SYN>              -->\\n\\n                     Half-Open Connection Discovery\\n\\n                               Figure 10.\\n\\n  When the SYN arrives at line 3, TCP B, being in a synchronized state,\\n  and the incoming segment outside the window, responds with an\\n  acknowledgment indicating what sequence it next expects to hear (ACK\\n  100).  TCP A sees that this segment does not acknowledge anything it\\n  sent and, being unsynchronized, sends a reset (RST) because it has\\n  detected a half-open connection.  TCP B aborts at line 5.  TCP A will\\n\\n\\n\\n[Page 34]                                                               \\n\\x0c\\n\\nSeptember 1981                                                          \\n                                           Transmission Control Protocol\\n                                                Functional Specification\\n\\n\\n\\n  continue to try to establish the connection; the problem is now\\n  reduced to the basic 3-way handshake of figure 7.\\n\\n  An interesting alternative case occurs when TCP A crashes and TCP B\\n  tries to send data on what it thinks is a synchronized connection.\\n  This is illustrated in figure 11.  In this case, the data arriving at\\n  TCP A from TCP B (line 2) is unacceptable because no such connection\\n  exists, so TCP A sends a RST.  The RST is acceptable so TCP B\\n  processes it and aborts the connection.\\n\\n  \\n\\n        TCP A                                              TCP B\\n\\n  1.  (CRASH)                                   (send 300,receive 100)\\n\\n  2.  (??)    <-- <SEQ=300><ACK=100><DATA=10><CTL=ACK> <-- ESTABLISHED\\n\\n  3.          --> <SEQ=100><CTL=RST>                   --> (ABORT!!)\\n\\n           Active Side Causes Half-Open Connection Discovery\\n\\n                               Figure 11.\\n\\n  In figure 12, we find the two TCPs A and B with passive connections\\n  waiting for SYN.  An old duplicate arriving at TCP B (line 2) stirs B\\n  into action.  A SYN-ACK is returned (line 3) and causes TCP A to\\n  generate a RST (the ACK in line 3 is not acceptable).  TCP B accepts\\n  the reset and returns to its passive LISTEN state.\\n\\n  \\n\\n      TCP A                                         TCP B\\n\\n  1.  LISTEN                                        LISTEN\\n\\n  2.       ... <SEQ=Z><CTL=SYN>                -->  SYN-RECEIVED\\n\\n  3.  (??) <-- <SEQ=X><ACK=Z+1><CTL=SYN,ACK>   <--  SYN-RECEIVED\\n\\n  4.       --> <SEQ=Z+1><CTL=RST>              -->  (return to LISTEN!)\\n\\n  5.  LISTEN                                        LISTEN\\n\\n       Old Duplicate SYN Initiates a Reset on two Passive Sockets\\n\\n                               Figure 12.\\n\\n\\n\\n                                                               [Page 35]\\n\\x0c\\n\\n                                                          September 1981\\nTransmission Control Protocol\\nFunctional Specification\\n\\n\\n\\n  A variety of other cases are possible, all of which are accounted for\\n  by the following rules for RST generation and processing.\\n\\n  Reset Generation\\n\\n  As a general rule, reset (RST) must be sent whenever a segment arrives\\n  which apparently is not intended for the current connection.  A reset\\n  must not be sent if it is not clear that this is the case.\\n\\n  There are three groups of states:\\n\\n    1.  If the connection does not exist (CLOSED) then a reset is sent\\n    in response to any incoming segment except another reset.  In\\n    particular, SYNs addressed to a non-existent connection are rejected\\n    by this means.\\n\\n    If the incoming segment has an ACK field, the reset takes its\\n    sequence number from the ACK field of the segment, otherwise the\\n    reset has sequence number zero and the ACK field is set to the sum\\n    of the sequence number and segment length of the incoming segment.\\n    The connection remains in the CLOSED state.\\n\\n    2.  If the connection is in any non-synchronized state (LISTEN,\\n    SYN-SENT, SYN-RECEIVED), and the incoming segment acknowledges\\n    something not yet sent (the segment carries an unacceptable ACK), or\\n    if an incoming segment has a security level or compartment which\\n    does not exactly match the level and compartment requested for the\\n    connection, a reset is sent.\\n\\n    If our SYN has not been acknowledged and the precedence level of the\\n    incoming segment is higher than the precedence level requested then\\n    either raise the local precedence level (if allowed by the user and\\n    the system) or send a reset; or if the precedence level of the\\n    incoming segment is lower than the precedence level requested then\\n    continue as if the precedence matched exactly (if the remote TCP\\n    cannot raise the precedence level to match ours this will be\\n    detected in the next segment it sends, and the connection will be\\n    terminated then).  If our SYN has been acknowledged (perhaps in this\\n    incoming segment) the precedence level of the incoming segment must\\n    match the local precedence level exactly, if it does not a reset\\n    must be sent.\\n\\n    If the incoming segment has an ACK field, the reset takes its\\n    sequence number from the ACK field of the segment, otherwise the\\n    reset has sequence number zero and the ACK field is set to the sum\\n    of the sequence number and segment length of the incoming segment.\\n    The connection remains in the same state.\\n\\n\\n\\n[Page 36]                                                               \\n\\x0c\\n\\nSeptember 1981                                                          \\n                                           Transmission Control Protocol\\n                                                Functional Specification\\n\\n\\n\\n    3.  If the connection is in a synchronized state (ESTABLISHED,\\n    FIN-WAIT-1, FIN-WAIT-2, CLOSE-WAIT, CLOSING, LAST-ACK, TIME-WAIT),\\n    any unacceptable segment (out of window sequence number or\\n    unacceptible acknowledgment number) must elicit only an empty\\n    acknowledgment segment containing the current send-sequence number\\n    and an acknowledgment indicating the next sequence number expected\\n    to be received, and the connection remains in the same state.\\n\\n    If an incoming segment has a security level, or compartment, or\\n    precedence which does not exactly match the level, and compartment,\\n    and precedence requested for the connection,a reset is sent and\\n    connection goes to the CLOSED state.  The reset takes its sequence\\n    number from the ACK field of the incoming segment.\\n\\n  Reset Processing\\n\\n  In all states except SYN-SENT, all reset (RST) segments are validated\\n  by checking their SEQ-fields.  A reset is valid if its sequence number\\n  is in the window.  In the SYN-SENT state (a RST received in response\\n  to an initial SYN), the RST is acceptable if the ACK field\\n  acknowledges the SYN.\\n\\n  The receiver of a RST first validates it, then changes state.  If the\\n  receiver was in the LISTEN state, it ignores it.  If the receiver was\\n  in SYN-RECEIVED state and had previously been in the LISTEN state,\\n  then the receiver returns to the LISTEN state, otherwise the receiver\\n  aborts the connection and goes to the CLOSED state.  If the receiver\\n  was in any other state, it aborts the connection and advises the user\\n  and goes to the CLOSED state.\\n\\n3.5.  Closing a Connection\\n\\n  CLOSE is an operation meaning \"I have no more data to send.\"  The\\n  notion of closing a full-duplex connection is subject to ambiguous\\n  interpretation, of course, since it may not be obvious how to treat\\n  the receiving side of the connection.  We have chosen to treat CLOSE\\n  in a simplex fashion.  The user who CLOSEs may continue to RECEIVE\\n  until he is told that the other side has CLOSED also.  Thus, a program\\n  could initiate several SENDs followed by a CLOSE, and then continue to\\n  RECEIVE until signaled that a RECEIVE failed because the other side\\n  has CLOSED.  We assume that the TCP will signal a user, even if no\\n  RECEIVEs are outstanding, that the other side has closed, so the user\\n  can terminate his side gracefully.  A TCP will reliably deliver all\\n  buffers SENT before the connection was CLOSED so a user who expects no\\n  data in return need only wait to hear the connection was CLOSED\\n  successfully to know that all his data was received at the destination\\n  TCP.  Users must keep reading connections they close for sending until\\n  the TCP says no more data.\\n\\n\\n                                                               [Page 37]\\n\\x0c\\n\\n                                                          September 1981\\nTransmission Control Protocol\\nFunctional Specification\\n\\n\\n\\n  There are essentially three cases:\\n\\n    1) The user initiates by telling the TCP to CLOSE the connection\\n\\n    2) The remote TCP initiates by sending a FIN control signal\\n\\n    3) Both users CLOSE simultaneously\\n\\n  Case 1:  Local user initiates the close\\n\\n    In this case, a FIN segment can be constructed and placed on the\\n    outgoing segment queue.  No further SENDs from the user will be\\n    accepted by the TCP, and it enters the FIN-WAIT-1 state.  RECEIVEs\\n    are allowed in this state.  All segments preceding and including FIN\\n    will be retransmitted until acknowledged.  When the other TCP has\\n    both acknowledged the FIN and sent a FIN of its own, the first TCP\\n    can ACK this FIN.  Note that a TCP receiving a FIN will ACK but not\\n    send its own FIN until its user has CLOSED the connection also.\\n\\n  Case 2:  TCP receives a FIN from the network\\n\\n    If an unsolicited FIN arrives from the network, the receiving TCP\\n    can ACK it and tell the user that the connection is closing.  The\\n    user will respond with a CLOSE, upon which the TCP can send a FIN to\\n    the other TCP after sending any remaining data.  The TCP then waits\\n    until its own FIN is acknowledged whereupon it deletes the\\n    connection.  If an ACK is not forthcoming, after the user timeout\\n    the connection is aborted and the user is told.\\n\\n  Case 3:  both users close simultaneously\\n\\n    A simultaneous CLOSE by users at both ends of a connection causes\\n    FIN segments to be exchanged.  When all segments preceding the FINs\\n    have been processed and acknowledged, each TCP can ACK the FIN it\\n    has received.  Both will, upon receiving these ACKs, delete the\\n    connection.\\n\\n\\n\\n\\n\\n\\n\\n\\n\\n\\n\\n\\n\\n\\n[Page 38]                                                               \\n\\x0c\\n\\nSeptember 1981                                                          \\n                                           Transmission Control Protocol\\n                                                Functional Specification\\n\\n\\n\\n  \\n\\n      TCP A                                                TCP B\\n\\n  1.  ESTABLISHED                                          ESTABLISHED\\n\\n  2.  (Close)\\n      FIN-WAIT-1  --> <SEQ=100><ACK=300><CTL=FIN,ACK>  --> CLOSE-WAIT\\n\\n  3.  FIN-WAIT-2  <-- <SEQ=300><ACK=101><CTL=ACK>      <-- CLOSE-WAIT\\n\\n  4.                                                       (Close)\\n      TIME-WAIT   <-- <SEQ=300><ACK=101><CTL=FIN,ACK>  <-- LAST-ACK\\n\\n  5.  TIME-WAIT   --> <SEQ=101><ACK=301><CTL=ACK>      --> CLOSED\\n\\n  6.  (2 MSL)\\n      CLOSED                                                      \\n\\n                         Normal Close Sequence\\n\\n                               Figure 13.\\n\\n  \\n\\n      TCP A                                                TCP B\\n\\n  1.  ESTABLISHED                                          ESTABLISHED\\n\\n  2.  (Close)                                              (Close)\\n      FIN-WAIT-1  --> <SEQ=100><ACK=300><CTL=FIN,ACK>  ... FIN-WAIT-1\\n                  <-- <SEQ=300><ACK=100><CTL=FIN,ACK>  <--\\n                  ... <SEQ=100><ACK=300><CTL=FIN,ACK>  -->\\n\\n  3.  CLOSING     --> <SEQ=101><ACK=301><CTL=ACK>      ... CLOSING\\n                  <-- <SEQ=301><ACK=101><CTL=ACK>      <--\\n                  ... <SEQ=101><ACK=301><CTL=ACK>      -->\\n\\n  4.  TIME-WAIT                                            TIME-WAIT\\n      (2 MSL)                                              (2 MSL)\\n      CLOSED                                               CLOSED\\n\\n                      Simultaneous Close Sequence\\n\\n                               Figure 14.\\n\\n\\n\\n\\n\\n                                                               [Page 39]\\n\\x0c\\n\\n                                                          September 1981\\nTransmission Control Protocol\\nFunctional Specification\\n\\n\\n\\n3.6.  Precedence and Security\\n\\n  The intent is that connection be allowed only between ports operating\\n  with exactly the same security and compartment values and at the\\n  higher of the precedence level requested by the two ports.\\n\\n  The precedence and security parameters used in TCP are exactly those\\n  defined in the Internet Protocol (IP) [2].  Throughout this TCP\\n  specification the term \"security/compartment\" is intended to indicate\\n  the security parameters used in IP including security, compartment,\\n  user group, and handling restriction.\\n\\n  A connection attempt with mismatched security/compartment values or a\\n  lower precedence value must be rejected by sending a reset.  Rejecting\\n  a connection due to too low a precedence only occurs after an\\n  acknowledgment of the SYN has been received.\\n\\n  Note that TCP modules which operate only at the default value of\\n  precedence will still have to check the precedence of incoming\\n  segments and possibly raise the precedence level they use on the\\n  connection.\\n\\n  The security paramaters may be used even in a non-secure environment\\n  (the values would indicate unclassified data), thus hosts in\\n  non-secure environments must be prepared to receive the security\\n  parameters, though they need not send them.\\n\\n3.7.  Data Communication\\n\\n  Once the connection is established data is communicated by the\\n  exchange of segments.  Because segments may be lost due to errors\\n  (checksum test failure), or network congestion, TCP uses\\n  retransmission (after a timeout) to ensure delivery of every segment.\\n  Duplicate segments may arrive due to network or TCP retransmission.\\n  As discussed in the section on sequence numbers the TCP performs\\n  certain tests on the sequence and acknowledgment numbers in the\\n  segments to verify their acceptability.\\n\\n  The sender of data keeps track of the next sequence number to use in\\n  the variable SND.NXT.  The receiver of data keeps track of the next\\n  sequence number to expect in the variable RCV.NXT.  The sender of data\\n  keeps track of the oldest unacknowledged sequence number in the\\n  variable SND.UNA.  If the data flow is momentarily idle and all data\\n  sent has been acknowledged then the three variables will be equal.\\n\\n  When the sender creates a segment and transmits it the sender advances\\n  SND.NXT.  When the receiver accepts a segment it advances RCV.NXT and\\n  sends an acknowledgment.  When the data sender receives an\\n\\n\\n[Page 40]                                                               \\n\\x0c\\n\\nSeptember 1981                                                          \\n                                           Transmission Control Protocol\\n                                                Functional Specification\\n\\n\\n\\n  acknowledgment it advances SND.UNA.  The extent to which the values of\\n  these variables differ is a measure of the delay in the communication.\\n  The amount by which the variables are advanced is the length of the\\n  data in the segment.  Note that once in the ESTABLISHED state all\\n  segments must carry current acknowledgment information.\\n\\n  The CLOSE user call implies a push function, as does the FIN control\\n  flag in an incoming segment.\\n\\n  Retransmission Timeout\\n\\n  Because of the variability of the networks that compose an\\n  internetwork system and the wide range of uses of TCP connections the\\n  retransmission timeout must be dynamically determined.  One procedure\\n  for determining a retransmission time out is given here as an\\n  illustration.\\n\\n    An Example Retransmission Timeout Procedure\\n\\n      Measure the elapsed time between sending a data octet with a\\n      particular sequence number and receiving an acknowledgment that\\n      covers that sequence number (segments sent do not have to match\\n      segments received).  This measured elapsed time is the Round Trip\\n      Time (RTT).  Next compute a Smoothed Round Trip Time (SRTT) as:\\n\\n        SRTT = ( ALPHA * SRTT ) + ((1-ALPHA) * RTT)\\n\\n      and based on this, compute the retransmission timeout (RTO) as:\\n\\n        RTO = min[UBOUND,max[LBOUND,(BETA*SRTT)]]\\n\\n      where UBOUND is an upper bound on the timeout (e.g., 1 minute),\\n      LBOUND is a lower bound on the timeout (e.g., 1 second), ALPHA is\\n      a smoothing factor (e.g., .8 to .9), and BETA is a delay variance\\n      factor (e.g., 1.3 to 2.0).\\n\\n  The Communication of Urgent Information\\n\\n  The objective of the TCP urgent mechanism is to allow the sending user\\n  to stimulate the receiving user to accept some urgent data and to\\n  permit the receiving TCP to indicate to the receiving user when all\\n  the currently known urgent data has been received by the user.\\n\\n  This mechanism permits a point in the data stream to be designated as\\n  the end of urgent information.  Whenever this point is in advance of\\n  the receive sequence number (RCV.NXT) at the receiving TCP, that TCP\\n  must tell the user to go into \"urgent mode\"; when the receive sequence\\n  number catches up to the urgent pointer, the TCP must tell user to go\\n\\n\\n                                                               [Page 41]\\n\\x0c\\n\\n                                                          September 1981\\nTransmission Control Protocol\\nFunctional Specification\\n\\n\\n\\n  into \"normal mode\".  If the urgent pointer is updated while the user\\n  is in \"urgent mode\", the update will be invisible to the user.\\n\\n  The method employs a urgent field which is carried in all segments\\n  transmitted.  The URG control flag indicates that the urgent field is\\n  meaningful and must be added to the segment sequence number to yield\\n  the urgent pointer.  The absence of this flag indicates that there is\\n  no urgent data outstanding.\\n\\n  To send an urgent indication the user must also send at least one data\\n  octet.  If the sending user also indicates a push, timely delivery of\\n  the urgent information to the destination process is enhanced.\\n\\n  Managing the Window\\n\\n  The window sent in each segment indicates the range of sequence\\n  numbers the sender of the window (the data receiver) is currently\\n  prepared to accept.  There is an assumption that this is related to\\n  the currently available data buffer space available for this\\n  connection.\\n\\n  Indicating a large window encourages transmissions.  If more data\\n  arrives than can be accepted, it will be discarded.  This will result\\n  in excessive retransmissions, adding unnecessarily to the load on the\\n  network and the TCPs.  Indicating a small window may restrict the\\n  transmission of data to the point of introducing a round trip delay\\n  between each new segment transmitted.\\n\\n  The mechanisms provided allow a TCP to advertise a large window and to\\n  subsequently advertise a much smaller window without having accepted\\n  that much data.  This, so called \"shrinking the window,\" is strongly\\n  discouraged.  The robustness principle dictates that TCPs will not\\n  shrink the window themselves, but will be prepared for such behavior\\n  on the part of other TCPs.\\n\\n  The sending TCP must be prepared to accept from the user and send at\\n  least one octet of new data even if the send window is zero.  The\\n  sending TCP must regularly retransmit to the receiving TCP even when\\n  the window is zero.  Two minutes is recommended for the retransmission\\n  interval when the window is zero.  This retransmission is essential to\\n  guarantee that when either TCP has a zero window the re-opening of the\\n  window will be reliably reported to the other.\\n\\n  When the receiving TCP has a zero window and a segment arrives it must\\n  still send an acknowledgment showing its next expected sequence number\\n  and current window (zero).\\n\\n  The sending TCP packages the data to be transmitted into segments\\n\\n\\n[Page 42]                                                               \\n\\x0c\\n\\nSeptember 1981                                                          \\n                                           Transmission Control Protocol\\n                                                Functional Specification\\n\\n\\n\\n  which fit the current window, and may repackage segments on the\\n  retransmission queue.  Such repackaging is not required, but may be\\n  helpful.\\n\\n  In a connection with a one-way data flow, the window information will\\n  be carried in acknowledgment segments that all have the same sequence\\n  number so there will be no way to reorder them if they arrive out of\\n  order.  This is not a serious problem, but it will allow the window\\n  information to be on occasion temporarily based on old reports from\\n  the data receiver.  A refinement to avoid this problem is to act on\\n  the window information from segments that carry the highest\\n  acknowledgment number (that is segments with acknowledgment number\\n  equal or greater than the highest previously received).\\n\\n  The window management procedure has significant influence on the\\n  communication performance.  The following comments are suggestions to\\n  implementers.\\n\\n    Window Management Suggestions\\n\\n      Allocating a very small window causes data to be transmitted in\\n      many small segments when better performance is achieved using\\n      fewer large segments.\\n\\n      One suggestion for avoiding small windows is for the receiver to\\n      defer updating a window until the additional allocation is at\\n      least X percent of the maximum allocation possible for the\\n      connection (where X might be 20 to 40).\\n\\n      Another suggestion is for the sender to avoid sending small\\n      segments by waiting until the window is large enough before\\n      sending data.  If the the user signals a push function then the\\n      data must be sent even if it is a small segment.\\n\\n      Note that the acknowledgments should not be delayed or unnecessary\\n      retransmissions will result.  One strategy would be to send an\\n      acknowledgment when a small segment arrives (with out updating the\\n      window information), and then to send another acknowledgment with\\n      new window information when the window is larger.\\n\\n      The segment sent to probe a zero window may also begin a break up\\n      of transmitted data into smaller and smaller segments.  If a\\n      segment containing a single data octet sent to probe a zero window\\n      is accepted, it consumes one octet of the window now available.\\n      If the sending TCP simply sends as much as it can whenever the\\n      window is non zero, the transmitted data will be broken into\\n      alternating big and small segments.  As time goes on, occasional\\n      pauses in the receiver making window allocation available will\\n\\n\\n                                                               [Page 43]\\n\\x0c\\n\\n                                                          September 1981\\nTransmission Control Protocol\\nFunctional Specification\\n\\n\\n\\n      result in breaking the big segments into a small and not quite so\\n      big pair. And after a while the data transmission will be in\\n      mostly small segments.\\n\\n      The suggestion here is that the TCP implementations need to\\n      actively attempt to combine small window allocations into larger\\n      windows, since the mechanisms for managing the window tend to lead\\n      to many small windows in the simplest minded implementations.\\n\\n3.8.  Interfaces\\n\\n  There are of course two interfaces of concern:  the user/TCP interface\\n  and the TCP/lower-level interface.  We have a fairly elaborate model\\n  of the user/TCP interface, but the interface to the lower level\\n  protocol module is left unspecified here, since it will be specified\\n  in detail by the specification of the lowel level protocol.  For the\\n  case that the lower level is IP we note some of the parameter values\\n  that TCPs might use.\\n\\n  User/TCP Interface\\n\\n    The following functional description of user commands to the TCP is,\\n    at best, fictional, since every operating system will have different\\n    facilities.  Consequently, we must warn readers that different TCP\\n    implementations may have different user interfaces.  However, all\\n    TCPs must provide a certain minimum set of services to guarantee\\n    that all TCP implementations can support the same protocol\\n    hierarchy.  This section specifies the functional interfaces\\n    required of all TCP implementations.\\n\\n    TCP User Commands\\n\\n      The following sections functionally characterize a USER/TCP\\n      interface.  The notation used is similar to most procedure or\\n      function calls in high level languages, but this usage is not\\n      meant to rule out trap type service calls (e.g., SVCs, UUOs,\\n      EMTs).\\n\\n      The user commands described below specify the basic functions the\\n      TCP must perform to support interprocess communication.\\n      Individual implementations must define their own exact format, and\\n      may provide combinations or subsets of the basic functions in\\n      single calls.  In particular, some implementations may wish to\\n      automatically OPEN a connection on the first SEND or RECEIVE\\n      issued by the user for a given connection.\\n\\n\\n\\n\\n\\n[Page 44]                                                               \\n\\x0c\\n\\nSeptember 1981                                                          \\n                                           Transmission Control Protocol\\n                                                Functional Specification\\n\\n\\n\\n      In providing interprocess communication facilities, the TCP must\\n      not only accept commands, but must also return information to the\\n      processes it serves.  The latter consists of:\\n\\n        (a) general information about a connection (e.g., interrupts,\\n        remote close, binding of unspecified foreign socket).\\n\\n        (b) replies to specific user commands indicating success or\\n        various types of failure.\\n\\n      Open\\n\\n        Format:  OPEN (local port, foreign socket, active/passive\\n        [, timeout] [, precedence] [, security/compartment] [, options])\\n        -> local connection name\\n\\n        We assume that the local TCP is aware of the identity of the\\n        processes it serves and will check the authority of the process\\n        to use the connection specified.  Depending upon the\\n        implementation of the TCP, the local network and TCP identifiers\\n        for the source address will either be supplied by the TCP or the\\n        lower level protocol (e.g., IP).  These considerations are the\\n        result of concern about security, to the extent that no TCP be\\n        able to masquerade as another one, and so on.  Similarly, no\\n        process can masquerade as another without the collusion of the\\n        TCP.\\n\\n        If the active/passive flag is set to passive, then this is a\\n        call to LISTEN for an incoming connection.  A passive open may\\n        have either a fully specified foreign socket to wait for a\\n        particular connection or an unspecified foreign socket to wait\\n        for any call.  A fully specified passive call can be made active\\n        by the subsequent execution of a SEND.\\n\\n        A transmission control block (TCB) is created and partially\\n        filled in with data from the OPEN command parameters.\\n\\n        On an active OPEN command, the TCP will begin the procedure to\\n        synchronize (i.e., establish) the connection at once.\\n\\n        The timeout, if present, permits the caller to set up a timeout\\n        for all data submitted to TCP.  If data is not successfully\\n        delivered to the destination within the timeout period, the TCP\\n        will abort the connection.  The present global default is five\\n        minutes.\\n\\n        The TCP or some component of the operating system will verify\\n        the users authority to open a connection with the specified\\n\\n\\n                                                               [Page 45]\\n\\x0c\\n\\n                                                          September 1981\\nTransmission Control Protocol\\nFunctional Specification\\n\\n\\n\\n        precedence or security/compartment.  The absence of precedence\\n        or security/compartment specification in the OPEN call indicates\\n        the default values must be used.\\n\\n        TCP will accept incoming requests as matching only if the\\n        security/compartment information is exactly the same and only if\\n        the precedence is equal to or higher than the precedence\\n        requested in the OPEN call.\\n\\n        The precedence for the connection is the higher of the values\\n        requested in the OPEN call and received from the incoming\\n        request, and fixed at that value for the life of the\\n        connection.Implementers may want to give the user control of\\n        this precedence negotiation.  For example, the user might be\\n        allowed to specify that the precedence must be exactly matched,\\n        or that any attempt to raise the precedence be confirmed by the\\n        user.\\n\\n        A local connection name will be returned to the user by the TCP.\\n        The local connection name can then be used as a short hand term\\n        for the connection defined by the <local socket, foreign socket>\\n        pair.\\n\\n      Send\\n\\n        Format:  SEND (local connection name, buffer address, byte\\n        count, PUSH flag, URGENT flag [,timeout])\\n\\n        This call causes the data contained in the indicated user buffer\\n        to be sent on the indicated connection.  If the connection has\\n        not been opened, the SEND is considered an error.  Some\\n        implementations may allow users to SEND first; in which case, an\\n        automatic OPEN would be done.  If the calling process is not\\n        authorized to use this connection, an error is returned.\\n\\n        If the PUSH flag is set, the data must be transmitted promptly\\n        to the receiver, and the PUSH bit will be set in the last TCP\\n        segment created from the buffer.  If the PUSH flag is not set,\\n        the data may be combined with data from subsequent SENDs for\\n        transmission efficiency.\\n\\n        If the URGENT flag is set, segments sent to the destination TCP\\n        will have the urgent pointer set.  The receiving TCP will signal\\n        the urgent condition to the receiving process if the urgent\\n        pointer indicates that data preceding the urgent pointer has not\\n        been consumed by the receiving process.  The purpose of urgent\\n        is to stimulate the receiver to process the urgent data and to\\n        indicate to the receiver when all the currently known urgent\\n\\n\\n[Page 46]                                                               \\n\\x0c\\n\\nSeptember 1981                                                          \\n                                           Transmission Control Protocol\\n                                                Functional Specification\\n\\n\\n\\n        data has been received.  The number of times the sending user\\'s\\n        TCP signals urgent will not necessarily be equal to the number\\n        of times the receiving user will be notified of the presence of\\n        urgent data.\\n\\n        If no foreign socket was specified in the OPEN, but the\\n        connection is established (e.g., because a LISTENing connection\\n        has become specific due to a foreign segment arriving for the\\n        local socket), then the designated buffer is sent to the implied\\n        foreign socket.  Users who make use of OPEN with an unspecified\\n        foreign socket can make use of SEND without ever explicitly\\n        knowing the foreign socket address.\\n\\n        However, if a SEND is attempted before the foreign socket\\n        becomes specified, an error will be returned.  Users can use the\\n        STATUS call to determine the status of the connection.  In some\\n        implementations the TCP may notify the user when an unspecified\\n        socket is bound.\\n\\n        If a timeout is specified, the current user timeout for this\\n        connection is changed to the new one.\\n\\n        In the simplest implementation, SEND would not return control to\\n        the sending process until either the transmission was complete\\n        or the timeout had been exceeded.  However, this simple method\\n        is both subject to deadlocks (for example, both sides of the\\n        connection might try to do SENDs before doing any RECEIVEs) and\\n        offers poor performance, so it is not recommended.  A more\\n        sophisticated implementation would return immediately to allow\\n        the process to run concurrently with network I/O, and,\\n        furthermore, to allow multiple SENDs to be in progress.\\n        Multiple SENDs are served in first come, first served order, so\\n        the TCP will queue those it cannot service immediately.\\n\\n        We have implicitly assumed an asynchronous user interface in\\n        which a SEND later elicits some kind of SIGNAL or\\n        pseudo-interrupt from the serving TCP.  An alternative is to\\n        return a response immediately.  For instance, SENDs might return\\n        immediate local acknowledgment, even if the segment sent had not\\n        been acknowledged by the distant TCP.  We could optimistically\\n        assume eventual success.  If we are wrong, the connection will\\n        close anyway due to the timeout.  In implementations of this\\n        kind (synchronous), there will still be some asynchronous\\n        signals, but these will deal with the connection itself, and not\\n        with specific segments or buffers.\\n\\n        In order for the process to distinguish among error or success\\n        indications for different SENDs, it might be appropriate for the\\n\\n\\n                                                               [Page 47]\\n\\x0c\\n\\n                                                          September 1981\\nTransmission Control Protocol\\nFunctional Specification\\n\\n\\n\\n        buffer address to be returned along with the coded response to\\n        the SEND request.  TCP-to-user signals are discussed below,\\n        indicating the information which should be returned to the\\n        calling process.\\n\\n      Receive\\n\\n        Format:  RECEIVE (local connection name, buffer address, byte\\n        count) -> byte count, urgent flag, push flag\\n\\n        This command allocates a receiving buffer associated with the\\n        specified connection.  If no OPEN precedes this command or the\\n        calling process is not authorized to use this connection, an\\n        error is returned.\\n\\n        In the simplest implementation, control would not return to the\\n        calling program until either the buffer was filled, or some\\n        error occurred, but this scheme is highly subject to deadlocks.\\n        A more sophisticated implementation would permit several\\n        RECEIVEs to be outstanding at once.  These would be filled as\\n        segments arrive.  This strategy permits increased throughput at\\n        the cost of a more elaborate scheme (possibly asynchronous) to\\n        notify the calling program that a PUSH has been seen or a buffer\\n        filled.\\n\\n        If enough data arrive to fill the buffer before a PUSH is seen,\\n        the PUSH flag will not be set in the response to the RECEIVE.\\n        The buffer will be filled with as much data as it can hold.  If\\n        a PUSH is seen before the buffer is filled the buffer will be\\n        returned partially filled and PUSH indicated.\\n\\n        If there is urgent data the user will have been informed as soon\\n        as it arrived via a TCP-to-user signal.  The receiving user\\n        should thus be in \"urgent mode\".  If the URGENT flag is on,\\n        additional urgent data remains.  If the URGENT flag is off, this\\n        call to RECEIVE has returned all the urgent data, and the user\\n        may now leave \"urgent mode\".  Note that data following the\\n        urgent pointer (non-urgent data) cannot be delivered to the user\\n        in the same buffer with preceeding urgent data unless the\\n        boundary is clearly marked for the user.\\n\\n        To distinguish among several outstanding RECEIVEs and to take\\n        care of the case that a buffer is not completely filled, the\\n        return code is accompanied by both a buffer pointer and a byte\\n        count indicating the actual length of the data received.\\n\\n        Alternative implementations of RECEIVE might have the TCP\\n\\n\\n\\n[Page 48]                                                               \\n\\x0c\\n\\nSeptember 1981                                                          \\n                                           Transmission Control Protocol\\n                                                Functional Specification\\n\\n\\n\\n        allocate buffer storage, or the TCP might share a ring buffer\\n        with the user.\\n\\n      Close\\n\\n        Format:  CLOSE (local connection name)\\n\\n        This command causes the connection specified to be closed.  If\\n        the connection is not open or the calling process is not\\n        authorized to use this connection, an error is returned.\\n        Closing connections is intended to be a graceful operation in\\n        the sense that outstanding SENDs will be transmitted (and\\n        retransmitted), as flow control permits, until all have been\\n        serviced.  Thus, it should be acceptable to make several SEND\\n        calls, followed by a CLOSE, and expect all the data to be sent\\n        to the destination.  It should also be clear that users should\\n        continue to RECEIVE on CLOSING connections, since the other side\\n        may be trying to transmit the last of its data.  Thus, CLOSE\\n        means \"I have no more to send\" but does not mean \"I will not\\n        receive any more.\"  It may happen (if the user level protocol is\\n        not well thought out) that the closing side is unable to get rid\\n        of all its data before timing out.  In this event, CLOSE turns\\n        into ABORT, and the closing TCP gives up.\\n\\n        The user may CLOSE the connection at any time on his own\\n        initiative, or in response to various prompts from the TCP\\n        (e.g., remote close executed, transmission timeout exceeded,\\n        destination inaccessible).\\n\\n        Because closing a connection requires communication with the\\n        foreign TCP, connections may remain in the closing state for a\\n        short time.  Attempts to reopen the connection before the TCP\\n        replies to the CLOSE command will result in error responses.\\n\\n        Close also implies push function.\\n\\n      Status\\n\\n        Format:  STATUS (local connection name) -> status data\\n\\n        This is an implementation dependent user command and could be\\n        excluded without adverse effect.  Information returned would\\n        typically come from the TCB associated with the connection.\\n\\n        This command returns a data block containing the following\\n        information:\\n\\n          local socket,\\n\\n\\n                                                               [Page 49]\\n\\x0c\\n\\n                                                          September 1981\\nTransmission Control Protocol\\nFunctional Specification\\n\\n\\n\\n          foreign socket,\\n          local connection name,\\n          receive window,\\n          send window,\\n          connection state,\\n          number of buffers awaiting acknowledgment,\\n          number of buffers pending receipt,\\n          urgent state,\\n          precedence,\\n          security/compartment,\\n          and transmission timeout.\\n\\n        Depending on the state of the connection, or on the\\n        implementation itself, some of this information may not be\\n        available or meaningful.  If the calling process is not\\n        authorized to use this connection, an error is returned.  This\\n        prevents unauthorized processes from gaining information about a\\n        connection.\\n\\n      Abort\\n\\n        Format:  ABORT (local connection name)\\n\\n        This command causes all pending SENDs and RECEIVES to be\\n        aborted, the TCB to be removed, and a special RESET message to\\n        be sent to the TCP on the other side of the connection.\\n        Depending on the implementation, users may receive abort\\n        indications for each outstanding SEND or RECEIVE, or may simply\\n        receive an ABORT-acknowledgment.\\n\\n    TCP-to-User Messages\\n\\n      It is assumed that the operating system environment provides a\\n      means for the TCP to asynchronously signal the user program.  When\\n      the TCP does signal a user program, certain information is passed\\n      to the user.  Often in the specification the information will be\\n      an error message.  In other cases there will be information\\n      relating to the completion of processing a SEND or RECEIVE or\\n      other user call.\\n\\n      The following information is provided:\\n\\n        Local Connection Name                    Always\\n        Response String                          Always\\n        Buffer Address                           Send & Receive\\n        Byte count (counts bytes received)       Receive\\n        Push flag                                Receive\\n        Urgent flag                              Receive\\n\\n\\n[Page 50]                                                               \\n\\x0c\\n\\nSeptember 1981                                                          \\n                                           Transmission Control Protocol\\n                                                Functional Specification\\n\\n\\n\\n  TCP/Lower-Level Interface\\n\\n    The TCP calls on a lower level protocol module to actually send and\\n    receive information over a network.  One case is that of the ARPA\\n    internetwork system where the lower level module is the Internet\\n    Protocol (IP) [2].\\n\\n    If the lower level protocol is IP it provides arguments for a type\\n    of service and for a time to live.  TCP uses the following settings\\n    for these parameters:\\n\\n      Type of Service = Precedence: routine, Delay: normal, Throughput:\\n      normal, Reliability: normal; or 00000000.\\n\\n      Time to Live    = one minute, or 00111100.\\n\\n        Note that the assumed maximum segment lifetime is two minutes.\\n        Here we explicitly ask that a segment be destroyed if it cannot\\n        be delivered by the internet system within one minute.\\n\\n    If the lower level is IP (or other protocol that provides this\\n    feature) and source routing is used, the interface must allow the\\n    route information to be communicated.  This is especially important\\n    so that the source and destination addresses used in the TCP\\n    checksum be the originating source and ultimate destination. It is\\n    also important to preserve the return route to answer connection\\n    requests.\\n\\n    Any lower level protocol will have to provide the source address,\\n    destination address, and protocol fields, and some way to determine\\n    the \"TCP length\", both to provide the functional equivlent service\\n    of IP and to be used in the TCP checksum.\\n\\n\\n\\n\\n\\n\\n\\n\\n\\n\\n\\n\\n\\n\\n\\n\\n\\n\\n                                                               [Page 51]\\n\\x0c\\n\\n                                                          September 1981\\nTransmission Control Protocol\\nFunctional Specification\\n\\n\\n\\n3.9.  Event Processing\\n\\n  The processing depicted in this section is an example of one possible\\n  implementation.  Other implementations may have slightly different\\n  processing sequences, but they should differ from those in this\\n  section only in detail, not in substance.\\n\\n  The activity of the TCP can be characterized as responding to events.\\n  The events that occur can be cast into three categories:  user calls,\\n  arriving segments, and timeouts.  This section describes the\\n  processing the TCP does in response to each of the events.  In many\\n  cases the processing required depends on the state of the connection.\\n\\n    Events that occur:\\n\\n      User Calls\\n\\n        OPEN\\n        SEND\\n        RECEIVE\\n        CLOSE\\n        ABORT\\n        STATUS\\n\\n      Arriving Segments\\n\\n        SEGMENT ARRIVES\\n\\n      Timeouts\\n\\n        USER TIMEOUT\\n        RETRANSMISSION TIMEOUT\\n        TIME-WAIT TIMEOUT\\n\\n  The model of the TCP/user interface is that user commands receive an\\n  immediate return and possibly a delayed response via an event or\\n  pseudo interrupt.  In the following descriptions, the term \"signal\"\\n  means cause a delayed response.\\n\\n  Error responses are given as character strings.  For example, user\\n  commands referencing connections that do not exist receive \"error:\\n  connection not open\".\\n\\n  Please note in the following that all arithmetic on sequence numbers,\\n  acknowledgment numbers, windows, et cetera, is modulo 2**32 the size\\n  of the sequence number space.  Also note that \"=<\" means less than or\\n  equal to (modulo 2**32).\\n\\n\\n\\n[Page 52]                                                               \\n\\x0c\\n\\nSeptember 1981                                                          \\n                                           Transmission Control Protocol\\n                                                Functional Specification\\n\\n\\n\\n  A natural way to think about processing incoming segments is to\\n  imagine that they are first tested for proper sequence number (i.e.,\\n  that their contents lie in the range of the expected \"receive window\"\\n  in the sequence number space) and then that they are generally queued\\n  and processed in sequence number order.\\n\\n  When a segment overlaps other already received segments we reconstruct\\n  the segment to contain just the new data, and adjust the header fields\\n  to be consistent.\\n\\n  Note that if no state change is mentioned the TCP stays in the same\\n  state.\\n\\n\\n\\n\\n\\n\\n\\n\\n\\n\\n\\n\\n\\n\\n\\n\\n\\n\\n\\n\\n\\n\\n\\n\\n\\n\\n\\n\\n\\n\\n\\n\\n\\n\\n\\n\\n\\n\\n                                                               [Page 53]\\n\\x0c\\n\\n                                                          September 1981\\nTransmission Control Protocol\\nFunctional Specification\\n                                                               OPEN Call\\n\\n\\n\\n  OPEN Call\\n\\n    CLOSED STATE (i.e., TCB does not exist)\\n\\n      Create a new transmission control block (TCB) to hold connection\\n      state information.  Fill in local socket identifier, foreign\\n      socket, precedence, security/compartment, and user timeout\\n      information.  Note that some parts of the foreign socket may be\\n      unspecified in a passive OPEN and are to be filled in by the\\n      parameters of the incoming SYN segment.  Verify the security and\\n      precedence requested are allowed for this user, if not return\\n      \"error:  precedence not allowed\" or \"error:  security/compartment\\n      not allowed.\"  If passive enter the LISTEN state and return.  If\\n      active and the foreign socket is unspecified, return \"error:\\n      foreign socket unspecified\"; if active and the foreign socket is\\n      specified, issue a SYN segment.  An initial send sequence number\\n      (ISS) is selected.  A SYN segment of the form <SEQ=ISS><CTL=SYN>\\n      is sent.  Set SND.UNA to ISS, SND.NXT to ISS+1, enter SYN-SENT\\n      state, and return.\\n\\n      If the caller does not have access to the local socket specified,\\n      return \"error:  connection illegal for this process\".  If there is\\n      no room to create a new connection, return \"error:  insufficient\\n      resources\".\\n\\n    LISTEN STATE\\n\\n      If active and the foreign socket is specified, then change the\\n      connection from passive to active, select an ISS.  Send a SYN\\n      segment, set SND.UNA to ISS, SND.NXT to ISS+1.  Enter SYN-SENT\\n      state.  Data associated with SEND may be sent with SYN segment or\\n      queued for transmission after entering ESTABLISHED state.  The\\n      urgent bit if requested in the command must be sent with the data\\n      segments sent as a result of this command.  If there is no room to\\n      queue the request, respond with \"error:  insufficient resources\".\\n      If Foreign socket was not specified, then return \"error:  foreign\\n      socket unspecified\".\\n\\n\\n\\n\\n\\n\\n\\n\\n\\n\\n\\n\\n[Page 54]                                                               \\n\\x0c\\n\\nSeptember 1981                                                          \\n                                           Transmission Control Protocol\\n                                                Functional Specification\\nOPEN Call\\n\\n\\n\\n    SYN-SENT STATE\\n    SYN-RECEIVED STATE\\n    ESTABLISHED STATE\\n    FIN-WAIT-1 STATE\\n    FIN-WAIT-2 STATE\\n    CLOSE-WAIT STATE\\n    CLOSING STATE\\n    LAST-ACK STATE\\n    TIME-WAIT STATE\\n\\n      Return \"error:  connection already exists\".\\n\\n\\n\\n\\n\\n\\n\\n\\n\\n\\n\\n\\n\\n\\n\\n\\n\\n\\n\\n\\n\\n\\n\\n\\n\\n\\n\\n\\n\\n\\n\\n\\n\\n\\n\\n\\n\\n\\n                                                               [Page 55]\\n\\x0c\\n\\n                                                          September 1981\\nTransmission Control Protocol\\nFunctional Specification\\n                                                               SEND Call\\n\\n\\n\\n  SEND Call\\n\\n    CLOSED STATE (i.e., TCB does not exist)\\n\\n      If the user does not have access to such a connection, then return\\n      \"error:  connection illegal for this process\".\\n\\n      Otherwise, return \"error:  connection does not exist\".\\n\\n    LISTEN STATE\\n\\n      If the foreign socket is specified, then change the connection\\n      from passive to active, select an ISS.  Send a SYN segment, set\\n      SND.UNA to ISS, SND.NXT to ISS+1.  Enter SYN-SENT state.  Data\\n      associated with SEND may be sent with SYN segment or queued for\\n      transmission after entering ESTABLISHED state.  The urgent bit if\\n      requested in the command must be sent with the data segments sent\\n      as a result of this command.  If there is no room to queue the\\n      request, respond with \"error:  insufficient resources\".  If\\n      Foreign socket was not specified, then return \"error:  foreign\\n      socket unspecified\".\\n\\n    SYN-SENT STATE\\n    SYN-RECEIVED STATE\\n\\n      Queue the data for transmission after entering ESTABLISHED state.\\n      If no space to queue, respond with \"error:  insufficient\\n      resources\".\\n\\n    ESTABLISHED STATE\\n    CLOSE-WAIT STATE\\n\\n      Segmentize the buffer and send it with a piggybacked\\n      acknowledgment (acknowledgment value = RCV.NXT).  If there is\\n      insufficient space to remember this buffer, simply return \"error:\\n      insufficient resources\".\\n\\n      If the urgent flag is set, then SND.UP <- SND.NXT-1 and set the\\n      urgent pointer in the outgoing segments.\\n\\n\\n\\n\\n\\n\\n\\n\\n\\n\\n[Page 56]                                                               \\n\\x0c\\n\\nSeptember 1981                                                          \\n                                           Transmission Control Protocol\\n                                                Functional Specification\\nSEND Call\\n\\n\\n\\n    FIN-WAIT-1 STATE\\n    FIN-WAIT-2 STATE\\n    CLOSING STATE\\n    LAST-ACK STATE\\n    TIME-WAIT STATE\\n\\n      Return \"error:  connection closing\" and do not service request.\\n\\n\\n\\n\\n\\n\\n\\n\\n\\n\\n\\n\\n\\n\\n\\n\\n\\n\\n\\n\\n\\n\\n\\n\\n\\n\\n\\n\\n\\n\\n\\n\\n\\n\\n\\n\\n\\n\\n\\n\\n\\n\\n                                                               [Page 57]\\n\\x0c\\n\\n                                                          September 1981\\nTransmission Control Protocol\\nFunctional Specification\\n                                                            RECEIVE Call\\n\\n\\n\\n  RECEIVE Call\\n\\n    CLOSED STATE (i.e., TCB does not exist)\\n\\n      If the user does not have access to such a connection, return\\n      \"error:  connection illegal for this process\".\\n\\n      Otherwise return \"error:  connection does not exist\".\\n\\n    LISTEN STATE\\n    SYN-SENT STATE\\n    SYN-RECEIVED STATE\\n\\n      Queue for processing after entering ESTABLISHED state.  If there\\n      is no room to queue this request, respond with \"error:\\n      insufficient resources\".\\n\\n    ESTABLISHED STATE\\n    FIN-WAIT-1 STATE\\n    FIN-WAIT-2 STATE\\n\\n      If insufficient incoming segments are queued to satisfy the\\n      request, queue the request.  If there is no queue space to\\n      remember the RECEIVE, respond with \"error:  insufficient\\n      resources\".\\n\\n      Reassemble queued incoming segments into receive buffer and return\\n      to user.  Mark \"push seen\" (PUSH) if this is the case.\\n\\n      If RCV.UP is in advance of the data currently being passed to the\\n      user notify the user of the presence of urgent data.\\n\\n      When the TCP takes responsibility for delivering data to the user\\n      that fact must be communicated to the sender via an\\n      acknowledgment.  The formation of such an acknowledgment is\\n      described below in the discussion of processing an incoming\\n      segment.\\n\\n\\n\\n\\n\\n\\n\\n\\n\\n\\n\\n\\n[Page 58]                                                               \\n\\x0c\\n\\nSeptember 1981                                                          \\n                                           Transmission Control Protocol\\n                                                Functional Specification\\nRECEIVE Call\\n\\n\\n\\n    CLOSE-WAIT STATE\\n\\n      Since the remote side has already sent FIN, RECEIVEs must be\\n      satisfied by text already on hand, but not yet delivered to the\\n      user.  If no text is awaiting delivery, the RECEIVE will get a\\n      \"error:  connection closing\" response.  Otherwise, any remaining\\n      text can be used to satisfy the RECEIVE.\\n\\n    CLOSING STATE\\n    LAST-ACK STATE\\n    TIME-WAIT STATE\\n\\n      Return \"error:  connection closing\".\\n\\n\\n\\n\\n\\n\\n\\n\\n\\n\\n\\n\\n\\n\\n\\n\\n\\n\\n\\n\\n\\n\\n\\n\\n\\n\\n\\n\\n\\n\\n\\n\\n\\n\\n\\n\\n                                                               [Page 59]\\n\\x0c\\n\\n                                                          September 1981\\nTransmission Control Protocol\\nFunctional Specification\\n                                                              CLOSE Call\\n\\n\\n\\n  CLOSE Call\\n\\n    CLOSED STATE (i.e., TCB does not exist)\\n\\n      If the user does not have access to such a connection, return\\n      \"error:  connection illegal for this process\".\\n\\n      Otherwise, return \"error:  connection does not exist\".\\n\\n    LISTEN STATE\\n\\n      Any outstanding RECEIVEs are returned with \"error:  closing\"\\n      responses.  Delete TCB, enter CLOSED state, and return.\\n\\n    SYN-SENT STATE\\n\\n      Delete the TCB and return \"error:  closing\" responses to any\\n      queued SENDs, or RECEIVEs.\\n\\n    SYN-RECEIVED STATE\\n\\n      If no SENDs have been issued and there is no pending data to send,\\n      then form a FIN segment and send it, and enter FIN-WAIT-1 state;\\n      otherwise queue for processing after entering ESTABLISHED state.\\n\\n    ESTABLISHED STATE\\n\\n      Queue this until all preceding SENDs have been segmentized, then\\n      form a FIN segment and send it.  In any case, enter FIN-WAIT-1\\n      state.\\n\\n    FIN-WAIT-1 STATE\\n    FIN-WAIT-2 STATE\\n\\n      Strictly speaking, this is an error and should receive a \"error:\\n      connection closing\" response.  An \"ok\" response would be\\n      acceptable, too, as long as a second FIN is not emitted (the first\\n      FIN may be retransmitted though).\\n\\n\\n\\n\\n\\n\\n\\n\\n\\n\\n\\n[Page 60]                                                               \\n\\x0c\\n\\nSeptember 1981                                                          \\n                                           Transmission Control Protocol\\n                                                Functional Specification\\nCLOSE Call\\n\\n\\n\\n    CLOSE-WAIT STATE\\n\\n      Queue this request until all preceding SENDs have been\\n      segmentized; then send a FIN segment, enter CLOSING state.\\n\\n    CLOSING STATE\\n    LAST-ACK STATE\\n    TIME-WAIT STATE\\n\\n      Respond with \"error:  connection closing\".\\n\\n\\n\\n\\n\\n\\n\\n\\n\\n\\n\\n\\n\\n\\n\\n\\n\\n\\n\\n\\n\\n\\n\\n\\n\\n\\n\\n\\n\\n\\n\\n\\n\\n\\n\\n\\n\\n\\n\\n                                                               [Page 61]\\n\\x0c\\n\\n                                                          September 1981\\nTransmission Control Protocol\\nFunctional Specification\\n                                                              ABORT Call\\n\\n\\n\\n  ABORT Call\\n\\n    CLOSED STATE (i.e., TCB does not exist)\\n\\n      If the user should not have access to such a connection, return\\n      \"error:  connection illegal for this process\".\\n\\n      Otherwise return \"error:  connection does not exist\".\\n\\n    LISTEN STATE\\n\\n      Any outstanding RECEIVEs should be returned with \"error:\\n      connection reset\" responses.  Delete TCB, enter CLOSED state, and\\n      return.\\n\\n    SYN-SENT STATE\\n\\n      All queued SENDs and RECEIVEs should be given \"connection reset\"\\n      notification, delete the TCB, enter CLOSED state, and return.\\n\\n    SYN-RECEIVED STATE\\n    ESTABLISHED STATE\\n    FIN-WAIT-1 STATE\\n    FIN-WAIT-2 STATE\\n    CLOSE-WAIT STATE\\n\\n      Send a reset segment:\\n\\n        <SEQ=SND.NXT><CTL=RST>\\n\\n      All queued SENDs and RECEIVEs should be given \"connection reset\"\\n      notification; all segments queued for transmission (except for the\\n      RST formed above) or retransmission should be flushed, delete the\\n      TCB, enter CLOSED state, and return.\\n\\n    CLOSING STATE\\n    LAST-ACK STATE\\n    TIME-WAIT STATE\\n\\n      Respond with \"ok\" and delete the TCB, enter CLOSED state, and\\n      return.\\n\\n\\n\\n\\n\\n\\n\\n\\n[Page 62]                                                               \\n\\x0c\\n\\nSeptember 1981                                                          \\n                                           Transmission Control Protocol\\n                                                Functional Specification\\nSTATUS Call\\n\\n\\n\\n  STATUS Call\\n\\n    CLOSED STATE (i.e., TCB does not exist)\\n\\n      If the user should not have access to such a connection, return\\n      \"error:  connection illegal for this process\".\\n\\n      Otherwise return \"error:  connection does not exist\".\\n\\n    LISTEN STATE\\n\\n      Return \"state = LISTEN\", and the TCB pointer.\\n\\n    SYN-SENT STATE\\n\\n      Return \"state = SYN-SENT\", and the TCB pointer.\\n\\n    SYN-RECEIVED STATE\\n\\n      Return \"state = SYN-RECEIVED\", and the TCB pointer.\\n\\n    ESTABLISHED STATE\\n\\n      Return \"state = ESTABLISHED\", and the TCB pointer.\\n\\n    FIN-WAIT-1 STATE\\n\\n      Return \"state = FIN-WAIT-1\", and the TCB pointer.\\n\\n    FIN-WAIT-2 STATE\\n\\n      Return \"state = FIN-WAIT-2\", and the TCB pointer.\\n\\n    CLOSE-WAIT STATE\\n\\n      Return \"state = CLOSE-WAIT\", and the TCB pointer.\\n\\n    CLOSING STATE\\n\\n      Return \"state = CLOSING\", and the TCB pointer.\\n\\n    LAST-ACK STATE\\n\\n      Return \"state = LAST-ACK\", and the TCB pointer.\\n\\n\\n\\n\\n\\n                                                               [Page 63]\\n\\x0c\\n\\n                                                          September 1981\\nTransmission Control Protocol\\nFunctional Specification\\n                                                             STATUS Call\\n\\n\\n\\n    TIME-WAIT STATE\\n\\n      Return \"state = TIME-WAIT\", and the TCB pointer.\\n\\n\\n\\n\\n\\n\\n\\n\\n\\n\\n\\n\\n\\n\\n\\n\\n\\n\\n\\n\\n\\n\\n\\n\\n\\n\\n\\n\\n\\n\\n\\n\\n\\n\\n\\n\\n\\n\\n\\n\\n\\n\\n\\n\\n\\n\\n[Page 64]                                                               \\n\\x0c\\n\\nSeptember 1981                                                          \\n                                           Transmission Control Protocol\\n                                                Functional Specification\\nSEGMENT ARRIVES\\n\\n\\n\\n  SEGMENT ARRIVES\\n\\n    If the state is CLOSED (i.e., TCB does not exist) then\\n\\n      all data in the incoming segment is discarded.  An incoming\\n      segment containing a RST is discarded.  An incoming segment not\\n      containing a RST causes a RST to be sent in response.  The\\n      acknowledgment and sequence field values are selected to make the\\n      reset sequence acceptable to the TCP that sent the offending\\n      segment.\\n\\n      If the ACK bit is off, sequence number zero is used,\\n\\n        <SEQ=0><ACK=SEG.SEQ+SEG.LEN><CTL=RST,ACK>\\n\\n      If the ACK bit is on,\\n\\n        <SEQ=SEG.ACK><CTL=RST>\\n\\n      Return.\\n\\n    If the state is LISTEN then\\n\\n      first check for an RST\\n\\n        An incoming RST should be ignored.  Return.\\n\\n      second check for an ACK\\n\\n        Any acknowledgment is bad if it arrives on a connection still in\\n        the LISTEN state.  An acceptable reset segment should be formed\\n        for any arriving ACK-bearing segment.  The RST should be\\n        formatted as follows:\\n\\n          <SEQ=SEG.ACK><CTL=RST>\\n\\n        Return.\\n\\n      third check for a SYN\\n\\n        If the SYN bit is set, check the security.  If the\\n        security/compartment on the incoming segment does not exactly\\n        match the security/compartment in the TCB then send a reset and\\n        return.\\n\\n          <SEQ=SEG.ACK><CTL=RST>\\n\\n\\n\\n                                                               [Page 65]\\n\\x0c\\n\\n                                                          September 1981\\nTransmission Control Protocol\\nFunctional Specification\\n                                                         SEGMENT ARRIVES\\n\\n\\n\\n        If the SEG.PRC is greater than the TCB.PRC then if allowed by\\n        the user and the system set TCB.PRC<-SEG.PRC, if not allowed\\n        send a reset and return.\\n\\n          <SEQ=SEG.ACK><CTL=RST>\\n\\n        If the SEG.PRC is less than the TCB.PRC then continue.\\n\\n        Set RCV.NXT to SEG.SEQ+1, IRS is set to SEG.SEQ and any other\\n        control or text should be queued for processing later.  ISS\\n        should be selected and a SYN segment sent of the form:\\n\\n          <SEQ=ISS><ACK=RCV.NXT><CTL=SYN,ACK>\\n\\n        SND.NXT is set to ISS+1 and SND.UNA to ISS.  The connection\\n        state should be changed to SYN-RECEIVED.  Note that any other\\n        incoming control or data (combined with SYN) will be processed\\n        in the SYN-RECEIVED state, but processing of SYN and ACK should\\n        not be repeated.  If the listen was not fully specified (i.e.,\\n        the foreign socket was not fully specified), then the\\n        unspecified fields should be filled in now.\\n\\n      fourth other text or control\\n\\n        Any other control or text-bearing segment (not containing SYN)\\n        must have an ACK and thus would be discarded by the ACK\\n        processing.  An incoming RST segment could not be valid, since\\n        it could not have been sent in response to anything sent by this\\n        incarnation of the connection.  So you are unlikely to get here,\\n        but if you do, drop the segment, and return.\\n\\n    If the state is SYN-SENT then\\n\\n      first check the ACK bit\\n\\n        If the ACK bit is set\\n\\n          If SEG.ACK =< ISS, or SEG.ACK > SND.NXT, send a reset (unless\\n          the RST bit is set, if so drop the segment and return)\\n\\n            <SEQ=SEG.ACK><CTL=RST>\\n\\n          and discard the segment.  Return.\\n\\n          If SND.UNA =< SEG.ACK =< SND.NXT then the ACK is acceptable.\\n\\n      second check the RST bit\\n\\n\\n[Page 66]                                                               \\n\\x0c\\n\\nSeptember 1981                                                          \\n                                           Transmission Control Protocol\\n                                                Functional Specification\\nSEGMENT ARRIVES\\n\\n\\n\\n        If the RST bit is set\\n\\n          If the ACK was acceptable then signal the user \"error:\\n          connection reset\", drop the segment, enter CLOSED state,\\n          delete TCB, and return.  Otherwise (no ACK) drop the segment\\n          and return.\\n\\n      third check the security and precedence\\n\\n        If the security/compartment in the segment does not exactly\\n        match the security/compartment in the TCB, send a reset\\n\\n          If there is an ACK\\n\\n            <SEQ=SEG.ACK><CTL=RST>\\n\\n          Otherwise\\n\\n            <SEQ=0><ACK=SEG.SEQ+SEG.LEN><CTL=RST,ACK>\\n\\n        If there is an ACK\\n\\n          The precedence in the segment must match the precedence in the\\n          TCB, if not, send a reset\\n\\n            <SEQ=SEG.ACK><CTL=RST>\\n\\n        If there is no ACK\\n\\n          If the precedence in the segment is higher than the precedence\\n          in the TCB then if allowed by the user and the system raise\\n          the precedence in the TCB to that in the segment, if not\\n          allowed to raise the prec then send a reset.\\n\\n            <SEQ=0><ACK=SEG.SEQ+SEG.LEN><CTL=RST,ACK>\\n\\n          If the precedence in the segment is lower than the precedence\\n          in the TCB continue.\\n\\n        If a reset was sent, discard the segment and return.\\n\\n      fourth check the SYN bit\\n\\n        This step should be reached only if the ACK is ok, or there is\\n        no ACK, and it the segment did not contain a RST.\\n\\n        If the SYN bit is on and the security/compartment and precedence\\n\\n\\n                                                               [Page 67]\\n\\x0c\\n\\n                                                          September 1981\\nTransmission Control Protocol\\nFunctional Specification\\n                                                         SEGMENT ARRIVES\\n\\n\\n\\n        are acceptable then, RCV.NXT is set to SEG.SEQ+1, IRS is set to\\n        SEG.SEQ.  SND.UNA should be advanced to equal SEG.ACK (if there\\n        is an ACK), and any segments on the retransmission queue which\\n        are thereby acknowledged should be removed.\\n\\n        If SND.UNA > ISS (our SYN has been ACKed), change the connection\\n        state to ESTABLISHED, form an ACK segment\\n\\n          <SEQ=SND.NXT><ACK=RCV.NXT><CTL=ACK>\\n\\n        and send it.  Data or controls which were queued for\\n        transmission may be included.  If there are other controls or\\n        text in the segment then continue processing at the sixth step\\n        below where the URG bit is checked, otherwise return.\\n\\n        Otherwise enter SYN-RECEIVED, form a SYN,ACK segment\\n\\n          <SEQ=ISS><ACK=RCV.NXT><CTL=SYN,ACK>\\n\\n        and send it.  If there are other controls or text in the\\n        segment, queue them for processing after the ESTABLISHED state\\n        has been reached, return.\\n\\n      fifth, if neither of the SYN or RST bits is set then drop the\\n      segment and return.\\n\\n\\n\\n\\n\\n\\n\\n\\n\\n\\n\\n\\n\\n\\n\\n\\n\\n\\n\\n\\n\\n\\n\\n\\n[Page 68]                                                               \\n\\x0c\\n\\nSeptember 1981                                                          \\n                                           Transmission Control Protocol\\n                                                Functional Specification\\nSEGMENT ARRIVES\\n\\n\\n\\n    Otherwise,\\n\\n    first check sequence number\\n\\n      SYN-RECEIVED STATE\\n      ESTABLISHED STATE\\n      FIN-WAIT-1 STATE\\n      FIN-WAIT-2 STATE\\n      CLOSE-WAIT STATE\\n      CLOSING STATE\\n      LAST-ACK STATE\\n      TIME-WAIT STATE\\n\\n        Segments are processed in sequence.  Initial tests on arrival\\n        are used to discard old duplicates, but further processing is\\n        done in SEG.SEQ order.  If a segment\\'s contents straddle the\\n        boundary between old and new, only the new parts should be\\n        processed.\\n\\n        There are four cases for the acceptability test for an incoming\\n        segment:\\n\\n        Segment Receive  Test\\n        Length  Window\\n        ------- -------  -------------------------------------------\\n\\n           0       0     SEG.SEQ = RCV.NXT\\n\\n           0      >0     RCV.NXT =< SEG.SEQ < RCV.NXT+RCV.WND\\n\\n          >0       0     not acceptable\\n\\n          >0      >0     RCV.NXT =< SEG.SEQ < RCV.NXT+RCV.WND\\n                      or RCV.NXT =< SEG.SEQ+SEG.LEN-1 < RCV.NXT+RCV.WND\\n\\n        If the RCV.WND is zero, no segments will be acceptable, but\\n        special allowance should be made to accept valid ACKs, URGs and\\n        RSTs.\\n\\n        If an incoming segment is not acceptable, an acknowledgment\\n        should be sent in reply (unless the RST bit is set, if so drop\\n        the segment and return):\\n\\n          <SEQ=SND.NXT><ACK=RCV.NXT><CTL=ACK>\\n\\n        After sending the acknowledgment, drop the unacceptable segment\\n        and return.\\n\\n\\n                                                               [Page 69]\\n\\x0c\\n\\n                                                          September 1981\\nTransmission Control Protocol\\nFunctional Specification\\n                                                         SEGMENT ARRIVES\\n\\n\\n\\n        In the following it is assumed that the segment is the idealized\\n        segment that begins at RCV.NXT and does not exceed the window.\\n        One could tailor actual segments to fit this assumption by\\n        trimming off any portions that lie outside the window (including\\n        SYN and FIN), and only processing further if the segment then\\n        begins at RCV.NXT.  Segments with higher begining sequence\\n        numbers may be held for later processing.\\n\\n    second check the RST bit,\\n\\n      SYN-RECEIVED STATE\\n\\n        If the RST bit is set\\n\\n          If this connection was initiated with a passive OPEN (i.e.,\\n          came from the LISTEN state), then return this connection to\\n          LISTEN state and return.  The user need not be informed.  If\\n          this connection was initiated with an active OPEN (i.e., came\\n          from SYN-SENT state) then the connection was refused, signal\\n          the user \"connection refused\".  In either case, all segments\\n          on the retransmission queue should be removed.  And in the\\n          active OPEN case, enter the CLOSED state and delete the TCB,\\n          and return.\\n\\n      ESTABLISHED\\n      FIN-WAIT-1\\n      FIN-WAIT-2\\n      CLOSE-WAIT\\n\\n        If the RST bit is set then, any outstanding RECEIVEs and SEND\\n        should receive \"reset\" responses.  All segment queues should be\\n        flushed.  Users should also receive an unsolicited general\\n        \"connection reset\" signal.  Enter the CLOSED state, delete the\\n        TCB, and return.\\n\\n      CLOSING STATE\\n      LAST-ACK STATE\\n      TIME-WAIT\\n\\n        If the RST bit is set then, enter the CLOSED state, delete the\\n        TCB, and return.\\n\\n\\n\\n\\n\\n\\n\\n\\n[Page 70]                                                               \\n\\x0c\\n\\nSeptember 1981                                                          \\n                                           Transmission Control Protocol\\n                                                Functional Specification\\nSEGMENT ARRIVES\\n\\n\\n\\n    third check security and precedence\\n\\n      SYN-RECEIVED\\n\\n        If the security/compartment and precedence in the segment do not\\n        exactly match the security/compartment and precedence in the TCB\\n        then send a reset, and return.\\n\\n      ESTABLISHED STATE\\n\\n        If the security/compartment and precedence in the segment do not\\n        exactly match the security/compartment and precedence in the TCB\\n        then send a reset, any outstanding RECEIVEs and SEND should\\n        receive \"reset\" responses.  All segment queues should be\\n        flushed.  Users should also receive an unsolicited general\\n        \"connection reset\" signal.  Enter the CLOSED state, delete the\\n        TCB, and return.\\n\\n      Note this check is placed following the sequence check to prevent\\n      a segment from an old connection between these ports with a\\n      different security or precedence from causing an abort of the\\n      current connection.\\n\\n    fourth, check the SYN bit,\\n\\n      SYN-RECEIVED\\n      ESTABLISHED STATE\\n      FIN-WAIT STATE-1\\n      FIN-WAIT STATE-2\\n      CLOSE-WAIT STATE\\n      CLOSING STATE\\n      LAST-ACK STATE\\n      TIME-WAIT STATE\\n\\n        If the SYN is in the window it is an error, send a reset, any\\n        outstanding RECEIVEs and SEND should receive \"reset\" responses,\\n        all segment queues should be flushed, the user should also\\n        receive an unsolicited general \"connection reset\" signal, enter\\n        the CLOSED state, delete the TCB, and return.\\n\\n        If the SYN is not in the window this step would not be reached\\n        and an ack would have been sent in the first step (sequence\\n        number check).\\n\\n\\n\\n\\n\\n\\n                                                               [Page 71]\\n\\x0c\\n\\n                                                          September 1981\\nTransmission Control Protocol\\nFunctional Specification\\n                                                         SEGMENT ARRIVES\\n\\n\\n\\n    fifth check the ACK field,\\n\\n      if the ACK bit is off drop the segment and return\\n\\n      if the ACK bit is on\\n\\n        SYN-RECEIVED STATE\\n\\n          If SND.UNA =< SEG.ACK =< SND.NXT then enter ESTABLISHED state\\n          and continue processing.\\n\\n            If the segment acknowledgment is not acceptable, form a\\n            reset segment,\\n\\n              <SEQ=SEG.ACK><CTL=RST>\\n\\n            and send it.\\n\\n        ESTABLISHED STATE\\n\\n          If SND.UNA < SEG.ACK =< SND.NXT then, set SND.UNA <- SEG.ACK.\\n          Any segments on the retransmission queue which are thereby\\n          entirely acknowledged are removed.  Users should receive\\n          positive acknowledgments for buffers which have been SENT and\\n          fully acknowledged (i.e., SEND buffer should be returned with\\n          \"ok\" response).  If the ACK is a duplicate\\n          (SEG.ACK < SND.UNA), it can be ignored.  If the ACK acks\\n          something not yet sent (SEG.ACK > SND.NXT) then send an ACK,\\n          drop the segment, and return.\\n\\n          If SND.UNA < SEG.ACK =< SND.NXT, the send window should be\\n          updated.  If (SND.WL1 < SEG.SEQ or (SND.WL1 = SEG.SEQ and\\n          SND.WL2 =< SEG.ACK)), set SND.WND <- SEG.WND, set\\n          SND.WL1 <- SEG.SEQ, and set SND.WL2 <- SEG.ACK.\\n\\n          Note that SND.WND is an offset from SND.UNA, that SND.WL1\\n          records the sequence number of the last segment used to update\\n          SND.WND, and that SND.WL2 records the acknowledgment number of\\n          the last segment used to update SND.WND.  The check here\\n          prevents using old segments to update the window.\\n\\n\\n\\n\\n\\n\\n\\n\\n\\n[Page 72]                                                               \\n\\x0c\\n\\nSeptember 1981                                                          \\n                                           Transmission Control Protocol\\n                                                Functional Specification\\nSEGMENT ARRIVES\\n\\n\\n\\n        FIN-WAIT-1 STATE\\n\\n          In addition to the processing for the ESTABLISHED state, if\\n          our FIN is now acknowledged then enter FIN-WAIT-2 and continue\\n          processing in that state.\\n\\n        FIN-WAIT-2 STATE\\n\\n          In addition to the processing for the ESTABLISHED state, if\\n          the retransmission queue is empty, the user\\'s CLOSE can be\\n          acknowledged (\"ok\") but do not delete the TCB.\\n\\n        CLOSE-WAIT STATE\\n\\n          Do the same processing as for the ESTABLISHED state.\\n\\n        CLOSING STATE\\n\\n          In addition to the processing for the ESTABLISHED state, if\\n          the ACK acknowledges our FIN then enter the TIME-WAIT state,\\n          otherwise ignore the segment.\\n\\n        LAST-ACK STATE\\n\\n          The only thing that can arrive in this state is an\\n          acknowledgment of our FIN.  If our FIN is now acknowledged,\\n          delete the TCB, enter the CLOSED state, and return.\\n\\n        TIME-WAIT STATE\\n\\n          The only thing that can arrive in this state is a\\n          retransmission of the remote FIN.  Acknowledge it, and restart\\n          the 2 MSL timeout.\\n\\n    sixth, check the URG bit,\\n\\n      ESTABLISHED STATE\\n      FIN-WAIT-1 STATE\\n      FIN-WAIT-2 STATE\\n\\n        If the URG bit is set, RCV.UP <- max(RCV.UP,SEG.UP), and signal\\n        the user that the remote side has urgent data if the urgent\\n        pointer (RCV.UP) is in advance of the data consumed.  If the\\n        user has already been signaled (or is still in the \"urgent\\n        mode\") for this continuous sequence of urgent data, do not\\n        signal the user again.\\n\\n\\n\\n                                                               [Page 73]\\n\\x0c\\n\\n                                                          September 1981\\nTransmission Control Protocol\\nFunctional Specification\\n                                                         SEGMENT ARRIVES\\n\\n\\n\\n      CLOSE-WAIT STATE\\n      CLOSING STATE\\n      LAST-ACK STATE\\n      TIME-WAIT\\n\\n        This should not occur, since a FIN has been received from the\\n        remote side.  Ignore the URG.\\n\\n    seventh, process the segment text,\\n\\n      ESTABLISHED STATE\\n      FIN-WAIT-1 STATE\\n      FIN-WAIT-2 STATE\\n\\n        Once in the ESTABLISHED state, it is possible to deliver segment\\n        text to user RECEIVE buffers.  Text from segments can be moved\\n        into buffers until either the buffer is full or the segment is\\n        empty.  If the segment empties and carries an PUSH flag, then\\n        the user is informed, when the buffer is returned, that a PUSH\\n        has been received.\\n\\n        When the TCP takes responsibility for delivering the data to the\\n        user it must also acknowledge the receipt of the data.\\n\\n        Once the TCP takes responsibility for the data it advances\\n        RCV.NXT over the data accepted, and adjusts RCV.WND as\\n        apporopriate to the current buffer availability.  The total of\\n        RCV.NXT and RCV.WND should not be reduced.\\n\\n        Please note the window management suggestions in section 3.7.\\n\\n        Send an acknowledgment of the form:\\n\\n          <SEQ=SND.NXT><ACK=RCV.NXT><CTL=ACK>\\n\\n        This acknowledgment should be piggybacked on a segment being\\n        transmitted if possible without incurring undue delay.\\n\\n\\n\\n\\n\\n\\n\\n\\n\\n\\n\\n\\n[Page 74]                                                               \\n\\x0c\\n\\nSeptember 1981                                                          \\n                                           Transmission Control Protocol\\n                                                Functional Specification\\nSEGMENT ARRIVES\\n\\n\\n\\n      CLOSE-WAIT STATE\\n      CLOSING STATE\\n      LAST-ACK STATE\\n      TIME-WAIT STATE\\n\\n        This should not occur, since a FIN has been received from the\\n        remote side.  Ignore the segment text.\\n\\n    eighth, check the FIN bit,\\n\\n      Do not process the FIN if the state is CLOSED, LISTEN or SYN-SENT\\n      since the SEG.SEQ cannot be validated; drop the segment and\\n      return.\\n\\n      If the FIN bit is set, signal the user \"connection closing\" and\\n      return any pending RECEIVEs with same message, advance RCV.NXT\\n      over the FIN, and send an acknowledgment for the FIN.  Note that\\n      FIN implies PUSH for any segment text not yet delivered to the\\n      user.\\n\\n        SYN-RECEIVED STATE\\n        ESTABLISHED STATE\\n\\n          Enter the CLOSE-WAIT state.\\n\\n        FIN-WAIT-1 STATE\\n\\n          If our FIN has been ACKed (perhaps in this segment), then\\n          enter TIME-WAIT, start the time-wait timer, turn off the other\\n          timers; otherwise enter the CLOSING state.\\n\\n        FIN-WAIT-2 STATE\\n\\n          Enter the TIME-WAIT state.  Start the time-wait timer, turn\\n          off the other timers.\\n\\n        CLOSE-WAIT STATE\\n\\n          Remain in the CLOSE-WAIT state.\\n\\n        CLOSING STATE\\n\\n          Remain in the CLOSING state.\\n\\n        LAST-ACK STATE\\n\\n          Remain in the LAST-ACK state.\\n\\n\\n                                                               [Page 75]\\n\\x0c\\n\\n                                                          September 1981\\nTransmission Control Protocol\\nFunctional Specification\\n                                                         SEGMENT ARRIVES\\n\\n\\n\\n        TIME-WAIT STATE\\n\\n          Remain in the TIME-WAIT state.  Restart the 2 MSL time-wait\\n          timeout.\\n\\n    and return.\\n\\n\\n\\n\\n\\n\\n\\n\\n\\n\\n\\n\\n\\n\\n\\n\\n\\n\\n\\n\\n\\n\\n\\n\\n\\n\\n\\n\\n\\n\\n\\n\\n\\n\\n\\n\\n\\n\\n\\n\\n\\n\\n\\n[Page 76]                                                               \\n\\x0c\\n\\nSeptember 1981                                                          \\n                                           Transmission Control Protocol\\n                                                Functional Specification\\nUSER TIMEOUT\\n\\n\\n\\n  USER TIMEOUT\\n\\n    For any state if the user timeout expires, flush all queues, signal\\n    the user \"error:  connection aborted due to user timeout\" in general\\n    and for any outstanding calls, delete the TCB, enter the CLOSED\\n    state and return.\\n\\n  RETRANSMISSION TIMEOUT\\n\\n    For any state if the retransmission timeout expires on a segment in\\n    the retransmission queue, send the segment at the front of the\\n    retransmission queue again, reinitialize the retransmission timer,\\n    and return.\\n\\n  TIME-WAIT TIMEOUT\\n\\n    If the time-wait timeout expires on a connection delete the TCB,\\n    enter the CLOSED state and return.\\n\\n   \\n\\n\\n\\n\\n\\n\\n\\n\\n\\n\\n\\n\\n\\n\\n\\n\\n\\n\\n\\n\\n\\n\\n\\n\\n\\n\\n\\n\\n\\n                                                               [Page 77]\\n\\x0c\\n\\n                                                          September 1981\\nTransmission Control Protocol\\n\\n\\n\\n\\n\\n\\n\\n\\n\\n\\n\\n\\n\\n\\n\\n\\n\\n\\n\\n\\n\\n\\n\\n\\n\\n\\n\\n\\n\\n\\n\\n\\n\\n\\n\\n\\n\\n\\n\\n\\n\\n\\n\\n\\n\\n\\n\\n\\n\\n\\n\\n\\n\\n\\n[Page 78]                                                               \\n\\x0c\\n\\nSeptember 1981                                                          \\n                                           Transmission Control Protocol\\n\\n\\n\\n                                GLOSSARY\\n\\n\\n\\n1822\\n          BBN Report 1822, \"The Specification of the Interconnection of\\n          a Host and an IMP\".  The specification of interface between a\\n          host and the ARPANET.\\n\\nACK\\n          A control bit (acknowledge) occupying no sequence space, which\\n          indicates that the acknowledgment field of this segment\\n          specifies the next sequence number the sender of this segment\\n          is expecting to receive, hence acknowledging receipt of all\\n          previous sequence numbers.\\n\\nARPANET message\\n          The unit of transmission between a host and an IMP in the\\n          ARPANET.  The maximum size is about 1012 octets (8096 bits).\\n\\nARPANET packet\\n          A unit of transmission used internally in the ARPANET between\\n          IMPs.  The maximum size is about 126 octets (1008 bits).\\n\\nconnection\\n          A logical communication path identified by a pair of sockets.\\n\\ndatagram\\n          A message sent in a packet switched computer communications\\n          network.\\n\\nDestination Address\\n          The destination address, usually the network and host\\n          identifiers.\\n\\nFIN\\n          A control bit (finis) occupying one sequence number, which\\n          indicates that the sender will send no more data or control\\n          occupying sequence space.\\n\\nfragment\\n          A portion of a logical unit of data, in particular an internet\\n          fragment is a portion of an internet datagram.\\n\\nFTP\\n          A file transfer protocol.\\n\\n\\n\\n\\n\\n                                                               [Page 79]\\n\\x0c\\n\\n                                                          September 1981\\nTransmission Control Protocol\\nGlossary\\n\\n\\n\\nheader\\n          Control information at the beginning of a message, segment,\\n          fragment, packet or block of data.\\n\\nhost\\n          A computer.  In particular a source or destination of messages\\n          from the point of view of the communication network.\\n\\nIdentification\\n          An Internet Protocol field.  This identifying value assigned\\n          by the sender aids in assembling the fragments of a datagram.\\n\\nIMP\\n          The Interface Message Processor, the packet switch of the\\n          ARPANET.\\n\\ninternet address\\n          A source or destination address specific to the host level.\\n\\ninternet datagram\\n          The unit of data exchanged between an internet module and the\\n          higher level protocol together with the internet header.\\n\\ninternet fragment\\n          A portion of the data of an internet datagram with an internet\\n          header.\\n\\nIP\\n          Internet Protocol.\\n\\nIRS\\n          The Initial Receive Sequence number.  The first sequence\\n          number used by the sender on a connection.\\n\\nISN\\n          The Initial Sequence Number.  The first sequence number used\\n          on a connection, (either ISS or IRS).  Selected on a clock\\n          based procedure.\\n\\nISS\\n          The Initial Send Sequence number.  The first sequence number\\n          used by the sender on a connection.\\n\\nleader\\n          Control information at the beginning of a message or block of\\n          data.  In particular, in the ARPANET, the control information\\n          on an ARPANET message at the host-IMP interface.\\n\\n\\n\\n[Page 80]                                                               \\n\\x0c\\n\\nSeptember 1981                                                          \\n                                           Transmission Control Protocol\\n                                                                Glossary\\n\\n\\n\\nleft sequence\\n          This is the next sequence number to be acknowledged by the\\n          data receiving TCP (or the lowest currently unacknowledged\\n          sequence number) and is sometimes referred to as the left edge\\n          of the send window.\\n\\nlocal packet\\n          The unit of transmission within a local network.\\n\\nmodule\\n          An implementation, usually in software, of a protocol or other\\n          procedure.\\n\\nMSL\\n          Maximum Segment Lifetime, the time a TCP segment can exist in\\n          the internetwork system.  Arbitrarily defined to be 2 minutes.\\n\\noctet\\n          An eight bit byte.\\n\\nOptions\\n          An Option field may contain several options, and each option\\n          may be several octets in length.  The options are used\\n          primarily in testing situations; for example, to carry\\n          timestamps.  Both the Internet Protocol and TCP provide for\\n          options fields.\\n\\npacket\\n          A package of data with a header which may or may not be\\n          logically complete.  More often a physical packaging than a\\n          logical packaging of data.\\n\\nport\\n          The portion of a socket that specifies which logical input or\\n          output channel of a process is associated with the data.\\n\\nprocess\\n          A program in execution.  A source or destination of data from\\n          the point of view of the TCP or other host-to-host protocol.\\n\\nPUSH\\n          A control bit occupying no sequence space, indicating that\\n          this segment contains data that must be pushed through to the\\n          receiving user.\\n\\nRCV.NXT\\n          receive next sequence number\\n\\n\\n\\n                                                               [Page 81]\\n\\x0c\\n\\n                                                          September 1981\\nTransmission Control Protocol\\nGlossary\\n\\n\\n\\nRCV.UP\\n          receive urgent pointer\\n\\nRCV.WND\\n          receive window\\n\\nreceive next sequence number\\n          This is the next sequence number the local TCP is expecting to\\n          receive.\\n\\nreceive window\\n          This represents the sequence numbers the local (receiving) TCP\\n          is willing to receive.  Thus, the local TCP considers that\\n          segments overlapping the range RCV.NXT to\\n          RCV.NXT + RCV.WND - 1 carry acceptable data or control.\\n          Segments containing sequence numbers entirely outside of this\\n          range are considered duplicates and discarded.\\n\\nRST\\n          A control bit (reset), occupying no sequence space, indicating\\n          that the receiver should delete the connection without further\\n          interaction.  The receiver can determine, based on the\\n          sequence number and acknowledgment fields of the incoming\\n          segment, whether it should honor the reset command or ignore\\n          it.  In no case does receipt of a segment containing RST give\\n          rise to a RST in response.\\n\\nRTP\\n          Real Time Protocol:  A host-to-host protocol for communication\\n          of time critical information.\\n\\nSEG.ACK\\n          segment acknowledgment\\n\\nSEG.LEN\\n          segment length\\n\\nSEG.PRC\\n          segment precedence value\\n\\nSEG.SEQ\\n          segment sequence\\n\\nSEG.UP\\n          segment urgent pointer field\\n\\n\\n\\n\\n\\n[Page 82]                                                               \\n\\x0c\\n\\nSeptember 1981                                                          \\n                                           Transmission Control Protocol\\n                                                                Glossary\\n\\n\\n\\nSEG.WND\\n          segment window field\\n\\nsegment\\n          A logical unit of data, in particular a TCP segment is the\\n          unit of data transfered between a pair of TCP modules.\\n\\nsegment acknowledgment\\n          The sequence number in the acknowledgment field of the\\n          arriving segment.\\n\\nsegment length\\n          The amount of sequence number space occupied by a segment,\\n          including any controls which occupy sequence space.\\n\\nsegment sequence\\n          The number in the sequence field of the arriving segment.\\n\\nsend sequence\\n          This is the next sequence number the local (sending) TCP will\\n          use on the connection.  It is initially selected from an\\n          initial sequence number curve (ISN) and is incremented for\\n          each octet of data or sequenced control transmitted.\\n\\nsend window\\n          This represents the sequence numbers which the remote\\n          (receiving) TCP is willing to receive.  It is the value of the\\n          window field specified in segments from the remote (data\\n          receiving) TCP.  The range of new sequence numbers which may\\n          be emitted by a TCP lies between SND.NXT and\\n          SND.UNA + SND.WND - 1. (Retransmissions of sequence numbers\\n          between SND.UNA and SND.NXT are expected, of course.)\\n\\nSND.NXT\\n          send sequence\\n\\nSND.UNA\\n          left sequence\\n\\nSND.UP\\n          send urgent pointer\\n\\nSND.WL1\\n          segment sequence number at last window update\\n\\nSND.WL2\\n          segment acknowledgment number at last window update\\n\\n\\n\\n                                                               [Page 83]\\n\\x0c\\n\\n                                                          September 1981\\nTransmission Control Protocol\\nGlossary\\n\\n\\n\\nSND.WND\\n          send window\\n\\nsocket\\n          An address which specifically includes a port identifier, that\\n          is, the concatenation of an Internet Address with a TCP port.\\n\\nSource Address\\n          The source address, usually the network and host identifiers.\\n\\nSYN\\n          A control bit in the incoming segment, occupying one sequence\\n          number, used at the initiation of a connection, to indicate\\n          where the sequence numbering will start.\\n\\nTCB\\n          Transmission control block, the data structure that records\\n          the state of a connection.\\n\\nTCB.PRC\\n          The precedence of the connection.\\n\\nTCP\\n          Transmission Control Protocol:  A host-to-host protocol for\\n          reliable communication in internetwork environments.\\n\\nTOS\\n          Type of Service, an Internet Protocol field.\\n\\nType of Service\\n          An Internet Protocol field which indicates the type of service\\n          for this internet fragment.\\n\\nURG\\n          A control bit (urgent), occupying no sequence space, used to\\n          indicate that the receiving user should be notified to do\\n          urgent processing as long as there is data to be consumed with\\n          sequence numbers less than the value indicated in the urgent\\n          pointer.\\n\\nurgent pointer\\n          A control field meaningful only when the URG bit is on.  This\\n          field communicates the value of the urgent pointer which\\n          indicates the data octet associated with the sending user\\'s\\n          urgent call.\\n\\n          \\n\\n\\n\\n[Page 84]                                                               \\n\\x0c\\n\\nSeptember 1981                                                          \\n                                           Transmission Control Protocol\\n\\n\\n\\n                               REFERENCES\\n\\n\\n\\n[1]  Cerf, V., and R. Kahn, \"A Protocol for Packet Network\\n     Intercommunication\", IEEE Transactions on Communications,\\n     Vol. COM-22, No. 5, pp 637-648, May 1974.\\n\\n[2]  Postel, J. (ed.), \"Internet Protocol - DARPA Internet Program\\n     Protocol Specification\", RFC 791, USC/Information Sciences\\n     Institute, September 1981.\\n\\n[3]  Dalal, Y. and C. Sunshine, \"Connection Management in Transport\\n     Protocols\", Computer Networks, Vol. 2, No. 6, pp. 454-473,\\n     December 1978.\\n\\n[4]  Postel, J., \"Assigned Numbers\", RFC 790, USC/Information Sciences\\n     Institute, September 1981.\\n\\n\\n\\n\\n\\n\\n\\n\\n\\n\\n\\n\\n\\n\\n\\n\\n\\n\\n\\n\\n\\n\\n\\n\\n\\n\\n\\n\\n\\n\\n\\n\\n\\n                                                               [Page 85]\\n\\x0c\\n'\n"
     ]
    }
   ],
   "source": [
    "import urllib.request\n",
    "\n",
    "def retrieve_page(url):\n",
    "    \"\"\" Retrieve the contents of a web page.\n",
    "    The contents is converted to a string before returning it.\n",
    "    \"\"\"\n",
    "    my_socket = urllib.request.urlopen(url)\n",
    "    dta = str(my_socket.read())\n",
    "    my_socket.close()\n",
    "    return dta\n",
    "\n",
    "the_text = retrieve_page(\"https://www.ietf.org/rfc/rfc793.txt\")\n",
    "print(the_text)"
   ]
  },
  {
   "cell_type": "markdown",
   "metadata": {},
   "source": [
    "# Chapter 14: List Algorithms"
   ]
  },
  {
   "cell_type": "markdown",
   "metadata": {},
   "source": [
    "  ### 14.2. The Linear Search Algorithm"
   ]
  },
  {
   "cell_type": "code",
   "execution_count": 55,
   "metadata": {},
   "outputs": [],
   "source": [
    "def search_linear(xs, target):\n",
    "    \"\"\" \n",
    "    Find and return the index of target in sequence xs\n",
    "    \"\"\"\n",
    "    for (i, v) in enumerate(xs):\n",
    "        if v == target:\n",
    "            return i\n",
    "    #return -1"
   ]
  },
  {
   "cell_type": "code",
   "execution_count": 56,
   "metadata": {},
   "outputs": [
    {
     "name": "stdout",
     "output_type": "stream",
     "text": [
      "Test at line 2 ok.\n",
      "Test at line 3 ok.\n",
      "Test at line 4 ok.\n",
      "Test at line 5 FAILED\n"
     ]
    }
   ],
   "source": [
    "friends = [\"Joe\", \"Zoe\", \"Brad\", \"Angelina\", \"Zuki\", \"Thandi\", \"Paris\"]\n",
    "test(search_linear(friends, \"Zoe\") == 1)\n",
    "test(search_linear(friends, \"Joe\") == 0)\n",
    "test(search_linear(friends, \"Paris\") == 6)\n",
    "test(search_linear(friends, \"Bill\") == -1)"
   ]
  },
  {
   "cell_type": "code",
   "execution_count": 57,
   "metadata": {},
   "outputs": [
    {
     "data": {
      "text/plain": [
       "1"
      ]
     },
     "execution_count": 57,
     "metadata": {},
     "output_type": "execute_result"
    }
   ],
   "source": [
    "search_linear(friends, \"Zoe\")"
   ]
  },
  {
   "cell_type": "code",
   "execution_count": 62,
   "metadata": {},
   "outputs": [],
   "source": [
    "def find_unknown_words(vocab, wds):\n",
    "    \"\"\" \n",
    "    Return a list of words in wds that do not occur in vocab\n",
    "    \"\"\"\n",
    "    result = []\n",
    "    for w in wds:\n",
    "        if (search_linear(vocab, w) == 0):\n",
    "            result.append(w)\n",
    "    return result"
   ]
  },
  {
   "cell_type": "code",
   "execution_count": 63,
   "metadata": {},
   "outputs": [
    {
     "name": "stdout",
     "output_type": "stream",
     "text": [
      "Test at line 3 FAILED\n",
      "Test at line 4 FAILED\n",
      "Test at line 5 ok.\n"
     ]
    }
   ],
   "source": [
    "vocab = [\"apple\", \"boy\", \"dog\", \"down\", \"fell\", \"girl\", \"grass\", \"the\", \"tree\"]\n",
    "book_words = \"the apple fell from the tree to the grass\".split()\n",
    "test(find_unknown_words(vocab, book_words) == [\"from\", \"to\"])\n",
    "test(find_unknown_words([], book_words) == book_words)\n",
    "test(find_unknown_words(vocab, [\"the\", \"boy\", \"fell\"]) == [])"
   ]
  },
  {
   "cell_type": "code",
   "execution_count": 64,
   "metadata": {},
   "outputs": [],
   "source": [
    "def load_words_file(filename):\n",
    "    \"\"\" \n",
    "    Read words from filename, return list of words. \n",
    "    \"\"\"\n",
    "\n",
    "    f = open(filename, \"r\")\n",
    "    file_content = f.read()\n",
    "    f.close()\n",
    "    wds = file_content.split()\n",
    "    return wds"
   ]
  },
  {
   "cell_type": "code",
   "execution_count": 65,
   "metadata": {},
   "outputs": [
    {
     "name": "stdout",
     "output_type": "stream",
     "text": [
      "There are 19455 words in the vocab, starting with\n",
      " ['a', 'aback', 'abacus', 'abandon', 'abandoned', 'abandonment'] \n"
     ]
    }
   ],
   "source": [
    "bigger_vocab = load_words_file(\"vocab.txt\")\n",
    "print(\"There are {0} words in the vocab, starting with\\n {1} \".format(len(bigger_vocab), bigger_vocab[:6]) )"
   ]
  },
  {
   "cell_type": "code",
   "execution_count": 13,
   "metadata": {},
   "outputs": [],
   "source": [
    "def text_to_words(the_text):\n",
    "    \"\"\"Return a list of words with all punctuation removed, and all in lowercase.\"\"\"\n",
    "    # Convert the text to lowercase.\n",
    "    the_text = the_text.lower()\n",
    "    \n",
    "    # Define the characters to replace with spaces.\n",
    "    replace_chars = \"0123456789!\\\"#$%&'()*+,-./:;<=>?@[]^_`{|}~\\\\\"\n",
    "    \n",
    "    # Replace each character in replace_chars with a space.\n",
    "    for char in replace_chars:\n",
    "        the_text = the_text.replace(char, \" \")\n",
    "    \n",
    "    # Split the text into words.\n",
    "    words = the_text.split()\n",
    "    \n",
    "    return words\n",
    "\n",
    "\n"
   ]
  },
  {
   "cell_type": "code",
   "execution_count": 14,
   "metadata": {},
   "outputs": [
    {
     "name": "stdout",
     "output_type": "stream",
     "text": [
      "Test at line 1 ok.\n",
      "Test at line 2 ok.\n"
     ]
    }
   ],
   "source": [
    "test(text_to_words(\"My name is Earl!\") == [\"my\", \"name\", \"is\", \"earl\"])\n",
    "test(text_to_words('\"Well, I never!\", said Alice.') == [\"well\", \"i\", \"never\", \"said\", \"alice\"])"
   ]
  },
  {
   "cell_type": "code",
   "execution_count": 92,
   "metadata": {},
   "outputs": [
    {
     "data": {
      "text/plain": [
       "['my', 'name', 'is', 'earl']"
      ]
     },
     "execution_count": 92,
     "metadata": {},
     "output_type": "execute_result"
    }
   ],
   "source": [
    "text_to_words(\"My name is Earl!\")"
   ]
  },
  {
   "cell_type": "code",
   "execution_count": 15,
   "metadata": {},
   "outputs": [
    {
     "name": "stdout",
     "output_type": "stream",
     "text": [
      "There are 27336 words in the book, the first 100 are\n",
      "['alice', 's', 'adventures', 'in', 'wonderland', 'lewis', 'carroll', 'chapter', 'i', 'down', 'the', 'rabbit', 'hole', 'alice', 'was', 'beginning', 'to', 'get', 'very', 'tired', 'of', 'sitting', 'by', 'her', 'sister', 'on', 'the', 'bank', 'and', 'of', 'having', 'nothing', 'to', 'do', 'once', 'or', 'twice', 'she', 'had', 'peeped', 'into', 'the', 'book', 'her', 'sister', 'was', 'reading', 'but', 'it', 'had', 'no', 'pictures', 'or', 'conversations', 'in', 'it', 'and', 'what', 'is', 'the', 'use', 'of', 'a', 'book', 'thought', 'alice', 'without', 'pictures', 'or', 'conversation', 'so', 'she', 'was', 'considering', 'in', 'her', 'own', 'mind', 'as', 'well', 'as', 'she', 'could', 'for', 'the', 'hot', 'day', 'made', 'her', 'feel', 'very', 'sleepy', 'and', 'stupid', 'whether', 'the', 'pleasure', 'of', 'making', 'a']\n"
     ]
    }
   ],
   "source": [
    "def get_words_in_book(filename):\n",
    "    \"\"\" Read a book from filename, and return a list of its words. \"\"\"\n",
    "    f = open(filename, \"r\")\n",
    "    content = f.read()\n",
    "    f.close()\n",
    "    wds = text_to_words(content)\n",
    "    return wds\n",
    "\n",
    "book_words = get_words_in_book(\"alice_in_wonderland.txt\")\n",
    "print(\"There are {0} words in the book, the first 100 are\\n{1}\".\n",
    "format(len(book_words), book_words[:100]))"
   ]
  },
  {
   "cell_type": "code",
   "execution_count": 94,
   "metadata": {},
   "outputs": [],
   "source": [
    "misssing_words = find_unknown_words(bigger_vocab, book_words)"
   ]
  },
  {
   "cell_type": "code",
   "execution_count": 95,
   "metadata": {},
   "outputs": [
    {
     "name": "stdout",
     "output_type": "stream",
     "text": [
      "There are 632 unknown words.\n",
      "That took 14.2086 seconds.\n"
     ]
    }
   ],
   "source": [
    "import time\n",
    "t0 = time.process_time()\n",
    "missing_words = find_unknown_words(bigger_vocab, book_words)\n",
    "t1 = time.process_time()\n",
    "\n",
    "print(\"There are {0} unknown words.\".format(len(missing_words)))\n",
    "print(\"That took {0:.4f} seconds.\".format(t1-t0))"
   ]
  },
  {
   "cell_type": "code",
   "execution_count": 98,
   "metadata": {},
   "outputs": [],
   "source": [
    "def search_binary(xs, target):\n",
    "    \"\"\" Find and return the index of key in sequence xs \"\"\"\n",
    "    lb = 0\n",
    "    ub = len(xs)\n",
    "    while True:\n",
    "        if lb == ub: # If region of interest (ROI) becomes empty\n",
    "            return -1\n",
    "\n",
    "        # Next probe should be in the middle of the ROI\n",
    "        mid_index = (lb + ub) // 2\n",
    "\n",
    "        # Fetch the item at that position\n",
    "        item_at_mid = xs[mid_index]\n",
    "\n",
    "        print(\"ROI[{0}:{1}](size={2}), probed='{3}', target='{4}'\".format(lb, ub, ub-lb, item_at_mid, target))\n",
    "\n",
    "        # How does the probed item compare to the target?\n",
    "        if item_at_mid == target:\n",
    "            return mid_index # Found it!\n",
    "        if item_at_mid < target:\n",
    "            lb = mid_index + 1 # Use upper half of ROI next time\n",
    "        else:\n",
    "            ub = mid_index # Use lower half of ROI next time"
   ]
  },
  {
   "cell_type": "code",
   "execution_count": 99,
   "metadata": {},
   "outputs": [
    {
     "name": "stdout",
     "output_type": "stream",
     "text": [
      "There are 632 unknown words.\n",
      "That took 14.2019 seconds.\n"
     ]
    }
   ],
   "source": [
    "import time\n",
    "t0 = time.process_time()\n",
    "missing_words = find_unknown_words(bigger_vocab, book_words)\n",
    "t1 = time.process_time()\n",
    "\n",
    "print(\"There are {0} unknown words.\".format(len(missing_words)))\n",
    "print(\"That took {0:.4f} seconds.\".format(t1-t0))"
   ]
  },
  {
   "cell_type": "code",
   "execution_count": 100,
   "metadata": {},
   "outputs": [
    {
     "name": "stdout",
     "output_type": "stream",
     "text": [
      "ROI[0:19455](size=19455), probed='knowing', target='magic'\n",
      "ROI[9728:19455](size=9727), probed='resurgence', target='magic'\n",
      "ROI[9728:14591](size=4863), probed='overslept', target='magic'\n",
      "ROI[9728:12159](size=2431), probed='misreading', target='magic'\n",
      "ROI[9728:10943](size=1215), probed='magnet', target='magic'\n",
      "ROI[9728:10335](size=607), probed='lightning', target='magic'\n",
      "ROI[10032:10335](size=303), probed='longitudinal', target='magic'\n",
      "ROI[10184:10335](size=151), probed='lumber', target='magic'\n",
      "ROI[10260:10335](size=75), probed='lyrical', target='magic'\n",
      "ROI[10298:10335](size=37), probed='made', target='magic'\n",
      "ROI[10317:10335](size=18), probed='magic', target='magic'\n"
     ]
    },
    {
     "data": {
      "text/plain": [
       "10326"
      ]
     },
     "execution_count": 100,
     "metadata": {},
     "output_type": "execute_result"
    }
   ],
   "source": [
    "search_binary(bigger_vocab, \"magic\")"
   ]
  },
  {
   "cell_type": "code",
   "execution_count": 1,
   "metadata": {},
   "outputs": [],
   "source": [
    "# Removing adjacent duplicates\n",
    "def remove_adjacent_dups(xs):\n",
    "    \"\"\" \n",
    "    Return a new list in which all adjacent duplicates from xs have been removed\n",
    "    \"\"\"\n",
    "    result = []\n",
    "    most_recent_elm = None\n",
    "    for e in xs:\n",
    "        if e != most_recent_elm:\n",
    "            result.append(e)\n",
    "            most_recent_elm = e\n",
    "    return result"
   ]
  },
  {
   "cell_type": "code",
   "execution_count": 4,
   "metadata": {},
   "outputs": [
    {
     "name": "stdout",
     "output_type": "stream",
     "text": [
      "Test at line 1 ok.\n",
      "Test at line 2 ok.\n",
      "Test at line 3 ok.\n"
     ]
    }
   ],
   "source": [
    "test(remove_adjacent_dups([1,2,3,3,3,3,5,6,9,9]) == [1,2,3,5,6,9])\n",
    "test(remove_adjacent_dups([]) == [])\n",
    "test(remove_adjacent_dups([\"a\", \"big\", \"big\", \"bite\", \"dog\"]) == [\"a\", \"big\", \"bite\", \"dog\"])"
   ]
  },
  {
   "cell_type": "code",
   "execution_count": 5,
   "metadata": {},
   "outputs": [
    {
     "data": {
      "text/plain": [
       "[1, 2, 3, 5, 6, 9]"
      ]
     },
     "execution_count": 5,
     "metadata": {},
     "output_type": "execute_result"
    }
   ],
   "source": [
    "remove_adjacent_dups([1,2,3,3,3,3,5,6,9,9])"
   ]
  },
  {
   "cell_type": "code",
   "execution_count": 16,
   "metadata": {},
   "outputs": [
    {
     "name": "stdout",
     "output_type": "stream",
     "text": [
      "There are 27336 words in the book. Only 2569 are unique.\n",
      "The first 100 words are\n",
      "['a', 'abide', 'able', 'about', 'above', 'absence', 'absurd', 'acceptance', 'accident', 'accidentally', 'account', 'accounting', 'accounts', 'accusation', 'accustomed', 'ache', 'across', 'act', 'actually', 'ada', 'added', 'adding', 'addressed', 'addressing', 'adjourn', 'adoption', 'advance', 'advantage', 'adventures', 'advice', 'advisable', 'advise', 'affair', 'affectionately', 'afford', 'afore', 'afraid', 'after', 'afterwards', 'again', 'against', 'age', 'ago', 'agony', 'agree', 'ah', 'ahem', 'air', 'airs', 'alarm', 'alarmed', 'alas', 'alice', 'alive', 'all', 'allow', 'almost', 'alone', 'along', 'aloud', 'already', 'also', 'altered', 'alternately', 'altogether', 'always', 'am', 'ambition', 'among', 'an', 'ancient', 'and', 'anger', 'angrily', 'angry', 'animal', 'animals', 'ann', 'annoy', 'annoyed', 'another', 'answer', 'answered', 'answers', 'antipathies', 'anxious', 'anxiously', 'any', 'anything', 'anywhere', 'appealed', 'appear', 'appearance', 'appeared', 'appearing', 'applause', 'apple', 'apples', 'arch', 'archbishop']\n"
     ]
    }
   ],
   "source": [
    "all_words = get_words_in_book(\"alice_in_wonderland.txt\")\n",
    "all_words.sort()\n",
    "book_words = remove_adjacent_dups(all_words)\n",
    "print(\"There are {0} words in the book. Only {1} are unique.\".\n",
    "format(len(all_words), len(book_words)))\n",
    "print(\"The first 100 words are\\n{0}\".format(book_words[:100]))"
   ]
  },
  {
   "cell_type": "code",
   "execution_count": 17,
   "metadata": {},
   "outputs": [],
   "source": [
    "# Merging sorted lists\n",
    "def merge(xs, ys):\n",
    "    \"\"\" merge sorted lists xs and ys. Return a sorted result \"\"\"\n",
    "    result = []\n",
    "    xi = 0\n",
    "    yi = 0\n",
    "\n",
    "    while True:\n",
    "        if xi >= len(xs): # If xs list is finished,\n",
    "            result.extend(ys[yi:]) # Add remaining items from ys\n",
    "            return result # And we're done.\n",
    "\n",
    "        if yi >= len(ys): # Same again, but swap roles\n",
    "            result.extend(xs[xi:])\n",
    "            return result\n",
    "\n",
    "        # Both lists still have items, copy smaller item to result.\n",
    "        if xs[xi] <= ys[yi]:\n",
    "            result.append(xs[xi])\n",
    "            xi += 1\n",
    "        else:\n",
    "            result.append(ys[yi])\n",
    "            yi += 1"
   ]
  },
  {
   "cell_type": "code",
   "execution_count": 18,
   "metadata": {},
   "outputs": [
    {
     "name": "stdout",
     "output_type": "stream",
     "text": [
      "Test at line 5 ok.\n",
      "Test at line 6 ok.\n",
      "Test at line 7 ok.\n",
      "Test at line 8 ok.\n",
      "Test at line 9 ok.\n",
      "Test at line 10 ok.\n"
     ]
    }
   ],
   "source": [
    "xs = [1,3,5,7,9,11,13,15,17,19]\n",
    "ys = [4,8,12,16,20,24]\n",
    "zs = xs+ys\n",
    "zs.sort()\n",
    "test(merge(xs, []) == xs)\n",
    "test(merge([], ys) == ys)\n",
    "test(merge([], []) == [])\n",
    "test(merge(xs, ys) == zs)\n",
    "test(merge([1,2,3], [3,4,5]) == [1,2,3,3,4,5])\n",
    "test(merge([\"a\", \"big\", \"cat\"], [\"big\", \"bite\", \"dog\"]) == [\"a\", \"big\", \"big\", \"bite\", \"cat\", \"dog\"])"
   ]
  },
  {
   "cell_type": "markdown",
   "metadata": {},
   "source": [
    "# Chapter 15: Classes and Objects - The Basics"
   ]
  },
  {
   "cell_type": "code",
   "execution_count": 19,
   "metadata": {},
   "outputs": [],
   "source": [
    "class Point:\n",
    "    \"\"\" Point class represents and manipulates x, y coordinates. \"\"\"\n",
    "\n",
    "    def __init__(self):\n",
    "        self.x = 0\n",
    "        self.y= 0"
   ]
  },
  {
   "cell_type": "code",
   "execution_count": 20,
   "metadata": {},
   "outputs": [
    {
     "name": "stdout",
     "output_type": "stream",
     "text": [
      "0 0 0 0\n"
     ]
    }
   ],
   "source": [
    "p = Point()\n",
    "q= Point()\n"
   ]
  },
  {
   "cell_type": "code",
   "execution_count": 22,
   "metadata": {},
   "outputs": [
    {
     "name": "stdout",
     "output_type": "stream",
     "text": [
      "3 4 0 4\n"
     ]
    }
   ],
   "source": [
    "p.x = 3\n",
    "p.y = 4\n",
    "print(p.x, q.y, q.x, p.y)"
   ]
  },
  {
   "cell_type": "code",
   "execution_count": 25,
   "metadata": {},
   "outputs": [],
   "source": [
    "# Improving our initializer \n",
    "class Point:\n",
    "    \"\"\" Point class represents and manipulates x, y coordinates. \"\"\"\n",
    "\n",
    "    def __init__(self, x = 0, y = 0):\n",
    "        \"\"\" Create a new point at x and y \"\"\"\n",
    "        self.x = x\n",
    "        self.y= y"
   ]
  },
  {
   "cell_type": "code",
   "execution_count": 26,
   "metadata": {},
   "outputs": [
    {
     "name": "stdout",
     "output_type": "stream",
     "text": [
      "4 3 0\n"
     ]
    }
   ],
   "source": [
    "p = Point(4, 2)\n",
    "q = Point(6, 3)\n",
    "r = Point()\n",
    "print(p.x, q.y, r.x)"
   ]
  },
  {
   "cell_type": "code",
   "execution_count": 28,
   "metadata": {},
   "outputs": [],
   "source": [
    "# Improving our initializer \n",
    "class Point:\n",
    "    \"\"\" Point class represents and manipulates x, y coordinates. \"\"\"\n",
    "\n",
    "    def __init__(self, x = 0, y = 0):\n",
    "        \"\"\" Create a new point at x and y \"\"\"\n",
    "        self.x = x\n",
    "        self.y= y\n",
    "    def distance_from_origin(self):\n",
    "        \"\"\" Compute my distance from the origin \"\"\"\n",
    "        return ((self.x**2) + (self.y**2))**0.5"
   ]
  },
  {
   "cell_type": "code",
   "execution_count": 29,
   "metadata": {},
   "outputs": [
    {
     "data": {
      "text/plain": [
       "5.0"
      ]
     },
     "execution_count": 29,
     "metadata": {},
     "output_type": "execute_result"
    }
   ],
   "source": [
    "p = Point(3, 4)\n",
    "p.x\n",
    "p.distance_from_origin()"
   ]
  },
  {
   "cell_type": "code",
   "execution_count": 30,
   "metadata": {},
   "outputs": [],
   "source": [
    "# Improving our initializer \n",
    "class Point:\n",
    "    \"\"\" Point class represents and manipulates x, y coordinates. \"\"\"\n",
    "\n",
    "    def __init__(self, x = 0, y = 0):\n",
    "        \"\"\" Create a new point at x and y \"\"\"\n",
    "        self.x = x\n",
    "        self.y= y\n",
    "    def distance_from_origin(self):\n",
    "        \"\"\" Compute my distance from the origin \"\"\"\n",
    "        return ((self.x**2) + (self.y**2))**0.5\n",
    "    def to_string(self):\n",
    "        return \"({0}, {1})\".format(self.x, self.y)                               "
   ]
  },
  {
   "cell_type": "code",
   "execution_count": 31,
   "metadata": {},
   "outputs": [
    {
     "data": {
      "text/plain": [
       "'(3, 4)'"
      ]
     },
     "execution_count": 31,
     "metadata": {},
     "output_type": "execute_result"
    }
   ],
   "source": [
    "p = Point(3, 4)\n",
    "p.to_string()"
   ]
  },
  {
   "cell_type": "code",
   "execution_count": 32,
   "metadata": {},
   "outputs": [
    {
     "data": {
      "text/plain": [
       "'<__main__.Point object at 0x7fa978724af0>'"
      ]
     },
     "execution_count": 32,
     "metadata": {},
     "output_type": "execute_result"
    }
   ],
   "source": [
    "str(p)"
   ]
  },
  {
   "cell_type": "code",
   "execution_count": 33,
   "metadata": {},
   "outputs": [],
   "source": [
    "# Improving our initializer \n",
    "class Point:\n",
    "    \"\"\" Point class represents and manipulates x, y coordinates. \"\"\"\n",
    "\n",
    "    def __init__(self, x = 0, y = 0):\n",
    "        \"\"\" Create a new point at x and y \"\"\"\n",
    "        self.x = x\n",
    "        self.y= y\n",
    "    def distance_from_origin(self):\n",
    "        \"\"\" Compute my distance from the origin \"\"\"\n",
    "        return ((self.x**2) + (self.y**2))**0.5\n",
    "    def __str__(self):\n",
    "        return \"({0}, {1})\".format(self.x, self.y) "
   ]
  },
  {
   "cell_type": "code",
   "execution_count": 36,
   "metadata": {},
   "outputs": [
    {
     "data": {
      "text/plain": [
       "'(3, 4)'"
      ]
     },
     "execution_count": 36,
     "metadata": {},
     "output_type": "execute_result"
    }
   ],
   "source": [
    "p = Point(3, 4)\n",
    "str(p)"
   ]
  },
  {
   "cell_type": "code",
   "execution_count": 37,
   "metadata": {},
   "outputs": [
    {
     "name": "stdout",
     "output_type": "stream",
     "text": [
      "(3, 4)\n"
     ]
    }
   ],
   "source": [
    "print(p)"
   ]
  },
  {
   "cell_type": "code",
   "execution_count": 38,
   "metadata": {},
   "outputs": [],
   "source": [
    "# Improving our initializer \n",
    "class Point:\n",
    "    \"\"\" Point class represents and manipulates x, y coordinates. \"\"\"\n",
    "\n",
    "    def __init__(self, x = 0, y = 0):\n",
    "        \"\"\" Create a new point at x and y \"\"\"\n",
    "        self.x = x\n",
    "        self.y= y\n",
    "    def distance_from_origin(self):\n",
    "        \"\"\" Compute my distance from the origin \"\"\"\n",
    "        return ((self.x**2) + (self.y**2))**0.5\n",
    "    def __str__(self):\n",
    "        return \"({0}, {1})\".format(self.x, self.y) \n",
    "    def halfway(self, target):\n",
    "        \"\"\" Return the halfway point between myself and the target \"\"\"\n",
    "        mx = (self.x + target.x)/2\n",
    "        my = (self.y + target.y)/2\n",
    "        return Point(mx, my)"
   ]
  },
  {
   "cell_type": "code",
   "execution_count": 40,
   "metadata": {},
   "outputs": [
    {
     "name": "stdout",
     "output_type": "stream",
     "text": [
      "(4.0, 8.0)\n"
     ]
    }
   ],
   "source": [
    "p = Point(3, 4)\n",
    "q = Point(5, 12)\n",
    "r = p.halfway(q)\n",
    "print(r)"
   ]
  },
  {
   "cell_type": "markdown",
   "metadata": {},
   "source": [
    "# Chapter 16: Classes and Objects - Digging a little deeper"
   ]
  },
  {
   "cell_type": "code",
   "execution_count": 41,
   "metadata": {},
   "outputs": [],
   "source": [
    "class Rectangle:\n",
    "    \"\"\" A class to manufacture a rectangle objects \"\"\"\n",
    "    def __init__(self, posn, w, h):\n",
    "        self.corner = posn\n",
    "        self.width = w\n",
    "        self.height = h\n",
    "\n",
    "    def __str__(self):\n",
    "        return \"({0}, {1}, {2})\".format(self.corner, self.width, self.height)\n",
    "        "
   ]
  },
  {
   "cell_type": "code",
   "execution_count": 43,
   "metadata": {},
   "outputs": [
    {
     "name": "stdout",
     "output_type": "stream",
     "text": [
      "box:  ((0, 0), 100, 200)\n",
      "bomb:  ((100, 80), 5, 10)\n"
     ]
    }
   ],
   "source": [
    "box = Rectangle(Point(0,0), 100, 200)\n",
    "bomb = Rectangle(Point(100, 80), 5, 10)\n",
    "print(\"box: \", box)\n",
    "print(\"bomb: \", bomb)\n"
   ]
  },
  {
   "cell_type": "code",
   "execution_count": 44,
   "metadata": {},
   "outputs": [],
   "source": [
    "# Objects are mutable\n",
    "class Rectangle:\n",
    "    \"\"\" A class to manufacture a rectangle objects \"\"\"\n",
    "    def __init__(self, posn, w, h):\n",
    "        self.corner = posn\n",
    "        self.width = w\n",
    "        self.height = h\n",
    "\n",
    "    def __str__(self):\n",
    "        return \"({0}, {1}, {2})\".format(self.corner, self.width, self.height)\n",
    "    \n",
    "    def grow(self, delta_width, delta_height):\n",
    "        \"\"\" Grow or Shrink this object by the deltas \"\"\"\n",
    "        self.width += delta_width\n",
    "        self.height += delta_height\n",
    "\n",
    "    def move(self, dx, dy):\n",
    "        \"\"\" Move this object by the deltas \"\"\"\n",
    "        self.corner.x += dx\n",
    "        self.corner.y += dy\n",
    "        "
   ]
  },
  {
   "cell_type": "markdown",
   "metadata": {},
   "source": [
    "# Chapter 17: PyGame"
   ]
  },
  {
   "cell_type": "code",
   "execution_count": 1,
   "metadata": {},
   "outputs": [
    {
     "name": "stdout",
     "output_type": "stream",
     "text": [
      "pygame 2.5.2 (SDL 2.28.3, Python 3.9.7)\n",
      "Hello from the pygame community. https://www.pygame.org/contribute.html\n"
     ]
    }
   ],
   "source": [
    "import pygame"
   ]
  },
  {
   "cell_type": "code",
   "execution_count": 1,
   "metadata": {},
   "outputs": [
    {
     "name": "stdout",
     "output_type": "stream",
     "text": [
      "pygame 2.5.2 (SDL 2.28.3, Python 3.9.7)\n",
      "Hello from the pygame community. https://www.pygame.org/contribute.html\n"
     ]
    },
    {
     "ename": "",
     "evalue": "",
     "output_type": "error",
     "traceback": [
      "\u001b[1;31mThe Kernel crashed while executing code in the current cell or a previous cell. \n",
      "\u001b[1;31mPlease review the code in the cell(s) to identify a possible cause of the failure. \n",
      "\u001b[1;31mClick <a href='https://aka.ms/vscodeJupyterKernelCrash'>here</a> for more info. \n",
      "\u001b[1;31mView Jupyter <a href='command:jupyter.viewOutput'>log</a> for further details."
     ]
    }
   ],
   "source": [
    "import pygame\n",
    "\n",
    "def main():\n",
    "    \"\"\" Set up the game and run the main game loop \"\"\"\n",
    "    pygame.init() # Prepare the pygame module for use\n",
    "    surface_sz = 480 # Desired physical surface size, in pixels.\n",
    "\n",
    "    # Create surface of (width, height), and its window.\n",
    "    main_surface = pygame.display.set_mode((surface_sz, surface_sz))\n",
    "\n",
    "    # Set up some data to describe a small rectangle and its color\n",
    "    small_rect = (300, 200, 150, 90)\n",
    "    some_color = (255, 0, 0) # A color is a mix of (Red, Green, Blue)\n",
    "\n",
    "    while True:\n",
    "        ev = pygame.event.poll() # Look for any event\n",
    "        if ev.type == pygame.QUIT: # Window close button clicked?\n",
    "            break # ... leave game loop\n",
    "\n",
    "        # Update your game objects and data structures here...\n",
    "\n",
    "        # We draw everything from scratch on each frame.\n",
    "        # So first fill everything with the background color\n",
    "        main_surface.fill((0, 200, 255))\n",
    "\n",
    "        # Overpaint a smaller rectangle on the main surface\n",
    "        main_surface.fill(some_color, small_rect)\n",
    "\n",
    "        # Now the surface is ready, tell pygame to display it!\n",
    "        pygame.display.flip()\n",
    "\n",
    "pygame.quit() # Once we leave the loop, close the window.\n",
    "\n",
    "main()"
   ]
  },
  {
   "cell_type": "code",
   "execution_count": null,
   "metadata": {},
   "outputs": [],
   "source": [
    "import pygame\n",
    "import time\n",
    "\n",
    "def main():\n",
    "    pygame.init()\n",
    "    surface_sz = 480\n",
    "    main_surface = pygame.display.set_mode((surface_sz, surface_sz))\n",
    "    small_rect = (300, 200, 150, 90)\n",
    "    some_color = (255, 0, 0)\n",
    "\n",
    "    while True:\n",
    "        ev = pygame.event.poll()\n",
    "        if ev.type == pygame.QUIT:\n",
    "            break\n",
    "        main_surface.fill((0, 200, 250))\n",
    "        main_surface.fill(some_color, small_rect)\n",
    "        pygame.display.flip()\n",
    "    pygame.quit()\n",
    "main()"
   ]
  },
  {
   "cell_type": "code",
   "execution_count": null,
   "metadata": {},
   "outputs": [
    {
     "ename": "",
     "evalue": "",
     "output_type": "error",
     "traceback": [
      "\u001b[1;31mThe Kernel crashed while executing code in the current cell or a previous cell. \n",
      "\u001b[1;31mPlease review the code in the cell(s) to identify a possible cause of the failure. \n",
      "\u001b[1;31mClick <a href='https://aka.ms/vscodeJupyterKernelCrash'>here</a> for more info. \n",
      "\u001b[1;31mView Jupyter <a href='command:jupyter.viewOutput'>log</a> for further details."
     ]
    }
   ],
   "source": [
    "import pygame\n",
    "\n",
    "def main():\n",
    "    \"\"\" Set up the game and run the main game loop \"\"\"\n",
    "    pygame.init() # Prepare the pygame module for use\n",
    "    surface_sz = 480 # Desired physical surface size, in pixels.\n",
    "\n",
    "    # Load an image to draw. Substitute your own.\n",
    "    # PyGame handles gif, jpg, png, etc. image types.\n",
    "    ball = pygame.image.load(\"ball.png\")\n",
    "\n",
    "    # Create surface of (width, height), and its window.\n",
    "    main_surface = pygame.display.set_mode((surface_sz, surface_sz))\n",
    "\n",
    "    # Set up some data to describe a small rectangle and its color\n",
    "    small_rect = (300, 200, 150, 90)\n",
    "    some_color = (255, 0, 0) # A color is a mix of (Red, Green, Blue)\n",
    "\n",
    "    # Create a font for rendering text\n",
    "    my_font = pygame.font.SysFont(\"Courier\", 16)\n",
    "\n",
    "    frame_count = 0\n",
    "    frame_rate = 0\n",
    "    t0 = time.process_time()\n",
    "\n",
    "    while True:\n",
    "        # Look for an event from keyboard, mouse, joystick, etc.\n",
    "        ev = pygame.event.poll()\n",
    "        if ev.type == pygame.QUIT: # Window close button clicked?\n",
    "            break # Leave game loop\n",
    "\n",
    "        # Do other bits of logic for the game here\n",
    "        frame_count += 1\n",
    "        if frame_count % 500 == 0:\n",
    "            t1 = time.process_time()\n",
    "            frame_rate = 500 / (t1-t0)\n",
    "            t0 = t1\n",
    "\n",
    "        # Completely redraw the surface, starting with background\n",
    "        main_surface.fill((0, 200, 255))\n",
    "\n",
    "        # Put a red rectangle somewhere on the surface\n",
    "        main_surface.fill((255,0,0), (300, 100, 150, 90))\n",
    "\n",
    "        # Copy our image to the surface, at this (x,y) posn\n",
    "        main_surface.blit(ball, (50, 70))\n",
    "\n",
    "        # Make a new surface with an image of the text\n",
    "\n",
    "        the_text = my_font.render(\"Frame = {0}, rate = {1:.2f} fps\".format(frame_count, frame_rate), True, (0,0,0))\n",
    "        # Copy the text surface to the main surface\n",
    "        main_surface.blit(the_text, (10, 10))\n",
    "\n",
    "        # Now that everything is drawn, put it on display!\n",
    "        pygame.display.flip()\n",
    "\n",
    "    pygame.quit()\n",
    " \n",
    "main()"
   ]
  },
  {
   "cell_type": "code",
   "execution_count": null,
   "metadata": {},
   "outputs": [],
   "source": [
    "def draw_board(the_board):\n",
    "    \"\"\" Draw a chess board with queens, from the_board. \"\"\"\n",
    "\n",
    "    pygame.init()\n",
    "    colors = [(255,0,0), (0,0,0)] # Set up colors [red, black]\n",
    "\n",
    "    n = len(the_board) # This is an NxN chess board.\n",
    "    surface_sz = 480 # Proposed physical surface size. \\\n",
    "\n",
    "    sq_sz = surface_sz // n # sq_sz is length of a square.\n",
    "    surface_sz = n * sq_sz # Adjust to exactly fit n squares.\n",
    "\n",
    "    # Create the surface of (width, height), and its window.\n",
    "    surface = pygame.display.set_mode((surface_sz, surface_sz))"
   ]
  },
  {
   "cell_type": "code",
   "execution_count": null,
   "metadata": {},
   "outputs": [],
   "source": [
    "# Draw a fresh background (a blank chess board)\n",
    "for row in range(n): # Draw each row of the board.\n",
    "    c_indx = row % 2 # Change starting color on each row\n",
    "    for col in range(n): # Run through cols drawing squares\n",
    "        the_square = (col*sq_sz, row*sq_sz, sq_sz, sq_sz)\n",
    "        surface.fill(colors[c_indx], the_square)\n",
    "        # now flip the color index for the next square\n",
    "        c_indx = (c_indx + 1) % 2"
   ]
  },
  {
   "cell_type": "markdown",
   "metadata": {},
   "source": [
    "# Chapter 18: Recursion"
   ]
  },
  {
   "cell_type": "code",
   "execution_count": 3,
   "metadata": {},
   "outputs": [],
   "source": [
    "def r_sum(nested_num_list):\n",
    "    tot = 0\n",
    "    for element in nested_num_list:\n",
    "        if type(element) == type([]):\n",
    "            tot += r_sum(element)\n",
    "        else:\n",
    "            tot += element\n",
    "    return tot"
   ]
  },
  {
   "cell_type": "code",
   "execution_count": 4,
   "metadata": {},
   "outputs": [
    {
     "data": {
      "text/plain": [
       "35"
      ]
     },
     "execution_count": 4,
     "metadata": {},
     "output_type": "execute_result"
    }
   ],
   "source": [
    "r_sum([1,2,[11,13], 8])"
   ]
  },
  {
   "cell_type": "code",
   "execution_count": 8,
   "metadata": {},
   "outputs": [],
   "source": [
    "def r_max(nxs):\n",
    "    \"\"\" \n",
    "    Find the Maximum in a recursive structure of lists within other lists\n",
    "    Precondition: No lists or sub-lists are empty\n",
    "    \"\"\"\n",
    "    largest = None\n",
    "    first_time = True\n",
    "    for e in nxs:\n",
    "        if type(e) == type([]):\n",
    "            val = r_max(e)\n",
    "        else:\n",
    "            val = e\n",
    "\n",
    "        if first_time or val > largest:\n",
    "            largest = val\n",
    "            first_time = False\n",
    "    return largest"
   ]
  },
  {
   "cell_type": "code",
   "execution_count": 9,
   "metadata": {},
   "outputs": [
    {
     "data": {
      "text/plain": [
       "True"
      ]
     },
     "execution_count": 9,
     "metadata": {},
     "output_type": "execute_result"
    }
   ],
   "source": [
    "r_max([2, 9, [1, 13], 8, 6]) == 13"
   ]
  },
  {
   "cell_type": "code",
   "execution_count": 13,
   "metadata": {},
   "outputs": [],
   "source": [
    "def fib(n):\n",
    "    if n <= 1:\n",
    "        return 1\n",
    "    t = fib(n-1) + fib(n-2)\n",
    "    return t"
   ]
  },
  {
   "cell_type": "code",
   "execution_count": 14,
   "metadata": {},
   "outputs": [
    {
     "data": {
      "text/plain": [
       "89"
      ]
     },
     "execution_count": 14,
     "metadata": {},
     "output_type": "execute_result"
    }
   ],
   "source": [
    "fib(10)"
   ]
  },
  {
   "cell_type": "markdown",
   "metadata": {},
   "source": [
    "# Chapter 20: Dictionaries"
   ]
  },
  {
   "cell_type": "code",
   "execution_count": 2,
   "metadata": {},
   "outputs": [
    {
     "name": "stdout",
     "output_type": "stream",
     "text": [
      "{'apples': 430, 'bananas': 312, 'oranges': 525, 'pears': 217}\n"
     ]
    }
   ],
   "source": [
    "inventory = {\"apples\": 430, \"bananas\": 312, \"oranges\": 525, \"pears\": 217}\n",
    "print(inventory)"
   ]
  },
  {
   "cell_type": "code",
   "execution_count": 3,
   "metadata": {},
   "outputs": [],
   "source": [
    "inventory[\"bananas\"] += 200"
   ]
  },
  {
   "cell_type": "code",
   "execution_count": 4,
   "metadata": {},
   "outputs": [
    {
     "name": "stdout",
     "output_type": "stream",
     "text": [
      "{'apples': 430, 'bananas': 512, 'oranges': 525, 'pears': 217}\n"
     ]
    }
   ],
   "source": [
    "print(inventory)"
   ]
  },
  {
   "cell_type": "code",
   "execution_count": 5,
   "metadata": {},
   "outputs": [
    {
     "name": "stdout",
     "output_type": "stream",
     "text": [
      "Got key apples which maps to value 430\n",
      "Got key bananas which maps to value 512\n",
      "Got key oranges which maps to value 525\n",
      "Got key pears which maps to value 217\n"
     ]
    }
   ],
   "source": [
    "for k in inventory.keys():\n",
    "    print(\"Got key\", k, \"which maps to value\", inventory[k])"
   ]
  },
  {
   "cell_type": "code",
   "execution_count": 7,
   "metadata": {},
   "outputs": [
    {
     "name": "stdout",
     "output_type": "stream",
     "text": [
      "['apples', 'bananas', 'oranges', 'pears']\n"
     ]
    }
   ],
   "source": [
    "ks = list(inventory.keys())\n",
    "print(ks)"
   ]
  },
  {
   "cell_type": "code",
   "execution_count": 8,
   "metadata": {},
   "outputs": [
    {
     "name": "stdout",
     "output_type": "stream",
     "text": [
      "Got key apples\n",
      "Got key bananas\n",
      "Got key oranges\n",
      "Got key pears\n"
     ]
    }
   ],
   "source": [
    "for k in inventory:\n",
    "    print(\"Got key\", k)"
   ]
  },
  {
   "cell_type": "code",
   "execution_count": 9,
   "metadata": {},
   "outputs": [
    {
     "data": {
      "text/plain": [
       "[430, 512, 525, 217]"
      ]
     },
     "execution_count": 9,
     "metadata": {},
     "output_type": "execute_result"
    }
   ],
   "source": [
    "list(inventory.values())                                                                        "
   ]
  },
  {
   "cell_type": "code",
   "execution_count": 11,
   "metadata": {},
   "outputs": [
    {
     "data": {
      "text/plain": [
       "[('apples', 430), ('bananas', 512), ('oranges', 525), ('pears', 217)]"
      ]
     },
     "execution_count": 11,
     "metadata": {},
     "output_type": "execute_result"
    }
   ],
   "source": [
    "list(inventory.items())"
   ]
  },
  {
   "cell_type": "code",
   "execution_count": 12,
   "metadata": {},
   "outputs": [
    {
     "name": "stdout",
     "output_type": "stream",
     "text": [
      "Got apples that maps to 430\n",
      "Got bananas that maps to 512\n",
      "Got oranges that maps to 525\n",
      "Got pears that maps to 217\n"
     ]
    }
   ],
   "source": [
    "for (k, v) in inventory.items():\n",
    "    print(\"Got\", k, \"that maps to\", v)"
   ]
  },
  {
   "cell_type": "code",
   "execution_count": 20,
   "metadata": {},
   "outputs": [],
   "source": [
    "alreadyknown = {0:0, 1: 1}\n",
    "\n",
    "def fib(n):\n",
    "    if n not in alreadyknown:\n",
    "        new_value = fib(n-1) + fib(n-2)\n",
    "        alreadyknown[n] = new_value\n",
    "    return alreadyknown[n]"
   ]
  },
  {
   "cell_type": "code",
   "execution_count": 22,
   "metadata": {},
   "outputs": [
    {
     "data": {
      "text/plain": [
       "354224848179261915075"
      ]
     },
     "execution_count": 22,
     "metadata": {},
     "output_type": "execute_result"
    }
   ],
   "source": [
    "fib(100)"
   ]
  },
  {
   "cell_type": "code",
   "execution_count": 23,
   "metadata": {},
   "outputs": [
    {
     "name": "stdout",
     "output_type": "stream",
     "text": [
      "{0: 0, 1: 1, 2: 1, 3: 2, 4: 3, 5: 5, 6: 8, 7: 13, 8: 21, 9: 34, 10: 55, 11: 89, 12: 144, 13: 233, 14: 377, 15: 610, 16: 987, 17: 1597, 18: 2584, 19: 4181, 20: 6765, 21: 10946, 22: 17711, 23: 28657, 24: 46368, 25: 75025, 26: 121393, 27: 196418, 28: 317811, 29: 514229, 30: 832040, 31: 1346269, 32: 2178309, 33: 3524578, 34: 5702887, 35: 9227465, 36: 14930352, 37: 24157817, 38: 39088169, 39: 63245986, 40: 102334155, 41: 165580141, 42: 267914296, 43: 433494437, 44: 701408733, 45: 1134903170, 46: 1836311903, 47: 2971215073, 48: 4807526976, 49: 7778742049, 50: 12586269025, 51: 20365011074, 52: 32951280099, 53: 53316291173, 54: 86267571272, 55: 139583862445, 56: 225851433717, 57: 365435296162, 58: 591286729879, 59: 956722026041, 60: 1548008755920, 61: 2504730781961, 62: 4052739537881, 63: 6557470319842, 64: 10610209857723, 65: 17167680177565, 66: 27777890035288, 67: 44945570212853, 68: 72723460248141, 69: 117669030460994, 70: 190392490709135, 71: 308061521170129, 72: 498454011879264, 73: 806515533049393, 74: 1304969544928657, 75: 2111485077978050, 76: 3416454622906707, 77: 5527939700884757, 78: 8944394323791464, 79: 14472334024676221, 80: 23416728348467685, 81: 37889062373143906, 82: 61305790721611591, 83: 99194853094755497, 84: 160500643816367088, 85: 259695496911122585, 86: 420196140727489673, 87: 679891637638612258, 88: 1100087778366101931, 89: 1779979416004714189, 90: 2880067194370816120, 91: 4660046610375530309, 92: 7540113804746346429, 93: 12200160415121876738, 94: 19740274219868223167, 95: 31940434634990099905, 96: 51680708854858323072, 97: 83621143489848422977, 98: 135301852344706746049, 99: 218922995834555169026, 100: 354224848179261915075}\n"
     ]
    }
   ],
   "source": [
    "print(alreadyknown)"
   ]
  },
  {
   "cell_type": "code",
   "execution_count": 24,
   "metadata": {},
   "outputs": [],
   "source": [
    "letter_count = {}\n",
    "for letter in \"Mississippi\":\n",
    "    letter_count[letter] = letter_count.get(letter, 0) + 1"
   ]
  },
  {
   "cell_type": "code",
   "execution_count": 25,
   "metadata": {},
   "outputs": [
    {
     "data": {
      "text/plain": [
       "{'M': 1, 'i': 4, 's': 4, 'p': 2}"
      ]
     },
     "execution_count": 25,
     "metadata": {},
     "output_type": "execute_result"
    }
   ],
   "source": [
    "letter_count"
   ]
  },
  {
   "cell_type": "markdown",
   "metadata": {},
   "source": [
    "# Chapter 20: Even more OOP"
   ]
  },
  {
   "cell_type": "code",
   "execution_count": 28,
   "metadata": {},
   "outputs": [
    {
     "data": {
      "text/plain": [
       "11.200000000000001"
      ]
     },
     "execution_count": 28,
     "metadata": {},
     "output_type": "execute_result"
    }
   ],
   "source": [
    "35*.32"
   ]
  },
  {
   "cell_type": "code",
   "execution_count": 29,
   "metadata": {},
   "outputs": [],
   "source": [
    "class MyTime:\n",
    "    def __init__(self, hrs=0, mins=0, secs=0):\n",
    "        \"\"\" Create a MyTime object initialized to hrs, mins, secs \"\"\"\n",
    "        self.hrs = hrs\n",
    "        self.mins = mins\n",
    "        self.secs = secs"
   ]
  },
  {
   "cell_type": "code",
   "execution_count": 31,
   "metadata": {},
   "outputs": [
    {
     "name": "stdout",
     "output_type": "stream",
     "text": [
      "11\n"
     ]
    }
   ],
   "source": [
    "tim1 = MyTime(11, 59, 30)\n",
    "print(tim1.hrs)"
   ]
  },
  {
   "cell_type": "code",
   "execution_count": 32,
   "metadata": {},
   "outputs": [],
   "source": [
    "class Card:\n",
    "    def __init__(self, suit=0, rank =0) -> None:\n",
    "        self.suit = suit\n",
    "        self.rank = rank"
   ]
  },
  {
   "cell_type": "code",
   "execution_count": 34,
   "metadata": {},
   "outputs": [],
   "source": [
    "three_of_clubs = Card(0, 3)\n",
    "card1 = Card(1, 11)"
   ]
  },
  {
   "cell_type": "code",
   "execution_count": 37,
   "metadata": {},
   "outputs": [],
   "source": [
    "class Card:\n",
    "    suits = [\"Clubs\", \"Diamonds\", \"Hearts\", \"Spades\"]\n",
    "    ranks = [\"narf\", \"Ace\", \"2\", \"3\", \"4\", \"5\", \"6\", \"7\", \"8\", \"9\", \"10\", \"Jack\", \"Queen\", \"King\"]\n",
    "\n",
    "    def __init__(self, suit=0, rank =0) -> None:\n",
    "        self.suit = suit\n",
    "        self.rank = rank\n",
    "    def __str__(self) -> str:\n",
    "        return (self.ranks[self.rank] + \" of \" + self.suits[self.suit])"
   ]
  },
  {
   "cell_type": "code",
   "execution_count": 38,
   "metadata": {},
   "outputs": [
    {
     "name": "stdout",
     "output_type": "stream",
     "text": [
      "Jack of Diamonds\n"
     ]
    }
   ],
   "source": [
    "card1 = Card(1, 11)\n",
    "print(card1)"
   ]
  },
  {
   "cell_type": "code",
   "execution_count": 39,
   "metadata": {},
   "outputs": [],
   "source": [
    "class Deck:\n",
    "    def __init__(self) -> None:\n",
    "        self.cards = []\n",
    "        for suit in range(4):\n",
    "            for rank in range(14):\n",
    "                self.cards.append(Card(suit, rank))"
   ]
  },
  {
   "cell_type": "code",
   "execution_count": 40,
   "metadata": {},
   "outputs": [],
   "source": [
    "red_deck = Deck()\n",
    "blue_deck = Deck()"
   ]
  },
  {
   "cell_type": "code",
   "execution_count": 41,
   "metadata": {},
   "outputs": [],
   "source": [
    "class Deck:\n",
    "    def __init__(self) -> None:\n",
    "        self.cards = []\n",
    "        for suit in range(4):\n",
    "            for rank in range(14):\n",
    "                self.cards.append(Card(suit, rank))\n",
    "    def print_deck(self):\n",
    "        for card in self.cards:\n",
    "            print(card)"
   ]
  },
  {
   "cell_type": "code",
   "execution_count": 49,
   "metadata": {},
   "outputs": [],
   "source": [
    "class Deck:\n",
    "    def __init__(self) -> None:\n",
    "        self.cards = []\n",
    "        for suit in range(4):\n",
    "            for rank in range(14):\n",
    "                self.cards.append(Card(suit, rank))\n",
    "    def __str__(self) -> str:\n",
    "        s = \"\"\n",
    "        for i in range(len(self.cards)):\n",
    "            s = s + \" \" * i + str(self.cards[i]) + \"\\n\"\n",
    "        return s"
   ]
  },
  {
   "cell_type": "code",
   "execution_count": 50,
   "metadata": {},
   "outputs": [],
   "source": [
    "red_deck = Deck()\n",
    "blue_deck = Deck()"
   ]
  },
  {
   "cell_type": "code",
   "execution_count": 51,
   "metadata": {},
   "outputs": [
    {
     "name": "stdout",
     "output_type": "stream",
     "text": [
      "narf of Clubs\n",
      " Ace of Clubs\n",
      "  2 of Clubs\n",
      "   3 of Clubs\n",
      "    4 of Clubs\n",
      "     5 of Clubs\n",
      "      6 of Clubs\n",
      "       7 of Clubs\n",
      "        8 of Clubs\n",
      "         9 of Clubs\n",
      "          10 of Clubs\n",
      "           Jack of Clubs\n",
      "            Queen of Clubs\n",
      "             King of Clubs\n",
      "              narf of Diamonds\n",
      "               Ace of Diamonds\n",
      "                2 of Diamonds\n",
      "                 3 of Diamonds\n",
      "                  4 of Diamonds\n",
      "                   5 of Diamonds\n",
      "                    6 of Diamonds\n",
      "                     7 of Diamonds\n",
      "                      8 of Diamonds\n",
      "                       9 of Diamonds\n",
      "                        10 of Diamonds\n",
      "                         Jack of Diamonds\n",
      "                          Queen of Diamonds\n",
      "                           King of Diamonds\n",
      "                            narf of Hearts\n",
      "                             Ace of Hearts\n",
      "                              2 of Hearts\n",
      "                               3 of Hearts\n",
      "                                4 of Hearts\n",
      "                                 5 of Hearts\n",
      "                                  6 of Hearts\n",
      "                                   7 of Hearts\n",
      "                                    8 of Hearts\n",
      "                                     9 of Hearts\n",
      "                                      10 of Hearts\n",
      "                                       Jack of Hearts\n",
      "                                        Queen of Hearts\n",
      "                                         King of Hearts\n",
      "                                          narf of Spades\n",
      "                                           Ace of Spades\n",
      "                                            2 of Spades\n",
      "                                             3 of Spades\n",
      "                                              4 of Spades\n",
      "                                               5 of Spades\n",
      "                                                6 of Spades\n",
      "                                                 7 of Spades\n",
      "                                                  8 of Spades\n",
      "                                                   9 of Spades\n",
      "                                                    10 of Spades\n",
      "                                                     Jack of Spades\n",
      "                                                      Queen of Spades\n",
      "                                                       King of Spades\n",
      "\n"
     ]
    }
   ],
   "source": [
    "print(red_deck)"
   ]
  },
  {
   "cell_type": "code",
   "execution_count": 52,
   "metadata": {},
   "outputs": [],
   "source": [
    "class Deck:\n",
    "    def __init__(self) -> None:\n",
    "        self.cards = []\n",
    "        for suit in range(4):\n",
    "            for rank in range(14):\n",
    "                self.cards.append(Card(suit, rank))\n",
    "    def __str__(self) -> str:\n",
    "        s = \"\"\n",
    "        for i in range(len(self.cards)):\n",
    "            s = s + \" \" * i + str(self.cards[i]) + \"\\n\"\n",
    "        return s\n",
    "    \n",
    "    def shuffle(self):\n",
    "        import random\n",
    "        rng = random.Random()\n",
    "        num_cards = len(self.cards)\n",
    "        for i in range(num_cards):\n",
    "            j = rng.randrange(i, num_cards)\n",
    "            (self.cards[i], self.cards[j]) = (self.cards[j], self.cards[i])\n"
   ]
  },
  {
   "cell_type": "code",
   "execution_count": null,
   "metadata": {},
   "outputs": [],
   "source": [
    "class Deck:\n",
    "    def __init__(self) -> None:\n",
    "        self.cards = []\n",
    "        for suit in range(4):\n",
    "            for rank in range(14):\n",
    "                self.cards.append(Card(suit, rank))\n",
    "    def __str__(self) -> str:\n",
    "        s = \"\"\n",
    "        for i in range(len(self.cards)):\n",
    "            s = s + \" \" * i + str(self.cards[i]) + \"\\n\"\n",
    "        return s\n",
    "    "
   ]
  },
  {
   "cell_type": "markdown",
   "metadata": {},
   "source": [
    "# Chapter 24: Inheritance"
   ]
  },
  {
   "cell_type": "code",
   "execution_count": 53,
   "metadata": {},
   "outputs": [],
   "source": [
    "class Hand(Deck):\n",
    "    pass"
   ]
  },
  {
   "cell_type": "code",
   "execution_count": 54,
   "metadata": {},
   "outputs": [],
   "source": [
    "class Hand(Deck):\n",
    "    def __init__(self, name = \"\") -> None:\n",
    "        self.cards = []\n",
    "        self.name = name\n",
    "        "
   ]
  },
  {
   "cell_type": "code",
   "execution_count": 55,
   "metadata": {},
   "outputs": [],
   "source": [
    "class Node:\n",
    "    def __init__(self, cargo = None, next = None) -> None:\n",
    "        self.cargo = cargo\n",
    "        self.next = next\n",
    "\n",
    "    def __str__(self) -> str:\n",
    "        return str(self.cargo)"
   ]
  },
  {
   "cell_type": "code",
   "execution_count": 56,
   "metadata": {},
   "outputs": [
    {
     "name": "stdout",
     "output_type": "stream",
     "text": [
      "test\n"
     ]
    }
   ],
   "source": [
    "node = Node(\"test\")\n",
    "print(node)"
   ]
  },
  {
   "cell_type": "code",
   "execution_count": 57,
   "metadata": {},
   "outputs": [],
   "source": [
    "node1 = Node(1)\n",
    "node2 = Node(2)\n",
    "node3 = Node(3)"
   ]
  },
  {
   "cell_type": "code",
   "execution_count": 58,
   "metadata": {},
   "outputs": [],
   "source": [
    "node1.next = node2\n",
    "node2.next = node3"
   ]
  },
  {
   "cell_type": "code",
   "execution_count": 59,
   "metadata": {},
   "outputs": [],
   "source": [
    "def print_list(node):\n",
    "    while node is not None:\n",
    "        print(node, end=\"\")\n",
    "        node = node.next\n",
    "    print()"
   ]
  },
  {
   "cell_type": "code",
   "execution_count": 60,
   "metadata": {},
   "outputs": [
    {
     "name": "stdout",
     "output_type": "stream",
     "text": [
      "123\n"
     ]
    }
   ],
   "source": [
    "print_list(node1)"
   ]
  },
  {
   "cell_type": "markdown",
   "metadata": {},
   "source": [
    "# Chapter 26: Stacks                                     "
   ]
  },
  {
   "cell_type": "code",
   "execution_count": 1,
   "metadata": {},
   "outputs": [],
   "source": [
    "class Stack:\n",
    "    def __init__(self) -> None:\n",
    "        self.items = []\n",
    "\n",
    "    def push(self, item):\n",
    "        self.items.append(item)\n",
    "\n",
    "    def pop(self):\n",
    "        return self.items.pop()\n",
    "\n",
    "    def is_empty(self):\n",
    "        return (self.is_empty== [])                                                "
   ]
  },
  {
   "cell_type": "code",
   "execution_count": 2,
   "metadata": {},
   "outputs": [
    {
     "name": "stdout",
     "output_type": "stream",
     "text": [
      "<__main__.Stack object at 0x7fed20684220>\n"
     ]
    }
   ],
   "source": [
    "s = Stack()\n",
    "s.push(54)\n",
    "s.push(45)\n",
    "s.push(\"+\")\n",
    "print(s)"
   ]
  },
  {
   "cell_type": "code",
   "execution_count": 3,
   "metadata": {},
   "outputs": [
    {
     "data": {
      "text/plain": [
       "<__main__.Stack at 0x7fed20684220>"
      ]
     },
     "execution_count": 3,
     "metadata": {},
     "output_type": "execute_result"
    }
   ],
   "source": [
    "s"
   ]
  },
  {
   "cell_type": "code",
   "execution_count": null,
   "metadata": {},
   "outputs": [],
   "source": [
    "while not s.is_empty():\n",
    "    print(s.pop(), end=\"\")"
   ]
  },
  {
   "cell_type": "code",
   "execution_count": 5,
   "metadata": {},
   "outputs": [
    {
     "data": {
      "text/plain": [
       "['Now', 'is', 'the', 'time']"
      ]
     },
     "execution_count": 5,
     "metadata": {},
     "output_type": "execute_result"
    }
   ],
   "source": [
    "\"Now is the time\".split()"
   ]
  },
  {
   "cell_type": "code",
   "execution_count": null,
   "metadata": {},
   "outputs": [],
   "source": [
    "                   "
   ]
  }
 ],
 "metadata": {
  "kernelspec": {
   "display_name": "base",
   "language": "python",
   "name": "python3"
  },
  "language_info": {
   "codemirror_mode": {
    "name": "ipython",
    "version": 3
   },
   "file_extension": ".py",
   "mimetype": "text/x-python",
   "name": "python",
   "nbconvert_exporter": "python",
   "pygments_lexer": "ipython3",
   "version": "3.9.7"
  }
 },
 "nbformat": 4,
 "nbformat_minor": 2
}
