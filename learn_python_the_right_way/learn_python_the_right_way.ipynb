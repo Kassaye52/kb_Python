{
 "cells": [
  {
   "cell_type": "code",
   "execution_count": 1,
   "metadata": {},
   "outputs": [
    {
     "name": "stdout",
     "output_type": "stream",
     "text": [
      "Hello, World\n"
     ]
    }
   ],
   "source": [
    "# 1.9 The first Program\n",
    "print(\"Hello, World\")"
   ]
  },
  {
   "cell_type": "markdown",
   "metadata": {},
   "source": [
    "# Chapter 2: Variables, Expression and Statements"
   ]
  },
  {
   "cell_type": "code",
   "execution_count": 7,
   "metadata": {},
   "outputs": [
    {
     "data": {
      "text/plain": [
       "int"
      ]
     },
     "execution_count": 7,
     "metadata": {},
     "output_type": "execute_result"
    }
   ],
   "source": [
    "type(\"Hello, World!\")\n",
    "type(17)"
   ]
  },
  {
   "cell_type": "code",
   "execution_count": 8,
   "metadata": {},
   "outputs": [
    {
     "name": "stdout",
     "output_type": "stream",
     "text": [
      "This message \n",
      "will span\n",
      "several lines!\n",
      "\n"
     ]
    }
   ],
   "source": [
    "message = \"\"\"This message \n",
    "will span\n",
    "several lines!\n",
    "\"\"\"\n",
    "print(message)"
   ]
  },
  {
   "cell_type": "code",
   "execution_count": 9,
   "metadata": {},
   "outputs": [
    {
     "name": "stdout",
     "output_type": "stream",
     "text": [
      "The area is:  314.159\n"
     ]
    }
   ],
   "source": [
    "response = input(\"What is the radius?\")\n",
    "r = float(response)\n",
    "area = 3.14159 * r**2\n",
    "print(\"The area is: \", area)"
   ]
  },
  {
   "cell_type": "markdown",
   "metadata": {},
   "source": [
    "# Chapter 3: Hello, Little turtles"
   ]
  },
  {
   "cell_type": "code",
   "execution_count": 24,
   "metadata": {},
   "outputs": [],
   "source": [
    "import turtle\n",
    "wn = turtle.Screen()\n",
    "wn.bgcolor(\"lightgreen\")\n",
    "wn.title(\"Hell, Tess\")\n",
    "\n",
    "alex = turtle.Turtle()\n",
    "alex.pensize(5)\n",
    "\n",
    "alex.forward(100)\n",
    "alex.left(90)\n",
    "alex.forward(80)\n",
    "alex.color(\"red\")\n",
    "\n",
    "wn.mainloop()"
   ]
  },
  {
   "cell_type": "code",
   "execution_count": 56,
   "metadata": {},
   "outputs": [],
   "source": [
    "import turtle\n",
    "wn = turtle.Screen()\n",
    "wn.bgcolor(\"lightgreen\")\n",
    "wn.title(\"Alex and Tess\")\n",
    "\n",
    "tess = turtle.Turtle()\n",
    "tess.color(\"hotpink\")\n",
    "tess.pensize(10)\n",
    "\n",
    "tess.forward(80)\n",
    "tess.left(120)\n",
    "tess.forward(80)\n",
    "tess.left(120)\n",
    "tess.forward(80)\n",
    "tess.left(120)\n",
    "\n",
    "tess.right(180)\n",
    "tess.forward(80)\n",
    "#\n",
    "alex = turtle.Turtle()\n",
    "alex.pensize(5)\n",
    "\n",
    "alex.forward(50)\n",
    "alex.left(90)\n",
    "alex.forward(50)\n",
    "alex.left(90)\n",
    "alex.forward(50)\n",
    "alex.left(90)\n",
    "alex.forward(50)\n",
    "alex.left(90)\n",
    "\n",
    "alex.forward(80)\n",
    "alex.color(\"red\")\n",
    "\n",
    "wn.mainloop()"
   ]
  },
  {
   "cell_type": "markdown",
   "metadata": {},
   "source": [
    "### 3.3 The **for loop**"
   ]
  },
  {
   "cell_type": "code",
   "execution_count": 31,
   "metadata": {},
   "outputs": [
    {
     "name": "stdout",
     "output_type": "stream",
     "text": [
      "Hi Joe. Please come to my Party on Sunday!\n",
      "Hi Zoe. Please come to my Party on Sunday!\n",
      "Hi Brad. Please come to my Party on Sunday!\n",
      "Hi Angelina. Please come to my Party on Sunday!\n",
      "Hi Zuki. Please come to my Party on Sunday!\n",
      "Hi Thandi. Please come to my Party on Sunday!\n",
      "Hi Paris. Please come to my Party on Sunday!\n"
     ]
    }
   ],
   "source": [
    "for f in [\"Joe\",\"Zoe\",\"Brad\",\"Angelina\",\"Zuki\",\"Thandi\",\"Paris\"]:\n",
    "    invite = \"Hi \" + f + \". Please come to my Party on Sunday!\"\n",
    "    print(invite)"
   ]
  },
  {
   "cell_type": "code",
   "execution_count": 1,
   "metadata": {},
   "outputs": [
    {
     "ename": "",
     "evalue": "",
     "output_type": "error",
     "traceback": [
      "\u001b[1;31mThe Kernel crashed while executing code in the current cell or a previous cell. \n",
      "\u001b[1;31mPlease review the code in the cell(s) to identify a possible cause of the failure. \n",
      "\u001b[1;31mClick <a href='https://aka.ms/vscodeJupyterKernelCrash'>here</a> for more info. \n",
      "\u001b[1;31mView Jupyter <a href='command:jupyter.viewOutput'>log</a> for further details."
     ]
    }
   ],
   "source": [
    "import turtle\n",
    "wn = turtle.Screen()\n",
    "wn.bgcolor(\"lightgreen\")\n",
    "wn.title(\"Alex and Tess\")\n",
    "\n",
    "tess = turtle.Turtle()\n",
    "tess.color(\"hotpink\")\n",
    "tess.pensize(10)\n",
    "\n",
    "alex = turtle.Turtle()\n",
    "alex.color(\"green\")\n",
    "alex.pensize(5)\n",
    "\n",
    "for i in range(4):\n",
    "    tess.forward(80)\n",
    "    tess.left(120)\n",
    "\n",
    "for a in range(4):\n",
    "    alex.forward(50)\n",
    "    alex.left(90)\n",
    "\n",
    "wn.mainloop()"
   ]
  },
  {
   "cell_type": "code",
   "execution_count": 40,
   "metadata": {},
   "outputs": [],
   "source": [
    "import turtle\n",
    "wn = turtle.Screen()\n",
    "wn.bgcolor(\"lightgreen\")\n",
    "wn.title(\"Alex and Tess\")\n",
    "\n",
    "tess = turtle.Turtle()\n",
    "#tess.color(\"hotpink\")\n",
    "tess.pensize(10)\n",
    "\n",
    "alex = turtle.Turtle()\n",
    "#alex.color(\"green\")\n",
    "alex.pensize(5)\n",
    "\n",
    "for i in [\"yellow\", \"red\", \"purple\", \"blue\"]:\n",
    "    tess.color(i)\n",
    "    tess.forward(80)\n",
    "    tess.left(120)\n",
    "\n",
    "for a in [\"yellow\", \"red\", \"purple\", \"blue\"]:\n",
    "    alex.color(a)\n",
    "    alex.forward(50)\n",
    "    alex.left(90)\n",
    "\n",
    "wn.mainloop()"
   ]
  },
  {
   "cell_type": "code",
   "execution_count": 44,
   "metadata": {},
   "outputs": [],
   "source": [
    "import turtle\n",
    "wn = turtle.Screen()\n",
    "wn.bgcolor(\"lightgreen\")\n",
    "wn.title(\"Hello, Tess\")\n",
    "\n",
    "tess = turtle.Turtle()\n",
    "tess.color(\"blue\")\n",
    "tess.shape(\"turtle\")\n",
    "\n",
    "tess.penup()\n",
    "size = 20\n",
    "\n",
    "for i in range(30):\n",
    "    tess.stamp()\n",
    "    size = size + 3\n",
    "    tess.forward(size)\n",
    "    tess.right(24)\n",
    "\n",
    "wn.mainloop()\n"
   ]
  },
  {
   "cell_type": "markdown",
   "metadata": {},
   "source": [
    "# CHAPTER 4: Functions"
   ]
  },
  {
   "cell_type": "code",
   "execution_count": 8,
   "metadata": {},
   "outputs": [],
   "source": [
    "import turtle\n",
    "def draw_square(t, sz):\n",
    "    \"\"\"Make turtle t draw a square of sz\"\"\"\n",
    "    for i in range(4):\n",
    "        t.forward(sz)\n",
    "        t.left(90)\n",
    "\n",
    "# Set up the window and its attributes\n",
    "wn = turtle.Screen()\n",
    "wn.bgcolor(\"lightgreen\")\n",
    "wn.title(\"Alex meets a function\")   \n",
    "\n",
    "# Create Alex \n",
    "alex = turtle.Turtle()\n",
    "# Call the function to draw square\n",
    "draw_square(alex, 50)\n",
    "wn.mainloop()"
   ]
  },
  {
   "cell_type": "code",
   "execution_count": null,
   "metadata": {},
   "outputs": [],
   "source": [
    "import turtle\n",
    "__import__(\"turtle\").__traceable__=False\n",
    "\n",
    "def draw_multicolor_square(t, sz):\n",
    "    \"\"\"Make turtle t draw a square of sz\"\"\"\n",
    "    for i in [\"red\", \"purple\", \"hotpink\", \"blue\"]:\n",
    "        t.color(i)\n",
    "        t.forward(sz)\n",
    "        t.left(90)\n",
    "# Set up the window and its attributes\n",
    "wn = turtle.Screen()\n",
    "wn.bgcolor(\"lightgreen\")\n",
    "wn.title(\"Tess meets a function\")   \n",
    "\n",
    "# Create tess and set some attributes\n",
    "tess = turtle.Turtle()\n",
    "tess.pensize(3)\n",
    "\n",
    "# Size of the smallest square\n",
    "size = 20\n",
    "for i in range(15):\n",
    "    draw_multicolor_square(tess, size)\n",
    "    # Increase the size next time\n",
    "    size = size + 10\n",
    "    tess.forward(10)\n",
    "    tess.right(18)\n",
    "\n",
    "wn.mainloop()\n"
   ]
  },
  {
   "cell_type": "code",
   "execution_count": 61,
   "metadata": {},
   "outputs": [
    {
     "name": "stdout",
     "output_type": "stream",
     "text": [
      "At the end of the period you will have 14880.611370468085\n"
     ]
    }
   ],
   "source": [
    "def final_amt(p, n, r, t):\n",
    "    \"\"\" \n",
    "    Apply compound Interest formula for p to produce the final amount\n",
    "    \"\"\"\n",
    "\n",
    "    a = p * (1 + r/n) ** (n*t)\n",
    "    return a\n",
    "toInvest = float(input('how much you want to invest?'))\n",
    "fnl = final_amt(toInvest, 0.08, 12, 5)\n",
    "print(\"At the end of the period you will have\", fnl)"
   ]
  },
  {
   "cell_type": "code",
   "execution_count": null,
   "metadata": {},
   "outputs": [],
   "source": [
    "def make_window(colr, ttle):\n",
    "    \"\"\" \n",
    "    Set up the window withe the given background color and title.\n",
    "    Returns the new window\n",
    "    \"\"\"\n",
    "    w = turtle.Screen()\n",
    "    w.bgcolor(colr)\n",
    "    w.title(ttle)\n",
    "    return w\n",
    "def make_turtle(colr, sz):\n",
    "    \"\"\" \n",
    "    Set up a turtle withe the given color and pensize\n",
    "    Returns  the new turtle\n",
    "    \"\"\"\n",
    "    t = turtle.Turtle()\n",
    "    t.color(colr)\n",
    "    t.pensize(sz)\n",
    "    return t\n",
    "wn = make_window(\"lightgreen\", \"Tess and Alex Dancing\")\n",
    "tess = make_turtle(\"hotpink\", 5)\n",
    "alex = make_turtle(\"black\", 1)\n",
    "dave = make_turtle(\"yellow\", 2)"
   ]
  },
  {
   "cell_type": "code",
   "execution_count": 65,
   "metadata": {},
   "outputs": [
    {
     "data": {
      "text/plain": [
       "<turtle._Screen at 0x7fd7582e1250>"
      ]
     },
     "execution_count": 65,
     "metadata": {},
     "output_type": "execute_result"
    }
   ],
   "source": [
    "make_window(\"red\", \"alex\" )"
   ]
  },
  {
   "cell_type": "markdown",
   "metadata": {},
   "source": [
    "### 4.9 Exercises \n",
    "1. Write a void (non-fruitful) function to draw a square. Use it in a program to draw the image\n",
    "shown below. Assume each side is 20 units. (Hint: notice that the turtle has already moved away\n",
    "from the ending point of the last square when the program ends.)"
   ]
  },
  {
   "cell_type": "code",
   "execution_count": null,
   "metadata": {},
   "outputs": [],
   "source": [
    "import turtle\n",
    "\n",
    "def draw_square(t, sz):\n",
    "    \"\"\"Function for turtle 't' to draw a square of size 'sz'.\"\"\"\n",
    "    for i in range(4):  # A square has four sides\n",
    "        t.forward(sz)\n",
    "        t.left(90)  # Turning the turtle by 90 degrees to make a square\n",
    "\n",
    "def move_turtle(t, distance, angle=0):\n",
    "    \"\"\"Function to move turtle 't' forward by 'distance' and turn by 'angle'.\"\"\"\n",
    "    t.penup()  # Pull the pen up – no drawing when moving.\n",
    "    t.forward(distance)\n",
    "    t.right(angle)\n",
    "    t.pendown()  # Put the pen down to start drawing.\n",
    "\n",
    "# Setting up the screen\n",
    "wn = turtle.Screen()\n",
    "wn.bgcolor(\"lightgreen\")\n",
    "wn.title(\"Draw Squares\")\n",
    "\n",
    "# Creating the turtle\n",
    "alex = turtle.Turtle()\n",
    "alex.color(\"hotpink\")\n",
    "alex.pensize(5)\n",
    "\n",
    "# Initial square size\n",
    "size = 20\n",
    "\n",
    "# Drawing and spacing out the squares\n",
    "for i in range(5):  # Suppose you want to draw 5 squares\n",
    "    draw_square(alex, size)\n",
    "    # Move the turtle to the right starting position for the next square\n",
    "    move_turtle(alex, size + 10)  # Assuming you want a gap of 10 units\n",
    "    size = 20  # Increase the size for the next square\n",
    "\n",
    "# Keep the window open until it's closed by the user\n",
    "wn.mainloop()\n"
   ]
  },
  {
   "cell_type": "markdown",
   "metadata": {},
   "source": [
    "2. Write a program to draw this. Assume the innermost square is 20 units per side, and each\n",
    "successive square is 20 units bigger, per side, than the one inside it."
   ]
  },
  {
   "cell_type": "code",
   "execution_count": 47,
   "metadata": {},
   "outputs": [],
   "source": [
    "# Import the module\n",
    "import turtle\n",
    "\n",
    "# Draw a square of a given size\n",
    "def draw_square(t, sz):\n",
    "    \"\"\"Function to make turtle t draw a square of sz side length.\"\"\"\n",
    "    for i in range(4):\n",
    "        t.forward(sz)\n",
    "        t.left(90)\n",
    "\n",
    "# Make the canvas screen\n",
    "wn = turtle.Screen()\n",
    "wn.bgcolor(\"lightgreen\")\n",
    "wn.title(\"Nested Squares\")\n",
    "\n",
    "# Create a turtle and set its attributes\n",
    "alex = turtle.Turtle()\n",
    "alex.color(\"hotpink\")\n",
    "alex.pensize(5)\n",
    "\n",
    "# Draw nested squares\n",
    "size = 20  # Initial size of the smallest square\n",
    "increment = 20  # Increment size for each larger square\n",
    "for i in range(5):  # Number of squares\n",
    "    # Move turtle to the new starting point\n",
    "    alex.penup()\n",
    "    alex.goto(size)  # Centering the square\n",
    "    alex.pendown()\n",
    "    draw_square(alex, size)\n",
    "    size += increment  # Increase the size for the next square\n",
    "\n",
    "# End the program when the user closes the window\n",
    "wn.mainloop()"
   ]
  },
  {
   "cell_type": "code",
   "execution_count": 49,
   "metadata": {},
   "outputs": [],
   "source": [
    "import turtle\n",
    "\n",
    "def draw_square(t, sz):\n",
    "    \"\"\"Function to make turtle t draw a square of sz side length.\"\"\"\n",
    "    for i in range(4):\n",
    "        t.forward(sz)\n",
    "        t.left(90)\n",
    "\n",
    "def draw_nested_squares(t, initial_size, increment, num_squares):\n",
    "    \"\"\"Draw nested squares centered on the same point.\"\"\"\n",
    "    for i in range(num_squares):\n",
    "        # Move turtle to the new starting point\n",
    "        t.penup()\n",
    "        t.goto(-initial_size / 2, initial_size / 2)  # Centering the square\n",
    "        t.pendown()\n",
    "        draw_square(t, initial_size)\n",
    "        initial_size += increment  # Increase the size for the next square\n",
    "\n",
    "# Set up the window and turtle\n",
    "wn = turtle.Screen()\n",
    "wn.bgcolor(\"lightgreen\")\n",
    "wn.title(\"Nested Squares\")\n",
    "\n",
    "alex = turtle.Turtle()\n",
    "alex.color(\"hotpink\")\n",
    "alex.pensize(5)\n",
    "\n",
    "# Draw nested squares\n",
    "draw_nested_squares(alex, 20, 20, 5)  # Draw 5 nested squares\n",
    "\n",
    "wn.mainloop()  # Wait for the user to close the window\n"
   ]
  },
  {
   "cell_type": "code",
   "execution_count": null,
   "metadata": {},
   "outputs": [],
   "source": [
    "import turtle\n",
    "scrn = turtle.Screen()\n",
    "scrn.screensize(500, 500)\n",
    "scrn.bgcolor('lightgreen')\n",
    "mike = turtle.Turtle()\n",
    "mike.shape('turtle')\n",
    "mike.color('hotpink')\n",
    "mike.pensize(5)\n",
    "length = [20, 40, 60, 80, 100]\n",
    "\n",
    "def square(y):\n",
    "    x=-y/2\n",
    "    mike.penup()\n",
    "    mike.goto(x, y/2)\n",
    "    mike.pendown()\n",
    "    for side in range(4):\n",
    "        mike.forward(y)\n",
    "        mike.right(90)\n",
    "\n",
    "for num in length:\n",
    "    square(num)\n",
    "\n",
    "turtle.Screen().exitonclick()\n"
   ]
  },
  {
   "cell_type": "code",
   "execution_count": null,
   "metadata": {},
   "outputs": [],
   "source": [
    "import turtle\n",
    "\n",
    "def draw_square(t, sz):\n",
    "    \"\"\"Function to make turtle t draw a square of sz side length.\"\"\"\n",
    "    for i in range(4):\n",
    "        t.forward(sz)\n",
    "        t.left(90)\n",
    "\n",
    "def draw_rotating_nested_squares(t, initial_size, increment, num_squares, rotation_angle):\n",
    "    \"\"\"Draw nested squares that are rotated slightly from each other.\"\"\"\n",
    "    for i in range(num_squares):\n",
    "        # Move turtle to the new starting point\n",
    "        t.penup()\n",
    "        t.goto(-initial_size / 2, initial_size / 2)  # Centering the square\n",
    "        t.pendown()\n",
    "        draw_square(t, initial_size)\n",
    "        initial_size += increment  # Increase the size for the next square\n",
    "        # Rotate the turtle for the next square\n",
    "        t.right(rotation_angle)\n",
    "\n",
    "# Set up the window and turtle\n",
    "wn = turtle.Screen()\n",
    "wn.bgcolor(\"lightgreen\")\n",
    "wn.title(\"Rotating Nested Squares\")\n",
    "\n",
    "alex = turtle.Turtle()\n",
    "alex.color(\"hotpink\")\n",
    "alex.pensize(3)\n",
    "\n",
    "# Draw nested, rotating squares\n",
    "draw_rotating_nested_squares(alex, 20, 20, 5, 20)  # Adjust '20' to change the rotation angle\n",
    "\n",
    "wn.mainloop()  # Wait for the user to close the window\n"
   ]
  },
  {
   "cell_type": "code",
   "execution_count": null,
   "metadata": {},
   "outputs": [],
   "source": [
    "import turtle\n",
    "cav = turtle.Screen()\n",
    "cav.bgcolor(\"lightblue\")\n",
    "cav.title(\"Alex is dancing too much!\")\n",
    "\n",
    "alex = turtle.Turtle()\n",
    "alex.color(\"hotpink\")\n",
    "\n"
   ]
  },
  {
   "cell_type": "markdown",
   "metadata": {},
   "source": [
    "3. Write a void function draw_poly(t, n, sz) which makes a turtle draw a regular polygon.\n",
    "When called with draw_poly(tess, 8, 50), it will draw a shape like this:"
   ]
  },
  {
   "cell_type": "code",
   "execution_count": 67,
   "metadata": {},
   "outputs": [],
   "source": [
    "import turtle\n",
    "\n",
    "def draw_poly(t, n, sz):\n",
    "    \"\"\"Function to make turtle t draw a square of sz side length.\"\"\"\n",
    "    for i in range(n):\n",
    "        turtle.forward(n) \n",
    "        turtle.right(360 / n) \n",
    "    size = sz  \n",
    "    cav = turtle.Screen()\n",
    "    cav.bgcolor(\"lightgreen\")\n",
    "    cav.title(\"Alex is dancing too much!\")\n",
    "\n",
    "    alex = turtle.Turtle()\n",
    "    alex.color(\"hotpink\")\n",
    "    alex.pensize(5)"
   ]
  },
  {
   "cell_type": "code",
   "execution_count": 69,
   "metadata": {},
   "outputs": [],
   "source": [
    "draw_poly(tess, 8, 50)"
   ]
  },
  {
   "cell_type": "code",
   "execution_count": 72,
   "metadata": {},
   "outputs": [],
   "source": [
    "import turtle\n",
    "\n",
    "def draw_poly(t, n, sz):\n",
    "    \"\"\"Function to make turtle t draw a regular polygon with n sides of length sz.\"\"\"\n",
    "    for i in range(n):\n",
    "        t.forward(sz)\n",
    "        t.right(360 / n)\n",
    "\n",
    "# Setup the window and turtle\n",
    "cav = turtle.Screen()\n",
    "cav.bgcolor(\"lightgreen\")\n",
    "cav.title(\"Alex is drawing polygons!\")\n",
    "\n",
    "alex = turtle.Turtle()\n",
    "alex.color(\"hotpink\")\n",
    "alex.pensize(5)\n",
    "\n",
    "# Draw a regular polygon with 8 sides of length 50\n",
    "draw_poly(alex, 8, 50)\n",
    "\n",
    "cav.mainloop()  # Wait for the user to close the window\n"
   ]
  },
  {
   "cell_type": "markdown",
   "metadata": {},
   "source": [
    "# Chapter 5: Conditionals"
   ]
  },
  {
   "cell_type": "code",
   "execution_count": 73,
   "metadata": {},
   "outputs": [
    {
     "data": {
      "text/plain": [
       "bool"
      ]
     },
     "execution_count": 73,
     "metadata": {},
     "output_type": "execute_result"
    }
   ],
   "source": [
    "type(True)"
   ]
  },
  {
   "cell_type": "code",
   "execution_count": 74,
   "metadata": {},
   "outputs": [
    {
     "name": "stdout",
     "output_type": "stream",
     "text": [
      "X is an even number\n"
     ]
    }
   ],
   "source": [
    "if x % 2 ==0:\n",
    "    print(\"X is an even number\")\n",
    "else:\n",
    "    print(\"X is an odd number\")"
   ]
  },
  {
   "cell_type": "code",
   "execution_count": 82,
   "metadata": {},
   "outputs": [
    {
     "name": "stdout",
     "output_type": "stream",
     "text": [
      "The square root of  10 is 3.1622776601683795\n"
     ]
    }
   ],
   "source": [
    "import math\n",
    "x = 10\n",
    "if x < 0:\n",
    "    print(\"The negative number \", x, \" is not valid\")\n",
    "    x = 42\n",
    "    print(\"I have decided to use the number 42 instead\")\n",
    "print(\"The square root of \", x, \"is\", math.sqrt(x))"
   ]
  },
  {
   "cell_type": "code",
   "execution_count": 83,
   "metadata": {},
   "outputs": [
    {
     "name": "stdout",
     "output_type": "stream",
     "text": [
      "10\n"
     ]
    }
   ],
   "source": [
    "print(x)"
   ]
  },
  {
   "cell_type": "code",
   "execution_count": 84,
   "metadata": {},
   "outputs": [
    {
     "name": "stdout",
     "output_type": "stream",
     "text": [
      "x is a positive single digit!\n"
     ]
    }
   ],
   "source": [
    "x = 8\n",
    "if 0 < x:\n",
    "    if x < 10:\n",
    "        print(\"x is a positive single digit!\")"
   ]
  },
  {
   "cell_type": "code",
   "execution_count": 85,
   "metadata": {},
   "outputs": [
    {
     "name": "stdout",
     "output_type": "stream",
     "text": [
      "X is a positive single digit!\n"
     ]
    }
   ],
   "source": [
    "x = 8\n",
    "if 0 < x and x < 10:\n",
    "    print(\"X is a positive single digit!\")"
   ]
  },
  {
   "cell_type": "code",
   "execution_count": 88,
   "metadata": {},
   "outputs": [],
   "source": [
    "def print_square_root(x):\n",
    "    if x < 0:\n",
    "        print(\"Positive number only, please\")\n",
    "        return\n",
    "    result = x**0.5\n",
    "    print(\"The Square root of\", x, \"is\", result)"
   ]
  },
  {
   "cell_type": "code",
   "execution_count": 89,
   "metadata": {},
   "outputs": [
    {
     "name": "stdout",
     "output_type": "stream",
     "text": [
      "The Square root of 49 is 7.0\n"
     ]
    }
   ],
   "source": [
    "print_square_root(49)"
   ]
  },
  {
   "cell_type": "code",
   "execution_count": null,
   "metadata": {},
   "outputs": [],
   "source": [
    "import turtle\n",
    "xs = [48, 117, 200, 240, 160, 260, 220]\n",
    "\n",
    "def draw_bar(t, height):\n",
    "    t.left(90)\n",
    "    t.forward(height)\n",
    "    t.right(40)\n",
    "    t.forward(40)\n",
    "    t.right(90)\n",
    "    t.forward(height)\n",
    "    t.left(90)\n",
    "    t.forward(10)\n",
    "\n",
    "for v in xs:\n",
    "    draw_bar(tess, v)\n",
    "\n",
    "\n"
   ]
  },
  {
   "cell_type": "code",
   "execution_count": 106,
   "metadata": {},
   "outputs": [
    {
     "ename": "",
     "evalue": "",
     "output_type": "error",
     "traceback": [
      "\u001b[1;31mThe Kernel crashed while executing code in the current cell or a previous cell. \n",
      "\u001b[1;31mPlease review the code in the cell(s) to identify a possible cause of the failure. \n",
      "\u001b[1;31mClick <a href='https://aka.ms/vscodeJupyterKernelCrash'>here</a> for more info. \n",
      "\u001b[1;31mView Jupyter <a href='command:jupyter.viewOutput'>log</a> for further details."
     ]
    }
   ],
   "source": [
    "import turtle\n",
    "\n",
    "# Create a function to draw a single bar\n",
    "def draw_bar(t, height):\n",
    "    t.penup()\n",
    "    t.begin_fill()  # Start filling the color inside the bar, if needed\n",
    "    t.left(90)\n",
    "    t.forward(height)  # Draw the side of the bar\n",
    "    t.write(\" \" + str(height))  # Write the height next to the bar\n",
    "    t.right(90)\n",
    "    t.forward(40)  # Width of the bar, move to the right\n",
    "    t.right(90)\n",
    "    t.forward(height)  # Draw the other side of the bar\n",
    "    t.left(90)\n",
    "    t.end_fill()  # End filling the bar\n",
    "    t.forward(10)  # Space between bars\n",
    "    t.pendown()\n",
    "\n",
    "# Create a turtle screen\n",
    "wn = turtle.Screen()\n",
    "wn.bgcolor(\"lightgreen\")\n",
    "\n",
    "# Create a turtle named tess\n",
    "tess = turtle.Turtle()\n",
    "tess.color(\"blue\", \"red\")  # Set the pen color and fill color\n",
    "tess.pensize(3)\n",
    "\n",
    "# Draw a bar for each value in xs\n",
    "for v in xs:\n",
    "    draw_bar(tess, v)\n",
    "\n",
    "# Wait for the user to end the program\n",
    "wn.mainloop()"
   ]
  },
  {
   "cell_type": "markdown",
   "metadata": {},
   "source": [
    "### Exercises"
   ]
  },
  {
   "cell_type": "markdown",
   "metadata": {},
   "source": [
    "1. Assume the days of the week are numbered 0,1,2,3,4,5,6 from Sunday to Saturday. Write a\n",
    "function which is given the day number, and it returns the day name (a string)."
   ]
  },
  {
   "cell_type": "code",
   "execution_count": 17,
   "metadata": {},
   "outputs": [],
   "source": [
    "def day_num(n):\n",
    "    days = {\n",
    "    0: \"Sunday\",\n",
    "    1: \"Monday\",\n",
    "    2: \"Tuesday\",\n",
    "    3: \"Wednesday\",\n",
    "    4: \"Thursday\",\n",
    "    5: \"Friday\",\n",
    "    6: \"Saturday\"\n",
    "}\n",
    "    if n in range(0,6):\n",
    "        return days[n]\n",
    "    else:\n",
    "        message = \"Invalid Input\"\n",
    "        return message"
   ]
  },
  {
   "cell_type": "code",
   "execution_count": 18,
   "metadata": {},
   "outputs": [
    {
     "name": "stdout",
     "output_type": "stream",
     "text": [
      "Tuesday\n"
     ]
    }
   ],
   "source": [
    "print(day_num(2))"
   ]
  },
  {
   "cell_type": "markdown",
   "metadata": {},
   "source": [
    "2. You go on a wonderful holiday (perhaps to jail, if you don’t like happy exercises) leaving on\n",
    "day number 3 (a Wednesday). You return home after 137 sleeps. Write a general version of the\n",
    "program which asks for the starting day number, and the length of your stay, and it will tell\n",
    "you the name of day of the week you will return on."
   ]
  },
  {
   "cell_type": "code",
   "execution_count": 19,
   "metadata": {},
   "outputs": [
    {
     "name": "stdout",
     "output_type": "stream",
     "text": [
      "You will return on a Monday\n"
     ]
    }
   ],
   "source": [
    "# Function to convert day number to day name\n",
    "def number_to_day(number):\n",
    "    days = [\"Monday\", \"Tuesday\", \"Wednesday\", \"Thursday\", \"Friday\", \"Saturday\", \"Sunday\"]\n",
    "    # Return the day name corresponding to the day number\n",
    "    return days[number % 7]  # Use modulus to cycle through days\n",
    "\n",
    "# Main program starts here\n",
    "def main():\n",
    "    # Ask for the starting day number and the length of stay\n",
    "    start_day = int(input(\"Enter the starting day number (0 for Monday, 1 for Tuesday, ... 6 for Sunday): \"))\n",
    "    length_of_stay = int(input(\"Enter the length of your stay (in days): \"))\n",
    "\n",
    "    # Calculate return day number\n",
    "    return_day_number = (start_day + length_of_stay) % 7\n",
    "\n",
    "    # Convert return day number to return day name\n",
    "    return_day_name = number_to_day(return_day_number)\n",
    "\n",
    "    # Display the result\n",
    "    print(\"You will return on a\", return_day_name)\n",
    "\n",
    "# Call the main function\n",
    "if __name__ == \"__main__\":\n",
    "    main()\n"
   ]
  },
  {
   "cell_type": "markdown",
   "metadata": {},
   "source": [
    "6. Write a function which is given an exam mark, and it returns a string — the grade for that\n",
    "mark — according to this scheme:\n",
    "                Mark Grade\n",
    "                >= 75 First\n",
    "                [70-75) Upper Second\n",
    "                [60-70) Second\n",
    "                [50-60) Third\n",
    "                [45-50) F1 Supp\n",
    "                [40-45) F2\n",
    "                < 40 F3\n",
    "The square and round brackets denote closed and open intervals. A closed interval includes the\n",
    "number, and open interval excludes it. So 39.99999 gets grade F3, but 40 gets grade F2. Assume\n",
    "Chapter 5: Conditionals 92\n",
    "xs = [83, 75, 74.9, 70, 69.9, 65, 60, 59.9, 55, 50, 49.9, 45, 44.9, 40, 39.9, 2, 0]\n",
    "Test your function by printing the mark and the grade for all the elements in this list."
   ]
  },
  {
   "cell_type": "code",
   "execution_count": 20,
   "metadata": {},
   "outputs": [],
   "source": [
    "def grade(g):\n",
    "    if g >= 75:\n",
    "        print(\"First\")\n",
    "    elif g >= 70:\n",
    "        print(\"Upper Second\")\n",
    "    elif g >= 60:\n",
    "        print(\"Second\")\n",
    "    elif g >= 50:\n",
    "        print(\"Third\")\n",
    "    elif g >= 45:\n",
    "        print(\"F1 Supp\")\n",
    "    elif g >= 40:\n",
    "        print(\"F2\")\n",
    "    else:\n",
    "        print(\"F3\")"
   ]
  },
  {
   "cell_type": "code",
   "execution_count": 21,
   "metadata": {},
   "outputs": [
    {
     "name": "stdout",
     "output_type": "stream",
     "text": [
      "Second\n"
     ]
    }
   ],
   "source": [
    "grade(68)"
   ]
  },
  {
   "cell_type": "code",
   "execution_count": 30,
   "metadata": {},
   "outputs": [
    {
     "name": "stdout",
     "output_type": "stream",
     "text": [
      "First\n",
      "First\n",
      "Upper Second\n",
      "Upper Second\n",
      "Second\n",
      "Second\n",
      "Second\n",
      "Third\n",
      "Third\n",
      "Third\n",
      "F1 Supp\n",
      "F1 Supp\n",
      "F2\n",
      "F2\n",
      "F3\n",
      "F3\n",
      "F3\n"
     ]
    }
   ],
   "source": [
    "xs = [83, 75, 74.9, 70, 69.9, 65, 60, 59.9, 55, 50, 49.9, 45, 44.9, 40, 39.9, 2, 0]\n",
    "for i in xs:\n",
    "    grade(i)"
   ]
  },
  {
   "cell_type": "code",
   "execution_count": 29,
   "metadata": {},
   "outputs": [
    {
     "name": "stdout",
     "output_type": "stream",
     "text": [
      "First\n",
      "The grade for 83 is None\n",
      "First\n",
      "The grade for 75 is None\n",
      "Upper Second\n",
      "The grade for 74.9 is None\n",
      "Upper Second\n",
      "The grade for 70 is None\n",
      "Second\n",
      "The grade for 69.9 is None\n",
      "Second\n",
      "The grade for 65 is None\n",
      "Second\n",
      "The grade for 60 is None\n",
      "Third\n",
      "The grade for 59.9 is None\n",
      "Third\n",
      "The grade for 55 is None\n",
      "Third\n",
      "The grade for 50 is None\n",
      "F1 Supp\n",
      "The grade for 49.9 is None\n",
      "F1 Supp\n",
      "The grade for 45 is None\n",
      "F2\n",
      "The grade for 44.9 is None\n",
      "F2\n",
      "The grade for 40 is None\n",
      "F3\n",
      "The grade for 39.9 is None\n",
      "F3\n",
      "The grade for 2 is None\n",
      "F3\n",
      "The grade for 0 is None\n"
     ]
    }
   ],
   "source": [
    "xs = [83, 75, 74.9, 70, 69.9, 65, 60, 59.9, 55, 50, 49.9, 45, 44.9, 40, 39.9, 2, 0]\n",
    "for score in xs:\n",
    "    print(\"The grade for\", score, \"is\", grade(score))\n",
    "\n"
   ]
  },
  {
   "cell_type": "markdown",
   "metadata": {},
   "source": [
    "7. Modify the turtle bar chart program so that the pen is up for the small gaps between each bar."
   ]
  },
  {
   "cell_type": "code",
   "execution_count": null,
   "metadata": {},
   "outputs": [],
   "source": [
    "import turtle\n",
    "xs = [48, 117, 200, 240, 160, 260, 220]\n",
    "# Create a function to draw a single bar\n",
    "def draw_bar(t, height):\n",
    "    t.penup()\n",
    "    t.begin_fill()  # Start filling the color inside the bar, if needed\n",
    "    t.left(90)\n",
    "    t.forward(height)  # Draw the side of the bar\n",
    "    t.write(\" \" + str(height))  # Write the height next to the bar\n",
    "    t.right(90)\n",
    "    t.forward(40)  # Width of the bar, move to the right\n",
    "    t.right(90)\n",
    "    t.forward(height)  # Draw the other side of the bar\n",
    "    t.left(90)\n",
    "    t.end_fill()  # End filling the bar\n",
    "    t.forward(10)  # Space between bars\n",
    "    t.pendown()\n",
    "\n",
    "# Create a turtle screen\n",
    "wn = turtle.Screen()\n",
    "wn.bgcolor(\"lightgreen\")\n",
    "\n",
    "# Create a turtle named tess\n",
    "tess = turtle.Turtle()\n",
    "tess.color(\"blue\", \"red\")  # Set the pen color and fill color\n",
    "tess.pensize(3)\n",
    "\n",
    "# Draw a bar for each value in xs\n",
    "for v in xs:\n",
    "    draw_bar(tess, v)\n",
    "\n",
    "# Wait for the user to end the program\n",
    "wn.mainloop()"
   ]
  },
  {
   "cell_type": "markdown",
   "metadata": {},
   "source": [
    "8. Modify the turtle bar chart program so that the bar for any value of 200 or more is filled with\n",
    "red, values between [100 and 200) are filled with yellow, and bars representing values less than\n",
    "100 are filled with green."
   ]
  },
  {
   "cell_type": "code",
   "execution_count": 38,
   "metadata": {},
   "outputs": [],
   "source": [
    "import turtle\n",
    "xs = [48, 117, 200, 240, 160, 260, 220]\n",
    "# Create a function to draw a single bar\n",
    "def draw_bar(t, height):\n",
    "    t.penup()\n",
    "    t.begin_fill()  # Start filling the color inside the bar, if needed\n",
    "    t.left(90)\n",
    "    t.forward(height)  # Draw the side of the bar\n",
    "    t.write(\" \" + str(height))  # Write the height next to the bar\n",
    "    t.right(90)\n",
    "    t.forward(40)  # Width of the bar, move to the right\n",
    "    t.right(90)\n",
    "    t.forward(height)  # Draw the other side of the bar\n",
    "    t.left(90)\n",
    "    t.end_fill()  # End filling the bar\n",
    "    t.forward(10)  # Space between bars\n",
    "    t.pendown()\n",
    "\n",
    "# Create a turtle screen\n",
    "wn = turtle.Screen()\n",
    "wn.bgcolor(\"lightgreen\")\n",
    "\n",
    "# Create a turtle named tess\n",
    "tess = turtle.Turtle()\n",
    "#tess.color(\"blue\", \"red\")  # Set the pen color and fill color\n",
    "tess.pensize(3)\n",
    "\n",
    "# Draw a bar for each value in xs\n",
    "for v in xs:\n",
    "    if v > 200:\n",
    "        tess.color(\"red\")\n",
    "    elif v >=100:\n",
    "        tess.color(\"yellow\")\n",
    "    else:\n",
    "        tess.color(\"green\")\n",
    "    draw_bar(tess, v)\n",
    "\n",
    "# Wait for the user to end the program\n",
    "wn.mainloop()"
   ]
  },
  {
   "cell_type": "markdown",
   "metadata": {},
   "source": [
    "9. In the turtle bar chart program, what do you expect to happen if one or more of the data values\n",
    "in the list is negative? Try it out. Change the program so that when it prints the text value for\n",
    "the negative bars, it puts the text below the bottom of the bar."
   ]
  },
  {
   "cell_type": "code",
   "execution_count": 40,
   "metadata": {},
   "outputs": [],
   "source": [
    "import turtle\n",
    "xs = [48, 117, -200, 240, 160, 260, 220]\n",
    "# Create a function to draw a single bar\n",
    "def draw_bar(t, height):\n",
    "    t.penup()\n",
    "    t.begin_fill()  # Start filling the color inside the bar, if needed\n",
    "    t.left(90)\n",
    "    t.forward(height)  # Draw the side of the bar\n",
    "    t.write(\" \" + str(height))  # Write the height next to the bar\n",
    "    t.right(90)\n",
    "    t.forward(40)  # Width of the bar, move to the right\n",
    "    t.right(90)\n",
    "    t.forward(height)  # Draw the other side of the bar\n",
    "    t.left(90)\n",
    "    t.end_fill()  # End filling the bar\n",
    "    t.forward(10)  # Space between bars\n",
    "    t.pendown()\n",
    "\n",
    "# Create a turtle screen\n",
    "wn = turtle.Screen()\n",
    "wn.bgcolor(\"lightgreen\")\n",
    "\n",
    "# Create a turtle named tess\n",
    "tess = turtle.Turtle()\n",
    "#tess.color(\"blue\", \"red\")  # Set the pen color and fill color\n",
    "tess.pensize(3)\n",
    "\n",
    "# Draw a bar for each value in xs\n",
    "for v in xs:\n",
    "    if v > 200:\n",
    "        tess.color(\"red\")\n",
    "    elif v >=100:\n",
    "        tess.color(\"yellow\")\n",
    "    else:\n",
    "        tess.color(\"green\")\n",
    "    draw_bar(tess, v)\n",
    "\n",
    "# Wait for the user to end the program\n",
    "wn.mainloop()"
   ]
  },
  {
   "cell_type": "markdown",
   "metadata": {},
   "source": [
    "10. Write a function find_hypot which, given the length of two sides of a right-angled triangle,\n",
    "returns the length of the hypotenuse. (Hint: x ** 0.5 will return the square root.)"
   ]
  },
  {
   "cell_type": "code",
   "execution_count": 43,
   "metadata": {},
   "outputs": [],
   "source": [
    "def find_hypot(a, b):\n",
    "    c = ((a**2) + (b**2))**0.5\n",
    "    return c"
   ]
  },
  {
   "cell_type": "code",
   "execution_count": 44,
   "metadata": {},
   "outputs": [
    {
     "data": {
      "text/plain": [
       "5.0"
      ]
     },
     "execution_count": 44,
     "metadata": {},
     "output_type": "execute_result"
    }
   ],
   "source": [
    "find_hypot(3,4)"
   ]
  },
  {
   "cell_type": "markdown",
   "metadata": {},
   "source": [
    "11. Write a function is_rightangled which, given the length of three sides of a triangle, will\n",
    "determine whether the triangle is right-angled. Assume that the third argument to the function\n",
    "is always the longest side. It will return True if the triangle is right-angled, or False otherwise.\n",
    "Hint: Floating point arithmetic is not always exactly accurate, so it is not safe to test floating\n",
    "point numbers for equality. If a good programmer wants to know whether x is equal or close\n",
    "enough to y, they would probably code it up as:"
   ]
  },
  {
   "cell_type": "code",
   "execution_count": 45,
   "metadata": {},
   "outputs": [],
   "source": [
    "def is_rightangled(a, b, c):\n",
    "    if c > a and c > b:\n",
    "        print(\"The triangle is right angled!\")\n",
    "    else:\n",
    "        print(\"The triangle is not right angled!\")\n"
   ]
  },
  {
   "cell_type": "code",
   "execution_count": 46,
   "metadata": {},
   "outputs": [
    {
     "name": "stdout",
     "output_type": "stream",
     "text": [
      "The triangle is right angled!\n"
     ]
    }
   ],
   "source": [
    "is_rightangled(3, 4, 5)"
   ]
  },
  {
   "cell_type": "code",
   "execution_count": 47,
   "metadata": {},
   "outputs": [
    {
     "name": "stdout",
     "output_type": "stream",
     "text": [
      "The triangle is not right angled!\n"
     ]
    }
   ],
   "source": [
    "is_rightangled(5, 4, 5)"
   ]
  },
  {
   "cell_type": "markdown",
   "metadata": {},
   "source": [
    "# Chapter 6: Fruitful Functions"
   ]
  },
  {
   "cell_type": "code",
   "execution_count": 48,
   "metadata": {},
   "outputs": [],
   "source": [
    "def area(radius):\n",
    "    a = 3.14159 * radius**2\n",
    "    return a\n",
    " "
   ]
  },
  {
   "cell_type": "code",
   "execution_count": 49,
   "metadata": {},
   "outputs": [
    {
     "data": {
      "text/plain": [
       "314.159"
      ]
     },
     "execution_count": 49,
     "metadata": {},
     "output_type": "execute_result"
    }
   ],
   "source": [
    "area(10)"
   ]
  },
  {
   "cell_type": "code",
   "execution_count": 50,
   "metadata": {},
   "outputs": [],
   "source": [
    "def is_divisible(x, y):\n",
    "    return x %y == 0"
   ]
  },
  {
   "cell_type": "code",
   "execution_count": 51,
   "metadata": {},
   "outputs": [
    {
     "data": {
      "text/plain": [
       "False"
      ]
     },
     "execution_count": 51,
     "metadata": {},
     "output_type": "execute_result"
    }
   ],
   "source": [
    "is_divisible(6, 4)"
   ]
  },
  {
   "cell_type": "code",
   "execution_count": 52,
   "metadata": {},
   "outputs": [
    {
     "data": {
      "text/plain": [
       "True"
      ]
     },
     "execution_count": 52,
     "metadata": {},
     "output_type": "execute_result"
    }
   ],
   "source": [
    "is_divisible(6, 3)"
   ]
  },
  {
   "cell_type": "code",
   "execution_count": 53,
   "metadata": {},
   "outputs": [],
   "source": [
    "def absolute_value(x):\n",
    "    if x < 0:\n",
    "        return -x\n",
    "    else:\n",
    "        return x    "
   ]
  },
  {
   "cell_type": "code",
   "execution_count": 59,
   "metadata": {},
   "outputs": [],
   "source": [
    "import sys\n",
    "def test(did_pass):\n",
    "    \"\"\" Print the result of the test. \"\"\"\n",
    "    linenum = sys._getframe(1).f_lineno # Get the callers line number\n",
    "\n",
    "    if did_pass:\n",
    "        msg = \"Test at line {0} ok.\".format(linenum)\n",
    "    else:\n",
    "        msg = \"Test at line {0} FAILED\".format(linenum)\n",
    "    print(msg)"
   ]
  },
  {
   "cell_type": "code",
   "execution_count": 60,
   "metadata": {},
   "outputs": [
    {
     "name": "stdout",
     "output_type": "stream",
     "text": [
      "Test at line 3 ok.\n",
      "Test at line 4 ok.\n",
      "Test at line 5 ok.\n",
      "Test at line 6 ok.\n",
      "Test at line 7 ok.\n"
     ]
    }
   ],
   "source": [
    "def test_suite():\n",
    "    \"\"\" Run the suite of test for code in this module. \"\"\"\n",
    "    test(absolute_value(17) == 17)\n",
    "    test(absolute_value(-17) == 17)\n",
    "    test(absolute_value(0) == 0)\n",
    "    test(absolute_value(3.14) == 3.14)\n",
    "    test(absolute_value(-3.14) == 3.14)\n",
    "  \n",
    "\n",
    "test_suite()"
   ]
  },
  {
   "cell_type": "markdown",
   "metadata": {},
   "source": [
    "# 6.9. Exercises"
   ]
  },
  {
   "cell_type": "markdown",
   "metadata": {},
   "source": [
    "1. The four compass points can be abbreviated by single-letter strings as “N”, “E”, “S”, and “W”.\n",
    "Write a function turn_clockwise that takes one of these four compass points as its parameter,\n",
    "and returns the next compass point in the clockwise direction. Here are some tests that should\n",
    "pass:\n",
    "            1 test(turn_clockwise(\"N\") == \"E\")\n",
    "            2 test(turn_clockwise(\"W\") == \"N\")\n",
    "You might ask “What if the argument to the function is some other value?” For all other cases,\n",
    "the function should return the value None:\n",
    "            1 test(turn_clockwise(42) == None)\n",
    "            2 test(turn_clockwise(\"rubbish\") == None)"
   ]
  },
  {
   "cell_type": "code",
   "execution_count": 80,
   "metadata": {},
   "outputs": [],
   "source": [
    "def turn_clockwise(t):\n",
    "    c = [\"N\", \"E\", \"S\", \"W\"]  # Compass directions\n",
    "    if t in c:\n",
    "        # Find the index of the current direction and compute the index of the next direction\n",
    "        next_index = (c.index(t) + 1) % len(c)\n",
    "        return c[next_index]  # Return the next direction\n",
    "    return None  # Return None if the input is not a valid direction\n"
   ]
  },
  {
   "cell_type": "code",
   "execution_count": 84,
   "metadata": {},
   "outputs": [],
   "source": [
    "def turn_clockwise(t):\n",
    "    c = [\"N\", \"E\", \"S\", \"W\"]\n",
    "    if t in c:\n",
    "        next_index = (c.index(t) + 1) % len(c)\n",
    "        return c[next_index]"
   ]
  },
  {
   "cell_type": "code",
   "execution_count": 85,
   "metadata": {},
   "outputs": [
    {
     "data": {
      "text/plain": [
       "True"
      ]
     },
     "execution_count": 85,
     "metadata": {},
     "output_type": "execute_result"
    }
   ],
   "source": [
    "turn_clockwise(\"N\") == \"E\"\n",
    "turn_clockwise(\"W\") == \"N\""
   ]
  },
  {
   "cell_type": "code",
   "execution_count": 87,
   "metadata": {},
   "outputs": [
    {
     "name": "stdout",
     "output_type": "stream",
     "text": [
      "Test at line 1 ok.\n",
      "Test at line 2 ok.\n",
      "Test at line 3 ok.\n",
      "Test at line 4 ok.\n"
     ]
    }
   ],
   "source": [
    "test(turn_clockwise(\"N\") == \"E\")\n",
    "test(turn_clockwise(\"W\") == \"N\")\n",
    "test(turn_clockwise(42) == None)\n",
    "test(turn_clockwise(\"rubbish\") == None)"
   ]
  },
  {
   "cell_type": "markdown",
   "metadata": {},
   "source": [
    "2. Write a function day_name that converts an integer number 0 to 6 into the name of a day.\n",
    "Assume day 0 is “Sunday”. Once again, return None if the arguments to the function are not\n",
    "valid. Here are some tests that should pass:\n",
    "            1 test(day_name(3) == \"Wednesday\")\n",
    "            2 test(day_name(6) == \"Saturday\")\n",
    "            3 test(day_name(42) == None)"
   ]
  },
  {
   "cell_type": "code",
   "execution_count": 92,
   "metadata": {},
   "outputs": [],
   "source": [
    "def day_name(n):\n",
    "    days = {\n",
    "    0: \"Sunday\",\n",
    "    1: \"Monday\",\n",
    "    2: \"Tuesday\",\n",
    "    3: \"Wednesday\",\n",
    "    4: \"Thursday\",\n",
    "    5: \"Friday\",\n",
    "    6: \"Saturday\"\n",
    "}\n",
    "    if n in range(0,7):\n",
    "        return days[n]\n",
    "    else:\n",
    "        message = \"Invalid Input\"\n",
    "        return message"
   ]
  },
  {
   "cell_type": "code",
   "execution_count": 93,
   "metadata": {},
   "outputs": [
    {
     "name": "stdout",
     "output_type": "stream",
     "text": [
      "Test at line 1 ok.\n",
      "Test at line 2 ok.\n",
      "Test at line 3 FAILED\n"
     ]
    }
   ],
   "source": [
    "test(day_name(3) == \"Wednesday\")\n",
    "test(day_name(6) == \"Saturday\")\n",
    "test(day_name(42) == None)"
   ]
  },
  {
   "cell_type": "code",
   "execution_count": 95,
   "metadata": {},
   "outputs": [
    {
     "name": "stdout",
     "output_type": "stream",
     "text": [
      "Test at line 27 ok.\n",
      "Test at line 28 ok.\n",
      "Test at line 29 ok.\n"
     ]
    }
   ],
   "source": [
    "import sys\n",
    "def day_name(n):\n",
    "    days = {\n",
    "        0: \"Sunday\",\n",
    "        1: \"Monday\",\n",
    "        2: \"Tuesday\",\n",
    "        3: \"Wednesday\",\n",
    "        4: \"Thursday\",\n",
    "        5: \"Friday\",\n",
    "        6: \"Saturday\"\n",
    "    }\n",
    "    if n in range(0, 7):  # Corrected range\n",
    "        return days[n]\n",
    "    else:\n",
    "        return None  # Changed to return None for consistency with your test cases\n",
    "\n",
    "# Define a simple test function\n",
    "def test(condition):\n",
    "    linenum = sys._getframe(1).f_lineno  # Get the caller's line number\n",
    "    if condition:\n",
    "        msg = f\"Test at line {linenum} ok.\"\n",
    "    else:\n",
    "        msg = f\"Test at line {linenum} FAILED.\"\n",
    "    print(msg)\n",
    "\n",
    "# Test cases\n",
    "test(day_name(3) == \"Wednesday\")\n",
    "test(day_name(6) == \"Saturday\")\n",
    "test(day_name(42) == None)\n"
   ]
  },
  {
   "cell_type": "markdown",
   "metadata": {},
   "source": [
    "3. Write the inverse function day_num which is given a day name, and returns its number:\n",
    "            1 test(day_num(\"Friday\") == 5)\n",
    "            2 test(day_num(\"Sunday\") == 0)\n",
    "            3 test(day_num(day_name(3)) == 3)\n",
    "            4 test(day_name(day_num(\"Thursday\")) == \"Thursday\")\n",
    "Once again, if this function is given an invalid argument, it should return None:\n",
    "            1 test(day_num(\"Halloween\") == None)"
   ]
  },
  {
   "cell_type": "code",
   "execution_count": 106,
   "metadata": {},
   "outputs": [],
   "source": [
    "def day_num(dname):\n",
    "    days = {\n",
    "    \"Sunday\": 0,\n",
    "    \"Monday\": 1,\n",
    "    \"Tuesday\": 2,\n",
    "    \"Wednesday\": 3,\n",
    "    \"Thursday\": 4,\n",
    "    \"Friday\": 5,\n",
    "    \"Saturday\": 6\n",
    "    }\n",
    "    return days.get(dname, None)  # Use .get to return None if day_name is not found"
   ]
  },
  {
   "cell_type": "code",
   "execution_count": 108,
   "metadata": {},
   "outputs": [
    {
     "name": "stdout",
     "output_type": "stream",
     "text": [
      "Test at line 1 ok.\n",
      "Test at line 2 ok.\n",
      "Test at line 3 ok.\n",
      "Test at line 4 ok.\n"
     ]
    }
   ],
   "source": [
    "test(day_num(\"Friday\") == 5)\n",
    "test(day_num(\"Sunday\") == 0)\n",
    "test(day_num(day_name(3)) == 3)\n",
    "test(day_name(day_num(\"Thursday\")) == \"Thursday\")"
   ]
  },
  {
   "cell_type": "code",
   "execution_count": 110,
   "metadata": {},
   "outputs": [
    {
     "name": "stdout",
     "output_type": "stream",
     "text": [
      "Test at line 1 ok.\n"
     ]
    }
   ],
   "source": [
    " test(day_num(\"Halloween\") == None)"
   ]
  },
  {
   "cell_type": "markdown",
   "metadata": {},
   "source": [
    "4. Write a function that helps answer questions like ‘“Today is Wednesday. I leave on holiday\n",
    "in 19 days time. What day will that be?”’ So the function must take a day name and a delta\n",
    "argument — the number of days to add — and should return the resulting day name:\n",
    "            1 test(day_add(\"Monday\", 4) == \"Friday\")\n",
    "            2 test(day_add(\"Tuesday\", 0) == \"Tuesday\")\n",
    "            3 test(day_add(\"Tuesday\", 14) == \"Tuesday\")\n",
    "            4 test(day_add(\"Sunday\", 100) == \"Tuesday\")\n",
    "Hint: use the first two functions written above to help you write this one."
   ]
  },
  {
   "cell_type": "code",
   "execution_count": 111,
   "metadata": {},
   "outputs": [],
   "source": [
    "def day_add(today, stay):\n",
    "    today = day_num(today)\n",
    "    day_back = (stay % 7) + today\n",
    "    result = day_name(day_back)\n",
    "    return (result)"
   ]
  },
  {
   "cell_type": "code",
   "execution_count": 112,
   "metadata": {},
   "outputs": [
    {
     "name": "stdout",
     "output_type": "stream",
     "text": [
      "Test at line 1 ok.\n",
      "Test at line 2 ok.\n",
      "Test at line 3 ok.\n",
      "Test at line 4 ok.\n"
     ]
    }
   ],
   "source": [
    "test(day_add(\"Monday\", 4) == \"Friday\")\n",
    "test(day_add(\"Tuesday\", 0) == \"Tuesday\")\n",
    "test(day_add(\"Tuesday\", 14) == \"Tuesday\")\n",
    "test(day_add(\"Sunday\", 100) == \"Tuesday\")"
   ]
  },
  {
   "cell_type": "markdown",
   "metadata": {},
   "source": [
    "5. Can your day_add function already work with negative deltas? For example, -1 would be\n",
    "yesterday, or -7 would be a week ago:\n",
    "            1 test(day_add(\"Sunday\", -1) == \"Saturday\")\n",
    "            2 test(day_add(\"Sunday\", -7) == \"Sunday\")\n",
    "            3 test(day_add(\"Tuesday\", -100) == \"Sunday\")\n",
    "If your function already works, explain why. If it does"
   ]
  },
  {
   "cell_type": "code",
   "execution_count": 113,
   "metadata": {},
   "outputs": [
    {
     "name": "stdout",
     "output_type": "stream",
     "text": [
      "Test at line 1 ok.\n",
      "Test at line 2 ok.\n",
      "Test at line 3 FAILED.\n"
     ]
    }
   ],
   "source": [
    "test(day_add(\"Sunday\", -1) == \"Saturday\")\n",
    "test(day_add(\"Sunday\", -7) == \"Sunday\")\n",
    "test(day_add(\"Tuesday\", -100) == \"Sunday\")"
   ]
  },
  {
   "cell_type": "markdown",
   "metadata": {},
   "source": [
    "6. Write a function days_in_month which takes the name of a month, and returns the number of\n",
    "days in the month. Ignore leap years:\n",
    "        1 test(days_in_month(\"February\") == 28)\n",
    "        2 test(days_in_month(\"December\") == 31)"
   ]
  },
  {
   "cell_type": "code",
   "execution_count": 116,
   "metadata": {},
   "outputs": [],
   "source": [
    "def days_in_month(nmonth):\n",
    "    months = {\n",
    "        \"January\": 31,\n",
    "        \"February\": 28,\n",
    "        \"March\": 31,\n",
    "        \"April\": 30,\n",
    "        \"May\": 31,\n",
    "        \"June\": 30,\n",
    "        \"July\": 31,\n",
    "        \"August\": 31,\n",
    "        \"September\": 30,\n",
    "        \"October\": 31,\n",
    "        \"November\": 30,\n",
    "        \"December\": 31\n",
    "    }\n",
    "    return months.get(nmonth, \"Invalid Month\")  # Returns 'Invalid Month' if month_num is not valid\n"
   ]
  },
  {
   "cell_type": "code",
   "execution_count": 117,
   "metadata": {},
   "outputs": [
    {
     "name": "stdout",
     "output_type": "stream",
     "text": [
      "Test at line 1 ok.\n",
      "Test at line 2 ok.\n"
     ]
    }
   ],
   "source": [
    "test(days_in_month(\"February\") == 28)\n",
    "test(days_in_month(\"December\") == 31)"
   ]
  },
  {
   "cell_type": "markdown",
   "metadata": {},
   "source": [
    "7. Write a function to_secs that converts hours, minutes and seconds to a total number of seconds.\n",
    "Here are some tests that should pass:\n",
    "                1 test(to_secs(2, 30, 10) == 9010)\n",
    "                2 test(to_secs(2, 0, 0) == 7200)\n",
    "                3 test(to_secs(0, 2, 0) == 120)\n",
    "                4 test(to_secs(0, 0, 42) == 42)\n",
    "                5 test(to_secs(0, -10, 10) == -590)\n",
    "8. Extend to_secs so that it can cope with real"
   ]
  },
  {
   "cell_type": "code",
   "execution_count": 131,
   "metadata": {},
   "outputs": [],
   "source": [
    "def to_secs (hr, minu, secs):\n",
    "    secs = hr * 3600 + minu * 60 + secs\n",
    "    return secs"
   ]
  },
  {
   "cell_type": "code",
   "execution_count": 132,
   "metadata": {},
   "outputs": [
    {
     "name": "stdout",
     "output_type": "stream",
     "text": [
      "Test at line 1 ok.\n",
      "Test at line 2 ok.\n",
      "Test at line 3 ok.\n",
      "Test at line 4 ok.\n",
      "Test at line 5 ok.\n"
     ]
    }
   ],
   "source": [
    "test(to_secs(2, 30, 10) == 9010)\n",
    "test(to_secs(2, 0, 0) == 7200)\n",
    "test(to_secs(0, 2, 0) == 120)\n",
    "test(to_secs(0, 0, 42) == 42)\n",
    "test(to_secs(0, -10, 10) == -590)"
   ]
  },
  {
   "cell_type": "code",
   "execution_count": 133,
   "metadata": {},
   "outputs": [
    {
     "data": {
      "text/plain": [
       "9010"
      ]
     },
     "execution_count": 133,
     "metadata": {},
     "output_type": "execute_result"
    }
   ],
   "source": [
    "to_secs(2, 30, 10)"
   ]
  },
  {
   "cell_type": "markdown",
   "metadata": {},
   "source": [
    "8. Extend to_secs so that it can cope with real values as inputs. It should always return an integer\n",
    "number of seconds (truncated towards zero):\n",
    "            1 test(to_secs(2.5, 0, 10.71) == 9010)\n",
    "            2 test(to_secs(2.433,0,0) == 8758)"
   ]
  },
  {
   "cell_type": "code",
   "execution_count": 135,
   "metadata": {},
   "outputs": [],
   "source": [
    "def to_secs (hr, minu, secs):\n",
    "    secs = int(hr * 3600 + minu * 60 + secs)\n",
    "    return secs"
   ]
  },
  {
   "cell_type": "code",
   "execution_count": 136,
   "metadata": {},
   "outputs": [
    {
     "name": "stdout",
     "output_type": "stream",
     "text": [
      "Test at line 1 ok.\n",
      "Test at line 2 ok.\n"
     ]
    }
   ],
   "source": [
    "test(to_secs(2.5, 0, 10.71) == 9010)\n",
    "test(to_secs(2.433,0,0) == 8758)"
   ]
  },
  {
   "cell_type": "markdown",
   "metadata": {},
   "source": [
    "9. Write three functions that are the “inverses” of to_secs:\n",
    "1. hours_in returns the whole integer number of hours represented by a total number of\n",
    "seconds.\n",
    "2. minutes_in returns the whole integer number of left over minutes in a total number of\n",
    "seconds, once the hours have been taken out.\n",
    "3. seconds_in returns the left over seconds represented by a total number of seconds.\n",
    "You may assume that the total number of seconds passed to these functions is an integer. Here\n",
    "are some test cases:\n",
    "        1 test(hours_in(9010) == 2)\n",
    "        2 test(minutes_in(9010) == 30)\n",
    "        3 test(seconds_in(9010) == 10)"
   ]
  },
  {
   "cell_type": "code",
   "execution_count": 148,
   "metadata": {},
   "outputs": [],
   "source": [
    "def hours_in(secs):\n",
    "    return int(secs//3600)"
   ]
  },
  {
   "cell_type": "code",
   "execution_count": 157,
   "metadata": {},
   "outputs": [],
   "source": [
    "def minutes_in(secs):\n",
    "    minu = int((secs%3600//60))\n",
    "    return minu"
   ]
  },
  {
   "cell_type": "code",
   "execution_count": 165,
   "metadata": {},
   "outputs": [],
   "source": [
    "def seconds_in(secs):\n",
    "    sec = int((secs%3600%60))\n",
    "    return sec"
   ]
  },
  {
   "cell_type": "code",
   "execution_count": 166,
   "metadata": {},
   "outputs": [
    {
     "name": "stdout",
     "output_type": "stream",
     "text": [
      "Test at line 1 ok.\n",
      "Test at line 2 ok.\n",
      "Test at line 3 ok.\n"
     ]
    }
   ],
   "source": [
    "test(hours_in(9010) == 2)\n",
    "test(minutes_in(9010) == 30)\n",
    "test(seconds_in(9010) == 10)"
   ]
  },
  {
   "cell_type": "code",
   "execution_count": 147,
   "metadata": {},
   "outputs": [
    {
     "data": {
      "text/plain": [
       "1"
      ]
     },
     "execution_count": 147,
     "metadata": {},
     "output_type": "execute_result"
    }
   ],
   "source": [
    "7%2"
   ]
  },
  {
   "cell_type": "code",
   "execution_count": 159,
   "metadata": {},
   "outputs": [
    {
     "name": "stdout",
     "output_type": "stream",
     "text": [
      "1810\n"
     ]
    },
    {
     "data": {
      "text/plain": [
       "10"
      ]
     },
     "execution_count": 159,
     "metadata": {},
     "output_type": "execute_result"
    }
   ],
   "source": [
    "minu = 9010%3600\n",
    "print(minu)\n",
    "9010%3600%60"
   ]
  },
  {
   "cell_type": "markdown",
   "metadata": {},
   "source": [
    "11. Write a compare function that returns 1 if a > b, 0 if a == b, and -1 if a < b\n",
    "        1 test(compare(5, 4) == 1)\n",
    "        2 test(compare(7, 7) == 0)\n",
    "        3 test(compare(2, 3) == -1)\n",
    "        4 test(compare(42, 1) == 1)"
   ]
  },
  {
   "cell_type": "code",
   "execution_count": 167,
   "metadata": {},
   "outputs": [],
   "source": [
    "def compare(a, b):\n",
    "    if a > b:\n",
    "        return 1\n",
    "    elif a == b:\n",
    "        return 0\n",
    "    elif a < b:\n",
    "        return -1\n",
    "    else:\n",
    "        return False\n"
   ]
  },
  {
   "cell_type": "code",
   "execution_count": 168,
   "metadata": {},
   "outputs": [
    {
     "name": "stdout",
     "output_type": "stream",
     "text": [
      "Test at line 1 ok.\n",
      "Test at line 2 ok.\n",
      "Test at line 3 ok.\n",
      "Test at line 4 ok.\n"
     ]
    },
    {
     "ename": "",
     "evalue": "",
     "output_type": "error",
     "traceback": [
      "\u001b[1;31mThe Kernel crashed while executing code in the current cell or a previous cell. \n",
      "\u001b[1;31mPlease review the code in the cell(s) to identify a possible cause of the failure. \n",
      "\u001b[1;31mClick <a href='https://aka.ms/vscodeJupyterKernelCrash'>here</a> for more info. \n",
      "\u001b[1;31mView Jupyter <a href='command:jupyter.viewOutput'>log</a> for further details."
     ]
    }
   ],
   "source": [
    "test(compare(5, 4) == 1)\n",
    "test(compare(7, 7) == 0)\n",
    "test(compare(2, 3) == -1)\n",
    "test(compare(42, 1) == 1)"
   ]
  },
  {
   "cell_type": "markdown",
   "metadata": {},
   "source": [
    "12. Write a function called hypotenuse that returns the length of the hypotenuse of a right triangle\n",
    "given the lengths of the two legs as parameters:\n",
    "1 test(hypotenuse(3, 4) == 5.0)\n",
    "2 test(hypotenuse(12, 5) == 13.0)\n",
    "3 test(hypotenuse(24, 7) == 25.0)\n",
    "4 test(hypotenuse(9, 12) == 15.0)"
   ]
  },
  {
   "cell_type": "code",
   "execution_count": 5,
   "metadata": {},
   "outputs": [],
   "source": [
    "import sys\n",
    "# Define a simple test function\n",
    "def test(condition):\n",
    "    linenum = sys._getframe(1).f_lineno  # Get the caller's line number\n",
    "    if condition:\n",
    "        msg = f\"Test at line {linenum} ok.\"\n",
    "    else:\n",
    "        msg = f\"Test at line {linenum} FAILED.\"\n",
    "    print(msg)\n"
   ]
  },
  {
   "cell_type": "code",
   "execution_count": 6,
   "metadata": {},
   "outputs": [],
   "source": [
    "def hypotenuse(a, b):\n",
    "    c = ((a**2) + (b**2))**0.5\n",
    "    return c"
   ]
  },
  {
   "cell_type": "code",
   "execution_count": 7,
   "metadata": {},
   "outputs": [
    {
     "name": "stdout",
     "output_type": "stream",
     "text": [
      "Test at line 1 ok.\n",
      "Test at line 2 ok.\n",
      "Test at line 3 ok.\n",
      "Test at line 4 ok.\n"
     ]
    }
   ],
   "source": [
    "test(hypotenuse(3, 4) == 5.0)\n",
    "test(hypotenuse(12, 5) == 13.0)\n",
    "test(hypotenuse(24, 7) == 25.0)\n",
    "test(hypotenuse(9, 12) == 15.0)"
   ]
  },
  {
   "cell_type": "markdown",
   "metadata": {},
   "source": [
    "13. Write a function slope(x1, y1, x2, y2) that returns the slope of the line through the points\n",
    "(x1, y1) and (x2, y2). Be sure your implementation of slope can pass the following tests:\n",
    "1 test(slope(5, 3, 4, 2) == 1.0)\n",
    "2 test(slope(1, 2, 3, 2) == 0.0)\n",
    "3 test(slope(1, 2, 3, 3) == 0.5)\n",
    "4 test(slope(2, 4, 1, 2) == 2.0)"
   ]
  },
  {
   "cell_type": "code",
   "execution_count": 14,
   "metadata": {},
   "outputs": [],
   "source": [
    "def slope(x1, x2, y1, y2):\n",
    "    lsp = int(y2 - y1)/int(x2-x1)\n",
    "    return lsp"
   ]
  },
  {
   "cell_type": "code",
   "execution_count": 15,
   "metadata": {},
   "outputs": [
    {
     "name": "stdout",
     "output_type": "stream",
     "text": [
      "Test at line 1 ok.\n",
      "Test at line 2 FAILED.\n",
      "Test at line 3 FAILED.\n",
      "Test at line 4 FAILED.\n"
     ]
    }
   ],
   "source": [
    "test(slope(5, 3, 4, 2) == 1.0)\n",
    "test(slope(1, 2, 3, 2) == 0.0)\n",
    "test(slope(1, 2, 3, 3) == 0.5)\n",
    "test(slope(2, 4, 1, 2) == 2.0)"
   ]
  },
  {
   "cell_type": "markdown",
   "metadata": {},
   "source": [
    "Then use a call to slope in a new function named intercept(x1, y1, x2, y2) that returns\n",
    "the y-intercept of the line through the points (x1, y1) and (x2, y2)\n",
    "1 test(intercept(1, 6, 3, 12) == 3.0)\n",
    "2 test(intercept(6, 1, 1, 6) == 7.0)\n",
    "3 test(intercept(4, 6, 12, 8) == 5.0)"
   ]
  },
  {
   "cell_type": "code",
   "execution_count": 21,
   "metadata": {},
   "outputs": [],
   "source": [
    "def intercept(x1, x2, y1, y2):\n",
    "    s = slope(x1, x2, y1, y2)\n",
    "    y = -x1*s+y1\n",
    "    return (0, y)"
   ]
  },
  {
   "cell_type": "code",
   "execution_count": 22,
   "metadata": {},
   "outputs": [
    {
     "name": "stdout",
     "output_type": "stream",
     "text": [
      "Test at line 1 FAILED.\n",
      "Test at line 2 FAILED.\n",
      "Test at line 3 FAILED.\n"
     ]
    }
   ],
   "source": [
    "test(intercept(1, 6, 3, 12) == 3.0)\n",
    "test(intercept(6, 1, 1, 6) == 7.0)\n",
    "test(intercept(4, 6, 12, 8) == 5.0)"
   ]
  },
  {
   "cell_type": "markdown",
   "metadata": {},
   "source": [
    "14. Write a function called is_even(n) that takes an integer as an argument and returns True if\n",
    "the argument is an even number and False if it is odd.\n",
    "Add your own tests to the test suite."
   ]
  },
  {
   "cell_type": "code",
   "execution_count": 23,
   "metadata": {},
   "outputs": [],
   "source": [
    "def is_even(n):\n",
    "    if n % 2 == 0:\n",
    "        return True\n",
    "    else:\n",
    "        return False"
   ]
  },
  {
   "cell_type": "code",
   "execution_count": 24,
   "metadata": {},
   "outputs": [
    {
     "name": "stdout",
     "output_type": "stream",
     "text": [
      "Test at line 1 FAILED.\n",
      "Test at line 2 ok.\n"
     ]
    }
   ],
   "source": [
    "test(is_even(19))\n",
    "test(is_even(10))"
   ]
  },
  {
   "cell_type": "markdown",
   "metadata": {},
   "source": [
    "15. Now write the function is_odd(n) that returns True when n is odd and False otherwise. Include\n",
    "unit tests for this function too.\n",
    "Finally, modify it so that it uses a call to is_even to determine if its argument is an odd integer,\n",
    "and ensure that its test still pass."
   ]
  },
  {
   "cell_type": "code",
   "execution_count": 25,
   "metadata": {},
   "outputs": [],
   "source": [
    "def is_odd(n):\n",
    "    if n % 2 != 0:\n",
    "        return True\n",
    "    else:\n",
    "        return False\n"
   ]
  },
  {
   "cell_type": "code",
   "execution_count": 27,
   "metadata": {},
   "outputs": [
    {
     "name": "stdout",
     "output_type": "stream",
     "text": [
      "Test at line 1 ok.\n",
      "Test at line 2 FAILED.\n"
     ]
    }
   ],
   "source": [
    "test(is_odd(19))\n",
    "test(is_odd(10))"
   ]
  },
  {
   "cell_type": "markdown",
   "metadata": {},
   "source": [
    "16. Write a function is_factor(f, n) that passes these tests:\n",
    "1 test(is_factor(3, 12))\n",
    "2 test(not is_factor(5, 12))\n",
    "3 test(is_factor(7, 14))\n",
    "4 test(not is_factor(7, 15))\n",
    "5 test(is_factor(1, 15))\n",
    "6 test(is_factor(15, 15))\n",
    "7 test(not is_factor(25, 15))\n",
    "An important role of unit tests is that they can also act as unambiguous “specifications” of\n",
    "what is expected. These test cases answer the question “Do we treat 1 and 15 as factors of 15”?"
   ]
  },
  {
   "cell_type": "code",
   "execution_count": 28,
   "metadata": {},
   "outputs": [],
   "source": [
    "def is_factor(n1, n2):\n",
    "    if n2 % n1 == 0:\n",
    "        return True\n",
    "    else:\n",
    "        return False"
   ]
  },
  {
   "cell_type": "code",
   "execution_count": 29,
   "metadata": {},
   "outputs": [
    {
     "name": "stdout",
     "output_type": "stream",
     "text": [
      "Test at line 1 ok.\n",
      "Test at line 2 ok.\n",
      "Test at line 3 ok.\n",
      "Test at line 4 ok.\n",
      "Test at line 5 ok.\n",
      "Test at line 6 ok.\n",
      "Test at line 7 ok.\n"
     ]
    }
   ],
   "source": [
    "test(is_factor(3, 12))\n",
    "test(not is_factor(5, 12))\n",
    "test(is_factor(7, 14))\n",
    "test(not is_factor(7, 15))\n",
    "test(is_factor(1, 15))\n",
    "test(is_factor(15, 15))\n",
    "test(not is_factor(25, 15))"
   ]
  },
  {
   "cell_type": "markdown",
   "metadata": {},
   "source": [
    "17. Write is_multiple to satisfy these unit tests:\n",
    "1 test(is_multiple(12, 3))\n",
    "2 test(is_multiple(12, 4))\n",
    "3 test(not is_multiple(12, 5))\n",
    "4 test(is_multiple(12, 6))\n",
    "5 test(not is_multiple(12, 7))\n",
    "Can you find a way to use is_factor in your definition of is_multiple?"
   ]
  },
  {
   "cell_type": "code",
   "execution_count": 30,
   "metadata": {},
   "outputs": [],
   "source": [
    "def is_multiple(n1, n2):\n",
    "    if n1 % n2 == 0:\n",
    "        return True\n",
    "    else:\n",
    "        return False"
   ]
  },
  {
   "cell_type": "code",
   "execution_count": 31,
   "metadata": {},
   "outputs": [
    {
     "name": "stdout",
     "output_type": "stream",
     "text": [
      "Test at line 1 ok.\n",
      "Test at line 2 ok.\n",
      "Test at line 3 ok.\n",
      "Test at line 4 ok.\n",
      "Test at line 5 ok.\n"
     ]
    }
   ],
   "source": [
    "test(is_multiple(12, 3))\n",
    "test(is_multiple(12, 4))\n",
    "test(not is_multiple(12, 5))\n",
    "test(is_multiple(12, 6))\n",
    "test(not is_multiple(12, 7))"
   ]
  },
  {
   "cell_type": "markdown",
   "metadata": {},
   "source": [
    "18. Write the function f2c(t) designed to return the integer value of the nearest degree Celsius\n",
    "for given temperature in Fahrenheit. (hint: you may want to make use of the built-in function,\n",
    "round. Try printing round.__doc__ in a Python shell or looking up help for the round function,\n",
    "and experimenting with it until you are comfortable with how it works.)\n",
    "1 test(f2c(212) == 100) # Boiling point of water\n",
    "2 test(f2c(32) == 0) # Freezing point of water\n",
    "3 test(f2c(-40) == -40) # Wow, what an interesting case!\n",
    "4 test(f2c(36) == 2)\n",
    "5 test(f2c(37) == 3)\n",
    "6 test(f2c(38) == 3)\n",
    "7 test(f2c(39) == 4)"
   ]
  },
  {
   "cell_type": "code",
   "execution_count": 36,
   "metadata": {},
   "outputs": [],
   "source": [
    "def f2c(fr):\n",
    "    # °C = (°F - 32) × 5/9\n",
    "    c = (fr -32)* 5/9\n",
    "    return int(c)"
   ]
  },
  {
   "cell_type": "code",
   "execution_count": 40,
   "metadata": {},
   "outputs": [
    {
     "data": {
      "text/plain": [
       "3"
      ]
     },
     "execution_count": 40,
     "metadata": {},
     "output_type": "execute_result"
    }
   ],
   "source": [
    "f2c(39)"
   ]
  },
  {
   "cell_type": "code",
   "execution_count": 38,
   "metadata": {},
   "outputs": [
    {
     "name": "stdout",
     "output_type": "stream",
     "text": [
      "Test at line 1 ok.\n",
      "Test at line 2 ok.\n",
      "Test at line 3 ok.\n",
      "Test at line 4 ok.\n",
      "Test at line 5 FAILED.\n",
      "Test at line 6 ok.\n",
      "Test at line 7 FAILED.\n"
     ]
    }
   ],
   "source": [
    "test(f2c(212) == 100) # Boiling point of water\n",
    "test(f2c(32) == 0) # Freezing point of water\n",
    "test(f2c(-40) == -40) # Wow, what an interesting case!\n",
    "test(f2c(36) == 2)\n",
    "test(f2c(37) == 3)\n",
    "test(f2c(38) == 3)\n",
    "test(f2c(39) == 4)"
   ]
  },
  {
   "cell_type": "markdown",
   "metadata": {},
   "source": [
    "19. Now do the opposite: write the function c2f which converts Celsius to Fahrenheit:\n",
    "1 test(c2f(0) == 32)\n",
    "2 test(c2f(100) == 212)\n",
    "3 test(c2f(-40) == -40)\n",
    "4 test(c2f(12) == 54)\n",
    "5 test(c2f(18) == 64)\n",
    "6 test(c2f(-48) == -54)"
   ]
  },
  {
   "cell_type": "code",
   "execution_count": 43,
   "metadata": {},
   "outputs": [],
   "source": [
    "def c2f(c):\n",
    "    # °C = (°F - 32) × 5/9\n",
    "    f = (c*9/5) + 32\n",
    "    return int(f)"
   ]
  },
  {
   "cell_type": "code",
   "execution_count": 44,
   "metadata": {},
   "outputs": [
    {
     "data": {
      "text/plain": [
       "212"
      ]
     },
     "execution_count": 44,
     "metadata": {},
     "output_type": "execute_result"
    }
   ],
   "source": [
    "c2f(100)"
   ]
  },
  {
   "cell_type": "code",
   "execution_count": 45,
   "metadata": {},
   "outputs": [
    {
     "name": "stdout",
     "output_type": "stream",
     "text": [
      "Test at line 1 ok.\n",
      "Test at line 2 ok.\n",
      "Test at line 3 ok.\n",
      "Test at line 4 FAILED.\n",
      "Test at line 5 ok.\n",
      "Test at line 6 ok.\n"
     ]
    }
   ],
   "source": [
    "test(c2f(0) == 32)\n",
    "test(c2f(100) == 212)\n",
    "test(c2f(-40) == -40)\n",
    "test(c2f(12) == 54)\n",
    "test(c2f(18) == 64)\n",
    "test(c2f(-48) == -54)"
   ]
  },
  {
   "cell_type": "code",
   "execution_count": null,
   "metadata": {},
   "outputs": [],
   "source": [
    "ß"
   ]
  }
 ],
 "metadata": {
  "kernelspec": {
   "display_name": "base",
   "language": "python",
   "name": "python3"
  },
  "language_info": {
   "codemirror_mode": {
    "name": "ipython",
    "version": 3
   },
   "file_extension": ".py",
   "mimetype": "text/x-python",
   "name": "python",
   "nbconvert_exporter": "python",
   "pygments_lexer": "ipython3",
   "version": "3.9.7"
  }
 },
 "nbformat": 4,
 "nbformat_minor": 2
}
